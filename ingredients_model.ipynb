{
 "cells": [
  {
   "cell_type": "code",
   "execution_count": 151,
   "id": "cd9eea94-a213-4a5f-9a3c-cb1ba990ffa2",
   "metadata": {},
   "outputs": [],
   "source": [
    "import polars as pl\n",
    "import io\n",
    "import numpy as np\n",
    "from PIL import Image\n",
    "from sklearn.model_selection import train_test_split\n",
    "from sklearn.preprocessing import LabelBinarizer\n",
    "\n",
    "# Scuccorese food ingredients data set \n",
    "df = pl.read_parquet('hf://datasets/Scuccorese/food-ingredients-dataset/data/train-*.parquet')\n",
    "\n",
    "# Preprocessing Data Frame\n",
    "df = df.drop('category', 'subcategory')\n",
    "# Unnesting the image binary and ingredient\n",
    "df = df.unnest(\"image\").select(pl.col(\"ingredient\"), pl.col(\"bytes\").alias(\"image\"))"
   ]
  },
  {
   "cell_type": "code",
   "execution_count": 152,
   "id": "7db46ebb-a025-4802-b5c5-7254b1b54d9c",
   "metadata": {
    "scrolled": true
   },
   "outputs": [],
   "source": [
    "# Dataset contains images in these unique image formats: {'JPEG', 'GIF', 'PNG', 'WEBP'}.\n",
    "# For simplifying model building and improving training all file formats will be converted\n",
    "# to webp. Using webp is preferred because webp images have smaller file sizes while retaining\n",
    "# or improving image quality compared to JPEG and PNG.\n",
    "\n",
    "def convert_to_webp(image_bytes):\n",
    "    with Image.open(io.BytesIO(image_bytes)) as im:\n",
    "        # Check if the image has transparency\n",
    "        if im.mode == \"P\":  # Palette-based (e.g., GIFs)\n",
    "            im = im.convert(\"RGBA\")\n",
    "        elif im.mode != \"RGB\":  # For other non-RGB formats\n",
    "            im = im.convert(\"RGB\")\n",
    "        \n",
    "        # Save the image to WebP format in memory\n",
    "        output = io.BytesIO()\n",
    "        im.save(output, format='WEBP')\n",
    "        return output.getvalue()\n",
    "\n",
    "# Mapping over the image col to convert all images to a webp format.\n",
    "df = df.with_columns(\n",
    "    pl.col(\"image\").map_elements(convert_to_webp, return_dtype=pl.Binary)\n",
    ")"
   ]
  },
  {
   "cell_type": "code",
   "execution_count": 153,
   "id": "4b0bb69b-761f-46c4-8b20-05e9dc993913",
   "metadata": {},
   "outputs": [],
   "source": [
    "# Function to decode webp into nparrays.\n",
    "def decode_image(image_bytes):\n",
    "    img = Image.open(io.BytesIO(image_bytes)).convert('RGB')  # Ensure 3 channels\n",
    "    img = img.resize((128, 128))  # Resize to a standard size\n",
    "    img_array = np.array(img) / 255.0  # Normalize to [0, 1]\n",
    "    return img_array\n",
    "\n",
    "# Mapping over the image col to convert all images binary to a nparrays.\n",
    "df = df.with_columns(\n",
    "    pl.col(\"image\").map_elements(decode_image, return_dtype=pl.Object)\n",
    ")"
   ]
  },
  {
   "cell_type": "code",
   "execution_count": 171,
   "id": "a688b95d-7d2f-4063-8b6d-378051e5cb34",
   "metadata": {},
   "outputs": [
    {
     "name": "stdout",
     "output_type": "stream",
     "text": [
      "Label Mapping: {'adzuki beans': 0, 'all-purpose flour': 1, 'allspice': 2, 'almond flour': 3, 'amaranth': 4, 'apricot': 5, 'arugula': 6, 'asparagus': 7, 'avocado': 8, 'avocado oil': 9, 'bamboo shoots': 10, 'banana': 11, 'barley': 12, 'beef': 13, 'beet': 14, 'beluga lentils': 15, 'bergamot': 16, 'bison': 17, 'black beans': 18, 'black cherry': 19, 'black lentils': 20, 'black olives': 21, 'black salt': 22, 'black sapote': 23, 'black-eyed peas': 24, 'blackberry': 25, 'blueberry': 26, 'bok choy': 27, 'boysenberry': 28, 'bread flour': 29, 'breadfruit': 30, 'broccoli': 31, 'broccoli stem': 32, 'brown lentils': 33, 'brown sugar': 34, 'brussels sprouts': 35, 'buckwheat': 36, 'buffalo': 37, 'bulgur': 38, 'cabbage': 39, 'cake flour': 40, 'cane sugar': 41, 'canned anchovies': 42, 'canned apples': 43, 'canned apricots': 44, 'canned artichoke hearts': 45, 'canned baked beans': 46, 'canned beets': 47, 'canned black beans': 48, 'canned cannellini beans': 49, 'canned carrots': 50, 'canned cherries': 51, 'canned chickpeas': 52, 'canned clams': 53, 'canned corn': 54, 'canned crab': 55, 'canned fruit cocktail': 56, 'canned green beans': 57, 'canned kidney beans': 58, 'canned lima beans': 59, 'canned lychee': 60, 'canned mackerel': 61, 'canned mandarin oranges': 62, 'canned mango': 63, 'canned mushrooms': 64, 'canned navy beans': 65, 'canned olives': 66, 'canned oysters': 67, 'canned peaches': 68, 'canned pears': 69, 'canned peas': 70, 'canned pineapples': 71, 'canned pinto beans': 72, 'canned pumpkin': 73, 'canned refried beans': 74, 'canned salmon': 75, 'canned sardines': 76, 'canned shrimp': 77, 'canned tomatoes': 78, 'canned trout': 79, 'canned tuna': 80, 'cannellini beans': 81, 'canola oil': 82, 'cardamom': 83, 'caribou': 84, 'carrot': 85, 'castelvetrano olives': 86, 'cauliflower': 87, 'celeriac': 88, 'celery': 89, 'celtic salt': 90, 'cerignola olives': 91, 'chard stalk': 92, 'cherimoya': 93, 'cherry': 94, 'chia': 95, 'chicken': 96, 'chickpeas': 97, 'chive': 98, 'cinnamon': 99, 'clove': 100, 'coconut': 101, 'coconut flour': 102, 'coconut oil': 103, 'coconut sugar': 104, 'cod': 105, 'collard greens': 106, 'coriander': 107, 'corn grits': 108, 'cornmeal': 109, 'couscous': 110, 'crab': 111, 'cracked wheat': 112, 'cranberry': 113, 'cumin': 114, 'daikon': 115, 'date sugar': 116, 'deer': 117, 'demerara sugar': 118, 'dragon fruit': 119, 'duck': 120, 'durian': 121, 'einkorn': 122, 'elderberry': 123, 'elephant garlic': 124, 'elk': 125, 'emmer': 126, 'farfalle': 127, 'farro': 128, 'fava beans': 129, 'fennel': 130, 'fettuccine': 131, 'field peas': 132, 'flaky salt': 133, 'flaxseed oil': 134, 'freekeh': 135, 'french lentils': 136, 'fusilli': 137, 'gaeta olives': 138, 'garlic': 139, 'ginger': 140, 'gluten-free flour': 141, 'goat': 142, 'goji berry': 143, 'golden lentils': 144, 'goose': 145, 'grapefruit': 146, 'grapeseed oil': 147, 'green lentils': 148, 'green olives': 149, 'green onion': 150, 'green peas': 151, 'grouse': 152, 'guava': 153, 'guinea fowl': 154, 'haddock': 155, 'huckleberry': 156, 'iodized salt': 157, 'jackfruit': 158, 'jarred artichokes': 159, 'jarred capers': 160, 'jarred horseradish': 161, 'jarred olives': 162, 'jarred pasta sauce': 163, 'jarred peppers': 164, 'jarred pesto': 165, 'jarred pickles': 166, 'jarred salsa': 167, 'jarred sun-dried tomatoes': 168, 'kalamata olives': 169, 'kale': 170, 'kamut': 171, 'kidney beans': 172, 'kiwi': 173, 'kohlrabi': 174, 'kosher salt': 175, 'kumquat': 176, 'lamb': 177, 'lasagna': 178, 'leek': 179, 'lemon': 180, 'lemongrass': 181, 'lettuce': 182, 'ligurian olives': 183, 'lima beans': 184, 'lime': 185, 'linguine': 186, 'lobster': 187, 'lychee': 188, 'macaroni': 189, 'mackerel': 190, 'mandarin': 191, 'mango': 192, 'manzanilla olives': 193, 'millet': 194, 'mulberry': 195, 'mung beans': 196, 'muscovado sugar': 197, 'mustard greens': 198, 'mutton': 199, 'navy beans': 200, 'nectarine': 201, 'nicoise olives': 202, 'nutmeg': 203, 'oat flour': 204, 'oats': 205, 'octopus': 206, 'olive oil': 207, 'onion': 208, 'orange': 209, 'orange lentils': 210, 'ostrich': 211, 'papaya': 212, 'paprika': 213, 'parsnip': 214, 'partridge': 215, 'passion fruit': 216, 'pasta': 217, 'pawpaw': 218, 'peach': 219, 'peanut oil': 220, 'pearl onion': 221, 'penne': 222, 'pheasant': 223, 'picholine olives': 224, 'pickling salt': 225, 'pigeon peas': 226, 'pineapple': 227, 'pink salt': 228, 'pinto beans': 229, 'plum': 230, 'pluot': 231, 'polenta': 232, 'pomelo': 233, 'pork': 234, 'potato': 235, 'powdered sugar': 236, 'quail': 237, 'quinoa': 238, 'rabbit': 239, 'radicchio': 240, 'radish': 241, 'ramps': 242, 'raspberry': 243, 'raw sugar': 244, 'red lentils': 245, 'rhubarb': 246, 'rice': 247, 'rigatoni': 248, 'romaine': 249, 'rotini': 250, 'rutabaga': 251, 'rye flour': 252, 'salmon': 253, 'santol': 254, 'sapote': 255, 'savoy cabbage': 256, 'scallion': 257, 'scallop': 258, 'sea salt': 259, 'self-rising flour': 260, 'semolina': 261, 'sesame oil': 262, 'shallot': 263, 'shrimp': 264, 'smoked salt': 265, 'snap peas': 266, 'snow peas': 267, 'sorghum': 268, 'sour cherry': 269, 'soursop': 270, 'soybeans': 271, 'spaghetti': 272, 'spanish pardina lentils': 273, 'spelt': 274, 'spinach': 275, 'split peas': 276, 'spring onion': 277, 'sprouted adzuki beans': 278, 'sprouted black beans': 279, 'sprouted chickpeas': 280, 'sprouted green peas': 281, 'sprouted kidney beans': 282, 'sprouted lentils': 283, 'sprouted mung beans': 284, 'sprouted navy beans': 285, 'sprouted pinto beans': 286, 'sprouted soybeans': 287, 'squab': 288, 'squirrel': 289, 'strawberry': 290, 'sunflower oil': 291, 'sweet potato': 292, 'swiss chard': 293, 'table salt': 294, 'tangerine': 295, 'teff': 296, 'tuna': 297, 'turbinado sugar': 298, 'turkey': 299, 'turmeric': 300, 'turnip': 301, 'vegetable oil': 302, 'venison': 303, 'watercress': 304, 'wheat bran': 305, 'white flour': 306, 'white peach': 307, 'white peas': 308, 'white rice': 309, 'white sugar': 310, 'whole wheat flour': 311, 'wild boar': 312, 'yellow lentils': 313, 'yellow peas': 314, 'yuzu': 315}\n",
      "Epoch 1/10\n"
     ]
    },
    {
     "name": "stderr",
     "output_type": "stream",
     "text": [
      "/opt/anaconda3/lib/python3.12/site-packages/keras/src/layers/convolutional/base_conv.py:107: UserWarning: Do not pass an `input_shape`/`input_dim` argument to a layer. When using Sequential models, prefer using an `Input(shape)` object as the first layer in the model instead.\n",
      "  super().__init__(activity_regularizer=activity_regularizer, **kwargs)\n"
     ]
    },
    {
     "name": "stdout",
     "output_type": "stream",
     "text": [
      "\u001b[1m167/167\u001b[0m \u001b[32m━━━━━━━━━━━━━━━━━━━━\u001b[0m\u001b[37m\u001b[0m \u001b[1m55s\u001b[0m 322ms/step - accuracy: 0.0075 - loss: 5.8789 - val_accuracy: 0.0105 - val_loss: 5.7085\n",
      "Epoch 2/10\n",
      "\u001b[1m167/167\u001b[0m \u001b[32m━━━━━━━━━━━━━━━━━━━━\u001b[0m\u001b[37m\u001b[0m \u001b[1m55s\u001b[0m 327ms/step - accuracy: 0.0294 - loss: 5.5212 - val_accuracy: 0.0599 - val_loss: 5.1312\n",
      "Epoch 3/10\n",
      "\u001b[1m167/167\u001b[0m \u001b[32m━━━━━━━━━━━━━━━━━━━━\u001b[0m\u001b[37m\u001b[0m \u001b[1m55s\u001b[0m 326ms/step - accuracy: 0.1717 - loss: 4.2403 - val_accuracy: 0.1272 - val_loss: 4.7775\n",
      "Epoch 4/10\n",
      "\u001b[1m167/167\u001b[0m \u001b[32m━━━━━━━━━━━━━━━━━━━━\u001b[0m\u001b[37m\u001b[0m \u001b[1m55s\u001b[0m 330ms/step - accuracy: 0.5107 - loss: 2.2786 - val_accuracy: 0.2096 - val_loss: 5.0596\n",
      "Epoch 5/10\n",
      "\u001b[1m167/167\u001b[0m \u001b[32m━━━━━━━━━━━━━━━━━━━━\u001b[0m\u001b[37m\u001b[0m \u001b[1m55s\u001b[0m 330ms/step - accuracy: 0.8013 - loss: 0.9474 - val_accuracy: 0.2268 - val_loss: 5.7599\n",
      "Epoch 6/10\n",
      "\u001b[1m167/167\u001b[0m \u001b[32m━━━━━━━━━━━━━━━━━━━━\u001b[0m\u001b[37m\u001b[0m \u001b[1m55s\u001b[0m 328ms/step - accuracy: 0.9284 - loss: 0.4229 - val_accuracy: 0.2440 - val_loss: 6.2473\n",
      "Epoch 7/10\n",
      "\u001b[1m167/167\u001b[0m \u001b[32m━━━━━━━━━━━━━━━━━━━━\u001b[0m\u001b[37m\u001b[0m \u001b[1m55s\u001b[0m 329ms/step - accuracy: 0.9661 - loss: 0.2185 - val_accuracy: 0.2530 - val_loss: 6.3890\n",
      "Epoch 8/10\n",
      "\u001b[1m167/167\u001b[0m \u001b[32m━━━━━━━━━━━━━━━━━━━━\u001b[0m\u001b[37m\u001b[0m \u001b[1m56s\u001b[0m 335ms/step - accuracy: 0.9770 - loss: 0.1385 - val_accuracy: 0.2530 - val_loss: 6.5272\n",
      "Epoch 9/10\n",
      "\u001b[1m167/167\u001b[0m \u001b[32m━━━━━━━━━━━━━━━━━━━━\u001b[0m\u001b[37m\u001b[0m \u001b[1m56s\u001b[0m 332ms/step - accuracy: 0.9794 - loss: 0.1154 - val_accuracy: 0.2507 - val_loss: 6.3473\n",
      "Epoch 10/10\n",
      "\u001b[1m167/167\u001b[0m \u001b[32m━━━━━━━━━━━━━━━━━━━━\u001b[0m\u001b[37m\u001b[0m \u001b[1m55s\u001b[0m 331ms/step - accuracy: 0.9838 - loss: 0.0844 - val_accuracy: 0.2522 - val_loss: 6.0211\n"
     ]
    },
    {
     "data": {
      "text/plain": [
       "<keras.src.callbacks.history.History at 0x31b0b1a30>"
      ]
     },
     "execution_count": 171,
     "metadata": {},
     "output_type": "execute_result"
    }
   ],
   "source": [
    "import tensorflow as tf\n",
    "from sklearn.model_selection import train_test_split\n",
    "from sklearn.preprocessing import LabelEncoder, OneHotEncoder\n",
    "\n",
    "# Extract features (images) and labels (ingredients)\n",
    "images = df[\"image\"].to_list()  # Convert to a numpy array\n",
    "labels = df[\"ingredient\"].to_list()\n",
    "\n",
    "# Encode the labels (ingredients) to integers\n",
    "label_encoder = LabelEncoder()\n",
    "encoded_labels = label_encoder.fit_transform(labels)\n",
    "\n",
    "# One-hot encode the labels\n",
    "one_hot_encoder = OneHotEncoder(sparse_output=False)\n",
    "one_hot_labels = one_hot_encoder.fit_transform(encoded_labels.reshape(-1, 1))\n",
    "\n",
    "# Split into training and testing sets\n",
    "X_train, X_test, y_train, y_test = train_test_split(images, one_hot_labels, test_size=0.2, random_state=42)\n",
    "\n",
    "# Convert to TensorFlow datasets\n",
    "train_dataset = tf.data.Dataset.from_tensor_slices((X_train, y_train)).batch(32).shuffle(buffer_size=1000)\n",
    "test_dataset = tf.data.Dataset.from_tensor_slices((X_test, y_test)).batch(32)\n",
    "\n",
    "# Check the label mapping for reference\n",
    "label_mapping = dict(zip(label_encoder.classes_, range(len(label_encoder.classes_))))\n",
    "#print(\"Label Mapping:\", label_mapping)\n",
    "\n",
    "# Example TensorFlow CNN model\n",
    "model = tf.keras.Sequential([\n",
    "    tf.keras.layers.Conv2D(32, (3, 3), activation='relu', input_shape=(128, 128, 3)),\n",
    "    tf.keras.layers.MaxPooling2D((2, 2)),\n",
    "    tf.keras.layers.Conv2D(64, (3, 3), activation='relu'),\n",
    "    tf.keras.layers.MaxPooling2D((2, 2)),\n",
    "    tf.keras.layers.Flatten(),\n",
    "    tf.keras.layers.Dense(128, activation='relu'),\n",
    "    tf.keras.layers.Dense(len(label_mapping), activation='softmax')\n",
    "])\n",
    "\n",
    "model.compile(optimizer='adam',\n",
    "              loss='categorical_crossentropy',\n",
    "              metrics=['accuracy'])\n",
    "\n",
    "# Train the model\n",
    "model.fit(train_dataset, validation_data=test_dataset, epochs=10)"
   ]
  },
  {
   "cell_type": "code",
   "execution_count": 173,
   "id": "ca09877c-dc18-4ffd-add3-e09be643c2fa",
   "metadata": {},
   "outputs": [
    {
     "name": "stdout",
     "output_type": "stream",
     "text": [
      "\u001b[1m42/42\u001b[0m \u001b[32m━━━━━━━━━━━━━━━━━━━━\u001b[0m\u001b[37m\u001b[0m \u001b[1m4s\u001b[0m 89ms/step - accuracy: 0.2494 - loss: 6.0404\n",
      "Test Loss: 6.021127223968506\n",
      "Test Accuracy: 0.2522455155849457\n"
     ]
    }
   ],
   "source": [
    "test_loss, test_accuracy = model.evaluate(test_dataset)\n",
    "\n",
    "print(f\"Test Loss: {test_loss}\")\n",
    "print(f\"Test Accuracy: {test_accuracy}\")"
   ]
  },
  {
   "cell_type": "code",
   "execution_count": null,
   "id": "ab5ac62c-e7fc-4322-88af-57165225e90d",
   "metadata": {},
   "outputs": [],
   "source": []
  }
 ],
 "metadata": {
  "kernelspec": {
   "display_name": "Python 3 (ipykernel)",
   "language": "python",
   "name": "python3"
  },
  "language_info": {
   "codemirror_mode": {
    "name": "ipython",
    "version": 3
   },
   "file_extension": ".py",
   "mimetype": "text/x-python",
   "name": "python",
   "nbconvert_exporter": "python",
   "pygments_lexer": "ipython3",
   "version": "3.12.4"
  }
 },
 "nbformat": 4,
 "nbformat_minor": 5
}
