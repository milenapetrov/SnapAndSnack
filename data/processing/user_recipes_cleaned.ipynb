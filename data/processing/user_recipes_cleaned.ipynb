{
 "cells": [
  {
   "cell_type": "code",
   "execution_count": 1,
   "metadata": {},
   "outputs": [
    {
     "name": "stderr",
     "output_type": "stream",
     "text": [
      "/var/folders/v4/z9gfg1l93j39zzt3rr809y400000gn/T/ipykernel_32964/3298818424.py:7: DtypeWarning: Columns (1,2,4,5,6,7,8,9,10,11,12,13,14,27,28) have mixed types. Specify dtype option on import or set low_memory=False.\n",
      "  user_recipe_df = pd.read_csv(\"../raw/recipes.csv\")\n"
     ]
    },
    {
     "name": "stdout",
     "output_type": "stream",
     "text": [
      "   RecipeId Barcode                               Name  AuthorId  \\\n",
      "0      38.0    *38*  Low-Fat Berry Blue Frozen Dessert    1533.0   \n",
      "1      39.0    *39*                            Biryani    1567.0   \n",
      "2      40.0    *40*                      Best Lemonade    1566.0   \n",
      "3      41.0    *41*     Carina's Tofu-Vegetable Kebabs    1586.0   \n",
      "4      42.0    *42*                       Cabbage Soup    1538.0   \n",
      "\n",
      "       AuthorName CookTime PrepTime TotalTime         DatePublished  \\\n",
      "0          Dancer    PT24H    PT45M  PT24H45M  1999-08-09T21:46:00Z   \n",
      "1        elly9812    PT25M     PT4H   PT4H25M  1999-08-29T13:12:00Z   \n",
      "2  Stephen Little     PT5M    PT30M     PT35M  1999-09-05T19:52:00Z   \n",
      "3         Cyclopz    PT20M    PT24H  PT24H20M  1999-09-03T14:54:00Z   \n",
      "4       Duckie067    PT30M    PT20M     PT50M  1999-09-19T06:19:00Z   \n",
      "\n",
      "                                         Description  ... SaturatedFatContent  \\\n",
      "0  Make and share this Low-Fat Berry Blue Frozen ...  ...                 1.3   \n",
      "1  Make and share this Biryani recipe from Food.com.  ...                16.6   \n",
      "2  This is from one of my  first Good House Keepi...  ...                 0.0   \n",
      "3  This dish is best prepared a day in advance to...  ...                 3.8   \n",
      "4  Make and share this Cabbage Soup recipe from F...  ...                 0.1   \n",
      "\n",
      "  CholesterolContent SodiumContent CarbohydrateContent FiberContent  \\\n",
      "0                8.0          29.8                37.1          3.6   \n",
      "1              372.8         368.4                84.4          9.0   \n",
      "2                0.0           1.8                81.5          0.4   \n",
      "3                0.0        1558.6                64.2         17.3   \n",
      "4                0.0         959.3                25.1          4.8   \n",
      "\n",
      "   SugarContent  ProteinContent  RecipeServings  RecipeYield  \\\n",
      "0          30.2             3.2             4.0          NaN   \n",
      "1          20.4            63.4             6.0          NaN   \n",
      "2          77.2             0.3             4.0          NaN   \n",
      "3          32.1            29.3             2.0     4 kebabs   \n",
      "4          17.7             4.3             4.0          NaN   \n",
      "\n",
      "                                  RecipeInstructions  \n",
      "0  c(\"Toss 2 cups berries with sugar.\", \"Let stan...  \n",
      "1  c(\"Soak saffron in warm milk for 5 minutes and...  \n",
      "2  c(\"Into a 1 quart Jar with tight fitting lid, ...  \n",
      "3  c(\"Drain the tofu, carefully squeezing out exc...  \n",
      "4  c(\"Mix everything together and bring to a boil...  \n",
      "\n",
      "[5 rows x 29 columns]\n"
     ]
    }
   ],
   "source": [
    "import pandas as pd\n",
    "import numpy as np\n",
    "import seaborn as sns\n",
    "import matplotlib.pyplot as plt\n",
    "from sklearn.preprocessing import LabelEncoder\n",
    "\n",
    "user_recipe_df = pd.read_csv(\"../raw/recipes.csv\")\n",
    "\n",
    "print(user_recipe_df.head())\n",
    "\n",
    "## clean dataset, use final dataframe in training notebook\n"
   ]
  }
 ],
 "metadata": {
  "kernelspec": {
   "display_name": "py11_DBMS",
   "language": "python",
   "name": "py11_dbms"
  },
  "language_info": {
   "codemirror_mode": {
    "name": "ipython",
    "version": 3
   },
   "file_extension": ".py",
   "mimetype": "text/x-python",
   "name": "python",
   "nbconvert_exporter": "python",
   "pygments_lexer": "ipython3",
   "version": "3.11.9"
  }
 },
 "nbformat": 4,
 "nbformat_minor": 2
}
