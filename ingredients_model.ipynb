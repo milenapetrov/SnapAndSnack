{
 "cells": [
  {
   "cell_type": "code",
   "execution_count": 123,
   "id": "cd9eea94-a213-4a5f-9a3c-cb1ba990ffa2",
   "metadata": {},
   "outputs": [],
   "source": [
    "import polars as pl\n",
    "import io\n",
    "import numpy as np\n",
    "from PIL import Image\n",
    "from sklearn.model_selection import train_test_split\n",
    "from sklearn.preprocessing import LabelBinarizer\n",
    "\n",
    "# Scuccorese food ingredients data set \n",
    "df = pl.read_parquet('hf://datasets/Scuccorese/food-ingredients-dataset/data/train-*.parquet')\n",
    "\n",
    "# Preprocessing Data Frame\n",
    "df = df.drop('category', 'subcategory')\n",
    "# Unnesting the image binary and ingredient\n",
    "df = df.unnest(\"image\").select(pl.col(\"ingredient\"), pl.col(\"bytes\").alias(\"image\"))"
   ]
  },
  {
   "cell_type": "code",
   "execution_count": 129,
   "id": "7db46ebb-a025-4802-b5c5-7254b1b54d9c",
   "metadata": {
    "scrolled": true
   },
   "outputs": [],
   "source": [
    "# Dataset contains images in these unique image formats: {'JPEG', 'GIF', 'PNG', 'WEBP'}.\n",
    "# For simplifying model building and improving training all file formats will be converted\n",
    "# to webp. Using webp is preferred because webp images have smaller file sizes while retaining\n",
    "# or improving image quality compared to JPEG and PNG.\n",
    "\n",
    "def convert_to_webp(image_bytes):\n",
    "    with Image.open(io.BytesIO(image_bytes)) as im:\n",
    "        # Check if the image has transparency\n",
    "        if im.mode == \"P\":  # Palette-based (e.g., GIFs)\n",
    "            im = im.convert(\"RGBA\")\n",
    "        elif im.mode != \"RGB\":  # For other non-RGB formats\n",
    "            im = im.convert(\"RGB\")\n",
    "        \n",
    "        # Save the image to WebP format in memory\n",
    "        output = io.BytesIO()\n",
    "        im.save(output, format='WEBP')\n",
    "        return output.getvalue()\n",
    "\n",
    "# Mapping over the image col to convert all images to a webp format.\n",
    "df = df.with_columns(\n",
    "    pl.col(\"image\").map_elements(convert_to_webp, return_dtype=pl.Binary)\n",
    ")"
   ]
  },
  {
   "cell_type": "code",
   "execution_count": 135,
   "id": "4b0bb69b-761f-46c4-8b20-05e9dc993913",
   "metadata": {},
   "outputs": [],
   "source": [
    "# Function to decode webp into nparrays.\n",
    "def decode_image(image_bytes):\n",
    "    img = Image.open(io.BytesIO(image_bytes)).convert('RGB')  # Ensure 3 channels\n",
    "    img = img.resize((128, 128))  # Resize to a standard size\n",
    "    img_array = np.array(img) / 255.0  # Normalize to [0, 1]\n",
    "    return img_array\n",
    "\n",
    "# Mapping over the image col to convert all images binary to a nparrays.\n",
    "df = df.with_columns(\n",
    "    pl.col(\"image\").map_elements(decode_image, return_dtype=pl.Object)\n",
    ")"
   ]
  },
  {
   "cell_type": "code",
   "execution_count": 137,
   "id": "46a66b6f-583b-40cd-8314-35221745db3d",
   "metadata": {},
   "outputs": [
    {
     "name": "stdout",
     "output_type": "stream",
     "text": [
      "shape: (6_676, 2)\n",
      "┌───────────────┬─────────────────────────────────┐\n",
      "│ ingredient    ┆ image                           │\n",
      "│ ---           ┆ ---                             │\n",
      "│ str           ┆ object                          │\n",
      "╞═══════════════╪═════════════════════════════════╡\n",
      "│ spinach       ┆ [[[0.71764706 0.82352941 0.654… │\n",
      "│ spinach       ┆ [[[0.9372549  0.85098039 0.725… │\n",
      "│ spinach       ┆ [[[0.99607843 0.99607843 0.996… │\n",
      "│ spinach       ┆ [[[0.29803922 0.25098039 0.243… │\n",
      "│ spinach       ┆ [[[0.73333333 0.75294118 0.647… │\n",
      "│ …             ┆ …                               │\n",
      "│ pickling salt ┆ [[[1. 1. 1.]                    │\n",
      "│               ┆   [1. 1. 1.]                    │\n",
      "│               ┆   [1…                           │\n",
      "│ pickling salt ┆ [[[1. 1. 1.]                    │\n",
      "│               ┆   [1. 1. 1.]                    │\n",
      "│               ┆   [1…                           │\n",
      "│ pickling salt ┆ [[[1. 1. 1.]                    │\n",
      "│               ┆   [1. 1. 1.]                    │\n",
      "│               ┆   [1…                           │\n",
      "│ pickling salt ┆ [[[1. 1. 1.]                    │\n",
      "│               ┆   [1. 1. 1.]                    │\n",
      "│               ┆   [1…                           │\n",
      "│ pickling salt ┆ [[[1. 1. 1.]                    │\n",
      "│               ┆   [1. 1. 1.]                    │\n",
      "│               ┆   [1…                           │\n",
      "└───────────────┴─────────────────────────────────┘\n"
     ]
    }
   ],
   "source": [
    "print(df)"
   ]
  },
  {
   "cell_type": "code",
   "execution_count": null,
   "id": "a688b95d-7d2f-4063-8b6d-378051e5cb34",
   "metadata": {},
   "outputs": [],
   "source": []
  }
 ],
 "metadata": {
  "kernelspec": {
   "display_name": "Python 3 (ipykernel)",
   "language": "python",
   "name": "python3"
  },
  "language_info": {
   "codemirror_mode": {
    "name": "ipython",
    "version": 3
   },
   "file_extension": ".py",
   "mimetype": "text/x-python",
   "name": "python",
   "nbconvert_exporter": "python",
   "pygments_lexer": "ipython3",
   "version": "3.12.4"
  }
 },
 "nbformat": 4,
 "nbformat_minor": 5
}
