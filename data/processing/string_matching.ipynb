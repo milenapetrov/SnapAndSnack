{
 "cells": [
  {
   "cell_type": "markdown",
   "metadata": {},
   "source": [
    "## Clean recipe data"
   ]
  },
  {
   "cell_type": "code",
   "execution_count": null,
   "metadata": {},
   "outputs": [
    {
     "name": "stderr",
     "output_type": "stream",
     "text": [
      "C:\\Users\\james\\AppData\\Local\\Packages\\PythonSoftwareFoundation.Python.3.9_qbz5n2kfra8p0\\LocalCache\\local-packages\\Python39\\site-packages\\fuzzywuzzy\\fuzz.py:11: UserWarning: Using slow pure-python SequenceMatcher. Install python-Levenshtein to remove this warning\n",
      "  warnings.warn('Using slow pure-python SequenceMatcher. Install python-Levenshtein to remove this warning')\n",
      "C:\\Users\\james\\AppData\\Local\\Temp\\ipykernel_5960\\2022180778.py:13: DtypeWarning: Columns (1,2,4,5,6,7,8,9,10,11,12,13,14,27,28) have mixed types. Specify dtype option on import or set low_memory=False.\n",
      "  user_recipe_df = pd.read_csv(\"../raw/recipes.csv\")\n"
     ]
    },
    {
     "name": "stdout",
     "output_type": "stream",
     "text": [
      "First few rows: \n",
      "\n"
     ]
    },
    {
     "data": {
      "text/html": [
       "<div>\n",
       "<style scoped>\n",
       "    .dataframe tbody tr th:only-of-type {\n",
       "        vertical-align: middle;\n",
       "    }\n",
       "\n",
       "    .dataframe tbody tr th {\n",
       "        vertical-align: top;\n",
       "    }\n",
       "\n",
       "    .dataframe thead th {\n",
       "        text-align: right;\n",
       "    }\n",
       "</style>\n",
       "<table border=\"1\" class=\"dataframe\">\n",
       "  <thead>\n",
       "    <tr style=\"text-align: right;\">\n",
       "      <th></th>\n",
       "      <th>RecipeId</th>\n",
       "      <th>Barcode</th>\n",
       "      <th>Name</th>\n",
       "      <th>AuthorId</th>\n",
       "      <th>AuthorName</th>\n",
       "      <th>CookTime</th>\n",
       "      <th>PrepTime</th>\n",
       "      <th>TotalTime</th>\n",
       "      <th>DatePublished</th>\n",
       "      <th>Description</th>\n",
       "      <th>Images</th>\n",
       "      <th>RecipeCategory</th>\n",
       "      <th>Keywords</th>\n",
       "      <th>RecipeIngredientQuantities</th>\n",
       "      <th>RecipeIngredientParts</th>\n",
       "      <th>AggregatedRating</th>\n",
       "      <th>ReviewCount</th>\n",
       "      <th>Calories</th>\n",
       "      <th>FatContent</th>\n",
       "      <th>SaturatedFatContent</th>\n",
       "      <th>CholesterolContent</th>\n",
       "      <th>SodiumContent</th>\n",
       "      <th>CarbohydrateContent</th>\n",
       "      <th>FiberContent</th>\n",
       "      <th>SugarContent</th>\n",
       "      <th>ProteinContent</th>\n",
       "      <th>RecipeServings</th>\n",
       "      <th>RecipeYield</th>\n",
       "      <th>RecipeInstructions</th>\n",
       "    </tr>\n",
       "  </thead>\n",
       "  <tbody>\n",
       "    <tr>\n",
       "      <th>0</th>\n",
       "      <td>38.0</td>\n",
       "      <td>*38*</td>\n",
       "      <td>Low-Fat Berry Blue Frozen Dessert</td>\n",
       "      <td>1533.0</td>\n",
       "      <td>Dancer</td>\n",
       "      <td>PT24H</td>\n",
       "      <td>PT45M</td>\n",
       "      <td>PT24H45M</td>\n",
       "      <td>1999-08-09T21:46:00Z</td>\n",
       "      <td>Make and share this Low-Fat Berry Blue Frozen ...</td>\n",
       "      <td>c(\"https://img.sndimg.com/food/image/upload/w_...</td>\n",
       "      <td>Frozen Desserts</td>\n",
       "      <td>c(\"Dessert\", \"Low Protein\", \"Low Cholesterol\",...</td>\n",
       "      <td>c(\"4\", \"1/4\", \"1\", \"1\")</td>\n",
       "      <td>c(\"blueberries\", \"granulated sugar\", \"vanilla ...</td>\n",
       "      <td>4.5</td>\n",
       "      <td>4.0</td>\n",
       "      <td>170.9</td>\n",
       "      <td>2.5</td>\n",
       "      <td>1.3</td>\n",
       "      <td>8.0</td>\n",
       "      <td>29.8</td>\n",
       "      <td>37.1</td>\n",
       "      <td>3.6</td>\n",
       "      <td>30.2</td>\n",
       "      <td>3.2</td>\n",
       "      <td>4.0</td>\n",
       "      <td>NaN</td>\n",
       "      <td>c(\"Toss 2 cups berries with sugar.\", \"Let stan...</td>\n",
       "    </tr>\n",
       "    <tr>\n",
       "      <th>1</th>\n",
       "      <td>39.0</td>\n",
       "      <td>*39*</td>\n",
       "      <td>Biryani</td>\n",
       "      <td>1567.0</td>\n",
       "      <td>elly9812</td>\n",
       "      <td>PT25M</td>\n",
       "      <td>PT4H</td>\n",
       "      <td>PT4H25M</td>\n",
       "      <td>1999-08-29T13:12:00Z</td>\n",
       "      <td>Make and share this Biryani recipe from Food.com.</td>\n",
       "      <td>c(\"https://img.sndimg.com/food/image/upload/w_...</td>\n",
       "      <td>Chicken Breast</td>\n",
       "      <td>c(\"Chicken Thigh &amp; Leg\", \"Chicken\", \"Poultry\",...</td>\n",
       "      <td>c(\"1\", \"4\", \"2\", \"2\", \"8\", \"1/4\", \"8\", \"1/2\", ...</td>\n",
       "      <td>c(\"saffron\", \"milk\", \"hot green chili peppers\"...</td>\n",
       "      <td>3.0</td>\n",
       "      <td>1.0</td>\n",
       "      <td>1110.7</td>\n",
       "      <td>58.8</td>\n",
       "      <td>16.6</td>\n",
       "      <td>372.8</td>\n",
       "      <td>368.4</td>\n",
       "      <td>84.4</td>\n",
       "      <td>9.0</td>\n",
       "      <td>20.4</td>\n",
       "      <td>63.4</td>\n",
       "      <td>6.0</td>\n",
       "      <td>NaN</td>\n",
       "      <td>c(\"Soak saffron in warm milk for 5 minutes and...</td>\n",
       "    </tr>\n",
       "    <tr>\n",
       "      <th>2</th>\n",
       "      <td>40.0</td>\n",
       "      <td>*40*</td>\n",
       "      <td>Best Lemonade</td>\n",
       "      <td>1566.0</td>\n",
       "      <td>Stephen Little</td>\n",
       "      <td>PT5M</td>\n",
       "      <td>PT30M</td>\n",
       "      <td>PT35M</td>\n",
       "      <td>1999-09-05T19:52:00Z</td>\n",
       "      <td>This is from one of my  first Good House Keepi...</td>\n",
       "      <td>c(\"https://img.sndimg.com/food/image/upload/w_...</td>\n",
       "      <td>Beverages</td>\n",
       "      <td>c(\"Low Protein\", \"Low Cholesterol\", \"Healthy\",...</td>\n",
       "      <td>c(\"1 1/2\", \"1\", NA, \"1 1/2\", NA, \"3/4\")</td>\n",
       "      <td>c(\"sugar\", \"lemons, rind of\", \"lemon, zest of\"...</td>\n",
       "      <td>4.5</td>\n",
       "      <td>10.0</td>\n",
       "      <td>311.1</td>\n",
       "      <td>0.2</td>\n",
       "      <td>0.0</td>\n",
       "      <td>0.0</td>\n",
       "      <td>1.8</td>\n",
       "      <td>81.5</td>\n",
       "      <td>0.4</td>\n",
       "      <td>77.2</td>\n",
       "      <td>0.3</td>\n",
       "      <td>4.0</td>\n",
       "      <td>NaN</td>\n",
       "      <td>c(\"Into a 1 quart Jar with tight fitting lid, ...</td>\n",
       "    </tr>\n",
       "    <tr>\n",
       "      <th>3</th>\n",
       "      <td>41.0</td>\n",
       "      <td>*41*</td>\n",
       "      <td>Carina's Tofu-Vegetable Kebabs</td>\n",
       "      <td>1586.0</td>\n",
       "      <td>Cyclopz</td>\n",
       "      <td>PT20M</td>\n",
       "      <td>PT24H</td>\n",
       "      <td>PT24H20M</td>\n",
       "      <td>1999-09-03T14:54:00Z</td>\n",
       "      <td>This dish is best prepared a day in advance to...</td>\n",
       "      <td>c(\"https://img.sndimg.com/food/image/upload/w_...</td>\n",
       "      <td>Soy/Tofu</td>\n",
       "      <td>c(\"Beans\", \"Vegetable\", \"Low Cholesterol\", \"We...</td>\n",
       "      <td>c(\"12\", \"1\", \"2\", \"1\", \"10\", \"1\", \"3\", \"2\", \"2...</td>\n",
       "      <td>c(\"extra firm tofu\", \"eggplant\", \"zucchini\", \"...</td>\n",
       "      <td>4.5</td>\n",
       "      <td>2.0</td>\n",
       "      <td>536.1</td>\n",
       "      <td>24.0</td>\n",
       "      <td>3.8</td>\n",
       "      <td>0.0</td>\n",
       "      <td>1558.6</td>\n",
       "      <td>64.2</td>\n",
       "      <td>17.3</td>\n",
       "      <td>32.1</td>\n",
       "      <td>29.3</td>\n",
       "      <td>2.0</td>\n",
       "      <td>4 kebabs</td>\n",
       "      <td>c(\"Drain the tofu, carefully squeezing out exc...</td>\n",
       "    </tr>\n",
       "    <tr>\n",
       "      <th>4</th>\n",
       "      <td>42.0</td>\n",
       "      <td>*42*</td>\n",
       "      <td>Cabbage Soup</td>\n",
       "      <td>1538.0</td>\n",
       "      <td>Duckie067</td>\n",
       "      <td>PT30M</td>\n",
       "      <td>PT20M</td>\n",
       "      <td>PT50M</td>\n",
       "      <td>1999-09-19T06:19:00Z</td>\n",
       "      <td>Make and share this Cabbage Soup recipe from F...</td>\n",
       "      <td>\"https://img.sndimg.com/food/image/upload/w_55...</td>\n",
       "      <td>Vegetable</td>\n",
       "      <td>c(\"Low Protein\", \"Vegan\", \"Low Cholesterol\", \"...</td>\n",
       "      <td>c(\"46\", \"4\", \"1\", \"2\", \"1\")</td>\n",
       "      <td>c(\"plain tomato juice\", \"cabbage\", \"onion\", \"c...</td>\n",
       "      <td>4.5</td>\n",
       "      <td>11.0</td>\n",
       "      <td>103.6</td>\n",
       "      <td>0.4</td>\n",
       "      <td>0.1</td>\n",
       "      <td>0.0</td>\n",
       "      <td>959.3</td>\n",
       "      <td>25.1</td>\n",
       "      <td>4.8</td>\n",
       "      <td>17.7</td>\n",
       "      <td>4.3</td>\n",
       "      <td>4.0</td>\n",
       "      <td>NaN</td>\n",
       "      <td>c(\"Mix everything together and bring to a boil...</td>\n",
       "    </tr>\n",
       "  </tbody>\n",
       "</table>\n",
       "</div>"
      ],
      "text/plain": [
       "   RecipeId Barcode                               Name  AuthorId  \\\n",
       "0      38.0    *38*  Low-Fat Berry Blue Frozen Dessert    1533.0   \n",
       "1      39.0    *39*                            Biryani    1567.0   \n",
       "2      40.0    *40*                      Best Lemonade    1566.0   \n",
       "3      41.0    *41*     Carina's Tofu-Vegetable Kebabs    1586.0   \n",
       "4      42.0    *42*                       Cabbage Soup    1538.0   \n",
       "\n",
       "       AuthorName CookTime PrepTime TotalTime         DatePublished  \\\n",
       "0          Dancer    PT24H    PT45M  PT24H45M  1999-08-09T21:46:00Z   \n",
       "1        elly9812    PT25M     PT4H   PT4H25M  1999-08-29T13:12:00Z   \n",
       "2  Stephen Little     PT5M    PT30M     PT35M  1999-09-05T19:52:00Z   \n",
       "3         Cyclopz    PT20M    PT24H  PT24H20M  1999-09-03T14:54:00Z   \n",
       "4       Duckie067    PT30M    PT20M     PT50M  1999-09-19T06:19:00Z   \n",
       "\n",
       "                                         Description  \\\n",
       "0  Make and share this Low-Fat Berry Blue Frozen ...   \n",
       "1  Make and share this Biryani recipe from Food.com.   \n",
       "2  This is from one of my  first Good House Keepi...   \n",
       "3  This dish is best prepared a day in advance to...   \n",
       "4  Make and share this Cabbage Soup recipe from F...   \n",
       "\n",
       "                                              Images   RecipeCategory  \\\n",
       "0  c(\"https://img.sndimg.com/food/image/upload/w_...  Frozen Desserts   \n",
       "1  c(\"https://img.sndimg.com/food/image/upload/w_...   Chicken Breast   \n",
       "2  c(\"https://img.sndimg.com/food/image/upload/w_...        Beverages   \n",
       "3  c(\"https://img.sndimg.com/food/image/upload/w_...         Soy/Tofu   \n",
       "4  \"https://img.sndimg.com/food/image/upload/w_55...        Vegetable   \n",
       "\n",
       "                                            Keywords  \\\n",
       "0  c(\"Dessert\", \"Low Protein\", \"Low Cholesterol\",...   \n",
       "1  c(\"Chicken Thigh & Leg\", \"Chicken\", \"Poultry\",...   \n",
       "2  c(\"Low Protein\", \"Low Cholesterol\", \"Healthy\",...   \n",
       "3  c(\"Beans\", \"Vegetable\", \"Low Cholesterol\", \"We...   \n",
       "4  c(\"Low Protein\", \"Vegan\", \"Low Cholesterol\", \"...   \n",
       "\n",
       "                          RecipeIngredientQuantities  \\\n",
       "0                            c(\"4\", \"1/4\", \"1\", \"1\")   \n",
       "1  c(\"1\", \"4\", \"2\", \"2\", \"8\", \"1/4\", \"8\", \"1/2\", ...   \n",
       "2            c(\"1 1/2\", \"1\", NA, \"1 1/2\", NA, \"3/4\")   \n",
       "3  c(\"12\", \"1\", \"2\", \"1\", \"10\", \"1\", \"3\", \"2\", \"2...   \n",
       "4                        c(\"46\", \"4\", \"1\", \"2\", \"1\")   \n",
       "\n",
       "                               RecipeIngredientParts  AggregatedRating  \\\n",
       "0  c(\"blueberries\", \"granulated sugar\", \"vanilla ...               4.5   \n",
       "1  c(\"saffron\", \"milk\", \"hot green chili peppers\"...               3.0   \n",
       "2  c(\"sugar\", \"lemons, rind of\", \"lemon, zest of\"...               4.5   \n",
       "3  c(\"extra firm tofu\", \"eggplant\", \"zucchini\", \"...               4.5   \n",
       "4  c(\"plain tomato juice\", \"cabbage\", \"onion\", \"c...               4.5   \n",
       "\n",
       "   ReviewCount  Calories  FatContent  SaturatedFatContent  CholesterolContent  \\\n",
       "0          4.0     170.9         2.5                  1.3                 8.0   \n",
       "1          1.0    1110.7        58.8                 16.6               372.8   \n",
       "2         10.0     311.1         0.2                  0.0                 0.0   \n",
       "3          2.0     536.1        24.0                  3.8                 0.0   \n",
       "4         11.0     103.6         0.4                  0.1                 0.0   \n",
       "\n",
       "   SodiumContent  CarbohydrateContent  FiberContent  SugarContent  \\\n",
       "0           29.8                 37.1           3.6          30.2   \n",
       "1          368.4                 84.4           9.0          20.4   \n",
       "2            1.8                 81.5           0.4          77.2   \n",
       "3         1558.6                 64.2          17.3          32.1   \n",
       "4          959.3                 25.1           4.8          17.7   \n",
       "\n",
       "   ProteinContent  RecipeServings RecipeYield  \\\n",
       "0             3.2             4.0         NaN   \n",
       "1            63.4             6.0         NaN   \n",
       "2             0.3             4.0         NaN   \n",
       "3            29.3             2.0    4 kebabs   \n",
       "4             4.3             4.0         NaN   \n",
       "\n",
       "                                  RecipeInstructions  \n",
       "0  c(\"Toss 2 cups berries with sugar.\", \"Let stan...  \n",
       "1  c(\"Soak saffron in warm milk for 5 minutes and...  \n",
       "2  c(\"Into a 1 quart Jar with tight fitting lid, ...  \n",
       "3  c(\"Drain the tofu, carefully squeezing out exc...  \n",
       "4  c(\"Mix everything together and bring to a boil...  "
      ]
     },
     "metadata": {},
     "output_type": "display_data"
    }
   ],
   "source": [
    "import pandas as pd\n",
    "import numpy as np\n",
    "import seaborn as sns\n",
    "import matplotlib.pyplot as plt\n",
    "from sklearn.preprocessing import LabelEncoder\n",
    "from IPython.display import display, Image, HTML\n",
    "import re\n",
    "from fuzzywuzzy import fuzz, process\n",
    "from collections import defaultdict\n",
    "from fractions import Fraction\n",
    "\n",
    "\n",
    "user_recipe_df = pd.read_csv(\"../raw/recipes.csv\")\n",
    "\n",
    "#displays all columns of df instead of truncating\n",
    "pd.set_option('display.max_columns', None)\n",
    "\n",
    "print(\"First few rows: \\n\")\n",
    "display(user_recipe_df.head())\n",
    "\n",
    "## remove duplicates \n",
    "#### removing nulls makes shape of recipe df go from 1048543 to 44 (prob cus not all recipes have associated images); omitting####\n",
    "user_recipe_df = user_recipe_df.drop_duplicates()\n",
    "\n",
    "# print(user_recipe_df.shape)\n",
    "\n",
    "## check for and remove anomolies only if using user_food_df\n",
    "def anomaly_detection(df, columns):\n",
    "    for column in columns:\n",
    "        row = df[column]\n",
    "        Q1 = row.quantile(0.25)\n",
    "        Q3 = row.quantile(0.75)\n",
    "        IQR = Q3 - Q1\n",
    "\n",
    "        lower_bound = Q1 - 1.5 * IQR\n",
    "        upper_bound = Q3 + 1.5 * IQR\n",
    "        \n",
    "        anomalies = df[(row < lower_bound) | (row > upper_bound)]\n",
    "        #print(f'\\n\\nNumber of anomalies in {column}: ', len(anomalies))\n",
    "\n",
    "        df_anomaly_free = df[(row >= lower_bound) & (row <= upper_bound)]\n",
    "        #print(f'\\n\\nNumber of anomaly-free in {column}: ', len(df), '\\n\\n')\n",
    "    \n",
    "    return df_anomaly_free\n",
    "\n",
    "columns_to_check = ['RecipeId', 'Calories', 'FatContent', 'SaturatedFatContent', 'CholesterolContent', \n",
    "                    'SodiumContent', 'CarbohydrateContent', 'FiberContent', 'SugarContent', 'ProteinContent', \n",
    "                    'RecipeServings']\n",
    "\n",
    "\n",
    "clean_recipe_df = anomaly_detection(user_recipe_df, columns_to_check)\n",
    "#gets rid of setting with copy warning\n",
    "clean_recipe_df = clean_recipe_df.copy()\n"
   ]
  },
  {
   "cell_type": "markdown",
   "metadata": {},
   "source": [
    "## Convert data types of columns used into lists. Import model and convert predicted output into list."
   ]
  },
  {
   "cell_type": "code",
   "execution_count": null,
   "metadata": {},
   "outputs": [
    {
     "name": "stderr",
     "output_type": "stream",
     "text": [
      "WARNING:absl:Compiled the loaded model, but the compiled metrics have yet to be built. `model.compile_metrics` will be empty until you train or evaluate the model.\n"
     ]
    },
    {
     "name": "stdout",
     "output_type": "stream",
     "text": [
      "Error downloading image 1 for extra firm tofu: Invalid URL '/images/branding/searchlogo/1x/googlelogo_desk_heirloom_color_150x55dp.gif': No scheme supplied. Perhaps you meant https:///images/branding/searchlogo/1x/googlelogo_desk_heirloom_color_150x55dp.gif?\n",
      "Downloaded 20 images for 'extra firm tofu' into 'scraped_images'\n",
      "Error downloading image 1 for eggplant: Invalid URL '/images/branding/searchlogo/1x/googlelogo_desk_heirloom_color_150x55dp.gif': No scheme supplied. Perhaps you meant https:///images/branding/searchlogo/1x/googlelogo_desk_heirloom_color_150x55dp.gif?\n",
      "Downloaded 20 images for 'eggplant' into 'scraped_images'\n",
      "Error downloading image 1 for zucchini: Invalid URL '/images/branding/searchlogo/1x/googlelogo_desk_heirloom_color_150x55dp.gif': No scheme supplied. Perhaps you meant https:///images/branding/searchlogo/1x/googlelogo_desk_heirloom_color_150x55dp.gif?\n",
      "Downloaded 20 images for 'zucchini' into 'scraped_images'\n",
      "Error downloading image 1 for mushrooms: Invalid URL '/images/branding/searchlogo/1x/googlelogo_desk_heirloom_color_150x55dp.gif': No scheme supplied. Perhaps you meant https:///images/branding/searchlogo/1x/googlelogo_desk_heirloom_color_150x55dp.gif?\n",
      "Downloaded 20 images for 'mushrooms' into 'scraped_images'\n",
      "Error downloading image 1 for soy sauce: Invalid URL '/images/branding/searchlogo/1x/googlelogo_desk_heirloom_color_150x55dp.gif': No scheme supplied. Perhaps you meant https:///images/branding/searchlogo/1x/googlelogo_desk_heirloom_color_150x55dp.gif?\n",
      "Downloaded 20 images for 'soy sauce' into 'scraped_images'\n",
      "Error downloading image 1 for olive oil: Invalid URL '/images/branding/searchlogo/1x/googlelogo_desk_heirloom_color_150x55dp.gif': No scheme supplied. Perhaps you meant https:///images/branding/searchlogo/1x/googlelogo_desk_heirloom_color_150x55dp.gif?\n",
      "Downloaded 20 images for 'olive oil' into 'scraped_images'\n",
      "Error downloading image 1 for maple syrup: Invalid URL '/images/branding/searchlogo/1x/googlelogo_desk_heirloom_color_150x55dp.gif': No scheme supplied. Perhaps you meant https:///images/branding/searchlogo/1x/googlelogo_desk_heirloom_color_150x55dp.gif?\n",
      "Downloaded 20 images for 'maple syrup' into 'scraped_images'\n",
      "Error downloading image 1 for honey: Invalid URL '/images/branding/searchlogo/1x/googlelogo_desk_heirloom_color_150x55dp.gif': No scheme supplied. Perhaps you meant https:///images/branding/searchlogo/1x/googlelogo_desk_heirloom_color_150x55dp.gif?\n",
      "Downloaded 20 images for 'honey' into 'scraped_images'\n",
      "Error downloading image 1 for red wine vinegar: Invalid URL '/images/branding/searchlogo/1x/googlelogo_desk_heirloom_color_150x55dp.gif': No scheme supplied. Perhaps you meant https:///images/branding/searchlogo/1x/googlelogo_desk_heirloom_color_150x55dp.gif?\n",
      "Downloaded 19 images for 'red wine vinegar' into 'scraped_images'\n",
      "Error downloading image 1 for lemon juice: Invalid URL '/images/branding/searchlogo/1x/googlelogo_desk_heirloom_color_150x55dp.gif': No scheme supplied. Perhaps you meant https:///images/branding/searchlogo/1x/googlelogo_desk_heirloom_color_150x55dp.gif?\n",
      "Downloaded 20 images for 'lemon juice' into 'scraped_images'\n",
      "Error downloading image 1 for garlic cloves: Invalid URL '/images/branding/searchlogo/1x/googlelogo_desk_heirloom_color_150x55dp.gif': No scheme supplied. Perhaps you meant https:///images/branding/searchlogo/1x/googlelogo_desk_heirloom_color_150x55dp.gif?\n",
      "Downloaded 20 images for 'garlic cloves' into 'scraped_images'\n",
      "Error downloading image 1 for mustard powder: Invalid URL '/images/branding/searchlogo/1x/googlelogo_desk_heirloom_color_150x55dp.gif': No scheme supplied. Perhaps you meant https:///images/branding/searchlogo/1x/googlelogo_desk_heirloom_color_150x55dp.gif?\n",
      "Downloaded 20 images for 'mustard powder' into 'scraped_images'\n",
      "Error downloading image 1 for black pepper: Invalid URL '/images/branding/searchlogo/1x/googlelogo_desk_heirloom_color_150x55dp.gif': No scheme supplied. Perhaps you meant https:///images/branding/searchlogo/1x/googlelogo_desk_heirloom_color_150x55dp.gif?\n",
      "Downloaded 20 images for 'black pepper' into 'scraped_images'\n",
      "\u001b[1m1/1\u001b[0m \u001b[32m━━━━━━━━━━━━━━━━━━━━\u001b[0m\u001b[37m\u001b[0m \u001b[1m0s\u001b[0m 140ms/step\n",
      "\u001b[1m1/1\u001b[0m \u001b[32m━━━━━━━━━━━━━━━━━━━━\u001b[0m\u001b[37m\u001b[0m \u001b[1m0s\u001b[0m 46ms/step\n",
      "\u001b[1m1/1\u001b[0m \u001b[32m━━━━━━━━━━━━━━━━━━━━\u001b[0m\u001b[37m\u001b[0m \u001b[1m0s\u001b[0m 51ms/step\n",
      "\u001b[1m1/1\u001b[0m \u001b[32m━━━━━━━━━━━━━━━━━━━━\u001b[0m\u001b[37m\u001b[0m \u001b[1m0s\u001b[0m 47ms/step\n",
      "\u001b[1m1/1\u001b[0m \u001b[32m━━━━━━━━━━━━━━━━━━━━\u001b[0m\u001b[37m\u001b[0m \u001b[1m0s\u001b[0m 47ms/step\n",
      "\u001b[1m1/1\u001b[0m \u001b[32m━━━━━━━━━━━━━━━━━━━━\u001b[0m\u001b[37m\u001b[0m \u001b[1m0s\u001b[0m 49ms/step\n",
      "\u001b[1m1/1\u001b[0m \u001b[32m━━━━━━━━━━━━━━━━━━━━\u001b[0m\u001b[37m\u001b[0m \u001b[1m0s\u001b[0m 46ms/step\n",
      "\u001b[1m1/1\u001b[0m \u001b[32m━━━━━━━━━━━━━━━━━━━━\u001b[0m\u001b[37m\u001b[0m \u001b[1m0s\u001b[0m 47ms/step\n",
      "\u001b[1m1/1\u001b[0m \u001b[32m━━━━━━━━━━━━━━━━━━━━\u001b[0m\u001b[37m\u001b[0m \u001b[1m0s\u001b[0m 46ms/step\n",
      "\u001b[1m1/1\u001b[0m \u001b[32m━━━━━━━━━━━━━━━━━━━━\u001b[0m\u001b[37m\u001b[0m \u001b[1m0s\u001b[0m 48ms/step\n",
      "\u001b[1m1/1\u001b[0m \u001b[32m━━━━━━━━━━━━━━━━━━━━\u001b[0m\u001b[37m\u001b[0m \u001b[1m0s\u001b[0m 54ms/step\n",
      "\u001b[1m1/1\u001b[0m \u001b[32m━━━━━━━━━━━━━━━━━━━━\u001b[0m\u001b[37m\u001b[0m \u001b[1m0s\u001b[0m 56ms/step\n",
      "\u001b[1m1/1\u001b[0m \u001b[32m━━━━━━━━━━━━━━━━━━━━\u001b[0m\u001b[37m\u001b[0m \u001b[1m0s\u001b[0m 53ms/step\n",
      "\u001b[1m1/1\u001b[0m \u001b[32m━━━━━━━━━━━━━━━━━━━━\u001b[0m\u001b[37m\u001b[0m \u001b[1m0s\u001b[0m 51ms/step\n",
      "\u001b[1m1/1\u001b[0m \u001b[32m━━━━━━━━━━━━━━━━━━━━\u001b[0m\u001b[37m\u001b[0m \u001b[1m0s\u001b[0m 55ms/step\n",
      "\u001b[1m1/1\u001b[0m \u001b[32m━━━━━━━━━━━━━━━━━━━━\u001b[0m\u001b[37m\u001b[0m \u001b[1m0s\u001b[0m 46ms/step\n",
      "\u001b[1m1/1\u001b[0m \u001b[32m━━━━━━━━━━━━━━━━━━━━\u001b[0m\u001b[37m\u001b[0m \u001b[1m0s\u001b[0m 59ms/step\n",
      "\u001b[1m1/1\u001b[0m \u001b[32m━━━━━━━━━━━━━━━━━━━━\u001b[0m\u001b[37m\u001b[0m \u001b[1m0s\u001b[0m 105ms/step\n",
      "\u001b[1m1/1\u001b[0m \u001b[32m━━━━━━━━━━━━━━━━━━━━\u001b[0m\u001b[37m\u001b[0m \u001b[1m0s\u001b[0m 52ms/step\n",
      "\u001b[1m1/1\u001b[0m \u001b[32m━━━━━━━━━━━━━━━━━━━━\u001b[0m\u001b[37m\u001b[0m \u001b[1m0s\u001b[0m 57ms/step\n",
      "\u001b[1m1/1\u001b[0m \u001b[32m━━━━━━━━━━━━━━━━━━━━\u001b[0m\u001b[37m\u001b[0m \u001b[1m0s\u001b[0m 56ms/step\n",
      "\u001b[1m1/1\u001b[0m \u001b[32m━━━━━━━━━━━━━━━━━━━━\u001b[0m\u001b[37m\u001b[0m \u001b[1m0s\u001b[0m 52ms/step\n",
      "\u001b[1m1/1\u001b[0m \u001b[32m━━━━━━━━━━━━━━━━━━━━\u001b[0m\u001b[37m\u001b[0m \u001b[1m0s\u001b[0m 52ms/step\n",
      "\u001b[1m1/1\u001b[0m \u001b[32m━━━━━━━━━━━━━━━━━━━━\u001b[0m\u001b[37m\u001b[0m \u001b[1m0s\u001b[0m 53ms/step\n",
      "\u001b[1m1/1\u001b[0m \u001b[32m━━━━━━━━━━━━━━━━━━━━\u001b[0m\u001b[37m\u001b[0m \u001b[1m0s\u001b[0m 49ms/step\n",
      "\u001b[1m1/1\u001b[0m \u001b[32m━━━━━━━━━━━━━━━━━━━━\u001b[0m\u001b[37m\u001b[0m \u001b[1m0s\u001b[0m 47ms/step\n",
      "\u001b[1m1/1\u001b[0m \u001b[32m━━━━━━━━━━━━━━━━━━━━\u001b[0m\u001b[37m\u001b[0m \u001b[1m0s\u001b[0m 47ms/step\n",
      "\u001b[1m1/1\u001b[0m \u001b[32m━━━━━━━━━━━━━━━━━━━━\u001b[0m\u001b[37m\u001b[0m \u001b[1m0s\u001b[0m 49ms/step\n",
      "\u001b[1m1/1\u001b[0m \u001b[32m━━━━━━━━━━━━━━━━━━━━\u001b[0m\u001b[37m\u001b[0m \u001b[1m0s\u001b[0m 48ms/step\n",
      "\u001b[1m1/1\u001b[0m \u001b[32m━━━━━━━━━━━━━━━━━━━━\u001b[0m\u001b[37m\u001b[0m \u001b[1m0s\u001b[0m 49ms/step\n",
      "\u001b[1m1/1\u001b[0m \u001b[32m━━━━━━━━━━━━━━━━━━━━\u001b[0m\u001b[37m\u001b[0m \u001b[1m0s\u001b[0m 48ms/step\n",
      "\u001b[1m1/1\u001b[0m \u001b[32m━━━━━━━━━━━━━━━━━━━━\u001b[0m\u001b[37m\u001b[0m \u001b[1m0s\u001b[0m 50ms/step\n",
      "\u001b[1m1/1\u001b[0m \u001b[32m━━━━━━━━━━━━━━━━━━━━\u001b[0m\u001b[37m\u001b[0m \u001b[1m0s\u001b[0m 48ms/step\n",
      "\u001b[1m1/1\u001b[0m \u001b[32m━━━━━━━━━━━━━━━━━━━━\u001b[0m\u001b[37m\u001b[0m \u001b[1m0s\u001b[0m 48ms/step\n",
      "\u001b[1m1/1\u001b[0m \u001b[32m━━━━━━━━━━━━━━━━━━━━\u001b[0m\u001b[37m\u001b[0m \u001b[1m0s\u001b[0m 47ms/step\n",
      "\u001b[1m1/1\u001b[0m \u001b[32m━━━━━━━━━━━━━━━━━━━━\u001b[0m\u001b[37m\u001b[0m \u001b[1m0s\u001b[0m 52ms/step\n",
      "\u001b[1m1/1\u001b[0m \u001b[32m━━━━━━━━━━━━━━━━━━━━\u001b[0m\u001b[37m\u001b[0m \u001b[1m0s\u001b[0m 49ms/step\n",
      "\u001b[1m1/1\u001b[0m \u001b[32m━━━━━━━━━━━━━━━━━━━━\u001b[0m\u001b[37m\u001b[0m \u001b[1m0s\u001b[0m 49ms/step\n",
      "\u001b[1m1/1\u001b[0m \u001b[32m━━━━━━━━━━━━━━━━━━━━\u001b[0m\u001b[37m\u001b[0m \u001b[1m0s\u001b[0m 48ms/step\n",
      "\u001b[1m1/1\u001b[0m \u001b[32m━━━━━━━━━━━━━━━━━━━━\u001b[0m\u001b[37m\u001b[0m \u001b[1m0s\u001b[0m 48ms/step\n",
      "\u001b[1m1/1\u001b[0m \u001b[32m━━━━━━━━━━━━━━━━━━━━\u001b[0m\u001b[37m\u001b[0m \u001b[1m0s\u001b[0m 51ms/step\n",
      "\u001b[1m1/1\u001b[0m \u001b[32m━━━━━━━━━━━━━━━━━━━━\u001b[0m\u001b[37m\u001b[0m \u001b[1m0s\u001b[0m 48ms/step\n",
      "\u001b[1m1/1\u001b[0m \u001b[32m━━━━━━━━━━━━━━━━━━━━\u001b[0m\u001b[37m\u001b[0m \u001b[1m0s\u001b[0m 48ms/step\n",
      "\u001b[1m1/1\u001b[0m \u001b[32m━━━━━━━━━━━━━━━━━━━━\u001b[0m\u001b[37m\u001b[0m \u001b[1m0s\u001b[0m 49ms/step\n",
      "\u001b[1m1/1\u001b[0m \u001b[32m━━━━━━━━━━━━━━━━━━━━\u001b[0m\u001b[37m\u001b[0m \u001b[1m0s\u001b[0m 49ms/step\n",
      "\u001b[1m1/1\u001b[0m \u001b[32m━━━━━━━━━━━━━━━━━━━━\u001b[0m\u001b[37m\u001b[0m \u001b[1m0s\u001b[0m 48ms/step\n",
      "\u001b[1m1/1\u001b[0m \u001b[32m━━━━━━━━━━━━━━━━━━━━\u001b[0m\u001b[37m\u001b[0m \u001b[1m0s\u001b[0m 52ms/step\n",
      "\u001b[1m1/1\u001b[0m \u001b[32m━━━━━━━━━━━━━━━━━━━━\u001b[0m\u001b[37m\u001b[0m \u001b[1m0s\u001b[0m 54ms/step\n",
      "\u001b[1m1/1\u001b[0m \u001b[32m━━━━━━━━━━━━━━━━━━━━\u001b[0m\u001b[37m\u001b[0m \u001b[1m0s\u001b[0m 48ms/step\n",
      "\u001b[1m1/1\u001b[0m \u001b[32m━━━━━━━━━━━━━━━━━━━━\u001b[0m\u001b[37m\u001b[0m \u001b[1m0s\u001b[0m 49ms/step\n",
      "\u001b[1m1/1\u001b[0m \u001b[32m━━━━━━━━━━━━━━━━━━━━\u001b[0m\u001b[37m\u001b[0m \u001b[1m0s\u001b[0m 50ms/step\n",
      "\u001b[1m1/1\u001b[0m \u001b[32m━━━━━━━━━━━━━━━━━━━━\u001b[0m\u001b[37m\u001b[0m \u001b[1m0s\u001b[0m 49ms/step\n",
      "\u001b[1m1/1\u001b[0m \u001b[32m━━━━━━━━━━━━━━━━━━━━\u001b[0m\u001b[37m\u001b[0m \u001b[1m0s\u001b[0m 50ms/step\n",
      "\u001b[1m1/1\u001b[0m \u001b[32m━━━━━━━━━━━━━━━━━━━━\u001b[0m\u001b[37m\u001b[0m \u001b[1m0s\u001b[0m 51ms/step\n",
      "\u001b[1m1/1\u001b[0m \u001b[32m━━━━━━━━━━━━━━━━━━━━\u001b[0m\u001b[37m\u001b[0m \u001b[1m0s\u001b[0m 51ms/step\n",
      "\u001b[1m1/1\u001b[0m \u001b[32m━━━━━━━━━━━━━━━━━━━━\u001b[0m\u001b[37m\u001b[0m \u001b[1m0s\u001b[0m 52ms/step\n",
      "\u001b[1m1/1\u001b[0m \u001b[32m━━━━━━━━━━━━━━━━━━━━\u001b[0m\u001b[37m\u001b[0m \u001b[1m0s\u001b[0m 50ms/step\n",
      "\u001b[1m1/1\u001b[0m \u001b[32m━━━━━━━━━━━━━━━━━━━━\u001b[0m\u001b[37m\u001b[0m \u001b[1m0s\u001b[0m 48ms/step\n",
      "\u001b[1m1/1\u001b[0m \u001b[32m━━━━━━━━━━━━━━━━━━━━\u001b[0m\u001b[37m\u001b[0m \u001b[1m0s\u001b[0m 47ms/step\n",
      "\u001b[1m1/1\u001b[0m \u001b[32m━━━━━━━━━━━━━━━━━━━━\u001b[0m\u001b[37m\u001b[0m \u001b[1m0s\u001b[0m 50ms/step\n",
      "\u001b[1m1/1\u001b[0m \u001b[32m━━━━━━━━━━━━━━━━━━━━\u001b[0m\u001b[37m\u001b[0m \u001b[1m0s\u001b[0m 51ms/step\n",
      "\u001b[1m1/1\u001b[0m \u001b[32m━━━━━━━━━━━━━━━━━━━━\u001b[0m\u001b[37m\u001b[0m \u001b[1m0s\u001b[0m 49ms/step\n",
      "\u001b[1m1/1\u001b[0m \u001b[32m━━━━━━━━━━━━━━━━━━━━\u001b[0m\u001b[37m\u001b[0m \u001b[1m0s\u001b[0m 48ms/step\n",
      "\u001b[1m1/1\u001b[0m \u001b[32m━━━━━━━━━━━━━━━━━━━━\u001b[0m\u001b[37m\u001b[0m \u001b[1m0s\u001b[0m 49ms/step\n",
      "\u001b[1m1/1\u001b[0m \u001b[32m━━━━━━━━━━━━━━━━━━━━\u001b[0m\u001b[37m\u001b[0m \u001b[1m0s\u001b[0m 50ms/step\n",
      "\u001b[1m1/1\u001b[0m \u001b[32m━━━━━━━━━━━━━━━━━━━━\u001b[0m\u001b[37m\u001b[0m \u001b[1m0s\u001b[0m 48ms/step\n",
      "\u001b[1m1/1\u001b[0m \u001b[32m━━━━━━━━━━━━━━━━━━━━\u001b[0m\u001b[37m\u001b[0m \u001b[1m0s\u001b[0m 49ms/step\n",
      "\u001b[1m1/1\u001b[0m \u001b[32m━━━━━━━━━━━━━━━━━━━━\u001b[0m\u001b[37m\u001b[0m \u001b[1m0s\u001b[0m 49ms/step\n",
      "\u001b[1m1/1\u001b[0m \u001b[32m━━━━━━━━━━━━━━━━━━━━\u001b[0m\u001b[37m\u001b[0m \u001b[1m0s\u001b[0m 48ms/step\n",
      "\u001b[1m1/1\u001b[0m \u001b[32m━━━━━━━━━━━━━━━━━━━━\u001b[0m\u001b[37m\u001b[0m \u001b[1m0s\u001b[0m 49ms/step\n",
      "\u001b[1m1/1\u001b[0m \u001b[32m━━━━━━━━━━━━━━━━━━━━\u001b[0m\u001b[37m\u001b[0m \u001b[1m0s\u001b[0m 48ms/step\n",
      "\u001b[1m1/1\u001b[0m \u001b[32m━━━━━━━━━━━━━━━━━━━━\u001b[0m\u001b[37m\u001b[0m \u001b[1m0s\u001b[0m 52ms/step\n",
      "\u001b[1m1/1\u001b[0m \u001b[32m━━━━━━━━━━━━━━━━━━━━\u001b[0m\u001b[37m\u001b[0m \u001b[1m0s\u001b[0m 50ms/step\n",
      "\u001b[1m1/1\u001b[0m \u001b[32m━━━━━━━━━━━━━━━━━━━━\u001b[0m\u001b[37m\u001b[0m \u001b[1m0s\u001b[0m 50ms/step\n",
      "\u001b[1m1/1\u001b[0m \u001b[32m━━━━━━━━━━━━━━━━━━━━\u001b[0m\u001b[37m\u001b[0m \u001b[1m0s\u001b[0m 50ms/step\n",
      "\u001b[1m1/1\u001b[0m \u001b[32m━━━━━━━━━━━━━━━━━━━━\u001b[0m\u001b[37m\u001b[0m \u001b[1m0s\u001b[0m 49ms/step\n",
      "\u001b[1m1/1\u001b[0m \u001b[32m━━━━━━━━━━━━━━━━━━━━\u001b[0m\u001b[37m\u001b[0m \u001b[1m0s\u001b[0m 50ms/step\n",
      "\u001b[1m1/1\u001b[0m \u001b[32m━━━━━━━━━━━━━━━━━━━━\u001b[0m\u001b[37m\u001b[0m \u001b[1m0s\u001b[0m 47ms/step\n",
      "\u001b[1m1/1\u001b[0m \u001b[32m━━━━━━━━━━━━━━━━━━━━\u001b[0m\u001b[37m\u001b[0m \u001b[1m0s\u001b[0m 48ms/step\n",
      "\u001b[1m1/1\u001b[0m \u001b[32m━━━━━━━━━━━━━━━━━━━━\u001b[0m\u001b[37m\u001b[0m \u001b[1m0s\u001b[0m 48ms/step\n",
      "\u001b[1m1/1\u001b[0m \u001b[32m━━━━━━━━━━━━━━━━━━━━\u001b[0m\u001b[37m\u001b[0m \u001b[1m0s\u001b[0m 48ms/step\n",
      "\u001b[1m1/1\u001b[0m \u001b[32m━━━━━━━━━━━━━━━━━━━━\u001b[0m\u001b[37m\u001b[0m \u001b[1m0s\u001b[0m 50ms/step\n",
      "\u001b[1m1/1\u001b[0m \u001b[32m━━━━━━━━━━━━━━━━━━━━\u001b[0m\u001b[37m\u001b[0m \u001b[1m0s\u001b[0m 47ms/step\n",
      "\u001b[1m1/1\u001b[0m \u001b[32m━━━━━━━━━━━━━━━━━━━━\u001b[0m\u001b[37m\u001b[0m \u001b[1m0s\u001b[0m 48ms/step\n",
      "\u001b[1m1/1\u001b[0m \u001b[32m━━━━━━━━━━━━━━━━━━━━\u001b[0m\u001b[37m\u001b[0m \u001b[1m0s\u001b[0m 51ms/step\n",
      "\u001b[1m1/1\u001b[0m \u001b[32m━━━━━━━━━━━━━━━━━━━━\u001b[0m\u001b[37m\u001b[0m \u001b[1m0s\u001b[0m 48ms/step\n",
      "\u001b[1m1/1\u001b[0m \u001b[32m━━━━━━━━━━━━━━━━━━━━\u001b[0m\u001b[37m\u001b[0m \u001b[1m0s\u001b[0m 53ms/step\n",
      "\u001b[1m1/1\u001b[0m \u001b[32m━━━━━━━━━━━━━━━━━━━━\u001b[0m\u001b[37m\u001b[0m \u001b[1m0s\u001b[0m 50ms/step\n",
      "\u001b[1m1/1\u001b[0m \u001b[32m━━━━━━━━━━━━━━━━━━━━\u001b[0m\u001b[37m\u001b[0m \u001b[1m0s\u001b[0m 54ms/step\n",
      "\u001b[1m1/1\u001b[0m \u001b[32m━━━━━━━━━━━━━━━━━━━━\u001b[0m\u001b[37m\u001b[0m \u001b[1m0s\u001b[0m 48ms/step\n",
      "\u001b[1m1/1\u001b[0m \u001b[32m━━━━━━━━━━━━━━━━━━━━\u001b[0m\u001b[37m\u001b[0m \u001b[1m0s\u001b[0m 53ms/step\n",
      "\u001b[1m1/1\u001b[0m \u001b[32m━━━━━━━━━━━━━━━━━━━━\u001b[0m\u001b[37m\u001b[0m \u001b[1m0s\u001b[0m 49ms/step\n",
      "\u001b[1m1/1\u001b[0m \u001b[32m━━━━━━━━━━━━━━━━━━━━\u001b[0m\u001b[37m\u001b[0m \u001b[1m0s\u001b[0m 51ms/step\n",
      "\u001b[1m1/1\u001b[0m \u001b[32m━━━━━━━━━━━━━━━━━━━━\u001b[0m\u001b[37m\u001b[0m \u001b[1m0s\u001b[0m 52ms/step\n",
      "\u001b[1m1/1\u001b[0m \u001b[32m━━━━━━━━━━━━━━━━━━━━\u001b[0m\u001b[37m\u001b[0m \u001b[1m0s\u001b[0m 48ms/step\n",
      "\u001b[1m1/1\u001b[0m \u001b[32m━━━━━━━━━━━━━━━━━━━━\u001b[0m\u001b[37m\u001b[0m \u001b[1m0s\u001b[0m 52ms/step\n",
      "\u001b[1m1/1\u001b[0m \u001b[32m━━━━━━━━━━━━━━━━━━━━\u001b[0m\u001b[37m\u001b[0m \u001b[1m0s\u001b[0m 48ms/step\n",
      "\u001b[1m1/1\u001b[0m \u001b[32m━━━━━━━━━━━━━━━━━━━━\u001b[0m\u001b[37m\u001b[0m \u001b[1m0s\u001b[0m 52ms/step\n",
      "\u001b[1m1/1\u001b[0m \u001b[32m━━━━━━━━━━━━━━━━━━━━\u001b[0m\u001b[37m\u001b[0m \u001b[1m0s\u001b[0m 104ms/step\n",
      "\u001b[1m1/1\u001b[0m \u001b[32m━━━━━━━━━━━━━━━━━━━━\u001b[0m\u001b[37m\u001b[0m \u001b[1m0s\u001b[0m 54ms/step\n",
      "\u001b[1m1/1\u001b[0m \u001b[32m━━━━━━━━━━━━━━━━━━━━\u001b[0m\u001b[37m\u001b[0m \u001b[1m0s\u001b[0m 49ms/step\n",
      "\u001b[1m1/1\u001b[0m \u001b[32m━━━━━━━━━━━━━━━━━━━━\u001b[0m\u001b[37m\u001b[0m \u001b[1m0s\u001b[0m 62ms/step\n",
      "\u001b[1m1/1\u001b[0m \u001b[32m━━━━━━━━━━━━━━━━━━━━\u001b[0m\u001b[37m\u001b[0m \u001b[1m0s\u001b[0m 53ms/step\n",
      "\u001b[1m1/1\u001b[0m \u001b[32m━━━━━━━━━━━━━━━━━━━━\u001b[0m\u001b[37m\u001b[0m \u001b[1m0s\u001b[0m 52ms/step\n",
      "\u001b[1m1/1\u001b[0m \u001b[32m━━━━━━━━━━━━━━━━━━━━\u001b[0m\u001b[37m\u001b[0m \u001b[1m0s\u001b[0m 53ms/step\n",
      "\u001b[1m1/1\u001b[0m \u001b[32m━━━━━━━━━━━━━━━━━━━━\u001b[0m\u001b[37m\u001b[0m \u001b[1m0s\u001b[0m 52ms/step\n",
      "\u001b[1m1/1\u001b[0m \u001b[32m━━━━━━━━━━━━━━━━━━━━\u001b[0m\u001b[37m\u001b[0m \u001b[1m0s\u001b[0m 57ms/step\n",
      "\u001b[1m1/1\u001b[0m \u001b[32m━━━━━━━━━━━━━━━━━━━━\u001b[0m\u001b[37m\u001b[0m \u001b[1m0s\u001b[0m 49ms/step\n",
      "\u001b[1m1/1\u001b[0m \u001b[32m━━━━━━━━━━━━━━━━━━━━\u001b[0m\u001b[37m\u001b[0m \u001b[1m0s\u001b[0m 50ms/step\n",
      "\u001b[1m1/1\u001b[0m \u001b[32m━━━━━━━━━━━━━━━━━━━━\u001b[0m\u001b[37m\u001b[0m \u001b[1m0s\u001b[0m 48ms/step\n",
      "\u001b[1m1/1\u001b[0m \u001b[32m━━━━━━━━━━━━━━━━━━━━\u001b[0m\u001b[37m\u001b[0m \u001b[1m0s\u001b[0m 48ms/step\n",
      "\u001b[1m1/1\u001b[0m \u001b[32m━━━━━━━━━━━━━━━━━━━━\u001b[0m\u001b[37m\u001b[0m \u001b[1m0s\u001b[0m 48ms/step\n",
      "\u001b[1m1/1\u001b[0m \u001b[32m━━━━━━━━━━━━━━━━━━━━\u001b[0m\u001b[37m\u001b[0m \u001b[1m0s\u001b[0m 59ms/step\n",
      "\u001b[1m1/1\u001b[0m \u001b[32m━━━━━━━━━━━━━━━━━━━━\u001b[0m\u001b[37m\u001b[0m \u001b[1m0s\u001b[0m 59ms/step\n",
      "\u001b[1m1/1\u001b[0m \u001b[32m━━━━━━━━━━━━━━━━━━━━\u001b[0m\u001b[37m\u001b[0m \u001b[1m0s\u001b[0m 49ms/step\n",
      "\u001b[1m1/1\u001b[0m \u001b[32m━━━━━━━━━━━━━━━━━━━━\u001b[0m\u001b[37m\u001b[0m \u001b[1m0s\u001b[0m 48ms/step\n",
      "\u001b[1m1/1\u001b[0m \u001b[32m━━━━━━━━━━━━━━━━━━━━\u001b[0m\u001b[37m\u001b[0m \u001b[1m0s\u001b[0m 48ms/step\n",
      "\u001b[1m1/1\u001b[0m \u001b[32m━━━━━━━━━━━━━━━━━━━━\u001b[0m\u001b[37m\u001b[0m \u001b[1m0s\u001b[0m 48ms/step\n",
      "\u001b[1m1/1\u001b[0m \u001b[32m━━━━━━━━━━━━━━━━━━━━\u001b[0m\u001b[37m\u001b[0m \u001b[1m0s\u001b[0m 51ms/step\n",
      "\u001b[1m1/1\u001b[0m \u001b[32m━━━━━━━━━━━━━━━━━━━━\u001b[0m\u001b[37m\u001b[0m \u001b[1m0s\u001b[0m 48ms/step\n",
      "\u001b[1m1/1\u001b[0m \u001b[32m━━━━━━━━━━━━━━━━━━━━\u001b[0m\u001b[37m\u001b[0m \u001b[1m0s\u001b[0m 51ms/step\n",
      "\u001b[1m1/1\u001b[0m \u001b[32m━━━━━━━━━━━━━━━━━━━━\u001b[0m\u001b[37m\u001b[0m \u001b[1m0s\u001b[0m 55ms/step\n",
      "\u001b[1m1/1\u001b[0m \u001b[32m━━━━━━━━━━━━━━━━━━━━\u001b[0m\u001b[37m\u001b[0m \u001b[1m0s\u001b[0m 55ms/step\n",
      "\u001b[1m1/1\u001b[0m \u001b[32m━━━━━━━━━━━━━━━━━━━━\u001b[0m\u001b[37m\u001b[0m \u001b[1m0s\u001b[0m 48ms/step\n",
      "\u001b[1m1/1\u001b[0m \u001b[32m━━━━━━━━━━━━━━━━━━━━\u001b[0m\u001b[37m\u001b[0m \u001b[1m0s\u001b[0m 48ms/step\n",
      "\u001b[1m1/1\u001b[0m \u001b[32m━━━━━━━━━━━━━━━━━━━━\u001b[0m\u001b[37m\u001b[0m \u001b[1m0s\u001b[0m 49ms/step\n",
      "\u001b[1m1/1\u001b[0m \u001b[32m━━━━━━━━━━━━━━━━━━━━\u001b[0m\u001b[37m\u001b[0m \u001b[1m0s\u001b[0m 48ms/step\n",
      "\u001b[1m1/1\u001b[0m \u001b[32m━━━━━━━━━━━━━━━━━━━━\u001b[0m\u001b[37m\u001b[0m \u001b[1m0s\u001b[0m 51ms/step\n",
      "\u001b[1m1/1\u001b[0m \u001b[32m━━━━━━━━━━━━━━━━━━━━\u001b[0m\u001b[37m\u001b[0m \u001b[1m0s\u001b[0m 48ms/step\n",
      "\u001b[1m1/1\u001b[0m \u001b[32m━━━━━━━━━━━━━━━━━━━━\u001b[0m\u001b[37m\u001b[0m \u001b[1m0s\u001b[0m 47ms/step\n",
      "\u001b[1m1/1\u001b[0m \u001b[32m━━━━━━━━━━━━━━━━━━━━\u001b[0m\u001b[37m\u001b[0m \u001b[1m0s\u001b[0m 53ms/step\n",
      "\u001b[1m1/1\u001b[0m \u001b[32m━━━━━━━━━━━━━━━━━━━━\u001b[0m\u001b[37m\u001b[0m \u001b[1m0s\u001b[0m 51ms/step\n",
      "\u001b[1m1/1\u001b[0m \u001b[32m━━━━━━━━━━━━━━━━━━━━\u001b[0m\u001b[37m\u001b[0m \u001b[1m0s\u001b[0m 56ms/step\n",
      "\u001b[1m1/1\u001b[0m \u001b[32m━━━━━━━━━━━━━━━━━━━━\u001b[0m\u001b[37m\u001b[0m \u001b[1m0s\u001b[0m 48ms/step\n",
      "\u001b[1m1/1\u001b[0m \u001b[32m━━━━━━━━━━━━━━━━━━━━\u001b[0m\u001b[37m\u001b[0m \u001b[1m0s\u001b[0m 49ms/step\n",
      "\u001b[1m1/1\u001b[0m \u001b[32m━━━━━━━━━━━━━━━━━━━━\u001b[0m\u001b[37m\u001b[0m \u001b[1m0s\u001b[0m 51ms/step\n",
      "\u001b[1m1/1\u001b[0m \u001b[32m━━━━━━━━━━━━━━━━━━━━\u001b[0m\u001b[37m\u001b[0m \u001b[1m0s\u001b[0m 58ms/step\n",
      "\u001b[1m1/1\u001b[0m \u001b[32m━━━━━━━━━━━━━━━━━━━━\u001b[0m\u001b[37m\u001b[0m \u001b[1m0s\u001b[0m 51ms/step\n",
      "\u001b[1m1/1\u001b[0m \u001b[32m━━━━━━━━━━━━━━━━━━━━\u001b[0m\u001b[37m\u001b[0m \u001b[1m0s\u001b[0m 47ms/step\n",
      "\u001b[1m1/1\u001b[0m \u001b[32m━━━━━━━━━━━━━━━━━━━━\u001b[0m\u001b[37m\u001b[0m \u001b[1m0s\u001b[0m 50ms/step\n",
      "\u001b[1m1/1\u001b[0m \u001b[32m━━━━━━━━━━━━━━━━━━━━\u001b[0m\u001b[37m\u001b[0m \u001b[1m0s\u001b[0m 47ms/step\n",
      "\u001b[1m1/1\u001b[0m \u001b[32m━━━━━━━━━━━━━━━━━━━━\u001b[0m\u001b[37m\u001b[0m \u001b[1m0s\u001b[0m 61ms/step\n",
      "\u001b[1m1/1\u001b[0m \u001b[32m━━━━━━━━━━━━━━━━━━━━\u001b[0m\u001b[37m\u001b[0m \u001b[1m0s\u001b[0m 54ms/step\n",
      "\u001b[1m1/1\u001b[0m \u001b[32m━━━━━━━━━━━━━━━━━━━━\u001b[0m\u001b[37m\u001b[0m \u001b[1m0s\u001b[0m 48ms/step\n",
      "\u001b[1m1/1\u001b[0m \u001b[32m━━━━━━━━━━━━━━━━━━━━\u001b[0m\u001b[37m\u001b[0m \u001b[1m0s\u001b[0m 53ms/step\n",
      "\u001b[1m1/1\u001b[0m \u001b[32m━━━━━━━━━━━━━━━━━━━━\u001b[0m\u001b[37m\u001b[0m \u001b[1m0s\u001b[0m 48ms/step\n",
      "\u001b[1m1/1\u001b[0m \u001b[32m━━━━━━━━━━━━━━━━━━━━\u001b[0m\u001b[37m\u001b[0m \u001b[1m0s\u001b[0m 48ms/step\n",
      "\u001b[1m1/1\u001b[0m \u001b[32m━━━━━━━━━━━━━━━━━━━━\u001b[0m\u001b[37m\u001b[0m \u001b[1m0s\u001b[0m 50ms/step\n",
      "\u001b[1m1/1\u001b[0m \u001b[32m━━━━━━━━━━━━━━━━━━━━\u001b[0m\u001b[37m\u001b[0m \u001b[1m0s\u001b[0m 49ms/step\n",
      "\u001b[1m1/1\u001b[0m \u001b[32m━━━━━━━━━━━━━━━━━━━━\u001b[0m\u001b[37m\u001b[0m \u001b[1m0s\u001b[0m 47ms/step\n",
      "\u001b[1m1/1\u001b[0m \u001b[32m━━━━━━━━━━━━━━━━━━━━\u001b[0m\u001b[37m\u001b[0m \u001b[1m0s\u001b[0m 49ms/step\n",
      "\u001b[1m1/1\u001b[0m \u001b[32m━━━━━━━━━━━━━━━━━━━━\u001b[0m\u001b[37m\u001b[0m \u001b[1m0s\u001b[0m 47ms/step\n",
      "\u001b[1m1/1\u001b[0m \u001b[32m━━━━━━━━━━━━━━━━━━━━\u001b[0m\u001b[37m\u001b[0m \u001b[1m0s\u001b[0m 47ms/step\n",
      "\u001b[1m1/1\u001b[0m \u001b[32m━━━━━━━━━━━━━━━━━━━━\u001b[0m\u001b[37m\u001b[0m \u001b[1m0s\u001b[0m 55ms/step\n",
      "\u001b[1m1/1\u001b[0m \u001b[32m━━━━━━━━━━━━━━━━━━━━\u001b[0m\u001b[37m\u001b[0m \u001b[1m0s\u001b[0m 51ms/step\n",
      "\u001b[1m1/1\u001b[0m \u001b[32m━━━━━━━━━━━━━━━━━━━━\u001b[0m\u001b[37m\u001b[0m \u001b[1m0s\u001b[0m 51ms/step\n",
      "\u001b[1m1/1\u001b[0m \u001b[32m━━━━━━━━━━━━━━━━━━━━\u001b[0m\u001b[37m\u001b[0m \u001b[1m0s\u001b[0m 49ms/step\n",
      "\u001b[1m1/1\u001b[0m \u001b[32m━━━━━━━━━━━━━━━━━━━━\u001b[0m\u001b[37m\u001b[0m \u001b[1m0s\u001b[0m 50ms/step\n",
      "\u001b[1m1/1\u001b[0m \u001b[32m━━━━━━━━━━━━━━━━━━━━\u001b[0m\u001b[37m\u001b[0m \u001b[1m0s\u001b[0m 54ms/step\n",
      "\u001b[1m1/1\u001b[0m \u001b[32m━━━━━━━━━━━━━━━━━━━━\u001b[0m\u001b[37m\u001b[0m \u001b[1m0s\u001b[0m 49ms/step\n",
      "\u001b[1m1/1\u001b[0m \u001b[32m━━━━━━━━━━━━━━━━━━━━\u001b[0m\u001b[37m\u001b[0m \u001b[1m0s\u001b[0m 48ms/step\n",
      "\u001b[1m1/1\u001b[0m \u001b[32m━━━━━━━━━━━━━━━━━━━━\u001b[0m\u001b[37m\u001b[0m \u001b[1m0s\u001b[0m 51ms/step\n",
      "\u001b[1m1/1\u001b[0m \u001b[32m━━━━━━━━━━━━━━━━━━━━\u001b[0m\u001b[37m\u001b[0m \u001b[1m0s\u001b[0m 53ms/step\n",
      "\u001b[1m1/1\u001b[0m \u001b[32m━━━━━━━━━━━━━━━━━━━━\u001b[0m\u001b[37m\u001b[0m \u001b[1m0s\u001b[0m 50ms/step\n",
      "\u001b[1m1/1\u001b[0m \u001b[32m━━━━━━━━━━━━━━━━━━━━\u001b[0m\u001b[37m\u001b[0m \u001b[1m0s\u001b[0m 48ms/step\n",
      "\u001b[1m1/1\u001b[0m \u001b[32m━━━━━━━━━━━━━━━━━━━━\u001b[0m\u001b[37m\u001b[0m \u001b[1m0s\u001b[0m 64ms/step\n",
      "\u001b[1m1/1\u001b[0m \u001b[32m━━━━━━━━━━━━━━━━━━━━\u001b[0m\u001b[37m\u001b[0m \u001b[1m0s\u001b[0m 50ms/step\n",
      "\u001b[1m1/1\u001b[0m \u001b[32m━━━━━━━━━━━━━━━━━━━━\u001b[0m\u001b[37m\u001b[0m \u001b[1m0s\u001b[0m 51ms/step\n",
      "\u001b[1m1/1\u001b[0m \u001b[32m━━━━━━━━━━━━━━━━━━━━\u001b[0m\u001b[37m\u001b[0m \u001b[1m0s\u001b[0m 67ms/step\n",
      "\u001b[1m1/1\u001b[0m \u001b[32m━━━━━━━━━━━━━━━━━━━━\u001b[0m\u001b[37m\u001b[0m \u001b[1m0s\u001b[0m 54ms/step\n",
      "\u001b[1m1/1\u001b[0m \u001b[32m━━━━━━━━━━━━━━━━━━━━\u001b[0m\u001b[37m\u001b[0m \u001b[1m0s\u001b[0m 62ms/step\n",
      "\u001b[1m1/1\u001b[0m \u001b[32m━━━━━━━━━━━━━━━━━━━━\u001b[0m\u001b[37m\u001b[0m \u001b[1m0s\u001b[0m 60ms/step\n",
      "\u001b[1m1/1\u001b[0m \u001b[32m━━━━━━━━━━━━━━━━━━━━\u001b[0m\u001b[37m\u001b[0m \u001b[1m0s\u001b[0m 55ms/step\n",
      "\u001b[1m1/1\u001b[0m \u001b[32m━━━━━━━━━━━━━━━━━━━━\u001b[0m\u001b[37m\u001b[0m \u001b[1m0s\u001b[0m 61ms/step\n",
      "\u001b[1m1/1\u001b[0m \u001b[32m━━━━━━━━━━━━━━━━━━━━\u001b[0m\u001b[37m\u001b[0m \u001b[1m0s\u001b[0m 61ms/step\n",
      "\u001b[1m1/1\u001b[0m \u001b[32m━━━━━━━━━━━━━━━━━━━━\u001b[0m\u001b[37m\u001b[0m \u001b[1m0s\u001b[0m 62ms/step\n",
      "\u001b[1m1/1\u001b[0m \u001b[32m━━━━━━━━━━━━━━━━━━━━\u001b[0m\u001b[37m\u001b[0m \u001b[1m0s\u001b[0m 56ms/step\n",
      "\u001b[1m1/1\u001b[0m \u001b[32m━━━━━━━━━━━━━━━━━━━━\u001b[0m\u001b[37m\u001b[0m \u001b[1m0s\u001b[0m 56ms/step\n",
      "\u001b[1m1/1\u001b[0m \u001b[32m━━━━━━━━━━━━━━━━━━━━\u001b[0m\u001b[37m\u001b[0m \u001b[1m0s\u001b[0m 58ms/step\n",
      "\u001b[1m1/1\u001b[0m \u001b[32m━━━━━━━━━━━━━━━━━━━━\u001b[0m\u001b[37m\u001b[0m \u001b[1m0s\u001b[0m 53ms/step\n",
      "\u001b[1m1/1\u001b[0m \u001b[32m━━━━━━━━━━━━━━━━━━━━\u001b[0m\u001b[37m\u001b[0m \u001b[1m0s\u001b[0m 60ms/step\n",
      "\u001b[1m1/1\u001b[0m \u001b[32m━━━━━━━━━━━━━━━━━━━━\u001b[0m\u001b[37m\u001b[0m \u001b[1m0s\u001b[0m 57ms/step\n",
      "\u001b[1m1/1\u001b[0m \u001b[32m━━━━━━━━━━━━━━━━━━━━\u001b[0m\u001b[37m\u001b[0m \u001b[1m0s\u001b[0m 58ms/step\n",
      "\u001b[1m1/1\u001b[0m \u001b[32m━━━━━━━━━━━━━━━━━━━━\u001b[0m\u001b[37m\u001b[0m \u001b[1m0s\u001b[0m 64ms/step\n",
      "\u001b[1m1/1\u001b[0m \u001b[32m━━━━━━━━━━━━━━━━━━━━\u001b[0m\u001b[37m\u001b[0m \u001b[1m0s\u001b[0m 52ms/step\n",
      "\u001b[1m1/1\u001b[0m \u001b[32m━━━━━━━━━━━━━━━━━━━━\u001b[0m\u001b[37m\u001b[0m \u001b[1m0s\u001b[0m 48ms/step\n",
      "\u001b[1m1/1\u001b[0m \u001b[32m━━━━━━━━━━━━━━━━━━━━\u001b[0m\u001b[37m\u001b[0m \u001b[1m0s\u001b[0m 49ms/step\n",
      "\u001b[1m1/1\u001b[0m \u001b[32m━━━━━━━━━━━━━━━━━━━━\u001b[0m\u001b[37m\u001b[0m \u001b[1m0s\u001b[0m 49ms/step\n",
      "\u001b[1m1/1\u001b[0m \u001b[32m━━━━━━━━━━━━━━━━━━━━\u001b[0m\u001b[37m\u001b[0m \u001b[1m0s\u001b[0m 47ms/step\n",
      "\u001b[1m1/1\u001b[0m \u001b[32m━━━━━━━━━━━━━━━━━━━━\u001b[0m\u001b[37m\u001b[0m \u001b[1m0s\u001b[0m 48ms/step\n",
      "\u001b[1m1/1\u001b[0m \u001b[32m━━━━━━━━━━━━━━━━━━━━\u001b[0m\u001b[37m\u001b[0m \u001b[1m0s\u001b[0m 49ms/step\n",
      "\u001b[1m1/1\u001b[0m \u001b[32m━━━━━━━━━━━━━━━━━━━━\u001b[0m\u001b[37m\u001b[0m \u001b[1m0s\u001b[0m 48ms/step\n",
      "\u001b[1m1/1\u001b[0m \u001b[32m━━━━━━━━━━━━━━━━━━━━\u001b[0m\u001b[37m\u001b[0m \u001b[1m0s\u001b[0m 49ms/step\n",
      "\u001b[1m1/1\u001b[0m \u001b[32m━━━━━━━━━━━━━━━━━━━━\u001b[0m\u001b[37m\u001b[0m \u001b[1m0s\u001b[0m 50ms/step\n",
      "\u001b[1m1/1\u001b[0m \u001b[32m━━━━━━━━━━━━━━━━━━━━\u001b[0m\u001b[37m\u001b[0m \u001b[1m0s\u001b[0m 51ms/step\n",
      "\u001b[1m1/1\u001b[0m \u001b[32m━━━━━━━━━━━━━━━━━━━━\u001b[0m\u001b[37m\u001b[0m \u001b[1m0s\u001b[0m 51ms/step\n",
      "\u001b[1m1/1\u001b[0m \u001b[32m━━━━━━━━━━━━━━━━━━━━\u001b[0m\u001b[37m\u001b[0m \u001b[1m0s\u001b[0m 53ms/step\n",
      "\u001b[1m1/1\u001b[0m \u001b[32m━━━━━━━━━━━━━━━━━━━━\u001b[0m\u001b[37m\u001b[0m \u001b[1m0s\u001b[0m 77ms/step\n",
      "\u001b[1m1/1\u001b[0m \u001b[32m━━━━━━━━━━━━━━━━━━━━\u001b[0m\u001b[37m\u001b[0m \u001b[1m0s\u001b[0m 57ms/step\n",
      "\u001b[1m1/1\u001b[0m \u001b[32m━━━━━━━━━━━━━━━━━━━━\u001b[0m\u001b[37m\u001b[0m \u001b[1m0s\u001b[0m 50ms/step\n",
      "\u001b[1m1/1\u001b[0m \u001b[32m━━━━━━━━━━━━━━━━━━━━\u001b[0m\u001b[37m\u001b[0m \u001b[1m0s\u001b[0m 52ms/step\n",
      "\u001b[1m1/1\u001b[0m \u001b[32m━━━━━━━━━━━━━━━━━━━━\u001b[0m\u001b[37m\u001b[0m \u001b[1m0s\u001b[0m 50ms/step\n",
      "\u001b[1m1/1\u001b[0m \u001b[32m━━━━━━━━━━━━━━━━━━━━\u001b[0m\u001b[37m\u001b[0m \u001b[1m0s\u001b[0m 48ms/step\n",
      "\u001b[1m1/1\u001b[0m \u001b[32m━━━━━━━━━━━━━━━━━━━━\u001b[0m\u001b[37m\u001b[0m \u001b[1m0s\u001b[0m 52ms/step\n",
      "\u001b[1m1/1\u001b[0m \u001b[32m━━━━━━━━━━━━━━━━━━━━\u001b[0m\u001b[37m\u001b[0m \u001b[1m0s\u001b[0m 48ms/step\n",
      "\u001b[1m1/1\u001b[0m \u001b[32m━━━━━━━━━━━━━━━━━━━━\u001b[0m\u001b[37m\u001b[0m \u001b[1m0s\u001b[0m 50ms/step\n",
      "\u001b[1m1/1\u001b[0m \u001b[32m━━━━━━━━━━━━━━━━━━━━\u001b[0m\u001b[37m\u001b[0m \u001b[1m0s\u001b[0m 51ms/step\n",
      "\u001b[1m1/1\u001b[0m \u001b[32m━━━━━━━━━━━━━━━━━━━━\u001b[0m\u001b[37m\u001b[0m \u001b[1m0s\u001b[0m 48ms/step\n",
      "\u001b[1m1/1\u001b[0m \u001b[32m━━━━━━━━━━━━━━━━━━━━\u001b[0m\u001b[37m\u001b[0m \u001b[1m0s\u001b[0m 54ms/step\n",
      "\u001b[1m1/1\u001b[0m \u001b[32m━━━━━━━━━━━━━━━━━━━━\u001b[0m\u001b[37m\u001b[0m \u001b[1m0s\u001b[0m 51ms/step\n",
      "\u001b[1m1/1\u001b[0m \u001b[32m━━━━━━━━━━━━━━━━━━━━\u001b[0m\u001b[37m\u001b[0m \u001b[1m0s\u001b[0m 50ms/step\n",
      "\u001b[1m1/1\u001b[0m \u001b[32m━━━━━━━━━━━━━━━━━━━━\u001b[0m\u001b[37m\u001b[0m \u001b[1m0s\u001b[0m 50ms/step\n",
      "\u001b[1m1/1\u001b[0m \u001b[32m━━━━━━━━━━━━━━━━━━━━\u001b[0m\u001b[37m\u001b[0m \u001b[1m0s\u001b[0m 49ms/step\n",
      "\u001b[1m1/1\u001b[0m \u001b[32m━━━━━━━━━━━━━━━━━━━━\u001b[0m\u001b[37m\u001b[0m \u001b[1m0s\u001b[0m 49ms/step\n",
      "\u001b[1m1/1\u001b[0m \u001b[32m━━━━━━━━━━━━━━━━━━━━\u001b[0m\u001b[37m\u001b[0m \u001b[1m0s\u001b[0m 50ms/step\n",
      "\u001b[1m1/1\u001b[0m \u001b[32m━━━━━━━━━━━━━━━━━━━━\u001b[0m\u001b[37m\u001b[0m \u001b[1m0s\u001b[0m 50ms/step\n",
      "\u001b[1m1/1\u001b[0m \u001b[32m━━━━━━━━━━━━━━━━━━━━\u001b[0m\u001b[37m\u001b[0m \u001b[1m0s\u001b[0m 50ms/step\n",
      "\u001b[1m1/1\u001b[0m \u001b[32m━━━━━━━━━━━━━━━━━━━━\u001b[0m\u001b[37m\u001b[0m \u001b[1m0s\u001b[0m 50ms/step\n",
      "\u001b[1m1/1\u001b[0m \u001b[32m━━━━━━━━━━━━━━━━━━━━\u001b[0m\u001b[37m\u001b[0m \u001b[1m0s\u001b[0m 51ms/step\n",
      "\u001b[1m1/1\u001b[0m \u001b[32m━━━━━━━━━━━━━━━━━━━━\u001b[0m\u001b[37m\u001b[0m \u001b[1m0s\u001b[0m 51ms/step\n",
      "\u001b[1m1/1\u001b[0m \u001b[32m━━━━━━━━━━━━━━━━━━━━\u001b[0m\u001b[37m\u001b[0m \u001b[1m0s\u001b[0m 49ms/step\n",
      "\u001b[1m1/1\u001b[0m \u001b[32m━━━━━━━━━━━━━━━━━━━━\u001b[0m\u001b[37m\u001b[0m \u001b[1m0s\u001b[0m 56ms/step\n",
      "\u001b[1m1/1\u001b[0m \u001b[32m━━━━━━━━━━━━━━━━━━━━\u001b[0m\u001b[37m\u001b[0m \u001b[1m0s\u001b[0m 49ms/step\n",
      "\u001b[1m1/1\u001b[0m \u001b[32m━━━━━━━━━━━━━━━━━━━━\u001b[0m\u001b[37m\u001b[0m \u001b[1m0s\u001b[0m 49ms/step\n",
      "\u001b[1m1/1\u001b[0m \u001b[32m━━━━━━━━━━━━━━━━━━━━\u001b[0m\u001b[37m\u001b[0m \u001b[1m0s\u001b[0m 52ms/step\n",
      "\u001b[1m1/1\u001b[0m \u001b[32m━━━━━━━━━━━━━━━━━━━━\u001b[0m\u001b[37m\u001b[0m \u001b[1m0s\u001b[0m 54ms/step\n",
      "\u001b[1m1/1\u001b[0m \u001b[32m━━━━━━━━━━━━━━━━━━━━\u001b[0m\u001b[37m\u001b[0m \u001b[1m0s\u001b[0m 51ms/step\n",
      "\u001b[1m1/1\u001b[0m \u001b[32m━━━━━━━━━━━━━━━━━━━━\u001b[0m\u001b[37m\u001b[0m \u001b[1m0s\u001b[0m 50ms/step\n",
      "\u001b[1m1/1\u001b[0m \u001b[32m━━━━━━━━━━━━━━━━━━━━\u001b[0m\u001b[37m\u001b[0m \u001b[1m0s\u001b[0m 48ms/step\n",
      "\u001b[1m1/1\u001b[0m \u001b[32m━━━━━━━━━━━━━━━━━━━━\u001b[0m\u001b[37m\u001b[0m \u001b[1m0s\u001b[0m 48ms/step\n",
      "\u001b[1m1/1\u001b[0m \u001b[32m━━━━━━━━━━━━━━━━━━━━\u001b[0m\u001b[37m\u001b[0m \u001b[1m0s\u001b[0m 55ms/step\n",
      "\u001b[1m1/1\u001b[0m \u001b[32m━━━━━━━━━━━━━━━━━━━━\u001b[0m\u001b[37m\u001b[0m \u001b[1m0s\u001b[0m 52ms/step\n",
      "\u001b[1m1/1\u001b[0m \u001b[32m━━━━━━━━━━━━━━━━━━━━\u001b[0m\u001b[37m\u001b[0m \u001b[1m0s\u001b[0m 48ms/step\n",
      "\u001b[1m1/1\u001b[0m \u001b[32m━━━━━━━━━━━━━━━━━━━━\u001b[0m\u001b[37m\u001b[0m \u001b[1m0s\u001b[0m 51ms/step\n",
      "\u001b[1m1/1\u001b[0m \u001b[32m━━━━━━━━━━━━━━━━━━━━\u001b[0m\u001b[37m\u001b[0m \u001b[1m0s\u001b[0m 50ms/step\n",
      "\u001b[1m1/1\u001b[0m \u001b[32m━━━━━━━━━━━━━━━━━━━━\u001b[0m\u001b[37m\u001b[0m \u001b[1m0s\u001b[0m 53ms/step\n",
      "\u001b[1m1/1\u001b[0m \u001b[32m━━━━━━━━━━━━━━━━━━━━\u001b[0m\u001b[37m\u001b[0m \u001b[1m0s\u001b[0m 48ms/step\n",
      "\u001b[1m1/1\u001b[0m \u001b[32m━━━━━━━━━━━━━━━━━━━━\u001b[0m\u001b[37m\u001b[0m \u001b[1m0s\u001b[0m 52ms/step\n",
      "\u001b[1m1/1\u001b[0m \u001b[32m━━━━━━━━━━━━━━━━━━━━\u001b[0m\u001b[37m\u001b[0m \u001b[1m0s\u001b[0m 49ms/step\n",
      "\u001b[1m1/1\u001b[0m \u001b[32m━━━━━━━━━━━━━━━━━━━━\u001b[0m\u001b[37m\u001b[0m \u001b[1m0s\u001b[0m 48ms/step\n",
      "\u001b[1m1/1\u001b[0m \u001b[32m━━━━━━━━━━━━━━━━━━━━\u001b[0m\u001b[37m\u001b[0m \u001b[1m0s\u001b[0m 49ms/step\n",
      "\u001b[1m1/1\u001b[0m \u001b[32m━━━━━━━━━━━━━━━━━━━━\u001b[0m\u001b[37m\u001b[0m \u001b[1m0s\u001b[0m 48ms/step\n",
      "\u001b[1m1/1\u001b[0m \u001b[32m━━━━━━━━━━━━━━━━━━━━\u001b[0m\u001b[37m\u001b[0m \u001b[1m0s\u001b[0m 48ms/step\n",
      "\u001b[1m1/1\u001b[0m \u001b[32m━━━━━━━━━━━━━━━━━━━━\u001b[0m\u001b[37m\u001b[0m \u001b[1m0s\u001b[0m 48ms/step\n",
      "\u001b[1m1/1\u001b[0m \u001b[32m━━━━━━━━━━━━━━━━━━━━\u001b[0m\u001b[37m\u001b[0m \u001b[1m0s\u001b[0m 53ms/step\n",
      "\u001b[1m1/1\u001b[0m \u001b[32m━━━━━━━━━━━━━━━━━━━━\u001b[0m\u001b[37m\u001b[0m \u001b[1m0s\u001b[0m 49ms/step\n",
      "\u001b[1m1/1\u001b[0m \u001b[32m━━━━━━━━━━━━━━━━━━━━\u001b[0m\u001b[37m\u001b[0m \u001b[1m0s\u001b[0m 52ms/step\n",
      "\u001b[1m1/1\u001b[0m \u001b[32m━━━━━━━━━━━━━━━━━━━━\u001b[0m\u001b[37m\u001b[0m \u001b[1m0s\u001b[0m 57ms/step\n",
      "\u001b[1m1/1\u001b[0m \u001b[32m━━━━━━━━━━━━━━━━━━━━\u001b[0m\u001b[37m\u001b[0m \u001b[1m0s\u001b[0m 55ms/step\n",
      "\u001b[1m1/1\u001b[0m \u001b[32m━━━━━━━━━━━━━━━━━━━━\u001b[0m\u001b[37m\u001b[0m \u001b[1m0s\u001b[0m 53ms/step\n",
      "\u001b[1m1/1\u001b[0m \u001b[32m━━━━━━━━━━━━━━━━━━━━\u001b[0m\u001b[37m\u001b[0m \u001b[1m0s\u001b[0m 55ms/step\n",
      "\u001b[1m1/1\u001b[0m \u001b[32m━━━━━━━━━━━━━━━━━━━━\u001b[0m\u001b[37m\u001b[0m \u001b[1m0s\u001b[0m 54ms/step\n",
      "\u001b[1m1/1\u001b[0m \u001b[32m━━━━━━━━━━━━━━━━━━━━\u001b[0m\u001b[37m\u001b[0m \u001b[1m0s\u001b[0m 53ms/step\n",
      "\u001b[1m1/1\u001b[0m \u001b[32m━━━━━━━━━━━━━━━━━━━━\u001b[0m\u001b[37m\u001b[0m \u001b[1m0s\u001b[0m 51ms/step\n",
      "\u001b[1m1/1\u001b[0m \u001b[32m━━━━━━━━━━━━━━━━━━━━\u001b[0m\u001b[37m\u001b[0m \u001b[1m0s\u001b[0m 48ms/step\n",
      "\u001b[1m1/1\u001b[0m \u001b[32m━━━━━━━━━━━━━━━━━━━━\u001b[0m\u001b[37m\u001b[0m \u001b[1m0s\u001b[0m 51ms/step\n",
      "\u001b[1m1/1\u001b[0m \u001b[32m━━━━━━━━━━━━━━━━━━━━\u001b[0m\u001b[37m\u001b[0m \u001b[1m0s\u001b[0m 49ms/step\n",
      "\u001b[1m1/1\u001b[0m \u001b[32m━━━━━━━━━━━━━━━━━━━━\u001b[0m\u001b[37m\u001b[0m \u001b[1m0s\u001b[0m 49ms/step\n",
      "\u001b[1m1/1\u001b[0m \u001b[32m━━━━━━━━━━━━━━━━━━━━\u001b[0m\u001b[37m\u001b[0m \u001b[1m0s\u001b[0m 50ms/step\n",
      "Classified Ingredients: ['arugula', 'pomelo', 'avocado', 'cardamom', 'turnip', 'canned apricots', 'wild boar', 'french lentils', 'grapeseed oil', 'canned beets', 'macaroni', 'sprouted navy beans', 'coconut oil', 'radicchio', 'nutmeg', 'pork', 'octopus', 'cherimoya', 'cherry', 'iodized salt', 'black lentils', 'gaeta olives', 'canola oil', 'navy beans', 'ostrich', 'sprouted adzuki beans', 'cerignola olives', 'canned trout', 'pink salt', 'table salt', 'fennel', 'tangerine', 'blueberry', 'canned carrots', 'jarred artichokes', 'lettuce', 'sesame oil', 'squirrel', 'canned sardines', 'cracked wheat', 'gluten-free flour', 'lima beans', 'canned olives', 'canned mackerel', 'spring onion', 'canned anchovies', 'jarred peppers', 'split peas', 'cabbage', 'cinnamon', 'clove', 'cake flour', 'canned pears', 'teff', 'spinach', 'jarred pasta sauce', 'pinto beans', 'black sapote', 'sunflower oil', 'scallion', 'kiwi', 'breadfruit', 'sorghum', 'pluot', 'spanish pardina lentils', 'mutton', 'canned oysters', 'parsnip', 'mustard greens', 'nicoise olives', 'celery', 'rice', 'shallot', 'cranberry', 'flaxseed oil', 'paprika', 'barley', 'picholine olives', 'coconut flour', 'caribou', 'polenta', 'canned cherries', 'banana', 'snap peas', 'grapefruit', 'brown sugar', 'canned mushrooms', 'coriander', 'soursop', 'apricot', 'goose', 'quinoa', 'demerara sugar', 'self-rising flour', 'wheat bran', 'canned fruit cocktail', 'elephant garlic', 'allspice', 'canned apples', 'kidney beans', 'radish', 'cumin', 'cornmeal', 'canned kidney beans', 'flaky salt', 'olive oil', 'rutabaga', 'chard stalk', 'kalamata olives', 'boysenberry', 'brussels sprouts', 'green lentils', 'canned mango', 'bulgur', 'garlic', 'kumquat', 'pigeon peas', 'buckwheat', 'whole wheat flour', 'pearl onion', 'canned clams', 'orange lentils', 'chia', 'smoked salt', 'amaranth', 'canned pineapples', 'grouse', 'black olives', 'couscous', 'canned peas', 'canned tomatoes', 'yuzu', 'vegetable oil', 'jarred sun-dried tomatoes', 'black salt', 'buffalo']\n"
     ]
    },
    {
     "name": "stderr",
     "output_type": "stream",
     "text": [
      "WARNING:absl:Compiled the loaded model, but the compiled metrics have yet to be built. `model.compile_metrics` will be empty until you train or evaluate the model.\n"
     ]
    }
   ],
   "source": [
    "import os\n",
    "import re\n",
    "import io\n",
    "import numpy as np\n",
    "import pandas as pd\n",
    "import requests\n",
    "from bs4 import BeautifulSoup\n",
    "from PIL import Image\n",
    "from tensorflow.keras.models import load_model  # This should now work\n",
    "from sklearn.preprocessing import OneHotEncoder, LabelEncoder\n",
    "import joblib\n",
    "from fuzzywuzzy import fuzz, process\n",
    "from IPython.display import display, Image as IPImage, HTML\n",
    "\n",
    "# Load ingredient model\n",
    "ingredient_model = load_model('../../food_ingredients_model.h5')\n",
    "\n",
    "# Load label encoders for transforming labels to and from one-hot representations\n",
    "label_encoder = joblib.load('../../label_encoder.joblib')\n",
    "one_hot_encoder = joblib.load('../../one_hot_encoder.joblib')\n",
    "\n",
    "# Decodes image bytes into a normalized array for model input\n",
    "def decode_image(image_bytes):\n",
    "    img = Image.open(io.BytesIO(image_bytes)).convert('RGB')\n",
    "    img = img.resize((128, 128))\n",
    "    img_array = np.array(img, dtype=np.float32) / 255.0\n",
    "    return img_array\n",
    "\n",
    "# Predicts the ingredients in the given images\n",
    "def predict_ingredients(image_bytes_list):\n",
    "    predicted_ingredients = []\n",
    "    for image_bytes in image_bytes_list:\n",
    "        img = decode_image(image_bytes)\n",
    "        img = np.expand_dims(img, axis=0)\n",
    "        predictions = ingredient_model.predict(img)\n",
    "        predicted_label = one_hot_encoder.inverse_transform(predictions)\n",
    "        predicted_label = label_encoder.inverse_transform([int(predicted_label[0][0])])\n",
    "        predicted_ingredients.extend(predicted_label)\n",
    "    return predicted_ingredients\n",
    "\n",
    "# Scrapes images for the given query from Google Images and saves them locally.\n",
    "def download_images(query, num_images, output_folder=\"scraped_images\"):\n",
    "\n",
    "    search_url = f\"https://www.google.com/search?q={query}&tbm=isch\"\n",
    "    headers = {\n",
    "        \"User-Agent\": \"Mozilla/5.0\",\n",
    "        \"Referer\": \"https://www.google.com/\"\n",
    "    }\n",
    "    \n",
    "    response = requests.get(search_url, headers=headers)\n",
    "    html = response.text\n",
    "    \n",
    "    soup = BeautifulSoup(html, 'html.parser')\n",
    "    img_tags = soup.find_all('img')\n",
    "\n",
    "    os.makedirs(output_folder, exist_ok=True)\n",
    "    \n",
    "    downloaded = 0\n",
    "    for img_tag in img_tags:\n",
    "        if downloaded >= num_images:\n",
    "            break\n",
    "        try:\n",
    "            img_url = img_tag.get('src')\n",
    "            if img_url is None:\n",
    "                img_url = img_tag.get('data-src')\n",
    "            if img_url:\n",
    "                img_data = requests.get(img_url).content\n",
    "                img = Image.open(io.BytesIO(img_data)).convert(\"RGB\")\n",
    "                img.save(os.path.join(output_folder, f\"{query}_{downloaded+1}.jpg\"))\n",
    "                downloaded += 1\n",
    "        except Exception as e:\n",
    "            print(f\"Error downloading image {downloaded+1} for {query}: {e}\")\n",
    "    \n",
    "    print(f\"Downloaded {downloaded} images for '{query}' into '{output_folder}'\")\n",
    "\n",
    "\n",
    "def load_images_from_folder(folder_path):\n",
    "    image_bytes_list = []\n",
    "    for filename in os.listdir(folder_path):\n",
    "        if filename.endswith(('.png', '.jpg', '.jpeg', '.webp')):\n",
    "            with open(os.path.join(folder_path, filename), 'rb') as f:\n",
    "                image_bytes = f.read()\n",
    "                image_bytes_list.append(image_bytes)\n",
    "    return image_bytes_list\n",
    "\n",
    "# List of ingredients to scrape images for\n",
    "ingredient_queries = ['extra firm tofu', 'eggplant', 'zucchini', 'mushrooms', 'soy sauce', \n",
    "                      'olive oil', 'maple syrup', 'honey', 'red wine vinegar', 'lemon juice', \n",
    "                      'garlic cloves', 'mustard powder', 'black pepper']\n",
    "\n",
    "# Download images for each ingredient\n",
    "for ingredient in ingredient_queries:\n",
    "    download_images(ingredient, num_images=20, output_folder=\"scraped_images\")\n",
    "\n",
    "\n",
    "imported_images = load_images_from_folder('scraped_images')\n",
    "\n",
    "# Predict ingredients in the imported images\n",
    "classified_ingredients = predict_ingredients(imported_images)\n",
    "\n",
    "# Remove duplicates\n",
    "classified_ingredients = list(set(classified_ingredients))  \n",
    "\n",
    "print(\"Classified Ingredients:\", classified_ingredients)\n",
    "\n",
    "# Convert RecipeIngredientParts to lists using regex\n",
    "def parse_ingredients(val):\n",
    "    if isinstance(val, str):\n",
    "        #find all quoted strings within c() notation\n",
    "        matches = re.findall(r'\"(.*?)\"', val)\n",
    "        return matches\n",
    "    return val\n",
    "\n",
    "\n",
    "# Convert ingredient to list\n",
    "clean_recipe_df.loc[:, 'RecipeIngredientParts'] = clean_recipe_df['RecipeIngredientParts'].apply(parse_ingredients)\n",
    "# Continue to convert other c() vectors to lists\n",
    "clean_recipe_df.loc[:, 'RecipeIngredientQuantities'] = clean_recipe_df['RecipeIngredientQuantities'].apply(parse_ingredients)\n",
    "\n",
    "# Convert recipe instructions and images to lists\n",
    "clean_recipe_df.loc[:, 'RecipeInstructions'] = clean_recipe_df['RecipeInstructions'].apply(parse_ingredients)\n",
    "clean_recipe_df.loc[:, 'Images'] = clean_recipe_df['Images'].apply(parse_ingredients)\n",
    "\n",
    "\n",
    "#display(user_recipe_df[['Name', 'RecipeIngredientParts', 'RecipeIngredientQuantities', 'RecipeInstructions', 'Images']].head())"
   ]
  },
  {
   "cell_type": "markdown",
   "metadata": {},
   "source": [
    "## Function to match model ouptut with recipe data (string matching, regex)"
   ]
  },
  {
   "cell_type": "code",
   "execution_count": null,
   "metadata": {},
   "outputs": [],
   "source": [
    "\n",
    "\n",
    "def match_ingredients(recipe_ingredients, classified_ingredients):\n",
    "    match_score = 0\n",
    "    matched_ingredients = set()\n",
    "    \n",
    "    expanded_classified = set(classified_ingredients)\n",
    "\n",
    "    \n",
    "    # Exact and fuzzy matching\n",
    "    for ingredient in expanded_classified:\n",
    "        if ingredient in recipe_ingredients:\n",
    "            match_score += 1\n",
    "            matched_ingredients.add(ingredient)\n",
    "        else:\n",
    "            matches = process.extract(ingredient, recipe_ingredients, limit=1)\n",
    "            if matches and matches[0][1] > 80:\n",
    "                match_score += 1\n",
    "                matched_ingredients.add(matches[0][0])\n",
    "    \n",
    "    return match_score, matched_ingredients\n",
    "    \n",
    "    return match_score, matched_ingredients\n",
    "\n",
    "# Apply matching df\n",
    "clean_recipe_df.loc[:, 'MatchScore'] = clean_recipe_df['RecipeIngredientParts'].apply(lambda x: match_ingredients(x, classified_ingredients)[0])\n",
    "clean_recipe_df.loc[:, 'MatchedIngredients'] = clean_recipe_df['RecipeIngredientParts'].apply(lambda x: match_ingredients(x, classified_ingredients)[1])\n",
    "\n",
    "# match scores\n",
    "display(clean_recipe_df[['Name', 'RecipeIngredientParts', 'MatchScore', 'MatchedIngredients']])"
   ]
  },
  {
   "cell_type": "markdown",
   "metadata": {},
   "source": [
    "## Function to display recipes (name, image, ingredients, instructions) with high string matching scores"
   ]
  },
  {
   "cell_type": "code",
   "execution_count": null,
   "metadata": {},
   "outputs": [
    {
     "data": {
      "text/html": [
       "<h2>Biryani</h2>"
      ],
      "text/plain": [
       "<IPython.core.display.HTML object>"
      ]
     },
     "metadata": {},
     "output_type": "display_data"
    },
    {
     "data": {
      "text/html": [
       "<img src=\"https://img.sndimg.com/food/image/upload/w_555,h_416,c_fit,fl_progressive,q_95/v1/img/recipes/39/picM9Mhnw.jpg\" width=\"400\"/>"
      ],
      "text/plain": [
       "<IPython.core.display.Image object>"
      ]
     },
     "metadata": {},
     "output_type": "display_data"
    },
    {
     "data": {
      "text/html": [
       "<h3>Ingredients:</h3>"
      ],
      "text/plain": [
       "<IPython.core.display.HTML object>"
      ]
     },
     "metadata": {},
     "output_type": "display_data"
    },
    {
     "data": {
      "text/html": [
       "<ul><li>saffron: 1</li><li>milk: 4</li><li>hot green chili peppers: 2</li><li>onions: 2</li><li>garlic: 8</li><li>clove: 1/4</li><li>peppercorns: 8</li><li>cardamom seed: 1/2</li><li>cumin seed: 1</li><li>poppy seed: 1</li><li>mace: 1/4</li><li>cilantro: 1/4</li><li>mint leaf: 1/2</li><li>fresh lemon juice: 1/4</li><li>plain yogurt: 2</li><li>boneless chicken: 3</li><li>salt: 2</li><li>ghee: 1</li><li>onion: 1</li><li>tomatoes: 8</li><li>basmati rice: 2</li><li>long-grain rice: 1/3</li><li>raisins: 1/3</li><li>cashews: 1/3</li><li>eggs: 6</li></ul>"
      ],
      "text/plain": [
       "<IPython.core.display.HTML object>"
      ]
     },
     "metadata": {},
     "output_type": "display_data"
    },
    {
     "data": {
      "text/html": [
       "<h3>Instructions:</h3>"
      ],
      "text/plain": [
       "<IPython.core.display.HTML object>"
      ]
     },
     "metadata": {},
     "output_type": "display_data"
    },
    {
     "data": {
      "text/html": [
       "<ol><li>Soak saffron in warm milk for 5 minutes and puree in blender.</li><li>Add chiles, onions, ginger, garlic, cloves, peppercorns, cardamom seeds, cinnamon, coriander and cumin seeds, poppy seeds, nutmeg, mace, cilantro or mint leaves and lemon juice. Blend into smooth paste. Put paste into large bowl, add yogurt and mix well.</li><li>Marinate chicken in yogurt mixture with salt, covered for at least 2 - 6 hours in refrigerator.</li><li>In skillet. heat oil over medium heat for 1 minute. Add ghee and 15 seconds later add onion and fry for about8 minutes.</li><li>Reserve for garnish.</li><li>In same skillet, cook chicken with its marinade with tomatoes for about 10 minutes over medium heat, uncovered.</li><li>Remove chicken pieces from the sauce and set aside. Add rice to sauce, bring to boil, and cook, covered over low heat for 15 minutes.</li><li>Return chicken and add raisins, cashews and almonds; mix well.</li><li>Simmer, covered for 5 minutes.</li><li>Place chicken, eggs and rice in large serving dish in such a way that yellow of the eggs, the saffron-colored rice, the nuts and the chicken make a colorful display.</li><li>Add reserved onion as garnish.</li></ol>"
      ],
      "text/plain": [
       "<IPython.core.display.HTML object>"
      ]
     },
     "metadata": {},
     "output_type": "display_data"
    },
    {
     "data": {
      "text/html": [
       "<h2>Best Blackbottom Pie</h2>"
      ],
      "text/plain": [
       "<IPython.core.display.HTML object>"
      ]
     },
     "metadata": {},
     "output_type": "display_data"
    },
    {
     "data": {
      "text/html": [
       "<h3>Ingredients:</h3>"
      ],
      "text/plain": [
       "<IPython.core.display.HTML object>"
      ]
     },
     "metadata": {},
     "output_type": "display_data"
    },
    {
     "data": {
      "text/html": [
       "<ul><li>graham cracker crumbs: 1 1/4</li><li>sugar: 1/4</li><li>butter: 6</li><li>sugar: 1/3</li><li>cornstarch: 1/4</li><li>salt: 1/4</li><li>milk: 2</li><li>vanilla extract: 3</li><li>water: 1</li><li>gelatin: 1</li><li>rum: 1/4</li><li>cream of tartar: 1</li><li>sugar: 2</li></ul>"
      ],
      "text/plain": [
       "<IPython.core.display.HTML object>"
      ]
     },
     "metadata": {},
     "output_type": "display_data"
    },
    {
     "data": {
      "text/html": [
       "<h3>Instructions:</h3>"
      ],
      "text/plain": [
       "<IPython.core.display.HTML object>"
      ]
     },
     "metadata": {},
     "output_type": "display_data"
    },
    {
     "data": {
      "text/html": [
       "<ol><li>Graham Cracker Crust: In small bowl, combine graham cracker crumbs, sugar   and butter.  Press evenly on bottom and sides of 9-inch pie plate. Chill   until firm (about 1 hour).</li><li>Chocolate Layer: In medium saucepan, combine sugar, cornstarch and salt.   Gradually stir in milk.  Cook over medium heat, stirring constantly, until   mixture boils.  Remove from heat. In small bowl, beat egg yolks. Gradually   stir in small amount of hot mixture; return to saucepan. Cook over low   heat, stirring constantly, for 2 minutes. Remove from heat.</li><li>Remove 1-1/2   cups custard to medium bowl; add  semi-sweet chocolate   morsels and vanilla extract. Stir until morsels are melted and mixture is   smooth.</li><li>Pour into prepared Graham Cracker Crust; chill until set (about 30   minutes).</li><li>While Chocolate Layer is chilling, prepare Vanilla Layer.</li><li>Vanilla Layer: In large bowl, combine cold water and gelatin; let stand 5   minutes.  Add remaining warm custard; stir until gelatin dissolves.  Cool 15   minutes.  Stir in rum; beat with wire whisk until smooth. Set aside.</li><li>In   1-1/2 quart bowl, combine egg whites and cream of tartar; beat until foamy.  Gradually add sugar; beat until stiff peaks form.  Fold egg whites into   custard; pour over chocolate layer.</li><li>Chill until set (about 2 hours).</li><li>Garnish with whipped cream and chocolate shavings, if desired.</li><li>Makes one   9-inch pie.</li></ol>"
      ],
      "text/plain": [
       "<IPython.core.display.HTML object>"
      ]
     },
     "metadata": {},
     "output_type": "display_data"
    },
    {
     "data": {
      "text/html": [
       "<h2>Warm Chicken A La King</h2>"
      ],
      "text/plain": [
       "<IPython.core.display.HTML object>"
      ]
     },
     "metadata": {},
     "output_type": "display_data"
    },
    {
     "data": {
      "text/html": [
       "<img src=\"https://img.sndimg.com/food/image/upload/w_555,h_416,c_fit,fl_progressive,q_95/v1/img/recipes/44/picsSKvFd.jpg\" width=\"400\"/>"
      ],
      "text/plain": [
       "<IPython.core.display.Image object>"
      ]
     },
     "metadata": {},
     "output_type": "display_data"
    },
    {
     "data": {
      "text/html": [
       "<h3>Ingredients:</h3>"
      ],
      "text/plain": [
       "<IPython.core.display.HTML object>"
      ]
     },
     "metadata": {},
     "output_type": "display_data"
    },
    {
     "data": {
      "text/html": [
       "<ul><li>chicken: 12</li><li>butter: 2</li><li>flour: 3</li><li>milk: 450</li><li>celery: 1</li><li>button mushrooms: 2</li><li>green pepper: 1/4</li><li>canned pimiento: 1</li><li>salt: 2</li><li>black pepper: 2</li><li>Worcestershire sauce: 1</li></ul>"
      ],
      "text/plain": [
       "<IPython.core.display.HTML object>"
      ]
     },
     "metadata": {},
     "output_type": "display_data"
    },
    {
     "data": {
      "text/html": [
       "<h3>Instructions:</h3>"
      ],
      "text/plain": [
       "<IPython.core.display.HTML object>"
      ]
     },
     "metadata": {},
     "output_type": "display_data"
    },
    {
     "data": {
      "text/html": [
       "<ol><li>Melt 1 1/2 ozs butter, add the flour and cook for 2 to 3 minutes, stirring.</li><li>Gradually add milk and cook, stirring, until thick and smooth.</li><li>Melt the  remaining butter and saute sliced celery, button mushrooms and chopped pepper  until soft but not coloured.</li><li>Add celery, mushrooms, pepper, chicken and  pimiento to the sauce and heat through.</li><li>Season to taste.  Combine the egg  yolks, double cream and Worcestershire sauce. Add to the chicken mixture and  heat through.</li><li>Transfer to a serving dish and sprinkle with chopped parsley.</li></ol>"
      ],
      "text/plain": [
       "<IPython.core.display.HTML object>"
      ]
     },
     "metadata": {},
     "output_type": "display_data"
    },
    {
     "data": {
      "text/html": [
       "<h2>Buttermilk Pie With Gingersnap Crumb Crust</h2>"
      ],
      "text/plain": [
       "<IPython.core.display.HTML object>"
      ]
     },
     "metadata": {},
     "output_type": "display_data"
    },
    {
     "data": {
      "text/html": [
       "<img src=\"https://img.sndimg.com/food/image/upload/w_555,h_416,c_fit,fl_progressive,q_95/v1/img/recipes/45/pic79tPh5.jpg\" width=\"400\"/>"
      ],
      "text/plain": [
       "<IPython.core.display.Image object>"
      ]
     },
     "metadata": {},
     "output_type": "display_data"
    },
    {
     "data": {
      "text/html": [
       "<h3>Ingredients:</h3>"
      ],
      "text/plain": [
       "<IPython.core.display.HTML object>"
      ]
     },
     "metadata": {},
     "output_type": "display_data"
    },
    {
     "data": {
      "text/html": [
       "<ul><li>sugar: 3/4</li><li>margarine: 1</li><li>egg: 1</li><li>flour: 2</li><li>salt: 3</li><li>buttermilk: 1/4</li><li>graham cracker crumbs: 1</li><li>margarine: 1/2</li></ul>"
      ],
      "text/plain": [
       "<IPython.core.display.HTML object>"
      ]
     },
     "metadata": {},
     "output_type": "display_data"
    },
    {
     "data": {
      "text/html": [
       "<h3>Instructions:</h3>"
      ],
      "text/plain": [
       "<IPython.core.display.HTML object>"
      ]
     },
     "metadata": {},
     "output_type": "display_data"
    },
    {
     "data": {
      "text/html": [
       "<ol><li>Preheat oven to 350°F.</li><li>Make pie crust, using 8 inch pie pan, do not bake.</li><li>Mix sugar and margarine in medium bowl until blended; beat in egg whites and egg.</li><li>Stir in flour, salt, and buttermilk until well blended.</li><li>Pour filling into prepared crust, bake 40 minutes or until sharp knife inserted near center comes out clean.</li><li>Sprinkle with nutmeg and serve warm or chilled.</li><li>Combine graham crumbs, gingersnap crumbs, and margarine in 8 or 9 inch pie pan, pat mixture evenly on bottom and side of pan.</li><li>Bake 8 to 10 minutes or until edge of crust is lightly browned.</li><li>Cool on wire rack.</li></ol>"
      ],
      "text/plain": [
       "<IPython.core.display.HTML object>"
      ]
     },
     "metadata": {},
     "output_type": "display_data"
    },
    {
     "data": {
      "text/html": [
       "<h2>Boston Cream Pie</h2>"
      ],
      "text/plain": [
       "<IPython.core.display.HTML object>"
      ]
     },
     "metadata": {},
     "output_type": "display_data"
    },
    {
     "data": {
      "text/html": [
       "<h3>Ingredients:</h3>"
      ],
      "text/plain": [
       "<IPython.core.display.HTML object>"
      ]
     },
     "metadata": {},
     "output_type": "display_data"
    },
    {
     "data": {
      "text/html": [
       "<ul><li>margarine: 1/2</li><li>cake flour: 2 1/4</li><li>baking powder: 3</li><li>salt: 1</li><li>sugar: 1 1/2</li><li>vanilla: 1/3</li><li>eggs: 1 1/2</li><li>milk: 2</li><li>sugar: 1</li><li>cornstarch: 1/3</li><li>milk: 1</li><li>flour: 1 1/2</li><li>salt: 1</li><li>vanilla: 1/2</li><li>butter: 1</li><li>vanilla: 1/4</li></ul>"
      ],
      "text/plain": [
       "<IPython.core.display.HTML object>"
      ]
     },
     "metadata": {},
     "output_type": "display_data"
    },
    {
     "data": {
      "text/html": [
       "<h3>Instructions:</h3>"
      ],
      "text/plain": [
       "<IPython.core.display.HTML object>"
      ]
     },
     "metadata": {},
     "output_type": "display_data"
    },
    {
     "data": {
      "text/html": [
       "<ol><li>Beat egg whites until soft peaks form.</li><li>Gradually add 1/2 cup sugar, beating until very stiff peaks form.</li><li>Sift together remaining dry ingredients into another bowl.</li><li>Add oil, half the  milk and vanilla.</li><li>Beat 1 minute at medium speed.</li><li>Add remaining milk and egg yolks.</li><li>Beat 1 minute, scrape bowl.</li><li>Gently fold in egg whites.</li><li>Bake in two greased 9x 1.5-inch round pans in 350°F oven for 25 minutes.</li><li>Cool 10 minutes and then remove from pans.</li><li>Cool completely.</li><li>Fill with cream filling.</li><li>Frost with Chocolate Glaze.</li><li>French Custard Filling: In saucepan, combine sugar, flour, cornstarch and salt.  Gradually stir in milk.</li><li>Cook and stir until mixture thickens and boils; cook and stir 2-3 minutes longer.</li><li>Stir a little of hot mixture into egg yolk; return to hot mixture.</li><li>Cook and stir until mixture just boils.</li><li>Add vanilla; cool.</li><li>Beat until smooth; fold in whipped cream.</li><li>Chocolate Glaze: Melt chocolate and butter over low heat, stirring constantly.</li><li>Remove from heat. Stir in confectioners' sugar and vanilla until crumbly.</li><li>Blend in 3 tablespoons boiling water.</li><li>Add enough water (about 2 teaspoons), a teaspoon at a time, to form medium glaze of pouring consistency.</li><li>Pour quickly over top of cake; spread glaze evenly over top and sides.</li></ol>"
      ],
      "text/plain": [
       "<IPython.core.display.HTML object>"
      ]
     },
     "metadata": {},
     "output_type": "display_data"
    },
    {
     "data": {
      "text/html": [
       "<h2>Chicken Breasts Lombardi</h2>"
      ],
      "text/plain": [
       "<IPython.core.display.HTML object>"
      ]
     },
     "metadata": {},
     "output_type": "display_data"
    },
    {
     "data": {
      "text/html": [
       "<img src=\"https://img.sndimg.com/food/image/upload/w_555,h_416,c_fit,fl_progressive,q_95/v1/img/recipes/49/m1z1F8S5mAZgyImm5zYw_Lombardi%20Chicken%203.jpg\" width=\"400\"/>"
      ],
      "text/plain": [
       "<IPython.core.display.Image object>"
      ]
     },
     "metadata": {},
     "output_type": "display_data"
    },
    {
     "data": {
      "text/html": [
       "<h3>Ingredients:</h3>"
      ],
      "text/plain": [
       "<IPython.core.display.HTML object>"
      ]
     },
     "metadata": {},
     "output_type": "display_data"
    },
    {
     "data": {
      "text/html": [
       "<ul><li>fresh mushrooms: 2</li><li>butter: 2</li><li>boneless skinless chicken breast halves: 12</li><li>flour: 1/2</li><li>butter: 1/3</li><li>marsala: 3/4</li><li>chicken broth: 1/2</li><li>salt: 1/2</li><li>mozzarella cheese: 1/2</li><li>parmesan cheese: 1/2</li><li>green onion: 1/4</li></ul>"
      ],
      "text/plain": [
       "<IPython.core.display.HTML object>"
      ]
     },
     "metadata": {},
     "output_type": "display_data"
    },
    {
     "data": {
      "text/html": [
       "<h3>Instructions:</h3>"
      ],
      "text/plain": [
       "<IPython.core.display.HTML object>"
      ]
     },
     "metadata": {},
     "output_type": "display_data"
    },
    {
     "data": {
      "text/html": [
       "<ol><li>Cook mushrooms in 2 tbsp butter in a large  skillet, stirring constantly, just   until tender.</li><li>Remove from heat; set aside.  Cut each chicken breast half in  half lengthwise.   Place each piece of chicken  between two sheets of wax paper; flatten to  1/8\\</li><li>,</li><li>,</li><li>,</li><li>baking dish,  overlapping  edges.</li><li>Repeat procedure with  remaining chicken and butter.</li><li>Reserve pan  drippings in skillet.  Sprinkle  reserved mushrooms over chicken.</li><li>Add wine and  broth to skillet.  Bring to a boil;  reduce heat, and simmer,  uncovered, 10  minutes, stirring occasionally.</li><li>Stir in salt and pepper.</li><li>Pour  sauce over  chicken.</li><li>Combine cheeses and green  onions; sprinkle over chicken.</li><li>Bake  uncovered at 450 for 12 to 14 minutes.</li><li>Broil 5 1/2\\</li></ol>"
      ],
      "text/plain": [
       "<IPython.core.display.HTML object>"
      ]
     },
     "metadata": {},
     "output_type": "display_data"
    },
    {
     "data": {
      "text/html": [
       "<h2>Chai Tea</h2>"
      ],
      "text/plain": [
       "<IPython.core.display.HTML object>"
      ]
     },
     "metadata": {},
     "output_type": "display_data"
    },
    {
     "data": {
      "text/html": [
       "<h3>Ingredients:</h3>"
      ],
      "text/plain": [
       "<IPython.core.display.HTML object>"
      ]
     },
     "metadata": {},
     "output_type": "display_data"
    },
    {
     "data": {
      "text/html": [
       "<ul><li>water: 4</li><li>black tea: 1</li><li>cinnamon stick: 1</li><li>milk: 1 1/2</li><li>sugar: 1</li><li>honey: 10 -12</li><li>cardamom pods: 1/2</li><li>black peppercorns: 4 -5</li><li>star anise: 1/2</li><li>whole cloves: 1</li></ul>"
      ],
      "text/plain": [
       "<IPython.core.display.HTML object>"
      ]
     },
     "metadata": {},
     "output_type": "display_data"
    },
    {
     "data": {
      "text/html": [
       "<h3>Instructions:</h3>"
      ],
      "text/plain": [
       "<IPython.core.display.HTML object>"
      ]
     },
     "metadata": {},
     "output_type": "display_data"
    },
    {
     "data": {
      "text/html": [
       "<ol><li>Bring water and spices to boil in saucepan.</li><li>Reduce heat, cover and simmer 20  minutes.</li><li>Add teabags and milk, simmer 3-5 minutes.</li><li>Add sweetner to taste. Serves 4.</li><li>(The tea becomes spicier as it sits, may want to strain out spices).</li></ol>"
      ],
      "text/plain": [
       "<IPython.core.display.HTML object>"
      ]
     },
     "metadata": {},
     "output_type": "display_data"
    },
    {
     "data": {
      "text/html": [
       "<h2>Carrot Cake</h2>"
      ],
      "text/plain": [
       "<IPython.core.display.HTML object>"
      ]
     },
     "metadata": {},
     "output_type": "display_data"
    },
    {
     "data": {
      "text/html": [
       "<img src=\"https://img.sndimg.com/food/image/upload/w_555,h_416,c_fit,fl_progressive,q_95/v1/img/recipes/54/picQ2X4D8.jpg\" width=\"400\"/>"
      ],
      "text/plain": [
       "<IPython.core.display.Image object>"
      ]
     },
     "metadata": {},
     "output_type": "display_data"
    },
    {
     "data": {
      "text/html": [
       "<h3>Ingredients:</h3>"
      ],
      "text/plain": [
       "<IPython.core.display.HTML object>"
      ]
     },
     "metadata": {},
     "output_type": "display_data"
    },
    {
     "data": {
      "text/html": [
       "<ul><li>carrots: 3</li><li>eggs: 4</li><li>white sugar: 1 1/4</li><li>all-purpose flour: 2</li><li>baking powder: 2</li><li>baking soda: 2</li><li>cinnamon: 2</li><li>salt: 1</li><li>nutmeg: 1</li><li>golden raisin: 1/2</li><li>confectioners' sugar: 1</li><li>cream cheese: 1 1/4</li><li>light corn syrup: 1</li><li>vanilla extract: 1</li></ul>"
      ],
      "text/plain": [
       "<IPython.core.display.HTML object>"
      ]
     },
     "metadata": {},
     "output_type": "display_data"
    },
    {
     "data": {
      "text/html": [
       "<h3>Instructions:</h3>"
      ],
      "text/plain": [
       "<IPython.core.display.HTML object>"
      ]
     },
     "metadata": {},
     "output_type": "display_data"
    },
    {
     "data": {
      "text/html": [
       "<ol><li>Beat together the eggs, oil, and white sugar. Blend mixture for thirty seconds.</li><li>Sift together flour, baking powder, baking soda, salt and spices. Add the  carrots and raisins.</li><li>Pour egg mixture into dry ingredients, and mix well. Pour  batter into well greased 10 inch tube or Bundt pan.</li><li>Bake at 350 degrees F (175  degrees C) oven for 45 to 50 minutes. Cool cake on wire rack, and then  refrigerate until completely cooled.</li><li>To make Cream Cheese Glaze: Blend together  confectioners' sugar, cream cheese, corn syrup, and vanilla. Spread over cooled  cake.</li></ol>"
      ],
      "text/plain": [
       "<IPython.core.display.HTML object>"
      ]
     },
     "metadata": {},
     "output_type": "display_data"
    },
    {
     "data": {
      "text/html": [
       "<h2>Betty Crocker's Southwestern Guacamole Dip</h2>"
      ],
      "text/plain": [
       "<IPython.core.display.HTML object>"
      ]
     },
     "metadata": {},
     "output_type": "display_data"
    },
    {
     "data": {
      "text/html": [
       "<img src=\"https://img.sndimg.com/food/image/upload/w_555,h_416,c_fit,fl_progressive,q_95/v1/img/recipes/55/piclZzIyA.jpg\" width=\"400\"/>"
      ],
      "text/plain": [
       "<IPython.core.display.Image object>"
      ]
     },
     "metadata": {},
     "output_type": "display_data"
    },
    {
     "data": {
      "text/html": [
       "<h3>Ingredients:</h3>"
      ],
      "text/plain": [
       "<IPython.core.display.HTML object>"
      ]
     },
     "metadata": {},
     "output_type": "display_data"
    },
    {
     "data": {
      "text/html": [
       "<ul><li>avocados: 5</li><li>tomatoes: 1</li><li>salt: 1/2</li><li>garlic: 4</li><li>lime juice: 1/4</li></ul>"
      ],
      "text/plain": [
       "<IPython.core.display.HTML object>"
      ]
     },
     "metadata": {},
     "output_type": "display_data"
    },
    {
     "data": {
      "text/html": [
       "<h3>Instructions:</h3>"
      ],
      "text/plain": [
       "<IPython.core.display.HTML object>"
      ]
     },
     "metadata": {},
     "output_type": "display_data"
    },
    {
     "data": {
      "text/html": [
       "<ol><li>Peel and mash avocados until lumpy.</li><li>Add remaining ingredients and chill for 1 - 2 hours.</li></ol>"
      ],
      "text/plain": [
       "<IPython.core.display.HTML object>"
      ]
     },
     "metadata": {},
     "output_type": "display_data"
    },
    {
     "data": {
      "text/html": [
       "<h2>Buttermilk Pie</h2>"
      ],
      "text/plain": [
       "<IPython.core.display.HTML object>"
      ]
     },
     "metadata": {},
     "output_type": "display_data"
    },
    {
     "data": {
      "text/html": [
       "<img src=\"https://img.sndimg.com/food/image/upload/w_555,h_416,c_fit,fl_progressive,q_95/v1/img/recipes/56/nTwHmSmmRqGCr5HAUapC_pie-1194.jpg\" width=\"400\"/>"
      ],
      "text/plain": [
       "<IPython.core.display.Image object>"
      ]
     },
     "metadata": {},
     "output_type": "display_data"
    },
    {
     "data": {
      "text/html": [
       "<h3>Ingredients:</h3>"
      ],
      "text/plain": [
       "<IPython.core.display.HTML object>"
      ]
     },
     "metadata": {},
     "output_type": "display_data"
    },
    {
     "data": {
      "text/html": [
       "<ul><li>butter: 1/2</li><li>margarine: 1 1/2</li><li>sugar: 3</li><li>flour: 3</li><li>eggs: 1</li><li>salt: 1</li><li>vanilla: 1</li><li>buttermilk: 1</li></ul>"
      ],
      "text/plain": [
       "<IPython.core.display.HTML object>"
      ]
     },
     "metadata": {},
     "output_type": "display_data"
    },
    {
     "data": {
      "text/html": [
       "<h3>Instructions:</h3>"
      ],
      "text/plain": [
       "<IPython.core.display.HTML object>"
      ]
     },
     "metadata": {},
     "output_type": "display_data"
    },
    {
     "data": {
      "text/html": [
       "<ol><li>Preheat oven to 400°F.</li><li>Beat the butter and sugar together until light.</li><li>Add the eggs and beat; then beat in vanilla.</li><li>Sift the dry ingredients together and add to the batter alternatively with the buttermilk; beat until smooth.</li><li>Pour into a deep dish pie shell and bake at 400F for 10 minutes, reduce heat to 350F and bake for 50-60 additional minutes.</li><li>Pie should turn a nice golden brown and a knife inserted should come out clean.</li><li>I think it is absolutely best when it is just still warm. (Not too hot, or it will be like napalm.).</li></ol>"
      ],
      "text/plain": [
       "<IPython.core.display.HTML object>"
      ]
     },
     "metadata": {},
     "output_type": "display_data"
    },
    {
     "data": {
      "text/html": [
       "<h2>Low-Fat Burgundy Beef & Vegetable Stew</h2>"
      ],
      "text/plain": [
       "<IPython.core.display.HTML object>"
      ]
     },
     "metadata": {},
     "output_type": "display_data"
    },
    {
     "data": {
      "text/html": [
       "<img src=\"https://img.sndimg.com/food/image/upload/w_555,h_416,c_fit,fl_progressive,q_95/v1/img/recipes/58/picnE8qoe.jpg\" width=\"400\"/>"
      ],
      "text/plain": [
       "<IPython.core.display.Image object>"
      ]
     },
     "metadata": {},
     "output_type": "display_data"
    },
    {
     "data": {
      "text/html": [
       "<h3>Ingredients:</h3>"
      ],
      "text/plain": [
       "<IPython.core.display.HTML object>"
      ]
     },
     "metadata": {},
     "output_type": "display_data"
    },
    {
     "data": {
      "text/html": [
       "<ul><li>beef eye round: 1 1/2</li><li>dried thyme leaves: 1</li><li>salt: 1</li><li>pepper: 1/2</li><li>ready-to-serve beef broth: 1/2</li><li>Burgundy wine: 1</li><li>garlic: 1/2</li><li>cornstarch: 3</li><li>frozen sugar snap peas: 5 1/2</li></ul>"
      ],
      "text/plain": [
       "<IPython.core.display.HTML object>"
      ]
     },
     "metadata": {},
     "output_type": "display_data"
    },
    {
     "data": {
      "text/html": [
       "<h3>Instructions:</h3>"
      ],
      "text/plain": [
       "<IPython.core.display.HTML object>"
      ]
     },
     "metadata": {},
     "output_type": "display_data"
    },
    {
     "data": {
      "text/html": [
       "<ol><li>Trim fat from beef, cut into 1-inch pieces.</li><li>In Dutch oven, heat oil over medium high hunt until hot. Add beef (half at a time) and brown evenly, stirring occasionally.</li><li>Pour off drippings.</li><li>Season with thyme, salt and pepper.</li><li>Stir in broth, wine and garlic. Bring to boil; reduce heat to low.</li><li>Cover tightly and simmer 1 1/2 hours.</li><li>Add carrots and onions.</li><li>Cover and continue cooking 35 to 40 minutes or until beef and vegetables are tender.</li><li>Bring beef stew to a boil over medium-high heat. Add cornstarch mixture; cook and stir 1 minute. Stir in sugar snap peas.</li><li>Reduce heat to medium and cook 3 to 4 minutes or until peas are heated through.</li></ol>"
      ],
      "text/plain": [
       "<IPython.core.display.HTML object>"
      ]
     },
     "metadata": {},
     "output_type": "display_data"
    },
    {
     "data": {
      "text/html": [
       "<h2>Lou's Fabulous Bruschetta</h2>"
      ],
      "text/plain": [
       "<IPython.core.display.HTML object>"
      ]
     },
     "metadata": {},
     "output_type": "display_data"
    },
    {
     "data": {
      "text/html": [
       "<img src=\"https://img.sndimg.com/food/image/upload/w_555,h_416,c_fit,fl_progressive,q_95/v1/img/recipes/59/pickKDLXe.jpg\" width=\"400\"/>"
      ],
      "text/plain": [
       "<IPython.core.display.Image object>"
      ]
     },
     "metadata": {},
     "output_type": "display_data"
    },
    {
     "data": {
      "text/html": [
       "<h3>Ingredients:</h3>"
      ],
      "text/plain": [
       "<IPython.core.display.HTML object>"
      ]
     },
     "metadata": {},
     "output_type": "display_data"
    },
    {
     "data": {
      "text/html": [
       "<ul><li>French baguette: 1</li><li>butter: 3/4</li><li>garlic powder: 4 -5</li><li>ricotta cheese: 1 -2</li><li>parmesan cheese: 4 -5</li></ul>"
      ],
      "text/plain": [
       "<IPython.core.display.HTML object>"
      ]
     },
     "metadata": {},
     "output_type": "display_data"
    },
    {
     "data": {
      "text/html": [
       "<h3>Instructions:</h3>"
      ],
      "text/plain": [
       "<IPython.core.display.HTML object>"
      ]
     },
     "metadata": {},
     "output_type": "display_data"
    },
    {
     "data": {
      "text/html": [
       "<ol><li>Cut baguette into slices.</li><li>Butter and then sprinkle garlic powder each piece, and bake till lightly golden brown.</li><li>Mix garlic powder, Parmesan cheese, and salt in the ricotta cheese, till a lovely blended taste.</li><li>Dice tomatoes in small cubes,   add Olive Oil, and  small strips of fresh basil leaves, cut into thin strips.</li><li>Spread the ricotta mixture, generously on the cooled garlic bread slices.</li><li>Top with tomato mixture and bake at 350F for 10 minutes.</li><li>Enjoy!</li></ol>"
      ],
      "text/plain": [
       "<IPython.core.display.HTML object>"
      ]
     },
     "metadata": {},
     "output_type": "display_data"
    },
    {
     "data": {
      "text/html": [
       "<h2>Cabbage and Sausage Soup</h2>"
      ],
      "text/plain": [
       "<IPython.core.display.HTML object>"
      ]
     },
     "metadata": {},
     "output_type": "display_data"
    },
    {
     "data": {
      "text/html": [
       "<h3>Ingredients:</h3>"
      ],
      "text/plain": [
       "<IPython.core.display.HTML object>"
      ]
     },
     "metadata": {},
     "output_type": "display_data"
    },
    {
     "data": {
      "text/html": [
       "<ul><li>olive oil: 2</li><li>Italian sausage: 1 1/2</li><li>garlic: 2</li><li>red pepper flakes: 4</li><li>salt: 1/4</li><li>black pepper: 1/2</li><li>sun-dried tomato: 1/4</li><li>white wine: 1/2</li><li>cabbage: 1/2</li></ul>"
      ],
      "text/plain": [
       "<IPython.core.display.HTML object>"
      ]
     },
     "metadata": {},
     "output_type": "display_data"
    },
    {
     "data": {
      "text/html": [
       "<h3>Instructions:</h3>"
      ],
      "text/plain": [
       "<IPython.core.display.HTML object>"
      ]
     },
     "metadata": {},
     "output_type": "display_data"
    },
    {
     "data": {
      "text/html": [
       "<ol><li>In a medium stockpot or Dutch oven heat olive oil, over high heat, and saute sausage for 3 minutes.</li><li>Remove with a slotted spoon and set aside. Add onion, garlic, red pepper flakes, salt, pepper and sun dried tomatoes.</li><li>Reduce heat to medium high and saute until onions are soft, about 3 - 5 minutes.</li><li>Stir in the wine and cook 2 minutes.</li><li>Add cabbage, reserved sausage and chicken stock.</li><li>bring to a boil, reduce heat and simmer 15 minutes.</li><li>- - - - - - - - - - - - - - - - - - NOTES :    To serve, place a piece of garlic toast in the bottom of the bowl and ladle soup over top.</li></ol>"
      ],
      "text/plain": [
       "<IPython.core.display.HTML object>"
      ]
     },
     "metadata": {},
     "output_type": "display_data"
    },
    {
     "data": {
      "text/html": [
       "<h2>Bourbon Pecan Pound Cake</h2>"
      ],
      "text/plain": [
       "<IPython.core.display.HTML object>"
      ]
     },
     "metadata": {},
     "output_type": "display_data"
    },
    {
     "data": {
      "text/html": [
       "<h3>Ingredients:</h3>"
      ],
      "text/plain": [
       "<IPython.core.display.HTML object>"
      ]
     },
     "metadata": {},
     "output_type": "display_data"
    },
    {
     "data": {
      "text/html": [
       "<ul><li>butter: 1/2</li><li>sugar: 2 1/2</li><li>eggs: 6</li><li>cake flour: 3</li><li>baking powder: 2</li><li>salt: 1</li><li>nutmeg: 1</li><li>sour cream: 1</li><li>Bourbon: 1/2</li><li>pecans: 1 1/2</li><li>powdered sugar: 2</li><li>Bourbon: 1</li><li>water: 2</li></ul>"
      ],
      "text/plain": [
       "<IPython.core.display.HTML object>"
      ]
     },
     "metadata": {},
     "output_type": "display_data"
    },
    {
     "data": {
      "text/html": [
       "<h3>Instructions:</h3>"
      ],
      "text/plain": [
       "<IPython.core.display.HTML object>"
      ]
     },
     "metadata": {},
     "output_type": "display_data"
    },
    {
     "data": {
      "text/html": [
       "<ol><li>Combine butter and sugar in bowl of electric mixer and blend until light and fluffy.</li><li>Add eggs one at a time, beating constantly.</li><li>Sift together flour, baking powder, salt, and nutmeg.</li><li>Blend sour cream and bourbon.</li><li>Alternately add flour and sour cream mixture to batter.</li><li>Add pecans.</li><li>Grease bottom and sides of tube or bunt pan.</li><li>Pour in batter and bake at 325 degrees for about one hour and 30 minutes.</li><li>Test cake frequently after first hour and 15 minutes for doneness.</li><li>Let cake cool in pan for 15 minutes before turning out on wire rack.</li><li>To prepare glaze, combine sugar and bourbon.</li><li>Stir while gradually adding water.</li><li>Add only enough water to make a pourable glaze without allowing mixture to become too thin.</li><li>Pour glaze over top of warm cake and let dribble down sides.</li></ol>"
      ],
      "text/plain": [
       "<IPython.core.display.HTML object>"
      ]
     },
     "metadata": {},
     "output_type": "display_data"
    },
    {
     "data": {
      "text/html": [
       "<h2>Chicago Style Pizza</h2>"
      ],
      "text/plain": [
       "<IPython.core.display.HTML object>"
      ]
     },
     "metadata": {},
     "output_type": "display_data"
    },
    {
     "data": {
      "text/html": [
       "<h3>Ingredients:</h3>"
      ],
      "text/plain": [
       "<IPython.core.display.HTML object>"
      ]
     },
     "metadata": {},
     "output_type": "display_data"
    },
    {
     "data": {
      "text/html": [
       "<ul><li>dry yeast: 1</li><li>water: 1 1/4</li><li>sugar: 1</li><li>salt: 1 1/2</li><li>flour: 1/4</li><li>cornmeal: 3</li><li>mozzarella cheese: 2</li><li>oregano: 0.5</li><li>pepper: 1</li><li>green pepper: 1/4</li><li>mushroom: 1/4</li><li>parmesan cheese: 1/4</li></ul>"
      ],
      "text/plain": [
       "<IPython.core.display.HTML object>"
      ]
     },
     "metadata": {},
     "output_type": "display_data"
    },
    {
     "data": {
      "text/html": [
       "<h3>Instructions:</h3>"
      ],
      "text/plain": [
       "<IPython.core.display.HTML object>"
      ]
     },
     "metadata": {},
     "output_type": "display_data"
    },
    {
     "data": {
      "text/html": [
       "<ol><li>For crust, dissolve yeast in water.</li><li>Add sugar,  salt and 2 tablespoons oil.</li><li>Stir in flour to make a soft  dough.</li><li>Turn out onto well floured board.</li><li>Knead about 3  minutes.</li><li>Put in greased bowl; cover and let rise in warm place  about 1 1/2  hours.</li><li>Brush a 14-inch deep-dish pizza pan with  2 tablespoons oil; sprinkle  with corn meal.</li><li>Punch dough down;  press in bottom of pan.</li><li>Let rise 30 minutes.</li><li>Punch down  again, lightly coat with olive oil.</li><li>Cook at 450 degrees for  about  10 minutes until set. (Punch down dough after 5 minutes or so.) Arrange cheese  over dough.</li><li>Place pepperoni,  olives, peppers and mushrooms over cheese. Spread  pizza sauce. Sprinkle with oregano, crushed pepper and  Parmesan cheese. Place  pizza in oven and cook at 450 degrees  until cheese is melted and crust is  golden (about 20 to 25 minutes). Makes  8 slices.</li></ol>"
      ],
      "text/plain": [
       "<IPython.core.display.HTML object>"
      ]
     },
     "metadata": {},
     "output_type": "display_data"
    },
    {
     "data": {
      "text/html": [
       "<h2>Chicken and Dumplings</h2>"
      ],
      "text/plain": [
       "<IPython.core.display.HTML object>"
      ]
     },
     "metadata": {},
     "output_type": "display_data"
    },
    {
     "data": {
      "text/html": [
       "<h3>Ingredients:</h3>"
      ],
      "text/plain": [
       "<IPython.core.display.HTML object>"
      ]
     },
     "metadata": {},
     "output_type": "display_data"
    },
    {
     "data": {
      "text/html": [
       "<ul><li>chicken: 4</li><li>carrot: 1</li><li>celery: 2</li><li>onion: 1</li><li>chicken bouillon cubes: 2</li><li>butter: 1/4</li><li>flour: 1</li><li>sherry wine: 1</li><li>lemon juice: 1</li><li>salt: 2</li><li>baking powder: 1/4</li><li>salt: 3</li><li>shortening: 3/4</li><li>milk: 1</li></ul>"
      ],
      "text/plain": [
       "<IPython.core.display.HTML object>"
      ]
     },
     "metadata": {},
     "output_type": "display_data"
    },
    {
     "data": {
      "text/html": [
       "<h3>Instructions:</h3>"
      ],
      "text/plain": [
       "<IPython.core.display.HTML object>"
      ]
     },
     "metadata": {},
     "output_type": "display_data"
    },
    {
     "data": {
      "text/html": [
       "<ol><li>Place chickens in large saucepan, cover with water and bring to a boil.</li><li>Simmer until chickens are tender.</li><li>Remove chickens from pan and set aside. Remove backbones.</li><li>Add chopped carrot, celery and onion and simmer 30 minutes.</li><li>Add chicken stock base and remove from heat. Strain and reserve stock.</li><li>Melt butter and stir in 1 cup flour until smooth.</li><li>Add to straine reserved chicken stock.</li><li>Simmer 5 minutes.</li><li>Add sherry and lemon juice, salt to taste and, if desired, food color.</li><li>For dumplings, combine 1 1/2 cups flour, baking powder and 1/4 tsp salt in mixing bowl.</li><li>Cut in shortening until mixture resembles cornmeal.</li><li>Stir in milk until just blended.</li><li>Place about 1/2 inch water in saucepan with wire rack that comes 2 to 3 inches above water line. Cover rack with lightly oiled waxed paper, oiled side up.</li><li>With water gently simmering, drop dumplings by tablespoon onto waxed paper, leaving room in between for expansion.</li><li>Steam 8 minutes, uncovered, then cover and steam 7 minutes longer.</li><li>Meanwhile, remove skin from cooked chicken and bone, if desired.</li><li>Cut in large pieces.</li><li>Place chicken pieces in casserole. Arrange dumplings on chicken.</li><li>Cover with sauce and sprinkle with peas for color.</li></ol>"
      ],
      "text/plain": [
       "<IPython.core.display.HTML object>"
      ]
     },
     "metadata": {},
     "output_type": "display_data"
    },
    {
     "data": {
      "text/html": [
       "<h2>Brownie Pudding</h2>"
      ],
      "text/plain": [
       "<IPython.core.display.HTML object>"
      ]
     },
     "metadata": {},
     "output_type": "display_data"
    },
    {
     "data": {
      "text/html": [
       "<h3>Ingredients:</h3>"
      ],
      "text/plain": [
       "<IPython.core.display.HTML object>"
      ]
     },
     "metadata": {},
     "output_type": "display_data"
    },
    {
     "data": {
      "text/html": [
       "<ul><li>all-purpose flour: 1/2</li><li>granulated sugar: 1/2</li><li>baking powder: 1/2</li><li>salt: 2</li><li>milk: 1/4</li><li>vanilla: 1/2</li><li>butter: 1</li><li>brown sugar: 2</li><li>boiling water: 1/2</li></ul>"
      ],
      "text/plain": [
       "<IPython.core.display.HTML object>"
      ]
     },
     "metadata": {},
     "output_type": "display_data"
    },
    {
     "data": {
      "text/html": [
       "<h3>Instructions:</h3>"
      ],
      "text/plain": [
       "<IPython.core.display.HTML object>"
      ]
     },
     "metadata": {},
     "output_type": "display_data"
    },
    {
     "data": {
      "text/html": [
       "<ol><li>Preheat oven to 350 degrees.</li><li>Combine flour, granulated sugar, 1/4  cup cocoa,  baking powder and salt in a bowl.</li><li>Stir in milk, butter and vanilla  until  smooth.</li><li>Stir in chocolate chips.</li><li>Spread in ungreased shallow 1  1/2 quart  casserole.  Sprinkle brown sugar and 1/4 cup cocoa on top.</li><li>Place in oven, pour  boiling water over top.</li><li>Bake 35 minutes, cool 10 minutes before  serving.</li><li>Serve with ice cream if desired.</li></ol>"
      ],
      "text/plain": [
       "<IPython.core.display.HTML object>"
      ]
     },
     "metadata": {},
     "output_type": "display_data"
    },
    {
     "data": {
      "text/html": [
       "<h2>California Chilled Salsa</h2>"
      ],
      "text/plain": [
       "<IPython.core.display.HTML object>"
      ]
     },
     "metadata": {},
     "output_type": "display_data"
    },
    {
     "data": {
      "text/html": [
       "<h3>Ingredients:</h3>"
      ],
      "text/plain": [
       "<IPython.core.display.HTML object>"
      ]
     },
     "metadata": {},
     "output_type": "display_data"
    },
    {
     "data": {
      "text/html": [
       "<ul><li>tomatoes: 2</li><li>celery: 1</li><li>onion: 1</li><li>green pepper: 1</li><li>salt: 1 1/2</li><li>cider vinegar: 1</li><li>sugar: 1</li><li>green chili pepper: 1</li></ul>"
      ],
      "text/plain": [
       "<IPython.core.display.HTML object>"
      ]
     },
     "metadata": {},
     "output_type": "display_data"
    },
    {
     "data": {
      "text/html": [
       "<h3>Instructions:</h3>"
      ],
      "text/plain": [
       "<IPython.core.display.HTML object>"
      ]
     },
     "metadata": {},
     "output_type": "display_data"
    },
    {
     "data": {
      "text/html": [
       "<ol><li>* Also delicious made with red sweet peppers or a combination of red and  green for nice color.</li><li>Combine all ingredients; if finer texture is desired may be put  through food grinder using fine blade.</li><li>Cover tightly and chill overnight.</li><li>Serving Ideas : Serve cold as a relish with meat.</li><li>Kim C.</li></ol>"
      ],
      "text/plain": [
       "<IPython.core.display.HTML object>"
      ]
     },
     "metadata": {},
     "output_type": "display_data"
    },
    {
     "data": {
      "text/html": [
       "<h2>Alfredo Sauce</h2>"
      ],
      "text/plain": [
       "<IPython.core.display.HTML object>"
      ]
     },
     "metadata": {},
     "output_type": "display_data"
    },
    {
     "data": {
      "text/html": [
       "<img src=\"https://img.sndimg.com/food/image/upload/w_555,h_416,c_fit,fl_progressive,q_95/v1/img/recipes/76/lfS6kBlpRJMGzvXr3Gkz_AS%204%20-%20final_2.jpg\" width=\"400\"/>"
      ],
      "text/plain": [
       "<IPython.core.display.Image object>"
      ]
     },
     "metadata": {},
     "output_type": "display_data"
    },
    {
     "data": {
      "text/html": [
       "<h3>Ingredients:</h3>"
      ],
      "text/plain": [
       "<IPython.core.display.HTML object>"
      ]
     },
     "metadata": {},
     "output_type": "display_data"
    },
    {
     "data": {
      "text/html": [
       "<ul><li>sweet butter: 1/4</li><li>heavy cream: 1</li><li>parmesan cheese: 3/4</li><li>salt: 1/4</li></ul>"
      ],
      "text/plain": [
       "<IPython.core.display.HTML object>"
      ]
     },
     "metadata": {},
     "output_type": "display_data"
    },
    {
     "data": {
      "text/html": [
       "<h3>Instructions:</h3>"
      ],
      "text/plain": [
       "<IPython.core.display.HTML object>"
      ]
     },
     "metadata": {},
     "output_type": "display_data"
    },
    {
     "data": {
      "text/html": [
       "<ol><li>Place butter in microwave safe pot and heat on high for 30 seconds or until melted.</li><li>Add cream and warm on high for approximately 1 minute.</li><li>Add Parmesan cheese and warm until cheese melts.</li><li>Add salt and pepper to taste. (If serving with shrimp, you might not need much salt.).</li><li>Pour over 4 servings of warm noodles (I use angel hair) and toss to coat. Serve immediately.</li><li>Notes: I serve it with cubed, grilled or broiled chicken breast mixed in with the noodles or shrimp. Add a green salad and you have a complete meal. I have used margarine and canned Parmesan cheese and it worked fine.</li></ol>"
      ],
      "text/plain": [
       "<IPython.core.display.HTML object>"
      ]
     },
     "metadata": {},
     "output_type": "display_data"
    },
    {
     "data": {
      "text/html": [
       "<h2>Bread Pudding</h2>"
      ],
      "text/plain": [
       "<IPython.core.display.HTML object>"
      ]
     },
     "metadata": {},
     "output_type": "display_data"
    },
    {
     "data": {
      "text/html": [
       "<h3>Ingredients:</h3>"
      ],
      "text/plain": [
       "<IPython.core.display.HTML object>"
      ]
     },
     "metadata": {},
     "output_type": "display_data"
    },
    {
     "data": {
      "text/html": [
       "<ul><li>milk: 2</li><li>eggs: 1</li><li>sugar: 2</li><li>salt: 2</li><li>real vanilla: 9</li><li>unsalted butter: 1/2</li></ul>"
      ],
      "text/plain": [
       "<IPython.core.display.HTML object>"
      ]
     },
     "metadata": {},
     "output_type": "display_data"
    },
    {
     "data": {
      "text/html": [
       "<h3>Instructions:</h3>"
      ],
      "text/plain": [
       "<IPython.core.display.HTML object>"
      ]
     },
     "metadata": {},
     "output_type": "display_data"
    },
    {
     "data": {
      "text/html": [
       "<ol><li>Mix bread and milk together.</li><li>Add the 2 eggs and the 2 egg yolks with 5 tbsp of sugar and salt.</li><li>Add to the milk mixture will be the vanilla and butter.</li><li>Mix well and pour into a slightly greased 1 1/2 quart casserole.</li><li>Bake in a pie pan of water at 350° oven for 45 minutes.</li><li>For the Meringue topping: Beat the egg whites until stiff and add the 4 tbsp of sugar to it.</li><li>Pour in slowly</li><li>Top the already baked pudding with it--making swirly peaks for decorations.</li><li>Bake again at 300° until a golden brown.</li></ol>"
      ],
      "text/plain": [
       "<IPython.core.display.HTML object>"
      ]
     },
     "metadata": {},
     "output_type": "display_data"
    },
    {
     "data": {
      "text/html": [
       "<h2>Brazilian Empadinhas</h2>"
      ],
      "text/plain": [
       "<IPython.core.display.HTML object>"
      ]
     },
     "metadata": {},
     "output_type": "display_data"
    },
    {
     "data": {
      "text/html": [
       "<img src=\"https://img.sndimg.com/food/image/upload/w_555,h_416,c_fit,fl_progressive,q_95/v1/img/recipes/82/82.jpg\" width=\"400\"/>"
      ],
      "text/plain": [
       "<IPython.core.display.Image object>"
      ]
     },
     "metadata": {},
     "output_type": "display_data"
    },
    {
     "data": {
      "text/html": [
       "<h3>Ingredients:</h3>"
      ],
      "text/plain": [
       "<IPython.core.display.HTML object>"
      ]
     },
     "metadata": {},
     "output_type": "display_data"
    },
    {
     "data": {
      "text/html": [
       "<ul><li>butter: 2 1/2</li><li>flour: 1/2</li><li>salt: 1/4</li><li>margarine: 1</li><li>milk: 1</li><li>water: 3</li><li>shrimp: 1</li><li>onion: 1/2</li><li>tomatoes: 1/2</li><li>parsley: 3</li><li>lemon: 1</li><li>salt: 1</li><li>pepper: 1/2</li><li>Tabasco sauce: 2</li><li>garlic: 2</li><li>cornstarch: 1</li><li>olive oil: 2</li></ul>"
      ],
      "text/plain": [
       "<IPython.core.display.HTML object>"
      ]
     },
     "metadata": {},
     "output_type": "display_data"
    },
    {
     "data": {
      "text/html": [
       "<h3>Instructions:</h3>"
      ],
      "text/plain": [
       "<IPython.core.display.HTML object>"
      ]
     },
     "metadata": {},
     "output_type": "display_data"
    },
    {
     "data": {
      "text/html": [
       "<ol><li>DOUGH Cut butter into salt and flour.</li><li>Stir in rest of the ingredients and knead to  combine or just process everything until it forms a ball.</li><li>Let rest covered 1  hour Make balls the size of a walnut, from 2/3  of the dough and line small  muffin tins with the dough.</li><li>Place 2 tsp. of the cold filling into the lined  tins.</li><li>Make small balls with the rest of the dough.</li><li>Flatten them to make lids for the mini pies.</li><li>Brush tops with egg yolk Bake in preheated 350 F oven for 30 to  35 minutes or until golden brown.</li><li>SHRIMP FILLING Clean and devein shrimp, saving heads and shells.</li><li>Make a broth with the shells  and heads and 2 cups water.</li><li>Cook 1 hour, uncovered over low heat. Strain broth  and cook it down to 1/2 cup.</li><li>Cook onions and garlic in olive oil until they  start changing color.</li><li>Add bell pepper and cook 2 minutes, Add tomatoes, broth  and seasonings and simmer almost to a paste. Add shrimp and cook just until they become opaque. Stir in cornstarch diluted in 2 Tbsp water.</li><li>Stir until thick.</li><li>Add parsley.</li><li>Let cool before using</li><li>NOTES : May use other fillings such as chicken, hearts of palms, cheese Miriam Podcameni Posvolsky Rio de Janeiro</li></ol>"
      ],
      "text/plain": [
       "<IPython.core.display.HTML object>"
      ]
     },
     "metadata": {},
     "output_type": "display_data"
    },
    {
     "data": {
      "text/html": [
       "<h2>Cheeseburger Casserole</h2>"
      ],
      "text/plain": [
       "<IPython.core.display.HTML object>"
      ]
     },
     "metadata": {},
     "output_type": "display_data"
    },
    {
     "data": {
      "text/html": [
       "<img src=\"https://img.sndimg.com/food/image/upload/w_555,h_416,c_fit,fl_progressive,q_95/v1/img/recipes/10/4/picP5Bk3R.jpg\" width=\"400\"/>"
      ],
      "text/plain": [
       "<IPython.core.display.Image object>"
      ]
     },
     "metadata": {},
     "output_type": "display_data"
    },
    {
     "data": {
      "text/html": [
       "<h3>Ingredients:</h3>"
      ],
      "text/plain": [
       "<IPython.core.display.HTML object>"
      ]
     },
     "metadata": {},
     "output_type": "display_data"
    },
    {
     "data": {
      "text/html": [
       "<ul><li>flour: 1 1/2</li><li>ground beef: 1 -2</li><li>onion: 1/4</li><li>tomato sauce: 1</li><li>ketchup: 1/2</li><li>salt: 1</li><li>pepper: 1/8</li><li>cheddar cheese: 1</li></ul>"
      ],
      "text/plain": [
       "<IPython.core.display.HTML object>"
      ]
     },
     "metadata": {},
     "output_type": "display_data"
    },
    {
     "data": {
      "text/html": [
       "<h3>Instructions:</h3>"
      ],
      "text/plain": [
       "<IPython.core.display.HTML object>"
      ]
     },
     "metadata": {},
     "output_type": "display_data"
    },
    {
     "data": {
      "text/html": [
       "<ol><li>Combine ground beef and flour in skillet. Add onion and brown.</li><li>Pour off drippings.</li><li>Add tomato sauce, ketchup, salt and pepper.</li><li>Pour into 1 1/2-quart casserole dish.</li><li>Bake for 10 minutes at 425°F.</li><li>Top with cheese and biscuits.</li><li>Bake for 10-15 minutes longer.</li></ol>"
      ],
      "text/plain": [
       "<IPython.core.display.HTML object>"
      ]
     },
     "metadata": {},
     "output_type": "display_data"
    },
    {
     "data": {
      "text/html": [
       "<h2>Caputo's Halibut With Mint and Balsamic Vinegar</h2>"
      ],
      "text/plain": [
       "<IPython.core.display.HTML object>"
      ]
     },
     "metadata": {},
     "output_type": "display_data"
    },
    {
     "data": {
      "text/html": [
       "<h3>Ingredients:</h3>"
      ],
      "text/plain": [
       "<IPython.core.display.HTML object>"
      ]
     },
     "metadata": {},
     "output_type": "display_data"
    },
    {
     "data": {
      "text/html": [
       "<ul><li>halibut steaks: 4</li><li>extra virgin olive oil: 1/4</li><li>mint leaves: 1/4</li><li>garlic clove: 8</li></ul>"
      ],
      "text/plain": [
       "<IPython.core.display.HTML object>"
      ]
     },
     "metadata": {},
     "output_type": "display_data"
    },
    {
     "data": {
      "text/html": [
       "<h3>Instructions:</h3>"
      ],
      "text/plain": [
       "<IPython.core.display.HTML object>"
      ]
     },
     "metadata": {},
     "output_type": "display_data"
    },
    {
     "data": {
      "text/html": [
       "<ol><li>Brush both sides of the fish with some of the olive oil and place on hot grill, barbecue or hot skillet.</li><li>Cook 2 to 3 minutes on each side or until  fish is done.</li><li>In another pan, heat the remaining oil, balsamic vinegar and the mint until just warm.</li><li>Just before serving, add the garlic to the sauce and spoon over the fish.</li></ol>"
      ],
      "text/plain": [
       "<IPython.core.display.HTML object>"
      ]
     },
     "metadata": {},
     "output_type": "display_data"
    },
    {
     "data": {
      "text/html": [
       "<h2>Buttermilk Pie in Cornmeal Pastry</h2>"
      ],
      "text/plain": [
       "<IPython.core.display.HTML object>"
      ]
     },
     "metadata": {},
     "output_type": "display_data"
    },
    {
     "data": {
      "text/html": [
       "<h3>Ingredients:</h3>"
      ],
      "text/plain": [
       "<IPython.core.display.HTML object>"
      ]
     },
     "metadata": {},
     "output_type": "display_data"
    },
    {
     "data": {
      "text/html": [
       "<ul><li>flour: 1</li><li>salt: 1/2</li><li>cornmeal: 1/2</li><li>shortening: 1/2</li><li>cheddar cheese: 1/2</li><li>water: 1/4</li><li>eggs: 3</li><li>sugar: 1</li><li>butter: 1</li><li>flour: 1/4</li><li>buttermilk: 2</li><li>lemon zest: 1/4</li><li>lemon juice: 2</li><li>sugar: 3</li></ul>"
      ],
      "text/plain": [
       "<IPython.core.display.HTML object>"
      ]
     },
     "metadata": {},
     "output_type": "display_data"
    },
    {
     "data": {
      "text/html": [
       "<h3>Instructions:</h3>"
      ],
      "text/plain": [
       "<IPython.core.display.HTML object>"
      ]
     },
     "metadata": {},
     "output_type": "display_data"
    },
    {
     "data": {
      "text/html": [
       "<ol><li>For Pastry: Sift together flour and salt; stir in cornmeal.</li><li>Cut in shortening until mixture resembles fine crumbs.</li><li>Stir in grated Cheddar cheese; sprinkle water over mixture gradually, mixing lightly with fork.</li><li>Shape into ball; flatten on lightly floured surface. Roll to about 1/8\\</li><li>,</li><li>pie pan; trim and flute edge. Fill and bake as directed below.</li><li>For Filling: Separate 3 eggs and set whites aside for use in meringue.</li><li>Beat yolks, adding sugar gradually.</li><li>Cut butter into flour; add buttermilk, lemon peel and juice. Fold in yolks.</li><li>Pour into 9\\</li><li>,</li><li>,</li><li>,</li><li>,</li><li>,</li></ol>"
      ],
      "text/plain": [
       "<IPython.core.display.HTML object>"
      ]
     },
     "metadata": {},
     "output_type": "display_data"
    },
    {
     "data": {
      "text/html": [
       "<h2>Butterflied Lamb with Garlic Butter</h2>"
      ],
      "text/plain": [
       "<IPython.core.display.HTML object>"
      ]
     },
     "metadata": {},
     "output_type": "display_data"
    },
    {
     "data": {
      "text/html": [
       "<img src=\"https://img.sndimg.com/food/image/upload/w_555,h_416,c_fit,fl_progressive,q_95/v1/img/recipes/10/9/picnSlN8g.jpg\" width=\"400\"/>"
      ],
      "text/plain": [
       "<IPython.core.display.Image object>"
      ]
     },
     "metadata": {},
     "output_type": "display_data"
    },
    {
     "data": {
      "text/html": [
       "<h3>Ingredients:</h3>"
      ],
      "text/plain": [
       "<IPython.core.display.HTML object>"
      ]
     },
     "metadata": {},
     "output_type": "display_data"
    },
    {
     "data": {
      "text/html": [
       "<ul><li>lamb: 2</li><li>parsley: 1/4</li><li>fresh thyme: 1</li><li>lemon, rind of: 1</li><li>garlic: 4</li><li>cracked black pepper: 1</li><li>butter: 90</li><li>lemon juice: 1/4</li><li>small potato: 1</li><li>shallots: 250</li><li>olive oil: 2</li></ul>"
      ],
      "text/plain": [
       "<IPython.core.display.HTML object>"
      ]
     },
     "metadata": {},
     "output_type": "display_data"
    },
    {
     "data": {
      "text/html": [
       "<h3>Instructions:</h3>"
      ],
      "text/plain": [
       "<IPython.core.display.HTML object>"
      ]
     },
     "metadata": {},
     "output_type": "display_data"
    },
    {
     "data": {
      "text/html": [
       "<ol><li>Open lamb out flat, place the fat-side down on a board.  Using a meat mallet or  rolling pin pound the lamb to even thickness.</li><li>Combine herbs, rind, garlic,  pepper and butter in a small bowl; spread the mixture over the fat-side of the  lamb.</li><li>Place lamb in a large shallow dish, drizzle the juice over.  Cover,  refrigerate 3 hours or overnight.</li><li>Place the potatoes and onions in a large  roasting dish; drizzle with oil.  Bake uncovered, in a moderately hot oven 20  minutes.</li><li>Place lamb, fat-side up, over the vegetables in the roasting dish.  Bake uncovered in moderately hot oven about 40 minutes or until lamb doneness as  desired.</li><li>Remove the lamb from the dish, cover loosely with foil to keep warm.</li><li>Drain the excess juices from the pan, bake potatoes and onions in a very hot  oven another 15 minutes or until crisp.</li><li>Slice lamb and serve with the  vegetables.</li></ol>"
      ],
      "text/plain": [
       "<IPython.core.display.HTML object>"
      ]
     },
     "metadata": {},
     "output_type": "display_data"
    },
    {
     "data": {
      "text/html": [
       "<h2>Chicken and Broccoli Lasagna</h2>"
      ],
      "text/plain": [
       "<IPython.core.display.HTML object>"
      ]
     },
     "metadata": {},
     "output_type": "display_data"
    },
    {
     "data": {
      "text/html": [
       "<h3>Ingredients:</h3>"
      ],
      "text/plain": [
       "<IPython.core.display.HTML object>"
      ]
     },
     "metadata": {},
     "output_type": "display_data"
    },
    {
     "data": {
      "text/html": [
       "<ul><li>butter: 4</li><li>flour: 4</li><li>milk: 2</li><li>chicken broth: 1</li><li>eggs: 3</li><li>parmesan cheese: 1/2</li><li>butter: 2</li><li>onion: 1</li><li>garlic: 1</li><li>chicken: 1 1/2</li><li>broccoli: 2</li><li>parsley: 1/4</li><li>mozzarella cheese: 2</li><li>parmesan cheese: 1/4</li><li>salt: 1/2</li><li>nutmeg: 1</li></ul>"
      ],
      "text/plain": [
       "<IPython.core.display.HTML object>"
      ]
     },
     "metadata": {},
     "output_type": "display_data"
    },
    {
     "data": {
      "text/html": [
       "<h3>Instructions:</h3>"
      ],
      "text/plain": [
       "<IPython.core.display.HTML object>"
      ]
     },
     "metadata": {},
     "output_type": "display_data"
    },
    {
     "data": {
      "text/html": [
       "<ol><li>Sauce: Melt butter, stir in flour.  Add milk, whisk until smooth.  Stir in broth.  Cook, stirring constantly, until thick.</li><li>Beat eggs in   separate bowl, add small amount of sauce; then combine egg mix with   all sauce. Stir in cheese and seasonings.</li><li>Cook noodles.</li><li>Saute chicken in butter with onion and garlic. Stir in broccoli, cook 5 min.  until tender.  Add seasonings.</li><li>Layer in 9 x 13 pan: sauce, mozzarella, noodles, chicken.</li><li>Repeat. Finish with cheese.</li><li>Freeze. Bake 350 for 50 min, until bubbly.</li></ol>"
      ],
      "text/plain": [
       "<IPython.core.display.HTML object>"
      ]
     },
     "metadata": {},
     "output_type": "display_data"
    },
    {
     "data": {
      "text/html": [
       "<h2>Carrot Ginger Biscuits</h2>"
      ],
      "text/plain": [
       "<IPython.core.display.HTML object>"
      ]
     },
     "metadata": {},
     "output_type": "display_data"
    },
    {
     "data": {
      "text/html": [
       "<h3>Ingredients:</h3>"
      ],
      "text/plain": [
       "<IPython.core.display.HTML object>"
      ]
     },
     "metadata": {},
     "output_type": "display_data"
    },
    {
     "data": {
      "text/html": [
       "<ul><li>all-purpose flour: 1 1/2</li><li>whole wheat flour: 1/2</li><li>baking powder: 1 1/2</li><li>baking soda: 1 1/2</li><li>ginger: 1 1/2</li><li>salt: 1/2</li><li>carrot: 1/2</li><li>plain low-fat yogurt: 2</li><li>canola oil: 2</li><li>honey: 2</li></ul>"
      ],
      "text/plain": [
       "<IPython.core.display.HTML object>"
      ]
     },
     "metadata": {},
     "output_type": "display_data"
    },
    {
     "data": {
      "text/html": [
       "<h3>Instructions:</h3>"
      ],
      "text/plain": [
       "<IPython.core.display.HTML object>"
      ]
     },
     "metadata": {},
     "output_type": "display_data"
    },
    {
     "data": {
      "text/html": [
       "<ol><li>Preheat oven to 450.</li><li>In a large bowl, stir together the all-purpose flour and  whole wheat flour, baking powder and baking soda, ginger and salt.  In a small  bowl, stir together the carrot, yogurt, oil and honey.</li><li>Add carrot mixture to  dry ingredients and stir until just combined.</li><li>Place the dough on a well-floured surface.  Using a lightly floured rolling pin, roll out the dough until 1/2\\</li><li>,</li><li>biscuit cutter or glass ,  cut out rounds, gently rerolling the scraps, to form 12 biscuits.</li><li>Place the  biscuits on an ungreased baking sheet, spacing them 1\\</li><li>,</li></ol>"
      ],
      "text/plain": [
       "<IPython.core.display.HTML object>"
      ]
     },
     "metadata": {},
     "output_type": "display_data"
    },
    {
     "data": {
      "text/html": [
       "<h2>Chicken Breasts Saltimbocca</h2>"
      ],
      "text/plain": [
       "<IPython.core.display.HTML object>"
      ]
     },
     "metadata": {},
     "output_type": "display_data"
    },
    {
     "data": {
      "text/html": [
       "<img src=\"https://img.sndimg.com/food/image/upload/w_555,h_416,c_fit,fl_progressive,q_95/v1/img/recipes/11/4/picn5ling.jpg\" width=\"400\"/>"
      ],
      "text/plain": [
       "<IPython.core.display.Image object>"
      ]
     },
     "metadata": {},
     "output_type": "display_data"
    },
    {
     "data": {
      "text/html": [
       "<h3>Ingredients:</h3>"
      ],
      "text/plain": [
       "<IPython.core.display.HTML object>"
      ]
     },
     "metadata": {},
     "output_type": "display_data"
    },
    {
     "data": {
      "text/html": [
       "<ul><li>boneless skinless chicken breast halves: 6</li><li>ham slices: 6</li><li>swiss cheese: 6</li><li>all-purpose flour: 1/4</li><li>parmesan cheese: 1/4</li><li>salt: 1</li><li>dried sage: 1/2</li><li>pepper: 1/4</li><li>dry white wine: 1/3</li><li>cornstarch: 1</li><li>water: 1/2</li><li>rice: 1/4</li></ul>"
      ],
      "text/plain": [
       "<IPython.core.display.HTML object>"
      ]
     },
     "metadata": {},
     "output_type": "display_data"
    },
    {
     "data": {
      "text/html": [
       "<h3>Instructions:</h3>"
      ],
      "text/plain": [
       "<IPython.core.display.HTML object>"
      ]
     },
     "metadata": {},
     "output_type": "display_data"
    },
    {
     "data": {
      "text/html": [
       "<ol><li>Pound chicken breast halves until thin between  two sheets of waxed paper or  foil.</li><li>Place a slice of ham and cheese on each chicken piece.  Roll up and tuck  ends in; secure with small skewers or  wooden picks.</li><li>Combine flour, Parmesan  cheese, salt, sage and pepper in a shallow bowl.</li><li>Coat chicken rolls in flour  mixture.  Refrigerate chicken at least 1 hour.</li><li>In a large skillet, heat oil  over medium heat.  Add chicken rolls and cook, turning, until browned on all  sides.</li><li>Place browned chicken in a slow cooker.</li><li>Combine soup and wine and pour  over chicken rolls.</li><li>Cover and cook on LOW 4 to 5 hours or until chicken is  tender.</li><li>Turn control to HIGH.</li><li>In a small bowl, dissolve cornstarch in water;  stir into cooking juices in cooker.</li><li>Cover and cook on HIGH 10 minutes.</li><li>Serve  with hot rice.</li></ol>"
      ],
      "text/plain": [
       "<IPython.core.display.HTML object>"
      ]
     },
     "metadata": {},
     "output_type": "display_data"
    },
    {
     "data": {
      "text/html": [
       "<h2>A New Spaghetti with Clams</h2>"
      ],
      "text/plain": [
       "<IPython.core.display.HTML object>"
      ]
     },
     "metadata": {},
     "output_type": "display_data"
    },
    {
     "data": {
      "text/html": [
       "<h3>Ingredients:</h3>"
      ],
      "text/plain": [
       "<IPython.core.display.HTML object>"
      ]
     },
     "metadata": {},
     "output_type": "display_data"
    },
    {
     "data": {
      "text/html": [
       "<ul><li>littleneck clams: 36</li><li>extra virgin olive oil: 1</li><li>garlic: 3</li><li>Canadian bacon: 1</li><li>smoked ham: 1/4</li><li>dry white vermouth: 1/2</li><li>dry white wine: 1</li><li>bottled clam broth: 1</li><li>baking potato: 8</li><li>spaghetti: 1/2</li></ul>"
      ],
      "text/plain": [
       "<IPython.core.display.HTML object>"
      ]
     },
     "metadata": {},
     "output_type": "display_data"
    },
    {
     "data": {
      "text/html": [
       "<h3>Instructions:</h3>"
      ],
      "text/plain": [
       "<IPython.core.display.HTML object>"
      ]
     },
     "metadata": {},
     "output_type": "display_data"
    },
    {
     "data": {
      "text/html": [
       "<ol><li>Bring 4 quarts of water to a boil in a large pot for cooking pasta.</li><li>Scrub</li><li>the clam shells under cold water with a stiff bristle brush.</li><li>Heat the olive oil in a large nonstick skillet. Add the garlic and cook over a medium heat until fragrant but not brown, about 1 minute. Stir in the bacon and pepper flakes and cook for 1 minute. Add vermouth and bring to a boil.</li><li>Add the clam broth, and bring to a boil.</li><li>Stir in the potatoes and clams, tightly cover the pan, and cook until the shells open and the potatoes are tender, about 8 minutes.</li><li>Cook the spaghetti in the boiling water until al dente, about 8 minutes.</li><li>Drain the pasta in a colander.</li><li>Stir it into the sauce and cook until thoroughly heated and coated with sauce, about 2 minutes.</li><li>Stir in the parsley and serve at once.</li></ol>"
      ],
      "text/plain": [
       "<IPython.core.display.HTML object>"
      ]
     },
     "metadata": {},
     "output_type": "display_data"
    },
    {
     "data": {
      "text/html": [
       "<h2>Blueberry Scones</h2>"
      ],
      "text/plain": [
       "<IPython.core.display.HTML object>"
      ]
     },
     "metadata": {},
     "output_type": "display_data"
    },
    {
     "data": {
      "text/html": [
       "<img src=\"https://img.sndimg.com/food/image/upload/w_555,h_416,c_fit,fl_progressive,q_95/v1/img/recipes/11/6/3VsX300jTOOiZyIg6oV2_blueberry-scones-3.jpg\" width=\"400\"/>"
      ],
      "text/plain": [
       "<IPython.core.display.Image object>"
      ]
     },
     "metadata": {},
     "output_type": "display_data"
    },
    {
     "data": {
      "text/html": [
       "<h3>Ingredients:</h3>"
      ],
      "text/plain": [
       "<IPython.core.display.HTML object>"
      ]
     },
     "metadata": {},
     "output_type": "display_data"
    },
    {
     "data": {
      "text/html": [
       "<ul><li>all-purpose flour: 2</li><li>sugar: 3</li><li>baking powder: 1</li><li>salt: 3/4</li><li>unsalted butter: 6</li><li>fresh blueberries: 1 1/2</li><li>lemon, zest of: 1</li><li>heavy cream: 1/3</li><li>eggs: 2</li></ul>"
      ],
      "text/plain": [
       "<IPython.core.display.HTML object>"
      ]
     },
     "metadata": {},
     "output_type": "display_data"
    },
    {
     "data": {
      "text/html": [
       "<h3>Instructions:</h3>"
      ],
      "text/plain": [
       "<IPython.core.display.HTML object>"
      ]
     },
     "metadata": {},
     "output_type": "display_data"
    },
    {
     "data": {
      "text/html": [
       "<ol><li>Adjust rack to center of oven, and heat to 400 degrees.</li><li>Place a Silpat baking mat on a baking sheet, and set aside. In a large bowl, sift together flour, 3 tablespoons sugar, baking powder, and salt. Using a pastry blender, or two knives, cut in butter until the largest pieces are the size of small peas.</li><li>Stir in blueberries and zest. Using a fork, whisk together cream and egg in a liquid measuring cup.</li><li>Make a well in the center of dry ingredients and pour in cream mixture. Stir lightly with fork just until dough comes together.</li><li>Turn out onto a lightly floured surface, and knead a few times to mix well.</li><li>Pat dough into a 6-inch square about 1 1/4 inches thick.</li><li>Using a floured knife, cut into four 3-inch squares.</li><li>Cut squares in half on the diagonal to form eight triangles.</li><li>Transfer to prepared baking sheet. Brush tops with cream and sprinkle with sugar.</li><li>Bake until golden brown, 20 to 22 minutes.</li><li>Transfer scones from baking sheet to wire racks to cool.</li></ol>"
      ],
      "text/plain": [
       "<IPython.core.display.HTML object>"
      ]
     },
     "metadata": {},
     "output_type": "display_data"
    },
    {
     "data": {
      "text/html": [
       "<h2>Abby's Pecan Apple Cake</h2>"
      ],
      "text/plain": [
       "<IPython.core.display.HTML object>"
      ]
     },
     "metadata": {},
     "output_type": "display_data"
    },
    {
     "data": {
      "text/html": [
       "<img src=\"https://img.sndimg.com/food/image/upload/w_555,h_416,c_fit,fl_progressive,q_95/v1/img/recipes/11/8/pic1UgDNm.jpg\" width=\"400\"/>"
      ],
      "text/plain": [
       "<IPython.core.display.Image object>"
      ]
     },
     "metadata": {},
     "output_type": "display_data"
    },
    {
     "data": {
      "text/html": [
       "<h3>Ingredients:</h3>"
      ],
      "text/plain": [
       "<IPython.core.display.HTML object>"
      ]
     },
     "metadata": {},
     "output_type": "display_data"
    },
    {
     "data": {
      "text/html": [
       "<ul><li>butter: 2</li><li>sugar: 1 1/2</li><li>cinnamon: 1/2</li><li>nutmeg: 1/2</li><li>all-purpose flour: 1 1/2</li><li>tart apples: 3</li><li>butter: 1/2</li><li>eggs: 2</li><li>milk: 1/3</li><li>rum: 2</li><li>vanilla extract: 2</li><li>pecans: 2</li><li>baking powder: 1 1/2</li><li>baking soda: 1 1/2</li><li>salt: 1 1/2</li></ul>"
      ],
      "text/plain": [
       "<IPython.core.display.HTML object>"
      ]
     },
     "metadata": {},
     "output_type": "display_data"
    },
    {
     "data": {
      "text/html": [
       "<h3>Instructions:</h3>"
      ],
      "text/plain": [
       "<IPython.core.display.HTML object>"
      ]
     },
     "metadata": {},
     "output_type": "display_data"
    },
    {
     "data": {
      "text/html": [
       "<ol><li>* , such as Granny Smith, peeled, halved, and sliced (3 cups)  Preheat the oven to 350 degrees.</li><li>Brush the sides of a 8 x 3 1/4-inch  springform pan with the melted butter.</li><li>Mix together 1/2 cup sugar, cinnamon,  nutmeg, and 1/4 cup flour and sprinkle the mixture evenly over the bottom of  the pan.</li><li>Wrap foil around the pan to prevent leakage. Starting at the outside  edge, arrange a ring of apple slices in the pan, slightly overlapping and  pointing to the center.</li><li>(It will feel backwards.) Fill in the center with  another circle of apples, with some overlap occurring.</li><li>Layer any remaining  apple slices evenly, overlapping to prevent the batter from escaping.</li><li>With a  wooden spoon or electric mixer, beat together the butter and 1 cup sugar.</li><li>Add  the eggs, milk, rum, and vanilla.</li><li>The batter will look curdled.</li><li>Add 1 1/4  cups flour, the nuts, baking powder, baking soda, and salt, beating only  until the flour is completely incorporated.</li><li>Pour the batter over the apples  and spread evenly.</li><li>Place the pan on a baking sheet and bake in the middle of  the oven until a toothpick inserted in the cake comes out clean, about 70  minutes.</li><li>Cover with a piece of foil if the top begins to brown too quickly.</li><li>Let the cake rest in the pan on a rack for 5 minutes, then, using a small,  flexible knife, gently separate the sides of the cake from the pan.</li><li>Invert  the cake on the rack, letting it stay in the pan for another 10 minutes, then  remove the pan, lifting it up carefully.</li></ol>"
      ],
      "text/plain": [
       "<IPython.core.display.HTML object>"
      ]
     },
     "metadata": {},
     "output_type": "display_data"
    },
    {
     "data": {
      "text/html": [
       "<h2>Carrot Cake II</h2>"
      ],
      "text/plain": [
       "<IPython.core.display.HTML object>"
      ]
     },
     "metadata": {},
     "output_type": "display_data"
    },
    {
     "data": {
      "text/html": [
       "<h3>Ingredients:</h3>"
      ],
      "text/plain": [
       "<IPython.core.display.HTML object>"
      ]
     },
     "metadata": {},
     "output_type": "display_data"
    },
    {
     "data": {
      "text/html": [
       "<ul><li>carrot: 1</li><li>eggs: 4</li><li>sugar: 2</li><li>all-purpose flour: 3</li><li>salt: 1/2</li><li>baking powder: 2</li><li>baking soda: 2</li><li>cinnamon: 2</li><li>walnuts: 1/2</li><li>cream cheese: 1 1/2</li><li>sugar: 1</li><li>unsalted butter: 1</li><li>real vanilla: 4</li></ul>"
      ],
      "text/plain": [
       "<IPython.core.display.HTML object>"
      ]
     },
     "metadata": {},
     "output_type": "display_data"
    },
    {
     "data": {
      "text/html": [
       "<h3>Instructions:</h3>"
      ],
      "text/plain": [
       "<IPython.core.display.HTML object>"
      ]
     },
     "metadata": {},
     "output_type": "display_data"
    },
    {
     "data": {
      "text/html": [
       "<ol><li>Preheat oven to 325°.</li><li>Add 1 egg at a time to the grated carrots until all 4 have been added.</li><li>Beat after each egg  Add the oil and mix.</li><li>Then sift all of the dry ingredients together and add it to the oil, egg, and carrot mixture in 4 parts, beating after each addition.</li><li>Next, add the walnuts and mix well.</li><li>Pour into a greased/floured tube pan.</li><li>Bake for 1 hour at 325°, or or when a tooth pick is inserted into the cake and it comes out clean.</li><li>FOR THE ICING: Soften butter and cheese. Blend well and then add the sugar and vanilla.</li><li>Beat until smooth and creamy.</li><li>Frost only after cake is cooled.</li></ol>"
      ],
      "text/plain": [
       "<IPython.core.display.HTML object>"
      ]
     },
     "metadata": {},
     "output_type": "display_data"
    },
    {
     "data": {
      "text/html": [
       "<h2>Caribbean Cowpeas and Rice</h2>"
      ],
      "text/plain": [
       "<IPython.core.display.HTML object>"
      ]
     },
     "metadata": {},
     "output_type": "display_data"
    },
    {
     "data": {
      "text/html": [
       "<h3>Ingredients:</h3>"
      ],
      "text/plain": [
       "<IPython.core.display.HTML object>"
      ]
     },
     "metadata": {},
     "output_type": "display_data"
    },
    {
     "data": {
      "text/html": [
       "<ul><li>black-eyed peas: 1</li><li>onion: 1</li><li>garlic cloves: 1</li><li>cumin: 2</li><li>thyme: 1/2</li><li>bay leaf: 1</li><li>long-grain rice: 1</li><li>vegetable broth: 1</li><li>tomatoes: 1</li><li>allspice: 1/2</li><li>salt: 1/2</li></ul>"
      ],
      "text/plain": [
       "<IPython.core.display.HTML object>"
      ]
     },
     "metadata": {},
     "output_type": "display_data"
    },
    {
     "data": {
      "text/html": [
       "<h3>Instructions:</h3>"
      ],
      "text/plain": [
       "<IPython.core.display.HTML object>"
      ]
     },
     "metadata": {},
     "output_type": "display_data"
    },
    {
     "data": {
      "text/html": [
       "<ol><li>Soak peas.</li><li>COmbine peas with onion, jalapeno, garlic, cumin, thyme, bay leaf and 2 cups water.</li><li>Boil.</li><li>Reduce and simmer.</li><li>Add rice, broth, tomato, allspice and salt.</li></ol>"
      ],
      "text/plain": [
       "<IPython.core.display.HTML object>"
      ]
     },
     "metadata": {},
     "output_type": "display_data"
    },
    {
     "data": {
      "text/html": [
       "<h2>Carnation Lean Fettuccine Alfredo</h2>"
      ],
      "text/plain": [
       "<IPython.core.display.HTML object>"
      ]
     },
     "metadata": {},
     "output_type": "display_data"
    },
    {
     "data": {
      "text/html": [
       "<h3>Ingredients:</h3>"
      ],
      "text/plain": [
       "<IPython.core.display.HTML object>"
      ]
     },
     "metadata": {},
     "output_type": "display_data"
    },
    {
     "data": {
      "text/html": [
       "<ul><li>fettuccine: 12</li><li>olive oil: 1</li><li>garlic: 1</li><li>milk: 2</li><li>parmesan cheese: 3/4</li><li>fresh dill: 4</li><li>fresh chives: 1</li><li>nutmeg: 1</li><li>salt: 1</li><li>pepper: 1</li><li>asparagus: 6</li><li>smoked salmon: 2/3</li><li>lemon juice: 1</li></ul>"
      ],
      "text/plain": [
       "<IPython.core.display.HTML object>"
      ]
     },
     "metadata": {},
     "output_type": "display_data"
    },
    {
     "data": {
      "text/html": [
       "<h3>Instructions:</h3>"
      ],
      "text/plain": [
       "<IPython.core.display.HTML object>"
      ]
     },
     "metadata": {},
     "output_type": "display_data"
    },
    {
     "data": {
      "text/html": [
       "<ol><li>In a large pot of boiling water, cook the fettuccine for 8-10 minutes until  tender but firm.</li><li>Drain.</li><li>In a non-stick skillet, heat oil and cook garlic for 30  seconds.</li><li>Add to drained pasta along with milk and cheese. Cook over medium heat, stirring gently for four to five minutes, until sauce is thickened.</li><li>Remove from  heat and let stand two to three minutes to thicken more. Stir in dill and chives and season with salt and pepper.</li><li>Stir in blanched  asparagus, salmon and lemon juice. Garnish each serving with more freshly grated Parmesan, if desired.</li></ol>"
      ],
      "text/plain": [
       "<IPython.core.display.HTML object>"
      ]
     },
     "metadata": {},
     "output_type": "display_data"
    },
    {
     "data": {
      "text/html": [
       "<h2>Butterscotch Apple Dumpling</h2>"
      ],
      "text/plain": [
       "<IPython.core.display.HTML object>"
      ]
     },
     "metadata": {},
     "output_type": "display_data"
    },
    {
     "data": {
      "text/html": [
       "<h3>Ingredients:</h3>"
      ],
      "text/plain": [
       "<IPython.core.display.HTML object>"
      ]
     },
     "metadata": {},
     "output_type": "display_data"
    },
    {
     "data": {
      "text/html": [
       "<ul><li>green apples: 2</li><li>self rising flour: 1</li><li>salt: 1/8</li><li>sugar: 2</li><li>butter: 2</li><li>water: 2</li><li>butter: 1</li><li>brown sugar: 1</li><li>golden syrup: 1</li><li>water: 1 1/4</li></ul>"
      ],
      "text/plain": [
       "<IPython.core.display.HTML object>"
      ]
     },
     "metadata": {},
     "output_type": "display_data"
    },
    {
     "data": {
      "text/html": [
       "<h3>Instructions:</h3>"
      ],
      "text/plain": [
       "<IPython.core.display.HTML object>"
      ]
     },
     "metadata": {},
     "output_type": "display_data"
    },
    {
     "data": {
      "text/html": [
       "<ol><li>Sift flour and salt.  Add sugar.  Rub in butter, then add water and mix to a soft dough.</li><li>Peel and quarter apples.</li><li>Divide pastry into 8 equal portions.</li><li>Roll out each portion of pastry and wrap each around an apple quarter.</li><li>Place in an oven proof dish.</li><li>Combine sauce ingredients in saucepan and bring to boil.</li><li>Pour sauce over pastries in dish.</li><li>Bake 25-30 minutes in  a moderate oven, about 325 degrees Fahrenheit.  Serve with ice cream.</li></ol>"
      ],
      "text/plain": [
       "<IPython.core.display.HTML object>"
      ]
     },
     "metadata": {},
     "output_type": "display_data"
    },
    {
     "data": {
      "text/html": [
       "<h2>Carrie's Pizza Rolls</h2>"
      ],
      "text/plain": [
       "<IPython.core.display.HTML object>"
      ]
     },
     "metadata": {},
     "output_type": "display_data"
    },
    {
     "data": {
      "text/html": [
       "<h3>Ingredients:</h3>"
      ],
      "text/plain": [
       "<IPython.core.display.HTML object>"
      ]
     },
     "metadata": {},
     "output_type": "display_data"
    },
    {
     "data": {
      "text/html": [
       "<ul><li>dry yeast: 1</li><li>water: 1/2</li><li>honey: 1/2</li><li>white flour: 4</li><li>water: 1</li><li>garlic clove: 1</li><li>tomatoes: 1</li><li>tomato sauce: 1</li><li>mozzarella cheese: 1</li><li>parmesan cheese: 1/2</li><li>romano cheese: 1</li><li>olive oil: 2</li><li>salt: 1</li><li>pepper: 1</li><li>oregano: 1</li><li>basil: 1</li></ul>"
      ],
      "text/plain": [
       "<IPython.core.display.HTML object>"
      ]
     },
     "metadata": {},
     "output_type": "display_data"
    },
    {
     "data": {
      "text/html": [
       "<h3>Instructions:</h3>"
      ],
      "text/plain": [
       "<IPython.core.display.HTML object>"
      ]
     },
     "metadata": {},
     "output_type": "display_data"
    },
    {
     "data": {
      "text/html": [
       "<ol><li>Dough: Dissolve yeast with honey and 1/2 cup  water; let stand 10 minutes.</li><li>Put 4 cups flour in large  mixing bowl; stir in oil, water and yeast mixture. Mix   thoroughly.</li><li>Knead 8 to 10 minutes.</li><li>Let dough rise 1 hour until  doubled.</li><li>Punch  down and roll on floured surface to about 1/2- inch.</li><li>Cut into rectangles about 4 x 6-inches or desired size of  pizza roll.</li><li>Sauce: Place all ingredients (except  the  Mozzarella cheese) in a crock-pot and simmer on low for  about 2 hours.</li><li>Let cool to room temperature. Hot sauce will  make dough soggy.</li><li>Rolls: Place a small amount of sauce on the  dough rectangles, spreading it to cover the entire   piece of dough.</li><li>Sprinkle Mozzarella cheese over half of the  dough.</li><li>Roll up the  dough burrito-style, sealing edges with  moistened fingers.</li><li>Place rolls on a  cookie sheet. Allow to rest for  about 10 minutes.</li><li>Bake in a hot 500 degrees  oven until  dough is golden brown.</li><li>Serve rolls with a side bowl of hot pizza  sauce  for dipping the pizza rolls inches.</li><li>These freeze beautifully.</li><li>Can be   reheated in the microwave. Variations: You may wish to add slices of  mushroom,  olive, shredded beef, pepperoni slices or  whatever in addition to the  Mozzarella cheese inside the pizza roll.</li></ol>"
      ],
      "text/plain": [
       "<IPython.core.display.HTML object>"
      ]
     },
     "metadata": {},
     "output_type": "display_data"
    },
    {
     "data": {
      "text/html": [
       "<h2>Cherry Tomatoes on Provolone Garlic Bread</h2>"
      ],
      "text/plain": [
       "<IPython.core.display.HTML object>"
      ]
     },
     "metadata": {},
     "output_type": "display_data"
    },
    {
     "data": {
      "text/html": [
       "<img src=\"https://img.sndimg.com/food/image/upload/w_555,h_416,c_fit,fl_progressive,q_95/v1/img/recipes/14/3/picBwpb8U.jpg\" width=\"400\"/>"
      ],
      "text/plain": [
       "<IPython.core.display.Image object>"
      ]
     },
     "metadata": {},
     "output_type": "display_data"
    },
    {
     "data": {
      "text/html": [
       "<h3>Ingredients:</h3>"
      ],
      "text/plain": [
       "<IPython.core.display.HTML object>"
      ]
     },
     "metadata": {},
     "output_type": "display_data"
    },
    {
     "data": {
      "text/html": [
       "<ul><li>cherry tomatoes: 2</li><li>scallions: 2</li><li>parsley: 1/4</li><li>rosemary: 1</li><li>garlic: 3</li><li>extra virgin olive oil: 1/3</li><li>extra virgin olive oil: 3</li><li>garlic: 3</li><li>provolone cheese: 3</li><li>parmesan cheese: 4</li></ul>"
      ],
      "text/plain": [
       "<IPython.core.display.HTML object>"
      ]
     },
     "metadata": {},
     "output_type": "display_data"
    },
    {
     "data": {
      "text/html": [
       "<h3>Instructions:</h3>"
      ],
      "text/plain": [
       "<IPython.core.display.HTML object>"
      ]
     },
     "metadata": {},
     "output_type": "display_data"
    },
    {
     "data": {
      "text/html": [
       "<ol><li>For the tomatoes, mix tomatoes, scallions, parsley, rosemary, garlic, olive oil and vinegar in a shallow bowl.</li><li>Season with salt and pepper.</li><li>Cover bowl and let tomatoes marinate at room temperature for at least 1 hour, but preferably 3-4 hours.</li><li>Stir occasionally to distribute seasonings.</li><li>For the bread, combine olive oil and garlic and let mixture stand for about 10 minutes so flavors can mingle.  Meanwhile, heat the broiler.</li><li>Brush one side of each bread slice with garlic and olive oil mixture and broil them oiled-side up until lightly browned.</li><li>Put a slice of provolone and a generous sprinkling of Parmesan on each slice, reserving a little of the parmesan for garnish.</li><li>Set aside.  Just before serving, heat up broiler again and toast cheese until bubbly.</li><li>Serve bread in shallow bowls, spooning about 3/4 cup of tomatoes and marinade over each slice, garnishing with remaining parmesan.</li></ol>"
      ],
      "text/plain": [
       "<IPython.core.display.HTML object>"
      ]
     },
     "metadata": {},
     "output_type": "display_data"
    },
    {
     "data": {
      "text/html": [
       "<h2>All-Purpose Crock Pot Chicken</h2>"
      ],
      "text/plain": [
       "<IPython.core.display.HTML object>"
      ]
     },
     "metadata": {},
     "output_type": "display_data"
    },
    {
     "data": {
      "text/html": [
       "<h3>Ingredients:</h3>"
      ],
      "text/plain": [
       "<IPython.core.display.HTML object>"
      ]
     },
     "metadata": {},
     "output_type": "display_data"
    },
    {
     "data": {
      "text/html": [
       "<ul><li>chicken: 1</li><li>lemon pepper: 1</li></ul>"
      ],
      "text/plain": [
       "<IPython.core.display.HTML object>"
      ]
     },
     "metadata": {},
     "output_type": "display_data"
    },
    {
     "data": {
      "text/html": [
       "<h3>Instructions:</h3>"
      ],
      "text/plain": [
       "<IPython.core.display.HTML object>"
      ]
     },
     "metadata": {},
     "output_type": "display_data"
    },
    {
     "data": {
      "text/html": [
       "<ol><li>If using thigh portions or a cut up fryer, etc, remove all skin and as much fat  as possible. I boil the skins with garlic for the dog.</li><li>There is no need to bone  the chicken.</li><li>Put about 1/4 inch water in the slow cooker.</li><li>Rinse the chicken  well, getting into the crevices, and sprinkle with the Cajun seasoning on both  sides.</li><li>Go easy at first; this is NOT low-salt and it tends to be a little spicy.</li><li>I start immediately placing the chicken in the slow cooker.</li><li>I rinse one piece,  season both sides, and layer it in the pot. When you are done seasoning all the  chicken (I generally do 2-3 lbs in a batch; less is not worth the time), cover  the pot and let the chicken stand for 30 minutes.</li><li>At the end of that time, cover the chicken fully with water (don't skimp) and set the cooker on \\</li><li>Cooking time is up to you.</li><li>A minimum of 8-10 hours is what I recommend.  I  usually set the chicken cooking in an afternoon, and let it cook overnight.  Often it will cook for 12-24 hours.</li><li>This is an excellent dish for those of us  who never learned to properly debone a chicken ;) At the end of the cooking  time, merely pull out the chicken pieces and separate the bones from the meat.  It will literally fall apart. Save the broth for adding to mashed potatoes,  gravy, rice or soup.</li><li>You will have a good deal of chicken here. Separate into  smaller portions and freeze.</li></ol>"
      ],
      "text/plain": [
       "<IPython.core.display.HTML object>"
      ]
     },
     "metadata": {},
     "output_type": "display_data"
    },
    {
     "data": {
      "text/html": [
       "<h2>Angel Food Cake Waldorf</h2>"
      ],
      "text/plain": [
       "<IPython.core.display.HTML object>"
      ]
     },
     "metadata": {},
     "output_type": "display_data"
    },
    {
     "data": {
      "text/html": [
       "<h3>Ingredients:</h3>"
      ],
      "text/plain": [
       "<IPython.core.display.HTML object>"
      ]
     },
     "metadata": {},
     "output_type": "display_data"
    },
    {
     "data": {
      "text/html": [
       "<ul><li>sugar: 6</li><li>salt: 1/8</li></ul>"
      ],
      "text/plain": [
       "<IPython.core.display.HTML object>"
      ]
     },
     "metadata": {},
     "output_type": "display_data"
    },
    {
     "data": {
      "text/html": [
       "<h3>Instructions:</h3>"
      ],
      "text/plain": [
       "<IPython.core.display.HTML object>"
      ]
     },
     "metadata": {},
     "output_type": "display_data"
    },
    {
     "data": {
      "text/html": [
       "<ol><li>Prepare Angel Food Cake by cutting a 1 inch slice off the top.</li><li>Remove the  center, leaving walls around a cavity.</li><li>Whip cream.</li><li>Combine sugar, salt and  cocoa.</li><li>While beating the cream sprinkle in the cocoa mixture..</li><li>Whip until  stiff.</li><li>Fold in cut-up almonds.</li><li>Fill cavity.</li><li>Replace top of cake and spread rest of cream mixture on top and sides of cake.   Sprinkle with 1/3 cup shaved  toasted almonds.</li><li>Chill 3 hrs.  or more before  serving.</li></ol>"
      ],
      "text/plain": [
       "<IPython.core.display.HTML object>"
      ]
     },
     "metadata": {},
     "output_type": "display_data"
    },
    {
     "data": {
      "text/html": [
       "<h2>Cold Celery</h2>"
      ],
      "text/plain": [
       "<IPython.core.display.HTML object>"
      ]
     },
     "metadata": {},
     "output_type": "display_data"
    },
    {
     "data": {
      "text/html": [
       "<h3>Ingredients:</h3>"
      ],
      "text/plain": [
       "<IPython.core.display.HTML object>"
      ]
     },
     "metadata": {},
     "output_type": "display_data"
    },
    {
     "data": {
      "text/html": [
       "<ul><li>celery: 1</li><li>salt: 1</li><li>soy sauce: 1</li><li>brown sugar: 1</li></ul>"
      ],
      "text/plain": [
       "<IPython.core.display.HTML object>"
      ]
     },
     "metadata": {},
     "output_type": "display_data"
    },
    {
     "data": {
      "text/html": [
       "<h3>Instructions:</h3>"
      ],
      "text/plain": [
       "<IPython.core.display.HTML object>"
      ]
     },
     "metadata": {},
     "output_type": "display_data"
    },
    {
     "data": {
      "text/html": [
       "<ol><li>Wash the celery and cut into 1 inch lengths.</li><li>Put into a large pan, cover with cold water and bring to the boil, drain and immediately cover with water.</li><li>Chill completely under cold running water.</li><li>Drain.</li><li>Add the salt, soy sauce, sugar and sesame oil.</li><li>Mix well and serve chilled.</li></ol>"
      ],
      "text/plain": [
       "<IPython.core.display.HTML object>"
      ]
     },
     "metadata": {},
     "output_type": "display_data"
    },
    {
     "data": {
      "text/html": [
       "<h2>Chicken Curry</h2>"
      ],
      "text/plain": [
       "<IPython.core.display.HTML object>"
      ]
     },
     "metadata": {},
     "output_type": "display_data"
    },
    {
     "data": {
      "text/html": [
       "<img src=\"https://img.sndimg.com/food/image/upload/w_555,h_416,c_fit,fl_progressive,q_95/v1/img/recipes/15/9/picsDFqlH.jpg\" width=\"400\"/>"
      ],
      "text/plain": [
       "<IPython.core.display.Image object>"
      ]
     },
     "metadata": {},
     "output_type": "display_data"
    },
    {
     "data": {
      "text/html": [
       "<h3>Ingredients:</h3>"
      ],
      "text/plain": [
       "<IPython.core.display.HTML object>"
      ]
     },
     "metadata": {},
     "output_type": "display_data"
    },
    {
     "data": {
      "text/html": [
       "<ul><li>cumin seeds: 2 1/2</li><li>red pepper flakes: 2</li><li>turmeric: 1/8</li><li>ginger: 1/2</li><li>clove: 1/2</li><li>salt: 1</li><li>black pepper: 1</li><li>boneless skinless chicken breasts: 1/2</li><li>butter: 2</li><li>fresh ginger: 2</li><li>garlic: 2</li><li>onions: 2</li><li>cinnamon sticks: 3</li><li>bay leaf: 2</li><li>cardamom pods: 1</li><li>whole canned tomatoes: 3</li><li>plain yogurt: 2</li><li>golden raisin: 1 1/2</li><li>fresh cilantro: 1/4</li><li>basmati rice: 3/4</li><li>cashews: 1/2</li></ul>"
      ],
      "text/plain": [
       "<IPython.core.display.HTML object>"
      ]
     },
     "metadata": {},
     "output_type": "display_data"
    },
    {
     "data": {
      "text/html": [
       "<h3>Instructions:</h3>"
      ],
      "text/plain": [
       "<IPython.core.display.HTML object>"
      ]
     },
     "metadata": {},
     "output_type": "display_data"
    },
    {
     "data": {
      "text/html": [
       "<ol><li>In a dry skillet over medium heat, toast coriander and cumin  seeds until fragrant, 1 to 2 minutes.</li><li>Transfer to spice grinder, add  crushed red-pepper flakes, and grind to a powder.</li><li>Place in a small  bowl, and add turmeric, ginger, cloves, salt, and black pepper.</li><li>Add  chicken, and toss to coat. Heat peanut oil in a large pot over medium-high heat.  Add  chicken, cooking until browned, 3 to 5 minutes.</li><li>Remove chicken.</li><li>Set  aside. Reduce heat, and add ginger, garlic, and onions.</li><li>Cook until  softened and deep-brown in color, 8 to 10 minutes.</li><li>Add cinnamon  sticks, bay leaf, and cardamom pods; cook for 10 minutes.</li><li>Add  tomatoes, chicken stock, and cooked chicken.</li><li>Raise heat to medium  high, and cook until liquid is reduced, about 15 minutes.</li><li>Meanwhile,  toast pappadams.</li><li>Reduce heat to low, and stir in yogurt and  raisins.</li><li>Cook until warmed throughout; add cilantro.</li><li>Serve with  basmati rice, and garnish with cashews.</li></ol>"
      ],
      "text/plain": [
       "<IPython.core.display.HTML object>"
      ]
     },
     "metadata": {},
     "output_type": "display_data"
    },
    {
     "data": {
      "text/html": [
       "<h2>Chicken Liver Pate</h2>"
      ],
      "text/plain": [
       "<IPython.core.display.HTML object>"
      ]
     },
     "metadata": {},
     "output_type": "display_data"
    },
    {
     "data": {
      "text/html": [
       "<h3>Ingredients:</h3>"
      ],
      "text/plain": [
       "<IPython.core.display.HTML object>"
      ]
     },
     "metadata": {},
     "output_type": "display_data"
    },
    {
     "data": {
      "text/html": [
       "<ul><li>butter: 1/2</li><li>cream cheese: 4</li><li>chicken liver: 1/2</li><li>onion: 1</li><li>chicken broth: 2</li><li>brandy: 2</li><li>paprika: 1/2</li><li>salt: 1/2</li><li>cayenne pepper: 1</li></ul>"
      ],
      "text/plain": [
       "<IPython.core.display.HTML object>"
      ]
     },
     "metadata": {},
     "output_type": "display_data"
    },
    {
     "data": {
      "text/html": [
       "<h3>Instructions:</h3>"
      ],
      "text/plain": [
       "<IPython.core.display.HTML object>"
      ]
     },
     "metadata": {},
     "output_type": "display_data"
    },
    {
     "data": {
      "text/html": [
       "<ol><li>Bring liver, onions, chicken broth, brandy to boil.</li><li>Cook 5 min.</li><li>Put in  blender.</li><li>Add paprika, salt and cayenne pepper.</li><li>Blend on high.</li><li>Add butter and cream cheese. Pour in a mold or container.</li><li>Let stand covered in refrigerator until  firm about 3 hours.</li><li>Serve with crackers or party rye.                    - - - - - - - - - - - - - - - - - -</li></ol>"
      ],
      "text/plain": [
       "<IPython.core.display.HTML object>"
      ]
     },
     "metadata": {},
     "output_type": "display_data"
    },
    {
     "data": {
      "text/html": [
       "<h2>Appetizers-Easy Stuffed Mushrooms</h2>"
      ],
      "text/plain": [
       "<IPython.core.display.HTML object>"
      ]
     },
     "metadata": {},
     "output_type": "display_data"
    },
    {
     "data": {
      "text/html": [
       "<img src=\"https://img.sndimg.com/food/image/upload/w_555,h_416,c_fit,fl_progressive,q_95/v1/img/recipes/16/7/pictKxvMg.jpg\" width=\"400\"/>"
      ],
      "text/plain": [
       "<IPython.core.display.Image object>"
      ]
     },
     "metadata": {},
     "output_type": "display_data"
    },
    {
     "data": {
      "text/html": [
       "<h3>Ingredients:</h3>"
      ],
      "text/plain": [
       "<IPython.core.display.HTML object>"
      ]
     },
     "metadata": {},
     "output_type": "display_data"
    },
    {
     "data": {
      "text/html": [
       "<ul><li>fresh mushrooms: 8</li><li>butter: 3</li><li>celery: 1/4</li><li>onion: 1/4</li><li>Worcestershire sauce: 1/4</li><li>parsley flakes: 1</li><li>salt: 1</li><li>oregano: 1/4</li></ul>"
      ],
      "text/plain": [
       "<IPython.core.display.HTML object>"
      ]
     },
     "metadata": {},
     "output_type": "display_data"
    },
    {
     "data": {
      "text/html": [
       "<h3>Instructions:</h3>"
      ],
      "text/plain": [
       "<IPython.core.display.HTML object>"
      ]
     },
     "metadata": {},
     "output_type": "display_data"
    },
    {
     "data": {
      "text/html": [
       "<ol><li>Wash and dry the mushrooms.</li><li>Remove and chop the stems.</li><li>Melt butter in a 12 inch skillet over medium high heat.  Add the mushroom stems, celery and  onion.</li><li>Saute until the onion is translucent, stirring occasionally.</li><li>Stir in the bread crumbs, Worcestershire Sauce and seasonings.</li><li>Mound the stuffing onto the mushroom caps.</li><li>Arrange caps on a greased baking sheet.  Bake for 5-7  minutes, or until thoroughly heated.</li><li>If you like mushrooms, you will like this!</li></ol>"
      ],
      "text/plain": [
       "<IPython.core.display.HTML object>"
      ]
     },
     "metadata": {},
     "output_type": "display_data"
    },
    {
     "data": {
      "text/html": [
       "<h2>Amish Six Layer Dinner</h2>"
      ],
      "text/plain": [
       "<IPython.core.display.HTML object>"
      ]
     },
     "metadata": {},
     "output_type": "display_data"
    },
    {
     "data": {
      "text/html": [
       "<h3>Ingredients:</h3>"
      ],
      "text/plain": [
       "<IPython.core.display.HTML object>"
      ]
     },
     "metadata": {},
     "output_type": "display_data"
    },
    {
     "data": {
      "text/html": [
       "<ul><li>ground beef: 2</li><li>raw potatoes: 2</li><li>celery: 2</li><li>onion: 1/2</li><li>salt: 2</li><li>pepper: 1/4</li><li>green pepper: 1</li><li>canned tomatoes: 2</li></ul>"
      ],
      "text/plain": [
       "<IPython.core.display.HTML object>"
      ]
     },
     "metadata": {},
     "output_type": "display_data"
    },
    {
     "data": {
      "text/html": [
       "<h3>Instructions:</h3>"
      ],
      "text/plain": [
       "<IPython.core.display.HTML object>"
      ]
     },
     "metadata": {},
     "output_type": "display_data"
    },
    {
     "data": {
      "text/html": [
       "<ol><li>Grease a casserole dish.</li><li>Sprinkle each layer with salt and pepper before adding the next layer.  Place potatoes in the bottom of the casserole.  Add the layer of  celery.  Add the layer of hamburger.  Add the layer of onions.  Add the green  pepper.</li><li>Pour the tomatoes over the mixture.</li><li>Bake for 2 hours at 350°F (I  cover with foil after about an hour).</li></ol>"
      ],
      "text/plain": [
       "<IPython.core.display.HTML object>"
      ]
     },
     "metadata": {},
     "output_type": "display_data"
    },
    {
     "data": {
      "text/html": [
       "<h2>Chicken Pot Pie Lasagna</h2>"
      ],
      "text/plain": [
       "<IPython.core.display.HTML object>"
      ]
     },
     "metadata": {},
     "output_type": "display_data"
    },
    {
     "data": {
      "text/html": [
       "<h3>Ingredients:</h3>"
      ],
      "text/plain": [
       "<IPython.core.display.HTML object>"
      ]
     },
     "metadata": {},
     "output_type": "display_data"
    },
    {
     "data": {
      "text/html": [
       "<ul><li>boneless chicken breast: 1</li><li>fresh mushrooms: 3</li><li>carrot: 1</li><li>spring onion: 1/2</li><li>frozen green pea: 1</li><li>thyme: 1</li><li>salt: 1/2</li><li>all-purpose flour: 1/2</li><li>skim milk: 3 1/2</li><li>dry sherry: 1/2</li><li>low-fat ricotta cheese: 1/4</li><li>part-skim mozzarella cheese: 1</li><li>lowfat swiss cheese: 1 1/2</li></ul>"
      ],
      "text/plain": [
       "<IPython.core.display.HTML object>"
      ]
     },
     "metadata": {},
     "output_type": "display_data"
    },
    {
     "data": {
      "text/html": [
       "<h3>Instructions:</h3>"
      ],
      "text/plain": [
       "<IPython.core.display.HTML object>"
      ]
     },
     "metadata": {},
     "output_type": "display_data"
    },
    {
     "data": {
      "text/html": [
       "<ol><li>Prepare pasta according to package directions.</li><li>Spray a Dutch oven or large   skillet with cooking spray; place over medium-high heat until hot. Add  chicken  and saute 4 minutes or until cooked through.</li><li>Drain well and set  aside.   Recoat Dutch oven with cooking spray and place over medium-high heat until   hot. Add  mushrooms, carrots and onions; saute 6 minutes.</li><li>Set aside.  Place flour in a  medium saucepan.</li><li>Gradually add milk, stirring with a wire   whisk until blended; stir in sherry.</li><li>Bring to a boil over medium heat and  cook for 5 minutes or  until thickened, stirring constantly.</li><li>Stir in salt  and  red pepper.</li><li>Reserve one cup of sauce and set aside.  In a bowl, combine ricotta cheese, 1 cup mozzarella cheese and Swiss  cheese.  Preheat oven to 350 degrees.</li><li>Spread 1 cup of the  sauce over the bottom of  a  13 x9 x 2-inch pan.</li><li>Arrange 4 pieces of the lasagne (3 lengthwise, 1  widthwise)over the sauce. Top with half of ricotta cheese  mixture, half of   chicken mixture and half of remaining sauce mixture.   Repeat layers, ending with 4 pieces of lasagne. Spread reserved 1 cup of  sauce over  the last complete layer of lasagne, being sure to cover the  lasagne completely.</li><li>Cover lasagne with foil and bake 1 hour.</li><li>Uncover  lasagne,  sprinkle remaining  1/2 cup mozzarella cheese on top and bake an additional  5  minutes uncovered.</li><li>Re-cover and let stand 15 minutes before serving.</li></ol>"
      ],
      "text/plain": [
       "<IPython.core.display.HTML object>"
      ]
     },
     "metadata": {},
     "output_type": "display_data"
    },
    {
     "data": {
      "text/html": [
       "<h2>Chicken Roll-Ups</h2>"
      ],
      "text/plain": [
       "<IPython.core.display.HTML object>"
      ]
     },
     "metadata": {},
     "output_type": "display_data"
    },
    {
     "data": {
      "text/html": [
       "<h3>Ingredients:</h3>"
      ],
      "text/plain": [
       "<IPython.core.display.HTML object>"
      ]
     },
     "metadata": {},
     "output_type": "display_data"
    },
    {
     "data": {
      "text/html": [
       "<ul><li>chicken: 2</li><li>cream cheese: 4</li><li>butter: 2</li><li>margarine: 2</li><li>onions: 2</li><li>chives: 2</li><li>pimientos: 1/4</li><li>milk: 1</li><li>salt: 1</li></ul>"
      ],
      "text/plain": [
       "<IPython.core.display.HTML object>"
      ]
     },
     "metadata": {},
     "output_type": "display_data"
    },
    {
     "data": {
      "text/html": [
       "<h3>Instructions:</h3>"
      ],
      "text/plain": [
       "<IPython.core.display.HTML object>"
      ]
     },
     "metadata": {},
     "output_type": "display_data"
    },
    {
     "data": {
      "text/html": [
       "<ol><li>Boil chicken until done and no pink remains.</li><li>Cool and chop into  small cubes.</li><li>In a large bowl, mix together the cream cheese, butter, onion,  pimento, milk,  salt, and pepper.</li><li>Stir in chicken and set aside.  Open crescent rolls and place each piece of dough flat on a  lightly greased baking sheet.  Place several  tablespoons of chicken mixture on the center of  each piece of dough.</li><li>Roll up  dough around the chicken mixture making sure are  edges are sealed.</li><li>Dip each  chicken roll in melted butter and roll in the crushed  croutons or corn flakes  (optional). Place on baking sheet.  Bake at 350°F for 15-20 minutes or  until golden brown.</li><li>Serve with chicken gravy if desired.</li><li>To make chicken  gravy add 1 can cream of chicken soup to a  small saucepan.</li><li>Add 1 tablespoon  fresh lemon juice and stir well.</li><li>Add milk or sour cream to thin to desired  consistency.</li><li>Cook over  low heat until hot. Serve over chicken roll-ups.</li></ol>"
      ],
      "text/plain": [
       "<IPython.core.display.HTML object>"
      ]
     },
     "metadata": {},
     "output_type": "display_data"
    },
    {
     "data": {
      "text/html": [
       "<h2>Cola Roast</h2>"
      ],
      "text/plain": [
       "<IPython.core.display.HTML object>"
      ]
     },
     "metadata": {},
     "output_type": "display_data"
    },
    {
     "data": {
      "text/html": [
       "<h3>Ingredients:</h3>"
      ],
      "text/plain": [
       "<IPython.core.display.HTML object>"
      ]
     },
     "metadata": {},
     "output_type": "display_data"
    },
    {
     "data": {
      "text/html": [
       "<ul><li>salt: 1</li><li>pepper: 1/2</li><li>garlic powder: 1/2</li><li>chili sauce: 3</li><li>Worcestershire sauce: 1</li></ul>"
      ],
      "text/plain": [
       "<IPython.core.display.HTML object>"
      ]
     },
     "metadata": {},
     "output_type": "display_data"
    },
    {
     "data": {
      "text/html": [
       "<h3>Instructions:</h3>"
      ],
      "text/plain": [
       "<IPython.core.display.HTML object>"
      ]
     },
     "metadata": {},
     "output_type": "display_data"
    },
    {
     "data": {
      "text/html": [
       "<ol><li>Preheat oven to 325F.</li><li>In a small bowl, combine the salt, pepper, and garlic powder; rub over surface of roast.  In a Dutch oven, heat the oil to hot and brown roast on all sides.</li><li>Transfer roast to roasting pan.</li><li>Combine all the remaining ingredients; pour over roast.  Cover and roast for 2 1/2-3 hours until tender.</li></ol>"
      ],
      "text/plain": [
       "<IPython.core.display.HTML object>"
      ]
     },
     "metadata": {},
     "output_type": "display_data"
    },
    {
     "data": {
      "text/html": [
       "<h2>Chicken Sate with Peanut Sauce</h2>"
      ],
      "text/plain": [
       "<IPython.core.display.HTML object>"
      ]
     },
     "metadata": {},
     "output_type": "display_data"
    },
    {
     "data": {
      "text/html": [
       "<h3>Ingredients:</h3>"
      ],
      "text/plain": [
       "<IPython.core.display.HTML object>"
      ]
     },
     "metadata": {},
     "output_type": "display_data"
    },
    {
     "data": {
      "text/html": [
       "<ul><li>boneless skinless chicken breast halves: 6</li><li>soy sauce: 1/4</li><li>lime juice: 2</li><li>butter: 1/2</li><li>onion: 1</li><li>olive oil: 1</li><li>cayenne: 1</li><li>soy sauce: 1/4</li><li>sugar: 1</li><li>garlic: 1</li><li>ginger: 2</li><li>salt: 1</li><li>lime juice: 1/4</li></ul>"
      ],
      "text/plain": [
       "<IPython.core.display.HTML object>"
      ]
     },
     "metadata": {},
     "output_type": "display_data"
    },
    {
     "data": {
      "text/html": [
       "<h3>Instructions:</h3>"
      ],
      "text/plain": [
       "<IPython.core.display.HTML object>"
      ]
     },
     "metadata": {},
     "output_type": "display_data"
    },
    {
     "data": {
      "text/html": [
       "<ol><li>Combine butter, 1/4 cup soy sauce, coriander, and 2 Tbsp lime juice. Marinate chicken in this while you make peanut sauce:  Saute onion and garlic in oil  until tender.</li><li>Cool.</li><li>Place in blender, add everything else, and blend carefully.</li><li>Slowly and carefully add enough boiling water to form a thick paste.  Now, broil chicken until done, basting with marinade.  Serve with peanut sauce.</li></ol>"
      ],
      "text/plain": [
       "<IPython.core.display.HTML object>"
      ]
     },
     "metadata": {},
     "output_type": "display_data"
    },
    {
     "data": {
      "text/html": [
       "<h2>Coconut Crunch Beans</h2>"
      ],
      "text/plain": [
       "<IPython.core.display.HTML object>"
      ]
     },
     "metadata": {},
     "output_type": "display_data"
    },
    {
     "data": {
      "text/html": [
       "<h3>Ingredients:</h3>"
      ],
      "text/plain": [
       "<IPython.core.display.HTML object>"
      ]
     },
     "metadata": {},
     "output_type": "display_data"
    },
    {
     "data": {
      "text/html": [
       "<ul><li>sesame seeds: 1</li><li>butter: 4</li><li>unsweetened coconut: 1/2</li><li>chili powder: 1/4</li><li>turmeric: 1/4</li><li>salt: 1/4</li><li>green beans: 1</li></ul>"
      ],
      "text/plain": [
       "<IPython.core.display.HTML object>"
      ]
     },
     "metadata": {},
     "output_type": "display_data"
    },
    {
     "data": {
      "text/html": [
       "<h3>Instructions:</h3>"
      ],
      "text/plain": [
       "<IPython.core.display.HTML object>"
      ]
     },
     "metadata": {},
     "output_type": "display_data"
    },
    {
     "data": {
      "text/html": [
       "<ol><li>In nonstick skillet, cook sesame seeds, stirring, over medium heat for 2 minutes or until slightly golden.</li><li>Stir in half of the butter until melted.</li><li>Stir in coconut, chili powder, turmeric and salt; cook, stirring, for 1 minute or until coconut turns deep golden.</li><li>(Coconut mixture can be stored in airtight container at room temperature for up to 24 hours.) In large pot of boiling salted water, cook beans for 3 minutes; drain well.</li><li>(Beans can be prepared to this point, chilled under cold water, drained and refrigerated in towel-lined airtight container for up to 24 hours.) In nonstick skillet, melt remaining butter over medium heat; cook beans for about 3 minutes or until tender-crisp.</li><li>Toss with coconut topping.</li></ol>"
      ],
      "text/plain": [
       "<IPython.core.display.HTML object>"
      ]
     },
     "metadata": {},
     "output_type": "display_data"
    },
    {
     "data": {
      "text/html": [
       "<h2>Coconut Chicken Bites</h2>"
      ],
      "text/plain": [
       "<IPython.core.display.HTML object>"
      ]
     },
     "metadata": {},
     "output_type": "display_data"
    },
    {
     "data": {
      "text/html": [
       "<img src=\"https://img.sndimg.com/food/image/upload/w_555,h_416,c_fit,fl_progressive,q_95/v1/img/recipes/17/9/picHQgcFk.jpg\" width=\"400\"/>"
      ],
      "text/plain": [
       "<IPython.core.display.Image object>"
      ]
     },
     "metadata": {},
     "output_type": "display_data"
    },
    {
     "data": {
      "text/html": [
       "<h3>Ingredients:</h3>"
      ],
      "text/plain": [
       "<IPython.core.display.HTML object>"
      ]
     },
     "metadata": {},
     "output_type": "display_data"
    },
    {
     "data": {
      "text/html": [
       "<ul><li>chicken breast: 1</li><li>coconut: 1</li><li>flour: 1/2</li><li>salt: 1/2</li><li>black pepper: 1/4</li><li>garlic powder: 1/4</li><li>egg: 1</li><li>butter: 1/3</li></ul>"
      ],
      "text/plain": [
       "<IPython.core.display.HTML object>"
      ]
     },
     "metadata": {},
     "output_type": "display_data"
    },
    {
     "data": {
      "text/html": [
       "<h3>Instructions:</h3>"
      ],
      "text/plain": [
       "<IPython.core.display.HTML object>"
      ]
     },
     "metadata": {},
     "output_type": "display_data"
    },
    {
     "data": {
      "text/html": [
       "<ol><li>Heat oven to 400°F.</li><li>Mix flour, coconut, salt, pepper and garlic powder together.</li><li>Dip chicken bites in the egg, then in the flour mixture. Place the chicken bites onto a greased cookie sheet or baking pan.</li><li>Drizzle with melted butter.</li><li>Bake approximately 25 minutes or until the chicken is browned and cooked through.</li><li>Turn once during cooking.</li><li>This is good served with an apricot or plum dipping sauce.  Jan.</li></ol>"
      ],
      "text/plain": [
       "<IPython.core.display.HTML object>"
      ]
     },
     "metadata": {},
     "output_type": "display_data"
    },
    {
     "data": {
      "text/html": [
       "<h2>Chocolate Pound Cake</h2>"
      ],
      "text/plain": [
       "<IPython.core.display.HTML object>"
      ]
     },
     "metadata": {},
     "output_type": "display_data"
    },
    {
     "data": {
      "text/html": [
       "<img src=\"https://img.sndimg.com/food/image/upload/w_555,h_416,c_fit,fl_progressive,q_95/v1/img/recipes/18/0/picecIIb4.jpg\" width=\"400\"/>"
      ],
      "text/plain": [
       "<IPython.core.display.Image object>"
      ]
     },
     "metadata": {},
     "output_type": "display_data"
    },
    {
     "data": {
      "text/html": [
       "<h3>Ingredients:</h3>"
      ],
      "text/plain": [
       "<IPython.core.display.HTML object>"
      ]
     },
     "metadata": {},
     "output_type": "display_data"
    },
    {
     "data": {
      "text/html": [
       "<ul><li>boiling water: 3</li><li>vanilla: 1 1/2</li><li>eggs: 3</li><li>cake flour: 1 1/2</li><li>sugar: 3</li><li>sugar: 1 1/4</li><li>baking powder: 3/4</li><li>salt: 2</li><li>unsalted butter: 3/4</li></ul>"
      ],
      "text/plain": [
       "<IPython.core.display.HTML object>"
      ]
     },
     "metadata": {},
     "output_type": "display_data"
    },
    {
     "data": {
      "text/html": [
       "<h3>Instructions:</h3>"
      ],
      "text/plain": [
       "<IPython.core.display.HTML object>"
      ]
     },
     "metadata": {},
     "output_type": "display_data"
    },
    {
     "data": {
      "text/html": [
       "<ol><li>Preheat oven to 350°F.</li><li>Use a 8 x 4 x 2 1/2\\</li><li>,</li><li>,</li><li>,</li><li>,</li><li>,</li><li>Increase to medium speed and beat for 1 minute to  develop the cake's structure.  Scrape down the sides.</li><li>Gradually add the  remaining chocolate mixture in 2 batches, beating 20 seconds after each addition to incorporate the ingredients and strengthen the structure.  Scrape down the  sides.</li><li>Scrape the batter into the prepared pan and smooth the surface with a  spatula.</li><li>The batter will be almost 1/2 inch from the top of a 4-cup pan.</li><li>(if your  pan is slightly smaller, use any excess batter for cupcakes.)  Bake for 50 to 60 minutes, (40 to 50 minutes in a fluted tube pan) or until a wooden toothpick  inserted in the center comes out clean.</li><li>Place loosely with buttered foil over  the cake after 20 minutes to prevent over browning.</li><li>The cake should start to  shrink away from the sides of the pan only after removal from the oven.</li><li>Let the cake cool in the pan on a rack for 10 minutes.</li><li>Loosen the sides with a metal  spatula and invert onto a greased wire rack.</li><li>If baked in a loaf pan, to keep  the bottom from splitting, reinvert so that the top is up and cool completely  before wrapping airtight.</li><li>TOPPING:  This is for extra moistness and gives a subtle coffee accent.</li><li>In a  small pan, stir together 1/4 cup water and 2 Tbsp sugar.</li><li>Bring to a full rolling boil.</li><li>Cover and remove from heat.  When cool, add 1 tbsp Kahlua.</li><li>When cake is baked, brush half the syrup onto the top.</li><li>Cool the cake 10 minutes and invert it onto a lightly greased rack.</li><li>Brush the bottom and sides with remaining syrup.</li><li>Reinvert onto rack, top side up, to finish cooling.</li></ol>"
      ],
      "text/plain": [
       "<IPython.core.display.HTML object>"
      ]
     },
     "metadata": {},
     "output_type": "display_data"
    },
    {
     "data": {
      "text/html": [
       "<h2>Coca-Cola Cake</h2>"
      ],
      "text/plain": [
       "<IPython.core.display.HTML object>"
      ]
     },
     "metadata": {},
     "output_type": "display_data"
    },
    {
     "data": {
      "text/html": [
       "<img src=\"https://img.sndimg.com/food/image/upload/w_555,h_416,c_fit,fl_progressive,q_95/v1/img/recipes/18/6/01478391864.jpeg\" width=\"400\"/>"
      ],
      "text/plain": [
       "<IPython.core.display.Image object>"
      ]
     },
     "metadata": {},
     "output_type": "display_data"
    },
    {
     "data": {
      "text/html": [
       "<h3>Ingredients:</h3>"
      ],
      "text/plain": [
       "<IPython.core.display.HTML object>"
      ]
     },
     "metadata": {},
     "output_type": "display_data"
    },
    {
     "data": {
      "text/html": [
       "<ul><li>flour: 2</li><li>sugar: 2</li><li>salt: 1</li><li>baking soda: 2</li><li>margarine: 1</li><li>buttermilk: 1</li><li>miniature marshmallows: 1</li><li>eggs: 1/2</li><li>margarine: 1 1/2</li><li>confectioners' sugar: 2</li><li>vanilla: 1/2</li></ul>"
      ],
      "text/plain": [
       "<IPython.core.display.HTML object>"
      ]
     },
     "metadata": {},
     "output_type": "display_data"
    },
    {
     "data": {
      "text/html": [
       "<h3>Instructions:</h3>"
      ],
      "text/plain": [
       "<IPython.core.display.HTML object>"
      ]
     },
     "metadata": {},
     "output_type": "display_data"
    },
    {
     "data": {
      "text/html": [
       "<ol><li>Combine flour, sugar, salt, cocoa and baking soda.</li><li>In small saucepan, bring butter and Coca-cola to a boil.</li><li>Add dry ingredients to mixture and then add buttermilk, eggs, and marshmallows.</li><li>(batter will be thin). Bake in 9x12 inch baking pan at 350 degrees for about 45 to 60 minutes or until tooth pick comes out clean.</li><li>Topping for coca-cola cake: Combine butter cocoa and coke in a small saucepan and bring to a boil.</li><li>Pour over sugar and mix well.</li><li>Add nuts an vanilla.</li><li>Pour over cake while still hot.</li></ol>"
      ],
      "text/plain": [
       "<IPython.core.display.HTML object>"
      ]
     },
     "metadata": {},
     "output_type": "display_data"
    },
    {
     "data": {
      "text/html": [
       "<h2>Chicken-Fried Steak With Cracked Pepper Gravy</h2>"
      ],
      "text/plain": [
       "<IPython.core.display.HTML object>"
      ]
     },
     "metadata": {},
     "output_type": "display_data"
    },
    {
     "data": {
      "text/html": [
       "<img src=\"https://img.sndimg.com/food/image/upload/w_555,h_416,c_fit,fl_progressive,q_95/v1/img/recipes/18/7/picvWKPo1.jpg\" width=\"400\"/>"
      ],
      "text/plain": [
       "<IPython.core.display.Image object>"
      ]
     },
     "metadata": {},
     "output_type": "display_data"
    },
    {
     "data": {
      "text/html": [
       "<h3>Ingredients:</h3>"
      ],
      "text/plain": [
       "<IPython.core.display.HTML object>"
      ]
     },
     "metadata": {},
     "output_type": "display_data"
    },
    {
     "data": {
      "text/html": [
       "<ul><li>flour: 1 1/2</li><li>salt: 1 1/2</li><li>pepper: 2</li><li>cayenne: 1</li><li>eggs: 2</li><li>bock beer: 1/2</li><li>unsalted butter: 1/2</li><li>flour: 2</li><li>milk: 4</li><li>salt: 1/4</li><li>cracked pepper: 2</li></ul>"
      ],
      "text/plain": [
       "<IPython.core.display.HTML object>"
      ]
     },
     "metadata": {},
     "output_type": "display_data"
    },
    {
     "data": {
      "text/html": [
       "<h3>Instructions:</h3>"
      ],
      "text/plain": [
       "<IPython.core.display.HTML object>"
      ]
     },
     "metadata": {},
     "output_type": "display_data"
    },
    {
     "data": {
      "text/html": [
       "<ol><li>Prepare the flour spice by blending the flour, salt, pepper, and cayenne. Set aside on a plate or wax paper.</li><li>Prepare the batter by mixing the eggs with a whisk, in a large bowl.</li><li>Add the cream, and beer. Whisk to blend.</li><li>Set aside. In a deep, heavy skillet, heat the oil to 350 degrees. While the oil is heating, prepare the round steaks by dredging them in the flour spice, taking care to evenly coat the meat. Shake off any  excess.</li><li>Dip the meat into the batter, and then again in the flour  spice, evenly coating the batter so it is dry on the outside. When  the oil temperature reaches 350 degrees (when a drop of batter sizzles when dropped in it), gently slide one steak into the hot oil. Cook the steak about 5 minutes.</li><li>Turn in, taking care not to break  the coating, and cook the meat 5 more minutes, or until the batter is nicely browned. Drain the cooked steak on paper towels. Repeat with the other steaks.</li><li>Hold the cooked steaks in a 225 degree oven until all four are done. Pour Cracker-Pepper Gravy over the steaks and serve. Yield: 4 servings.</li><li>CREAM GRAVY Melt the butter in a heavy saucepan.</li><li>When the foam goes down, whisk in the flour. Continually whisk until the flour cooks, becoming a fragrant light brown.</li><li>Slowly add the milk, continuing to whisk to  keep lumps from forming.</li><li>Season with salt and pepper.</li><li>Simmer gravy for 10 minutes to cook and reduce. Serve hot.</li></ol>"
      ],
      "text/plain": [
       "<IPython.core.display.HTML object>"
      ]
     },
     "metadata": {},
     "output_type": "display_data"
    },
    {
     "data": {
      "text/html": [
       "<h2>Chilies Corn Muffins</h2>"
      ],
      "text/plain": [
       "<IPython.core.display.HTML object>"
      ]
     },
     "metadata": {},
     "output_type": "display_data"
    },
    {
     "data": {
      "text/html": [
       "<h3>Ingredients:</h3>"
      ],
      "text/plain": [
       "<IPython.core.display.HTML object>"
      ]
     },
     "metadata": {},
     "output_type": "display_data"
    },
    {
     "data": {
      "text/html": [
       "<ul><li>all-purpose flour: 1 1/2</li><li>cornmeal: 1/2</li><li>sugar: 1/4</li><li>brown sugar: 1/4</li><li>baking powder: 3</li><li>salt: 1/4</li><li>skim milk: 1/2</li><li>soymilk: 1/4</li><li>egg: 1</li><li>green chilies: 4</li></ul>"
      ],
      "text/plain": [
       "<IPython.core.display.HTML object>"
      ]
     },
     "metadata": {},
     "output_type": "display_data"
    },
    {
     "data": {
      "text/html": [
       "<h3>Instructions:</h3>"
      ],
      "text/plain": [
       "<IPython.core.display.HTML object>"
      ]
     },
     "metadata": {},
     "output_type": "display_data"
    },
    {
     "data": {
      "text/html": [
       "<ol><li>Preheat oven to 400.</li><li>Spray a standard muffin pan with cooking spray.</li><li>In medium bowl, whisk flour, cornmeal, both sugars, baking powder and salt.  In medium  bowl, mix remaining ingredients.</li><li>Make well in dry ingredients.</li><li>Add milk  mixture and stir until just blended.</li><li>Divide batter among prepared muffin cups.</li><li>Bake 15 to 20 minutes, or until top springs back when lightly pressed.</li><li>Let cool in pan 5 minutes, them loosen edges and turn out on rack and cool completely.</li></ol>"
      ],
      "text/plain": [
       "<IPython.core.display.HTML object>"
      ]
     },
     "metadata": {},
     "output_type": "display_data"
    },
    {
     "data": {
      "text/html": [
       "<h2>Civil War Cake</h2>"
      ],
      "text/plain": [
       "<IPython.core.display.HTML object>"
      ]
     },
     "metadata": {},
     "output_type": "display_data"
    },
    {
     "data": {
      "text/html": [
       "<h3>Ingredients:</h3>"
      ],
      "text/plain": [
       "<IPython.core.display.HTML object>"
      ]
     },
     "metadata": {},
     "output_type": "display_data"
    },
    {
     "data": {
      "text/html": [
       "<ul><li>raisins: 1</li><li>water: 2</li><li>sugar: 2</li><li>shortening: 1</li><li>cake flour: 4 1/2</li><li>salt: 1</li><li>cinnamon: 2</li><li>baking soda: 2</li><li>nutmeg: 1/8</li><li>clove: 1</li></ul>"
      ],
      "text/plain": [
       "<IPython.core.display.HTML object>"
      ]
     },
     "metadata": {},
     "output_type": "display_data"
    },
    {
     "data": {
      "text/html": [
       "<h3>Instructions:</h3>"
      ],
      "text/plain": [
       "<IPython.core.display.HTML object>"
      ]
     },
     "metadata": {},
     "output_type": "display_data"
    },
    {
     "data": {
      "text/html": [
       "<ol><li>Combine raisins, sugar, 1 cup of water, shortening, salt & spices in a saucepan.</li><li>Bring to a boil, simmer 3 minutes, stirring occasionally, then cool till  lukewarm, then add the other cp of water.</li><li>Dissolve soda in 2 teas.</li><li>of water, set aside.  Stir sifted & measured flour into raisin mixture & beat until smooth.</li><li>Add dissolved soda last. Pur into greased floured 13x9 [am & bale 50-55 min.</li><li>at  350 degrees.</li><li>It may also be cooked in a tube pan.</li><li>Serve with whipped cream or caramel frosting.</li><li>Combine 3/4 cup of brown sugar 1/2 cup of water 1/2 tsp salt in a saucepan.</li><li>Cook 6 min.</li><li>stirring often.</li><li>Cool to lukewarm and stir in 3 Tbsp.</li><li>of butter.</li><li>Then gradually stir in 21/4 cups of sifted confectionery sugar, beating until smooth.</li><li>Stir in 1 teas.</li><li>vanilla and spread on cake. You will be surprised how good it taste with such little ingredients.</li></ol>"
      ],
      "text/plain": [
       "<IPython.core.display.HTML object>"
      ]
     },
     "metadata": {},
     "output_type": "display_data"
    },
    {
     "data": {
      "text/html": [
       "<h2>Citrus Glazed Barbecued Pork Loin</h2>"
      ],
      "text/plain": [
       "<IPython.core.display.HTML object>"
      ]
     },
     "metadata": {},
     "output_type": "display_data"
    },
    {
     "data": {
      "text/html": [
       "<img src=\"https://img.sndimg.com/food/image/upload/w_555,h_416,c_fit,fl_progressive,q_95/v1/img/recipes/19/9/picyeMlI7.jpg\" width=\"400\"/>"
      ],
      "text/plain": [
       "<IPython.core.display.Image object>"
      ]
     },
     "metadata": {},
     "output_type": "display_data"
    },
    {
     "data": {
      "text/html": [
       "<h3>Ingredients:</h3>"
      ],
      "text/plain": [
       "<IPython.core.display.HTML object>"
      ]
     },
     "metadata": {},
     "output_type": "display_data"
    },
    {
     "data": {
      "text/html": [
       "<ul><li>canola oil: 2</li><li>onion: 1</li><li>garlic: 4</li><li>chipotle pepper: 1</li><li>arbol chile: 1</li><li>cracked black pepper: 1</li><li>Worcestershire sauce: 2</li><li>barbecue sauce: 2</li><li>lemons: 2</li><li>kosher salt: 6</li><li>olive oil: 2</li><li>kosher salt: 3</li><li>cracked black pepper: 4</li></ul>"
      ],
      "text/plain": [
       "<IPython.core.display.HTML object>"
      ]
     },
     "metadata": {},
     "output_type": "display_data"
    },
    {
     "data": {
      "text/html": [
       "<h3>Instructions:</h3>"
      ],
      "text/plain": [
       "<IPython.core.display.HTML object>"
      ]
     },
     "metadata": {},
     "output_type": "display_data"
    },
    {
     "data": {
      "text/html": [
       "<ol><li>Preheat oven to 350 degrees.</li><li>In a small saucepot add canola oil and saute onions and garlic until translucent.</li><li>Add chipotle and arbol chilies and continue to cook until chiles start to toast.</li><li>Add cracked black pepper and deglaze with Worcestershire sauce and orange juice; reduce until starts to thicken.</li><li>Then add in your favorite barbecue sauce, reduce to low heat, and simmer for about 15 minutes.</li><li>Season with hot sauce, lemon juice and to taste with salt.  Strain barbecue sauce and set aside.</li><li>On a large sheet pan rub the pork loin with olive oil and season with salt and cracked pepper.</li><li>Roast in a 350 degree oven (basting with the citrus glaze about every 15 minutes) until the internal temperature is about 140 degrees.</li><li>Remove from oven and let meat set for about 5 minutes, slice, and enjoy!</li></ol>"
      ],
      "text/plain": [
       "<IPython.core.display.HTML object>"
      ]
     },
     "metadata": {},
     "output_type": "display_data"
    },
    {
     "data": {
      "text/html": [
       "<h2>Citrus Baked Halibut</h2>"
      ],
      "text/plain": [
       "<IPython.core.display.HTML object>"
      ]
     },
     "metadata": {},
     "output_type": "display_data"
    },
    {
     "data": {
      "text/html": [
       "<h3>Ingredients:</h3>"
      ],
      "text/plain": [
       "<IPython.core.display.HTML object>"
      ]
     },
     "metadata": {},
     "output_type": "display_data"
    },
    {
     "data": {
      "text/html": [
       "<ul><li>halibut steaks: 2</li><li>butter: 2</li><li>onion: 1</li><li>garlic cloves: 4</li><li>fresh parsley: 1/4</li><li>salt: 1</li><li>black pepper: 1/2</li><li>fresh lemon juice: 1/4</li></ul>"
      ],
      "text/plain": [
       "<IPython.core.display.HTML object>"
      ]
     },
     "metadata": {},
     "output_type": "display_data"
    },
    {
     "data": {
      "text/html": [
       "<h3>Instructions:</h3>"
      ],
      "text/plain": [
       "<IPython.core.display.HTML object>"
      ]
     },
     "metadata": {},
     "output_type": "display_data"
    },
    {
     "data": {
      "text/html": [
       "<ol><li>OVEN COOKING:</li><li>Rinse halibut in cold water and dry using paper toweling.</li><li>Arrange  halibut in a 9\\</li><li>oven-proof baking dish.</li><li>Preheat oven to 400 degrees Fahrenheit.</li><li>In a frying pan, add butter, onion and garlic. Saute until translucent.</li><li>Remove from heat; stir in parsley, orange rind, salt and pepper.</li><li>Spread mixture over  halibut steaks.</li><li>In a small bowl, mix together orange juice and lemon juice.</li><li>Sprinkle juice over steaks, but be careful not to wash away the onion/garlic  mixture.</li><li>Bake fish in preheated 400 degree Fahrenheit oven for 20 to 22 minutes, turning over  at about 10 minutes of cooking time.</li><li>Continue cooking until time expires or until fish flakes easily with a fork.</li><li>DO NOT OVERCOOK FISH.</li><li>Spoon hot juices  over fish.</li><li>Serve at once.</li><li>MICROWAVE COOKING:</li><li>Prepare and arrange fish and onion/garlic as above.</li><li>Reduce orange juice by 2 tablespoons.</li><li>Cover fish with a clear plastic wrap vented.</li><li>Cook on HIGH (full power) for 4 minutes.</li><li>Turn fish over and cook for an additional 3 to 4 minutes on HIGH (full power) or until fish flakes easily with  a fork.</li><li>Spoon juices over fish and serve at once.</li><li>If desired, serve with Tartar Sauce.</li></ol>"
      ],
      "text/plain": [
       "<IPython.core.display.HTML object>"
      ]
     },
     "metadata": {},
     "output_type": "display_data"
    },
    {
     "data": {
      "text/html": [
       "<h2>Chinese Meatballs</h2>"
      ],
      "text/plain": [
       "<IPython.core.display.HTML object>"
      ]
     },
     "metadata": {},
     "output_type": "display_data"
    },
    {
     "data": {
      "text/html": [
       "<h3>Ingredients:</h3>"
      ],
      "text/plain": [
       "<IPython.core.display.HTML object>"
      ]
     },
     "metadata": {},
     "output_type": "display_data"
    },
    {
     "data": {
      "text/html": [
       "<ul><li>shrimp: 1</li><li>water chestnut: 1/4</li><li>green onion: 1/4</li><li>soy sauce: 1</li><li>white wine: 1</li><li>salt: 3</li><li>sugar: 1</li><li>cornstarch: 1/2</li><li>egg: 1</li><li>chicken broth: 3</li><li>napa cabbage: 1</li></ul>"
      ],
      "text/plain": [
       "<IPython.core.display.HTML object>"
      ]
     },
     "metadata": {},
     "output_type": "display_data"
    },
    {
     "data": {
      "text/html": [
       "<h3>Instructions:</h3>"
      ],
      "text/plain": [
       "<IPython.core.display.HTML object>"
      ]
     },
     "metadata": {},
     "output_type": "display_data"
    },
    {
     "data": {
      "text/html": [
       "<ol><li>Combine pork, shrimp, water chestnuts, ginger, green onion, 1 Tbsp soy sauce, wine, salt, 1/2 tsp sugar, 1 Tbsp cornstarch, and egg.</li><li>Make twelve meatballs.</li><li>Heat oil in wok.</li><li>Add meatballs; cook 6-8 minutes, until browned, stirring occasionally.</li><li>Transfer meatballs to 5-qt saucepan; discard drippings.</li><li>Add chicken broth, 2 Tbsp soy sauce and 1/2 tsp sugar.</li><li>Bring to a boil.</li><li>Reduce heat to low, cover, and simmer 30 minutes.</li><li>Meanwhile, core cabbage.  Cut base of leaves into 2\\</li><li>Cut leafy tops in half.</li><li>Place over meatballs; cover and simmer 10 minutes more.  Transfer meatballs and cabbage to serving platter.</li><li>Blend 2 Tbsp cornstarch and 3 Tbsp water, and stir into pan juices cooking until slightly thickened.</li><li>Add sesame oil and serve over meatballs.</li></ol>"
      ],
      "text/plain": [
       "<IPython.core.display.HTML object>"
      ]
     },
     "metadata": {},
     "output_type": "display_data"
    },
    {
     "data": {
      "text/html": [
       "<h2>Chocolate Almond Scones</h2>"
      ],
      "text/plain": [
       "<IPython.core.display.HTML object>"
      ]
     },
     "metadata": {},
     "output_type": "display_data"
    },
    {
     "data": {
      "text/html": [
       "<h3>Ingredients:</h3>"
      ],
      "text/plain": [
       "<IPython.core.display.HTML object>"
      ]
     },
     "metadata": {},
     "output_type": "display_data"
    },
    {
     "data": {
      "text/html": [
       "<ul><li>all-purpose flour: 3 1/2</li><li>baking powder: 5</li><li>sugar: 2</li><li>salt: 1</li><li>butter: 4</li><li>eggs: 3</li><li>chocolate chips: 2</li></ul>"
      ],
      "text/plain": [
       "<IPython.core.display.HTML object>"
      ]
     },
     "metadata": {},
     "output_type": "display_data"
    },
    {
     "data": {
      "text/html": [
       "<h3>Instructions:</h3>"
      ],
      "text/plain": [
       "<IPython.core.display.HTML object>"
      ]
     },
     "metadata": {},
     "output_type": "display_data"
    },
    {
     "data": {
      "text/html": [
       "<ol><li>Preheat oven to 425 degrees Fahrenheit.</li><li>Combine flour, baking  powder, sugar and salt.</li><li>Cut in  butter until it resembles course meal.</li><li>Add 2  eggs (1 egg is reserved for later use), almond extract and cream.</li><li>Stir until  soft dough forms; mix in chocolate  chips and toasted almonds.</li><li>Pat out dough until 3/4  inch thick.</li><li>Cut into diamond shape; brush  with reserved egg.</li><li>Place on baking  pan coated with cooking spray.</li><li>Bake for 10  minutes until lightly browned.</li><li>Serve warm.</li></ol>"
      ],
      "text/plain": [
       "<IPython.core.display.HTML object>"
      ]
     },
     "metadata": {},
     "output_type": "display_data"
    },
    {
     "data": {
      "text/html": [
       "<h2>Chunky Tomato Cheese Pie</h2>"
      ],
      "text/plain": [
       "<IPython.core.display.HTML object>"
      ]
     },
     "metadata": {},
     "output_type": "display_data"
    },
    {
     "data": {
      "text/html": [
       "<h3>Ingredients:</h3>"
      ],
      "text/plain": [
       "<IPython.core.display.HTML object>"
      ]
     },
     "metadata": {},
     "output_type": "display_data"
    },
    {
     "data": {
      "text/html": [
       "<ul><li>tomatoes: 5</li><li>cheddar cheese cubes: 9</li><li>all-purpose flour: 2</li><li>sugar: 1/2</li><li>salt: 2</li><li>cheddar cheese: 1</li></ul>"
      ],
      "text/plain": [
       "<IPython.core.display.HTML object>"
      ]
     },
     "metadata": {},
     "output_type": "display_data"
    },
    {
     "data": {
      "text/html": [
       "<h3>Instructions:</h3>"
      ],
      "text/plain": [
       "<IPython.core.display.HTML object>"
      ]
     },
     "metadata": {},
     "output_type": "display_data"
    },
    {
     "data": {
      "text/html": [
       "<ol><li>Preheat oven to 375 degrees Fahrenheit.</li><li>Cut 4 of tomatoes into cubes; slice remaining tomato.</li><li>On a lightly floured surface roll out pastry; fit into a 9-inch pie pan; flute edges.</li><li>In a large bowl combine tomato cubes, cheese cubes, bread crumbs, flour, sugar and salt. Toss until well blended.</li><li>Spoon into pie shell.</li><li>Bake 30 minutes until cheese cubes melt and tomato cubes are soft.</li><li>Remove from oven and garnish with tomato slices.</li><li>Add cheese strips.</li><li>Return to oven.</li><li>Bake 10 minutes longer or until cheese is melted and tomatoes are soft.  Cut into wedges and serve.</li></ol>"
      ],
      "text/plain": [
       "<IPython.core.display.HTML object>"
      ]
     },
     "metadata": {},
     "output_type": "display_data"
    },
    {
     "data": {
      "text/html": [
       "<h2>Christmas Cranberry Salad</h2>"
      ],
      "text/plain": [
       "<IPython.core.display.HTML object>"
      ]
     },
     "metadata": {},
     "output_type": "display_data"
    },
    {
     "data": {
      "text/html": [
       "<img src=\"https://img.sndimg.com/food/image/upload/w_555,h_416,c_fit,fl_progressive,q_95/v1/img/recipes/21/1/ZDQGnHD7T6y1qbcy5HxK_DSC_0665.JPG\" width=\"400\"/>"
      ],
      "text/plain": [
       "<IPython.core.display.Image object>"
      ]
     },
     "metadata": {},
     "output_type": "display_data"
    },
    {
     "data": {
      "text/html": [
       "<h3>Ingredients:</h3>"
      ],
      "text/plain": [
       "<IPython.core.display.HTML object>"
      ]
     },
     "metadata": {},
     "output_type": "display_data"
    },
    {
     "data": {
      "text/html": [
       "<ul><li>cranberries: 2</li><li>miniature marshmallows: 3</li><li>sugar: 3/4</li><li>apples: 2</li><li>seedless grapes: 1/2</li><li>walnuts: 1/2</li><li>salt: 1/4</li></ul>"
      ],
      "text/plain": [
       "<IPython.core.display.HTML object>"
      ]
     },
     "metadata": {},
     "output_type": "display_data"
    },
    {
     "data": {
      "text/html": [
       "<h3>Instructions:</h3>"
      ],
      "text/plain": [
       "<IPython.core.display.HTML object>"
      ]
     },
     "metadata": {},
     "output_type": "display_data"
    },
    {
     "data": {
      "text/html": [
       "<ol><li>Cover marshmallows and cranberries with sugar; chill overnight.</li><li>Add apples, grapes, walnuts, salt and whipping cream.</li><li>Chill until ready to serve.</li></ol>"
      ],
      "text/plain": [
       "<IPython.core.display.HTML object>"
      ]
     },
     "metadata": {},
     "output_type": "display_data"
    },
    {
     "data": {
      "text/html": [
       "<h2>Chocolate Zucchini Bread</h2>"
      ],
      "text/plain": [
       "<IPython.core.display.HTML object>"
      ]
     },
     "metadata": {},
     "output_type": "display_data"
    },
    {
     "data": {
      "text/html": [
       "<img src=\"https://img.sndimg.com/food/image/upload/w_555,h_416,c_fit,fl_progressive,q_95/v1/img/recipes/22/0/V4O52EGNQlCwno2EDOa4_zucchinnibread3%20(1%20of%201).jpg\" width=\"400\"/>"
      ],
      "text/plain": [
       "<IPython.core.display.Image object>"
      ]
     },
     "metadata": {},
     "output_type": "display_data"
    },
    {
     "data": {
      "text/html": [
       "<h3>Ingredients:</h3>"
      ],
      "text/plain": [
       "<IPython.core.display.HTML object>"
      ]
     },
     "metadata": {},
     "output_type": "display_data"
    },
    {
     "data": {
      "text/html": [
       "<ul><li>eggs: 3</li><li>sugar: 1</li><li>vanilla extract: 2</li><li>zucchini: 1</li><li>all-purpose flour: 2</li><li>salt: 2 1/2</li><li>baking soda: 1/2</li><li>cinnamon: 1</li><li>baking powder: 1</li></ul>"
      ],
      "text/plain": [
       "<IPython.core.display.HTML object>"
      ]
     },
     "metadata": {},
     "output_type": "display_data"
    },
    {
     "data": {
      "text/html": [
       "<h3>Instructions:</h3>"
      ],
      "text/plain": [
       "<IPython.core.display.HTML object>"
      ]
     },
     "metadata": {},
     "output_type": "display_data"
    },
    {
     "data": {
      "text/html": [
       "<ol><li>In a mixing bowl, beat eggs, oil, sugar and vanilla.</li><li>Stir in zucchini.</li><li>Combine dry ingredients; add to zucchini mixture and mix well.</li><li>Pour into two greased 8x4x3-inch loaf pans.</li><li>Bake at 350°F for 1 hour or until bread tests done.  Makes 2 loaves.</li></ol>"
      ],
      "text/plain": [
       "<IPython.core.display.HTML object>"
      ]
     },
     "metadata": {},
     "output_type": "display_data"
    },
    {
     "data": {
      "text/html": [
       "<h2>Chocolate Tapioca Pudding</h2>"
      ],
      "text/plain": [
       "<IPython.core.display.HTML object>"
      ]
     },
     "metadata": {},
     "output_type": "display_data"
    },
    {
     "data": {
      "text/html": [
       "<img src=\"https://img.sndimg.com/food/image/upload/w_555,h_416,c_fit,fl_progressive,q_95/v1/img/recipes/22/4/picgOJlqk.jpg\" width=\"400\"/>"
      ],
      "text/plain": [
       "<IPython.core.display.Image object>"
      ]
     },
     "metadata": {},
     "output_type": "display_data"
    },
    {
     "data": {
      "text/html": [
       "<h3>Ingredients:</h3>"
      ],
      "text/plain": [
       "<IPython.core.display.HTML object>"
      ]
     },
     "metadata": {},
     "output_type": "display_data"
    },
    {
     "data": {
      "text/html": [
       "<ul><li>sugar: 1</li><li>tapioca: 3</li><li>salt: 1/8</li><li>milk: 3 2/3</li><li>egg: 1</li><li>instant coffee: 2</li><li>vanilla: 2</li></ul>"
      ],
      "text/plain": [
       "<IPython.core.display.HTML object>"
      ]
     },
     "metadata": {},
     "output_type": "display_data"
    },
    {
     "data": {
      "text/html": [
       "<h3>Instructions:</h3>"
      ],
      "text/plain": [
       "<IPython.core.display.HTML object>"
      ]
     },
     "metadata": {},
     "output_type": "display_data"
    },
    {
     "data": {
      "text/html": [
       "<ol><li>Combine sugar, tapioca, and salt in a saucepan; stir in milk and egg.</li><li>Let stand 5  minutes.</li><li>Add chopped chocolate squares and instant coffee.</li><li>Cook, stirring over medium heat, until mixture comes to a full boil and chocolate is blended, about 15 minutes.</li><li>Remove from heat and stir in vanilla.</li><li>Cool for 20 minutes; stir and chill.</li><li>Serve  with whipped topping if desired.</li></ol>"
      ],
      "text/plain": [
       "<IPython.core.display.HTML object>"
      ]
     },
     "metadata": {},
     "output_type": "display_data"
    },
    {
     "data": {
      "text/html": [
       "<h2>Chocolate Pudding II</h2>"
      ],
      "text/plain": [
       "<IPython.core.display.HTML object>"
      ]
     },
     "metadata": {},
     "output_type": "display_data"
    },
    {
     "data": {
      "text/html": [
       "<img src=\"https://img.sndimg.com/food/image/upload/w_555,h_416,c_fit,fl_progressive,q_95/v1/img/recipes/22/9/picKWjzxr.jpg\" width=\"400\"/>"
      ],
      "text/plain": [
       "<IPython.core.display.Image object>"
      ]
     },
     "metadata": {},
     "output_type": "display_data"
    },
    {
     "data": {
      "text/html": [
       "<h3>Ingredients:</h3>"
      ],
      "text/plain": [
       "<IPython.core.display.HTML object>"
      ]
     },
     "metadata": {},
     "output_type": "display_data"
    },
    {
     "data": {
      "text/html": [
       "<ul><li>sugar: 1</li><li>cornstarch: 1/4</li><li>salt: 1/2</li><li>milk: 2 1/2</li><li>baking chocolate: 3</li><li>butter: 2</li><li>vanilla: 1</li></ul>"
      ],
      "text/plain": [
       "<IPython.core.display.HTML object>"
      ]
     },
     "metadata": {},
     "output_type": "display_data"
    },
    {
     "data": {
      "text/html": [
       "<h3>Instructions:</h3>"
      ],
      "text/plain": [
       "<IPython.core.display.HTML object>"
      ]
     },
     "metadata": {},
     "output_type": "display_data"
    },
    {
     "data": {
      "text/html": [
       "<ol><li>Combine sugar, cornstarch, and salt in medium saucepan; gradually stir in milk  and egg yolks.</li><li>Add baking chocolate, broken into pieces; cook and stir over  medium heat until mixture boils.</li><li>Boil and stir for 1 minute; remove from heat.  Add butter and vanilla; pour into individual serving dishes.</li><li>Chill.</li><li>Serve with whipped cream.</li></ol>"
      ],
      "text/plain": [
       "<IPython.core.display.HTML object>"
      ]
     },
     "metadata": {},
     "output_type": "display_data"
    },
    {
     "data": {
      "text/html": [
       "<h2>Chocolate Cream Puffs</h2>"
      ],
      "text/plain": [
       "<IPython.core.display.HTML object>"
      ]
     },
     "metadata": {},
     "output_type": "display_data"
    },
    {
     "data": {
      "text/html": [
       "<h3>Ingredients:</h3>"
      ],
      "text/plain": [
       "<IPython.core.display.HTML object>"
      ]
     },
     "metadata": {},
     "output_type": "display_data"
    },
    {
     "data": {
      "text/html": [
       "<ul><li>water: 1</li><li>unsalted butter: 1/2</li><li>sugar: 2</li><li>salt: 1/4</li><li>flour: 1</li><li>eggs: 1</li><li>ice cream: 5</li></ul>"
      ],
      "text/plain": [
       "<IPython.core.display.HTML object>"
      ]
     },
     "metadata": {},
     "output_type": "display_data"
    },
    {
     "data": {
      "text/html": [
       "<h3>Instructions:</h3>"
      ],
      "text/plain": [
       "<IPython.core.display.HTML object>"
      ]
     },
     "metadata": {},
     "output_type": "display_data"
    },
    {
     "data": {
      "text/html": [
       "<ol><li>Combine water, butter, sugar and salt in a medium size saucepan.</li><li>Place over  medium low heat to melt butter.</li><li>Add flour and cocoa powder all at once; stir  vigorously until mixture pulls away from side of pan.</li><li>Remove from heat. Heat  oven to 400.</li><li>Lightly coat baking sheet with cooking spray.</li><li>With the saucepan  off heat, add eggs one at a time, to batter in saucepan, beating well after each addition.</li><li>With a 1/4 cup drop mixture onto baking sheet, spacing 2\\</li><li>Cool slightly.</li><li>Cut off top third of each puff; scoop out soft center from bases.</li><li>Cool bases and top on wire rack.</li><li>Fill  puffs with ice cream of your choice; cover with tops.</li><li>Freeze on baking sheets  until firm.</li><li>Transfer to an airtight container.</li><li>Freeze for up to 1 week.</li><li>Place puff on plates.</li><li>Let stand 15 minutes.</li><li>Top with sauce of your choice.</li></ol>"
      ],
      "text/plain": [
       "<IPython.core.display.HTML object>"
      ]
     },
     "metadata": {},
     "output_type": "display_data"
    },
    {
     "data": {
      "text/html": [
       "<h2>Chocolate Cream Meringue Pie</h2>"
      ],
      "text/plain": [
       "<IPython.core.display.HTML object>"
      ]
     },
     "metadata": {},
     "output_type": "display_data"
    },
    {
     "data": {
      "text/html": [
       "<img src=\"https://img.sndimg.com/food/image/upload/w_555,h_416,c_fit,fl_progressive,q_95/v1/img/recipes/23/2/picoZjAEx.jpg\" width=\"400\"/>"
      ],
      "text/plain": [
       "<IPython.core.display.Image object>"
      ]
     },
     "metadata": {},
     "output_type": "display_data"
    },
    {
     "data": {
      "text/html": [
       "<h3>Ingredients:</h3>"
      ],
      "text/plain": [
       "<IPython.core.display.HTML object>"
      ]
     },
     "metadata": {},
     "output_type": "display_data"
    },
    {
     "data": {
      "text/html": [
       "<ul><li>sugar: 1</li><li>all-purpose flour: 1</li><li>salt: 1/2</li><li>milk: 6</li><li>butter: 1/2</li><li>margarine: 2</li><li>vanilla: 3</li><li>cream of tartar: 1/2</li><li>sugar: 2</li></ul>"
      ],
      "text/plain": [
       "<IPython.core.display.HTML object>"
      ]
     },
     "metadata": {},
     "output_type": "display_data"
    },
    {
     "data": {
      "text/html": [
       "<h3>Instructions:</h3>"
      ],
      "text/plain": [
       "<IPython.core.display.HTML object>"
      ]
     },
     "metadata": {},
     "output_type": "display_data"
    },
    {
     "data": {
      "text/html": [
       "<ol><li>FILLING:</li><li>Combine sugar, flour, cocoa, and salt in medium saucepan; stir in milk.</li><li>Cook  over medium heat, stirring constantly until mixture boils; remove from heat.</li><li>Stir half of the mixture into beaten egg yolks; return egg mixture to saucepan.</li><li>Continue cooking and stirring over medium heat until mixture boils; boil and  stir for 1 minute.</li><li>Remove from heat and stir in butter and vanilla.</li><li>Cool for  10 minutes.</li><li>Pour into pre-baked pie shell.</li><li>MERINGUE TOPPING:</li><li>Heat oven to 350°F.</li><li>In small mixing bowl, beat egg whites and cream of tartar until foamy.</li><li>Gradually add sugar and beat until stiff peaks form.</li><li>Spread this on warm pie  filling, carefully sealing to the edges of crust.</li><li>Bake 5 to 8 minutes or just  until meringue is lightly browned.</li><li>Cool to room temperature; chill for several  hours.</li></ol>"
      ],
      "text/plain": [
       "<IPython.core.display.HTML object>"
      ]
     },
     "metadata": {},
     "output_type": "display_data"
    },
    {
     "data": {
      "text/html": [
       "<h2>Chicken Curry II</h2>"
      ],
      "text/plain": [
       "<IPython.core.display.HTML object>"
      ]
     },
     "metadata": {},
     "output_type": "display_data"
    },
    {
     "data": {
      "text/html": [
       "<h3>Ingredients:</h3>"
      ],
      "text/plain": [
       "<IPython.core.display.HTML object>"
      ]
     },
     "metadata": {},
     "output_type": "display_data"
    },
    {
     "data": {
      "text/html": [
       "<ul><li>chicken: 1</li><li>unsalted butter: 1</li><li>onions: 2</li><li>salt: 1</li><li>flour: 3/4</li><li>curry powder: 2</li><li>ginger: 1/2</li><li>black pepper: 4</li></ul>"
      ],
      "text/plain": [
       "<IPython.core.display.HTML object>"
      ]
     },
     "metadata": {},
     "output_type": "display_data"
    },
    {
     "data": {
      "text/html": [
       "<h3>Instructions:</h3>"
      ],
      "text/plain": [
       "<IPython.core.display.HTML object>"
      ]
     },
     "metadata": {},
     "output_type": "display_data"
    },
    {
     "data": {
      "text/html": [
       "<ol><li>The day before, place whole chicken in a large saucepan.</li><li>Cover chicken with water; bring to a boil; lower heat and simmer for about one hour or until chicken is  starting to fall off the bones.</li><li>Remove chicken and put aside to cool.</li><li>Pour stock into a large bowl; place in the refrigerator.</li><li>The next day the fat will have set. Remove the fat and throw it away.</li><li>Meanwhile, remove chicken from bones and cut into bite size pieces.</li><li>Put in refrigerator until needed.</li><li>(Ingredients do not need to be precise.) Place butter and onions in saucepan over a medium to high  heat and fry until soft.</li><li>Add one teaspoon of salt.</li><li>Add extra butter to saucepan if needed as you are about to add flour, curry powder, ginger, and a good few  shakes of pepper (about 1/2 teaspoon).</li><li>You need the melted butter to combine it all to a thick paste.</li><li>Stir out any lumps.</li><li>Add chicken stock one cupful at a time; stir well to smooth paste.</li><li>Bring to boil after each cupful is added.</li><li>Continue with this process until sauce is the thickness you like. (I like it fairly thick).</li><li>Add chopped chicken.</li><li>Reheat until chicken is hot.</li><li>Serve with rice. (Tastes better if cooked the day before).</li><li>Leftover curry can be frozen. Don't freeze the rice.</li></ol>"
      ],
      "text/plain": [
       "<IPython.core.display.HTML object>"
      ]
     },
     "metadata": {},
     "output_type": "display_data"
    },
    {
     "data": {
      "text/html": [
       "<h2>&quot;any&quot; Muffins</h2>"
      ],
      "text/plain": [
       "<IPython.core.display.HTML object>"
      ]
     },
     "metadata": {},
     "output_type": "display_data"
    },
    {
     "data": {
      "text/html": [
       "<h3>Ingredients:</h3>"
      ],
      "text/plain": [
       "<IPython.core.display.HTML object>"
      ]
     },
     "metadata": {},
     "output_type": "display_data"
    },
    {
     "data": {
      "text/html": [
       "<ul><li>white flour: 2 1/2</li><li>milk: 1</li><li>egg: 1/4</li><li>sugar: 1</li><li>baking powder: 1/2</li><li>salt: 2</li><li>milk: 1/2</li></ul>"
      ],
      "text/plain": [
       "<IPython.core.display.HTML object>"
      ]
     },
     "metadata": {},
     "output_type": "display_data"
    },
    {
     "data": {
      "text/html": [
       "<h3>Instructions:</h3>"
      ],
      "text/plain": [
       "<IPython.core.display.HTML object>"
      ]
     },
     "metadata": {},
     "output_type": "display_data"
    },
    {
     "data": {
      "text/html": [
       "<ol><li>Bake 15 to 20 minutes in a 400 oven.</li><li>FOR THE MUFFINS: GRAIN:  Use 2 to 2 1/2 cup of white flour.</li><li>OR --</li><li>substitute oatmeal,  cornmeal, whole wheat flour, rye flour, or flake cereal for 1 cup of the white  flour.</li><li>OR --</li><li>substitute 1 cup leftover cooked oatmeal, rice or cornmeal for  1/2 cup of the white flour and decrease liquid to 1/2 cup.</li><li>MILK:  Use 1 cup.</li><li>OR --</li><li>substitute buttermilk or sour milk.</li><li>Or substitute fruit juice for part  or all of the milk.</li><li>FAT:  Use 1/4 cup vegetable oil or 4 Tbsp melted butter or  margarine.  OR  substitute regular or crunch peanut butter for part or all of  the fat.  The fat can be reduced or omitted with fair results if using a \\</li><li>EGG:  Use 1 egg.</li><li>OR --</li><li>substitute 1 heaping Tbsp of soy flour and 1 Tbsp of water.</li><li>If using a cooked grain, separate the egg, add the yolk to the batter, beat white until stiff, and fold into the batter.</li><li>SWEETENER:  Use  between 2 Tbsp and 1/2 cup sugar.</li><li>OR --</li><li>substitute up to 3/4 cup brown sugar.</li><li>OR -- substitute up to 1/2 cup honey or molasses and decrease milk to 3/4 cup.</li><li>BAKING POWDER:  Use 2 teaspoons.</li><li>If using whole or cooked grains or more than 1 cup  additions, increase to 3 teaspoons.</li><li>If using buttermilk or sour milk, decrease to 1  tsp and add 1/2 tsp baking soda.</li><li>SALT:  Use 1/2 tsp, or omit if you have a  salt-restricted diet.  OPTIONAL INGREDIENTS: The following ingredients are optional.</li><li>Additions can be  used in any combination, up to 1 1/2 cups total.</li><li>If using more than 1 cup of  wet additions, decrease the milk to 1/2 cup.</li><li>DRY ADDITIONS:  Nuts, sunflower seeds, raisins, coconut, and so on.</li><li>MOIST ADDITONS:  Blueberries, chopped apple, shredded zucchini, shredded carrot, and so on.</li><li>WET ADDITIONS:  Pumpkin puree, applesauce, mashed potato, mashed bananas, mashed carrot, and so on.</li><li>If using 1/2 cup drained canned fruit or thawed shredded  zucchini, substitute the syrup or zucchini liquid for all or part of the milk.</li><li>SPICES:  Use spices that complement the additions, such as 1 tsp cinnamon with 1/4 tsp nutmeg or cloves.</li><li>Try 2 tsp grated orange or lemon peel.</li><li>JELLIES AND JAM:  Fill cups half full with a plain batter.</li><li>Add 1 tsp jam or  jelly and top with 2 more Tbsp batter.</li><li>NONSWEET COMBINATIONS:  Use only 2 Tbsp sugar and no fruit.  Add combinations of the following:  1/2 cup shredded cheese, 2 strips fried and crumbled bacon, 2  Tbsp grated onion, 1/2 cup shredded zucchini, 2 Tbsp Parmesan cheese.  Spices  could include parsley, marjoram, rosemary --</li><li>ALENA KIBBLER'S ADDITIONS: Hawaiian Muffins:  Use 1/2 cup mashed banana, 1/2 cup drained crushed pineapple, and 1/2 cup flake coconut, and 1 Tbsp vanilla or rum flavoring.</li><li>Use the  pineapple juice instead of milk.</li><li>Cherry Vanilla Chip Muffins:  3/4 cup pitted chopped cherries, 3/4 cup vanilla  chips, 1 tsp vanilla.</li><li>Elvis Muffins:  Use about 3/4 to 1 cup mashed banana, 1/2 cup chopped peanuts or walnuts (any nut).  And substitute 1/4 peanut butter for the oil.</li></ol>"
      ],
      "text/plain": [
       "<IPython.core.display.HTML object>"
      ]
     },
     "metadata": {},
     "output_type": "display_data"
    },
    {
     "data": {
      "text/html": [
       "<h2>Chesapeake Bay Crab Salad</h2>"
      ],
      "text/plain": [
       "<IPython.core.display.HTML object>"
      ]
     },
     "metadata": {},
     "output_type": "display_data"
    },
    {
     "data": {
      "text/html": [
       "<h3>Ingredients:</h3>"
      ],
      "text/plain": [
       "<IPython.core.display.HTML object>"
      ]
     },
     "metadata": {},
     "output_type": "display_data"
    },
    {
     "data": {
      "text/html": [
       "<ul><li>mayonnaise: 1</li><li>pimiento: 1/4</li><li>Dijon mustard: 1</li><li>Worcestershire sauce: 2</li><li>salt: 1 1/2</li><li>lemon: 1/2</li><li>celery: 1/4</li><li>lettuce: 1</li><li>lemon slice: 1/3</li></ul>"
      ],
      "text/plain": [
       "<IPython.core.display.HTML object>"
      ]
     },
     "metadata": {},
     "output_type": "display_data"
    },
    {
     "data": {
      "text/html": [
       "<h3>Instructions:</h3>"
      ],
      "text/plain": [
       "<IPython.core.display.HTML object>"
      ]
     },
     "metadata": {},
     "output_type": "display_data"
    },
    {
     "data": {
      "text/html": [
       "<ol><li>Remove cartilage from crab meat.</li><li>In a bowl, mix mayonnaise, pimiento, mustard, Worcestershire sauce, salt, hot pepper sauce, lemon juice, and celery.</li><li>Blend well.</li><li>Pour over crab meat and toss lightly but evenly.</li><li>Refrigerate.</li><li>Serve in bowl lined with lettuce leaves.</li><li>Garnish with lemon  slices and sprinkle with paprika.</li></ol>"
      ],
      "text/plain": [
       "<IPython.core.display.HTML object>"
      ]
     },
     "metadata": {},
     "output_type": "display_data"
    },
    {
     "data": {
      "text/html": [
       "<h2>Crab Bisque Chincoteague</h2>"
      ],
      "text/plain": [
       "<IPython.core.display.HTML object>"
      ]
     },
     "metadata": {},
     "output_type": "display_data"
    },
    {
     "data": {
      "text/html": [
       "<h3>Ingredients:</h3>"
      ],
      "text/plain": [
       "<IPython.core.display.HTML object>"
      ]
     },
     "metadata": {},
     "output_type": "display_data"
    },
    {
     "data": {
      "text/html": [
       "<ul><li>butter: 4</li><li>flour: 4</li><li>milk: 4</li><li>sharp cheddar cheese: 3/4</li><li>lemon pepper: 2</li><li>cooking sherry: 1/2</li><li>parsley: 2</li><li>salt: 1</li></ul>"
      ],
      "text/plain": [
       "<IPython.core.display.HTML object>"
      ]
     },
     "metadata": {},
     "output_type": "display_data"
    },
    {
     "data": {
      "text/html": [
       "<h3>Instructions:</h3>"
      ],
      "text/plain": [
       "<IPython.core.display.HTML object>"
      ]
     },
     "metadata": {},
     "output_type": "display_data"
    },
    {
     "data": {
      "text/html": [
       "<ol><li>Melt butter in a heavy 4-quart saucepan over medium heat. Stir in flour to make a roux.</li><li>Slowly add milk until it is well blended.</li><li>Stirring constantly, add cheese and cook until mixture thickens.</li><li>Reduce heat and add seasonings, sherry, cream, and parsley.</li><li>When mixture is thoroughly heated, add crab meat, stirring gently to keep lumps intact. Serve immediately in warm bowls and garnish with parsley.</li></ol>"
      ],
      "text/plain": [
       "<IPython.core.display.HTML object>"
      ]
     },
     "metadata": {},
     "output_type": "display_data"
    },
    {
     "data": {
      "text/html": [
       "<h2>Maryland Pavilion Crab Cakes</h2>"
      ],
      "text/plain": [
       "<IPython.core.display.HTML object>"
      ]
     },
     "metadata": {},
     "output_type": "display_data"
    },
    {
     "data": {
      "text/html": [
       "<h3>Ingredients:</h3>"
      ],
      "text/plain": [
       "<IPython.core.display.HTML object>"
      ]
     },
     "metadata": {},
     "output_type": "display_data"
    },
    {
     "data": {
      "text/html": [
       "<ul><li>eggs: 1</li><li>mayonnaise: 2</li><li>parsley: 2</li><li>salt: 1</li><li>pepper: 1</li></ul>"
      ],
      "text/plain": [
       "<IPython.core.display.HTML object>"
      ]
     },
     "metadata": {},
     "output_type": "display_data"
    },
    {
     "data": {
      "text/html": [
       "<h3>Instructions:</h3>"
      ],
      "text/plain": [
       "<IPython.core.display.HTML object>"
      ]
     },
     "metadata": {},
     "output_type": "display_data"
    },
    {
     "data": {
      "text/html": [
       "<ol><li>In a bowl, combine crab meat, eggs, mayonnaise, horseradish mustard,  chopped parsley, salt, pepper, and hot-pepper sauce. Mix lightly.</li><li>Separate  and form into 12 to 16 small cakes; do not pack firmly.</li><li>Roll crackers into  fine crumbs.</li><li>Pat the cracker crumbs lightly onto the crab cakes.</li><li>Heat oil  to a depth of about 1/4 inch in a large skillet, or heat the oil in a deep  fryer.</li><li>Fry crab cakes until golden brown, turning once. Drain on paper  toweling.</li><li>Serves 6.</li><li>\\</li><li></li></ol>"
      ],
      "text/plain": [
       "<IPython.core.display.HTML object>"
      ]
     },
     "metadata": {},
     "output_type": "display_data"
    },
    {
     "data": {
      "text/html": [
       "<h2>Trifle</h2>"
      ],
      "text/plain": [
       "<IPython.core.display.HTML object>"
      ]
     },
     "metadata": {},
     "output_type": "display_data"
    },
    {
     "data": {
      "text/html": [
       "<h3>Ingredients:</h3>"
      ],
      "text/plain": [
       "<IPython.core.display.HTML object>"
      ]
     },
     "metadata": {},
     "output_type": "display_data"
    },
    {
     "data": {
      "text/html": [
       "<ul><li>egg white substitute: 3</li><li>granulated sugar: 1/2</li><li>soymilk: 1/4</li><li>lemon juice: 2</li><li>whole wheat pastry flour: 1</li><li>baking powder: 1</li><li>salt: 1/4</li><li>cornstarch: 1/3</li><li>granulated sugar: 1/2</li><li>soymilk: 2</li><li>vanilla extract: 2</li><li>lemon juice: 2</li><li>sweet sherry: 1/3</li><li>port wine: 1</li><li>pear: 1/4</li></ul>"
      ],
      "text/plain": [
       "<IPython.core.display.HTML object>"
      ]
     },
     "metadata": {},
     "output_type": "display_data"
    },
    {
     "data": {
      "text/html": [
       "<h3>Instructions:</h3>"
      ],
      "text/plain": [
       "<IPython.core.display.HTML object>"
      ]
     },
     "metadata": {},
     "output_type": "display_data"
    },
    {
     "data": {
      "text/html": [
       "<ol><li>Preheat the oven to 350 degrees.</li><li>Beat the egg white substitutes until stiff  with an electric mixer.</li><li>Fold in the sugar, milk, and lemon juice and beat again.</li><li>Combine the flour, baking powder, and salt in a small mixing bowl.</li><li>Sprinkle into  the egg white mixture, a bit at a time, beating in each time with the mixer  until velvety smooth.</li><li>Pour into a lightly oiled, 9- by 13-inch baking pan.</li><li>Bake  for 25 minutes, or until the top is golden and a knife inserted into the center  tests clean.</li><li>This cake may be made well ahead of time; let it cool completely,  then store in an airtight container or proceed with the remaining steps.</li><li>For  the custard, combine the cornstarch and sugar in a heavy saucepan.</li><li>Pour in  enough soy milk to dissolve them.</li><li>Whisk in the remaining milk.</li><li>Place over  moderate heat and bring to a simmer, whisking almost continuously, so that the  cornstarch does not lump on the bottom.</li><li>Let the mixture simmer gently, whisking  frequently, until thick.</li><li>Remove from the heat. Stir in the vanilla and lemon  juice. Let the custard cool to room temperature.  Before assembling the trifle, cut the cake base into 4 to 6 sections, then  carefully split the sections in half through the center so that they are half  the thickness.</li><li>Spread the bottom halves with the raspberry preserves , then  cover with the tops.</li><li>Cut the sandwiched cake into approximately 1- by 2-inch  fingers.</li><li>Assemble the trifle in a trifle dish or a IO-inch round, preferably  clear-glass casserole dish at least 3 to 4 inches deep: half the cake fingers,  sprinkled with half of the sherry or port, half of the custard, the pear s  lices, the remaining cake fingers, the remaining sherry or port, the remaining  custard.</li><li>Sprinkle the top with the sliced almonds and decorate with small dots  of raspberry jam, either in an irregular or regular pattern.</li><li>Chill thoroughly  before serving.</li></ol>"
      ],
      "text/plain": [
       "<IPython.core.display.HTML object>"
      ]
     },
     "metadata": {},
     "output_type": "display_data"
    },
    {
     "data": {
      "text/html": [
       "<h2>Twice-Baked Potatoes (Microwave)</h2>"
      ],
      "text/plain": [
       "<IPython.core.display.HTML object>"
      ]
     },
     "metadata": {},
     "output_type": "display_data"
    },
    {
     "data": {
      "text/html": [
       "<img src=\"https://img.sndimg.com/food/image/upload/w_555,h_416,c_fit,fl_progressive,q_95/v1/img/recipes/26/6/pic1M4xec.jpg\" width=\"400\"/>"
      ],
      "text/plain": [
       "<IPython.core.display.Image object>"
      ]
     },
     "metadata": {},
     "output_type": "display_data"
    },
    {
     "data": {
      "text/html": [
       "<h3>Ingredients:</h3>"
      ],
      "text/plain": [
       "<IPython.core.display.HTML object>"
      ]
     },
     "metadata": {},
     "output_type": "display_data"
    },
    {
     "data": {
      "text/html": [
       "<ul><li>baking potatoes: 4</li><li>bacon: 6</li><li>butter: 1/4</li><li>margarine: 2</li><li>green onions: 1/2</li><li>milk: 1/2</li><li>salt: 1/8</li></ul>"
      ],
      "text/plain": [
       "<IPython.core.display.HTML object>"
      ]
     },
     "metadata": {},
     "output_type": "display_data"
    },
    {
     "data": {
      "text/html": [
       "<h3>Instructions:</h3>"
      ],
      "text/plain": [
       "<IPython.core.display.HTML object>"
      ]
     },
     "metadata": {},
     "output_type": "display_data"
    },
    {
     "data": {
      "text/html": [
       "<ol><li>Pierce well-scrubbed potatoes twice.</li><li>Place 1 inch apart on paper towel in microwave oven.</li><li>Microwave at HIGH 10-1/2 to 12-1/2 minutes, or until  just softened, rearranging and turning over after half the cooking  time.</li><li>Let stand, covered with a bowl, for 5 minutes.</li><li>Place bacon on paper towel lined plate. Cover with paper towel.</li><li>Microwave at HIGH 5 to 6 minutes, or until crisp.</li><li>Drain bacon on paper towel; crumble.</li><li>Place butter and green onion in 2 quart casserole; cover.</li><li>Microwave at HIGH 1-1/2 to 2 minutes, or until butter is melted and onion is tender.</li><li>Cut potatoes in half lengthwise.</li><li>Scoop out center; place in casserole with onion-butter and bacon.</li><li>Add milk, salt and pepper; mash until fluffy.</li><li>Spoon into potato shells.</li><li>Arrange on paper towel-lined microwaveable baking sheet.</li><li>Sprinkle with paprika.</li><li>Microwave at HIGH 3 to 7 minutes, or until heated, rotating 1/2 turn.</li><li>Garnish with additional chopped green onion, if desired.</li></ol>"
      ],
      "text/plain": [
       "<IPython.core.display.HTML object>"
      ]
     },
     "metadata": {},
     "output_type": "display_data"
    },
    {
     "data": {
      "text/html": [
       "<h2>Lemon Curried Lamb Chops</h2>"
      ],
      "text/plain": [
       "<IPython.core.display.HTML object>"
      ]
     },
     "metadata": {},
     "output_type": "display_data"
    },
    {
     "data": {
      "text/html": [
       "<img src=\"https://img.sndimg.com/food/image/upload/w_555,h_416,c_fit,fl_progressive,q_95/v1/img/recipes/27/1/picJ4N9BR.jpg\" width=\"400\"/>"
      ],
      "text/plain": [
       "<IPython.core.display.Image object>"
      ]
     },
     "metadata": {},
     "output_type": "display_data"
    },
    {
     "data": {
      "text/html": [
       "<h3>Ingredients:</h3>"
      ],
      "text/plain": [
       "<IPython.core.display.HTML object>"
      ]
     },
     "metadata": {},
     "output_type": "display_data"
    },
    {
     "data": {
      "text/html": [
       "<ul><li>lamb chops: 4</li><li>lemon juice: 1/3</li><li>salt: 1</li><li>curry powder: 3</li><li>sugar: 1/4</li><li>butter: 1 1/2</li></ul>"
      ],
      "text/plain": [
       "<IPython.core.display.HTML object>"
      ]
     },
     "metadata": {},
     "output_type": "display_data"
    },
    {
     "data": {
      "text/html": [
       "<h3>Instructions:</h3>"
      ],
      "text/plain": [
       "<IPython.core.display.HTML object>"
      ]
     },
     "metadata": {},
     "output_type": "display_data"
    },
    {
     "data": {
      "text/html": [
       "<ol><li>Combine lemon juice, curry powder, salt and sugar.</li><li>Brush mixture over the chops and let stand for 2 hours to absorb the flavors.</li><li>Heat the  butter in a frying pan, cook until golden brown on both sides.</li></ol>"
      ],
      "text/plain": [
       "<IPython.core.display.HTML object>"
      ]
     },
     "metadata": {},
     "output_type": "display_data"
    },
    {
     "data": {
      "text/html": [
       "<h2>Curried Vegetables</h2>"
      ],
      "text/plain": [
       "<IPython.core.display.HTML object>"
      ]
     },
     "metadata": {},
     "output_type": "display_data"
    },
    {
     "data": {
      "text/html": [
       "<h3>Ingredients:</h3>"
      ],
      "text/plain": [
       "<IPython.core.display.HTML object>"
      ]
     },
     "metadata": {},
     "output_type": "display_data"
    },
    {
     "data": {
      "text/html": [
       "<ul><li>cauliflower: 2</li><li>carrots: 2</li><li>celery: 2</li><li>onion: 1/2</li><li>mayonnaise: 1</li><li>salt: 1/3</li><li>curry powder: 1/2</li><li>ginger: 1/2</li><li>cheddar cheese: 1/4</li><li>butter: 1/8</li></ul>"
      ],
      "text/plain": [
       "<IPython.core.display.HTML object>"
      ]
     },
     "metadata": {},
     "output_type": "display_data"
    },
    {
     "data": {
      "text/html": [
       "<h3>Instructions:</h3>"
      ],
      "text/plain": [
       "<IPython.core.display.HTML object>"
      ]
     },
     "metadata": {},
     "output_type": "display_data"
    },
    {
     "data": {
      "text/html": [
       "<ol><li>Cook the cauliflower, carrots, celery, and onion in a small amount of water until crisp- tender-drain; set aside.</li><li>Combine the soup, mayonnaise, salt, curry powder, coriander, and ginger in a mixing bowl; mix well.</li><li>Stir in the vegetables.</li><li>Spoon into an oven-proof casserole dish.</li><li>Combine cheddar cheese, bread crumbs and melted butter.</li><li>Sprinkle over the vegetables.</li><li>Bake uncovered at 350 degrees Fahrenheit for 30 to 35 minutes.</li></ol>"
      ],
      "text/plain": [
       "<IPython.core.display.HTML object>"
      ]
     },
     "metadata": {},
     "output_type": "display_data"
    },
    {
     "data": {
      "text/html": [
       "<h2>Crisp Sauteed Cucumbers With Lemon</h2>"
      ],
      "text/plain": [
       "<IPython.core.display.HTML object>"
      ]
     },
     "metadata": {},
     "output_type": "display_data"
    },
    {
     "data": {
      "text/html": [
       "<h3>Ingredients:</h3>"
      ],
      "text/plain": [
       "<IPython.core.display.HTML object>"
      ]
     },
     "metadata": {},
     "output_type": "display_data"
    },
    {
     "data": {
      "text/html": [
       "<ul><li>cucumber: 1</li><li>salt: 1</li><li>lemon: 1</li><li>olive oil: 2</li><li>flour: 2</li></ul>"
      ],
      "text/plain": [
       "<IPython.core.display.HTML object>"
      ]
     },
     "metadata": {},
     "output_type": "display_data"
    },
    {
     "data": {
      "text/html": [
       "<h3>Instructions:</h3>"
      ],
      "text/plain": [
       "<IPython.core.display.HTML object>"
      ]
     },
     "metadata": {},
     "output_type": "display_data"
    },
    {
     "data": {
      "text/html": [
       "<ol><li>Peel the cucumbers if waxed.</li><li>Cut cucumbers in half lengthwise; scoop out the seeds with a spoon.</li><li>Cut them into inch chunks.</li><li>If the cucumbers are not super-firm, place the chunks in a colander and sprinkle them with 1 tablespoon  of salt. Shake to distribute the salt. Let cucumber drain for about 20 minutes. Rinse and dry.</li><li>If the cucumbers are already firm, proceed with the recipe.</li><li>Remove a few strips of zest from the lemon with a zester or vegetable peeler; mince enough to measure 1 teaspoon.</li><li>Cut the lemon in half through its equator and section it as you would an orange. Set the zest and lemon sections aside.</li><li>Place  the butter or oil in a large skillet over medium high heat.</li><li>Place about 2 cups flour in a bag, and, when the butter melts or the oil is hot, put a few chunks of cucumber at a time in the bag.</li><li>Shake well; add cucumbers to the skillet.</li><li>Repeat until all the cucumbers are used up.</li><li>Cook over medium high heat, stirring and turning occasionally, for about 10 minutes, until the exteriors of the cucumbers are crisp and the interiors are tender enough to be easily pierced  with a thin-bladed knife.</li><li>Add the lemon zest and lemon sections, along with salt and  pepper, and cook for 1 minute more.</li><li>Garnish with parsley and serve.</li></ol>"
      ],
      "text/plain": [
       "<IPython.core.display.HTML object>"
      ]
     },
     "metadata": {},
     "output_type": "display_data"
    },
    {
     "data": {
      "text/html": [
       "<h2>Virginia Fried Soft Shell Crabs</h2>"
      ],
      "text/plain": [
       "<IPython.core.display.HTML object>"
      ]
     },
     "metadata": {},
     "output_type": "display_data"
    },
    {
     "data": {
      "text/html": [
       "<h3>Ingredients:</h3>"
      ],
      "text/plain": [
       "<IPython.core.display.HTML object>"
      ]
     },
     "metadata": {},
     "output_type": "display_data"
    },
    {
     "data": {
      "text/html": [
       "<ul><li>soft shelled crabs: 12</li><li>milk: 1/4</li><li>flour: 3/4</li><li>eggs: 2</li><li>salt: 2</li></ul>"
      ],
      "text/plain": [
       "<IPython.core.display.HTML object>"
      ]
     },
     "metadata": {},
     "output_type": "display_data"
    },
    {
     "data": {
      "text/html": [
       "<h3>Instructions:</h3>"
      ],
      "text/plain": [
       "<IPython.core.display.HTML object>"
      ]
     },
     "metadata": {},
     "output_type": "display_data"
    },
    {
     "data": {
      "text/html": [
       "<ol><li>Dress fresh crabs or thaw frozen crabs.  Rinse in cold water; drain.</li><li>Combine eggs, milk, and salt.</li><li>Combine flour and crumbs.</li><li>Dip crabs in egg mixture and roll in flour/crumb mixture. For heavier breading, let crabs sit several minutes and repeat dipping/rolling procedure. Additional spices, such as cayenne pepper and garlic, may also be added.</li><li>Place crabs in a heavy frying pan which contains 1/8 to 1/4 inch of fat, hot but not smoking.</li><li>Fry at moderate heat. When crabs are brown on one side, turn carefully and brown the other side. Cooking time is approximately 8 to 10 minutes.</li><li>Drain on absorbent paper.</li></ol>"
      ],
      "text/plain": [
       "<IPython.core.display.HTML object>"
      ]
     },
     "metadata": {},
     "output_type": "display_data"
    },
    {
     "data": {
      "text/html": [
       "<h2>Twice-Baked Sweet Potatoes</h2>"
      ],
      "text/plain": [
       "<IPython.core.display.HTML object>"
      ]
     },
     "metadata": {},
     "output_type": "display_data"
    },
    {
     "data": {
      "text/html": [
       "<h3>Ingredients:</h3>"
      ],
      "text/plain": [
       "<IPython.core.display.HTML object>"
      ]
     },
     "metadata": {},
     "output_type": "display_data"
    },
    {
     "data": {
      "text/html": [
       "<ul><li>head of garlic: 1</li><li>sweet potatoes: 6</li><li>sour cream: 1/3</li><li>salt: 1/4</li><li>pepper: 1/8</li></ul>"
      ],
      "text/plain": [
       "<IPython.core.display.HTML object>"
      ]
     },
     "metadata": {},
     "output_type": "display_data"
    },
    {
     "data": {
      "text/html": [
       "<h3>Instructions:</h3>"
      ],
      "text/plain": [
       "<IPython.core.display.HTML object>"
      ]
     },
     "metadata": {},
     "output_type": "display_data"
    },
    {
     "data": {
      "text/html": [
       "<ol><li>Remove outer covering from garlic but don't separate the cloves.</li><li>Wrap garlic in aluminum foil coated with cooking spray.</li><li>Place garlic and sweet potatoes on a baking sheet.</li><li>Bake at 400 degrees Fahrenheit for 1-1/4 hours.</li><li>Separate garlic cloves; squeeze to extract 2 teaspoons pulp.</li><li>Slice skin away from top of each potato and scoop out the pulp leaving   the shells intact.</li><li>Mash potato pulp with garlic, sour cream, salt and pepper.</li><li>Spoon into potato shells.</li><li>Bake 400 degrees Fahrenheit for 15 minutes or until heated.</li></ol>"
      ],
      "text/plain": [
       "<IPython.core.display.HTML object>"
      ]
     },
     "metadata": {},
     "output_type": "display_data"
    },
    {
     "data": {
      "text/html": [
       "<h2>Fish Chowder</h2>"
      ],
      "text/plain": [
       "<IPython.core.display.HTML object>"
      ]
     },
     "metadata": {},
     "output_type": "display_data"
    },
    {
     "data": {
      "text/html": [
       "<img src=\"https://img.sndimg.com/food/image/upload/w_555,h_416,c_fit,fl_progressive,q_95/v1/img/recipes/31/9/2ym1pt8Rme5VZDRZVF9G_chowder.JPG\" width=\"400\"/>"
      ],
      "text/plain": [
       "<IPython.core.display.Image object>"
      ]
     },
     "metadata": {},
     "output_type": "display_data"
    },
    {
     "data": {
      "text/html": [
       "<h3>Ingredients:</h3>"
      ],
      "text/plain": [
       "<IPython.core.display.HTML object>"
      ]
     },
     "metadata": {},
     "output_type": "display_data"
    },
    {
     "data": {
      "text/html": [
       "<ul><li>cod fish fillet: 1</li><li>margarine: 2</li><li>onion: 1</li><li>celery: 1/2</li><li>raw potatoes: 2</li><li>carrot: 1/2</li><li>boiling water: 2</li><li>salt: 1</li><li>pepper: 1/2</li><li>milk: 1</li></ul>"
      ],
      "text/plain": [
       "<IPython.core.display.HTML object>"
      ]
     },
     "metadata": {},
     "output_type": "display_data"
    },
    {
     "data": {
      "text/html": [
       "<h3>Instructions:</h3>"
      ],
      "text/plain": [
       "<IPython.core.display.HTML object>"
      ]
     },
     "metadata": {},
     "output_type": "display_data"
    },
    {
     "data": {
      "text/html": [
       "<ol><li>Cut cod fillets into bite sized pieces.</li><li>Melt margarine in large saucepan Cook  onion and celery until onion is tender and translucent. Add potatoes, carrots,  water, salt and pepper.</li><li>Cover and simmer 10 to 15 minutes until vegetables are  tender.</li><li>Add fish and cook 10 minutes longer.</li><li>Add milk.</li><li>Reheat, but do not boil.</li><li>Serves 4.</li><li>Serve hot, with freshly baked home made bread or rolls and butter.</li></ol>"
      ],
      "text/plain": [
       "<IPython.core.display.HTML object>"
      ]
     },
     "metadata": {},
     "output_type": "display_data"
    },
    {
     "data": {
      "text/html": [
       "<h2>Curried Chicken</h2>"
      ],
      "text/plain": [
       "<IPython.core.display.HTML object>"
      ]
     },
     "metadata": {},
     "output_type": "display_data"
    },
    {
     "data": {
      "text/html": [
       "<h3>Ingredients:</h3>"
      ],
      "text/plain": [
       "<IPython.core.display.HTML object>"
      ]
     },
     "metadata": {},
     "output_type": "display_data"
    },
    {
     "data": {
      "text/html": [
       "<ul><li>chicken: 2</li><li>salt: 2</li><li>curry powder: 1</li><li>onion: 1/2</li><li>rosemary: 1</li><li>garlic: 1/2</li><li>thyme: 3</li><li>water: 1/4</li></ul>"
      ],
      "text/plain": [
       "<IPython.core.display.HTML object>"
      ]
     },
     "metadata": {},
     "output_type": "display_data"
    },
    {
     "data": {
      "text/html": [
       "<h3>Instructions:</h3>"
      ],
      "text/plain": [
       "<IPython.core.display.HTML object>"
      ]
     },
     "metadata": {},
     "output_type": "display_data"
    },
    {
     "data": {
      "text/html": [
       "<ol><li>Season chicken with salt, curry powder, onions, rosemary, garlic, pepper and thyme.</li><li>Marinate for 2 hours, or in refrigerator overnight.</li><li>In a heavy skillet,  brown the chicken pieces lightly in oil for approximately 20 minutes.</li><li>Check constantly to make sure nothing sticks.</li><li>Add water and simmer for another 20  minutes until tender.</li><li>Serve over white rice. (Serves 4).</li></ol>"
      ],
      "text/plain": [
       "<IPython.core.display.HTML object>"
      ]
     },
     "metadata": {},
     "output_type": "display_data"
    },
    {
     "data": {
      "text/html": [
       "<h2>Acorn, Butternut Squash and Parsnips Gratin</h2>"
      ],
      "text/plain": [
       "<IPython.core.display.HTML object>"
      ]
     },
     "metadata": {},
     "output_type": "display_data"
    },
    {
     "data": {
      "text/html": [
       "<h3>Ingredients:</h3>"
      ],
      "text/plain": [
       "<IPython.core.display.HTML object>"
      ]
     },
     "metadata": {},
     "output_type": "display_data"
    },
    {
     "data": {
      "text/html": [
       "<ul><li>fresh parsley: 1/3</li><li>salt: 1/4</li><li>dried oregano: 1/2</li><li>dried thyme: 1/4</li><li>pepper: 1/4</li><li>acorn squash: 1/4</li><li>parsnips: 4</li><li>olive oil: 2</li><li>olive oil-flavored vegetable cooking spray: 2</li><li>reduced-fat sharp cheddar cheese: 1</li><li>oregano sprig: 1/2</li></ul>"
      ],
      "text/plain": [
       "<IPython.core.display.HTML object>"
      ]
     },
     "metadata": {},
     "output_type": "display_data"
    },
    {
     "data": {
      "text/html": [
       "<h3>Instructions:</h3>"
      ],
      "text/plain": [
       "<IPython.core.display.HTML object>"
      ]
     },
     "metadata": {},
     "output_type": "display_data"
    },
    {
     "data": {
      "text/html": [
       "<ol><li>Combine breadcrumbs, parsley, salt, oregano, thyme and pepper  in a large bowl; stir well.</li><li>Add acorn squash, butternut squash, parsnips, and olive oil, tossing to coat.</li><li>Spoon squash mixture into a 2 quart casserole coated with cooking spray.</li><li>Cover and bake at 325 degrees Fahrenheit for 1-1/2  hours.</li><li>Sprinkle with cheese.</li><li>Bake, uncovered, an additional 15 minutes.</li><li>Garnish with oregano, if desired.</li><li>NOTES : Use any combination of winter squash to equal 6 cups, if desired.</li></ol>"
      ],
      "text/plain": [
       "<IPython.core.display.HTML object>"
      ]
     },
     "metadata": {},
     "output_type": "display_data"
    },
    {
     "data": {
      "text/html": [
       "<h2>Chicken Caesar Wraps</h2>"
      ],
      "text/plain": [
       "<IPython.core.display.HTML object>"
      ]
     },
     "metadata": {},
     "output_type": "display_data"
    },
    {
     "data": {
      "text/html": [
       "<h3>Ingredients:</h3>"
      ],
      "text/plain": [
       "<IPython.core.display.HTML object>"
      ]
     },
     "metadata": {},
     "output_type": "display_data"
    },
    {
     "data": {
      "text/html": [
       "<ul><li>olive oil: 3</li><li>lemon pepper: 1</li><li>garlic: 1</li><li>skinless chicken breast half: 1/2</li><li>sour cream: 1</li><li>milk: 8</li><li>parmesan cheese: 2</li><li>pepper: 3</li><li>garlic: 1/2</li><li>flour tortilla: 1/2</li><li>romaine lettuce: 1/2</li></ul>"
      ],
      "text/plain": [
       "<IPython.core.display.HTML object>"
      ]
     },
     "metadata": {},
     "output_type": "display_data"
    },
    {
     "data": {
      "text/html": [
       "<h3>Instructions:</h3>"
      ],
      "text/plain": [
       "<IPython.core.display.HTML object>"
      ]
     },
     "metadata": {},
     "output_type": "display_data"
    },
    {
     "data": {
      "text/html": [
       "<ol><li>In a large self-closing plastic bag combine olive oil, lemon pepper, garlic, and Italian seasoning.</li><li>Add chicken to bag and seal tightly.</li><li>Turn bag gently to distribute marinade. Refrigerate 15  minutes.</li><li>Preheat grill to medium heat.</li><li>Remove the chicken from the marinade and arrange on the grill rack.</li><li>Grill 10 to 14 minutes, turning occasionally.</li><li>Remove chicken and cut into strips.</li><li>In a small bowl combine sour cream, milk, parmesan cheese, Italian seasoning, pepper and garlic for the dressing.</li><li>Place Romaine lettuce and sliced chicken in a warmed tortilla.</li><li>Top with dressing.</li><li>Fold tortilla.</li><li>NOTES : I slice chicken and then place in marinade. I also cook on the stovetop.</li></ol>"
      ],
      "text/plain": [
       "<IPython.core.display.HTML object>"
      ]
     },
     "metadata": {},
     "output_type": "display_data"
    },
    {
     "data": {
      "text/html": [
       "<h2>Spicy Acorn Squash Soup</h2>"
      ],
      "text/plain": [
       "<IPython.core.display.HTML object>"
      ]
     },
     "metadata": {},
     "output_type": "display_data"
    },
    {
     "data": {
      "text/html": [
       "<h3>Ingredients:</h3>"
      ],
      "text/plain": [
       "<IPython.core.display.HTML object>"
      ]
     },
     "metadata": {},
     "output_type": "display_data"
    },
    {
     "data": {
      "text/html": [
       "<ul><li>low sodium chicken broth: 3</li><li>onions: 1 1/2</li><li>acorn squash: 1/2</li><li>salt: 3</li><li>water: 1/2</li><li>long-grain rice: 3</li><li>chunky peanut butter: 1/2</li><li>fresh parsley: 1/4</li></ul>"
      ],
      "text/plain": [
       "<IPython.core.display.HTML object>"
      ]
     },
     "metadata": {},
     "output_type": "display_data"
    },
    {
     "data": {
      "text/html": [
       "<h3>Instructions:</h3>"
      ],
      "text/plain": [
       "<IPython.core.display.HTML object>"
      ]
     },
     "metadata": {},
     "output_type": "display_data"
    },
    {
     "data": {
      "text/html": [
       "<ol><li>Place 1/4 cup chicken broth in a large saucepan; bring to a boil.</li><li>Add onion and  crushed red pepper; cook 5 minutes or until tender.</li><li>Add remaining 2-3/4 cups  broth, squash, salt, and water; bring to a boil.</li><li>Cover, reduce heat, and simmer  for 20 minutes.</li><li>Add rice; cover and simmer 20 minutes or until squash and rice  are tender.</li><li>Place peanut butter and half of soup in a blender; cover and process until  smooth.</li><li>Pour puree into a bowl.</li><li>Repeat with remaining soup, and add to bowl,  stirring well.</li></ol>"
      ],
      "text/plain": [
       "<IPython.core.display.HTML object>"
      ]
     },
     "metadata": {},
     "output_type": "display_data"
    },
    {
     "data": {
      "text/html": [
       "<h2>Thai Fish Curry</h2>"
      ],
      "text/plain": [
       "<IPython.core.display.HTML object>"
      ]
     },
     "metadata": {},
     "output_type": "display_data"
    },
    {
     "data": {
      "text/html": [
       "<h3>Ingredients:</h3>"
      ],
      "text/plain": [
       "<IPython.core.display.HTML object>"
      ]
     },
     "metadata": {},
     "output_type": "display_data"
    },
    {
     "data": {
      "text/html": [
       "<ul><li>onion: 1/3</li><li>fresh cilantro stems: 2</li><li>fresh lemongrass: 2</li><li>turmeric: 1</li><li>fresh ginger: 1</li><li>cumin: 1</li><li>garlic cloves: 3</li><li>sea bass fillet: 3/4</li><li>canned unsweetened coconut milk: 1</li><li>bottled clam juice: 3/4</li><li>fresh cilantro: 1</li><li>rice: 2/3</li></ul>"
      ],
      "text/plain": [
       "<IPython.core.display.HTML object>"
      ]
     },
     "metadata": {},
     "output_type": "display_data"
    },
    {
     "data": {
      "text/html": [
       "<h3>Instructions:</h3>"
      ],
      "text/plain": [
       "<IPython.core.display.HTML object>"
      ]
     },
     "metadata": {},
     "output_type": "display_data"
    },
    {
     "data": {
      "text/html": [
       "<ol><li>Blend onion, cilantro, lemongrass, turmeric, ginger, cumin, garlic, and dried red peppers in a food processor to dry paste, stopping frequently to scrape down sides of work bowl. (Paste can be prepared  3 days ahead. Cover and chill.)</li><li>Heat vegetable oil in a medium non-stick skillet over medium-high heat.</li><li>Add 2  rounded tablespoons spice paste; stir 1 minute.</li><li>Add fish and cook 2  minutes, turning occasionally with tongs.</li><li>Add coconut milk and clam  juice; simmer until fish is cooked through, turning occasionally, about 6 minutes.</li><li>Transfer fish to plate.</li><li>Boil liquid until reduced to thick sauce, about 8 minutes.</li><li>Season with salt.</li><li>Return fish to sauce and heat through.</li><li>Sprinkle with cilantro.</li><li>Serve over rice.</li><li>The mild spice paste is also great used as a base for chicken and  shrimp curries.</li></ol>"
      ],
      "text/plain": [
       "<IPython.core.display.HTML object>"
      ]
     },
     "metadata": {},
     "output_type": "display_data"
    },
    {
     "data": {
      "text/html": [
       "<h2>Country Fried Yellow Squash</h2>"
      ],
      "text/plain": [
       "<IPython.core.display.HTML object>"
      ]
     },
     "metadata": {},
     "output_type": "display_data"
    },
    {
     "data": {
      "text/html": [
       "<h3>Ingredients:</h3>"
      ],
      "text/plain": [
       "<IPython.core.display.HTML object>"
      ]
     },
     "metadata": {},
     "output_type": "display_data"
    },
    {
     "data": {
      "text/html": [
       "<ul><li>butter: 2 -3</li><li>onions: 2</li><li>salt: 2</li><li>water: 1</li><li>sugar: 1/2</li></ul>"
      ],
      "text/plain": [
       "<IPython.core.display.HTML object>"
      ]
     },
     "metadata": {},
     "output_type": "display_data"
    },
    {
     "data": {
      "text/html": [
       "<h3>Instructions:</h3>"
      ],
      "text/plain": [
       "<IPython.core.display.HTML object>"
      ]
     },
     "metadata": {},
     "output_type": "display_data"
    },
    {
     "data": {
      "text/html": [
       "<ol><li>Wash tender yellow squash; remove stem and blossom ends.</li><li>Cut into 1/2-inch rounds.</li><li>Place squash, butter, onions and salt into heavy skillet.</li><li>Add water.</li><li>Cover and cook on medium low heat until water is absorbed and squash is tender.</li><li>Lightly mash with a fork.</li><li>Add sugar and cream.</li><li>Let it cook slowly until mixture is fairly dry and flavors develop, being careful not to let it scorch.</li></ol>"
      ],
      "text/plain": [
       "<IPython.core.display.HTML object>"
      ]
     },
     "metadata": {},
     "output_type": "display_data"
    },
    {
     "data": {
      "text/html": [
       "<h2>Tangy Marinated Yellow Squash (No Cooking)</h2>"
      ],
      "text/plain": [
       "<IPython.core.display.HTML object>"
      ]
     },
     "metadata": {},
     "output_type": "display_data"
    },
    {
     "data": {
      "text/html": [
       "<h3>Ingredients:</h3>"
      ],
      "text/plain": [
       "<IPython.core.display.HTML object>"
      ]
     },
     "metadata": {},
     "output_type": "display_data"
    },
    {
     "data": {
      "text/html": [
       "<ul><li>green onion: 4</li><li>green pepper: 1/2</li><li>celery: 1/2</li><li>wine vinegar: 1/2</li><li>sugar: 2</li><li>salt: 3/4</li><li>pepper: 1</li><li>cider vinegar: 1</li><li>garlic clove: 1/3</li></ul>"
      ],
      "text/plain": [
       "<IPython.core.display.HTML object>"
      ]
     },
     "metadata": {},
     "output_type": "display_data"
    },
    {
     "data": {
      "text/html": [
       "<h3>Instructions:</h3>"
      ],
      "text/plain": [
       "<IPython.core.display.HTML object>"
      ]
     },
     "metadata": {},
     "output_type": "display_data"
    },
    {
     "data": {
      "text/html": [
       "<ol><li>Toss yellow squash, green onion, green pepper, and celery together.</li><li>Mix the marinade ingredients together.</li><li>Pour marinade over squash mixture.</li><li>Refrigerate for at least 12 hours.</li></ol>"
      ],
      "text/plain": [
       "<IPython.core.display.HTML object>"
      ]
     },
     "metadata": {},
     "output_type": "display_data"
    },
    {
     "data": {
      "text/html": [
       "<h2>Mashed Sweet Potato Pie</h2>"
      ],
      "text/plain": [
       "<IPython.core.display.HTML object>"
      ]
     },
     "metadata": {},
     "output_type": "display_data"
    },
    {
     "data": {
      "text/html": [
       "<img src=\"https://img.sndimg.com/food/image/upload/w_555,h_416,c_fit,fl_progressive,q_95/v1/img/recipes/34/5/piczgHYHj.jpg\" width=\"400\"/>"
      ],
      "text/plain": [
       "<IPython.core.display.Image object>"
      ]
     },
     "metadata": {},
     "output_type": "display_data"
    },
    {
     "data": {
      "text/html": [
       "<h3>Ingredients:</h3>"
      ],
      "text/plain": [
       "<IPython.core.display.HTML object>"
      ]
     },
     "metadata": {},
     "output_type": "display_data"
    },
    {
     "data": {
      "text/html": [
       "<ul><li>sweet potatoes: 2</li><li>eggs: 2</li><li>sugar: 3/4</li><li>salt: 1/2</li><li>ginger: 1/2</li><li>nutmeg: 1/2</li><li>vanilla: 1</li><li>evaporated milk: 1 2/3</li><li>butter: 1/2</li></ul>"
      ],
      "text/plain": [
       "<IPython.core.display.HTML object>"
      ]
     },
     "metadata": {},
     "output_type": "display_data"
    },
    {
     "data": {
      "text/html": [
       "<h3>Instructions:</h3>"
      ],
      "text/plain": [
       "<IPython.core.display.HTML object>"
      ]
     },
     "metadata": {},
     "output_type": "display_data"
    },
    {
     "data": {
      "text/html": [
       "<ol><li>Bake sweet potatoes until tender; peel and mash. Make sure all lumps are  removed, straining if necessary.</li><li>Mix mashed sweet potatoes, eggs, sugar, salt, ginger, nutmeg, vanilla, cream or evaporated milk and melted butter together.</li><li>Pour into unbaked pie shell.</li><li>Bake at 400 degrees Fahrenheit for 50 minutes or until knife inserted one inch from edges of pie comes out clean.</li></ol>"
      ],
      "text/plain": [
       "<IPython.core.display.HTML object>"
      ]
     },
     "metadata": {},
     "output_type": "display_data"
    },
    {
     "data": {
      "text/html": [
       "<h2>Potatoes Tapas in Garlic Mayonnaise (Potatoes Aioli)</h2>"
      ],
      "text/plain": [
       "<IPython.core.display.HTML object>"
      ]
     },
     "metadata": {},
     "output_type": "display_data"
    },
    {
     "data": {
      "text/html": [
       "<img src=\"https://img.sndimg.com/food/image/upload/w_555,h_416,c_fit,fl_progressive,q_95/v1/img/recipes/34/6/picMPKws7.jpg\" width=\"400\"/>"
      ],
      "text/plain": [
       "<IPython.core.display.Image object>"
      ]
     },
     "metadata": {},
     "output_type": "display_data"
    },
    {
     "data": {
      "text/html": [
       "<h3>Ingredients:</h3>"
      ],
      "text/plain": [
       "<IPython.core.display.HTML object>"
      ]
     },
     "metadata": {},
     "output_type": "display_data"
    },
    {
     "data": {
      "text/html": [
       "<ul><li>salad potatoes: 3/4</li><li>mayonnaise: 1/2</li><li>garlic cloves: 3</li><li>parsley: 2</li></ul>"
      ],
      "text/plain": [
       "<IPython.core.display.HTML object>"
      ]
     },
     "metadata": {},
     "output_type": "display_data"
    },
    {
     "data": {
      "text/html": [
       "<h3>Instructions:</h3>"
      ],
      "text/plain": [
       "<IPython.core.display.HTML object>"
      ]
     },
     "metadata": {},
     "output_type": "display_data"
    },
    {
     "data": {
      "text/html": [
       "<ol><li>Boil potatoes in salt water until tender; peel and cut into 3/4 inch  chunks.</li><li>In a bowl, combine mayonnaise, garlic, and parsley.  (Mayonnaise should be a little thin, dilute with lemon juice or soft vinegar if necessary.).</li><li>Fold the potatoes into the sauce gently, season with salt to taste, serve  at room temperature.</li></ol>"
      ],
      "text/plain": [
       "<IPython.core.display.HTML object>"
      ]
     },
     "metadata": {},
     "output_type": "display_data"
    },
    {
     "data": {
      "text/html": [
       "<h2>Roasted Tomato and Mint Salsa</h2>"
      ],
      "text/plain": [
       "<IPython.core.display.HTML object>"
      ]
     },
     "metadata": {},
     "output_type": "display_data"
    },
    {
     "data": {
      "text/html": [
       "<h3>Ingredients:</h3>"
      ],
      "text/plain": [
       "<IPython.core.display.HTML object>"
      ]
     },
     "metadata": {},
     "output_type": "display_data"
    },
    {
     "data": {
      "text/html": [
       "<ul><li>roma tomatoes: 6</li><li>garlic clove: 1</li><li>lime juice: 2</li><li>extra virgin olive oil: 3</li><li>cilantro: 2</li><li>spearmint: 1 1/2</li><li>lime zest: 3 1/2</li><li>orange zest: 1/2</li><li>salt: 1/2</li></ul>"
      ],
      "text/plain": [
       "<IPython.core.display.HTML object>"
      ]
     },
     "metadata": {},
     "output_type": "display_data"
    },
    {
     "data": {
      "text/html": [
       "<h3>Instructions:</h3>"
      ],
      "text/plain": [
       "<IPython.core.display.HTML object>"
      ]
     },
     "metadata": {},
     "output_type": "display_data"
    },
    {
     "data": {
      "text/html": [
       "<ol><li>With a comal or black iron skillet over medium-high heat, cook the tomatoes until blackened all over.</li><li>While still warm, pulse tomatoes with the garlic in a food processor until roughly chopped.</li><li>Cool to room temperature.</li><li>Add lime juice, olive oil, peppers, cilantro, spearmint, lime zest, orange zest, and salt.</li><li>Mix together and let stand at least 30 minutes before using.</li><li>Mark Miller writes: \\</li><li>.</li></ol>"
      ],
      "text/plain": [
       "<IPython.core.display.HTML object>"
      ]
     },
     "metadata": {},
     "output_type": "display_data"
    },
    {
     "data": {
      "text/html": [
       "<h2>Spaetzle - Basic Recipe - Art Culinaire Issue</h2>"
      ],
      "text/plain": [
       "<IPython.core.display.HTML object>"
      ]
     },
     "metadata": {},
     "output_type": "display_data"
    },
    {
     "data": {
      "text/html": [
       "<h3>Ingredients:</h3>"
      ],
      "text/plain": [
       "<IPython.core.display.HTML object>"
      ]
     },
     "metadata": {},
     "output_type": "display_data"
    },
    {
     "data": {
      "text/html": [
       "<ul><li>eggs: 2</li><li>flour: 1 1/2</li><li>milk: 1/2</li><li>salt: 1</li><li>baking powder: 1/4</li></ul>"
      ],
      "text/plain": [
       "<IPython.core.display.HTML object>"
      ]
     },
     "metadata": {},
     "output_type": "display_data"
    },
    {
     "data": {
      "text/html": [
       "<h3>Instructions:</h3>"
      ],
      "text/plain": [
       "<IPython.core.display.HTML object>"
      ]
     },
     "metadata": {},
     "output_type": "display_data"
    },
    {
     "data": {
      "text/html": [
       "<ol><li>Bring a saucepan of salted water it a boil, reduce the heat, and  maintain a simmer.</li><li>In a bowl, stir all the ingredients together.</li><li>Place a  colander over the pan, pour about 1/4 of the batter into the colander,  and press through the holes with a plastic spatula into the  hot water.</li><li>When the spaetzle starts to float to the surface, cover the  pan and keep covered until the spaetzle appears to swell and is fluffy.</li><li>Remove the dumplings and repeat the procedure with the remaining batter.</li></ol>"
      ],
      "text/plain": [
       "<IPython.core.display.HTML object>"
      ]
     },
     "metadata": {},
     "output_type": "display_data"
    },
    {
     "data": {
      "text/html": [
       "<h2>Banana Orange Ice Cream</h2>"
      ],
      "text/plain": [
       "<IPython.core.display.HTML object>"
      ]
     },
     "metadata": {},
     "output_type": "display_data"
    },
    {
     "data": {
      "text/html": [
       "<h3>Ingredients:</h3>"
      ],
      "text/plain": [
       "<IPython.core.display.HTML object>"
      ]
     },
     "metadata": {},
     "output_type": "display_data"
    },
    {
     "data": {
      "text/html": [
       "<ul><li>bananas: 7</li><li>fresh lemon juice: 4</li><li>salt: 1/4</li><li>sugar: 1</li><li>confectioners' sugar: 1 1/2</li><li>heavy cream: 1/4</li></ul>"
      ],
      "text/plain": [
       "<IPython.core.display.HTML object>"
      ]
     },
     "metadata": {},
     "output_type": "display_data"
    },
    {
     "data": {
      "text/html": [
       "<h3>Instructions:</h3>"
      ],
      "text/plain": [
       "<IPython.core.display.HTML object>"
      ]
     },
     "metadata": {},
     "output_type": "display_data"
    },
    {
     "data": {
      "text/html": [
       "<ol><li>Peel and mash bananas.</li><li>Combine with lemon juice, salt, sugar and fresh orange juice.</li><li>Fold confectioners' sugar into lightly whipped heavy cream.</li><li>Add to banana  mixture.</li><li>Churn-freeze.</li></ol>"
      ],
      "text/plain": [
       "<IPython.core.display.HTML object>"
      ]
     },
     "metadata": {},
     "output_type": "display_data"
    },
    {
     "data": {
      "text/html": [
       "<h2>Apple Crisp</h2>"
      ],
      "text/plain": [
       "<IPython.core.display.HTML object>"
      ]
     },
     "metadata": {},
     "output_type": "display_data"
    },
    {
     "data": {
      "text/html": [
       "<h3>Ingredients:</h3>"
      ],
      "text/plain": [
       "<IPython.core.display.HTML object>"
      ]
     },
     "metadata": {},
     "output_type": "display_data"
    },
    {
     "data": {
      "text/html": [
       "<ul><li>apple: 1</li><li>flour: 3/4</li><li>salt: 1</li><li>sugar: 1</li><li>egg: 1</li><li>baking powder: 1/2</li></ul>"
      ],
      "text/plain": [
       "<IPython.core.display.HTML object>"
      ]
     },
     "metadata": {},
     "output_type": "display_data"
    },
    {
     "data": {
      "text/html": [
       "<h3>Instructions:</h3>"
      ],
      "text/plain": [
       "<IPython.core.display.HTML object>"
      ]
     },
     "metadata": {},
     "output_type": "display_data"
    },
    {
     "data": {
      "text/html": [
       "<ol><li>Fill a 6\\</li><li>(I use a 9\\</li><li>) baking pan with sliced apples.</li><li>Mix the flour, salt, sugar, egg, baking powder together with two knives or pastry blender until crumbly; spread over the apples.</li><li>Pour 1/2 cup melted butter (real butter please) over top and sprinkle with cinnamon.</li><li>Bake at 350 degrees Fahrenheit for 30 minutes or until apples are done and topping is crisp.</li></ol>"
      ],
      "text/plain": [
       "<IPython.core.display.HTML object>"
      ]
     },
     "metadata": {},
     "output_type": "display_data"
    },
    {
     "data": {
      "text/html": [
       "<h2>Baked Zucchini Frittatas</h2>"
      ],
      "text/plain": [
       "<IPython.core.display.HTML object>"
      ]
     },
     "metadata": {},
     "output_type": "display_data"
    },
    {
     "data": {
      "text/html": [
       "<h3>Ingredients:</h3>"
      ],
      "text/plain": [
       "<IPython.core.display.HTML object>"
      ]
     },
     "metadata": {},
     "output_type": "display_data"
    },
    {
     "data": {
      "text/html": [
       "<ul><li>zucchini: 1</li><li>onion: 1/4</li><li>red bell pepper: 1/2</li><li>garlic clove: 1</li><li>reduced-calorie margarine: 1</li><li>1% low-fat milk: 3</li><li>salt: 3</li><li>monterey jack cheese: 1/4</li><li>fat-free parmesan cheese: 1/4</li></ul>"
      ],
      "text/plain": [
       "<IPython.core.display.HTML object>"
      ]
     },
     "metadata": {},
     "output_type": "display_data"
    },
    {
     "data": {
      "text/html": [
       "<h3>Instructions:</h3>"
      ],
      "text/plain": [
       "<IPython.core.display.HTML object>"
      ]
     },
     "metadata": {},
     "output_type": "display_data"
    },
    {
     "data": {
      "text/html": [
       "<ol><li>Heat oven to 400°F.</li><li>Grease two 10-oz.  custard cups or individual baking dishes.</li><li>In 8-inch skillet over medium low heat, sauté zucchini, onion, red pepper and garlic in margarine until tender; let cool slightly.</li><li>In medium bowl, beat eggs, half-and-half and seasonings until combined.</li><li>Stir in zucchini mixture. Pour into prepared custard cups or baking dishes.</li><li>Sprinkle with cheeses.</li><li>Bake, uncovered, at 400°F for 14 to 17 minutes or until top is puffy and light golden brown.</li><li>Let stand 5 minutes before serving.</li></ol>"
      ],
      "text/plain": [
       "<IPython.core.display.HTML object>"
      ]
     },
     "metadata": {},
     "output_type": "display_data"
    },
    {
     "data": {
      "text/html": [
       "<h2>Lemon Chicken</h2>"
      ],
      "text/plain": [
       "<IPython.core.display.HTML object>"
      ]
     },
     "metadata": {},
     "output_type": "display_data"
    },
    {
     "data": {
      "text/html": [
       "<img src=\"https://img.sndimg.com/food/image/upload/w_555,h_416,c_fit,fl_progressive,q_95/v1/img/recipes/36/2/pice12Er8.jpg\" width=\"400\"/>"
      ],
      "text/plain": [
       "<IPython.core.display.Image object>"
      ]
     },
     "metadata": {},
     "output_type": "display_data"
    },
    {
     "data": {
      "text/html": [
       "<h3>Ingredients:</h3>"
      ],
      "text/plain": [
       "<IPython.core.display.HTML object>"
      ]
     },
     "metadata": {},
     "output_type": "display_data"
    },
    {
     "data": {
      "text/html": [
       "<ul><li>skinless chicken breast halves: 4</li><li>lemons: 2</li><li>unbleached flour: 1/2</li><li>salt: 1/2</li><li>fresh pepper: 1/4</li><li>paprika: 1/4</li><li>lemon, rind of: 1</li><li>brown sugar: 2</li><li>fresh lemon juice: 1</li><li>water: 1</li><li>lemon: 1</li></ul>"
      ],
      "text/plain": [
       "<IPython.core.display.HTML object>"
      ]
     },
     "metadata": {},
     "output_type": "display_data"
    },
    {
     "data": {
      "text/html": [
       "<h3>Instructions:</h3>"
      ],
      "text/plain": [
       "<IPython.core.display.HTML object>"
      ]
     },
     "metadata": {},
     "output_type": "display_data"
    },
    {
     "data": {
      "text/html": [
       "<ol><li>Place chicken in bowl or casserole. Cover with lemon juice and marinate in  refrigerator for several hours or overnight, turning chicken periodically.</li><li>Preheat oven to 350 degrees.</li><li>Combine flour, salt, pepper and paprika in plastic bag.</li><li>Remove chicken from marinade and coat each with flour by shaking it in bag.</li><li>Place chicken in baking pan in a single layer.</li><li>Either peel the zest from a lemon and chop it fine in your food processor, or  grate the zest with a hand grater.</li><li>Mix grated peel with brown sugar.</li><li>Sprinkle the lemon zest mixture evenly over the chicken breasts.</li><li>Combine lemon  juice and water and sprinkle evenly over chicken.</li><li>Put 1 lemon slice on each chicken breast and bake for 35-40 min.  or until cooked through.</li><li>To make sure chicken is cooked, cut one of them in the middle and make sure that it is not red or pink, then, if it is, cook it a little bit more.</li></ol>"
      ],
      "text/plain": [
       "<IPython.core.display.HTML object>"
      ]
     },
     "metadata": {},
     "output_type": "display_data"
    },
    {
     "data": {
      "text/html": [
       "<h2>Zucchini Frittatas II</h2>"
      ],
      "text/plain": [
       "<IPython.core.display.HTML object>"
      ]
     },
     "metadata": {},
     "output_type": "display_data"
    },
    {
     "data": {
      "text/html": [
       "<img src=\"https://img.sndimg.com/food/image/upload/w_555,h_416,c_fit,fl_progressive,q_95/v1/img/recipes/36/4/pic3kR05R.jpg\" width=\"400\"/>"
      ],
      "text/plain": [
       "<IPython.core.display.Image object>"
      ]
     },
     "metadata": {},
     "output_type": "display_data"
    },
    {
     "data": {
      "text/html": [
       "<h3>Ingredients:</h3>"
      ],
      "text/plain": [
       "<IPython.core.display.HTML object>"
      ]
     },
     "metadata": {},
     "output_type": "display_data"
    },
    {
     "data": {
      "text/html": [
       "<ul><li>olive oil: 1</li><li>onion: 1</li><li>garlic: 2</li><li>zucchini: 2</li><li>salt: 1/2</li><li>pepper: 4</li><li>fresh basil: 2</li><li>flat-leaf Italian parsley: 2</li><li>fat-free parmesan cheese: 2</li></ul>"
      ],
      "text/plain": [
       "<IPython.core.display.HTML object>"
      ]
     },
     "metadata": {},
     "output_type": "display_data"
    },
    {
     "data": {
      "text/html": [
       "<h3>Instructions:</h3>"
      ],
      "text/plain": [
       "<IPython.core.display.HTML object>"
      ]
     },
     "metadata": {},
     "output_type": "display_data"
    },
    {
     "data": {
      "text/html": [
       "<ol><li>Heat 1/2 Tbsp. oil in a 10-inch, heavy-bottomed, oven-proof skillet. Add onion  and saute until tender and translucent. Stir in garlic and zucchini and continue sauteing until squash is just tender.</li><li>Season with salt and pepper and remove  from heat. In a mixing bowl, whisk together eggs, basil and parsley.</li><li>Stir in  sauteed vegetables.</li><li>Add remaining 1/2 tablespoon oil to same skillet over medium heat, tilting pan to coat bottom and sides.</li><li>Add egg-vegetable mixture, spreading evenly.</li><li>Reduce heat to low and cover pan.</li><li>Cook 10 to 15 minutes, until set.  Preheat broiler.</li><li>Sprinkle grated cheese on top of frittata if desired and broil  briefly until lightly browned.</li><li>Cut into 3 wedges.</li><li>Serve immediately from the pan or transfer to a large round plate or platter.</li></ol>"
      ],
      "text/plain": [
       "<IPython.core.display.HTML object>"
      ]
     },
     "metadata": {},
     "output_type": "display_data"
    },
    {
     "data": {
      "text/html": [
       "<h2>Sweet Potato Pecan Pie</h2>"
      ],
      "text/plain": [
       "<IPython.core.display.HTML object>"
      ]
     },
     "metadata": {},
     "output_type": "display_data"
    },
    {
     "data": {
      "text/html": [
       "<img src=\"https://img.sndimg.com/food/image/upload/w_555,h_416,c_fit,fl_progressive,q_95/v1/img/recipes/37/4/picCdWS5O.jpg\" width=\"400\"/>"
      ],
      "text/plain": [
       "<IPython.core.display.Image object>"
      ]
     },
     "metadata": {},
     "output_type": "display_data"
    },
    {
     "data": {
      "text/html": [
       "<h3>Ingredients:</h3>"
      ],
      "text/plain": [
       "<IPython.core.display.HTML object>"
      ]
     },
     "metadata": {},
     "output_type": "display_data"
    },
    {
     "data": {
      "text/html": [
       "<ul><li>sweet potato: 1</li><li>butter: 1/4</li><li>margarine: 14</li><li>cinnamon: 1</li><li>vanilla extract: 1</li><li>nutmeg: 1</li><li>salt: 1/2</li><li>egg: 1/4</li><li>graham cracker pie crust: 1</li><li>egg: 1</li><li>dark corn syrup: 1</li><li>brown sugar: 2</li><li>butter: 2</li><li>pecans: 1</li></ul>"
      ],
      "text/plain": [
       "<IPython.core.display.HTML object>"
      ]
     },
     "metadata": {},
     "output_type": "display_data"
    },
    {
     "data": {
      "text/html": [
       "<h3>Instructions:</h3>"
      ],
      "text/plain": [
       "<IPython.core.display.HTML object>"
      ]
     },
     "metadata": {},
     "output_type": "display_data"
    },
    {
     "data": {
      "text/html": [
       "<ol><li>Preheat oven to 425 degrees fahrenheit.</li><li>With mixer, beat hot yams and butter until smooth.</li><li>Add condensed milk, cinnamon, orange rind, vanilla extract, nutmeg, salt, and egg; mix well.</li><li>Pour mixture into crust.</li><li>Bake 20 minutes.</li><li>Meanwhile, make Pecan Topping: Beat together egg, corn syrup, brown sugar, melted butter and maple flavoring. Stir in chopped pecans.</li><li>Remove pie from oven; reduce oven to 350 degrees fahrenheit.</li><li>Spoon Pecan Topping on pie.</li><li>Bake 25 minutes longer or until set.</li><li>Cool.</li><li>Serve warm or at room temperature.</li><li>Garnish with orange zest twist, if  desired.</li><li>Refrigerate any leftovers.</li></ol>"
      ],
      "text/plain": [
       "<IPython.core.display.HTML object>"
      ]
     },
     "metadata": {},
     "output_type": "display_data"
    },
    {
     "data": {
      "text/html": [
       "<h2>Yellow Squash Frittata</h2>"
      ],
      "text/plain": [
       "<IPython.core.display.HTML object>"
      ]
     },
     "metadata": {},
     "output_type": "display_data"
    },
    {
     "data": {
      "text/html": [
       "<img src=\"https://img.sndimg.com/food/image/upload/w_555,h_416,c_fit,fl_progressive,q_95/v1/img/recipes/37/5/picdEOis2.jpg\" width=\"400\"/>"
      ],
      "text/plain": [
       "<IPython.core.display.Image object>"
      ]
     },
     "metadata": {},
     "output_type": "display_data"
    },
    {
     "data": {
      "text/html": [
       "<h3>Ingredients:</h3>"
      ],
      "text/plain": [
       "<IPython.core.display.HTML object>"
      ]
     },
     "metadata": {},
     "output_type": "display_data"
    },
    {
     "data": {
      "text/html": [
       "<ul><li>butter: 4</li><li>eggs: 1</li><li>cheddar cheese: 6</li><li>salt: 1/2</li><li>pepper: 1</li></ul>"
      ],
      "text/plain": [
       "<IPython.core.display.HTML object>"
      ]
     },
     "metadata": {},
     "output_type": "display_data"
    },
    {
     "data": {
      "text/html": [
       "<h3>Instructions:</h3>"
      ],
      "text/plain": [
       "<IPython.core.display.HTML object>"
      ]
     },
     "metadata": {},
     "output_type": "display_data"
    },
    {
     "data": {
      "text/html": [
       "<ol><li>Slice squash into equal sized rounds. You can cut a bigger squash in half instead of using the small ones, if you want to.</li><li>Saute squash in butter until tender-crisp.</li><li>Beat eggs with the grated cheese, Italian seasoning,  salt and pepper.</li><li>Pour egg mixture over squash.</li><li>Cook until eggs are cooked and puffy.</li></ol>"
      ],
      "text/plain": [
       "<IPython.core.display.HTML object>"
      ]
     },
     "metadata": {},
     "output_type": "display_data"
    },
    {
     "data": {
      "text/html": [
       "<h2>Yellow Squash Puffs</h2>"
      ],
      "text/plain": [
       "<IPython.core.display.HTML object>"
      ]
     },
     "metadata": {},
     "output_type": "display_data"
    },
    {
     "data": {
      "text/html": [
       "<img src=\"https://img.sndimg.com/food/image/upload/w_555,h_416,c_fit,fl_progressive,q_95/v1/img/recipes/37/6/pic2RoaTx.jpg\" width=\"400\"/>"
      ],
      "text/plain": [
       "<IPython.core.display.Image object>"
      ]
     },
     "metadata": {},
     "output_type": "display_data"
    },
    {
     "data": {
      "text/html": [
       "<h3>Ingredients:</h3>"
      ],
      "text/plain": [
       "<IPython.core.display.HTML object>"
      ]
     },
     "metadata": {},
     "output_type": "display_data"
    },
    {
     "data": {
      "text/html": [
       "<ul><li>egg: 1</li><li>all-purpose flour: 1</li><li>cornmeal: 1/3</li><li>baking powder: 1/3</li><li>salt: 1</li><li>onion: 1/2</li></ul>"
      ],
      "text/plain": [
       "<IPython.core.display.HTML object>"
      ]
     },
     "metadata": {},
     "output_type": "display_data"
    },
    {
     "data": {
      "text/html": [
       "<h3>Instructions:</h3>"
      ],
      "text/plain": [
       "<IPython.core.display.HTML object>"
      ]
     },
     "metadata": {},
     "output_type": "display_data"
    },
    {
     "data": {
      "text/html": [
       "<ol><li>Combine the cooked squash and egg, stirring well.</li><li>Combine flour, cornmeal, baking powder and salt, stir well.</li><li>Add squash mixture and onion; stir until blended.</li><li>Drop squash  mixture by level tablespoonful into hot oil.</li><li>Cook until golden  brown, turning once. Drain well on paper towels.</li></ol>"
      ],
      "text/plain": [
       "<IPython.core.display.HTML object>"
      ]
     },
     "metadata": {},
     "output_type": "display_data"
    },
    {
     "data": {
      "text/html": [
       "<h2>Sweet Potato-Pecan Pie</h2>"
      ],
      "text/plain": [
       "<IPython.core.display.HTML object>"
      ]
     },
     "metadata": {},
     "output_type": "display_data"
    },
    {
     "data": {
      "text/html": [
       "<img src=\"https://img.sndimg.com/food/image/upload/w_555,h_416,c_fit,fl_progressive,q_95/v1/img/recipes/37/8/XWKevNaCQCqmoshKeOga_sp21500.jpg\" width=\"400\"/>"
      ],
      "text/plain": [
       "<IPython.core.display.Image object>"
      ]
     },
     "metadata": {},
     "output_type": "display_data"
    },
    {
     "data": {
      "text/html": [
       "<h3>Ingredients:</h3>"
      ],
      "text/plain": [
       "<IPython.core.display.HTML object>"
      ]
     },
     "metadata": {},
     "output_type": "display_data"
    },
    {
     "data": {
      "text/html": [
       "<ul><li>egg: 1</li><li>fresh sweet potatoes: 1</li><li>sugar: 1 1/2</li><li>unsalted butter: 1/4</li><li>margarine: 2</li><li>vanilla extract: 1</li><li>salt: 1/4</li><li>cinnamon: 1/4</li><li>allspice: 1/8</li><li>nutmeg: 1/8</li><li>eggs: 2</li><li>sugar: 1/2</li><li>dark corn syrup: 1/2</li><li>unsalted butter: 2</li><li>margarine: 1</li><li>vanilla extract: 1</li><li>cinnamon: 1</li><li>pecan halves: 1/2</li></ul>"
      ],
      "text/plain": [
       "<IPython.core.display.HTML object>"
      ]
     },
     "metadata": {},
     "output_type": "display_data"
    },
    {
     "data": {
      "text/html": [
       "<h3>Instructions:</h3>"
      ],
      "text/plain": [
       "<IPython.core.display.HTML object>"
      ]
     },
     "metadata": {},
     "output_type": "display_data"
    },
    {
     "data": {
      "text/html": [
       "<ol><li>Prepare pie shell,set aside.</li><li>Make sweet potato filling: In medium bowl, with electric mixer, beat 1 egg until frothy.</li><li>Add mashed cooked sweet potatoes, sugar, butter, vanilla extract, salt, cinnamon, allspice, and nutmeg; beat at medium speed until the mixture is smooth, about 2 minutes.</li><li>Make  pecan topping: In medium bowl, with mixer, beat eggs until frothy.</li><li>Add sugar, corn syrup, melted butter, vanilla and cinnamon.</li><li>Beat at low speed just until mixture is well blended, about 1 minute.</li><li>Stir in pecans.</li><li>Preheat oven to 350 degrees Fahrenheit.</li><li>To assemble:  Turn sweet potato filling into unbaked pie shell, spreading evenly.</li><li>Pour pecan  topping over top.</li><li>Bake 60 to 70 minutes until set, and knife inserted in center comes  out clean.</li><li>Remove pie to rack to cool.</li><li>Just before serving decorate with whipped cream.</li></ol>"
      ],
      "text/plain": [
       "<IPython.core.display.HTML object>"
      ]
     },
     "metadata": {},
     "output_type": "display_data"
    },
    {
     "data": {
      "text/html": [
       "<h2>Sweet Potato Custard Pie</h2>"
      ],
      "text/plain": [
       "<IPython.core.display.HTML object>"
      ]
     },
     "metadata": {},
     "output_type": "display_data"
    },
    {
     "data": {
      "text/html": [
       "<h3>Ingredients:</h3>"
      ],
      "text/plain": [
       "<IPython.core.display.HTML object>"
      ]
     },
     "metadata": {},
     "output_type": "display_data"
    },
    {
     "data": {
      "text/html": [
       "<ul><li>eggs: 1</li><li>sugar: 2</li><li>salt: 1/4</li><li>nutmeg: 1/2</li><li>cinnamon: 1/4</li><li>milk: 1/4</li><li>raw sweet potato: 1</li><li>butter: 1 3/4</li></ul>"
      ],
      "text/plain": [
       "<IPython.core.display.HTML object>"
      ]
     },
     "metadata": {},
     "output_type": "display_data"
    },
    {
     "data": {
      "text/html": [
       "<h3>Instructions:</h3>"
      ],
      "text/plain": [
       "<IPython.core.display.HTML object>"
      ]
     },
     "metadata": {},
     "output_type": "display_data"
    },
    {
     "data": {
      "text/html": [
       "<ol><li>Combine eggs, sugar, salt, nutmeg, cinnamon, orange rind and milk.</li><li>Add sweet potatoes, grated just before adding to milk mixture.</li><li>Stir in melted butter.</li><li>Pour filling into pie shell.</li><li>Bake at 400 degrees Fahrenheit for 45 to 50 minutes, or until knife  inserted 1 inch from edge comes out clean.</li><li>Serve slightly warm or cold.</li></ol>"
      ],
      "text/plain": [
       "<IPython.core.display.HTML object>"
      ]
     },
     "metadata": {},
     "output_type": "display_data"
    },
    {
     "data": {
      "text/html": [
       "<h2>Sliced Sweet Potato Pie</h2>"
      ],
      "text/plain": [
       "<IPython.core.display.HTML object>"
      ]
     },
     "metadata": {},
     "output_type": "display_data"
    },
    {
     "data": {
      "text/html": [
       "<h3>Ingredients:</h3>"
      ],
      "text/plain": [
       "<IPython.core.display.HTML object>"
      ]
     },
     "metadata": {},
     "output_type": "display_data"
    },
    {
     "data": {
      "text/html": [
       "<ul><li>sweet potatoes: 1 1/2</li><li>light brown sugar: 1</li><li>cinnamon: 1/2</li><li>nutmeg: 1/8</li><li>ginger: 1/2</li><li>salt: 1/4</li><li>butter: 6</li><li>heavy cream: 1/2</li></ul>"
      ],
      "text/plain": [
       "<IPython.core.display.HTML object>"
      ]
     },
     "metadata": {},
     "output_type": "display_data"
    },
    {
     "data": {
      "text/html": [
       "<h3>Instructions:</h3>"
      ],
      "text/plain": [
       "<IPython.core.display.HTML object>"
      ]
     },
     "metadata": {},
     "output_type": "display_data"
    },
    {
     "data": {
      "text/html": [
       "<ol><li>Boil sweet potatoes until half cooked, 15 to 20 minutes.</li><li>Peel and slice sweet potatoes thinly.</li><li>Mix brown sugar, cinnamon, nutmeg, ginger and salt.</li><li>Place a layer of sweet potatoes in pastry-lined  9-inch pie pan.</li><li>Sprinkle with some of the spice mixture; dot with a little bit of butter.</li><li>Continue with layers until all ingredients are used, dotting top with butter.</li><li>Add cream.</li><li>Top with top crust, fluting edges and cutting vents.</li><li>Bake at 425 degrees Fahrenheit for 30 for 40 minutes.</li><li>If potatoes are still not tender, reduce temperature to 350 degrees Fahrenheit and continue baking until they are done.</li></ol>"
      ],
      "text/plain": [
       "<IPython.core.display.HTML object>"
      ]
     },
     "metadata": {},
     "output_type": "display_data"
    },
    {
     "data": {
      "text/html": [
       "<h2>Banana Ice Cream I</h2>"
      ],
      "text/plain": [
       "<IPython.core.display.HTML object>"
      ]
     },
     "metadata": {},
     "output_type": "display_data"
    },
    {
     "data": {
      "text/html": [
       "<h3>Ingredients:</h3>"
      ],
      "text/plain": [
       "<IPython.core.display.HTML object>"
      ]
     },
     "metadata": {},
     "output_type": "display_data"
    },
    {
     "data": {
      "text/html": [
       "<ul><li>sugar: 1</li><li>salt: 1/4</li><li>bananas: 5</li><li>fresh lemon juice: 3</li><li>heavy cream: 5</li></ul>"
      ],
      "text/plain": [
       "<IPython.core.display.HTML object>"
      ]
     },
     "metadata": {},
     "output_type": "display_data"
    },
    {
     "data": {
      "text/html": [
       "<h3>Instructions:</h3>"
      ],
      "text/plain": [
       "<IPython.core.display.HTML object>"
      ]
     },
     "metadata": {},
     "output_type": "display_data"
    },
    {
     "data": {
      "text/html": [
       "<ol><li>In top of double boiler, stir together sugar, salt, slightly beaten egg yolks  and 2 cups of light cream.</li><li>Cook, stirring frequently, until mixture coats a  spoon.</li><li>Cool.</li><li>Peel and mash bananas and combine with lemon juice.</li><li>Add heavy cream, remaining light cream, and bananas to the cooled egg yolk mixture.</li><li>Churn-freeze.</li></ol>"
      ],
      "text/plain": [
       "<IPython.core.display.HTML object>"
      ]
     },
     "metadata": {},
     "output_type": "display_data"
    },
    {
     "data": {
      "text/html": [
       "<h2>Whole Wheat Calzone</h2>"
      ],
      "text/plain": [
       "<IPython.core.display.HTML object>"
      ]
     },
     "metadata": {},
     "output_type": "display_data"
    },
    {
     "data": {
      "text/html": [
       "<h3>Ingredients:</h3>"
      ],
      "text/plain": [
       "<IPython.core.display.HTML object>"
      ]
     },
     "metadata": {},
     "output_type": "display_data"
    },
    {
     "data": {
      "text/html": [
       "<ul><li>onion: 2</li><li>green pepper: 1/4</li><li>garlic clove: 1/2</li><li>chicken breasts: 1/2</li><li>salt: 1</li><li>pepper: 4</li><li>dried oregano: 1/4</li><li>parmesan cheese: 1</li><li>swiss cheese: 1/2</li><li>fresh parsley: 1/2</li><li>egg: 1</li><li>water: 1/4</li></ul>"
      ],
      "text/plain": [
       "<IPython.core.display.HTML object>"
      ]
     },
     "metadata": {},
     "output_type": "display_data"
    },
    {
     "data": {
      "text/html": [
       "<h3>Instructions:</h3>"
      ],
      "text/plain": [
       "<IPython.core.display.HTML object>"
      ]
     },
     "metadata": {},
     "output_type": "display_data"
    },
    {
     "data": {
      "text/html": [
       "<ol><li>In medium skillet, heat 2 tablespoons oil; saute onion, green and red peppers, and garlic for 3 minutes, stirring constantly.</li><li>Add  chicken, salt, pepper and oregano; stir occasionally until meat  is browned, about 10 minutes.</li><li>Drain off excess fat. Remove  skillet from heat.</li><li>Stir in Parmesan cheese, Swiss cheese, parsley and beaten egg; mix  well and set aside.</li><li>Make bread mix according to directions.</li><li>Divide in 4 parts and roll each into a 9-inch circle.</li><li>Place 1/4 of meat mixture on each.</li><li>Moisten edges with water; fold to enclose filling, and press edges to seal.</li><li>On a lightly greased baking sheet, cover and let rise for 15 minutes.</li><li>Brush tops with egg yolk and water.</li><li>Bake at 350 degrees Fahrenheit for 20 to 30 minutes or until golden brown and sound hollow when tapped.</li></ol>"
      ],
      "text/plain": [
       "<IPython.core.display.HTML object>"
      ]
     },
     "metadata": {},
     "output_type": "display_data"
    },
    {
     "data": {
      "text/html": [
       "<h2>M&M and Chocolate Chews</h2>"
      ],
      "text/plain": [
       "<IPython.core.display.HTML object>"
      ]
     },
     "metadata": {},
     "output_type": "display_data"
    },
    {
     "data": {
      "text/html": [
       "<h3>Ingredients:</h3>"
      ],
      "text/plain": [
       "<IPython.core.display.HTML object>"
      ]
     },
     "metadata": {},
     "output_type": "display_data"
    },
    {
     "data": {
      "text/html": [
       "<ul><li>butter: 1 1/4</li><li>eggs: 2</li><li>sugar: 2</li><li>vanilla: 2</li><li>flour: 2</li><li>baking soda: 1</li><li>chocolate chips: 1</li><li>salt: 1</li></ul>"
      ],
      "text/plain": [
       "<IPython.core.display.HTML object>"
      ]
     },
     "metadata": {},
     "output_type": "display_data"
    },
    {
     "data": {
      "text/html": [
       "<h3>Instructions:</h3>"
      ],
      "text/plain": [
       "<IPython.core.display.HTML object>"
      ]
     },
     "metadata": {},
     "output_type": "display_data"
    },
    {
     "data": {
      "text/html": [
       "<ol><li>Cream ingredients in Part 1 well.</li><li>Add Part 1 mixture to part 2 mixture.  Spread 1/2 mixture in pan.</li><li>Top with M&M's and then remaining dough.</li><li>Bake at  375~ for 25-30 minutes.</li></ol>"
      ],
      "text/plain": [
       "<IPython.core.display.HTML object>"
      ]
     },
     "metadata": {},
     "output_type": "display_data"
    },
    {
     "data": {
      "text/html": [
       "<h2>Moussaka</h2>"
      ],
      "text/plain": [
       "<IPython.core.display.HTML object>"
      ]
     },
     "metadata": {},
     "output_type": "display_data"
    },
    {
     "data": {
      "text/html": [
       "<img src=\"https://img.sndimg.com/food/image/upload/w_555,h_416,c_fit,fl_progressive,q_95/v1/img/recipes/41/4/picSUi4aG.jpg\" width=\"400\"/>"
      ],
      "text/plain": [
       "<IPython.core.display.Image object>"
      ]
     },
     "metadata": {},
     "output_type": "display_data"
    },
    {
     "data": {
      "text/html": [
       "<h3>Ingredients:</h3>"
      ],
      "text/plain": [
       "<IPython.core.display.HTML object>"
      ]
     },
     "metadata": {},
     "output_type": "display_data"
    },
    {
     "data": {
      "text/html": [
       "<ul><li>onions: 2</li><li>olive oil: 2</li><li>butter: 2</li><li>mushrooms: 2</li><li>tomatoes: 3</li><li>tomato paste: 3</li><li>dry red wine: 3/4</li><li>parsley: 1/2</li><li>cinnamon: 1</li><li>garlic: 1</li><li>oregano: 1</li><li>sugar: 1</li><li>milk: 4</li><li>butter: 1/2</li><li>flour: 6</li><li>nutmeg: 1/8</li><li>white pepper: 1/4</li><li>olive oil: 3</li><li>eggplants: 4</li><li>eggs: 2</li><li>ricotta cheese: 1</li><li>parmesan cheese: 2</li></ul>"
      ],
      "text/plain": [
       "<IPython.core.display.HTML object>"
      ]
     },
     "metadata": {},
     "output_type": "display_data"
    },
    {
     "data": {
      "text/html": [
       "<h3>Instructions:</h3>"
      ],
      "text/plain": [
       "<IPython.core.display.HTML object>"
      ]
     },
     "metadata": {},
     "output_type": "display_data"
    },
    {
     "data": {
      "text/html": [
       "<ol><li>First make the tomato sauce: peel and mince onions. Saute onions in 2 Tbsp oil  and 2 Tbsp butter, over moderate heat, until they are soft and lightly colored  (about 8 minutes). Add mush- rooms and saute. Stir in tomatoes, tomato paste,  wine, parsley, seasonings and sugar.</li><li>Reduce heat to low and simmer uncovered,  for 30-45 minutes, stirring occasionally, until most of the liquid has evaporated, and the mixture is quite thick. Remove skillet from heat and let it  cool completely.</li><li>Start seasoning the eggplants: peel eggplants and slice vertically, 1/8 to 1/4  inch thick. Sprinkle lightly with salt and let sit for 30 minutes.</li><li>Now make the  Bechamel Sauce.  NOTE:  The Bechamel-egg-ricotta mixture will overflow all but the largest  (professional size) food processors. Use a mixer or blend by hand.Place the milk in a saucepan, and heat it just until tiny  bubbles appear along the edges. Remove and set aside.</li><li>Melt the butter in 3-quart saucepan over very low heat until foamy, being careful not to brown. Slowly add the 6 Tbsp flour, stirring constantly until smooth (3-4 minutes), and  still being careful not to let it brown.</li><li>Add the milk slowly, whipping with a wire whisk. When the mixture is thick and smooth, remove it from the heat and stir in seasonings.</li><li>Stir ricotta cheese until it is smooth  and creamy. Gently fold it into the Bechamel sauce. Stir in beaten eggs until  thoroughly incorporated.</li><li>Back to the eggplant: Rinse well with cold water; squeeze gently and pat dry. Dredge the eggplant in 1 1/2 cups flour, and saute each in olive oil until it is  brown on both sides.</li><li>Remove and discard any excess oil that has risen to the  top of the tomato mixture. Lightly grease a 16x10 baking pan that is at least 3  inches deep, and sprinkle the bottom with a few breadcrumbs.</li><li>Place a layer of  eggplant in the pan, following with a layer of tomato mixture. Sprinkle with  breadcrumbs and grated cheese. Repeat as many times as you have eggplant to  last. Pour the Bechamel-ricotta sauce over the top and bake at 300 deg. F for  one hour, or until a golden-brown crust has formed on top.</li><li>Remove moussaka from  oven and let it stand undisturbed 20-30 minutes; the delay allows the layers to  fuse.</li><li></li></ol>"
      ],
      "text/plain": [
       "<IPython.core.display.HTML object>"
      ]
     },
     "metadata": {},
     "output_type": "display_data"
    },
    {
     "data": {
      "text/html": [
       "<h2>Chili Non Carne</h2>"
      ],
      "text/plain": [
       "<IPython.core.display.HTML object>"
      ]
     },
     "metadata": {},
     "output_type": "display_data"
    },
    {
     "data": {
      "text/html": [
       "<h3>Ingredients:</h3>"
      ],
      "text/plain": [
       "<IPython.core.display.HTML object>"
      ]
     },
     "metadata": {},
     "output_type": "display_data"
    },
    {
     "data": {
      "text/html": [
       "<ul><li>onion: 1/4</li><li>garlic cloves: 2</li><li>olive oil: 1</li><li>chili powder: 2</li><li>basil: 1/4</li><li>oregano: 1/4</li><li>cumin: 1/4</li><li>zucchini: 2</li><li>carrot: 1</li><li>canned tomatoes: 42 1/2</li><li>kidney beans: 15</li><li>kidney beans: 30</li></ul>"
      ],
      "text/plain": [
       "<IPython.core.display.HTML object>"
      ]
     },
     "metadata": {},
     "output_type": "display_data"
    },
    {
     "data": {
      "text/html": [
       "<h3>Instructions:</h3>"
      ],
      "text/plain": [
       "<IPython.core.display.HTML object>"
      ]
     },
     "metadata": {},
     "output_type": "display_data"
    },
    {
     "data": {
      "text/html": [
       "<ol><li>In large pot, sauté onion and garlic in olive oil.</li><li>Add a splash of water and  cook until soft.  Mix in chili powder, basil, oregano and cumin.</li><li>Stir in zucchini and carrots until well blended.</li><li>Cook for about 1 minute over low heat, stirring occasionally.</li><li>Stir in chopped tomatoes, undrained kidney beans and drained kidney beans.</li><li>Bring to a boil.</li><li>Reduce heat and simmer for 30-45 minutes, or until thick.</li><li>Top with chopped onions, tomatoes or green peppers.</li></ol>"
      ],
      "text/plain": [
       "<IPython.core.display.HTML object>"
      ]
     },
     "metadata": {},
     "output_type": "display_data"
    },
    {
     "data": {
      "text/html": [
       "<h2>Glazed Pineapple With Macadamia Nut Crunch</h2>"
      ],
      "text/plain": [
       "<IPython.core.display.HTML object>"
      ]
     },
     "metadata": {},
     "output_type": "display_data"
    },
    {
     "data": {
      "text/html": [
       "<img src=\"https://img.sndimg.com/food/image/upload/w_555,h_416,c_fit,fl_progressive,q_95/v1/img/recipes/42/8/pic5mGAZf.jpg\" width=\"400\"/>"
      ],
      "text/plain": [
       "<IPython.core.display.Image object>"
      ]
     },
     "metadata": {},
     "output_type": "display_data"
    },
    {
     "data": {
      "text/html": [
       "<h3>Ingredients:</h3>"
      ],
      "text/plain": [
       "<IPython.core.display.HTML object>"
      ]
     },
     "metadata": {},
     "output_type": "display_data"
    },
    {
     "data": {
      "text/html": [
       "<ul><li>pineapple: 1</li><li>light brown sugar: 1</li><li>salt: 1/3</li><li>unsalted butter: 1</li></ul>"
      ],
      "text/plain": [
       "<IPython.core.display.HTML object>"
      ]
     },
     "metadata": {},
     "output_type": "display_data"
    },
    {
     "data": {
      "text/html": [
       "<h3>Instructions:</h3>"
      ],
      "text/plain": [
       "<IPython.core.display.HTML object>"
      ]
     },
     "metadata": {},
     "output_type": "display_data"
    },
    {
     "data": {
      "text/html": [
       "<ol><li>Preheat the broiler.</li><li>Cut the pineapple into 8 slices about 1-inch  thick.</li><li>For a decorative presentation you might want to cut notched grooves 1  inch apart on the top of each slice to suggest the grooves of a scallop shell.</li><li>In a small bowl, combine the macadamia nuts, brown sugar and salt.</li><li>Add the melted butter and stir until well blended.</li><li>Place the pineapple slices on a baking sheet lined with foil.</li><li>Sprinkle with a few tablespoons of the nut mixture, or arrange in a  graphic pattern over each pineapple slice.</li><li>Broil the pineapple slices about 6  inches from the heat until the filling starts to caramelize, about 1-1/2  minutes.</li><li>Serve hot.</li></ol>"
      ],
      "text/plain": [
       "<IPython.core.display.HTML object>"
      ]
     },
     "metadata": {},
     "output_type": "display_data"
    },
    {
     "data": {
      "text/html": [
       "<h2>Blue Mountain Blueberry Pie</h2>"
      ],
      "text/plain": [
       "<IPython.core.display.HTML object>"
      ]
     },
     "metadata": {},
     "output_type": "display_data"
    },
    {
     "data": {
      "text/html": [
       "<img src=\"https://img.sndimg.com/food/image/upload/w_555,h_416,c_fit,fl_progressive,q_95/v1/img/recipes/43/2/pic8qm1Rn.jpg\" width=\"400\"/>"
      ],
      "text/plain": [
       "<IPython.core.display.Image object>"
      ]
     },
     "metadata": {},
     "output_type": "display_data"
    },
    {
     "data": {
      "text/html": [
       "<h3>Ingredients:</h3>"
      ],
      "text/plain": [
       "<IPython.core.display.HTML object>"
      ]
     },
     "metadata": {},
     "output_type": "display_data"
    },
    {
     "data": {
      "text/html": [
       "<ul><li>blueberries: 4</li><li>lemon juice: 4</li><li>sugar: 3/4</li><li>all-purpose flour: 1/4</li><li>lemon zest: 1</li><li>cinnamon: 1/2</li><li>nutmeg: 1/4</li><li>salt: 1/8</li><li>margarine: 2</li></ul>"
      ],
      "text/plain": [
       "<IPython.core.display.HTML object>"
      ]
     },
     "metadata": {},
     "output_type": "display_data"
    },
    {
     "data": {
      "text/html": [
       "<h3>Instructions:</h3>"
      ],
      "text/plain": [
       "<IPython.core.display.HTML object>"
      ]
     },
     "metadata": {},
     "output_type": "display_data"
    },
    {
     "data": {
      "text/html": [
       "<ol><li>Have an 8-inch double crust pie shell ready.</li><li>Sort, rinse and drain blueberries.</li><li>Sprinkle lemon juice over berries.</li><li>Combine sugar, flour, lemon peel, cinnamon,  nutmeg and salt. Toss this mixture gently with the blueberries to coat well.</li><li>Put  berry mixture into pie shell; dot with margarine. Place second crust on top of  pie, seal edges and cut 3 slashes in top to allow steam to escape. Bake in  preheated 450°F oven for 10 minutes.</li><li>Lower heat to 350°F and continue  baking 30-35 minutes more. Cool pie before slicing.</li><li>NOTES : This is an old fashioned pie recipe that is juicy, fragrant and  delicious.  It is important to use the freshest blueberries you can find.</li></ol>"
      ],
      "text/plain": [
       "<IPython.core.display.HTML object>"
      ]
     },
     "metadata": {},
     "output_type": "display_data"
    },
    {
     "data": {
      "text/html": [
       "<h2>English Sherry Trifle</h2>"
      ],
      "text/plain": [
       "<IPython.core.display.HTML object>"
      ]
     },
     "metadata": {},
     "output_type": "display_data"
    },
    {
     "data": {
      "text/html": [
       "<h3>Ingredients:</h3>"
      ],
      "text/plain": [
       "<IPython.core.display.HTML object>"
      ]
     },
     "metadata": {},
     "output_type": "display_data"
    },
    {
     "data": {
      "text/html": [
       "<ul><li>sherry wine: 2</li><li>bananas: 1 -2</li><li>fresh strawberries: 2</li><li>frozen strawberries: 2</li><li>eggs: 2</li><li>lemon juice: 1</li><li>sugar: 5</li><li>flour: 1</li><li>butter: 1</li><li>salt: 1</li></ul>"
      ],
      "text/plain": [
       "<IPython.core.display.HTML object>"
      ]
     },
     "metadata": {},
     "output_type": "display_data"
    },
    {
     "data": {
      "text/html": [
       "<h3>Instructions:</h3>"
      ],
      "text/plain": [
       "<IPython.core.display.HTML object>"
      ]
     },
     "metadata": {},
     "output_type": "display_data"
    },
    {
     "data": {
      "text/html": [
       "<ol><li>Spoon approximately 1/3 of whipping cream into bottom of glass serving bowl.</li><li>Next, a layer of 1 cup fruit cocktail, a layer of banana, a layer of 1 cup  puried strawberries, and finally half of the sponge cubes.</li><li>Pour 1 cup of Sherry over cake cubes.</li><li>Put 1/3 whipping cream on top, and repeat with alternate layers  of fruit cocktail, banana, strawberry, and cubes with Sherry.</li><li>Top with remaining whipped cream, and whole berries for garnish.</li><li>Sponge Cake:  beat egg yolks and lemon juice until pale, add 3/4 cup sugar and beat well.</li><li>In a separate bowl, beat egg whites, add salt, and 1/4 cup sugar beating until stiff.</li><li>Stir 1/4 of the whites into yolk mixture.  Spoon the rest carefully into yolk.</li><li>Sift flour on top, fold in melted butter until blended.</li><li>Preheat oven to 350 degrees F.</li><li>Pour batter into tube pan, bake 45 minutes (or until toothpick comes out clean).  Invert and cool.</li></ol>"
      ],
      "text/plain": [
       "<IPython.core.display.HTML object>"
      ]
     },
     "metadata": {},
     "output_type": "display_data"
    },
    {
     "data": {
      "text/html": [
       "<h2>Gado Gado: Indonesian Salad</h2>"
      ],
      "text/plain": [
       "<IPython.core.display.HTML object>"
      ]
     },
     "metadata": {},
     "output_type": "display_data"
    },
    {
     "data": {
      "text/html": [
       "<img src=\"https://img.sndimg.com/food/image/upload/w_555,h_416,c_fit,fl_progressive,q_95/v1/img/recipes/45/0/picO08cop.jpg\" width=\"400\"/>"
      ],
      "text/plain": [
       "<IPython.core.display.Image object>"
      ]
     },
     "metadata": {},
     "output_type": "display_data"
    },
    {
     "data": {
      "text/html": [
       "<h3>Ingredients:</h3>"
      ],
      "text/plain": [
       "<IPython.core.display.HTML object>"
      ]
     },
     "metadata": {},
     "output_type": "display_data"
    },
    {
     "data": {
      "text/html": [
       "<ul><li>water: 8</li><li>salt: 1</li><li>green cabbage: 4</li><li>Chinese cabbage: 3 1/2</li><li>bean sprouts: 3</li><li>green beans: 2</li><li>potatoes: 3</li><li>eggs: 1/2</li><li>English cucumber: 1 2/3</li></ul>"
      ],
      "text/plain": [
       "<IPython.core.display.HTML object>"
      ]
     },
     "metadata": {},
     "output_type": "display_data"
    },
    {
     "data": {
      "text/html": [
       "<h3>Instructions:</h3>"
      ],
      "text/plain": [
       "<IPython.core.display.HTML object>"
      ]
     },
     "metadata": {},
     "output_type": "display_data"
    },
    {
     "data": {
      "text/html": [
       "<ol><li>Bring the water to a boil; add salt, cabbage, bean sprouts, and green beans.</li><li>Boil vegetables for 5 minutes; drain.</li><li>Boil potatoes in a separate pot until tender then peel them.</li><li>Cut potatoes, eggs and cucumber into slices.</li><li>Heat peanut sauce on low heat.</li><li>Arrange the green vegetables on a very large platter.</li><li>Cover them with the sliced potatoes, eggs and cucumbers.</li><li>Pour the peanut sauce over the entire platter and serve.</li><li>Serving Ideas : Serve with white rice and a meat dish.</li><li>NOTES : The peanut sauce may be made by hand or bought.</li><li>We put the Gado Gado in a large casserole dish.</li></ol>"
      ],
      "text/plain": [
       "<IPython.core.display.HTML object>"
      ]
     },
     "metadata": {},
     "output_type": "display_data"
    },
    {
     "data": {
      "text/html": [
       "<h2>Pastitsio</h2>"
      ],
      "text/plain": [
       "<IPython.core.display.HTML object>"
      ]
     },
     "metadata": {},
     "output_type": "display_data"
    },
    {
     "data": {
      "text/html": [
       "<h3>Ingredients:</h3>"
      ],
      "text/plain": [
       "<IPython.core.display.HTML object>"
      ]
     },
     "metadata": {},
     "output_type": "display_data"
    },
    {
     "data": {
      "text/html": [
       "<ul><li>butter: 1/2</li><li>nutmeg: 1/4</li><li>flour: 8</li><li>salt: 4</li><li>milk: 4 -6</li><li>white pepper: 8</li><li>macaroni: 1</li><li>butter: 1</li><li>salt: 1 1/2</li><li>onion: 1/4</li><li>pepper: 2</li><li>ground beef: 1/2</li><li>cinnamon: 3/4</li><li>tomato paste: 1 1/2</li><li>red wine: 1/2</li></ul>"
      ],
      "text/plain": [
       "<IPython.core.display.HTML object>"
      ]
     },
     "metadata": {},
     "output_type": "display_data"
    },
    {
     "data": {
      "text/html": [
       "<h3>Instructions:</h3>"
      ],
      "text/plain": [
       "<IPython.core.display.HTML object>"
      ]
     },
     "metadata": {},
     "output_type": "display_data"
    },
    {
     "data": {
      "text/html": [
       "<ol><li>Preheat oven to 350°F.</li><li>Melt 1 oz of butter in large skillet and saute onion til soft and transparent. Add the meat, cook until browned.</li><li>Mix tomato paste with wine and add to meat. Continue cooking, adding nutmeg, salt, pepper, and cinnamon.</li><li>Cook about 15 minutes, take off heat, cool and mix in half the breadcrumbs and half the grated cheese. Set aside. Do not allow meat to \\</li><li>, keep it separated.</li><li>Cook the macaroni in boiling water with oil til soft. Drain and set aside. Make crema: melt butter, add flour, cook briefly stirring constantly.</li><li>Gradually add milk stirring constantly until it starts to boil and thickens   slightly.</li><li>Add seasonings.</li><li>In a separate bowl, beat eggs.</li><li>Add about 1 cup of   the hot sauce to the eggs, stirring constantly.</li><li>Add the egg mixture back into   the saucepan, stirring constantly.</li><li>Stir in 1/4 cup cheese. To Assemble: Grease a baking dish (LIKE A LASAGNA PAN) and sprinkle it with breadcrumbs.</li><li>Spread half the cooked pasta over the bottom of the dish and sprinkle it with 1/4 cup reserved cheese. Spread all of the meat over the pasta.</li><li>Pour half the sauce over the meat and spread the rest of the pasta over it. Sprinkle it with 2 tablespoons of cheese.</li><li>Pour the rest of the sauce on top and smooth with a spatula.</li><li>Sprinkle with the rest of the cheese and breadcrumbs and bake in the preheated oven 50-60 minutes.</li><li>Let stand 10 minutes before cutting into squares.</li></ol>"
      ],
      "text/plain": [
       "<IPython.core.display.HTML object>"
      ]
     },
     "metadata": {},
     "output_type": "display_data"
    },
    {
     "data": {
      "text/html": [
       "<h2>Summer Corn and Tomato Pasta</h2>"
      ],
      "text/plain": [
       "<IPython.core.display.HTML object>"
      ]
     },
     "metadata": {},
     "output_type": "display_data"
    },
    {
     "data": {
      "text/html": [
       "<h3>Ingredients:</h3>"
      ],
      "text/plain": [
       "<IPython.core.display.HTML object>"
      ]
     },
     "metadata": {},
     "output_type": "display_data"
    },
    {
     "data": {
      "text/html": [
       "<ul><li>fresh corn kernels: 2</li><li>frozen corn kernels: 5</li><li>tomatoes: 1</li><li>black beans: 1/2</li><li>fresh coriander: 1</li><li>basil: 1</li><li>extra virgin olive oil: 1</li><li>garlic clove: 4</li><li>green onions: 1</li><li>salt: 1</li><li>pepper: 8</li><li>penne: 1</li></ul>"
      ],
      "text/plain": [
       "<IPython.core.display.HTML object>"
      ]
     },
     "metadata": {},
     "output_type": "display_data"
    },
    {
     "data": {
      "text/html": [
       "<h3>Instructions:</h3>"
      ],
      "text/plain": [
       "<IPython.core.display.HTML object>"
      ]
     },
     "metadata": {},
     "output_type": "display_data"
    },
    {
     "data": {
      "text/html": [
       "<ol><li>In large bowl, stir together corn, tomatoes, beans, coriander, olive oil, garlic, jalapeno, green onions, salt and pepper.</li><li>Let stand at room temperature for 15 minutes or for up to 2 hours.</li><li>In large pot of boiling water, cook pasta for 8 minutes or until tender but firm; drain and return to pot.</li><li>Add tomato mixture; stir over medium heat just until heated through.</li><li>Serve sprinkled with feta.</li><li>Make ahead:</li><li>To serve cold, rinse hot pasta  under cold water and add to tomato mixture; cover and refrigerate for up to 1  day.</li></ol>"
      ],
      "text/plain": [
       "<IPython.core.display.HTML object>"
      ]
     },
     "metadata": {},
     "output_type": "display_data"
    },
    {
     "data": {
      "text/html": [
       "<h2>Lentil Dal</h2>"
      ],
      "text/plain": [
       "<IPython.core.display.HTML object>"
      ]
     },
     "metadata": {},
     "output_type": "display_data"
    },
    {
     "data": {
      "text/html": [
       "<img src=\"https://img.sndimg.com/food/image/upload/w_555,h_416,c_fit,fl_progressive,q_95/v1/img/recipes/45/6/HxmFGfnR2Oa4xFPowyNB_IMG_20170410_134917.jpg\" width=\"400\"/>"
      ],
      "text/plain": [
       "<IPython.core.display.Image object>"
      ]
     },
     "metadata": {},
     "output_type": "display_data"
    },
    {
     "data": {
      "text/html": [
       "<h3>Ingredients:</h3>"
      ],
      "text/plain": [
       "<IPython.core.display.HTML object>"
      ]
     },
     "metadata": {},
     "output_type": "display_data"
    },
    {
     "data": {
      "text/html": [
       "<ul><li>olive oil: 1</li><li>onion: 1</li><li>fresh ginger: 1</li><li>cumin seed: 1</li><li>turmeric: 1</li><li>garlic cloves: 1/2</li><li>cauliflower florets: 4</li><li>tomatoes: 2</li><li>water: 2</li><li>dried lentils: 2 1/2</li><li>fresh lime juice: 1</li><li>fresh cilantro: 2</li><li>salt: 1</li><li>cooked basmati rice: 3/4</li><li>long grain rice: 6</li></ul>"
      ],
      "text/plain": [
       "<IPython.core.display.HTML object>"
      ]
     },
     "metadata": {},
     "output_type": "display_data"
    },
    {
     "data": {
      "text/html": [
       "<h3>Instructions:</h3>"
      ],
      "text/plain": [
       "<IPython.core.display.HTML object>"
      ]
     },
     "metadata": {},
     "output_type": "display_data"
    },
    {
     "data": {
      "text/html": [
       "<ol><li>Heat olive oil in large saucepan over medium-high heat.</li><li>Add onion, ginger, cumin, turmeric, red peppers, and garlic.</li><li>Saute 2 minutes.</li><li>Add cauliflower and tomatoes; saute 1 minute.</li><li>Stir in water and lentils; bring to a boil.</li><li>Cover, reduce heat, and simmer 35 minutes or until lentils are tender.</li><li>Stir in lime  juice, cilantro, and salt.</li><li>Serve 1 cup lentil mixture with 1 cup rice.</li></ol>"
      ],
      "text/plain": [
       "<IPython.core.display.HTML object>"
      ]
     },
     "metadata": {},
     "output_type": "display_data"
    },
    {
     "data": {
      "text/html": [
       "<h2>Basic Crepes II</h2>"
      ],
      "text/plain": [
       "<IPython.core.display.HTML object>"
      ]
     },
     "metadata": {},
     "output_type": "display_data"
    },
    {
     "data": {
      "text/html": [
       "<img src=\"https://img.sndimg.com/food/image/upload/w_555,h_416,c_fit,fl_progressive,q_95/v1/img/recipes/45/8/picSkQTnf.jpg\" width=\"400\"/>"
      ],
      "text/plain": [
       "<IPython.core.display.Image object>"
      ]
     },
     "metadata": {},
     "output_type": "display_data"
    },
    {
     "data": {
      "text/html": [
       "<h3>Ingredients:</h3>"
      ],
      "text/plain": [
       "<IPython.core.display.HTML object>"
      ]
     },
     "metadata": {},
     "output_type": "display_data"
    },
    {
     "data": {
      "text/html": [
       "<ul><li>eggs: 2</li><li>flour: 1</li><li>milk: 1 1/4</li><li>butter: 2</li><li>salt: 1/8</li></ul>"
      ],
      "text/plain": [
       "<IPython.core.display.HTML object>"
      ]
     },
     "metadata": {},
     "output_type": "display_data"
    },
    {
     "data": {
      "text/html": [
       "<h3>Instructions:</h3>"
      ],
      "text/plain": [
       "<IPython.core.display.HTML object>"
      ]
     },
     "metadata": {},
     "output_type": "display_data"
    },
    {
     "data": {
      "text/html": [
       "<ol><li>Combine all ingredients in a blender.</li><li>Whirl one minute; scrape down and blend 15 seconds more.</li><li>Refrigerate at least one hour before making crepes.</li><li>Heat a lightly greased 6 inch skillet; remove from heat.</li><li>Spoon in 2 Tbsp batter; lift and tilt skillet to spread evenly.</li><li>Return to heat; brown on one side only.</li><li>To remove, invert pan over paper toweling.</li><li>Repeat with remaining batter.</li></ol>"
      ],
      "text/plain": [
       "<IPython.core.display.HTML object>"
      ]
     },
     "metadata": {},
     "output_type": "display_data"
    },
    {
     "data": {
      "text/html": [
       "<h2>Basic Crepes</h2>"
      ],
      "text/plain": [
       "<IPython.core.display.HTML object>"
      ]
     },
     "metadata": {},
     "output_type": "display_data"
    },
    {
     "data": {
      "text/html": [
       "<h3>Ingredients:</h3>"
      ],
      "text/plain": [
       "<IPython.core.display.HTML object>"
      ]
     },
     "metadata": {},
     "output_type": "display_data"
    },
    {
     "data": {
      "text/html": [
       "<ul><li>flour: 1 1/4</li><li>eggs: 3</li><li>butter: 2</li><li>milk: 1 1/2</li><li>salt: 1</li></ul>"
      ],
      "text/plain": [
       "<IPython.core.display.HTML object>"
      ]
     },
     "metadata": {},
     "output_type": "display_data"
    },
    {
     "data": {
      "text/html": [
       "<h3>Instructions:</h3>"
      ],
      "text/plain": [
       "<IPython.core.display.HTML object>"
      ]
     },
     "metadata": {},
     "output_type": "display_data"
    },
    {
     "data": {
      "text/html": [
       "<ol><li>Place all ingredients in blender container.</li><li>Blend.</li><li>Let stand at least one hour before  making crepes.</li><li>Heat a lightly greased 6 inch skillet; remove from heat.</li><li>Spoon in 2 Tbsp batter; lift and tilt skillet to spread evenly.</li><li>Return to heat; brown on one side only.</li><li>To remove, invert pan over paper toweling.</li><li>Repeat with remaining batter.</li></ol>"
      ],
      "text/plain": [
       "<IPython.core.display.HTML object>"
      ]
     },
     "metadata": {},
     "output_type": "display_data"
    },
    {
     "data": {
      "text/html": [
       "<h2>Couscous Cakes With Tomato-Garlic Ragout</h2>"
      ],
      "text/plain": [
       "<IPython.core.display.HTML object>"
      ]
     },
     "metadata": {},
     "output_type": "display_data"
    },
    {
     "data": {
      "text/html": [
       "<h3>Ingredients:</h3>"
      ],
      "text/plain": [
       "<IPython.core.display.HTML object>"
      ]
     },
     "metadata": {},
     "output_type": "display_data"
    },
    {
     "data": {
      "text/html": [
       "<ul><li>water: 3</li><li>salt: 1</li><li>black pepper: 1 2/3</li><li>couscous: 3</li><li>eggs: 1/2</li><li>unbleached white flour: 1/2</li><li>parsley: 1/4</li><li>blue cheese: 1</li><li>olive oil: 1</li><li>onion: 3 -4</li><li>garlic cloves: 10</li><li>plum tomatoes: 1/2</li><li>white wine: 1/4</li><li>water: 1</li></ul>"
      ],
      "text/plain": [
       "<IPython.core.display.HTML object>"
      ]
     },
     "metadata": {},
     "output_type": "display_data"
    },
    {
     "data": {
      "text/html": [
       "<h3>Instructions:</h3>"
      ],
      "text/plain": [
       "<IPython.core.display.HTML object>"
      ]
     },
     "metadata": {},
     "output_type": "display_data"
    },
    {
     "data": {
      "text/html": [
       "<ol><li>Put the water into a saucepan over high heat.</li><li>When the water comes to a boil, add the salt, pepper, and couscous.</li><li>Remove the pan from the heat, cover it, and  let it sit undisturbed for 5 minutes.</li><li>Fluff the couscous by lightly running a  fork or whisk back and forth in the pan, starting with the top layer and  gradually working your way down.</li><li>In a large bowl, whisk the eggs; slowly whisk in the flour.</li><li>With a spoon, stir in the parsley and the blue cheese.</li><li>Add the couscous and chill the batter for 30 minutes.</li><li>SAUCE:</li><li>In a medium saucepan, heat 1 Tbsp olive oil; add the onion.</li><li>Sauté over medium heat for 5 minutes, stirring occasionally.</li><li>Add the garlic and sauté for 5 minutes more.</li><li>Add the tomatoes, white wine, and water.</li><li>Let the ragout simmer for 10 to 15 minutes, until it has the consistency of a thick sauce.</li><li>Season it with salt and pepper and keep it warm.</li><li>When the couscous mixture has cooled, heat a large skillet with 1 Tbsp olive oil over medium-high heat.</li><li>When the oil is hot, drop couscous batter onto the  skillet to form 3-inch cakes.</li><li>Sear them on one side for about 3 minutes, or  until the undersides are golden brown.</li><li>Flip them with a spatula and sear them on the other side, for about 3 minutes.</li><li>Remove the cakes to a plate and add more batter to the pan.</li><li>Continue making cakes until all the couscous batter is used.</li><li>You should have 3 cakes per person.</li><li>Serve the cakes hot on top of the warmed tomato-garlic ragout.</li></ol>"
      ],
      "text/plain": [
       "<IPython.core.display.HTML object>"
      ]
     },
     "metadata": {},
     "output_type": "display_data"
    },
    {
     "data": {
      "text/html": [
       "<h2>Galaktoboureko - Greek Custard Pastry</h2>"
      ],
      "text/plain": [
       "<IPython.core.display.HTML object>"
      ]
     },
     "metadata": {},
     "output_type": "display_data"
    },
    {
     "data": {
      "text/html": [
       "<h3>Ingredients:</h3>"
      ],
      "text/plain": [
       "<IPython.core.display.HTML object>"
      ]
     },
     "metadata": {},
     "output_type": "display_data"
    },
    {
     "data": {
      "text/html": [
       "<ul><li>phyllo dough: 1</li><li>milk: 2</li><li>sugar: 6</li><li>fine semolina: 6</li><li>butter: 1/2</li><li>vanilla extract: 1</li><li>salt: 1</li><li>eggs: 6</li><li>sugar: 12</li><li>water: 1 1/2</li><li>lemon juice: 1</li></ul>"
      ],
      "text/plain": [
       "<IPython.core.display.HTML object>"
      ]
     },
     "metadata": {},
     "output_type": "display_data"
    },
    {
     "data": {
      "text/html": [
       "<h3>Instructions:</h3>"
      ],
      "text/plain": [
       "<IPython.core.display.HTML object>"
      ]
     },
     "metadata": {},
     "output_type": "display_data"
    },
    {
     "data": {
      "text/html": [
       "<ol><li>In a saucepan over medium heat add milk, sugar, semolina, 2 ounces  butter, vanilla, salt and a sliver of lemon peel.</li><li>Bring to a boil, whisking  constantly, until mixture thickens remove from heat and allow to cool  slightly.</li><li>Beat eggs in a separate bowl then stir into milk mixture. Set  aside. Preheat oven to 350 degrees.</li><li>Line a 9 X 13 buttered baking pan with half the sheets of phyllo,  brushing each sheet with the melted butter and allowing the edges to overlap  the sides.</li><li>Spread custard evenly over phyllo.</li><li>Cover with remaining sheets of  phyllo, brushing each sheet with the melted butter.</li><li>Trim the edges and fold  in carefully to seal the filling.</li><li>Brush the top with melted butter and seal  edges with a bit of cold water.</li><li>Bake 45 minutes or until golden.</li><li>Meanwhile make the syrup;  In a small saucepan combine the sugar, water, lemon juice and sliver of  lemon peel and boil for 10 minutes.</li><li>When Galaktoboureko is done and still hot from the oven, spoon syrup over  a little at a time until absorbed by the pastry.</li><li>Cool completely, cut into  diamond shape and serve.</li><li>NOTES : This is best made the day before it is needed.  It gives the  pastry time to absorb the syrup and the filling to become firm.</li></ol>"
      ],
      "text/plain": [
       "<IPython.core.display.HTML object>"
      ]
     },
     "metadata": {},
     "output_type": "display_data"
    },
    {
     "data": {
      "text/html": [
       "<h2>Spanakopita</h2>"
      ],
      "text/plain": [
       "<IPython.core.display.HTML object>"
      ]
     },
     "metadata": {},
     "output_type": "display_data"
    },
    {
     "data": {
      "text/html": [
       "<h3>Ingredients:</h3>"
      ],
      "text/plain": [
       "<IPython.core.display.HTML object>"
      ]
     },
     "metadata": {},
     "output_type": "display_data"
    },
    {
     "data": {
      "text/html": [
       "<ul><li>spinach: 3</li><li>salt: 1</li><li>butter: 1</li><li>onion: 1/2</li><li>scallion: 1/2</li><li>dill: 1/2</li><li>parsley: 1/2</li><li>evaporated milk: 5</li><li>eggs: 3/4</li><li>phyllo pastry: 1/2</li></ul>"
      ],
      "text/plain": [
       "<IPython.core.display.HTML object>"
      ]
     },
     "metadata": {},
     "output_type": "display_data"
    },
    {
     "data": {
      "text/html": [
       "<h3>Instructions:</h3>"
      ],
      "text/plain": [
       "<IPython.core.display.HTML object>"
      ]
     },
     "metadata": {},
     "output_type": "display_data"
    },
    {
     "data": {
      "text/html": [
       "<ol><li>Wash spinach in plenty of water and cut in small pieces; place in bowl.</li><li>Salt lightly; stir to spread salt evenly.</li><li>Take spinach, a handful at a time; squeeze out the excess water; place it in another bowl.</li><li>Saute the onion  in half the butter until it is a light, golden color.</li><li>Add the scallions and cook until they wilt.</li><li>Add spinach; stir until all vegetables take on a light  color.</li><li>Stir in the dill, parsley, salt and pepper.</li><li>Cover the pot and cook until all the water from the spinach is absorbed.</li><li>Remove from the  heat; turn into a bowl, and immediately add the evaporated milk (to cool the spinach).</li><li>Beat the eggs in another bowl and add the cheese to them; add to the cooled spinach; mix well.</li><li>Line a pan with 8 sheets of phyllo dough, brushing each sheet with the  melted butter before topping it with the next sheet. Do not trim the  overhanging sections.</li><li>Pour in the spinach mixture, spreading it evenly over the phyllo.</li><li>Fold the part of the phyllo that extends out of the back of the pan over the filling.</li><li>Lay the remaining phyllo on top, again brushing each sheet with melted butter before adding the next. Trim the overlap.</li><li>Brush additional melted butter on top of the pie.</li><li>Score it into square or diamond-shaped serving pieces.</li><li>Bake for 30 to 45 minutes in a preheated 300 degree Fahrenheit oven.</li><li>Let stand for 30 minutes before serving.</li><li>NOTE: This can also be made without precooking the spinach. In that case, squeeze the spinach free of as much water as possible, mix it with the seasonings, and proceed as above, baking it for 1 hour.</li></ol>"
      ],
      "text/plain": [
       "<IPython.core.display.HTML object>"
      ]
     },
     "metadata": {},
     "output_type": "display_data"
    },
    {
     "data": {
      "text/html": [
       "<h2>Seared Salmon with Horseradish Tomato Vinaigrette</h2>"
      ],
      "text/plain": [
       "<IPython.core.display.HTML object>"
      ]
     },
     "metadata": {},
     "output_type": "display_data"
    },
    {
     "data": {
      "text/html": [
       "<h3>Ingredients:</h3>"
      ],
      "text/plain": [
       "<IPython.core.display.HTML object>"
      ]
     },
     "metadata": {},
     "output_type": "display_data"
    },
    {
     "data": {
      "text/html": [
       "<ul><li>salmon fillets: 6</li><li>canola oil: 6</li><li>butter: 2</li><li>rosemary: 2</li><li>tarragon: 1</li><li>thyme: 3</li><li>salt: 3</li><li>black pepper: 1/2</li><li>white wine: 1/4</li><li>honey: 1/2</li><li>roma tomatoes: 1 1/2</li><li>tomato paste: 1 1/2</li><li>Dijon mustard: 2</li><li>black peppercorns: 3</li><li>tarragon: 1</li><li>extra virgin olive oil: 1</li></ul>"
      ],
      "text/plain": [
       "<IPython.core.display.HTML object>"
      ]
     },
     "metadata": {},
     "output_type": "display_data"
    },
    {
     "data": {
      "text/html": [
       "<h3>Instructions:</h3>"
      ],
      "text/plain": [
       "<IPython.core.display.HTML object>"
      ]
     },
     "metadata": {},
     "output_type": "display_data"
    },
    {
     "data": {
      "text/html": [
       "<ol><li>Season the salmon fillets with salt and pepper.</li><li>Heat oil in a saute pan.</li><li>Sear   salmon on both sides for 1 to 2 minutes until golden brown.</li><li>Fish should still be raw in the center.</li><li>Combine the horseradish, bread crumbs, butter, rosemary,  tarragon, thyme. salt and pepper.</li><li>Add the white wine and mix to paste.  Spread  the top of the salmon with equal amounts of the bread crumbs.</li><li>Place fillets on  an oiled sheet tray.</li><li>Place tray in a preheated 375-degree oven.</li><li>Bake for 5 to  7 minutes until the fish is cooked through and the crust is golden brown.</li><li>Serve with horseradish-tomato vinaigrette. (HORSERADISH-TOMATO VINAIGRETTE): Combine horseradish, honey, vinegar, tomatoes, tomato paste,  Dijon mustard, black peppercorns and tarragon in a blender.</li><li>Blend until smooth.</li><li>While blender is running add oil in a thin steady stream  until well mixed and thick.</li><li>Cover and leave at room temperature.  Makes 9 oz.</li></ol>"
      ],
      "text/plain": [
       "<IPython.core.display.HTML object>"
      ]
     },
     "metadata": {},
     "output_type": "display_data"
    },
    {
     "data": {
      "text/html": [
       "<h2>Apricot Chicken With Pasta</h2>"
      ],
      "text/plain": [
       "<IPython.core.display.HTML object>"
      ]
     },
     "metadata": {},
     "output_type": "display_data"
    },
    {
     "data": {
      "text/html": [
       "<h3>Ingredients:</h3>"
      ],
      "text/plain": [
       "<IPython.core.display.HTML object>"
      ]
     },
     "metadata": {},
     "output_type": "display_data"
    },
    {
     "data": {
      "text/html": [
       "<ul><li>onion: 1</li><li>garlic cloves: 2</li><li>chicken breasts: 1</li><li>apricots: 2</li><li>malt vinegar: 1</li><li>ginger: 2</li><li>cayenne pepper: 1</li><li>salt: 1</li><li>black pepper: 400</li></ul>"
      ],
      "text/plain": [
       "<IPython.core.display.HTML object>"
      ]
     },
     "metadata": {},
     "output_type": "display_data"
    },
    {
     "data": {
      "text/html": [
       "<h3>Instructions:</h3>"
      ],
      "text/plain": [
       "<IPython.core.display.HTML object>"
      ]
     },
     "metadata": {},
     "output_type": "display_data"
    },
    {
     "data": {
      "text/html": [
       "<ol><li>Peel onion and chop finely.</li><li>Crush, peel and chop garlic.</li><li>Heat oil in a saucepan and saute onion and garlic for 5 minutes  or until onion is transparent.</li><li>Cut chicken breasts into thin strips.</li><li>Add chicken strips to pan and stir fry 2 or 3 minutes, or until chicken is cooked.</li><li>Drain apricots, leaving about 2 Tbsp of the juice.</li><li>Puree apricots in a food processor or blender.</li><li>Add malt vinegar, ginger, cayenne pepper,  salt and pepper.</li><li>Mix to combine; pour into the saucepan.</li><li>Bring mixture to the boil.</li><li>Cook fettucine in boiling salted water for 8 to 10 minutes, or until  tender.</li><li>Drain.</li><li>Serve chicken over pasta.</li></ol>"
      ],
      "text/plain": [
       "<IPython.core.display.HTML object>"
      ]
     },
     "metadata": {},
     "output_type": "display_data"
    },
    {
     "data": {
      "text/html": [
       "<h2>Amazing Nasi Goreng</h2>"
      ],
      "text/plain": [
       "<IPython.core.display.HTML object>"
      ]
     },
     "metadata": {},
     "output_type": "display_data"
    },
    {
     "data": {
      "text/html": [
       "<h3>Ingredients:</h3>"
      ],
      "text/plain": [
       "<IPython.core.display.HTML object>"
      ]
     },
     "metadata": {},
     "output_type": "display_data"
    },
    {
     "data": {
      "text/html": [
       "<ul><li>long grain rice: 1 1/4</li><li>smoked bacon: 3</li><li>chicken: 6</li><li>onion: 1 1/2</li><li>garlic cloves: 1</li><li>carrot: 2</li><li>cabbage: 1</li><li>water: 2</li><li>leek: 4</li><li>trassi oedang: 1</li><li>ketjap manis: 1</li><li>cumin: 1</li><li>curcumae: 1/4</li><li>sambal oelek: 1/4</li><li>salt: 1/4</li></ul>"
      ],
      "text/plain": [
       "<IPython.core.display.HTML object>"
      ]
     },
     "metadata": {},
     "output_type": "display_data"
    },
    {
     "data": {
      "text/html": [
       "<h3>Instructions:</h3>"
      ],
      "text/plain": [
       "<IPython.core.display.HTML object>"
      ]
     },
     "metadata": {},
     "output_type": "display_data"
    },
    {
     "data": {
      "text/html": [
       "<ol><li>Boil the rice according to the instructions on the package. Make sure that  the rice is fluffy.</li><li>In a wok or large skillet, heat the vegetable oil and fry the smoked bacon and pork or chicken until done.</li><li>Add the onion and garlic.</li><li>Turn the heat to medium and simmer for about 5 minutes.</li><li>Meanwhile, in a separate large saucepan, bring the carrot and cabbage to a  boil in about 4 cups of water. Boil for 3 minutes; drain.</li><li>Add the leek and trassi oedang to the meat mixture; simmer for 3 minutes.</li><li>Add the cooked cabbage and carrot mixture.</li><li>Keep the entire mixture on low heat and stir in the beaten eggs until they are well incorporated.</li><li>Add the ketjap manis, cumin, curcumae, coriander, and sambal oelek if  using.</li><li>Stir well and add the fluffy white rice.</li><li>Mix well and serve warm.</li><li>Serving Ideas:</li><li>May serve with sate (peanut sauce) on the side.</li><li>NOTES : Trassi is a shrimp paste found in Asian grocery stores. If you do  not have any, you can either use peeled shrimp mixed in with the other  meat, or leave it out all together.</li><li>Ketjap manis is a sweet soy sauce. Use regular soy sauce if you can't find this type, but you are missing  something wonderful! We don't use the cabbage in our nasi.</li><li>Instead of  the spices listed above, we usually just buy a Nasi goreng spice mixture at a Dutch store, or Chinese market. It is easy and very good.</li><li>I don't  know what curcumae is so I guess we don't put it in our nasi!</li></ol>"
      ],
      "text/plain": [
       "<IPython.core.display.HTML object>"
      ]
     },
     "metadata": {},
     "output_type": "display_data"
    },
    {
     "data": {
      "text/html": [
       "<h2>Mississippi Mud Cake</h2>"
      ],
      "text/plain": [
       "<IPython.core.display.HTML object>"
      ]
     },
     "metadata": {},
     "output_type": "display_data"
    },
    {
     "data": {
      "text/html": [
       "<h3>Ingredients:</h3>"
      ],
      "text/plain": [
       "<IPython.core.display.HTML object>"
      ]
     },
     "metadata": {},
     "output_type": "display_data"
    },
    {
     "data": {
      "text/html": [
       "<ul><li>butter: 1</li><li>sugar: 1/2</li><li>eggs: 2</li><li>flour: 4</li><li>salt: 1 1/2</li><li>vanilla: 1</li><li>marshmallows: 1 1/2</li></ul>"
      ],
      "text/plain": [
       "<IPython.core.display.HTML object>"
      ]
     },
     "metadata": {},
     "output_type": "display_data"
    },
    {
     "data": {
      "text/html": [
       "<h3>Instructions:</h3>"
      ],
      "text/plain": [
       "<IPython.core.display.HTML object>"
      ]
     },
     "metadata": {},
     "output_type": "display_data"
    },
    {
     "data": {
      "text/html": [
       "<ol><li>Melt butter and cocoa together.</li><li>Stir in sugar and beaten eggs .</li><li>Mix well.</li><li>Add flour, salt chopped nuts and vanilla;  mix well.</li><li>Spoon batter into a greased 13x9x2 inch pan.</li><li>Bake at 350 degrees Fahrenheit for 35 to 45 minutes.</li><li>Sprinkle marshmallows on top of warm cake.</li><li>Cover with chocolate frosting (your favorite).</li></ol>"
      ],
      "text/plain": [
       "<IPython.core.display.HTML object>"
      ]
     },
     "metadata": {},
     "output_type": "display_data"
    },
    {
     "data": {
      "text/html": [
       "<h2>Curried Beef and Chicken Satay</h2>"
      ],
      "text/plain": [
       "<IPython.core.display.HTML object>"
      ]
     },
     "metadata": {},
     "output_type": "display_data"
    },
    {
     "data": {
      "text/html": [
       "<h3>Ingredients:</h3>"
      ],
      "text/plain": [
       "<IPython.core.display.HTML object>"
      ]
     },
     "metadata": {},
     "output_type": "display_data"
    },
    {
     "data": {
      "text/html": [
       "<ul><li>beef: 1</li><li>chicken: 1</li><li>curry powder: 3</li><li>chile: 1/2</li><li>garlic cloves: 2</li><li>onions: 2</li><li>lemon juice: 4</li><li>honey: 1</li><li>peanut butter: 1</li><li>coconut milk: 1</li><li>coconut cream: 1</li><li>lemon juice: 1</li><li>soy sauce: 1/4</li><li>Worcestershire sauce: 1</li><li>chili sauce: 1/2</li><li>salt: 1/4</li></ul>"
      ],
      "text/plain": [
       "<IPython.core.display.HTML object>"
      ]
     },
     "metadata": {},
     "output_type": "display_data"
    },
    {
     "data": {
      "text/html": [
       "<h3>Instructions:</h3>"
      ],
      "text/plain": [
       "<IPython.core.display.HTML object>"
      ]
     },
     "metadata": {},
     "output_type": "display_data"
    },
    {
     "data": {
      "text/html": [
       "<ol><li>Slice the meat into thin strips, no more than 1/4\\</li><li>wide for  both the beef and chicken.</li><li>Combine the curry powder, chilies, garlic, onions,  salt, lemon juice, and honey in a large bowl.</li><li>Add the meat strips and toss well  to marinate for about fifteen minutes.</li><li>Thread meat strips onto bamboo skewers,  3 or 4 pieces per skewer.</li><li>Arrange the finished skewers in a glass casserole;  cover with the remaining marinade, and refrigerate while making the sauce.  Brown under a broiler or grill the meat skewers.</li><li>Serve with a peanut butter  sauce for dipping (see below). Sauce: Blend all ingredients together well to  make a smooth sauce. Keep refrigerated until needed, but warm before serving.</li></ol>"
      ],
      "text/plain": [
       "<IPython.core.display.HTML object>"
      ]
     },
     "metadata": {},
     "output_type": "display_data"
    },
    {
     "data": {
      "text/html": [
       "<h2>Baked Alaska Salmon Fillet With Mustard Sauce</h2>"
      ],
      "text/plain": [
       "<IPython.core.display.HTML object>"
      ]
     },
     "metadata": {},
     "output_type": "display_data"
    },
    {
     "data": {
      "text/html": [
       "<h3>Ingredients:</h3>"
      ],
      "text/plain": [
       "<IPython.core.display.HTML object>"
      ]
     },
     "metadata": {},
     "output_type": "display_data"
    },
    {
     "data": {
      "text/html": [
       "<ul><li>salmon fillets: 6</li><li>lemon: 1 1/2</li><li>butter: 1 1/2</li><li>shallot: 1</li><li>dry white wine: 1</li><li>heavy cream: 6</li><li>stone ground mustard: 1/2</li><li>chives: 3/4</li><li>parsley: 1/8</li><li>salt: 1/8</li></ul>"
      ],
      "text/plain": [
       "<IPython.core.display.HTML object>"
      ]
     },
     "metadata": {},
     "output_type": "display_data"
    },
    {
     "data": {
      "text/html": [
       "<h3>Instructions:</h3>"
      ],
      "text/plain": [
       "<IPython.core.display.HTML object>"
      ]
     },
     "metadata": {},
     "output_type": "display_data"
    },
    {
     "data": {
      "text/html": [
       "<ol><li>Arrange salmon fillets in baking pan, drizzle with combined butter and oil.</li><li>Top with lemon slices.</li><li>Bake in 400 degree Fahrenheit oven 15 minutes or until flesh is no longer translucent.</li><li>Mustard Sauce:</li><li>Lightly saute shallots in butter; add wine and reduce until nearly evaporated.</li><li>Add cream; cook and stir until thickened.</li><li>Add mustard, chives, and parsley.</li><li>Season to  taste with salt.</li><li>To Serve:</li><li>Ladle serving of sauce on serving plate; arrange lemon topped salmon on sauce.</li><li>Garnish with pear tomatoes and parsley sprigs.</li></ol>"
      ],
      "text/plain": [
       "<IPython.core.display.HTML object>"
      ]
     },
     "metadata": {},
     "output_type": "display_data"
    },
    {
     "data": {
      "text/html": [
       "<h2>Greek Stuffed Meatloaf</h2>"
      ],
      "text/plain": [
       "<IPython.core.display.HTML object>"
      ]
     },
     "metadata": {},
     "output_type": "display_data"
    },
    {
     "data": {
      "text/html": [
       "<h3>Ingredients:</h3>"
      ],
      "text/plain": [
       "<IPython.core.display.HTML object>"
      ]
     },
     "metadata": {},
     "output_type": "display_data"
    },
    {
     "data": {
      "text/html": [
       "<ul><li>lamb: 1 1/2</li><li>hamburger: 1 1/2</li><li>eggs: 2</li><li>milk: 1/4</li><li>quick oats: 2</li><li>onion: 2</li><li>garlic cloves: 1</li><li>fresh parsley: 2 -3</li><li>salt: 1</li><li>cumin: 2</li><li>pepper: 1</li><li>fresh spinach: 1/8</li><li>frozen spinach: 2</li><li>egg: 1</li><li>feta cheese: 1 1/2</li><li>ketchup: 1/4</li><li>cinnamon: 1/2</li><li>parmesan cheese: 1</li><li>Tabasco sauce: 3</li></ul>"
      ],
      "text/plain": [
       "<IPython.core.display.HTML object>"
      ]
     },
     "metadata": {},
     "output_type": "display_data"
    },
    {
     "data": {
      "text/html": [
       "<h3>Instructions:</h3>"
      ],
      "text/plain": [
       "<IPython.core.display.HTML object>"
      ]
     },
     "metadata": {},
     "output_type": "display_data"
    },
    {
     "data": {
      "text/html": [
       "<ol><li>Preheat oven to 350 degrees Fahrenheit.</li><li>Mix lamb and hamburger together.</li><li>Combine with eggs, milk, and oats. Set aside.</li><li>Saute onion in oil over moderate-low or low heat for 20 to 30 minutes until translucent and golden. Estimate the cooking time for the onions and approximately 3 to 4 minutes before the end of the cooking, add the garlic.</li><li>Combine meat mixture with onions, garlic, parsley, salt, cumin, and pepper.</li><li>In  a 9\\</li><li>baking dish, shape 2/3 of meat mixture into a hollow shell.</li><li>Combine spinach, egg, and feta cheese from filling ingredient list. Pack this filling into the hollow cavity of the meat loaf.</li><li>Sprinkle with chopped olives.</li><li>Cover filling with remaining meat mixture.</li><li>Combine ketchup, cinnamon, parmesan cheese and Tabasco sauce if using for the topping; spread over meatloaf.</li><li>Bake for 70 to 80 minutes.</li></ol>"
      ],
      "text/plain": [
       "<IPython.core.display.HTML object>"
      ]
     },
     "metadata": {},
     "output_type": "display_data"
    },
    {
     "data": {
      "text/html": [
       "<h2>Spicy Hash Browns - Homemade</h2>"
      ],
      "text/plain": [
       "<IPython.core.display.HTML object>"
      ]
     },
     "metadata": {},
     "output_type": "display_data"
    },
    {
     "data": {
      "text/html": [
       "<img src=\"https://img.sndimg.com/food/image/upload/w_555,h_416,c_fit,fl_progressive,q_95/v1/img/recipes/51/9/picrgZ5uF.jpg\" width=\"400\"/>"
      ],
      "text/plain": [
       "<IPython.core.display.Image object>"
      ]
     },
     "metadata": {},
     "output_type": "display_data"
    },
    {
     "data": {
      "text/html": [
       "<h3>Ingredients:</h3>"
      ],
      "text/plain": [
       "<IPython.core.display.HTML object>"
      ]
     },
     "metadata": {},
     "output_type": "display_data"
    },
    {
     "data": {
      "text/html": [
       "<ul><li>olive oil: 2</li><li>paprika: 1</li><li>chili powder: 3/4</li><li>salt: 1/2</li><li>black pepper: 1/4</li><li>baking potatoes: 1/8</li></ul>"
      ],
      "text/plain": [
       "<IPython.core.display.HTML object>"
      ]
     },
     "metadata": {},
     "output_type": "display_data"
    },
    {
     "data": {
      "text/html": [
       "<h3>Instructions:</h3>"
      ],
      "text/plain": [
       "<IPython.core.display.HTML object>"
      ]
     },
     "metadata": {},
     "output_type": "display_data"
    },
    {
     "data": {
      "text/html": [
       "<ol><li>Preheat oven to 400 degrees Fahrenheit.</li><li>Combine olive oil, paprika, chili powder, salt, red peppers, and black pepper in a large bowl; stir well.</li><li>Add diced potatoes and stir well to coat.</li><li>Place potatoes in a single layer on a cookie sheet coated with cooking spray.</li><li>Bake at 400 degrees Fahrenheit for 30 minutes or until browned.</li></ol>"
      ],
      "text/plain": [
       "<IPython.core.display.HTML object>"
      ]
     },
     "metadata": {},
     "output_type": "display_data"
    },
    {
     "data": {
      "text/html": [
       "<h2>Apple Pie Cake</h2>"
      ],
      "text/plain": [
       "<IPython.core.display.HTML object>"
      ]
     },
     "metadata": {},
     "output_type": "display_data"
    },
    {
     "data": {
      "text/html": [
       "<h3>Ingredients:</h3>"
      ],
      "text/plain": [
       "<IPython.core.display.HTML object>"
      ]
     },
     "metadata": {},
     "output_type": "display_data"
    },
    {
     "data": {
      "text/html": [
       "<ul><li>sugar: 1</li><li>egg: 1</li><li>salt: 1</li><li>butter: 1/2</li><li>flour: 1</li><li>baking powder: 1</li><li>cinnamon: 1</li><li>nutmeg: 1</li><li>vanilla: 1</li><li>baking apples: 2</li><li>pecans: 1/2</li><li>golden raisin: 1/2</li></ul>"
      ],
      "text/plain": [
       "<IPython.core.display.HTML object>"
      ]
     },
     "metadata": {},
     "output_type": "display_data"
    },
    {
     "data": {
      "text/html": [
       "<h3>Instructions:</h3>"
      ],
      "text/plain": [
       "<IPython.core.display.HTML object>"
      ]
     },
     "metadata": {},
     "output_type": "display_data"
    },
    {
     "data": {
      "text/html": [
       "<ol><li>Cream butter, sugar and the egg.</li><li>Mix together the flour, baking powder, cinnamon, salt,  nutmeg, vanilla, apples, pecans, and raisins.</li><li>Mix together well with the creamed mixture.</li><li>Pour the batter into a round pie dish and bake at 350 30 to 40 minutes or until the cake is done and a toothpick inserted near the center comes out clean, not doughy.</li></ol>"
      ],
      "text/plain": [
       "<IPython.core.display.HTML object>"
      ]
     },
     "metadata": {},
     "output_type": "display_data"
    },
    {
     "data": {
      "text/html": [
       "<h2>Grilled Lamb with Lima Bean Skordalia</h2>"
      ],
      "text/plain": [
       "<IPython.core.display.HTML object>"
      ]
     },
     "metadata": {},
     "output_type": "display_data"
    },
    {
     "data": {
      "text/html": [
       "<h3>Ingredients:</h3>"
      ],
      "text/plain": [
       "<IPython.core.display.HTML object>"
      ]
     },
     "metadata": {},
     "output_type": "display_data"
    },
    {
     "data": {
      "text/html": [
       "<ul><li>plain yogurt: 3/4</li><li>garlic: 4</li><li>fresh rosemary: 1</li><li>fresh lemon zest: 2</li><li>pepper: 2</li><li>leg of lamb: 1</li><li>frozen baby lima beans: 1</li><li>garlic: 1</li><li>olive oil: 3</li><li>fresh lemon juice: 3/4</li><li>fresh parsley: 2</li></ul>"
      ],
      "text/plain": [
       "<IPython.core.display.HTML object>"
      ]
     },
     "metadata": {},
     "output_type": "display_data"
    },
    {
     "data": {
      "text/html": [
       "<h3>Instructions:</h3>"
      ],
      "text/plain": [
       "<IPython.core.display.HTML object>"
      ]
     },
     "metadata": {},
     "output_type": "display_data"
    },
    {
     "data": {
      "text/html": [
       "<ol><li>FOR LAMB: Puree first 6 ingredients in blender or processor.</li><li>Score large  muscles of lamb to form even thickness.</li><li>Rub yogurt mixture over lamb.</li><li>Transfer to shallow dish.  Cover and chill overnight.</li><li>FOR SKORDALIA: Place beans in processor.</li><li>With machine running, add garlic through feed tube and chop.</li><li>Gradually add oil and puree, scraping down sides as needed.</li><li>Season to taste with lemon juice, salt and pepper.</li><li>Stir in parsley.</li><li>(Can be made 4 hours ahead.  Cover; let stand at room temperature.)</li><li>Prepare barbecue (medium-high heat) or preheat broiler.</li><li>Season lamb with salt and pepper.</li><li>Grill lamb about 10 minutes per side for medium-rare. Let stand 5 minutes.</li><li>Cut lamb against grain into thin slices.</li><li>Serve lamb with skordalia and bread.</li></ol>"
      ],
      "text/plain": [
       "<IPython.core.display.HTML object>"
      ]
     },
     "metadata": {},
     "output_type": "display_data"
    },
    {
     "data": {
      "text/html": [
       "<h2>Gingerbread Yule Log</h2>"
      ],
      "text/plain": [
       "<IPython.core.display.HTML object>"
      ]
     },
     "metadata": {},
     "output_type": "display_data"
    },
    {
     "data": {
      "text/html": [
       "<h3>Ingredients:</h3>"
      ],
      "text/plain": [
       "<IPython.core.display.HTML object>"
      ]
     },
     "metadata": {},
     "output_type": "display_data"
    },
    {
     "data": {
      "text/html": [
       "<ul><li>eggs: 3</li><li>molasses: 1/2</li><li>butter: 1</li><li>margarine: 1/4</li><li>sugar: 1</li><li>all-purpose flour: 3/4</li><li>baking powder: 3/4</li><li>baking soda: 1/2</li><li>cinnamon: 1/2</li><li>ginger: 1/2</li><li>clove: 1/8</li><li>salt: 1 1/2</li><li>confectioners' sugar: 1/3</li><li>cinnamon: 1</li><li>vanilla extract: 1</li><li>clove: 1/4</li></ul>"
      ],
      "text/plain": [
       "<IPython.core.display.HTML object>"
      ]
     },
     "metadata": {},
     "output_type": "display_data"
    },
    {
     "data": {
      "text/html": [
       "<h3>Instructions:</h3>"
      ],
      "text/plain": [
       "<IPython.core.display.HTML object>"
      ]
     },
     "metadata": {},
     "output_type": "display_data"
    },
    {
     "data": {
      "text/html": [
       "<ol><li>In a mixing bowl, beat yolks on high until thickened, about 3 minutes.</li><li>Beat in molasses and butter. In another bowl, beat whites until foamy;</li><li>gradually add sugar, beating until soft peaks form. Fold into yolk mixture.</li><li>Combine dry ingredients; gently fold into egg mixture until well mixed.</li><li>Line a greased 15x10x1 in. baking pan with waxed paper; grease and flour paper.</li><li>Spread batter into pan. Bake at 375'F for 9-12 minutes or until cake springs back when lightly touched.</li><li>Turn onto a linen towel dusted with confectioners' sugar.</li><li>Peel off paper and roll cake up in towel, starting with short end.</li><li>Cool on a wire rack</li><li>Meanwhile, beat the first five filling ingredients in a mixing bowl until soft peaks form.</li><li>Unroll cake; spread with half the filling. Roll up.</li><li>Spread remaining filling over cake.</li><li>Sprinkle with cinnamon if desired.</li></ol>"
      ],
      "text/plain": [
       "<IPython.core.display.HTML object>"
      ]
     },
     "metadata": {},
     "output_type": "display_data"
    },
    {
     "data": {
      "text/html": [
       "<h2>Greek Chicken and Cucumber Sauce</h2>"
      ],
      "text/plain": [
       "<IPython.core.display.HTML object>"
      ]
     },
     "metadata": {},
     "output_type": "display_data"
    },
    {
     "data": {
      "text/html": [
       "<h3>Ingredients:</h3>"
      ],
      "text/plain": [
       "<IPython.core.display.HTML object>"
      ]
     },
     "metadata": {},
     "output_type": "display_data"
    },
    {
     "data": {
      "text/html": [
       "<ul><li>lemon juice: 2</li><li>olive oil: 1</li><li>salt: 1/2</li><li>pepper: 1/2</li><li>oregano: 1/4</li><li>cumin: 1/4</li><li>garlic cloves: 2</li><li>boneless skinless chicken: 1</li><li>English cucumber: 1</li><li>salt: 1</li><li>skim milk yogurt: 1/2</li><li>light mayonnaise: 1/2</li><li>parsley: 2</li><li>of fresh mint: 2</li><li>garlic cloves: 2</li></ul>"
      ],
      "text/plain": [
       "<IPython.core.display.HTML object>"
      ]
     },
     "metadata": {},
     "output_type": "display_data"
    },
    {
     "data": {
      "text/html": [
       "<h3>Instructions:</h3>"
      ],
      "text/plain": [
       "<IPython.core.display.HTML object>"
      ]
     },
     "metadata": {},
     "output_type": "display_data"
    },
    {
     "data": {
      "text/html": [
       "<ol><li>Combine marinade ingredients and pour over chicken.</li><li>Marinate in the fridge for up to 24 hours.</li><li>Remove chicken from marinade and grill over medium heat for 5 -7 minutes per side.</li><li>Serve with rice, or oven roasted potatoes, and cucumber sauce.</li><li>Makes 4 servings.</li><li>Tip: The marinade can also be used on strips of chicken.</li><li>After marinating, thread the strips onto skewers and grill for 5 - 7 minutes per side.</li><li>CUCUMBER SAUCE:</li><li>In a strainer mix cucumber and salt and set aside for at least 15 minutes.</li><li>Squeeze excess liquid from cucumber.</li><li>Blend grated cucumber with remaining sauce ingredients and refrigerate until needed.</li><li>Serve with Greek Chicken.</li><li>Tip: If you don't have a strainer put cucumber and salt in a double layer of paper coffee filters.</li><li>Gently squeeze the excess liquid out of the mixture.</li></ol>"
      ],
      "text/plain": [
       "<IPython.core.display.HTML object>"
      ]
     },
     "metadata": {},
     "output_type": "display_data"
    },
    {
     "data": {
      "text/html": [
       "<h2>Greek Mushroom Salad</h2>"
      ],
      "text/plain": [
       "<IPython.core.display.HTML object>"
      ]
     },
     "metadata": {},
     "output_type": "display_data"
    },
    {
     "data": {
      "text/html": [
       "<img src=\"https://img.sndimg.com/food/image/upload/w_555,h_416,c_fit,fl_progressive,q_95/v1/img/recipes/54/4/picm6OUo3.jpg\" width=\"400\"/>"
      ],
      "text/plain": [
       "<IPython.core.display.Image object>"
      ]
     },
     "metadata": {},
     "output_type": "display_data"
    },
    {
     "data": {
      "text/html": [
       "<h3>Ingredients:</h3>"
      ],
      "text/plain": [
       "<IPython.core.display.HTML object>"
      ]
     },
     "metadata": {},
     "output_type": "display_data"
    },
    {
     "data": {
      "text/html": [
       "<ul><li>olive oil: 1</li><li>mushroom: 1/2</li><li>garlic cloves: 3</li><li>basil: 1</li><li>marjoram: 1</li><li>tomatoes: 3</li><li>lemon juice: 1/2</li><li>water: 1</li><li>salt: 1</li><li>fresh pepper: 1</li></ul>"
      ],
      "text/plain": [
       "<IPython.core.display.HTML object>"
      ]
     },
     "metadata": {},
     "output_type": "display_data"
    },
    {
     "data": {
      "text/html": [
       "<h3>Instructions:</h3>"
      ],
      "text/plain": [
       "<IPython.core.display.HTML object>"
      ]
     },
     "metadata": {},
     "output_type": "display_data"
    },
    {
     "data": {
      "text/html": [
       "<ol><li>Heat the oil on low in a frying pan, then gently fry the mushrooms for 2-3 minutes.</li><li>Do not overcook.</li><li>Sprinkle in garlic and basil, then toss the mixture for a minute or two so that mushrooms are well coated.</li><li>Add the tomato, lemon juice, water, salt, and pepper.</li><li>Stir together and cook until the tomato softens.</li><li>Remove from heat and let cool.</li><li>Garnish with chopped herbs.</li></ol>"
      ],
      "text/plain": [
       "<IPython.core.display.HTML object>"
      ]
     },
     "metadata": {},
     "output_type": "display_data"
    },
    {
     "data": {
      "text/html": [
       "<h2>Ginger Fried Chicken</h2>"
      ],
      "text/plain": [
       "<IPython.core.display.HTML object>"
      ]
     },
     "metadata": {},
     "output_type": "display_data"
    },
    {
     "data": {
      "text/html": [
       "<h3>Ingredients:</h3>"
      ],
      "text/plain": [
       "<IPython.core.display.HTML object>"
      ]
     },
     "metadata": {},
     "output_type": "display_data"
    },
    {
     "data": {
      "text/html": [
       "<ul><li>whole chickens: 2</li><li>garlic: 1/4</li><li>Japanese soy sauce: 2</li><li>salt: 4</li><li>pepper: 2</li><li>flour: 1</li><li>eggs: 8</li></ul>"
      ],
      "text/plain": [
       "<IPython.core.display.HTML object>"
      ]
     },
     "metadata": {},
     "output_type": "display_data"
    },
    {
     "data": {
      "text/html": [
       "<h3>Instructions:</h3>"
      ],
      "text/plain": [
       "<IPython.core.display.HTML object>"
      ]
     },
     "metadata": {},
     "output_type": "display_data"
    },
    {
     "data": {
      "text/html": [
       "<ol><li>Add ginger, garlic, soy sauce, salt, and pepper to chicken, mix well, and  marinate overnight. Add eggs to chicken.</li><li>Mix together well.</li><li>Add flour to coat. Mix well.</li><li>Fry until  golden, about 5 minutes.</li><li>Finish in oven, 350 degrees for 30-35 minutes.</li></ol>"
      ],
      "text/plain": [
       "<IPython.core.display.HTML object>"
      ]
     },
     "metadata": {},
     "output_type": "display_data"
    },
    {
     "data": {
      "text/html": [
       "<h2>Golden Baked Fish</h2>"
      ],
      "text/plain": [
       "<IPython.core.display.HTML object>"
      ]
     },
     "metadata": {},
     "output_type": "display_data"
    },
    {
     "data": {
      "text/html": [
       "<img src=\"https://img.sndimg.com/food/image/upload/w_555,h_416,c_fit,fl_progressive,q_95/v1/img/recipes/56/1/pic7DAqOf.jpg\" width=\"400\"/>"
      ],
      "text/plain": [
       "<IPython.core.display.Image object>"
      ]
     },
     "metadata": {},
     "output_type": "display_data"
    },
    {
     "data": {
      "text/html": [
       "<h3>Ingredients:</h3>"
      ],
      "text/plain": [
       "<IPython.core.display.HTML object>"
      ]
     },
     "metadata": {},
     "output_type": "display_data"
    },
    {
     "data": {
      "text/html": [
       "<ul><li>pepper: 2</li><li>salt: 1/8</li><li>mayonnaise: 1</li><li>dill weed: 1/2</li><li>onion: 1/4</li><li>fresh dill: 1/4</li><li>lemon wedge: 1/2</li></ul>"
      ],
      "text/plain": [
       "<IPython.core.display.HTML object>"
      ]
     },
     "metadata": {},
     "output_type": "display_data"
    },
    {
     "data": {
      "text/html": [
       "<h3>Instructions:</h3>"
      ],
      "text/plain": [
       "<IPython.core.display.HTML object>"
      ]
     },
     "metadata": {},
     "output_type": "display_data"
    },
    {
     "data": {
      "text/html": [
       "<ol><li>Place fish in a greased 13-in X 9-in x 2 baking dish; sprinkle with pepper.</li><li>Beat egg white with salt if desired until stiff peaks form.</li><li>Fold in mayonnaise, dill and onion juice, spoon over fish.</li><li>Bake uncovered at 425 degrees for 15 to 20 minutes or until topping is puffed and golden and fish flakes easily with a fork.</li><li>Garnish with dill and lemon if desired.</li></ol>"
      ],
      "text/plain": [
       "<IPython.core.display.HTML object>"
      ]
     },
     "metadata": {},
     "output_type": "display_data"
    },
    {
     "data": {
      "text/html": [
       "<h2>Greek Lentil & Olive Salad</h2>"
      ],
      "text/plain": [
       "<IPython.core.display.HTML object>"
      ]
     },
     "metadata": {},
     "output_type": "display_data"
    },
    {
     "data": {
      "text/html": [
       "<h3>Ingredients:</h3>"
      ],
      "text/plain": [
       "<IPython.core.display.HTML object>"
      ]
     },
     "metadata": {},
     "output_type": "display_data"
    },
    {
     "data": {
      "text/html": [
       "<ul><li>olive oil: 3</li><li>lemon juice: 2</li><li>anchovy paste: 1/2</li><li>pepper: 1/2</li><li>green lentils: 1</li><li>oil-cured black olive: 1/4</li><li>fresh oregano: 3</li></ul>"
      ],
      "text/plain": [
       "<IPython.core.display.HTML object>"
      ]
     },
     "metadata": {},
     "output_type": "display_data"
    },
    {
     "data": {
      "text/html": [
       "<h3>Instructions:</h3>"
      ],
      "text/plain": [
       "<IPython.core.display.HTML object>"
      ]
     },
     "metadata": {},
     "output_type": "display_data"
    },
    {
     "data": {
      "text/html": [
       "<ol><li>In large bowl, whisk together oil, lemon juice, anchovy paste and pepper.</li><li>Stir in lentils, olives and oregano.</li><li>Cover and let stand for 1 hour.</li><li>(Salad can be refrigerated in airtight container for up to 8 hours; let stand at room temperature for 30 minutes.) Makes 2 cups (500 mL).</li></ol>"
      ],
      "text/plain": [
       "<IPython.core.display.HTML object>"
      ]
     },
     "metadata": {},
     "output_type": "display_data"
    },
    {
     "data": {
      "text/html": [
       "<h2>Greek Salad Dressing</h2>"
      ],
      "text/plain": [
       "<IPython.core.display.HTML object>"
      ]
     },
     "metadata": {},
     "output_type": "display_data"
    },
    {
     "data": {
      "text/html": [
       "<img src=\"https://img.sndimg.com/food/image/upload/w_555,h_416,c_fit,fl_progressive,q_95/v1/img/recipes/56/6/picweTCoR.jpg\" width=\"400\"/>"
      ],
      "text/plain": [
       "<IPython.core.display.Image object>"
      ]
     },
     "metadata": {},
     "output_type": "display_data"
    },
    {
     "data": {
      "text/html": [
       "<h3>Ingredients:</h3>"
      ],
      "text/plain": [
       "<IPython.core.display.HTML object>"
      ]
     },
     "metadata": {},
     "output_type": "display_data"
    },
    {
     "data": {
      "text/html": [
       "<ul><li>minced garlic clove: 1</li><li>salt: 3/4</li><li>pepper: 1</li><li>olive oil: 1/2</li><li>red wine vinegar: 4</li></ul>"
      ],
      "text/plain": [
       "<IPython.core.display.HTML object>"
      ]
     },
     "metadata": {},
     "output_type": "display_data"
    },
    {
     "data": {
      "text/html": [
       "<h3>Instructions:</h3>"
      ],
      "text/plain": [
       "<IPython.core.display.HTML object>"
      ]
     },
     "metadata": {},
     "output_type": "display_data"
    },
    {
     "data": {
      "text/html": [
       "<ol><li>Place all ingredients in a jar, seal tightly and shake well.</li></ol>"
      ],
      "text/plain": [
       "<IPython.core.display.HTML object>"
      ]
     },
     "metadata": {},
     "output_type": "display_data"
    },
    {
     "data": {
      "text/html": [
       "<h2>Corn Fritters</h2>"
      ],
      "text/plain": [
       "<IPython.core.display.HTML object>"
      ]
     },
     "metadata": {},
     "output_type": "display_data"
    },
    {
     "data": {
      "text/html": [
       "<img src=\"https://img.sndimg.com/food/image/upload/w_555,h_416,c_fit,fl_progressive,q_95/v1/img/recipes/56/8/qOPo66bcT42sICG2GWP6_corn%20fritters.JPG\" width=\"400\"/>"
      ],
      "text/plain": [
       "<IPython.core.display.Image object>"
      ]
     },
     "metadata": {},
     "output_type": "display_data"
    },
    {
     "data": {
      "text/html": [
       "<h3>Ingredients:</h3>"
      ],
      "text/plain": [
       "<IPython.core.display.HTML object>"
      ]
     },
     "metadata": {},
     "output_type": "display_data"
    },
    {
     "data": {
      "text/html": [
       "<ul><li>flour: 1</li><li>baking powder: 1</li><li>salt: 1/2</li><li>egg: 1</li><li>milk: 1/4</li><li>butter: 1/2</li><li>corn: 1</li></ul>"
      ],
      "text/plain": [
       "<IPython.core.display.HTML object>"
      ]
     },
     "metadata": {},
     "output_type": "display_data"
    },
    {
     "data": {
      "text/html": [
       "<h3>Instructions:</h3>"
      ],
      "text/plain": [
       "<IPython.core.display.HTML object>"
      ]
     },
     "metadata": {},
     "output_type": "display_data"
    },
    {
     "data": {
      "text/html": [
       "<ol><li>Mix the dry ingredients, gradually adding the milk and well beaten egg.</li><li>Beat thoroughly and then add the melted butter and corn.</li><li>Drop by spoonfuls into hot deep fat and fry until well browned.</li><li>Drain on brown paper.</li></ol>"
      ],
      "text/plain": [
       "<IPython.core.display.HTML object>"
      ]
     },
     "metadata": {},
     "output_type": "display_data"
    },
    {
     "data": {
      "text/html": [
       "<h2>Fresh Crab Cocktail</h2>"
      ],
      "text/plain": [
       "<IPython.core.display.HTML object>"
      ]
     },
     "metadata": {},
     "output_type": "display_data"
    },
    {
     "data": {
      "text/html": [
       "<h3>Ingredients:</h3>"
      ],
      "text/plain": [
       "<IPython.core.display.HTML object>"
      ]
     },
     "metadata": {},
     "output_type": "display_data"
    },
    {
     "data": {
      "text/html": [
       "<ul><li>tomato sauce: 2</li><li>horseradish: 2</li><li>Burgundy wine: 2</li><li>lemon juice: 1</li><li>pepper: 1/4</li><li>salt: 1/2</li></ul>"
      ],
      "text/plain": [
       "<IPython.core.display.HTML object>"
      ]
     },
     "metadata": {},
     "output_type": "display_data"
    },
    {
     "data": {
      "text/html": [
       "<h3>Instructions:</h3>"
      ],
      "text/plain": [
       "<IPython.core.display.HTML object>"
      ]
     },
     "metadata": {},
     "output_type": "display_data"
    },
    {
     "data": {
      "text/html": [
       "<ol><li>Combine all ingredients by hand and chill thoroughly.</li><li>Crab Cocktail  2 whole fresh Dugeness crab, cleaned and cracked  Shredded fresh icebury lettuce  2 fresh lemons, quartered  Line a serving bowl with the shredded lettuce. Arrange a cracked  crab attractively on top of lettuce and garnish with lemon quarters.</li><li>Serve cocktail sauce in separate bowl.</li><li>Serves 4  a  list for those seeking a lost favorite or family recipe</li></ol>"
      ],
      "text/plain": [
       "<IPython.core.display.HTML object>"
      ]
     },
     "metadata": {},
     "output_type": "display_data"
    },
    {
     "data": {
      "text/html": [
       "<h2>Fried Green Tomatoes</h2>"
      ],
      "text/plain": [
       "<IPython.core.display.HTML object>"
      ]
     },
     "metadata": {},
     "output_type": "display_data"
    },
    {
     "data": {
      "text/html": [
       "<img src=\"https://img.sndimg.com/food/image/upload/w_555,h_416,c_fit,fl_progressive,q_95/v1/img/recipes/57/2/picBXHqfo.jpg\" width=\"400\"/>"
      ],
      "text/plain": [
       "<IPython.core.display.Image object>"
      ]
     },
     "metadata": {},
     "output_type": "display_data"
    },
    {
     "data": {
      "text/html": [
       "<h3>Ingredients:</h3>"
      ],
      "text/plain": [
       "<IPython.core.display.HTML object>"
      ]
     },
     "metadata": {},
     "output_type": "display_data"
    },
    {
     "data": {
      "text/html": [
       "<ul><li>green tomatoes: 6</li><li>sugar: 1</li><li>flour: 1/2</li><li>salt: 1/2</li><li>pepper: 1/4</li><li>butter: 1/4</li></ul>"
      ],
      "text/plain": [
       "<IPython.core.display.HTML object>"
      ]
     },
     "metadata": {},
     "output_type": "display_data"
    },
    {
     "data": {
      "text/html": [
       "<h3>Instructions:</h3>"
      ],
      "text/plain": [
       "<IPython.core.display.HTML object>"
      ]
     },
     "metadata": {},
     "output_type": "display_data"
    },
    {
     "data": {
      "text/html": [
       "<ol><li>Sprinkle sliced tomatoes with sugar, let stand about 15 minutes.</li><li>Combine flour, salt and pepper and coat tomato slices.</li><li>Melt 2 tbsp  butter in skillet.</li><li>Brown  tomatoes  slowly on both sides.</li><li>Remove each batch to oven proof platter and  keep in oven until all tomatoes are cooked.</li><li>Add more butter if needed.</li><li>For  crisp slices, serve as is.</li><li>Or add 1/2 cup light cream or dairy half and half to skillet. Heat, stirring into drippings, and pour over tomatoes.</li></ol>"
      ],
      "text/plain": [
       "<IPython.core.display.HTML object>"
      ]
     },
     "metadata": {},
     "output_type": "display_data"
    },
    {
     "data": {
      "text/html": [
       "<h2>Garam Masala</h2>"
      ],
      "text/plain": [
       "<IPython.core.display.HTML object>"
      ]
     },
     "metadata": {},
     "output_type": "display_data"
    },
    {
     "data": {
      "text/html": [
       "<h3>Ingredients:</h3>"
      ],
      "text/plain": [
       "<IPython.core.display.HTML object>"
      ]
     },
     "metadata": {},
     "output_type": "display_data"
    },
    {
     "data": {
      "text/html": [
       "<ul><li>cinnamon sticks: 5</li><li>whole cardamom pod: 1</li><li>whole cloves: 1/2</li><li>whole cumin seed: 1/2</li><li>whole coriander seed: 1/4</li><li>whole black peppercorn: 1/2</li></ul>"
      ],
      "text/plain": [
       "<IPython.core.display.HTML object>"
      ]
     },
     "metadata": {},
     "output_type": "display_data"
    },
    {
     "data": {
      "text/html": [
       "<h3>Instructions:</h3>"
      ],
      "text/plain": [
       "<IPython.core.display.HTML object>"
      ]
     },
     "metadata": {},
     "output_type": "display_data"
    },
    {
     "data": {
      "text/html": [
       "<ol><li>Preheat oven to 200.</li><li>Spread the cinnamon, cardamom, cloves, cumin, coriander  and peppercorns in one layer in a large shallow roasting pan.</li><li>Roast on the  bottom shelf of the oven for 30 minutes, stirring and turning the mixture 2 or 3 times with a large wooden spoon.</li><li>Do not let the spices brown.</li><li>Break open the cardamom pods between your fingers or place them one at time on a flat surface and press down on the pod with the ball of your thumb to snap it  open.</li><li>Pull the pod away from the seeds inside and discard it.  Set the seeds  aside.  Place the roasted cinamon sticks between the 2 layers of a folded linen  towel and pound them with a rolling pin or a kitchen mallet until they are  finely crushed.</li><li>Combine the cardamom seeds, crushed cinnamon, cloves, cumin seeds, coriander  seeds and peppercorns in a small pan or bowl and stir them together until they  are well mixed.</li><li>Grind the spices a cup or so at a time by pouring them into the jar of an electric blender and blending at high speed for 2 or 3 minutes, until  they are completely pulverized and become a smooth powder.</li><li>If the machine clogs and stops, turn it off, stir the spices once or twice, then continue blending.</li><li>As each cupful of the spices is grounded, transfer it to a jar or bottle with a  tightly fitting lid.</li><li>Garam Masala may be stored at room temperature in an airtight container, and  will retain its full flavor for 5 to 6 months.</li></ol>"
      ],
      "text/plain": [
       "<IPython.core.display.HTML object>"
      ]
     },
     "metadata": {},
     "output_type": "display_data"
    },
    {
     "data": {
      "text/html": [
       "<h2>Garlic Mushroom Sauce</h2>"
      ],
      "text/plain": [
       "<IPython.core.display.HTML object>"
      ]
     },
     "metadata": {},
     "output_type": "display_data"
    },
    {
     "data": {
      "text/html": [
       "<h3>Ingredients:</h3>"
      ],
      "text/plain": [
       "<IPython.core.display.HTML object>"
      ]
     },
     "metadata": {},
     "output_type": "display_data"
    },
    {
     "data": {
      "text/html": [
       "<ul><li>garlic: 3</li><li>button mushrooms: 250</li><li>butter: 25</li><li>red wine: 1</li><li>green peppercorn: 1</li><li>sour cream: 2</li><li>salt: 1 1/4</li></ul>"
      ],
      "text/plain": [
       "<IPython.core.display.HTML object>"
      ]
     },
     "metadata": {},
     "output_type": "display_data"
    },
    {
     "data": {
      "text/html": [
       "<h3>Instructions:</h3>"
      ],
      "text/plain": [
       "<IPython.core.display.HTML object>"
      ]
     },
     "metadata": {},
     "output_type": "display_data"
    },
    {
     "data": {
      "text/html": [
       "<ol><li>Crushed garlic, peel and chop finely.</li><li>Wipe mushrooms and slice finely.</li><li>Melt butter in a saucepan and add garlic and mushrooms.</li><li>Cook 2 minutes.</li><li>Add the red wine and peppercorns.</li><li>Bring to the boil and simmer 3 - 4 minute.  Stir in the sour cream and salt.  Drizzle sauce over chicken or steaks.</li><li>Cheers,  Doreen Doreen Randal,  Wanganui.</li><li>New Zealand.</li></ol>"
      ],
      "text/plain": [
       "<IPython.core.display.HTML object>"
      ]
     },
     "metadata": {},
     "output_type": "display_data"
    },
    {
     "data": {
      "text/html": [
       "<h2>German Onion Cake</h2>"
      ],
      "text/plain": [
       "<IPython.core.display.HTML object>"
      ]
     },
     "metadata": {},
     "output_type": "display_data"
    },
    {
     "data": {
      "text/html": [
       "<h3>Ingredients:</h3>"
      ],
      "text/plain": [
       "<IPython.core.display.HTML object>"
      ]
     },
     "metadata": {},
     "output_type": "display_data"
    },
    {
     "data": {
      "text/html": [
       "<ul><li>onions: 2</li><li>butter: 2</li><li>salt: 1</li><li>black pepper: 1/4</li><li>dried marjoram: 1/4</li><li>all-purpose flour: 2</li><li>cornstarch: 1/4</li><li>baking powder: 4</li><li>vegetable shortening: 5</li><li>milk: 3/4 - 1</li><li>egg: 1</li><li>sour cream: 3/4</li><li>poppy seeds: 2</li><li>paprika: 1/4</li></ul>"
      ],
      "text/plain": [
       "<IPython.core.display.HTML object>"
      ]
     },
     "metadata": {},
     "output_type": "display_data"
    },
    {
     "data": {
      "text/html": [
       "<h3>Instructions:</h3>"
      ],
      "text/plain": [
       "<IPython.core.display.HTML object>"
      ]
     },
     "metadata": {},
     "output_type": "display_data"
    },
    {
     "data": {
      "text/html": [
       "<ol><li>In medium skillet, saute the onions in butter over low heat until they just begin to brown, about 15 minutes.</li><li>Season with 1/4 tsp of the salt, the marjoram and the pepper.</li><li>Set aside to cool.</li><li>Preheat oven to 450°F.</li><li>In a food processor bowl place flour, cornstarch, baking powder, and the remaining salt; mix.</li><li>Add the shortening and process just until it is the texture of soft crumbs.</li><li>Add the milk and mix quickly to form a soft dough.</li><li>Oil a 10 inch round cake pan and lightly use your fingers to spread the dough out evenly.</li><li>Spread the cooked onion over the top.</li><li>Beat the egg and sour cream together.</li><li>Spoon the mixture over the onion, and spread it out to the very edge of the pan.</li><li>Sprinkle lightly with poppy seeds and paprika.</li><li>Bake for 20 minutes.</li><li>Let cool slightly, then cut into wedges.</li></ol>"
      ],
      "text/plain": [
       "<IPython.core.display.HTML object>"
      ]
     },
     "metadata": {},
     "output_type": "display_data"
    },
    {
     "data": {
      "text/html": [
       "<h2>Fragrant Lamb Stew with Dried Fruits</h2>"
      ],
      "text/plain": [
       "<IPython.core.display.HTML object>"
      ]
     },
     "metadata": {},
     "output_type": "display_data"
    },
    {
     "data": {
      "text/html": [
       "<img src=\"https://img.sndimg.com/food/image/upload/w_555,h_416,c_fit,fl_progressive,q_95/v1/img/recipes/58/8/picOTuGfB.jpg\" width=\"400\"/>"
      ],
      "text/plain": [
       "<IPython.core.display.Image object>"
      ]
     },
     "metadata": {},
     "output_type": "display_data"
    },
    {
     "data": {
      "text/html": [
       "<h3>Ingredients:</h3>"
      ],
      "text/plain": [
       "<IPython.core.display.HTML object>"
      ]
     },
     "metadata": {},
     "output_type": "display_data"
    },
    {
     "data": {
      "text/html": [
       "<ul><li>lamb: 3</li><li>onions: 3 -4</li><li>garlic: 3</li><li>carrot: 1</li><li>curry powder: 2</li><li>cinnamon: 1</li><li>fresh ginger: 2</li><li>ginger: 1/2</li><li>clove: 1</li><li>lemon, zest of: 1/2</li><li>cayenne pepper: 1</li><li>red pepper flakes: 1</li><li>fresh rosemary leaf: 1</li><li>water: 2</li><li>red wine: 3</li><li>canned plum tomatoes: 2</li><li>fresh lemon juice: 1/4</li><li>fresh cilantro leaves: 1/2</li></ul>"
      ],
      "text/plain": [
       "<IPython.core.display.HTML object>"
      ]
     },
     "metadata": {},
     "output_type": "display_data"
    },
    {
     "data": {
      "text/html": [
       "<h3>Instructions:</h3>"
      ],
      "text/plain": [
       "<IPython.core.display.HTML object>"
      ]
     },
     "metadata": {},
     "output_type": "display_data"
    },
    {
     "data": {
      "text/html": [
       "<ol><li>-Preheat oven to 350 degrees F.</li><li>Heat olive oil in bottom of 4 to 5 quart  heavy-bottomed Dutch oven.</li><li>Brown cubes of lamb in oil, in batches, remove lamb  to plate. Add onions to pot, scraping up brown bits and stirring.</li><li>When  softened, add crushed garlic; stir to incorporate, then add carrots.</li><li>Cook 2 to  3 minutes.</li><li>Add curry, salt, pepper, cinnamon, ginger, cloves, lemon zest,  cayenne or pepper flakes, and rosemary.</li><li>Stir to mix in well, then add water and wine. Raise heat and let the liquids bubble.  Lower heat, then add the tomatoes, balsamic vinegar, and the lamb cubes.</li><li>Add dried fruits, the lemon juice, and the almonds.</li><li>Adjust seasonings to taste, adding more water if the stew seems too  thick.</li><li>Add 1/2 cup of cilantro, cover pot, and place in oven for 75 to 90  minutes.</li><li>From time to time, check stew, adding water as needed to keep it moist. When lamb is tender and dried fruits have softened almost enough to become part  of the sauce, remove from oven and stir in remaining cilantro.</li><li>Let stew rest 5  minutes and serve.</li></ol>"
      ],
      "text/plain": [
       "<IPython.core.display.HTML object>"
      ]
     },
     "metadata": {},
     "output_type": "display_data"
    },
    {
     "data": {
      "text/html": [
       "<h2>Fresh Herb Scones</h2>"
      ],
      "text/plain": [
       "<IPython.core.display.HTML object>"
      ]
     },
     "metadata": {},
     "output_type": "display_data"
    },
    {
     "data": {
      "text/html": [
       "<img src=\"https://img.sndimg.com/food/image/upload/w_555,h_416,c_fit,fl_progressive,q_95/v1/img/recipes/59/1/picVY08of.jpg\" width=\"400\"/>"
      ],
      "text/plain": [
       "<IPython.core.display.Image object>"
      ]
     },
     "metadata": {},
     "output_type": "display_data"
    },
    {
     "data": {
      "text/html": [
       "<h3>Ingredients:</h3>"
      ],
      "text/plain": [
       "<IPython.core.display.HTML object>"
      ]
     },
     "metadata": {},
     "output_type": "display_data"
    },
    {
     "data": {
      "text/html": [
       "<ul><li>flour: 2</li><li>fresh parsley: 1/4</li><li>sugar: 1</li><li>fresh thyme: 1</li><li>dried thyme: 3</li><li>baking powder: 1</li><li>fresh rosemary: 1/2</li><li>dried rosemary: 1/3</li><li>salt: 1/2</li><li>butter: 1</li></ul>"
      ],
      "text/plain": [
       "<IPython.core.display.HTML object>"
      ]
     },
     "metadata": {},
     "output_type": "display_data"
    },
    {
     "data": {
      "text/html": [
       "<h3>Instructions:</h3>"
      ],
      "text/plain": [
       "<IPython.core.display.HTML object>"
      ]
     },
     "metadata": {},
     "output_type": "display_data"
    },
    {
     "data": {
      "text/html": [
       "<ol><li>Heat oven to 400 degrees.</li><li>Lightly grease cookie sheet. In a large bowl, combine  flour, parsley, sugar, thyme, baking powder, rosemary and salt; mix well.</li><li>With  pastry blender or fork, cut in butter until mixture resembles coarse crumbs.</li><li>Stir in milk and egg just until moistened.</li><li>On floured surface, gently knead  dough 10 times.</li><li>Place on cookie sheet; roll or pat dough into a 6\\</li><li>,</li><li>,</li><li>,</li><li>,</li></ol>"
      ],
      "text/plain": [
       "<IPython.core.display.HTML object>"
      ]
     },
     "metadata": {},
     "output_type": "display_data"
    },
    {
     "data": {
      "text/html": [
       "<h2>Fried Green Tomatoes II</h2>"
      ],
      "text/plain": [
       "<IPython.core.display.HTML object>"
      ]
     },
     "metadata": {},
     "output_type": "display_data"
    },
    {
     "data": {
      "text/html": [
       "<img src=\"https://img.sndimg.com/food/image/upload/w_555,h_416,c_fit,fl_progressive,q_95/v1/img/recipes/59/3/picQUreIW.jpg\" width=\"400\"/>"
      ],
      "text/plain": [
       "<IPython.core.display.Image object>"
      ]
     },
     "metadata": {},
     "output_type": "display_data"
    },
    {
     "data": {
      "text/html": [
       "<h3>Ingredients:</h3>"
      ],
      "text/plain": [
       "<IPython.core.display.HTML object>"
      ]
     },
     "metadata": {},
     "output_type": "display_data"
    },
    {
     "data": {
      "text/html": [
       "<ul><li>green tomato: 1</li></ul>"
      ],
      "text/plain": [
       "<IPython.core.display.HTML object>"
      ]
     },
     "metadata": {},
     "output_type": "display_data"
    },
    {
     "data": {
      "text/html": [
       "<h3>Instructions:</h3>"
      ],
      "text/plain": [
       "<IPython.core.display.HTML object>"
      ]
     },
     "metadata": {},
     "output_type": "display_data"
    },
    {
     "data": {
      "text/html": [
       "<ol><li>Slice tomatoes about 1/4 inch thick, season with salt and pepper and then coat both sides with cornmeal.</li><li>In a large skillet, heat enough bacon drippings to coat the bottom of the pan, and fry tomatoes until lightly browned on both sides.</li><li>This recipe was from the back of Fannie Flagg's novel, \\</li><li>.</li></ol>"
      ],
      "text/plain": [
       "<IPython.core.display.HTML object>"
      ]
     },
     "metadata": {},
     "output_type": "display_data"
    },
    {
     "data": {
      "text/html": [
       "<h2>Fried Tomatoes</h2>"
      ],
      "text/plain": [
       "<IPython.core.display.HTML object>"
      ]
     },
     "metadata": {},
     "output_type": "display_data"
    },
    {
     "data": {
      "text/html": [
       "<img src=\"https://img.sndimg.com/food/image/upload/w_555,h_416,c_fit,fl_progressive,q_95/v1/img/recipes/59/5/picYzCRoY.jpg\" width=\"400\"/>"
      ],
      "text/plain": [
       "<IPython.core.display.Image object>"
      ]
     },
     "metadata": {},
     "output_type": "display_data"
    },
    {
     "data": {
      "text/html": [
       "<h3>Ingredients:</h3>"
      ],
      "text/plain": [
       "<IPython.core.display.HTML object>"
      ]
     },
     "metadata": {},
     "output_type": "display_data"
    },
    {
     "data": {
      "text/html": [
       "<ul><li>tomatoes: 4</li><li>all-purpose flour: 1/2</li><li>salt: 2 1/2</li><li>sugar: 2 1/2</li><li>pepper: 1/4</li><li>evaporated milk: 3/4</li></ul>"
      ],
      "text/plain": [
       "<IPython.core.display.HTML object>"
      ]
     },
     "metadata": {},
     "output_type": "display_data"
    },
    {
     "data": {
      "text/html": [
       "<h3>Instructions:</h3>"
      ],
      "text/plain": [
       "<IPython.core.display.HTML object>"
      ]
     },
     "metadata": {},
     "output_type": "display_data"
    },
    {
     "data": {
      "text/html": [
       "<ol><li>Wash tomatoes, but do not peel.</li><li>Cut into 3/4-inch slices.</li><li>Place on paper towels  to drain.</li><li>Combine flour, salt, sugar and pepper.</li><li>Dust tomatoes in flour mixture  on both sides.</li><li>Add evaporated milk to rmaining flour mixture to make a thick  batter.</li><li>Dip floured tomatoes in batter.</li><li>Fry in hot oil 1/2-inch deep until  golden brown on both sides.</li></ol>"
      ],
      "text/plain": [
       "<IPython.core.display.HTML object>"
      ]
     },
     "metadata": {},
     "output_type": "display_data"
    },
    {
     "data": {
      "text/html": [
       "<h2>Fruit Salsa</h2>"
      ],
      "text/plain": [
       "<IPython.core.display.HTML object>"
      ]
     },
     "metadata": {},
     "output_type": "display_data"
    },
    {
     "data": {
      "text/html": [
       "<h3>Ingredients:</h3>"
      ],
      "text/plain": [
       "<IPython.core.display.HTML object>"
      ]
     },
     "metadata": {},
     "output_type": "display_data"
    },
    {
     "data": {
      "text/html": [
       "<ul><li>mango: 1</li><li>strawberries: 10</li><li>nectarines: 2</li><li>fresh raspberries: 1</li><li>frozen unsweetened raspberries: 1/4</li><li>salt: 1</li><li>fresh ginger: 3</li><li>lime juice: 1</li><li>cider vinegar: 1</li><li>sugar: 1/2</li></ul>"
      ],
      "text/plain": [
       "<IPython.core.display.HTML object>"
      ]
     },
     "metadata": {},
     "output_type": "display_data"
    },
    {
     "data": {
      "text/html": [
       "<h3>Instructions:</h3>"
      ],
      "text/plain": [
       "<IPython.core.display.HTML object>"
      ]
     },
     "metadata": {},
     "output_type": "display_data"
    },
    {
     "data": {
      "text/html": [
       "<ol><li>Place the minced mango, strawberries and nectarines, and place them in a medium  size bowl.</li><li>Add the remaining ingredients and mix well.</li><li>Transfer to a container  with a tight fitting lid and refrigerate.</li></ol>"
      ],
      "text/plain": [
       "<IPython.core.display.HTML object>"
      ]
     },
     "metadata": {},
     "output_type": "display_data"
    },
    {
     "data": {
      "text/html": [
       "<h2>Enchiladas Verdes Suizas</h2>"
      ],
      "text/plain": [
       "<IPython.core.display.HTML object>"
      ]
     },
     "metadata": {},
     "output_type": "display_data"
    },
    {
     "data": {
      "text/html": [
       "<h3>Ingredients:</h3>"
      ],
      "text/plain": [
       "<IPython.core.display.HTML object>"
      ]
     },
     "metadata": {},
     "output_type": "display_data"
    },
    {
     "data": {
      "text/html": [
       "<ul><li>baking soda: 2</li><li>serrano chilies: 1</li><li>sugar: 3</li><li>onion: 1</li><li>garlic clove: 1</li><li>cilantro: 1</li><li>monterey jack cheese: 1</li><li>cheddar cheese: 1</li><li>corn tortillas: 12</li><li>chicken: 2</li><li>butter: 7</li><li>flour: 1/2</li><li>onions: 2</li><li>milk: 2</li><li>garlic clove: 1</li><li>Worcestershire sauce: 1</li></ul>"
      ],
      "text/plain": [
       "<IPython.core.display.HTML object>"
      ]
     },
     "metadata": {},
     "output_type": "display_data"
    },
    {
     "data": {
      "text/html": [
       "<h3>Instructions:</h3>"
      ],
      "text/plain": [
       "<IPython.core.display.HTML object>"
      ]
     },
     "metadata": {},
     "output_type": "display_data"
    },
    {
     "data": {
      "text/html": [
       "<ol><li>Remove papery husks from tomatillos.</li><li>Wash tomatillos and chiles well.</li><li>Cook, covered, in a little boiling water  until tender, about 15 minutes.</li><li>Remove stems and  seeds from chiles.</li><li>Place chiles and drained tomatillos  in blender container.</li><li>Add onion, garlic and cilantro and blend until pureed.</li><li>Heat 2 tablespoons oil in a large skillet, add pureed mixture and fry, adding soda and sugar.   Salt to taste.</li><li>When mixture is cooked, add White Sauce, cream and 1/2 cup cheese.</li><li>Season with salt & pepper to taste; keep hot.</li><li>For each serving, soften 3 tortillas in hot oil, then dip in hot sauce. Place some shredded chicken on each tortilla and roll.   Place, seam side down, in individual baking dishes.</li><li>Cover with remaining sauce and sprinkle cheese over top.</li><li>Place under broiler until cheese melts  and is golden brown.</li><li>WHITE SAUCE: Melt butter, add onion and garlic and cook until onion  is browned.</li><li>Stir in flour and cook and stir until flour is cooked.</li><li>Add milk and cook until thickened.</li><li>Strain sauce, then add Worcestershire and salt and pepper to  taste. I have enjoyed this dish at Sanborns House of Tiles in Mexico.</li></ol>"
      ],
      "text/plain": [
       "<IPython.core.display.HTML object>"
      ]
     },
     "metadata": {},
     "output_type": "display_data"
    },
    {
     "data": {
      "text/html": [
       "<h2>Enchiladas with Red Sauce</h2>"
      ],
      "text/plain": [
       "<IPython.core.display.HTML object>"
      ]
     },
     "metadata": {},
     "output_type": "display_data"
    },
    {
     "data": {
      "text/html": [
       "<h3>Ingredients:</h3>"
      ],
      "text/plain": [
       "<IPython.core.display.HTML object>"
      ]
     },
     "metadata": {},
     "output_type": "display_data"
    },
    {
     "data": {
      "text/html": [
       "<ul><li>beef: 1</li><li>onion: 1</li><li>flour: 2</li><li>chili powder: 1</li><li>garlic powder: 2</li><li>salt: 1</li><li>cumin: 1/2</li><li>rubbed sage: 1/4</li><li>onion: 1</li><li>stewed tomatoes: 1</li><li>corn tortillas: 8</li><li>ripe olives: 1</li><li>colby-monterey jack cheese: 2</li><li>sour cream: 3</li><li>garlic: 1/2</li><li>butter: 1/2</li><li>flour: 2</li><li>tomato sauce: 2</li><li>beef broth: 2</li><li>chili powder: 2</li><li>rubbed sage: 2</li></ul>"
      ],
      "text/plain": [
       "<IPython.core.display.HTML object>"
      ]
     },
     "metadata": {},
     "output_type": "display_data"
    },
    {
     "data": {
      "text/html": [
       "<h3>Instructions:</h3>"
      ],
      "text/plain": [
       "<IPython.core.display.HTML object>"
      ]
     },
     "metadata": {},
     "output_type": "display_data"
    },
    {
     "data": {
      "text/html": [
       "<ol><li>Brown ground beef and large chopped onion in a  large skillet, stirring until meat crumbles.</li><li>Drain and return mixture to  skillet.  Add flour and next 5   ingredients, stirring well.</li><li>Add stewed  tomatoes; stir well.</li><li>Bring to a  boil; cover, reduce heat, and simmer 10 to 15  minutes, stirring occasionally.</li><li>Pour 1 1/2 cups red sauce into a 13x9\\</li><li>,</li><li>,</li><li>,</li><li>Working with  1 tortilla at a  time, keeping remaining tortillas  covered and warm, sprinkle  2 heaping  tablespoonfuls onion-olive mixture  down center of tortilla.</li><li>Top  with 1/4 cup  meat mixture.  Roll tortilla tightly,  and place in prepared  dish, seam side  down.</li><li>Repeat with remaining  tortillas.</li><li>Pour remaining 2 1/2  cups red sauce  over tortillas.</li><li>Cover and bake  at 350F for 15 minutes.</li><li>Uncover and sprinkle  with cheese.  Bake,  uncovered, 5 additional minutes.</li><li>Top enchiladas with sour cream.</li><li>Red Sauce:</li><li>Cook crushed garlic in butter 1 to 2 minutes,  stirring often.   Gradually stir   in flour.</li><li>Cook, stirring constantly, 1 minute.   Gradually add tomato sauce   and broth; add seasonings.</li><li>Cook over medium  heat, stirring constantly, until   smooth and thickened.</li></ol>"
      ],
      "text/plain": [
       "<IPython.core.display.HTML object>"
      ]
     },
     "metadata": {},
     "output_type": "display_data"
    },
    {
     "data": {
      "text/html": [
       "<h2>English Pub Beef &amp; Kidney Stew in Yorkshire Pudding (Adopted</h2>"
      ],
      "text/plain": [
       "<IPython.core.display.HTML object>"
      ]
     },
     "metadata": {},
     "output_type": "display_data"
    },
    {
     "data": {
      "text/html": [
       "<img src=\"https://img.sndimg.com/food/image/upload/w_555,h_416,c_fit,fl_progressive,q_95/v1/img/recipes/60/5/piceGiPm2.jpg\" width=\"400\"/>"
      ],
      "text/plain": [
       "<IPython.core.display.Image object>"
      ]
     },
     "metadata": {},
     "output_type": "display_data"
    },
    {
     "data": {
      "text/html": [
       "<h3>Ingredients:</h3>"
      ],
      "text/plain": [
       "<IPython.core.display.HTML object>"
      ]
     },
     "metadata": {},
     "output_type": "display_data"
    },
    {
     "data": {
      "text/html": [
       "<ul><li>flour: 1</li><li>onion: 2</li><li>mushrooms: 1/4</li><li>beef broth: 4</li><li>dry red wine: 1</li><li>tomato paste: 125</li><li>Worcestershire sauce: 1</li><li>salt: 1</li><li>pepper: 1</li><li>tarragon: 1</li><li>rosemary: 1/2</li><li>carrots: 1/4</li><li>eggs: 1/4</li><li>milk: 1/4</li><li>flour: 2</li><li>salt: 2</li></ul>"
      ],
      "text/plain": [
       "<IPython.core.display.HTML object>"
      ]
     },
     "metadata": {},
     "output_type": "display_data"
    },
    {
     "data": {
      "text/html": [
       "<h3>Instructions:</h3>"
      ],
      "text/plain": [
       "<IPython.core.display.HTML object>"
      ]
     },
     "metadata": {},
     "output_type": "display_data"
    },
    {
     "data": {
      "text/html": [
       "<ol><li>Make Yorkshire Pudding first and let rest in fridge while stew is cooking.</li><li>Beat 2 eggs in bowl.</li><li>Mix in 1 cup of milk, sift in 1 cup of flour and 1/2 tsp salt. Beat until smooth.</li><li>For the Stew.</li><li>Coat  steak and kidneys with flour.</li><li>Brown several pieces at a time in oil in   stock pot; remove. Sauté onion in pan drippings until tender.</li><li>Add mushrooms.</li><li>Cok for several minutes longer.</li><li>Stir in broth, wine, tomato paste and next 5  seasonings and diced carrots. Return meat to the pan.</li><li>Cover and cook on a slow simmer,for 2 hours or until tender (don't let stew dry out, add a little water if needed and reduce heat slightly).</li><li>Preheat oven to 200°C.</li><li>Heat 2 tbs oil in a 6-8 cup casserole. Pour batter into hot casserole dish. Spoon stew over batter to within 1 inch of edge. Bake at 200c  for 30 minutes or until puffed and brown.</li><li>Serve with mashed potatoes and greens.</li></ol>"
      ],
      "text/plain": [
       "<IPython.core.display.HTML object>"
      ]
     },
     "metadata": {},
     "output_type": "display_data"
    },
    {
     "data": {
      "text/html": [
       "<h2>Fabulous Oxtail</h2>"
      ],
      "text/plain": [
       "<IPython.core.display.HTML object>"
      ]
     },
     "metadata": {},
     "output_type": "display_data"
    },
    {
     "data": {
      "text/html": [
       "<h3>Ingredients:</h3>"
      ],
      "text/plain": [
       "<IPython.core.display.HTML object>"
      ]
     },
     "metadata": {},
     "output_type": "display_data"
    },
    {
     "data": {
      "text/html": [
       "<ul><li>carrots: 3</li><li>onions: 3</li><li>celery: 3</li><li>olive oil: 3</li><li>butter: 1/4</li><li>flour: 2</li><li>plum jam: 2</li><li>brown sugar: 6</li><li>red wine: 3</li></ul>"
      ],
      "text/plain": [
       "<IPython.core.display.HTML object>"
      ]
     },
     "metadata": {},
     "output_type": "display_data"
    },
    {
     "data": {
      "text/html": [
       "<h3>Instructions:</h3>"
      ],
      "text/plain": [
       "<IPython.core.display.HTML object>"
      ]
     },
     "metadata": {},
     "output_type": "display_data"
    },
    {
     "data": {
      "text/html": [
       "<ol><li>Trim fat from the ox tails and cut into sections between the joints.</li><li>Peel the  carrots and onions, trim the celery and cut into even-sized pieces about.  Heat  the oil and butter in a frying pan and brown the oxtail well on all sides.</li><li>Transfer the meat to a large casserole. Add the vegetables to the pan and toss  regularly until they are well browned.</li><li>Add the flour and cook for 2 - 3 minutes until flour begins to brown lightly.</li><li>Add the plum jam, vinegar, sugar, beef  stock, red wine and bouquet garni and stir well to make a smooth mixture. Bring  to the boil and then pour over the oxtail.</li><li>Cover and cook at 150 C for 3 hours  until the meat is very tender and falling off the bone. Taste the sauce and  season with salt and pepper if needed.</li><li>(Don't forget to remove the bouquet  garni.) If possible, leave the casserole to stand overnight to allow the fat to rise and set.  Skim off fat and re-heat. Serve with creamy mashed potatoes with chopped  parsley.</li><li>NOTE:-If the sauce needs to be thicker mix an extra tablespoon of flour with 2  tablespoons butter and stir into the casserole bit by bit 5 minutes before  serving.</li><li>Cheers,  Doreen Doreen Randal,  Wanganui.</li><li>New Zealand.</li></ol>"
      ],
      "text/plain": [
       "<IPython.core.display.HTML object>"
      ]
     },
     "metadata": {},
     "output_type": "display_data"
    },
    {
     "data": {
      "text/html": [
       "<h2>Five Bean Salad</h2>"
      ],
      "text/plain": [
       "<IPython.core.display.HTML object>"
      ]
     },
     "metadata": {},
     "output_type": "display_data"
    },
    {
     "data": {
      "text/html": [
       "<h3>Ingredients:</h3>"
      ],
      "text/plain": [
       "<IPython.core.display.HTML object>"
      ]
     },
     "metadata": {},
     "output_type": "display_data"
    },
    {
     "data": {
      "text/html": [
       "<ul><li>green beans: 1</li><li>lima beans: 1</li><li>kidney beans: 1</li><li>garbanzo beans: 1</li><li>onion: 1</li><li>green pepper: 1</li><li>vinegar: 1</li><li>sugar: 1/2</li><li>salt: 1/2</li><li>pepper: 3/4</li><li>dry mustard: 1</li><li>celery seed: 1</li></ul>"
      ],
      "text/plain": [
       "<IPython.core.display.HTML object>"
      ]
     },
     "metadata": {},
     "output_type": "display_data"
    },
    {
     "data": {
      "text/html": [
       "<h3>Instructions:</h3>"
      ],
      "text/plain": [
       "<IPython.core.display.HTML object>"
      ]
     },
     "metadata": {},
     "output_type": "display_data"
    },
    {
     "data": {
      "text/html": [
       "<ol><li>Drain all the beans and combine in a large bowl.</li><li>Heat (but do not boil) (I do it in the microwave for about 1 minute) vegetable oil, vinegar, sugar, salt, pepper, dry mustard, and celery seed.</li><li>Mix with bean mix and let stand overnight.</li><li>Add onion/pepper about an hour before serving.</li></ol>"
      ],
      "text/plain": [
       "<IPython.core.display.HTML object>"
      ]
     },
     "metadata": {},
     "output_type": "display_data"
    },
    {
     "data": {
      "text/html": [
       "<h2>Flavored Nuts</h2>"
      ],
      "text/plain": [
       "<IPython.core.display.HTML object>"
      ]
     },
     "metadata": {},
     "output_type": "display_data"
    },
    {
     "data": {
      "text/html": [
       "<h3>Ingredients:</h3>"
      ],
      "text/plain": [
       "<IPython.core.display.HTML object>"
      ]
     },
     "metadata": {},
     "output_type": "display_data"
    },
    {
     "data": {
      "text/html": [
       "<ul><li>walnuts: 8</li><li>kosher salt: 2</li><li>olive oil: 1/4</li><li>garlic: 1</li><li>pine nuts: 8</li><li>olive oil: 2</li><li>garlic: 1</li><li>saffron: 4</li><li>roasted pistachios: 2</li><li>Spanish olive oil: 1/2</li><li>saffron threads: 8</li><li>salt: 2</li></ul>"
      ],
      "text/plain": [
       "<IPython.core.display.HTML object>"
      ]
     },
     "metadata": {},
     "output_type": "display_data"
    },
    {
     "data": {
      "text/html": [
       "<h3>Instructions:</h3>"
      ],
      "text/plain": [
       "<IPython.core.display.HTML object>"
      ]
     },
     "metadata": {},
     "output_type": "display_data"
    },
    {
     "data": {
      "text/html": [
       "<ol><li>Preheat oven to 250 degrees.</li><li>Put all flavor ingredients into a mixing  bowl.</li><li>Add nuts and toss.</li><li>Transfer to a roasting pan into which the nuts  will fit in one single layer.</li><li>Roast for 20 minutes or until nuts begin to  color.</li><li>Transfer to a paper towel to drain excess oil.</li><li>NOTES : For a drier consistency substitute spray olive or corn oil.</li><li>A  good thing about making your own flavored nuts is creating the flavors  you like, with as much or as little salt as you choose. Store in air- tight container, preferably tin.</li></ol>"
      ],
      "text/plain": [
       "<IPython.core.display.HTML object>"
      ]
     },
     "metadata": {},
     "output_type": "display_data"
    },
    {
     "data": {
      "text/html": [
       "<h2>End of Summer Ratatouille</h2>"
      ],
      "text/plain": [
       "<IPython.core.display.HTML object>"
      ]
     },
     "metadata": {},
     "output_type": "display_data"
    },
    {
     "data": {
      "text/html": [
       "<img src=\"https://img.sndimg.com/food/image/upload/w_555,h_416,c_fit,fl_progressive,q_95/v1/img/recipes/62/3/picxuXrQP.jpg\" width=\"400\"/>"
      ],
      "text/plain": [
       "<IPython.core.display.Image object>"
      ]
     },
     "metadata": {},
     "output_type": "display_data"
    },
    {
     "data": {
      "text/html": [
       "<h3>Ingredients:</h3>"
      ],
      "text/plain": [
       "<IPython.core.display.HTML object>"
      ]
     },
     "metadata": {},
     "output_type": "display_data"
    },
    {
     "data": {
      "text/html": [
       "<ul><li>olive oil: 1/4</li><li>eggplant: 1</li><li>zucchini: 2</li><li>red bell pepper: 2</li><li>yellow bell pepper: 1</li><li>green bell pepper: 1</li><li>tomatoes: 1</li><li>Italian parsley: 3</li><li>red onion: 1/4</li><li>garlic: 1</li><li>kosher salt: 4</li><li>fresh ground black pepper: 1</li><li>olive oil: 1</li><li>fresh basil leaf: 2</li><li>parmesan cheese: 1/2</li></ul>"
      ],
      "text/plain": [
       "<IPython.core.display.HTML object>"
      ]
     },
     "metadata": {},
     "output_type": "display_data"
    },
    {
     "data": {
      "text/html": [
       "<h3>Instructions:</h3>"
      ],
      "text/plain": [
       "<IPython.core.display.HTML object>"
      ]
     },
     "metadata": {},
     "output_type": "display_data"
    },
    {
     "data": {
      "text/html": [
       "<ol><li>Mix together in a small bowl:  parsley, red onion, garlic, 1 Tbsp salt,  1 tsp black pepper,  2 Tbsp olive oil</li><li>In Medium skillet, heat oil and saute eggplant and red onion until soft, stirring often.</li><li>Transfer eggplant/onion and oil into decorative 9x13 or larger, baking dish.</li><li>Toss remaining vegetables, except the tomatoes, with the parsley garlic mixture and fold into the eggplant mixture.</li><li>Scatter tomatoes on top.</li><li>Cover with foil.</li><li>Bake at 350 degrees for 30 to 45 minutes, or until vegetables are bubbly.</li><li>While baking, prepare topping: Combine 1/2 cup chopped fresh basil leaves with your choice of cheese: 11 oz log montrachet or chevre cheese, crumbled or 1 cup grated Parmesan cheese</li><li>Remove foil and top with basil and cheese mixture, return to oven for a scant 5 minutes.</li><li>Serve at once.</li></ol>"
      ],
      "text/plain": [
       "<IPython.core.display.HTML object>"
      ]
     },
     "metadata": {},
     "output_type": "display_data"
    },
    {
     "data": {
      "text/html": [
       "<h2>Escalope of Salmon With Chanterelles</h2>"
      ],
      "text/plain": [
       "<IPython.core.display.HTML object>"
      ]
     },
     "metadata": {},
     "output_type": "display_data"
    },
    {
     "data": {
      "text/html": [
       "<h3>Ingredients:</h3>"
      ],
      "text/plain": [
       "<IPython.core.display.HTML object>"
      ]
     },
     "metadata": {},
     "output_type": "display_data"
    },
    {
     "data": {
      "text/html": [
       "<ul><li>salmon: 150</li><li>canned chanterelles: 10</li><li>Noilly Prat: 100</li><li>broad beans: 50</li><li>peas: 25</li><li>butter: 25</li><li>shallots: 50</li><li>lemon juice: 25</li><li>sea salt: 25</li></ul>"
      ],
      "text/plain": [
       "<IPython.core.display.HTML object>"
      ]
     },
     "metadata": {},
     "output_type": "display_data"
    },
    {
     "data": {
      "text/html": [
       "<h3>Instructions:</h3>"
      ],
      "text/plain": [
       "<IPython.core.display.HTML object>"
      ]
     },
     "metadata": {},
     "output_type": "display_data"
    },
    {
     "data": {
      "text/html": [
       "<ol><li>Add 25g of Butter to a small sauti pan.</li><li>Add Chanterelles and shallots, cover  with a lid and sweat for a few minutes.</li><li>Make a space for the salmon in the pan,  add wine and fish stock.</li><li>Poach for 4-5 minutes, take out fish and keep warm.</li><li>Reduce cooking liquid by two thirds, take out mushrooms.</li><li>Cut butter into small  cubes and whisk in to make sauce. Add lemon juice abd peas.</li><li>Return mushrooms,  add broad beans and peas, check seasoning.</li><li>Place salmon on plate with sauce to  the side I found this recipe on a site among others.</li></ol>"
      ],
      "text/plain": [
       "<IPython.core.display.HTML object>"
      ]
     },
     "metadata": {},
     "output_type": "display_data"
    },
    {
     "data": {
      "text/html": [
       "<h2>Country Brunch Skillet</h2>"
      ],
      "text/plain": [
       "<IPython.core.display.HTML object>"
      ]
     },
     "metadata": {},
     "output_type": "display_data"
    },
    {
     "data": {
      "text/html": [
       "<h3>Ingredients:</h3>"
      ],
      "text/plain": [
       "<IPython.core.display.HTML object>"
      ]
     },
     "metadata": {},
     "output_type": "display_data"
    },
    {
     "data": {
      "text/html": [
       "<ul><li>bacon: 6</li><li>hash brown potatoes: 6</li><li>green bell pepper: 3/4</li><li>onion: 1/2</li><li>salt: 1</li><li>pepper: 1/4</li><li>eggs: 6</li><li>cheddar cheese: 1/2</li></ul>"
      ],
      "text/plain": [
       "<IPython.core.display.HTML object>"
      ]
     },
     "metadata": {},
     "output_type": "display_data"
    },
    {
     "data": {
      "text/html": [
       "<h3>Instructions:</h3>"
      ],
      "text/plain": [
       "<IPython.core.display.HTML object>"
      ]
     },
     "metadata": {},
     "output_type": "display_data"
    },
    {
     "data": {
      "text/html": [
       "<ol><li>In a large skillet over med.</li><li>heat, cook bacon until crisp.</li><li>Remove bacon; crumble and set aside. Drain, leaving 2 tablespoons of drippings.</li><li>Add potatoes, green pepper, onion,  salt and pepper to drippings; cook and stir for 2 min.</li><li>Cover and cook, stirring  occasionally, until potatoes are browned and tender, about 15 min.</li><li>Make six  wells in the potato mixture; break one egg into each well.</li><li>Cover and cook on low heat for 8-10 min.</li><li>or until eggs are completely set. Sprinkle with cheese and  bacon.</li></ol>"
      ],
      "text/plain": [
       "<IPython.core.display.HTML object>"
      ]
     },
     "metadata": {},
     "output_type": "display_data"
    },
    {
     "data": {
      "text/html": [
       "<h2>Dutch Moorkoppen</h2>"
      ],
      "text/plain": [
       "<IPython.core.display.HTML object>"
      ]
     },
     "metadata": {},
     "output_type": "display_data"
    },
    {
     "data": {
      "text/html": [
       "<h3>Ingredients:</h3>"
      ],
      "text/plain": [
       "<IPython.core.display.HTML object>"
      ]
     },
     "metadata": {},
     "output_type": "display_data"
    },
    {
     "data": {
      "text/html": [
       "<ul><li>water: 150</li><li>salt: 1</li><li>butter: 75</li><li>flour: 90</li><li>eggs: 3</li><li>heavy cream: 500</li><li>sugar: 60</li><li>icing sugar: 15</li><li>water: 100</li></ul>"
      ],
      "text/plain": [
       "<IPython.core.display.HTML object>"
      ]
     },
     "metadata": {},
     "output_type": "display_data"
    },
    {
     "data": {
      "text/html": [
       "<h3>Instructions:</h3>"
      ],
      "text/plain": [
       "<IPython.core.display.HTML object>"
      ]
     },
     "metadata": {},
     "output_type": "display_data"
    },
    {
     "data": {
      "text/html": [
       "<ol><li>Filling: 500 ml double cream (or heavy cream), whipped with 60 gr sugar and 15 g vanilla sugar Icing: 100 gr icing sugar 10 gr cacao (or cocoa) 1.5 tablespoon warm water About 8 pieces of fruit (e.g.</li><li>pineapple chunks, strawberries) Sift the flour and the salt. Bring the water to the boil, together with the  butter.</li><li>(it really has to boil!). Add the flour and salt and mix.</li><li>Remove from  heat. Beat well with a wooden spoon until there are no lumps left. Now add one  of the eggs, stir with a wooden spoon, then beat very thoroughly until it has  been absorbed.</li><li>Add the second egg, stir, beat again very thoroughly until it has been absorbed.</li><li>Beat the remaining egg in a little bowl, and add this spoon by  spoon until the pastry mixture has a velvety consistency that keeps its shape  when pulled into points with the spoon.</li><li>Then beat the pastry mixture till it is  fluffy and shining.</li><li>Make with 2 spoons dipped in water, about 8 ball shaped  heaps on a well-greased baking tin.</li><li>Bake in the middle of a preheated oven  (200-225 degree.C) in 30-40 minutes golden and puffy.</li><li>Do not open the oven door  the first 20 minutes! Leave them for about 5 minutes in the oven with the door  opened, and then remove the choux puffs from the tin.</li><li>Put them on a wire rack to cool down.</li><li>Make the icing just before filling the choux puffs.</li><li>Make a cut in  the puffs sides and pipe in the cream.</li><li>Keep some of the cream to decorate the  top.</li><li>Mix the icing sugar and the cacao, and add drip by drip the water.</li><li>Stir  with a metal spoon, until thick and slightly fluid.</li><li>Stir this till it shines and stick to the back of the spoon.</li><li>Dip the tops of the filled choux puffs with a  twisting move in the icing, so that the top is covered.</li><li>Put the moorkoppen on a  wire rack with a plate under it. Leave them for about. 30 minutes until the  icing is hard.</li><li>Pipe a puff of the remaining cream on it, and decorate this with  a piece of fruit.</li></ol>"
      ],
      "text/plain": [
       "<IPython.core.display.HTML object>"
      ]
     },
     "metadata": {},
     "output_type": "display_data"
    },
    {
     "data": {
      "text/html": [
       "<h2>Chicken and Yellow &amp; Zucchini Squash Casserole With Rosemary</h2>"
      ],
      "text/plain": [
       "<IPython.core.display.HTML object>"
      ]
     },
     "metadata": {},
     "output_type": "display_data"
    },
    {
     "data": {
      "text/html": [
       "<h3>Ingredients:</h3>"
      ],
      "text/plain": [
       "<IPython.core.display.HTML object>"
      ]
     },
     "metadata": {},
     "output_type": "display_data"
    },
    {
     "data": {
      "text/html": [
       "<ul><li>baby chickens: 4</li><li>salt: 5</li><li>cayenne pepper: 16</li><li>sugar: 1/2</li><li>olive oil: 1/2</li><li>garlic cloves: 1</li><li>zucchini: 1</li><li>bay leaf: 1/2</li><li>fresh rosemary: 1</li><li>lime, zest of: 2</li><li>lime, juice of: 1/4</li></ul>"
      ],
      "text/plain": [
       "<IPython.core.display.HTML object>"
      ]
     },
     "metadata": {},
     "output_type": "display_data"
    },
    {
     "data": {
      "text/html": [
       "<h3>Instructions:</h3>"
      ],
      "text/plain": [
       "<IPython.core.display.HTML object>"
      ]
     },
     "metadata": {},
     "output_type": "display_data"
    },
    {
     "data": {
      "text/html": [
       "<ol><li>Preheat the oven to 450 degrees.</li><li>Season the chicken with salt, cayenne pepper, and a pinch of sugar.</li><li>Heat 2 tablespoons of the olive oil in a large roasting pan over high heat.</li><li>Add the chickens, skin side down, and saute until golden, about 4 to 6 minutes.</li><li>Turn them over and add the garlic, squash and zucchini slices, bay leaf, rosemary, lime zest, and salt.</li><li>Drizzle 1 tablespoon of the olive oil over the casserole and carefully toss.</li><li>Place the pan in the oven and roast for 15 to 20 minutes, tossing 2 or 3 times.</li><li>Place the tomato slices in a bowl.</li><li>Season with salt, a pinch of cayenne pepper and sugar.</li><li>Toss them in 1 tablespoon of the olive oil and the lime juice and spread them over the chicken-squash casserole.</li><li>Cook for 5 to 7 minutes more.</li><li>Discard the bay leaf and rosemary sprigs, transfer the chicken and garnish to a large serving platter, and keep warm.</li><li>Add the stock or water to the pan drippings and simmer for 3 to 4 minutes over medium heat.</li><li>Add the remaining tablespoon of olive oil, mix well, and strain the sauce.</li><li>Place the chickens on a platter.</li><li>Arrange the vegetables over them.</li><li>Spoon the sauce evenly over the warm dish.</li></ol>"
      ],
      "text/plain": [
       "<IPython.core.display.HTML object>"
      ]
     },
     "metadata": {},
     "output_type": "display_data"
    },
    {
     "data": {
      "text/html": [
       "<h2>Crisp Skin Chicken</h2>"
      ],
      "text/plain": [
       "<IPython.core.display.HTML object>"
      ]
     },
     "metadata": {},
     "output_type": "display_data"
    },
    {
     "data": {
      "text/html": [
       "<h3>Ingredients:</h3>"
      ],
      "text/plain": [
       "<IPython.core.display.HTML object>"
      ]
     },
     "metadata": {},
     "output_type": "display_data"
    },
    {
     "data": {
      "text/html": [
       "<ul><li>chicken: 1 1/4</li><li>vinegar: 1</li><li>soy sauce: 2</li><li>honey: 2</li><li>dry sherry: 1</li><li>golden syrup: 1</li><li>flour: 2</li><li>salt: 1</li></ul>"
      ],
      "text/plain": [
       "<IPython.core.display.HTML object>"
      ]
     },
     "metadata": {},
     "output_type": "display_data"
    },
    {
     "data": {
      "text/html": [
       "<h3>Instructions:</h3>"
      ],
      "text/plain": [
       "<IPython.core.display.HTML object>"
      ]
     },
     "metadata": {},
     "output_type": "display_data"
    },
    {
     "data": {
      "text/html": [
       "<ol><li>Put chicken in a large saucepan and add boiling water to come halfway up the sides of the chicken.</li><li>Cover tightly and simmer until just tender, about 45 - 60 minutes.</li><li>Drain , rinse under cold water and dry with absorbent kitchen paper.</li><li>Mix together the vinegar, soy sauce, honey, sherry and syrup.</li><li>Brush this all over the chicken and then hang the chicken in an airy place to dry about 30 minutes.</li><li>Brush again with the remaining soy sauce mixture and hang again for 20 - 30 minutes.</li><li>Mix the flour and salt together and rub well into the chicken skin.</li><li>Deep-fry until golden and crisp.</li><li>Drain well on absorbent paper.</li><li>Chop the chicken into 8 pieces and serve warm with dips.</li><li>CINNAMON DIP Mix together 1 Tbsp ground cinnamon, 1/2 tsp ground ginger, 1/4 tsp freshly ground pepper and salt.  Put in a small saucepan, heat until very hot, stirring constantly.</li><li>PEPPER AND SALT DIP Mix together 1 Tbsp salt and 1/2 Tbsp freshly ground black pepper.</li><li>Put into a small saucepan and heat, stirring, until the salt begins to brown.</li><li>Serve the dips separately in small alongside a bowl of hoisin sauce (served cold) Guests eat the chicken with their fingers, dipping each piece into the dips and sauce.  Place finger bowls of cold water on the table.</li></ol>"
      ],
      "text/plain": [
       "<IPython.core.display.HTML object>"
      ]
     },
     "metadata": {},
     "output_type": "display_data"
    },
    {
     "data": {
      "text/html": [
       "<h2>Crock Pot Lasagna</h2>"
      ],
      "text/plain": [
       "<IPython.core.display.HTML object>"
      ]
     },
     "metadata": {},
     "output_type": "display_data"
    },
    {
     "data": {
      "text/html": [
       "<h3>Ingredients:</h3>"
      ],
      "text/plain": [
       "<IPython.core.display.HTML object>"
      ]
     },
     "metadata": {},
     "output_type": "display_data"
    },
    {
     "data": {
      "text/html": [
       "<ul><li>lean ground beef: 8</li><li>onion: 1 1/2</li><li>tomatoes: 3/4</li><li>tomato sauce: 1</li><li>cream-style cottage cheese: 1</li><li>mozzarella cheese: 1</li><li>granulated sugar: 2</li><li>parsley flakes: 2</li><li>dried oregano: 1</li><li>garlic powder: 1/2</li><li>dried basil: 1/4</li><li>salt: 1/4</li><li>pepper: 1 1/4</li></ul>"
      ],
      "text/plain": [
       "<IPython.core.display.HTML object>"
      ]
     },
     "metadata": {},
     "output_type": "display_data"
    },
    {
     "data": {
      "text/html": [
       "<h3>Instructions:</h3>"
      ],
      "text/plain": [
       "<IPython.core.display.HTML object>"
      ]
     },
     "metadata": {},
     "output_type": "display_data"
    },
    {
     "data": {
      "text/html": [
       "<ol><li>Break lasagna noodles into bite size pieces and cook in boiling water until tender but firm (14 to 16 minutes). Drain.</li><li>Scramble-fry ground beef in non-stick frying pan until browned.</li><li>Drain well.</li><li>Turn into a 3-1/2 quart crock pot. Add remaining 12 ingredients and stir well.</li><li>Add lasagna noodles, stir.</li><li>Cook on LOW for 7 to 9 hours or on HIGH for 3-1/2 to 4-1/2 hours.</li></ol>"
      ],
      "text/plain": [
       "<IPython.core.display.HTML object>"
      ]
     },
     "metadata": {},
     "output_type": "display_data"
    },
    {
     "data": {
      "text/html": [
       "<h2>Croissant Bread Pudding with Brandy Cream Sauce</h2>"
      ],
      "text/plain": [
       "<IPython.core.display.HTML object>"
      ]
     },
     "metadata": {},
     "output_type": "display_data"
    },
    {
     "data": {
      "text/html": [
       "<h3>Ingredients:</h3>"
      ],
      "text/plain": [
       "<IPython.core.display.HTML object>"
      ]
     },
     "metadata": {},
     "output_type": "display_data"
    },
    {
     "data": {
      "text/html": [
       "<ul><li>raisins: 8</li><li>eggs: 1 3/4</li><li>sugar: 3</li><li>milk: 3/4</li><li>brandy: 1</li><li>butter: 1</li><li>cinnamon: 2</li><li>nutmeg: 1/4</li><li>vanilla: 1</li><li>salt: 1</li><li>butter: 1</li></ul>"
      ],
      "text/plain": [
       "<IPython.core.display.HTML object>"
      ]
     },
     "metadata": {},
     "output_type": "display_data"
    },
    {
     "data": {
      "text/html": [
       "<h3>Instructions:</h3>"
      ],
      "text/plain": [
       "<IPython.core.display.HTML object>"
      ]
     },
     "metadata": {},
     "output_type": "display_data"
    },
    {
     "data": {
      "text/html": [
       "<ol><li>Brandy cream sauce: 2 ounces butter 1 cup brown sugar 1/2 cup water 1/2 cup cream 1 teaspoon vanilla 1 tablespoon cornstarch, mixed to paste with a little water 2-3 tablespoons brandy Preheat oven to 350F.</li><li>Grease a 9 X 11\\</li><li>,</li><li>,</li><li>,</li><li>Bake 40 minutes.</li><li>Serve immediately with sauce.   Sauce: In a small saucepan, combine butter, brown sugar and water and stir until boiling and sugar has dissolved.</li><li>Add cream, vanilla, and cornstarch paste and  stir until thickened,  Lastly, add  brandy.</li><li>Sauce can be made in advance and  reheated just before serving.</li><li>The nice thing about this is that you can do everything in advance, and  bake it while you are eating the main course.</li></ol>"
      ],
      "text/plain": [
       "<IPython.core.display.HTML object>"
      ]
     },
     "metadata": {},
     "output_type": "display_data"
    },
    {
     "data": {
      "text/html": [
       "<h2>Crusty Beef Casserole</h2>"
      ],
      "text/plain": [
       "<IPython.core.display.HTML object>"
      ]
     },
     "metadata": {},
     "output_type": "display_data"
    },
    {
     "data": {
      "text/html": [
       "<h3>Ingredients:</h3>"
      ],
      "text/plain": [
       "<IPython.core.display.HTML object>"
      ]
     },
     "metadata": {},
     "output_type": "display_data"
    },
    {
     "data": {
      "text/html": [
       "<ul><li>flour: 1</li><li>sugar: 3</li><li>salt: 1 1/2</li><li>dry mustard: 1</li><li>baking soda: 3/4</li><li>Worcestershire sauce: 1/2</li><li>vinegar: 1 1/2</li><li>tomato juice: 1 1/2</li><li>water: 1 1/2</li><li>butter: 1/2</li><li>garlic: 1</li><li>chives: 25</li><li>garlic: 1</li><li>parsley: 1</li></ul>"
      ],
      "text/plain": [
       "<IPython.core.display.HTML object>"
      ]
     },
     "metadata": {},
     "output_type": "display_data"
    },
    {
     "data": {
      "text/html": [
       "<h3>Instructions:</h3>"
      ],
      "text/plain": [
       "<IPython.core.display.HTML object>"
      ]
     },
     "metadata": {},
     "output_type": "display_data"
    },
    {
     "data": {
      "text/html": [
       "<ol><li>CRUSTY TOPPING French bread cut in1 cm slices 25g soft butter 1 clove garlic, crushed (opt) 1 Tbsp French mixed mustard chopped chives, garlic cloves or parsley Cut steak in pieces, 6 cm by 4 cm.</li><li>Place in casserole. In a bowl mix all  ingredients except crusty topping.</li><li>Pour over beef, and cover tightly.</li><li>Bake at  160 C for 2 hours.</li><li>Combine butter, add garlic (opt), mustard and herbs.</li><li>Spread  on one side of each bread slice (use sufficient slices to cover the top of  casserole). Arrange bread, buttered side up, on meat, pushing slices firmly down to soak up juices.</li><li>Return uncovered casserole to oven at 200 C for about 10  minutes or until bread is crisp and golden.</li></ol>"
      ],
      "text/plain": [
       "<IPython.core.display.HTML object>"
      ]
     },
     "metadata": {},
     "output_type": "display_data"
    },
    {
     "data": {
      "text/html": [
       "<h2>Cucumber Pan Rolls</h2>"
      ],
      "text/plain": [
       "<IPython.core.display.HTML object>"
      ]
     },
     "metadata": {},
     "output_type": "display_data"
    },
    {
     "data": {
      "text/html": [
       "<h3>Ingredients:</h3>"
      ],
      "text/plain": [
       "<IPython.core.display.HTML object>"
      ]
     },
     "metadata": {},
     "output_type": "display_data"
    },
    {
     "data": {
      "text/html": [
       "<ul><li>cucumber: 1</li><li>low-fat sour cream: 1/2</li><li>water: 1/4</li><li>sugar: 1</li><li>salt: 1</li><li>all-purpose flour: 3 3/4</li><li>active dry yeast: 1</li><li>fresh chives: 2</li><li>fresh dill: 2</li></ul>"
      ],
      "text/plain": [
       "<IPython.core.display.HTML object>"
      ]
     },
     "metadata": {},
     "output_type": "display_data"
    },
    {
     "data": {
      "text/html": [
       "<h3>Instructions:</h3>"
      ],
      "text/plain": [
       "<IPython.core.display.HTML object>"
      ]
     },
     "metadata": {},
     "output_type": "display_data"
    },
    {
     "data": {
      "text/html": [
       "<ol><li>Place cucumber in a blender  or food processor; cover and process until smooth.</li><li>Place 3/4 cup of puree in a saucepan (discard remaining puree or save for  another use.)  Add sour cream, water, sugar, and salt to pan; heat to 120 to 130 degrees (mixture will appear separated).  In a mixing bowl, combine 1 1/4 cups  flour, yeast, chives and dill; add cucumber mixture.  Beat on low speed just  until moistened; beat on high for 3 minutes.</li><li>Add enough remaining flour to form a stiff dough.</li><li>Turn onto a floured surface; knead until smooth and elastic,  about 6 to 8 minutes.</li><li>Place in a greased bowl, turning once to grease top.</li><li>Cover and let rise in a warm place until doubled about 1 hour.</li><li>Punch dough  down; let rest 10 minutes.</li><li>Shape into 12 balls; place in a 13 x 9 x 2\\</li><li>,</li><li>,</li><li>,</li><li>,</li></ol>"
      ],
      "text/plain": [
       "<IPython.core.display.HTML object>"
      ]
     },
     "metadata": {},
     "output_type": "display_data"
    },
    {
     "data": {
      "text/html": [
       "<h2>Curried Chicken II</h2>"
      ],
      "text/plain": [
       "<IPython.core.display.HTML object>"
      ]
     },
     "metadata": {},
     "output_type": "display_data"
    },
    {
     "data": {
      "text/html": [
       "<h3>Ingredients:</h3>"
      ],
      "text/plain": [
       "<IPython.core.display.HTML object>"
      ]
     },
     "metadata": {},
     "output_type": "display_data"
    },
    {
     "data": {
      "text/html": [
       "<ul><li>boiling water: 1/4</li><li>chicken: 1</li><li>butter: 1</li><li>onion: 2</li><li>curry powder: 1</li><li>clove: 1</li><li>cinnamon: 1</li><li>salt: 1</li></ul>"
      ],
      "text/plain": [
       "<IPython.core.display.HTML object>"
      ]
     },
     "metadata": {},
     "output_type": "display_data"
    },
    {
     "data": {
      "text/html": [
       "<h3>Instructions:</h3>"
      ],
      "text/plain": [
       "<IPython.core.display.HTML object>"
      ]
     },
     "metadata": {},
     "output_type": "display_data"
    },
    {
     "data": {
      "text/html": [
       "<ol><li>Put desiccated coconut to soak in a pint of boiling water for a couple of hours.</li><li>Sieve and strain.</li><li>Only the liquid is used.</li><li>Cut up a chicken or use chicken  pieces.</li><li>Melt butter or good dripping in pan, add finely chopped onion, curry  powder, a pinch of ground cloves and cinnamon.</li><li>Fry stirring constantly, till  brown.</li><li>Add chicken pieces and fry these until brown.</li><li>Add  salt, the warmed  coconut liquid.</li><li>Cover saucepan, and simmer gently till chicken is tender.</li></ol>"
      ],
      "text/plain": [
       "<IPython.core.display.HTML object>"
      ]
     },
     "metadata": {},
     "output_type": "display_data"
    },
    {
     "data": {
      "text/html": [
       "<h2>Cream Scones</h2>"
      ],
      "text/plain": [
       "<IPython.core.display.HTML object>"
      ]
     },
     "metadata": {},
     "output_type": "display_data"
    },
    {
     "data": {
      "text/html": [
       "<h3>Ingredients:</h3>"
      ],
      "text/plain": [
       "<IPython.core.display.HTML object>"
      ]
     },
     "metadata": {},
     "output_type": "display_data"
    },
    {
     "data": {
      "text/html": [
       "<ul><li>flour: 2</li><li>salt: 1</li><li>baking powder: 4</li><li>sugar: 2</li><li>butter: 5</li><li>eggs: 3</li><li>heavy cream: 3/4</li><li>raisins: 1/3</li><li>water: 1</li></ul>"
      ],
      "text/plain": [
       "<IPython.core.display.HTML object>"
      ]
     },
     "metadata": {},
     "output_type": "display_data"
    },
    {
     "data": {
      "text/html": [
       "<h3>Instructions:</h3>"
      ],
      "text/plain": [
       "<IPython.core.display.HTML object>"
      ]
     },
     "metadata": {},
     "output_type": "display_data"
    },
    {
     "data": {
      "text/html": [
       "<ol><li>Preheat the oven to 450.</li><li>Mix dry ingredients together, reserving 1 Tbsp sugar.</li><li>Cut butter into bits and rub into dry ingredients until thoroughly blended.</li><li>(Or pulse in food processor).   Beat 2 eggs with cream, and blend into dry  ingredients with a few swift strokes.</li><li>Use only a few more strokes to add  raisins.</li><li>Turn dough onto lightly floured surface and knead 10 times; no more.   If it is very sticky, add a little flour, but very little; don't worry if it  sticks a bit to your hands.</li><li>Press the dough into a 3/4 inch rectangle and cut  into 2 inch rounds with a biscuit cutter or glass.</li><li>Place the rounds on an  ungreased baking sheet.  Gently reshape the leftover dough and cut again; this  recipe will produce 10-14 biscuits.</li><li>Beat the remaining egg with 1 tablespoonful  of water and brush the top of each scone; sprinkle each with a little of the  remaining sugar.</li><li>Bake 7-9 minutes, or until the scones are a beautiful golden  brown.</li><li>These keep better than biscuits, but should still be eaten the same day  you make them.</li><li>Seven Easy Additions to Cream Scones:</li><li>--Stir one-half cup or more chopped nuts into the prepared batter.</li><li>--Use up to fifty percent whole wheat flour.</li><li>--Substitute fresh fruit (apples, pears, peaches), whole berries (blueberries, cranberries) or minced dried fruit (figs, apricots) for the raisins.</li><li>--Add one teaspoonful or more of cinnamon or ginger, or a pinch of nutmeg or allspice to the dried ingredients.</li><li>--Add one-half cup grated cheese along with the eggs and cream; reduce the sugar to one teaspoon.</li><li>--Add minced fresh herbs to taste-dill, parsley, and chevril are especially good; reduce the sugar to one teaspoonful.</li><li>--Add one-half cup or more of minced cooked meat along with the eggs and cream; reduce the sugar to one teaspoon.</li></ol>"
      ],
      "text/plain": [
       "<IPython.core.display.HTML object>"
      ]
     },
     "metadata": {},
     "output_type": "display_data"
    },
    {
     "data": {
      "text/html": [
       "<h2>Creamy Mushroom and Onion Rotini</h2>"
      ],
      "text/plain": [
       "<IPython.core.display.HTML object>"
      ]
     },
     "metadata": {},
     "output_type": "display_data"
    },
    {
     "data": {
      "text/html": [
       "<h3>Ingredients:</h3>"
      ],
      "text/plain": [
       "<IPython.core.display.HTML object>"
      ]
     },
     "metadata": {},
     "output_type": "display_data"
    },
    {
     "data": {
      "text/html": [
       "<ul><li>rotini pasta: 4</li><li>bacon: 1</li><li>garlic: 2</li><li>cooking onion: 2</li><li>mushroom: 1</li><li>dried thyme leaves: 1</li><li>salt: 1/2</li><li>pepper: 1/4</li><li>dry white wine: 1/4</li><li>fresh parsley: 2/3</li></ul>"
      ],
      "text/plain": [
       "<IPython.core.display.HTML object>"
      ]
     },
     "metadata": {},
     "output_type": "display_data"
    },
    {
     "data": {
      "text/html": [
       "<h3>Instructions:</h3>"
      ],
      "text/plain": [
       "<IPython.core.display.HTML object>"
      ]
     },
     "metadata": {},
     "output_type": "display_data"
    },
    {
     "data": {
      "text/html": [
       "<ol><li>Cook rotini pasta according to package directions.</li><li>In large skillet, heat oil over medium heat.  Add bacon and cook until translucent.  Stir in garlic, onion and mushrooms.</li><li>Cook, stirring occasionally, for 5 minutes or until mushrooms begin to brown.</li><li>Increase heat to high and stir in thyme, salt and pepper.</li><li>Stir in cream, stock and wine.  When mixture boils, reduce heat and simmer for 1 minute. Add hot drained pasta and toss.</li><li>Garnish with chopped fresh parsley and serve immediately.</li></ol>"
      ],
      "text/plain": [
       "<IPython.core.display.HTML object>"
      ]
     },
     "metadata": {},
     "output_type": "display_data"
    },
    {
     "data": {
      "text/html": [
       "<h2>Unusual Chicken</h2>"
      ],
      "text/plain": [
       "<IPython.core.display.HTML object>"
      ]
     },
     "metadata": {},
     "output_type": "display_data"
    },
    {
     "data": {
      "text/html": [
       "<h3>Ingredients:</h3>"
      ],
      "text/plain": [
       "<IPython.core.display.HTML object>"
      ]
     },
     "metadata": {},
     "output_type": "display_data"
    },
    {
     "data": {
      "text/html": [
       "<ul></ul>"
      ],
      "text/plain": [
       "<IPython.core.display.HTML object>"
      ]
     },
     "metadata": {},
     "output_type": "display_data"
    },
    {
     "data": {
      "text/html": [
       "<h3>Instructions:</h3>"
      ],
      "text/plain": [
       "<IPython.core.display.HTML object>"
      ]
     },
     "metadata": {},
     "output_type": "display_data"
    },
    {
     "data": {
      "text/html": [
       "<ol><li>Mix together and marinate chicken for about 5 to 6 hours or overnight in a covered dish in the refrigerator.</li><li>Add one beaten egg and corn flour to cover. Place some ground nut oil in a wok heat oil and deep fry on a low heat. The meat is now ready to eat.</li><li>If a hotter dish is required: Take some curry leaves, ginger, garlic, green chilies, spring onions, coriander leaves. Place all the above in a wok with hot oil and fry for a couple of minutes.</li><li>Add some yogurt and tomato sauce and stir. Now add the chicken and some red food coloring and stir fry again to cover all the meat with the sauce.</li></ol>"
      ],
      "text/plain": [
       "<IPython.core.display.HTML object>"
      ]
     },
     "metadata": {},
     "output_type": "display_data"
    },
    {
     "data": {
      "text/html": [
       "<h2>Vegetarian Baked Stuffed Red Bell Peppers</h2>"
      ],
      "text/plain": [
       "<IPython.core.display.HTML object>"
      ]
     },
     "metadata": {},
     "output_type": "display_data"
    },
    {
     "data": {
      "text/html": [
       "<img src=\"https://img.sndimg.com/food/image/upload/w_555,h_416,c_fit,fl_progressive,q_95/v1/img/recipes/71/9/picrBWj6Y.jpg\" width=\"400\"/>"
      ],
      "text/plain": [
       "<IPython.core.display.Image object>"
      ]
     },
     "metadata": {},
     "output_type": "display_data"
    },
    {
     "data": {
      "text/html": [
       "<h3>Ingredients:</h3>"
      ],
      "text/plain": [
       "<IPython.core.display.HTML object>"
      ]
     },
     "metadata": {},
     "output_type": "display_data"
    },
    {
     "data": {
      "text/html": [
       "<ul><li>long-grain rice: 1/2</li><li>salt: 1</li><li>sweet peppers: 4</li><li>butter: 3</li><li>margarine: 1</li><li>onion: 1/2</li><li>celery: 1/2</li><li>sunflower seeds: 1/4</li><li>parsley: 2</li><li>eggs: 1/4</li><li>dried oregano leaves: 1</li><li>black pepper: 1</li><li>sharp cheddar cheese: 1/2</li></ul>"
      ],
      "text/plain": [
       "<IPython.core.display.HTML object>"
      ]
     },
     "metadata": {},
     "output_type": "display_data"
    },
    {
     "data": {
      "text/html": [
       "<h3>Instructions:</h3>"
      ],
      "text/plain": [
       "<IPython.core.display.HTML object>"
      ]
     },
     "metadata": {},
     "output_type": "display_data"
    },
    {
     "data": {
      "text/html": [
       "<ol><li>Cook rice in 1-1/2 cups boiling salted water for 35 minutes or until tender.</li><li>Drain if necessary.</li><li>Set aside. Cut peppers in half.</li><li>Remove seeds and white  membrane.  Parboil peppers in boiling salted water for 5 minutes.</li><li>Arrange in  slightly oiled, shallow 1-1/2 quart baking dish.</li><li>Melt butter in small skillet.   Add onion, celery, and sunflower seeds.</li><li>Saute until onion is tender.</li><li>Remove  from heat.  Stir into rice.  Add parsley, eggs, oregano, jalapeno pepper, black  pepper, and salt to taste.  Fill peppers with mixture.  Sprinkle cheese on top.</li><li>Put about 1/3 cup hot water in bottom of dish.</li><li>(I use the water used to parboil the peppers.)  Bake at 400  F for about 20 minutes.</li></ol>"
      ],
      "text/plain": [
       "<IPython.core.display.HTML object>"
      ]
     },
     "metadata": {},
     "output_type": "display_data"
    },
    {
     "data": {
      "text/html": [
       "<h2>Chili With Biscuits</h2>"
      ],
      "text/plain": [
       "<IPython.core.display.HTML object>"
      ]
     },
     "metadata": {},
     "output_type": "display_data"
    },
    {
     "data": {
      "text/html": [
       "<h3>Ingredients:</h3>"
      ],
      "text/plain": [
       "<IPython.core.display.HTML object>"
      ]
     },
     "metadata": {},
     "output_type": "display_data"
    },
    {
     "data": {
      "text/html": [
       "<ul><li>garbanzo beans: 14 1/2</li><li>kidney beans: 14 1/2</li><li>celery: 14 1/2</li><li>onion: 15</li><li>apple cider: 15</li><li>low sodium chicken broth: 2</li><li>chili powder: 1</li><li>garlic: 1/2</li><li>dried oregano: 1/2</li><li>pepper: 2</li><li>nonfat cheddar cheese: 1</li><li>all-purpose flour: 1/2</li><li>whole wheat flour: 1/4</li><li>baking powder: 3/4</li><li>salt: 1/2</li><li>skim milk: 1/2</li><li>low-fat sour cream: 1 1/2</li></ul>"
      ],
      "text/plain": [
       "<IPython.core.display.HTML object>"
      ]
     },
     "metadata": {},
     "output_type": "display_data"
    },
    {
     "data": {
      "text/html": [
       "<h3>Instructions:</h3>"
      ],
      "text/plain": [
       "<IPython.core.display.HTML object>"
      ]
     },
     "metadata": {},
     "output_type": "display_data"
    },
    {
     "data": {
      "text/html": [
       "<ol><li>Stir together undrained tomatoes, garbanzo beans, kidney beans, celery, onion,  apple juice, chicken broth, chili powder, garlic, oregano, and pepper in a 4  quart Dutch oven or kettle.  Bring to boiling; reduce heat. Sour Cream Biscuits: stir together both flours, baking powder, and salt in a medium bowl.</li><li>Add milk  and sour cream,  stirring until just moistened.</li><li>Drop biscuit dough in 8 mounds  onto simmering soup mixture.  Cook, covered, about 12 minutes or until a  toothpick inserted into biscuits comes out clean.</li><li>Ladle soup into soup bowls.</li><li>Place a biscuit on top of each serving and sprinkle with cheese.</li></ol>"
      ],
      "text/plain": [
       "<IPython.core.display.HTML object>"
      ]
     },
     "metadata": {},
     "output_type": "display_data"
    },
    {
     "data": {
      "text/html": [
       "<h2>Whole Grain Buttermilk Pancakes</h2>"
      ],
      "text/plain": [
       "<IPython.core.display.HTML object>"
      ]
     },
     "metadata": {},
     "output_type": "display_data"
    },
    {
     "data": {
      "text/html": [
       "<h3>Ingredients:</h3>"
      ],
      "text/plain": [
       "<IPython.core.display.HTML object>"
      ]
     },
     "metadata": {},
     "output_type": "display_data"
    },
    {
     "data": {
      "text/html": [
       "<ul><li>whole wheat flour: 2/3</li><li>cornmeal: 1/4</li><li>brown sugar: 1</li><li>baking powder: 1</li><li>baking soda: 1 1/2</li><li>salt: 1/4</li><li>buttermilk: 1/4</li><li>eggs: 1</li></ul>"
      ],
      "text/plain": [
       "<IPython.core.display.HTML object>"
      ]
     },
     "metadata": {},
     "output_type": "display_data"
    },
    {
     "data": {
      "text/html": [
       "<h3>Instructions:</h3>"
      ],
      "text/plain": [
       "<IPython.core.display.HTML object>"
      ]
     },
     "metadata": {},
     "output_type": "display_data"
    },
    {
     "data": {
      "text/html": [
       "<ol><li>In a medium size bowl, combine the whole wheat flour, oat bran, cornmeal, sugar, baking powder and baking soda, and salt.  In another bowl, combine the  buttermilk, egg yolks and oil.</li><li>In a large bowl, beat the egg whites until stiff  peaks form.</li><li>Stir in the buttermilk mixture into the flour mixture.  Fold in the egg whites.</li><li>Lightly coat a skillet with cooking spray and set over moderate  heat.  When the skillet is hot, cook the pancakes 4 at a time, using 1/4 cup  batter for each.</li><li>Cook for about 2 minutes on one side or until bubbles appear  on the surface; turn, then cook 2 minutes or until golden brown on each side and cook through.</li></ol>"
      ],
      "text/plain": [
       "<IPython.core.display.HTML object>"
      ]
     },
     "metadata": {},
     "output_type": "display_data"
    },
    {
     "data": {
      "text/html": [
       "<h2>Yolkless Noodles</h2>"
      ],
      "text/plain": [
       "<IPython.core.display.HTML object>"
      ]
     },
     "metadata": {},
     "output_type": "display_data"
    },
    {
     "data": {
      "text/html": [
       "<h3>Ingredients:</h3>"
      ],
      "text/plain": [
       "<IPython.core.display.HTML object>"
      ]
     },
     "metadata": {},
     "output_type": "display_data"
    },
    {
     "data": {
      "text/html": [
       "<ul><li>all-purpose flour: 2</li><li>salt: 1/2</li><li>water: 2</li><li>olive oil: 1/3</li><li>all-purpose flour: 2</li></ul>"
      ],
      "text/plain": [
       "<IPython.core.display.HTML object>"
      ]
     },
     "metadata": {},
     "output_type": "display_data"
    },
    {
     "data": {
      "text/html": [
       "<h3>Instructions:</h3>"
      ],
      "text/plain": [
       "<IPython.core.display.HTML object>"
      ]
     },
     "metadata": {},
     "output_type": "display_data"
    },
    {
     "data": {
      "text/html": [
       "<ol><li>In a large mixing bowl stir together the 2 cups flour and salt.  Make a well in  the center of the dry mixture.  In a small mixing bowl combine egg white, water, and oil.</li><li>Add to the dry mixture.  Mix well.</li><li>Sprinkle kneading surface with 1  Tbsp of the remaining flour.</li><li>Turn dough out onto floured surface.  Knead till  dough is smooth and elastic (8 to 10 minutes total), adding 1 to 2 Tbsp  additional flour as needed.</li><li>Cover and let the dough rest for 10 minutes.</li><li>Divide dough into 4 equal portions.</li><li>On a lightly floured surface, roll each  portion into a 12\\</li><li>thick).  Let stand, uncovered, about 20  minutes.</li><li>Loosely roll up dough jelly-roll style; cut into 1/4\\</li><li>,</li><li>lengths.</li><li>If using a pasta  machine, pass each portion through machine according to manufacturer's  directions till dough is 1/16\\</li><li>,</li><li>wide strips.</li><li>Cut strips  into 2 to 3\\</li><li>,</li><li>Let noodles dry overnight or till completely dry; place in an airtight container and refrigerate for up to 3 days.</li><li>Or, dry the noodles for at least 1 hour and  seal in  a freezer bag or freezer container; freeze up to 8 months.</li><li>Cook  noodles for 1 1/2 to 2 minutes or till tender but still firm, allowing a few  more minutes for dried or frozen noodles.</li><li>Drain noodles well.</li></ol>"
      ],
      "text/plain": [
       "<IPython.core.display.HTML object>"
      ]
     },
     "metadata": {},
     "output_type": "display_data"
    },
    {
     "data": {
      "text/html": [
       "<h2>Yorkshire Pudding Popovers</h2>"
      ],
      "text/plain": [
       "<IPython.core.display.HTML object>"
      ]
     },
     "metadata": {},
     "output_type": "display_data"
    },
    {
     "data": {
      "text/html": [
       "<img src=\"https://img.sndimg.com/food/image/upload/w_555,h_416,c_fit,fl_progressive,q_95/v1/img/recipes/74/4/jbir8X7cRBqn8agb8XLb_pudding.JPG\" width=\"400\"/>"
      ],
      "text/plain": [
       "<IPython.core.display.Image object>"
      ]
     },
     "metadata": {},
     "output_type": "display_data"
    },
    {
     "data": {
      "text/html": [
       "<h3>Ingredients:</h3>"
      ],
      "text/plain": [
       "<IPython.core.display.HTML object>"
      ]
     },
     "metadata": {},
     "output_type": "display_data"
    },
    {
     "data": {
      "text/html": [
       "<ul><li>plain flour: 1</li><li>egg: 1</li><li>milk: 1</li></ul>"
      ],
      "text/plain": [
       "<IPython.core.display.HTML object>"
      ]
     },
     "metadata": {},
     "output_type": "display_data"
    },
    {
     "data": {
      "text/html": [
       "<h3>Instructions:</h3>"
      ],
      "text/plain": [
       "<IPython.core.display.HTML object>"
      ]
     },
     "metadata": {},
     "output_type": "display_data"
    },
    {
     "data": {
      "text/html": [
       "<ol><li>Preheat the oven to hot (425F/220C/Gas 7)</li><li>Put a teaspoonful of oil or  dripping in each of several muffin tins or, to be truly Yorkshire, a couple of  tablespoonsful in a larger roasting tin and place in the oven until the fat is  really hot and beginning to smoke.  Meanwhile combine the rest of the  ingredients and beat to form a batter of the consistency of double cream.</li><li>If  you wish you can add mixed dried herbs to add a savoury flavour.</li><li>When the fat  is smoking take the tin out of the oven and place it over a low light so that it doesn't cool as you add the batter.</li><li>Pour in the batter If you're using muffin  tins don't over fill.</li><li>Remember that the puddings will rise and puff up.</li><li>Put  the tin back into the top of the oven as soon as possible and leave for about  20-25 minutes by which time they will be puffed up and crisp.</li><li>When my  grandmother used to make Yorkshire pudding to go with the Sunday  roast we would eat it in the true Yorkshire way.</li><li>That is, as a first course with just a  savoury gravy poured over it.  After all, the idea of Yorkshire pudding is to  fill you up so that you don't want so much of the more expensive meat!  If there was any of the pudding left over as a treat we  kids would have it as a desert  with Golden Syrup poured over it. Servings: 4 Ian Rice (Yorkshireman)</li></ol>"
      ],
      "text/plain": [
       "<IPython.core.display.HTML object>"
      ]
     },
     "metadata": {},
     "output_type": "display_data"
    },
    {
     "data": {
      "text/html": [
       "<h2>Zesty Fried Chicken</h2>"
      ],
      "text/plain": [
       "<IPython.core.display.HTML object>"
      ]
     },
     "metadata": {},
     "output_type": "display_data"
    },
    {
     "data": {
      "text/html": [
       "<img src=\"https://img.sndimg.com/food/image/upload/w_555,h_416,c_fit,fl_progressive,q_95/v1/img/recipes/74/7/picrfPgnB.jpg\" width=\"400\"/>"
      ],
      "text/plain": [
       "<IPython.core.display.Image object>"
      ]
     },
     "metadata": {},
     "output_type": "display_data"
    },
    {
     "data": {
      "text/html": [
       "<h3>Ingredients:</h3>"
      ],
      "text/plain": [
       "<IPython.core.display.HTML object>"
      ]
     },
     "metadata": {},
     "output_type": "display_data"
    },
    {
     "data": {
      "text/html": [
       "<ul><li>cornmeal: 2</li><li>paprika: 1</li><li>salt: 1/2</li><li>garlic powder: 1/2</li><li>pepper: 1/2</li><li>cumin: 1/4</li><li>boneless skinless chicken breast halves: 4</li></ul>"
      ],
      "text/plain": [
       "<IPython.core.display.HTML object>"
      ]
     },
     "metadata": {},
     "output_type": "display_data"
    },
    {
     "data": {
      "text/html": [
       "<h3>Instructions:</h3>"
      ],
      "text/plain": [
       "<IPython.core.display.HTML object>"
      ]
     },
     "metadata": {},
     "output_type": "display_data"
    },
    {
     "data": {
      "text/html": [
       "<ol><li>Combine cornmeal, paprika, salt, garlic, powder, pepper, and cumin in a shallow  dish or on a sheet of waxed paper.</li><li>Rinse chicken, do not pat dry; coat chicken  evenly on all sides with the cornmeal mixture.</li><li>Spray an unheated large skillet  with cooking spray.</li><li>Preheat skillet over medium high heat.</li><li>Add chicken; cook  for 8 to 10 minutes or until tender and no longer pink, turning occasionally to brown evenly on all sides.</li></ol>"
      ],
      "text/plain": [
       "<IPython.core.display.HTML object>"
      ]
     },
     "metadata": {},
     "output_type": "display_data"
    },
    {
     "data": {
      "text/html": [
       "<h2>Zucchini Lasagna (Lasagne) - Low Carb</h2>"
      ],
      "text/plain": [
       "<IPython.core.display.HTML object>"
      ]
     },
     "metadata": {},
     "output_type": "display_data"
    },
    {
     "data": {
      "text/html": [
       "<img src=\"https://img.sndimg.com/food/image/upload/w_555,h_416,c_fit,fl_progressive,q_95/v1/img/recipes/74/9/hctvbRoQFSW9CZ4FVcin_ZL%204%20-%20final_1.png\" width=\"400\"/>"
      ],
      "text/plain": [
       "<IPython.core.display.Image object>"
      ]
     },
     "metadata": {},
     "output_type": "display_data"
    },
    {
     "data": {
      "text/html": [
       "<h3>Ingredients:</h3>"
      ],
      "text/plain": [
       "<IPython.core.display.HTML object>"
      ]
     },
     "metadata": {},
     "output_type": "display_data"
    },
    {
     "data": {
      "text/html": [
       "<ul><li>zucchini: 2 1/2</li><li>lean ground beef: 1/2</li><li>onion: 1/4</li><li>tomatoes: 2</li><li>tomato paste: 1</li><li>garlic clove: 1</li><li>dried oregano: 1/2</li><li>dried basil: 1/2</li><li>dried thyme: 1/4</li><li>water: 1/4</li><li>pepper: 1/8</li><li>egg: 1</li><li>low fat cottage cheese: 3/4</li><li>mozzarella cheese: 1/2</li><li>flour: 1</li></ul>"
      ],
      "text/plain": [
       "<IPython.core.display.HTML object>"
      ]
     },
     "metadata": {},
     "output_type": "display_data"
    },
    {
     "data": {
      "text/html": [
       "<h3>Instructions:</h3>"
      ],
      "text/plain": [
       "<IPython.core.display.HTML object>"
      ]
     },
     "metadata": {},
     "output_type": "display_data"
    },
    {
     "data": {
      "text/html": [
       "<ol><li>Cook zucchini until tender, drain and set aside. Fry meat and onions until meat is brown and onions are tender; drain fat. Add next 8 ingredients and bring to a boil.</li><li>Reduce heat; simmer, uncovered 10 minutes or until reduced to 2 cups.</li><li>In small bowl slightly beat egg.</li><li>Add cottage cheese, half of shredded cheese and flour.</li><li>In (1 1/2-qt.) baking-roasting pan arrange half of the meat mixture. Top with half of the zucchini and all the cottage cheese mixture. Top with remaining meat and zucchini.</li><li>Bake uncovered at 375 degrees F for 30 minutes.</li><li>Sprinkle with remaining cheese. Bake 10 minutes longer.</li><li>Let stand 10 minutes before serving.</li></ol>"
      ],
      "text/plain": [
       "<IPython.core.display.HTML object>"
      ]
     },
     "metadata": {},
     "output_type": "display_data"
    },
    {
     "data": {
      "text/html": [
       "<h2>Tofu Lasagna</h2>"
      ],
      "text/plain": [
       "<IPython.core.display.HTML object>"
      ]
     },
     "metadata": {},
     "output_type": "display_data"
    },
    {
     "data": {
      "text/html": [
       "<h3>Ingredients:</h3>"
      ],
      "text/plain": [
       "<IPython.core.display.HTML object>"
      ]
     },
     "metadata": {},
     "output_type": "display_data"
    },
    {
     "data": {
      "text/html": [
       "<ul><li>butter: 1</li><li>fresh mushrooms: 1/4</li><li>garlic cloves: 1/2</li><li>salt: 3</li><li>pepper: 1/2</li><li>wheat germ: 1/8</li><li>tofu: 3</li><li>parmesan cheese: 1/2</li><li>mozzarella cheese: 1</li><li>fresh parsley: 1/4</li></ul>"
      ],
      "text/plain": [
       "<IPython.core.display.HTML object>"
      ]
     },
     "metadata": {},
     "output_type": "display_data"
    },
    {
     "data": {
      "text/html": [
       "<h3>Instructions:</h3>"
      ],
      "text/plain": [
       "<IPython.core.display.HTML object>"
      ]
     },
     "metadata": {},
     "output_type": "display_data"
    },
    {
     "data": {
      "text/html": [
       "<ol><li>Cook and drain lasagne noodles; set aside.</li><li>Melt butter in large skillet.  Add  mushrooms, garlic salt and pepper.  Cook until mushrooms are tender.</li><li>Stir in sauce and wheat germ; heat through.</li><li>Combine tofu and Parmesan cheese in a  bowl.</li><li>Combine mozzarella and parsley in another bowl.</li><li>In a 9x12-inch pan, layer half of each of the ingredients: noodles, tofu mixture, sauce and mozzarella  mixture.  Repeat.  Bake at 350°F for 45 minutes or until hot and bubbly.</li><li>Let stand for 15 minutes before cutting.</li></ol>"
      ],
      "text/plain": [
       "<IPython.core.display.HTML object>"
      ]
     },
     "metadata": {},
     "output_type": "display_data"
    },
    {
     "data": {
      "text/html": [
       "<h2>Tortilla Beef</h2>"
      ],
      "text/plain": [
       "<IPython.core.display.HTML object>"
      ]
     },
     "metadata": {},
     "output_type": "display_data"
    },
    {
     "data": {
      "text/html": [
       "<h3>Ingredients:</h3>"
      ],
      "text/plain": [
       "<IPython.core.display.HTML object>"
      ]
     },
     "metadata": {},
     "output_type": "display_data"
    },
    {
     "data": {
      "text/html": [
       "<ul><li>garlic: 2</li><li>salt: 2</li><li>pepper: 1</li><li>limes: 1/4</li><li>lemon juice: 2</li><li>onion: 1</li><li>carrot: 1</li><li>marjoram: 1</li><li>beef broth: 1/2</li><li>tomatoes: 1</li></ul>"
      ],
      "text/plain": [
       "<IPython.core.display.HTML object>"
      ]
     },
     "metadata": {},
     "output_type": "display_data"
    },
    {
     "data": {
      "text/html": [
       "<h3>Instructions:</h3>"
      ],
      "text/plain": [
       "<IPython.core.display.HTML object>"
      ]
     },
     "metadata": {},
     "output_type": "display_data"
    },
    {
     "data": {
      "text/html": [
       "<ol><li>Spread minced garlic on round steak and  sprinkle with salt, pepper and  lime  juice. Place in the slow cooker and add  remaining ingredients.</li><li>Set   cooker on  low and cook for 8 hours.</li><li>Meat  should be fork tender and shred  easily.</li><li>Fill  tortillas with favorite fillings and  meat.</li></ol>"
      ],
      "text/plain": [
       "<IPython.core.display.HTML object>"
      ]
     },
     "metadata": {},
     "output_type": "display_data"
    },
    {
     "data": {
      "text/html": [
       "<h2>Lots of Berries Pie</h2>"
      ],
      "text/plain": [
       "<IPython.core.display.HTML object>"
      ]
     },
     "metadata": {},
     "output_type": "display_data"
    },
    {
     "data": {
      "text/html": [
       "<h3>Ingredients:</h3>"
      ],
      "text/plain": [
       "<IPython.core.display.HTML object>"
      ]
     },
     "metadata": {},
     "output_type": "display_data"
    },
    {
     "data": {
      "text/html": [
       "<ul><li>sugar: 1</li><li>salt: 1</li><li>cornstarch: 1/4</li><li>cinnamon: 1/2</li><li>blueberries: 1</li><li>strawberry: 1</li><li>blackberry: 3/4</li><li>red raspberries: 3/4</li><li>water: 1/2</li><li>lemon juice: 2</li><li>butter: 2</li><li>margarine: 1</li></ul>"
      ],
      "text/plain": [
       "<IPython.core.display.HTML object>"
      ]
     },
     "metadata": {},
     "output_type": "display_data"
    },
    {
     "data": {
      "text/html": [
       "<h3>Instructions:</h3>"
      ],
      "text/plain": [
       "<IPython.core.display.HTML object>"
      ]
     },
     "metadata": {},
     "output_type": "display_data"
    },
    {
     "data": {
      "text/html": [
       "<ol><li>In a saucepan, combine sugar, salt, cornstarch, and cinnamon.</li><li>Stir in berries.</li><li>Add water and lemon juice.</li><li>Cook over medium heat just to the boiling point.</li><li>Pour into pie shell; dot with butter.</li><li>Top with lattice or full crust.</li><li>If using a full crust, cut slits in the top, brush with milk and sprinkle with sugar.</li><li>Bake in oven preheated to 350F for about 45 minutes or until the crust is golden.</li></ol>"
      ],
      "text/plain": [
       "<IPython.core.display.HTML object>"
      ]
     },
     "metadata": {},
     "output_type": "display_data"
    },
    {
     "data": {
      "text/html": [
       "<h2>Low-Fat Blueberry Grunt</h2>"
      ],
      "text/plain": [
       "<IPython.core.display.HTML object>"
      ]
     },
     "metadata": {},
     "output_type": "display_data"
    },
    {
     "data": {
      "text/html": [
       "<h3>Ingredients:</h3>"
      ],
      "text/plain": [
       "<IPython.core.display.HTML object>"
      ]
     },
     "metadata": {},
     "output_type": "display_data"
    },
    {
     "data": {
      "text/html": [
       "<ul><li>blueberries: 4</li><li>light brown sugar: 1</li><li>unbleached flour: 1</li><li>whole wheat pastry flour: 1/2</li><li>baking powder: 2</li><li>salt: 1/4</li><li>cinnamon: 1/2</li><li>nutmeg: 1/4</li><li>milk: 3/4</li></ul>"
      ],
      "text/plain": [
       "<IPython.core.display.HTML object>"
      ]
     },
     "metadata": {},
     "output_type": "display_data"
    },
    {
     "data": {
      "text/html": [
       "<h3>Instructions:</h3>"
      ],
      "text/plain": [
       "<IPython.core.display.HTML object>"
      ]
     },
     "metadata": {},
     "output_type": "display_data"
    },
    {
     "data": {
      "text/html": [
       "<ol><li>In large nonaluminum saucepan, combine berries and 1/2 cup brown sugar.</li><li>Cook over medium heat, stirring occasionally, until berries come to a boil.</li><li>Meanwhile, sift flours, baking powder, salt, remaining sugar, cinnamon and nutmeg into medium bowl.</li><li>Add milk, mixing just to moisten.</li><li>Drop dumplings by tablespoonfuls into boiling berries.</li><li>Cover with tight-fitting lid.</li><li>Lower heat slightly.</li><li>Cook without lifting lid, about 15 minutes.</li><li>To serve, using large spoon, transfer dumplings into bowl.</li><li>Surround with berries.</li><li>Break dumplings open with two forks.</li><li>Serve warm, topped with vanilla ice cream or nondairy frozen vanilla dessert.</li></ol>"
      ],
      "text/plain": [
       "<IPython.core.display.HTML object>"
      ]
     },
     "metadata": {},
     "output_type": "display_data"
    },
    {
     "data": {
      "text/html": [
       "<h2>Low-Fat Cauliflower Tomato Casserole</h2>"
      ],
      "text/plain": [
       "<IPython.core.display.HTML object>"
      ]
     },
     "metadata": {},
     "output_type": "display_data"
    },
    {
     "data": {
      "text/html": [
       "<img src=\"https://img.sndimg.com/food/image/upload/w_555,h_416,c_fit,fl_progressive,q_95/v1/img/recipes/77/7/picDl5GqH.jpg\" width=\"400\"/>"
      ],
      "text/plain": [
       "<IPython.core.display.Image object>"
      ]
     },
     "metadata": {},
     "output_type": "display_data"
    },
    {
     "data": {
      "text/html": [
       "<h3>Ingredients:</h3>"
      ],
      "text/plain": [
       "<IPython.core.display.HTML object>"
      ]
     },
     "metadata": {},
     "output_type": "display_data"
    },
    {
     "data": {
      "text/html": [
       "<ul><li>cauliflower floret: 1</li><li>tomatoes: 4</li><li>salt: 1/2</li><li>pepper: 1/4</li><li>parmesan cheese: 2</li><li>swiss cheese: 1/4</li><li>unsalted butter: 1/4</li></ul>"
      ],
      "text/plain": [
       "<IPython.core.display.HTML object>"
      ]
     },
     "metadata": {},
     "output_type": "display_data"
    },
    {
     "data": {
      "text/html": [
       "<h3>Instructions:</h3>"
      ],
      "text/plain": [
       "<IPython.core.display.HTML object>"
      ]
     },
     "metadata": {},
     "output_type": "display_data"
    },
    {
     "data": {
      "text/html": [
       "<ol><li>Preheat oven to 350F.</li><li>Place cauliflower in a steamer basket over boiling water.</li><li>Cover saucepan and steam 4-5 minutes or until cauliflower is almost tender.</li><li>Arrange cauliflower in a buttered shallow baking dish.</li><li>Arrange tomatoes over cauliflower.</li><li>Sprinkle with salt and pepper.</li><li>Combine cheeses in a bowl and sprinkle over cauliflower mixture. Sprinkle with breadcrumbs, drizzle with butter and bake 20-25 minutes or until top is golden.</li></ol>"
      ],
      "text/plain": [
       "<IPython.core.display.HTML object>"
      ]
     },
     "metadata": {},
     "output_type": "display_data"
    },
    {
     "data": {
      "text/html": [
       "<h2>Low-Fat Potatoes Romanoff</h2>"
      ],
      "text/plain": [
       "<IPython.core.display.HTML object>"
      ]
     },
     "metadata": {},
     "output_type": "display_data"
    },
    {
     "data": {
      "text/html": [
       "<h3>Ingredients:</h3>"
      ],
      "text/plain": [
       "<IPython.core.display.HTML object>"
      ]
     },
     "metadata": {},
     "output_type": "display_data"
    },
    {
     "data": {
      "text/html": [
       "<ul><li>potatoes: 4</li><li>butter: 1</li><li>low-fat sour cream: 1</li><li>green onions: 4</li><li>low-fat cheddar cheese: 1 1/4</li><li>salt: 1</li><li>pepper: 1</li></ul>"
      ],
      "text/plain": [
       "<IPython.core.display.HTML object>"
      ]
     },
     "metadata": {},
     "output_type": "display_data"
    },
    {
     "data": {
      "text/html": [
       "<h3>Instructions:</h3>"
      ],
      "text/plain": [
       "<IPython.core.display.HTML object>"
      ]
     },
     "metadata": {},
     "output_type": "display_data"
    },
    {
     "data": {
      "text/html": [
       "<ol><li>Boil potatoes until tender.</li><li>Mash with butter, sour cream, onions, 3/4 cup cheese, salt and pepper.</li><li>Turn mixture into buttered 1-1/2 quart casserole. Sprinkle with remaining cheese and paprika.</li><li>Bake uncovered at 350 degrees for 40 minutes.</li></ol>"
      ],
      "text/plain": [
       "<IPython.core.display.HTML object>"
      ]
     },
     "metadata": {},
     "output_type": "display_data"
    },
    {
     "data": {
      "text/html": [
       "<h2>Baked Fish with Lemon & Black Pepper</h2>"
      ],
      "text/plain": [
       "<IPython.core.display.HTML object>"
      ]
     },
     "metadata": {},
     "output_type": "display_data"
    },
    {
     "data": {
      "text/html": [
       "<img src=\"https://img.sndimg.com/food/image/upload/w_555,h_416,c_fit,fl_progressive,q_95/v1/img/recipes/82/5/picQ7PwNR.jpg\" width=\"400\"/>"
      ],
      "text/plain": [
       "<IPython.core.display.Image object>"
      ]
     },
     "metadata": {},
     "output_type": "display_data"
    },
    {
     "data": {
      "text/html": [
       "<h3>Ingredients:</h3>"
      ],
      "text/plain": [
       "<IPython.core.display.HTML object>"
      ]
     },
     "metadata": {},
     "output_type": "display_data"
    },
    {
     "data": {
      "text/html": [
       "<ul><li>salt: 1</li><li>turmeric: 1/2</li><li>cumin powder: 1/8</li><li>fresh black pepper: 1/2</li><li>garlic: 1/2</li><li>lemon juice: 1</li></ul>"
      ],
      "text/plain": [
       "<IPython.core.display.HTML object>"
      ]
     },
     "metadata": {},
     "output_type": "display_data"
    },
    {
     "data": {
      "text/html": [
       "<h3>Instructions:</h3>"
      ],
      "text/plain": [
       "<IPython.core.display.HTML object>"
      ]
     },
     "metadata": {},
     "output_type": "display_data"
    },
    {
     "data": {
      "text/html": [
       "<ol><li>Place fish fillets into a medium sized bowl and sprinkle with salt, turmeric, cumin, black pepper and garlic, tossing to coat well.</li><li>Cover and marinate for 50 - 60 minutes in the refrigerator.</li><li>Preheat oven to 400 degrees F.</li><li>Coat the bottom of an 8 x 8 inch baking dish with the vegetable oil.</li><li>Place the fish in a single layer inside the baking dish, and pour the marinade on top.</li><li>Bake uncovered for 20-25 minutes.</li><li>The fish should be firm to the touch.</li><li>Fish is done when it easily flakes with a fork.</li><li>Sprinkle with lemon juice 5 minutes before serving.</li></ol>"
      ],
      "text/plain": [
       "<IPython.core.display.HTML object>"
      ]
     },
     "metadata": {},
     "output_type": "display_data"
    },
    {
     "data": {
      "text/html": [
       "<h2>Best Hamburger Diane</h2>"
      ],
      "text/plain": [
       "<IPython.core.display.HTML object>"
      ]
     },
     "metadata": {},
     "output_type": "display_data"
    },
    {
     "data": {
      "text/html": [
       "<img src=\"https://img.sndimg.com/food/image/upload/w_555,h_416,c_fit,fl_progressive,q_95/v1/img/recipes/83/4/piclYN3AY.jpg\" width=\"400\"/>"
      ],
      "text/plain": [
       "<IPython.core.display.Image object>"
      ]
     },
     "metadata": {},
     "output_type": "display_data"
    },
    {
     "data": {
      "text/html": [
       "<h3>Ingredients:</h3>"
      ],
      "text/plain": [
       "<IPython.core.display.HTML object>"
      ]
     },
     "metadata": {},
     "output_type": "display_data"
    },
    {
     "data": {
      "text/html": [
       "<ul><li>salt: 1</li><li>pepper: 3/4</li><li>butter: 1/8</li><li>prepared mustard: 2</li><li>lemon juice: 1</li><li>Worcestershire sauce: 1</li></ul>"
      ],
      "text/plain": [
       "<IPython.core.display.HTML object>"
      ]
     },
     "metadata": {},
     "output_type": "display_data"
    },
    {
     "data": {
      "text/html": [
       "<h3>Instructions:</h3>"
      ],
      "text/plain": [
       "<IPython.core.display.HTML object>"
      ]
     },
     "metadata": {},
     "output_type": "display_data"
    },
    {
     "data": {
      "text/html": [
       "<ol><li>Mix the ground round, salt and pepper together lightly and form into 3 1-inch patties.</li><li>Melt butter in skillet.  Remove from heat.  Blend mustard into butter, return to heat.  Saute hamburgers on medium heat about 5 minutes each side.  Remove and keep warm.</li><li>Add lemon juice and Worcestershire sauce to pan and stir over low heat until well blended.</li><li>Return patties to pan and let simmer in juices a few minutes while spooning juice over the top occasionally.</li><li>Serve over toasted french bread.</li></ol>"
      ],
      "text/plain": [
       "<IPython.core.display.HTML object>"
      ]
     },
     "metadata": {},
     "output_type": "display_data"
    },
    {
     "data": {
      "text/html": [
       "<h2>Keftedakia</h2>"
      ],
      "text/plain": [
       "<IPython.core.display.HTML object>"
      ]
     },
     "metadata": {},
     "output_type": "display_data"
    },
    {
     "data": {
      "text/html": [
       "<h3>Ingredients:</h3>"
      ],
      "text/plain": [
       "<IPython.core.display.HTML object>"
      ]
     },
     "metadata": {},
     "output_type": "display_data"
    },
    {
     "data": {
      "text/html": [
       "<ul><li>olive oil: 2</li><li>onion: 1/4</li><li>turkey: 7</li><li>egg: 1/2</li><li>dried mint flakes: 1</li><li>garlic: 1</li><li>oregano: 1</li><li>salt: 1</li><li>black pepper: 1/2</li><li>all-purpose flour: 1</li></ul>"
      ],
      "text/plain": [
       "<IPython.core.display.HTML object>"
      ]
     },
     "metadata": {},
     "output_type": "display_data"
    },
    {
     "data": {
      "text/html": [
       "<h3>Instructions:</h3>"
      ],
      "text/plain": [
       "<IPython.core.display.HTML object>"
      ]
     },
     "metadata": {},
     "output_type": "display_data"
    },
    {
     "data": {
      "text/html": [
       "<ol><li>Pour Ouzo in a small bowl.</li><li>Tear bread into small pieces and soak in Ouzo 5 minutes.</li><li>In a skillet, over medium heat, saute onion in 3 tablespoons oil until translucent, about 5 minutes.</li><li>Remove from skillet with a slotted spoon and place in a large mixing bowl.</li><li>Squeeze bread dry, discarding Ouzo, and combine with onions.</li><li>Add in turkey, egg, mint, garlic, oregano, salt and pepper and mix well to combine. Form meat mixture into 1\\</li><li>,</li><li>Add remaining 4 tablespoons olive oil to a large skillet, over medium high heat, and saute meatballs until browned, about 8 - 10 minutes.</li></ol>"
      ],
      "text/plain": [
       "<IPython.core.display.HTML object>"
      ]
     },
     "metadata": {},
     "output_type": "display_data"
    },
    {
     "data": {
      "text/html": [
       "<h2>Kentucky Biscuits</h2>"
      ],
      "text/plain": [
       "<IPython.core.display.HTML object>"
      ]
     },
     "metadata": {},
     "output_type": "display_data"
    },
    {
     "data": {
      "text/html": [
       "<img src=\"https://img.sndimg.com/food/image/upload/w_555,h_416,c_fit,fl_progressive,q_95/v1/img/recipes/86/0/picfmTgeZ.jpg\" width=\"400\"/>"
      ],
      "text/plain": [
       "<IPython.core.display.Image object>"
      ]
     },
     "metadata": {},
     "output_type": "display_data"
    },
    {
     "data": {
      "text/html": [
       "<h3>Ingredients:</h3>"
      ],
      "text/plain": [
       "<IPython.core.display.HTML object>"
      ]
     },
     "metadata": {},
     "output_type": "display_data"
    },
    {
     "data": {
      "text/html": [
       "<ul><li>flour: 1 1/2</li><li>salt: 1 1/2</li><li>sugar: 1</li><li>baking powder: 1</li><li>milk: 2/3</li><li>vegetable shortening: 1/3</li></ul>"
      ],
      "text/plain": [
       "<IPython.core.display.HTML object>"
      ]
     },
     "metadata": {},
     "output_type": "display_data"
    },
    {
     "data": {
      "text/html": [
       "<h3>Instructions:</h3>"
      ],
      "text/plain": [
       "<IPython.core.display.HTML object>"
      ]
     },
     "metadata": {},
     "output_type": "display_data"
    },
    {
     "data": {
      "text/html": [
       "<ol><li>Preheat oven to 425.  Sift into mixing bowl flour, salt, sugar and baking powder.</li><li>Make a nest in the flour mix and add milk.</li><li>Add shortening and begin kneading with hands (to cut in) the vegetable shortening and flour in the milk until thoroughly mixed.</li><li>Add milk -  if needed - to form, and mix.</li><li>Turn onto floured board, and knead gently 6 to 8 times.</li><li>Pat dough to 1/2\\</li><li>,</li><li>,</li></ol>"
      ],
      "text/plain": [
       "<IPython.core.display.HTML object>"
      ]
     },
     "metadata": {},
     "output_type": "display_data"
    },
    {
     "data": {
      "text/html": [
       "<h2>Lentil-Bulghur Salad</h2>"
      ],
      "text/plain": [
       "<IPython.core.display.HTML object>"
      ]
     },
     "metadata": {},
     "output_type": "display_data"
    },
    {
     "data": {
      "text/html": [
       "<h3>Ingredients:</h3>"
      ],
      "text/plain": [
       "<IPython.core.display.HTML object>"
      ]
     },
     "metadata": {},
     "output_type": "display_data"
    },
    {
     "data": {
      "text/html": [
       "<ul><li>French lentils: 1</li><li>water: 3 1/2</li><li>Bulgar wheat: 1</li><li>walnut pieces: 3/4</li><li>extra virgin olive oil: 1/3</li><li>lemon juice: 2</li><li>garlic-flavored red wine vinegar: 2</li><li>garlic clove: 1</li><li>salt: 1</li><li>black pepper: 1/4</li><li>red bell pepper: 1</li><li>green bell pepper: 1</li><li>red onion: 1</li><li>celery: 2</li><li>radishes: 10</li><li>cucumber: 1/2</li><li>parsley: 10</li></ul>"
      ],
      "text/plain": [
       "<IPython.core.display.HTML object>"
      ]
     },
     "metadata": {},
     "output_type": "display_data"
    },
    {
     "data": {
      "text/html": [
       "<h3>Instructions:</h3>"
      ],
      "text/plain": [
       "<IPython.core.display.HTML object>"
      ]
     },
     "metadata": {},
     "output_type": "display_data"
    },
    {
     "data": {
      "text/html": [
       "<ol><li>Place lentils in a sieve, and rinse thoroughly.</li><li>Transfer lentils to sauce pan  with 2 1/2 cups water and bring to a boil.</li><li>Reduce heat to low and simmer for  30-45 minutes, until lentils are tender but not mushy.</li><li>Lentils should hold their shape.  While lentils are simmering, place the bulghur wheat in a bowl.</li><li>Boil the remaining cup of water and pour over the bulghur wheat. Cover and let stand  until all water has been absorbed, about 15 minutes.</li><li>Fluff bulghur wheat with a  fork.</li><li>When the lentils are done, pour off any remaining liquid and let the  lentils cool.</li><li>Heat an iron-cast skillet over high heat. Add walnut pieces and  stir them constantly with a wooden spoon until they begin to brown.</li><li>Turn off the heat and set aside.  In a small bowl, mix olive oil, lemon juice, vinegar,  garlic, and salt and pepper with a fork to make a dressing.</li><li>Place lentils in a  large bowl, preferably glass.</li><li>With a wooden spoon, carefully mix in the bulghur  wheat, followed by the chopped vegetables and the toasted walnuts.</li><li>Pour dressing evenly over the salad, and mix in with a fork.</li><li>Refrigerate salad at least one  hour to allow the flavors to blend.</li><li>Suggestions  French lentils are small, dark-green lentils that can be found in most health food stores.</li><li>If they are unavailable, substitute brown lentils.</li><li>Bulghur wheat can also be found in health food stores and ethnic groceries.</li><li>It comes in several different degrees of coarseness.</li><li>For this recipe, the finely cracked variety is preferred.</li></ol>"
      ],
      "text/plain": [
       "<IPython.core.display.HTML object>"
      ]
     },
     "metadata": {},
     "output_type": "display_data"
    },
    {
     "data": {
      "text/html": [
       "<h2>Mai Tai Dessert</h2>"
      ],
      "text/plain": [
       "<IPython.core.display.HTML object>"
      ]
     },
     "metadata": {},
     "output_type": "display_data"
    },
    {
     "data": {
      "text/html": [
       "<h3>Ingredients:</h3>"
      ],
      "text/plain": [
       "<IPython.core.display.HTML object>"
      ]
     },
     "metadata": {},
     "output_type": "display_data"
    },
    {
     "data": {
      "text/html": [
       "<ul><li>ladyfingers: 18</li><li>gelatin: 2</li><li>pineapple: 1/2</li><li>sugar: 5</li><li>salt: 3/4</li><li>milk: 1/4</li><li>lime juice: 1</li><li>white rum: 1/2</li><li>pineapple: 1/2</li><li>sugar: 1</li><li>heavy cream: 5</li></ul>"
      ],
      "text/plain": [
       "<IPython.core.display.HTML object>"
      ]
     },
     "metadata": {},
     "output_type": "display_data"
    },
    {
     "data": {
      "text/html": [
       "<h3>Instructions:</h3>"
      ],
      "text/plain": [
       "<IPython.core.display.HTML object>"
      ]
     },
     "metadata": {},
     "output_type": "display_data"
    },
    {
     "data": {
      "text/html": [
       "<ol><li>Line sides and bottom of 9 inch spring form pan with the split ladyfingers.</li><li>Soften gelatin in pineapple juice. Beat egg yolks in top of double boiler.</li><li>Stir in sugar and salt.  Blend in milk, cook over boiling water, stirring for 5 minutes or until well thickened.</li><li>Blend in gelatin mixture, lime juice and rum.</li><li>Add well drained pineapple.  Chill until thickened but not set.  Beat egg whites, gradually adding sugar.</li><li>Fold pineapple custard and whipped cream into egg whites.</li><li>Pour into spring form pan.</li><li>Chill several hours or overnight.  To serve, remove pan rim, sprinkle with nuts and add little puffs of whipped cream piped around the edge.</li></ol>"
      ],
      "text/plain": [
       "<IPython.core.display.HTML object>"
      ]
     },
     "metadata": {},
     "output_type": "display_data"
    },
    {
     "data": {
      "text/html": [
       "<h2>Barbecue Chicken</h2>"
      ],
      "text/plain": [
       "<IPython.core.display.HTML object>"
      ]
     },
     "metadata": {},
     "output_type": "display_data"
    },
    {
     "data": {
      "text/html": [
       "<h3>Ingredients:</h3>"
      ],
      "text/plain": [
       "<IPython.core.display.HTML object>"
      ]
     },
     "metadata": {},
     "output_type": "display_data"
    },
    {
     "data": {
      "text/html": [
       "<ul><li>chicken pieces: 2</li><li>onion: 3/4</li><li>tomato sauce: 1/3</li><li>nonfat plain yogurt: 1/3</li><li>fresh ginger: 3/4</li><li>garlic: 2</li><li>cayenne pepper: 1 1/4</li><li>cloves: 1/4</li><li>cumin seed: 1 1/4</li><li>cardamom pods: 3/4</li><li>salt: 2 3/4</li><li>garam masala: 3/4</li></ul>"
      ],
      "text/plain": [
       "<IPython.core.display.HTML object>"
      ]
     },
     "metadata": {},
     "output_type": "display_data"
    },
    {
     "data": {
      "text/html": [
       "<h3>Instructions:</h3>"
      ],
      "text/plain": [
       "<IPython.core.display.HTML object>"
      ]
     },
     "metadata": {},
     "output_type": "display_data"
    },
    {
     "data": {
      "text/html": [
       "<ol><li>Remove the skin and all visible fat from the chicken pieces.</li><li>Cut 2-3 slits, 1 inch long and 1/2 inch deep, in each piece of chicken.</li><li>Place in a casserole dish and set aside. Cut onion into 4-5 pieces.</li><li>In a blender jar put onion, tomato sauce, yogurt, ginger, garlic cloves, coriander, cayenne pepper, cloves, cumin seeds, cardamom pods, salt, garam masala and red food coloring.</li><li>Blend to a smooth paste. Pour the tandoori paste on the chicken and turn pieces to thoroughly coat with spices.</li><li>Cover with a lid or plastic wrap and marinate in the refrigerator 4-24 hours.</li><li>Preheat oven to 400 F.</li><li>Remove chicken pieces from the marinade, saving marinade. Arrange pieces in a broiler pan.</li><li>Bake uncovered in the middle of the oven for 30 minutes.</li><li>Turn pieces over and brush with remaining marinade. Bake for 10-15 minutes until chicken is tender.</li><li>Turn oven to broil.</li><li>Turn pieces over once again and broil for 5 minutes to get a nice red color.</li><li>Transfer to a serving platter.</li><li>Serve with lemon wedges or squeeze lemon juice over the chicken before eating, if desired.</li></ol>"
      ],
      "text/plain": [
       "<IPython.core.display.HTML object>"
      ]
     },
     "metadata": {},
     "output_type": "display_data"
    },
    {
     "data": {
      "text/html": [
       "<h2>Minestrone</h2>"
      ],
      "text/plain": [
       "<IPython.core.display.HTML object>"
      ]
     },
     "metadata": {},
     "output_type": "display_data"
    },
    {
     "data": {
      "text/html": [
       "<img src=\"https://img.sndimg.com/food/image/upload/w_555,h_416,c_fit,fl_progressive,q_95/v1/img/recipes/90/3/PkPzYfo5SeatSbQp4UyZ_minestrone-187.jpg\" width=\"400\"/>"
      ],
      "text/plain": [
       "<IPython.core.display.Image object>"
      ]
     },
     "metadata": {},
     "output_type": "display_data"
    },
    {
     "data": {
      "text/html": [
       "<h3>Ingredients:</h3>"
      ],
      "text/plain": [
       "<IPython.core.display.HTML object>"
      ]
     },
     "metadata": {},
     "output_type": "display_data"
    },
    {
     "data": {
      "text/html": [
       "<ul><li>olive oil: 1</li><li>garlic: 2</li><li>onion: 1</li><li>head of cabbage: 1/2</li><li>zucchini: 2</li><li>carrots: 2</li><li>celery: 2</li><li>whole tomatoes: 1</li><li>garbanzo beans: 1</li><li>kidney bean: 1</li><li>spinach: 1</li><li>chicken broth: 4</li><li>tomato juice: 46</li><li>dry white wine: 1</li><li>dried basil leaves: 1</li><li>oregano: 1/2</li><li>pepper: 1/4</li><li>pasta: 2</li></ul>"
      ],
      "text/plain": [
       "<IPython.core.display.HTML object>"
      ]
     },
     "metadata": {},
     "output_type": "display_data"
    },
    {
     "data": {
      "text/html": [
       "<h3>Instructions:</h3>"
      ],
      "text/plain": [
       "<IPython.core.display.HTML object>"
      ]
     },
     "metadata": {},
     "output_type": "display_data"
    },
    {
     "data": {
      "text/html": [
       "<ol><li>Heat oil in Dutch oven over medium heat.  Cook garlic and onion in oil about 2 minutes, stirring occasionally, until onion is tender.</li><li>Stir in remaining ingredients except cheese, breaking up tomatoes.</li><li>Heat to boiling; reduce heat.  Cover and simmer 1/2-hour.</li><li>Add pasta and cook an additional 1/2-hour.</li><li>Serve with Parmesan.</li></ol>"
      ],
      "text/plain": [
       "<IPython.core.display.HTML object>"
      ]
     },
     "metadata": {},
     "output_type": "display_data"
    },
    {
     "data": {
      "text/html": [
       "<h2>Momma's Fair Funnel Cake</h2>"
      ],
      "text/plain": [
       "<IPython.core.display.HTML object>"
      ]
     },
     "metadata": {},
     "output_type": "display_data"
    },
    {
     "data": {
      "text/html": [
       "<img src=\"https://img.sndimg.com/food/image/upload/w_555,h_416,c_fit,fl_progressive,q_95/v1/img/recipes/91/6/kSuqztTkTs29d5oiteGS_MFC%206%20process%20-%20funnel%20cake.jpg\" width=\"400\"/>"
      ],
      "text/plain": [
       "<IPython.core.display.Image object>"
      ]
     },
     "metadata": {},
     "output_type": "display_data"
    },
    {
     "data": {
      "text/html": [
       "<h3>Ingredients:</h3>"
      ],
      "text/plain": [
       "<IPython.core.display.HTML object>"
      ]
     },
     "metadata": {},
     "output_type": "display_data"
    },
    {
     "data": {
      "text/html": [
       "<ul><li>eggs: 3</li><li>sugar: 1/4</li><li>milk: 2</li><li>flour: 3 2/3</li><li>salt: 1/2</li><li>baking powder: 2</li></ul>"
      ],
      "text/plain": [
       "<IPython.core.display.HTML object>"
      ]
     },
     "metadata": {},
     "output_type": "display_data"
    },
    {
     "data": {
      "text/html": [
       "<h3>Instructions:</h3>"
      ],
      "text/plain": [
       "<IPython.core.display.HTML object>"
      ]
     },
     "metadata": {},
     "output_type": "display_data"
    },
    {
     "data": {
      "text/html": [
       "<ol><li>Beat eggs and sugar together and then add the milk slowly--beat. Add the dry ingredients and beat until smooth and creamy.</li><li>Pour batter into a funnel and at the same time, use your finger to plug the hole. In a large cast iron pot, add 2 inches of oil to the bottom.</li><li>When the oil becomes hot, move your hand over the pot and slowly release your finger so the batter can start cooking.</li><li>Move the funnel around to make designs.</li><li>Brown on both sides--then immediately remove and drain extremely well.</li><li>Top with  brown sugar, or honey, or cinnamon sugar, or powdered sugar as a topping.</li><li>BE CAREFUL AND DO NOT GET BURNED!</li></ol>"
      ],
      "text/plain": [
       "<IPython.core.display.HTML object>"
      ]
     },
     "metadata": {},
     "output_type": "display_data"
    },
    {
     "data": {
      "text/html": [
       "<h2>Onion Pie</h2>"
      ],
      "text/plain": [
       "<IPython.core.display.HTML object>"
      ]
     },
     "metadata": {},
     "output_type": "display_data"
    },
    {
     "data": {
      "text/html": [
       "<img src=\"https://img.sndimg.com/food/image/upload/w_555,h_416,c_fit,fl_progressive,q_95/v1/img/recipes/95/2/picpxMy3z.jpg\" width=\"400\"/>"
      ],
      "text/plain": [
       "<IPython.core.display.Image object>"
      ]
     },
     "metadata": {},
     "output_type": "display_data"
    },
    {
     "data": {
      "text/html": [
       "<h3>Ingredients:</h3>"
      ],
      "text/plain": [
       "<IPython.core.display.HTML object>"
      ]
     },
     "metadata": {},
     "output_type": "display_data"
    },
    {
     "data": {
      "text/html": [
       "<ul><li>onions: 6 -7</li><li>eggs: 3</li><li>flour: 1/2</li><li>salt: 1</li><li>caraway seed: 1</li><li>pepper: 2</li><li>milk: 1</li></ul>"
      ],
      "text/plain": [
       "<IPython.core.display.HTML object>"
      ]
     },
     "metadata": {},
     "output_type": "display_data"
    },
    {
     "data": {
      "text/html": [
       "<h3>Instructions:</h3>"
      ],
      "text/plain": [
       "<IPython.core.display.HTML object>"
      ]
     },
     "metadata": {},
     "output_type": "display_data"
    },
    {
     "data": {
      "text/html": [
       "<ol><li>Slice and saute the onions until cooked but not brown.</li><li>Combine all the other ingredients, then add the onions.</li><li>Bake in a plain pie shell at 350 degrees for about 1 hour.</li><li>If you try this and like it, please let me know.</li></ol>"
      ],
      "text/plain": [
       "<IPython.core.display.HTML object>"
      ]
     },
     "metadata": {},
     "output_type": "display_data"
    },
    {
     "data": {
      "text/html": [
       "<h2>Parmesan Parsley Potatoes</h2>"
      ],
      "text/plain": [
       "<IPython.core.display.HTML object>"
      ]
     },
     "metadata": {},
     "output_type": "display_data"
    },
    {
     "data": {
      "text/html": [
       "<h3>Ingredients:</h3>"
      ],
      "text/plain": [
       "<IPython.core.display.HTML object>"
      ]
     },
     "metadata": {},
     "output_type": "display_data"
    },
    {
     "data": {
      "text/html": [
       "<ul><li>baking potatoes: 3</li><li>fresh parmesan cheese: 1/2</li><li>all-purpose flour: 1/4</li><li>dried parsley: 2</li><li>salt: 1</li><li>pepper: 1</li><li>butter: 2</li></ul>"
      ],
      "text/plain": [
       "<IPython.core.display.HTML object>"
      ]
     },
     "metadata": {},
     "output_type": "display_data"
    },
    {
     "data": {
      "text/html": [
       "<h3>Instructions:</h3>"
      ],
      "text/plain": [
       "<IPython.core.display.HTML object>"
      ]
     },
     "metadata": {},
     "output_type": "display_data"
    },
    {
     "data": {
      "text/html": [
       "<ol><li>Preheat oven to 350 degrees.</li><li>Peel potatoes and starting at one end, slice into approximately one inch slices.</li><li>Melt butter in a glass baking dish.</li><li>Combine cheese, flour, salt and pepper into Ziploc plastic bag.</li><li>Put potatoes into bag and shake to coat. Put coated potatoes into prepared baking dish and bake 30 minutes.</li><li>Turn potatoes over and bake for an additional 20 to 25 minutes.</li></ol>"
      ],
      "text/plain": [
       "<IPython.core.display.HTML object>"
      ]
     },
     "metadata": {},
     "output_type": "display_data"
    },
    {
     "data": {
      "text/html": [
       "<h2>Basil Parmesan Biscuits</h2>"
      ],
      "text/plain": [
       "<IPython.core.display.HTML object>"
      ]
     },
     "metadata": {},
     "output_type": "display_data"
    },
    {
     "data": {
      "text/html": [
       "<img src=\"https://img.sndimg.com/food/image/upload/w_555,h_416,c_fit,fl_progressive,q_95/v1/img/recipes/97/5/pichPiiZK.jpg\" width=\"400\"/>"
      ],
      "text/plain": [
       "<IPython.core.display.Image object>"
      ]
     },
     "metadata": {},
     "output_type": "display_data"
    },
    {
     "data": {
      "text/html": [
       "<h3>Ingredients:</h3>"
      ],
      "text/plain": [
       "<IPython.core.display.HTML object>"
      ]
     },
     "metadata": {},
     "output_type": "display_data"
    },
    {
     "data": {
      "text/html": [
       "<ul><li>all-purpose flour: 1 1/2</li><li>whole wheat flour: 1/2</li><li>baking powder: 1 1/2</li><li>baking soda: 1 1/2</li><li>salt: 1/2</li><li>parmesan cheese: 2</li><li>parmesan cheese: 2</li><li>canola oil: 2</li><li>dried basil: 1</li><li>plain low-fat yogurt: 2</li><li>milk: 1</li></ul>"
      ],
      "text/plain": [
       "<IPython.core.display.HTML object>"
      ]
     },
     "metadata": {},
     "output_type": "display_data"
    },
    {
     "data": {
      "text/html": [
       "<h3>Instructions:</h3>"
      ],
      "text/plain": [
       "<IPython.core.display.HTML object>"
      ]
     },
     "metadata": {},
     "output_type": "display_data"
    },
    {
     "data": {
      "text/html": [
       "<ol><li>Preheat oven to 450.</li><li>In a large bowl, stir together the all-purpose flour, and  whole wheat flour, baking powder, baking soda, salt and 2 Tbsp of the cheese In  small skillet, heat 1 Tbsp of the oil over moderate heat.  Add the basil and  cook for 1 minutes; transfer to a small bowl and cool slightly.</li><li>Stir in the  yogurt, milk, and remaining 1 Tbsp of oil.</li><li>Add the basil mixture to the dry  ingredients and stir until just combined.</li><li>Place the dough on a well-floured  surface.  Using a lightly floured rolling pin, roll out the dough until 1/2\\</li><li>Using a 2 1/4\\</li><li>,</li><li>apart.  Sprinkle with the remaining 2 tsp of cheese and  bake for 12 to 15 minutes or until golden.</li><li>Serve warm.</li></ol>"
      ],
      "text/plain": [
       "<IPython.core.display.HTML object>"
      ]
     },
     "metadata": {},
     "output_type": "display_data"
    },
    {
     "data": {
      "text/html": [
       "<h2>Peppered Chicken With Creamy Sauce</h2>"
      ],
      "text/plain": [
       "<IPython.core.display.HTML object>"
      ]
     },
     "metadata": {},
     "output_type": "display_data"
    },
    {
     "data": {
      "text/html": [
       "<h3>Ingredients:</h3>"
      ],
      "text/plain": [
       "<IPython.core.display.HTML object>"
      ]
     },
     "metadata": {},
     "output_type": "display_data"
    },
    {
     "data": {
      "text/html": [
       "<ul><li>butter: 30</li><li>garlic clove: 1</li><li>chicken breast fillets: 4</li><li>cracked black pepper: 2</li><li>butter: 30</li><li>flour: 2</li><li>white wine: 1</li><li>marsala: 3/4</li></ul>"
      ],
      "text/plain": [
       "<IPython.core.display.HTML object>"
      ]
     },
     "metadata": {},
     "output_type": "display_data"
    },
    {
     "data": {
      "text/html": [
       "<h3>Instructions:</h3>"
      ],
      "text/plain": [
       "<IPython.core.display.HTML object>"
      ]
     },
     "metadata": {},
     "output_type": "display_data"
    },
    {
     "data": {
      "text/html": [
       "<ol><li>Combine butter and garlic in a small bowl, cook on HIGH for about 30 seconds or until butter is melted.</li><li>Brush the chicken with this mixture, then toss in peppercorns.</li><li>Place chicken in a single layer in a shallow dish.</li><li>Cook on HIGH for 3 minutes, turning the chicken during the cooking time. Melt extra butter in a small bowl on HIGH about 30 seconds, stir in flour, stock cube, cream, wine and marsala.</li><li>Pour over the chicken, cook on HIGH about 6 minutes or until sauce boils and thickens and the chicken is tender; turn chicken and stir sauce several during cooking time. Cheers,  Doreen Doreen Randal,  Wanganui.</li><li>New Zealand.</li></ol>"
      ],
      "text/plain": [
       "<IPython.core.display.HTML object>"
      ]
     },
     "metadata": {},
     "output_type": "display_data"
    },
    {
     "data": {
      "text/html": [
       "<h2>Bavarian Cream</h2>"
      ],
      "text/plain": [
       "<IPython.core.display.HTML object>"
      ]
     },
     "metadata": {},
     "output_type": "display_data"
    },
    {
     "data": {
      "text/html": [
       "<img src=\"https://img.sndimg.com/food/image/upload/w_555,h_416,c_fit,fl_progressive,q_95/v1/img/recipes/99/8/picB0hjKo.jpg\" width=\"400\"/>"
      ],
      "text/plain": [
       "<IPython.core.display.Image object>"
      ]
     },
     "metadata": {},
     "output_type": "display_data"
    },
    {
     "data": {
      "text/html": [
       "<h3>Ingredients:</h3>"
      ],
      "text/plain": [
       "<IPython.core.display.HTML object>"
      ]
     },
     "metadata": {},
     "output_type": "display_data"
    },
    {
     "data": {
      "text/html": [
       "<ul><li>sugar: 1/3</li><li>flour: 1</li><li>cornstarch: 1</li><li>salt: 1/4</li><li>milk: 1 1/2</li><li>egg: 1</li><li>vanilla: 1</li><li>heavy cream: 1/2</li></ul>"
      ],
      "text/plain": [
       "<IPython.core.display.HTML object>"
      ]
     },
     "metadata": {},
     "output_type": "display_data"
    },
    {
     "data": {
      "text/html": [
       "<h3>Instructions:</h3>"
      ],
      "text/plain": [
       "<IPython.core.display.HTML object>"
      ]
     },
     "metadata": {},
     "output_type": "display_data"
    },
    {
     "data": {
      "text/html": [
       "<ol><li>Combine sugar, flour, cornstarch and salt. Gradually stir in milk.</li><li>On med-high heat (turning down to med, if necessary), cook and stir until mixture thickens and boils.</li><li>Cook and stir 2-3 minute.</li><li>Stir a little of the hot mixture into egg yolk.</li><li>Stir egg mixture into the rest of the hot mixture and bring it just to boiling.</li><li>STIRRING CONSTANTLY.</li><li>Add vanilla.</li><li>cover entire surface with plastic wrap or waxed paper.</li><li>Cool.</li><li>beat smooth.</li><li>Fold in whipped cream.</li></ol>"
      ],
      "text/plain": [
       "<IPython.core.display.HTML object>"
      ]
     },
     "metadata": {},
     "output_type": "display_data"
    },
    {
     "data": {
      "text/html": [
       "<h2>Pizza</h2>"
      ],
      "text/plain": [
       "<IPython.core.display.HTML object>"
      ]
     },
     "metadata": {},
     "output_type": "display_data"
    },
    {
     "data": {
      "text/html": [
       "<h3>Ingredients:</h3>"
      ],
      "text/plain": [
       "<IPython.core.display.HTML object>"
      ]
     },
     "metadata": {},
     "output_type": "display_data"
    },
    {
     "data": {
      "text/html": [
       "<ul><li>onion: 1</li><li>olive oil: 3</li><li>garlic: 1</li><li>canned Italian tomatoes: 2</li><li>tomato paste: 1</li><li>oregano: 2</li><li>basil: 1</li><li>bay leaf: 1</li><li>sugar: 2</li><li>salt: 1</li><li>pepper: 1</li><li>mozzarella cheese: 16</li><li>water: 1</li><li>flour: 1 1/3</li><li>salt: 2</li></ul>"
      ],
      "text/plain": [
       "<IPython.core.display.HTML object>"
      ]
     },
     "metadata": {},
     "output_type": "display_data"
    },
    {
     "data": {
      "text/html": [
       "<h3>Instructions:</h3>"
      ],
      "text/plain": [
       "<IPython.core.display.HTML object>"
      ]
     },
     "metadata": {},
     "output_type": "display_data"
    },
    {
     "data": {
      "text/html": [
       "<ol><li>Cook onion in oil until soft; add garlic and cook 2 minutes longer.</li><li>Add undrained, sliced tomatoes and their liquid, tomato paste, oregano, basil, bay leaf, sugar, 1 Tbsp salt and dash pepper.</li><li>Bring to boil, reduce heat and simmer uncovered 1 hour.</li><li>Remove bay leaf before pureeing.</li><li>For dough, dissolve yeast in lukewarm water and add oil.</li><li>Sift together flour and 1 teaspoons salt into a bowl and add yeast mixture.</li><li>Knead about 10 minutes.</li><li>Divide dough in half.</li><li>Cover each piece of dough and let rise 2 hours.</li><li>Stretch dough into pizza pan.</li><li>Top with sauce, mozzarella, grated Parmesan, and toppings of your choice.</li><li>Bake at 450 degrees Fahrenheit for 10 to 12 minutes.</li></ol>"
      ],
      "text/plain": [
       "<IPython.core.display.HTML object>"
      ]
     },
     "metadata": {},
     "output_type": "display_data"
    },
    {
     "data": {
      "text/html": [
       "<h2>Potato-Plum Dumplings</h2>"
      ],
      "text/plain": [
       "<IPython.core.display.HTML object>"
      ]
     },
     "metadata": {},
     "output_type": "display_data"
    },
    {
     "data": {
      "text/html": [
       "<img src=\"https://img.sndimg.com/food/image/upload/w_555,h_416,c_fit,fl_progressive,q_95/v1/img/recipes/10/24/pic5euyiu.jpg\" width=\"400\"/>"
      ],
      "text/plain": [
       "<IPython.core.display.Image object>"
      ]
     },
     "metadata": {},
     "output_type": "display_data"
    },
    {
     "data": {
      "text/html": [
       "<h3>Ingredients:</h3>"
      ],
      "text/plain": [
       "<IPython.core.display.HTML object>"
      ]
     },
     "metadata": {},
     "output_type": "display_data"
    },
    {
     "data": {
      "text/html": [
       "<ul><li>potatoes: 4</li><li>salt: 1/2</li><li>eggs: 2</li><li>butter: 1</li><li>butter: 1/2</li><li>flour: 1</li><li>farina: 1/4</li><li>sweet plums: 14</li></ul>"
      ],
      "text/plain": [
       "<IPython.core.display.HTML object>"
      ]
     },
     "metadata": {},
     "output_type": "display_data"
    },
    {
     "data": {
      "text/html": [
       "<h3>Instructions:</h3>"
      ],
      "text/plain": [
       "<IPython.core.display.HTML object>"
      ]
     },
     "metadata": {},
     "output_type": "display_data"
    },
    {
     "data": {
      "text/html": [
       "<ol><li>Scrub potatoes well but do not peel.</li><li>In a saucepan combine potatoes and water  to cover and bring to a boil.</li><li>Cook until potatoes are tender when pierced with a fork (about 40 minutes); drain.</li><li>When potatoes are cool enough to handle, peel  and, while still warm, press through a potato ricer into a large mixing bowl.</li><li>Let cool.</li><li>Add salt, eggs, and the 1 tablespoon butter to potatoes and mix well.</li><li>Gradually mix in the 1 cup flour and farina until dough is easy to work, adding  more flour if it is too wet. Turn dough out onto a floured board and knead well  until smooth and fairly soft (5 to 10 minutes). With your hands form dough into  a large sausage-shaped roll.</li><li>Cut roll into 12 to 16 equal pieces.</li><li>Cut open plums and remove pits.</li><li>Replace each pit with a sugar cube and re-form plum.</li><li>With a floured rolling pin, roll out each dough piece into a 3-inch square 1/4 to 1/3 inch thick.</li><li>Place 1 plum in center of each square. Bring up corners  of square to enclose plum completely; no part of plum must be exposed.</li><li>Pinch  dough edges together firmly so that dumpling doesn't break open during cooking.</li><li>Meanwhile, fill a large saucepan with water and bring to a boil over high heat. Drop in dumplings, being careful not to crowd pan, and boil gently, stirring  occasionally.</li><li>Do not boil too hard or dumplings may split open.</li><li>Once dumplings  rise to surface, cook until tender (5 to 10 minutes total cooking time,  depending on intensity of boil). With a slotted utensil carefully remove  dumplings one at a time to a heated bowl; cover tightly to keep warm.</li><li>Repeat  with remaining dumplings.While dumplings are cooking melt the 1/2 cup butter in  a small skillet over medium heat. Add bread crumbs and cook, stirring, until  browned.</li><li>Turn out onto a flat plate. Roll hot dumplings in browned bread crumbs  to coat completely and serve immediately.</li><li>Variations:  Potato Noodles - Omit plums and sugar cubes.</li><li>Prepare dough as directed, but  roll with your palms to form 2 or more sausage-shaped rolls about 1/2 inch in  diameter.</li><li>Cut rolls into 2-inch lengths.</li><li>Fill a large saucepan with salted water and bring to a boil over high heat.  Drop in noodles and cook until tender (5 to 10 minutes).  Drain and roll in breads crumbs as directed for dumplings.</li><li>Dessert Potato Noodles Prepare Potato Noodles and roll in bread crumbs as  directed.</li><li>Sprinkle with ground cinnamon and sugar to taste.  Yield: 14  servings.</li></ol>"
      ],
      "text/plain": [
       "<IPython.core.display.HTML object>"
      ]
     },
     "metadata": {},
     "output_type": "display_data"
    },
    {
     "data": {
      "text/html": [
       "<h2>Great Northern Bean, Ham and  Vegetable Chowder</h2>"
      ],
      "text/plain": [
       "<IPython.core.display.HTML object>"
      ]
     },
     "metadata": {},
     "output_type": "display_data"
    },
    {
     "data": {
      "text/html": [
       "<img src=\"https://img.sndimg.com/food/image/upload/w_555,h_416,c_fit,fl_progressive,q_95/v1/img/recipes/10/31/picCUcQnI.jpg\" width=\"400\"/>"
      ],
      "text/plain": [
       "<IPython.core.display.Image object>"
      ]
     },
     "metadata": {},
     "output_type": "display_data"
    },
    {
     "data": {
      "text/html": [
       "<h3>Ingredients:</h3>"
      ],
      "text/plain": [
       "<IPython.core.display.HTML object>"
      ]
     },
     "metadata": {},
     "output_type": "display_data"
    },
    {
     "data": {
      "text/html": [
       "<ul><li>dry white bean: 1</li><li>ham hocks: 2</li><li>ham: 1</li><li>onion: 1</li><li>carrot: 1/2</li><li>green pepper: 1</li><li>sugar: 1/2</li><li>salt: 1/4</li><li>cayenne pepper: 1/2</li><li>mace: 1</li></ul>"
      ],
      "text/plain": [
       "<IPython.core.display.HTML object>"
      ]
     },
     "metadata": {},
     "output_type": "display_data"
    },
    {
     "data": {
      "text/html": [
       "<h3>Instructions:</h3>"
      ],
      "text/plain": [
       "<IPython.core.display.HTML object>"
      ]
     },
     "metadata": {},
     "output_type": "display_data"
    },
    {
     "data": {
      "text/html": [
       "<ol><li>Soak beans overnight in water to cover by 2 inches.</li><li>Drain beans.</li><li>Add water to cover beans by 1 inch.</li><li>Cook beans with ham hocks (I use a  ham bone with some meat) for at least 2 hours on low heat.  Remove ham  bone from beans and let cool.</li><li>Add all other ingredients.</li><li>Remove ham from  the bone and return ham to the bean mixture.  Cook until vegetables are  tender, about 30 minutes to 1 hour.</li><li>Freezes well.</li><li>Note:  I submitted this to a family cookbook and it is the recipe that  \\</li><li>loves.</li></ol>"
      ],
      "text/plain": [
       "<IPython.core.display.HTML object>"
      ]
     },
     "metadata": {},
     "output_type": "display_data"
    },
    {
     "data": {
      "text/html": [
       "<h2>Beef & Pork Meatloaf & Onion Gravy</h2>"
      ],
      "text/plain": [
       "<IPython.core.display.HTML object>"
      ]
     },
     "metadata": {},
     "output_type": "display_data"
    },
    {
     "data": {
      "text/html": [
       "<img src=\"https://img.sndimg.com/food/image/upload/w_555,h_416,c_fit,fl_progressive,q_95/v1/img/recipes/10/42/aiRoJdSRpKJpIXMyGFmB_14189592101861453484754.jpg\" width=\"400\"/>"
      ],
      "text/plain": [
       "<IPython.core.display.Image object>"
      ]
     },
     "metadata": {},
     "output_type": "display_data"
    },
    {
     "data": {
      "text/html": [
       "<h3>Ingredients:</h3>"
      ],
      "text/plain": [
       "<IPython.core.display.HTML object>"
      ]
     },
     "metadata": {},
     "output_type": "display_data"
    },
    {
     "data": {
      "text/html": [
       "<ul><li>lean beef: 2</li><li>egg: 1</li><li>parsley: 1</li><li>onion: 1</li><li>garlic: 3</li><li>celery: 1</li><li>thyme: 3</li><li>pepper: 1</li><li>salt: 1/2</li><li>onion: 1/2</li><li>butter: 1 1/2</li><li>flour: 1/2</li><li>parsley: 3</li><li>dry red wine: 3</li></ul>"
      ],
      "text/plain": [
       "<IPython.core.display.HTML object>"
      ]
     },
     "metadata": {},
     "output_type": "display_data"
    },
    {
     "data": {
      "text/html": [
       "<h3>Instructions:</h3>"
      ],
      "text/plain": [
       "<IPython.core.display.HTML object>"
      ]
     },
     "metadata": {},
     "output_type": "display_data"
    },
    {
     "data": {
      "text/html": [
       "<ol><li>Preheat oven to 350 F.</li><li>Mix all ingredients together.</li><li>Shape into a loaf pan.</li><li>Bake for 1 1/2 hours.</li><li>If desired, spoon onion gravy over baked meatloaf  slices.</li><li>Onion Gravy Makes About 2 cups While this sauce was designed to be served on our Beef and Pork Meatloaf, it  is amazingly versatile. Try it on mashed or baked potatoes, pork chops, steak  or whatever! Use your imagination.</li><li>Saute onion in butter for about 3-5 minutes, or until slightly browned.</li><li>Stir  in flour and add remaining ingredients.</li><li>Simmer for 3-5 minutes, stirring  constantly.</li></ol>"
      ],
      "text/plain": [
       "<IPython.core.display.HTML object>"
      ]
     },
     "metadata": {},
     "output_type": "display_data"
    },
    {
     "data": {
      "text/html": [
       "<h2>Raised Waffles</h2>"
      ],
      "text/plain": [
       "<IPython.core.display.HTML object>"
      ]
     },
     "metadata": {},
     "output_type": "display_data"
    },
    {
     "data": {
      "text/html": [
       "<h3>Ingredients:</h3>"
      ],
      "text/plain": [
       "<IPython.core.display.HTML object>"
      ]
     },
     "metadata": {},
     "output_type": "display_data"
    },
    {
     "data": {
      "text/html": [
       "<ul><li>water: 3/4</li><li>active dry yeast: 1 1/2</li><li>granulated sugar: 1 1/4</li><li>water: 2 1/2</li><li>butter: 1 1/4</li><li>salt: 3/4</li><li>flour: 1 1/4</li><li>eggs: 3</li><li>baking soda: 3</li><li>pure maple syrup: 1/2</li></ul>"
      ],
      "text/plain": [
       "<IPython.core.display.HTML object>"
      ]
     },
     "metadata": {},
     "output_type": "display_data"
    },
    {
     "data": {
      "text/html": [
       "<h3>Instructions:</h3>"
      ],
      "text/plain": [
       "<IPython.core.display.HTML object>"
      ]
     },
     "metadata": {},
     "output_type": "display_data"
    },
    {
     "data": {
      "text/html": [
       "<ol><li>* Flour may be any of or any combination of white, whole wheat, rye, oat, buckwheat, yellow cornmeal, or blue cornmeal.</li><li>Put the 3/4 cup water into a large bowl and  sprinkle in the yeast and sugar.  Let dissolve for  5 minutes.</li><li>Add the 2 1/2 cups water, the milk, butter, salt,  and flour(s) to the yeast mixture and whisk until smooth and blended.</li><li>Cover the  bowl with plastic wrap and let stand overnight at room  temperature. (The  batter will rise to double its  original volume.)  Before baking the waffles,  beat in the eggs, then add the baking soda and stir until well combined.</li><li>(The  batter will be thin.)  Pour 1/2 to 3/4 cup batter into a very hot waffle iron and  bake until golden and crisp.  Serve immediately with the warm syrup.</li><li>Variation:  Top with fresh strawberries and whipped cream or sliced bananas, toasted coconut, and sliced roasted almonds.  Dust with confectioner's  sugar.</li></ol>"
      ],
      "text/plain": [
       "<IPython.core.display.HTML object>"
      ]
     },
     "metadata": {},
     "output_type": "display_data"
    },
    {
     "data": {
      "text/html": [
       "<h2>Raisin Cream Pie</h2>"
      ],
      "text/plain": [
       "<IPython.core.display.HTML object>"
      ]
     },
     "metadata": {},
     "output_type": "display_data"
    },
    {
     "data": {
      "text/html": [
       "<h3>Ingredients:</h3>"
      ],
      "text/plain": [
       "<IPython.core.display.HTML object>"
      ]
     },
     "metadata": {},
     "output_type": "display_data"
    },
    {
     "data": {
      "text/html": [
       "<ul><li>raisins: 1 1/2</li><li>water: 2</li><li>eggs: 3</li><li>sugar: 1</li><li>vinegar: 2</li><li>flour: 2</li><li>butter: 2</li><li>cream of tartar: 3</li><li>salt: 1/4</li><li>vanilla: 1/4</li><li>sugar: 1/2</li></ul>"
      ],
      "text/plain": [
       "<IPython.core.display.HTML object>"
      ]
     },
     "metadata": {},
     "output_type": "display_data"
    },
    {
     "data": {
      "text/html": [
       "<h3>Instructions:</h3>"
      ],
      "text/plain": [
       "<IPython.core.display.HTML object>"
      ]
     },
     "metadata": {},
     "output_type": "display_data"
    },
    {
     "data": {
      "text/html": [
       "<ol><li>Add raisins to water in saucepan and simmer 5 minutes.</li><li>Beat egg yolks, sugar, vinegar and flour until light and creamy.</li><li>Slowly add to raisins.</li><li>Cook, stirring constantly, until filling is thick, 4 to 5 minutes.</li><li>Remove from heat, stir in butter and cool until lukewarm.</li><li>Pour raisin mixture into pie shell and top with meringue.</li><li>Perfect Meringue.</li><li>Have egg whites at room temperature to obtain greatest volume. Place in medium bowl with cream of tartar, salt and vanilla.</li><li>Beat with electric or hand beater, at medium speed, until entire mixture is frothy.</li><li>Do not beat until eggs stiffen.</li><li>Add sugar, a little at a time, beating well after each addition.</li><li>Do not under beat. Beat until sugar dissolves to help prevent beading.</li><li>To test, rub some of meringue between your fingers to see if it is still grainy.</li><li>(The grains are undissolved sugar) Continue to beat until stiff, pointed peaks for when beater is slowly lifted.</li><li>Place spoonfuls of meringue around edge of pie filling, spreading it so it touches inter edge of crust to seal all around.</li><li>This prevents shrinkage. Pile remainder of meringue in center of pie and spread to meet meringue around the edge. If filling is not covered completely, the oven heat may cause it to weep.</li><li>Lift up meringue over pie in points with back of teaspoon.</li><li>Bake in moderate oven (350 F) 12 to 15 minutes, or until meringue peaks are golden brown.</li><li>Too long baking may cause weeping.</li><li>Cool gradually away from drafts.</li></ol>"
      ],
      "text/plain": [
       "<IPython.core.display.HTML object>"
      ]
     },
     "metadata": {},
     "output_type": "display_data"
    },
    {
     "data": {
      "text/html": [
       "<h2>Sour Cream Raisin Pie</h2>"
      ],
      "text/plain": [
       "<IPython.core.display.HTML object>"
      ]
     },
     "metadata": {},
     "output_type": "display_data"
    },
    {
     "data": {
      "text/html": [
       "<img src=\"https://img.sndimg.com/food/image/upload/w_555,h_416,c_fit,fl_progressive,q_95/v1/img/recipes/10/48/picaSYVsu.jpg\" width=\"400\"/>"
      ],
      "text/plain": [
       "<IPython.core.display.Image object>"
      ]
     },
     "metadata": {},
     "output_type": "display_data"
    },
    {
     "data": {
      "text/html": [
       "<h3>Ingredients:</h3>"
      ],
      "text/plain": [
       "<IPython.core.display.HTML object>"
      ]
     },
     "metadata": {},
     "output_type": "display_data"
    },
    {
     "data": {
      "text/html": [
       "<ul><li>sugar: 2</li><li>flour: 2</li><li>cinnamon: 1/2</li><li>allspice: 1/2</li><li>clove: 1/2</li><li>sour cream: 2</li><li>raisins: 2</li><li>vinegar: 6</li><li>baking soda: 1</li><li>salt: 1</li></ul>"
      ],
      "text/plain": [
       "<IPython.core.display.HTML object>"
      ]
     },
     "metadata": {},
     "output_type": "display_data"
    },
    {
     "data": {
      "text/html": [
       "<h3>Instructions:</h3>"
      ],
      "text/plain": [
       "<IPython.core.display.HTML object>"
      ]
     },
     "metadata": {},
     "output_type": "display_data"
    },
    {
     "data": {
      "text/html": [
       "<ol><li>Cook all filling ingredients in sauce pan on top of stove until mixture thickens and foam disappears.</li><li>Use a large pan for this as the vinegar and soda will foam up.</li><li>Turn into unbaked pie crust and top with second crust.</li><li>Brush top with milk and cut slits to vent.</li><li>Bake at 425 degrees for 20 min and then reduce oven temp to 350 degrees and bake for another 20 to 30 minutes or until brown.</li></ol>"
      ],
      "text/plain": [
       "<IPython.core.display.HTML object>"
      ]
     },
     "metadata": {},
     "output_type": "display_data"
    },
    {
     "data": {
      "text/html": [
       "<h2>Red Pepper Spoon Bread</h2>"
      ],
      "text/plain": [
       "<IPython.core.display.HTML object>"
      ]
     },
     "metadata": {},
     "output_type": "display_data"
    },
    {
     "data": {
      "text/html": [
       "<h3>Ingredients:</h3>"
      ],
      "text/plain": [
       "<IPython.core.display.HTML object>"
      ]
     },
     "metadata": {},
     "output_type": "display_data"
    },
    {
     "data": {
      "text/html": [
       "<ul><li>low sodium chicken broth: 1 1/2</li><li>skim milk: 1 1/2</li><li>sugar: 1</li><li>salt: 1/2</li><li>cornmeal: 1</li><li>unsalted butter: 4</li><li>cayenne pepper: 1/8</li><li>nutmeg: 1/8</li><li>yellow onion: 3/4</li><li>frozen corn kernels: 1/2</li><li>eggs: 1</li><li>baking powder: 2</li></ul>"
      ],
      "text/plain": [
       "<IPython.core.display.HTML object>"
      ]
     },
     "metadata": {},
     "output_type": "display_data"
    },
    {
     "data": {
      "text/html": [
       "<h3>Instructions:</h3>"
      ],
      "text/plain": [
       "<IPython.core.display.HTML object>"
      ]
     },
     "metadata": {},
     "output_type": "display_data"
    },
    {
     "data": {
      "text/html": [
       "<ol><li>Preheat oven to 350.</li><li>Spray a 1 quart baking dish with cooking spray.</li><li>In a  medium size saucepan, stir together the broth, milk, sugar, salt and cornmeal,  then bring to a boil over moderate heat.  Add 2 tsp of the butter and cook the  mixture over low heat, whisking occasionally, for 5 minutes.</li><li>Transfer to a  large bowl and stir in the cayenne pepper and nutmeg.</li><li>In a nonstick skillet, cook the sweet red pepper and onion in the remaining 2  tsp of butter over moderate heat for 3 minutes or until softened, stirring  occasionally; add the corn and cook the mixture, stirring, 1 minute more.  Stir  into the cornmeal mixture.  In a small bowl, whisk the egg yolks with the baking powder, then stir them into the cornmeal mixture. Beat the egg whites until stiff but not dry.</li><li>Stir 1/4 of the whites into  cornmeal mixture, then gently fold in the rest.  Pour the mixture into the  prepared baking dish and bake for 40 minutes or until puffed, then broil 4\\</li><li>,</li></ol>"
      ],
      "text/plain": [
       "<IPython.core.display.HTML object>"
      ]
     },
     "metadata": {},
     "output_type": "display_data"
    },
    {
     "data": {
      "text/html": [
       "<h2>Salsa</h2>"
      ],
      "text/plain": [
       "<IPython.core.display.HTML object>"
      ]
     },
     "metadata": {},
     "output_type": "display_data"
    },
    {
     "data": {
      "text/html": [
       "<img src=\"https://img.sndimg.com/food/image/upload/w_555,h_416,c_fit,fl_progressive,q_95/v1/img/recipes/10/78/WG9Bq6c0QQSOQNFyxoLm_salsa SITE-2.jpg\" width=\"400\"/>"
      ],
      "text/plain": [
       "<IPython.core.display.Image object>"
      ]
     },
     "metadata": {},
     "output_type": "display_data"
    },
    {
     "data": {
      "text/html": [
       "<h3>Ingredients:</h3>"
      ],
      "text/plain": [
       "<IPython.core.display.HTML object>"
      ]
     },
     "metadata": {},
     "output_type": "display_data"
    },
    {
     "data": {
      "text/html": [
       "<ul><li>tomatoes: 2</li><li>sweet onion: 1/2</li><li>cilantro: 1 -3</li><li>garlic: 2</li><li>lime juice: 1</li><li>olive oil: 2</li><li>salt: 1</li><li>cumin: 3/4</li><li>black pepper: 1/2</li></ul>"
      ],
      "text/plain": [
       "<IPython.core.display.HTML object>"
      ]
     },
     "metadata": {},
     "output_type": "display_data"
    },
    {
     "data": {
      "text/html": [
       "<h3>Instructions:</h3>"
      ],
      "text/plain": [
       "<IPython.core.display.HTML object>"
      ]
     },
     "metadata": {},
     "output_type": "display_data"
    },
    {
     "data": {
      "text/html": [
       "<ol><li>Combine all the ingredients and chill for 2 hours before serving with chips.</li><li>The Cilantro is very important to this dish.</li></ol>"
      ],
      "text/plain": [
       "<IPython.core.display.HTML object>"
      ]
     },
     "metadata": {},
     "output_type": "display_data"
    },
    {
     "data": {
      "text/html": [
       "<h2>Scottish Scones</h2>"
      ],
      "text/plain": [
       "<IPython.core.display.HTML object>"
      ]
     },
     "metadata": {},
     "output_type": "display_data"
    },
    {
     "data": {
      "text/html": [
       "<h3>Ingredients:</h3>"
      ],
      "text/plain": [
       "<IPython.core.display.HTML object>"
      ]
     },
     "metadata": {},
     "output_type": "display_data"
    },
    {
     "data": {
      "text/html": [
       "<ul><li>flour: 1 1/2</li><li>rolled oats: 3/4</li><li>brown sugar: 1/4</li><li>baking powder: 2</li><li>salt: 1/2</li><li>cinnamon: 1/2</li><li>butter: 1/2</li><li>margarine: 1/2</li><li>milk: 1</li><li>butter: 1</li><li>margarine: 1/4</li></ul>"
      ],
      "text/plain": [
       "<IPython.core.display.HTML object>"
      ]
     },
     "metadata": {},
     "output_type": "display_data"
    },
    {
     "data": {
      "text/html": [
       "<h3>Instructions:</h3>"
      ],
      "text/plain": [
       "<IPython.core.display.HTML object>"
      ]
     },
     "metadata": {},
     "output_type": "display_data"
    },
    {
     "data": {
      "text/html": [
       "<ol><li>Heat oven to 375 degrees.</li><li>Lightly grease cookie sheet. In med.</li><li>bowl, combine  flour, oats, brown sugar, baking powder, salt and cinnamon; mix well.</li><li>With  pastry blender or fork, cut in butter until mixture is crumbly.</li><li>Add milk all at  once; stir just until dry ingredients are moistened.</li><li>On floured surface, gently  knead dough 5 or 6 times.</li><li>Place on greased cookie sheet; press into a 6\\</li><li>thick.</li><li>Brush top with melted butter.</li><li>In small bowl, combine sugar and  cinnamon; mix well.</li><li>Sprinkle over top.</li><li>Cut into 8 wedges; separate slightly.</li><li>Bake for 20-30 minute.</li><li>or until golden brown.</li><li>Serve warm.</li></ol>"
      ],
      "text/plain": [
       "<IPython.core.display.HTML object>"
      ]
     },
     "metadata": {},
     "output_type": "display_data"
    },
    {
     "data": {
      "text/html": [
       "<h2>Spicy Cherry Glazed Chicken</h2>"
      ],
      "text/plain": [
       "<IPython.core.display.HTML object>"
      ]
     },
     "metadata": {},
     "output_type": "display_data"
    },
    {
     "data": {
      "text/html": [
       "<h3>Ingredients:</h3>"
      ],
      "text/plain": [
       "<IPython.core.display.HTML object>"
      ]
     },
     "metadata": {},
     "output_type": "display_data"
    },
    {
     "data": {
      "text/html": [
       "<ul><li>olive oil: 1</li><li>skinless chicken thighs: 6</li><li>honey: 3/4</li><li>salt: 1/4</li><li>cinnamon: 1</li><li>red pepper flakes: 1/2</li><li>allspice: 1/2</li><li>dried cherries: 1/4</li><li>water: 1/2</li><li>cornstarch: 1/2</li></ul>"
      ],
      "text/plain": [
       "<IPython.core.display.HTML object>"
      ]
     },
     "metadata": {},
     "output_type": "display_data"
    },
    {
     "data": {
      "text/html": [
       "<h3>Instructions:</h3>"
      ],
      "text/plain": [
       "<IPython.core.display.HTML object>"
      ]
     },
     "metadata": {},
     "output_type": "display_data"
    },
    {
     "data": {
      "text/html": [
       "<ol><li>Place oil in bottom of 13x9\\</li><li>,</li><li>,</li><li>,</li><li>Pour pan drippings into reserved sauce; stir in dried  cherries, water and cornstarch.</li><li>Bring to a boil over medium-high heat; cook 1  to 2 minutes, or until sauce is thickened, stirring frequently.</li><li>To serve, pour  sauce evenly over chicken.</li></ol>"
      ],
      "text/plain": [
       "<IPython.core.display.HTML object>"
      ]
     },
     "metadata": {},
     "output_type": "display_data"
    },
    {
     "data": {
      "text/html": [
       "<h2>Spoon Bread Chili Pie</h2>"
      ],
      "text/plain": [
       "<IPython.core.display.HTML object>"
      ]
     },
     "metadata": {},
     "output_type": "display_data"
    },
    {
     "data": {
      "text/html": [
       "<img src=\"https://img.sndimg.com/food/image/upload/w_555,h_416,c_fit,fl_progressive,q_95/v1/img/recipes/11/36/picl8kqGL.jpg\" width=\"400\"/>"
      ],
      "text/plain": [
       "<IPython.core.display.Image object>"
      ]
     },
     "metadata": {},
     "output_type": "display_data"
    },
    {
     "data": {
      "text/html": [
       "<h3>Ingredients:</h3>"
      ],
      "text/plain": [
       "<IPython.core.display.HTML object>"
      ]
     },
     "metadata": {},
     "output_type": "display_data"
    },
    {
     "data": {
      "text/html": [
       "<ul><li>beef: 1/2</li><li>onion: 1</li><li>green pepper: 1/4</li><li>garlic clove: 1</li><li>chili powder: 1</li><li>canned tomatoes: 1 1/4</li><li>kernel corn: 1 1/2</li><li>salt: 1</li><li>pepper: 2</li><li>kidney beans: 1 1/4</li><li>milk: 1</li><li>butter: 1/2</li><li>salt: 1/4</li><li>cornmeal: 1/2</li><li>cheddar cheese: 1</li></ul>"
      ],
      "text/plain": [
       "<IPython.core.display.HTML object>"
      ]
     },
     "metadata": {},
     "output_type": "display_data"
    },
    {
     "data": {
      "text/html": [
       "<h3>Instructions:</h3>"
      ],
      "text/plain": [
       "<IPython.core.display.HTML object>"
      ]
     },
     "metadata": {},
     "output_type": "display_data"
    },
    {
     "data": {
      "text/html": [
       "<ol><li>Cook ground beef, onion, green pepper and garlic over medium heat for 8 minutes.</li><li>Add chili pepper, tomatoes, corn and beans and cook for five minutes.</li><li>Turn into casserole dish and  set aside. Scald milk with butter and salt.  Gradually add corn mean while   stirring.</li><li>Cook until thickened - 4 minutes.</li><li>Remove from heat and stir in  cheese and egg.</li><li>Spread topping over casserole.  Bake at 375°F for 35  minutes or until topping has set.</li></ol>"
      ],
      "text/plain": [
       "<IPython.core.display.HTML object>"
      ]
     },
     "metadata": {},
     "output_type": "display_data"
    },
    {
     "data": {
      "text/html": [
       "<h2>Steak & Tomato-Basil Pasta</h2>"
      ],
      "text/plain": [
       "<IPython.core.display.HTML object>"
      ]
     },
     "metadata": {},
     "output_type": "display_data"
    },
    {
     "data": {
      "text/html": [
       "<h3>Ingredients:</h3>"
      ],
      "text/plain": [
       "<IPython.core.display.HTML object>"
      ]
     },
     "metadata": {},
     "output_type": "display_data"
    },
    {
     "data": {
      "text/html": [
       "<ul><li>beef tenderloin steaks: 6</li><li>boneless beef top loin steaks: 1</li><li>penne: 1/3</li><li>mostaccioli pasta: 1/4</li><li>fresh basil: 1/4</li><li>dried basil leaves: 1/8</li><li>romano cheese: 1</li><li>parmesan cheese: 1</li><li>salt: 3</li><li>pepper: 6</li><li>olive oil: 1</li><li>onion: 3/4</li><li>garlic: 1/4</li></ul>"
      ],
      "text/plain": [
       "<IPython.core.display.HTML object>"
      ]
     },
     "metadata": {},
     "output_type": "display_data"
    },
    {
     "data": {
      "text/html": [
       "<h3>Instructions:</h3>"
      ],
      "text/plain": [
       "<IPython.core.display.HTML object>"
      ]
     },
     "metadata": {},
     "output_type": "display_data"
    },
    {
     "data": {
      "text/html": [
       "<ol><li>Cook pasta according to package directions; keep warm.</li><li>Meanwhile, in a large saucepan or Dutch oven, heat oil over medium heat. Add onion and garlic; cook and stir until tender.</li><li>Add remaining sauce ingredients.</li><li>Bring to a boil; reduce heat to low.</li><li>Simmer, uncovered, 10 minutes, stirring occasionally.</li><li>Place beef steaks on grid over medium, ash-covered coals.</li><li>Grill steaks, uncovered, 13 to 15 minutes (15 to 18 minutes for top loin steaks) for medium rare to medium doneness, turning once. Season with salt and pepper.</li><li>Trim fat from steaks.</li><li>(Cut top loin steaks crosswise in half.) Combine tomato sauce, basil, cheese and pasta; toss to coat. Serve steaks with pasta.</li></ol>"
      ],
      "text/plain": [
       "<IPython.core.display.HTML object>"
      ]
     },
     "metadata": {},
     "output_type": "display_data"
    },
    {
     "data": {
      "text/html": [
       "<h2>Sweet Potato Cakes</h2>"
      ],
      "text/plain": [
       "<IPython.core.display.HTML object>"
      ]
     },
     "metadata": {},
     "output_type": "display_data"
    },
    {
     "data": {
      "text/html": [
       "<h3>Ingredients:</h3>"
      ],
      "text/plain": [
       "<IPython.core.display.HTML object>"
      ]
     },
     "metadata": {},
     "output_type": "display_data"
    },
    {
     "data": {
      "text/html": [
       "<ul><li>sweet potatoes: 4</li><li>eggs: 3</li><li>salt: 1 1/2</li><li>pepper: 1/8</li></ul>"
      ],
      "text/plain": [
       "<IPython.core.display.HTML object>"
      ]
     },
     "metadata": {},
     "output_type": "display_data"
    },
    {
     "data": {
      "text/html": [
       "<h3>Instructions:</h3>"
      ],
      "text/plain": [
       "<IPython.core.display.HTML object>"
      ]
     },
     "metadata": {},
     "output_type": "display_data"
    },
    {
     "data": {
      "text/html": [
       "<ol><li>Parboil potatoes until tender.</li><li>Peel skin and mash.</li><li>Next, mix eggs, salt, pepper.</li><li>Heat oil in skillet and add a pinch of flour for oil testing.</li><li>Drop potato  mixture into skillet. Brown on both sides.</li><li>Flatten down when you flip them.</li><li>Add  butter and honey and eat like a pancake.  **I like homemade maple syrup with mine.</li></ol>"
      ],
      "text/plain": [
       "<IPython.core.display.HTML object>"
      ]
     },
     "metadata": {},
     "output_type": "display_data"
    },
    {
     "data": {
      "text/html": [
       "<h2>Honey Oat Hermits</h2>"
      ],
      "text/plain": [
       "<IPython.core.display.HTML object>"
      ]
     },
     "metadata": {},
     "output_type": "display_data"
    },
    {
     "data": {
      "text/html": [
       "<h3>Ingredients:</h3>"
      ],
      "text/plain": [
       "<IPython.core.display.HTML object>"
      ]
     },
     "metadata": {},
     "output_type": "display_data"
    },
    {
     "data": {
      "text/html": [
       "<ul><li>rolled oats: 430</li><li>cake flour: 120</li><li>baking soda: 1</li><li>salt: 1/4</li><li>allspice: 1/2</li><li>cinnamon: 1/2</li><li>shortening: 125</li><li>honey: 250</li><li>eggs: 2</li><li>raisins: 50</li><li>maraschino cherries: 250</li><li>lemon juice: 60</li><li>lemon, rind of: 8</li></ul>"
      ],
      "text/plain": [
       "<IPython.core.display.HTML object>"
      ]
     },
     "metadata": {},
     "output_type": "display_data"
    },
    {
     "data": {
      "text/html": [
       "<h3>Instructions:</h3>"
      ],
      "text/plain": [
       "<IPython.core.display.HTML object>"
      ]
     },
     "metadata": {},
     "output_type": "display_data"
    },
    {
     "data": {
      "text/html": [
       "<ol><li>Cream together shortening and honey, beating until light.  Add well beaten eggs and sour milk, chopped fruit and nuts, then lemon juice and rind.</li><li>Sift flour, baking soda, salt and spices, add rolled oats and blend well.</li><li>Add to the cookie mixture.  Chill and then drop onto oiled cookie sheet by the spoonful.</li><li>Bake in a moderate oven until cooked.</li></ol>"
      ],
      "text/plain": [
       "<IPython.core.display.HTML object>"
      ]
     },
     "metadata": {},
     "output_type": "display_data"
    },
    {
     "data": {
      "text/html": [
       "<h2>Country Rice Pudding</h2>"
      ],
      "text/plain": [
       "<IPython.core.display.HTML object>"
      ]
     },
     "metadata": {},
     "output_type": "display_data"
    },
    {
     "data": {
      "text/html": [
       "<h3>Ingredients:</h3>"
      ],
      "text/plain": [
       "<IPython.core.display.HTML object>"
      ]
     },
     "metadata": {},
     "output_type": "display_data"
    },
    {
     "data": {
      "text/html": [
       "<ul><li>milk: 4 1/2</li><li>short-grain rice: 1</li><li>sugar: 3/4</li><li>nutmeg: 1/8</li><li>lemon zest: 2</li><li>salt: 1/4</li><li>egg: 1</li><li>Bourbon: 2</li><li>vanilla extract: 2</li><li>sugar: 1/4</li><li>cinnamon: 1</li></ul>"
      ],
      "text/plain": [
       "<IPython.core.display.HTML object>"
      ]
     },
     "metadata": {},
     "output_type": "display_data"
    },
    {
     "data": {
      "text/html": [
       "<h3>Instructions:</h3>"
      ],
      "text/plain": [
       "<IPython.core.display.HTML object>"
      ]
     },
     "metadata": {},
     "output_type": "display_data"
    },
    {
     "data": {
      "text/html": [
       "<ol><li>In a heavy saucepan combine the milk, rice, sugar, nutmeg, lemon zest and salt. Bring to a boil, stirring occasionally.</li><li>Reduce heat to low and simmer , uncovered, until rice is tender and mixture begins to thicken, about 20 - 25 minutes, skimming any foam that may come to the surface. Stir in the egg and cook 2 minutes longer.</li><li>Remove from heat and stir in bourbon and vanilla extract. Chill before serving.</li><li>Sprinkle with Cinnamon Sugar before serving.</li><li>CINNAMON SUGAR:    Combine cinnamon and sugar and store in a tightly covered bowl.</li></ol>"
      ],
      "text/plain": [
       "<IPython.core.display.HTML object>"
      ]
     },
     "metadata": {},
     "output_type": "display_data"
    },
    {
     "data": {
      "text/html": [
       "<h2>Unexpected Company Rice Pudding</h2>"
      ],
      "text/plain": [
       "<IPython.core.display.HTML object>"
      ]
     },
     "metadata": {},
     "output_type": "display_data"
    },
    {
     "data": {
      "text/html": [
       "<h3>Ingredients:</h3>"
      ],
      "text/plain": [
       "<IPython.core.display.HTML object>"
      ]
     },
     "metadata": {},
     "output_type": "display_data"
    },
    {
     "data": {
      "text/html": [
       "<ul><li>Minute Rice: 1</li><li>raisins: 3</li><li>salt: 1/4</li><li>nutmeg: 1/8</li><li>instant vanilla pudding: 1</li><li>water: 1</li></ul>"
      ],
      "text/plain": [
       "<IPython.core.display.HTML object>"
      ]
     },
     "metadata": {},
     "output_type": "display_data"
    },
    {
     "data": {
      "text/html": [
       "<h3>Instructions:</h3>"
      ],
      "text/plain": [
       "<IPython.core.display.HTML object>"
      ]
     },
     "metadata": {},
     "output_type": "display_data"
    },
    {
     "data": {
      "text/html": [
       "<ol><li>Bring 1 cup of water, rice, raisins, and salt to a boil.</li><li>Cover and let stand until cool.</li><li>Make pudding according to the directions on box.</li><li>After pudding is made and the rice mixture is cooled, fold and mix gently together.</li><li>Chill and serve.</li></ol>"
      ],
      "text/plain": [
       "<IPython.core.display.HTML object>"
      ]
     },
     "metadata": {},
     "output_type": "display_data"
    },
    {
     "data": {
      "text/html": [
       "<h2>Bacon and Cheese Stuffed Chicken</h2>"
      ],
      "text/plain": [
       "<IPython.core.display.HTML object>"
      ]
     },
     "metadata": {},
     "output_type": "display_data"
    },
    {
     "data": {
      "text/html": [
       "<img src=\"https://img.sndimg.com/food/image/upload/w_555,h_416,c_fit,fl_progressive,q_95/v1/img/recipes/12/36/Qig63dA7TiKs9yHvTrWe_3757486C-0DDC-473C-AC8C-65ACBE685F3A.jpeg\" width=\"400\"/>"
      ],
      "text/plain": [
       "<IPython.core.display.Image object>"
      ]
     },
     "metadata": {},
     "output_type": "display_data"
    },
    {
     "data": {
      "text/html": [
       "<h3>Ingredients:</h3>"
      ],
      "text/plain": [
       "<IPython.core.display.HTML object>"
      ]
     },
     "metadata": {},
     "output_type": "display_data"
    },
    {
     "data": {
      "text/html": [
       "<ul><li>boneless skinless chicken breast halves: 4</li><li>bacon: 4</li><li>sharp cheddar cheese: 2</li><li>salt: 1/2</li><li>pepper: 1/4</li><li>paprika: 1/4</li><li>olive oil: 1</li><li>cornstarch: 1</li><li>reduced-sodium chicken broth: 2/3</li><li>parsley: 2</li></ul>"
      ],
      "text/plain": [
       "<IPython.core.display.HTML object>"
      ]
     },
     "metadata": {},
     "output_type": "display_data"
    },
    {
     "data": {
      "text/html": [
       "<h3>Instructions:</h3>"
      ],
      "text/plain": [
       "<IPython.core.display.HTML object>"
      ]
     },
     "metadata": {},
     "output_type": "display_data"
    },
    {
     "data": {
      "text/html": [
       "<ol><li>With a sharp knife, cut a pocket into the thickest side of each chicken breast.  Stuff each half with 1/4 of  the bacon and a piece of cheese. Seal with a  toothpick.</li><li>Sprinkle chicken with salt, pepper and paprika.</li><li>Heat oil in large  nonstick skillet over medium-high heat. Add chicken and cook 4 minutes per side, until browned.</li><li>Reduce hea t to medium-low; cover and cook 10 minutes until  chicken is cooked through.</li><li>Remove from skillet and cover loosely with foil to  keep warm.</li><li>Stir cornstarch into chicken broth with a fork until dissolved.</li><li>Add  to skillet and bring to a boil, scrapping up browned bits on bottom of skillet.  Cook 3 minutes, until sauce is thickened.</li><li>Add chopped parsley.</li><li>To serve, spoon  over chicken.</li></ol>"
      ],
      "text/plain": [
       "<IPython.core.display.HTML object>"
      ]
     },
     "metadata": {},
     "output_type": "display_data"
    },
    {
     "data": {
      "text/html": [
       "<h2>Chinese Beef and Broccoli</h2>"
      ],
      "text/plain": [
       "<IPython.core.display.HTML object>"
      ]
     },
     "metadata": {},
     "output_type": "display_data"
    },
    {
     "data": {
      "text/html": [
       "<img src=\"https://img.sndimg.com/food/image/upload/w_555,h_416,c_fit,fl_progressive,q_95/v1/img/recipes/12/67/hAhZn2uuS76AXrMwZhBt_IMG_4284%20(1).JPG\" width=\"400\"/>"
      ],
      "text/plain": [
       "<IPython.core.display.Image object>"
      ]
     },
     "metadata": {},
     "output_type": "display_data"
    },
    {
     "data": {
      "text/html": [
       "<h3>Ingredients:</h3>"
      ],
      "text/plain": [
       "<IPython.core.display.HTML object>"
      ]
     },
     "metadata": {},
     "output_type": "display_data"
    },
    {
     "data": {
      "text/html": [
       "<ul><li>soy sauce: 1</li><li>dry sherry: 2</li><li>cornstarch: 1</li><li>frozen broccoli: 1/2</li><li>garlic clove: 1</li><li>fresh ginger: 1</li><li>salt: 1</li></ul>"
      ],
      "text/plain": [
       "<IPython.core.display.HTML object>"
      ]
     },
     "metadata": {},
     "output_type": "display_data"
    },
    {
     "data": {
      "text/html": [
       "<h3>Instructions:</h3>"
      ],
      "text/plain": [
       "<IPython.core.display.HTML object>"
      ]
     },
     "metadata": {},
     "output_type": "display_data"
    },
    {
     "data": {
      "text/html": [
       "<ol><li>Slice the steak against the grain into very thin slices.</li><li>Combine the soy sauce, sherry, and cornstarch and pour this mixture over the steak.</li><li>Marinate the meat for 15 minutes.</li><li>While the meat is marinating, slice the broccoli at a diagonal and mince garlic and ginger.</li><li>Heat a wok or large frying pan for 30 seconds, add oil, wait about 20 seconds, and add minced garlic and ginger root. Fry over high heat, stirring constantly for about 20 seconds more, then add the beef.</li><li>Stir-fry, stirring constantly, for about 1 minute. Add broccoli and stir-fry for another 4 to 6 minutes, until the broccoli is cooked but still crisp and still dark green.</li><li>Serve hot. This is low in carbohydrates.</li></ol>"
      ],
      "text/plain": [
       "<IPython.core.display.HTML object>"
      ]
     },
     "metadata": {},
     "output_type": "display_data"
    },
    {
     "data": {
      "text/html": [
       "<h2>Buche de Noel</h2>"
      ],
      "text/plain": [
       "<IPython.core.display.HTML object>"
      ]
     },
     "metadata": {},
     "output_type": "display_data"
    },
    {
     "data": {
      "text/html": [
       "<h3>Ingredients:</h3>"
      ],
      "text/plain": [
       "<IPython.core.display.HTML object>"
      ]
     },
     "metadata": {},
     "output_type": "display_data"
    },
    {
     "data": {
      "text/html": [
       "<ul><li>cake flour: 1</li><li>baking powder: 1/4</li><li>salt: 1</li><li>eggs: 1/4</li><li>sugar: 3</li><li>brewed coffee: 1</li><li>vanilla: 1/3</li><li>butter: 1</li><li>light corn syrup: 1</li><li>heavy cream: 1/4</li><li>instant coffee: 1</li><li>powdered sugar: 3/4</li></ul>"
      ],
      "text/plain": [
       "<IPython.core.display.HTML object>"
      ]
     },
     "metadata": {},
     "output_type": "display_data"
    },
    {
     "data": {
      "text/html": [
       "<h3>Instructions:</h3>"
      ],
      "text/plain": [
       "<IPython.core.display.HTML object>"
      ]
     },
     "metadata": {},
     "output_type": "display_data"
    },
    {
     "data": {
      "text/html": [
       "<ol><li>Sift flour, cocoa, baking powder and salt together in a small bowl; set aside.  In separate bowl beat eggs until thick and creamy.</li><li>Gradually add sugar, beating constantly until mixture is very thick.</li><li>Stir in coffee & vanilla.</li><li>Fold in flour mixture. Spread batter evenly in pan.</li><li>Bake at 375 degrees for 12 minutes.</li><li>Sprinkle kitchen towel with powdered sugar, invert cake onto towel, remove waxed paper and roll cake and towel jelly roll fashion.</li><li>Cool.</li><li>When cake has cooled unroll, spr ead with filling, reroll.</li><li>Beat cream until stiff.</li><li>Add instant coffee and powdered sugar.</li><li>Melt chocolate chips with coffee over hot, not boiling water.</li><li>Cool.</li><li>Beat butter in small bowl until light and fluffy.</li><li>Beat corn syrup and egg yolks into butter.</li><li>Stir in cooled chocolate mixture. SPECIAL NOTE: This is a very good recipe for a vertical layer cake.  After the cake has cooled cut it into 3 3-1/2\\</li><li>,</li><li>high cake.  Frost as usual.</li><li>This looks like a regular 2 layer cake until you cut into it.</li></ol>"
      ],
      "text/plain": [
       "<IPython.core.display.HTML object>"
      ]
     },
     "metadata": {},
     "output_type": "display_data"
    },
    {
     "data": {
      "text/html": [
       "<h2>Chicken Fajitas</h2>"
      ],
      "text/plain": [
       "<IPython.core.display.HTML object>"
      ]
     },
     "metadata": {},
     "output_type": "display_data"
    },
    {
     "data": {
      "text/html": [
       "<h3>Ingredients:</h3>"
      ],
      "text/plain": [
       "<IPython.core.display.HTML object>"
      ]
     },
     "metadata": {},
     "output_type": "display_data"
    },
    {
     "data": {
      "text/html": [
       "<ul><li>olive oil: 1/2</li><li>lime juice: 1/3</li><li>sugar: 1</li><li>salt: 1/2</li><li>cumin: 1/4</li><li>red wine vinegar: 1/4</li><li>onion: 1/3</li><li>oregano: 1</li><li>pepper: 1/4</li><li>garlic cloves: 3</li><li>red bell pepper: 1</li><li>green bell pepper: 1</li><li>yellow bell pepper: 1</li><li>boneless skinless chicken breasts: 2</li></ul>"
      ],
      "text/plain": [
       "<IPython.core.display.HTML object>"
      ]
     },
     "metadata": {},
     "output_type": "display_data"
    },
    {
     "data": {
      "text/html": [
       "<h3>Instructions:</h3>"
      ],
      "text/plain": [
       "<IPython.core.display.HTML object>"
      ]
     },
     "metadata": {},
     "output_type": "display_data"
    },
    {
     "data": {
      "text/html": [
       "<ol><li>Combine all ingredients, except tortillas, in a large bowl, mix well and  refrigerate overnight.</li><li>Drain mixture.</li><li>In a large skillet, over medium high heat, add 2 tablespoons olive oil and saute chicken mixture until chicken is no longer pink.</li><li>Serve in tortillas.</li></ol>"
      ],
      "text/plain": [
       "<IPython.core.display.HTML object>"
      ]
     },
     "metadata": {},
     "output_type": "display_data"
    },
    {
     "data": {
      "text/html": [
       "<h2>Ground Beef Stuffed Green Bell Peppers With Cheese</h2>"
      ],
      "text/plain": [
       "<IPython.core.display.HTML object>"
      ]
     },
     "metadata": {},
     "output_type": "display_data"
    },
    {
     "data": {
      "text/html": [
       "<img src=\"https://img.sndimg.com/food/image/upload/w_555,h_416,c_fit,fl_progressive,q_95/v1/img/recipes/13/56/wK9gMwSDOh2IAcRcZ8Hw_DSC03106.jpg\" width=\"400\"/>"
      ],
      "text/plain": [
       "<IPython.core.display.Image object>"
      ]
     },
     "metadata": {},
     "output_type": "display_data"
    },
    {
     "data": {
      "text/html": [
       "<h3>Ingredients:</h3>"
      ],
      "text/plain": [
       "<IPython.core.display.HTML object>"
      ]
     },
     "metadata": {},
     "output_type": "display_data"
    },
    {
     "data": {
      "text/html": [
       "<ul><li>green peppers: 6</li><li>beef: 1</li><li>onion: 1/2</li><li>tomatoes: 1</li><li>long grain rice: 1/2</li><li>water: 1</li><li>salt: 1</li><li>Worcestershire sauce: 1</li><li>cheddar cheese: 1</li></ul>"
      ],
      "text/plain": [
       "<IPython.core.display.HTML object>"
      ]
     },
     "metadata": {},
     "output_type": "display_data"
    },
    {
     "data": {
      "text/html": [
       "<h3>Instructions:</h3>"
      ],
      "text/plain": [
       "<IPython.core.display.HTML object>"
      ]
     },
     "metadata": {},
     "output_type": "display_data"
    },
    {
     "data": {
      "text/html": [
       "<ol><li>Cut off the tops of green peppers; discard seeds and membranes.</li><li>Chop enough of the tops to make 1/4 cup, set aside.</li><li>Cook the whole green peppers, uncovered in boiling water for about 5 minutes; invert to drain well.</li><li>Sprinkle insides of the peppers lightly with salt.</li><li>In a skillet cook ground beef, onion and 1/4 cup chopped pepper till meat is browned and vegetables are tender.</li><li>Drain off excess fat. Add drained tomatoes, salt, Worcestershire, and a dash of pepper.</li><li>in a separate pot put water bring to boil add rice cook until rice is soft. if needed add more water.</li><li>add rice to beef mixture.</li><li>Stir in cheese. Stuff peppers with meat mixture. Place in a 10x6x2 baking dish.</li><li>Bake, covered in a 350 degree oven for      30    minutes. in the last 5 minutes add any remaining cheese to the top of the peppers.</li></ol>"
      ],
      "text/plain": [
       "<IPython.core.display.HTML object>"
      ]
     },
     "metadata": {},
     "output_type": "display_data"
    },
    {
     "data": {
      "text/html": [
       "<h2>Perfectly Spiced Banana Bread</h2>"
      ],
      "text/plain": [
       "<IPython.core.display.HTML object>"
      ]
     },
     "metadata": {},
     "output_type": "display_data"
    },
    {
     "data": {
      "text/html": [
       "<img src=\"https://img.sndimg.com/food/image/upload/w_555,h_416,c_fit,fl_progressive,q_95/v1/img/recipes/13/87/01480807071.jpeg\" width=\"400\"/>"
      ],
      "text/plain": [
       "<IPython.core.display.Image object>"
      ]
     },
     "metadata": {},
     "output_type": "display_data"
    },
    {
     "data": {
      "text/html": [
       "<h3>Ingredients:</h3>"
      ],
      "text/plain": [
       "<IPython.core.display.HTML object>"
      ]
     },
     "metadata": {},
     "output_type": "display_data"
    },
    {
     "data": {
      "text/html": [
       "<ul><li>all-purpose flour: 1 3/4</li><li>baking powder: 2</li><li>baking soda: 1/2</li><li>salt: 1/2</li><li>ginger: 1/2</li><li>allspice: 1/4</li><li>nutmeg: 1/4</li><li>lemon zest: 1</li><li>butter: 1/4</li><li>margarine: 1/2</li><li>sugar: 3/4</li><li>eggs: 2</li><li>bananas: 1 1/2</li></ul>"
      ],
      "text/plain": [
       "<IPython.core.display.HTML object>"
      ]
     },
     "metadata": {},
     "output_type": "display_data"
    },
    {
     "data": {
      "text/html": [
       "<h3>Instructions:</h3>"
      ],
      "text/plain": [
       "<IPython.core.display.HTML object>"
      ]
     },
     "metadata": {},
     "output_type": "display_data"
    },
    {
     "data": {
      "text/html": [
       "<ol><li>Preheat oven to 350°F.</li><li>Grease 9 x 5 inch loaf pan.</li><li>Sift flour,baking powder,  baking soda, salt, ginger, allspice and nutmeg together in bowl.</li><li>Add lemon zest and almonds.</li><li>Stir until combined.</li><li>Set aside. Beat butter in large mixing bowl until soft and creamy.</li><li>Beat in sugar until light and fluffy.</li><li>Add eggs and beat until thoroughly blended.</li><li>Beat in flour mixture alternately with bananas until mixture is well blended.</li><li>Pour into prepared pan.</li><li>Bake in center of oven 1 hour to 1 hour 5 minutes, or until toothpick inserted in center comes out clean.</li><li>Cool in pan on wire rack 10 minutes.</li><li>Invert from pan and cool completely on rack.</li><li>Variation: Banana-walnut or -pecan bread: Omit almonds.</li><li>Add 3/4 cup coarsely chopped walnuts or pecans with bananas.</li></ol>"
      ],
      "text/plain": [
       "<IPython.core.display.HTML object>"
      ]
     },
     "metadata": {},
     "output_type": "display_data"
    },
    {
     "data": {
      "text/html": [
       "<h2>Cajun Turnovers</h2>"
      ],
      "text/plain": [
       "<IPython.core.display.HTML object>"
      ]
     },
     "metadata": {},
     "output_type": "display_data"
    },
    {
     "data": {
      "text/html": [
       "<h3>Ingredients:</h3>"
      ],
      "text/plain": [
       "<IPython.core.display.HTML object>"
      ]
     },
     "metadata": {},
     "output_type": "display_data"
    },
    {
     "data": {
      "text/html": [
       "<ul><li>onion: 1/2</li><li>green bell pepper: 1/4</li><li>celery: 1/4</li><li>I Can't Believe It's Not Butter Fat Free: 2</li><li>mushroom: 3/4</li><li>wild rice: 1</li><li>water: 2</li><li>Worcestershire sauce: 1</li><li>garlic powder: 2</li><li>cayenne pepper: 1/2</li><li>salt: 1/2</li><li>egg: 16</li></ul>"
      ],
      "text/plain": [
       "<IPython.core.display.HTML object>"
      ]
     },
     "metadata": {},
     "output_type": "display_data"
    },
    {
     "data": {
      "text/html": [
       "<h3>Instructions:</h3>"
      ],
      "text/plain": [
       "<IPython.core.display.HTML object>"
      ]
     },
     "metadata": {},
     "output_type": "display_data"
    },
    {
     "data": {
      "text/html": [
       "<ol><li>For filling: Saute onion, bell pepper, celery, and mushrooms in butter until  tender and mushrooms have released some liquid.</li><li>Add rice and water.</li><li>Stir.</li><li>Add  Worcestershire sauce, hot sauce, garlic powder, cayenne, and salt. Mix well.</li><li>Bring to a boil, cover tightly, simmer for 10 minutes.</li><li>For dough: While rice is  simmering, preheat oven to 3750.</li><li>Separate crescent rolls into rectangles.</li><li>Seal  the seams in each rectangle by pressing the dough together.</li><li>Place rice mixture  (turnovers are easier to shape if rice is chilled) in the center of each  rectangle. Fold dough over and press with a fork to seal the edges.</li><li>Brush the  tops of turnovers with beaten egg.</li><li>Place on lightly greased cookie sheet. Bake  12-13 minutes.</li></ol>"
      ],
      "text/plain": [
       "<IPython.core.display.HTML object>"
      ]
     },
     "metadata": {},
     "output_type": "display_data"
    },
    {
     "data": {
      "text/html": [
       "<h2>Tabbouleh</h2>"
      ],
      "text/plain": [
       "<IPython.core.display.HTML object>"
      ]
     },
     "metadata": {},
     "output_type": "display_data"
    },
    {
     "data": {
      "text/html": [
       "<h3>Ingredients:</h3>"
      ],
      "text/plain": [
       "<IPython.core.display.HTML object>"
      ]
     },
     "metadata": {},
     "output_type": "display_data"
    },
    {
     "data": {
      "text/html": [
       "<ul><li>fresh parsley: 4</li><li>of fresh mint: 1/4</li><li>cucumbers: 2</li><li>tomatoes: 2</li><li>bulgur: 1</li><li>onion: 3/4</li><li>lemon juice: 1/3</li><li>olive oil: 2</li><li>salt: 1/2</li><li>garlic: 1</li></ul>"
      ],
      "text/plain": [
       "<IPython.core.display.HTML object>"
      ]
     },
     "metadata": {},
     "output_type": "display_data"
    },
    {
     "data": {
      "text/html": [
       "<h3>Instructions:</h3>"
      ],
      "text/plain": [
       "<IPython.core.display.HTML object>"
      ]
     },
     "metadata": {},
     "output_type": "display_data"
    },
    {
     "data": {
      "text/html": [
       "<ol><li>Place parsley and mint in a food processor; process until finely minced.</li><li>Combine parsley mixture, cucumber, and remaining ingredients in a large  bowl; toss well.</li><li>Cover and marinate in refrigerator at least 4 hours.</li></ol>"
      ],
      "text/plain": [
       "<IPython.core.display.HTML object>"
      ]
     },
     "metadata": {},
     "output_type": "display_data"
    },
    {
     "data": {
      "text/html": [
       "<h2>Char Siu Pork</h2>"
      ],
      "text/plain": [
       "<IPython.core.display.HTML object>"
      ]
     },
     "metadata": {},
     "output_type": "display_data"
    },
    {
     "data": {
      "text/html": [
       "<h3>Ingredients:</h3>"
      ],
      "text/plain": [
       "<IPython.core.display.HTML object>"
      ]
     },
     "metadata": {},
     "output_type": "display_data"
    },
    {
     "data": {
      "text/html": [
       "<ul><li>salt: 1 1/2</li><li>sugar: 1/2</li><li>hoisin sauce: 1</li><li>honey: 2</li><li>soy sauce: 1</li></ul>"
      ],
      "text/plain": [
       "<IPython.core.display.HTML object>"
      ]
     },
     "metadata": {},
     "output_type": "display_data"
    },
    {
     "data": {
      "text/html": [
       "<h3>Instructions:</h3>"
      ],
      "text/plain": [
       "<IPython.core.display.HTML object>"
      ]
     },
     "metadata": {},
     "output_type": "display_data"
    },
    {
     "data": {
      "text/html": [
       "<ol><li>Pour food coloring over pork strips, one by one, rubbing color into pork.</li><li>Mix  other ingredients and marinade pork in it for 1-2 days.</li><li>Broil for 1 1/2 hours  on lower rack.</li></ol>"
      ],
      "text/plain": [
       "<IPython.core.display.HTML object>"
      ]
     },
     "metadata": {},
     "output_type": "display_data"
    },
    {
     "data": {
      "text/html": [
       "<h2>Haupia</h2>"
      ],
      "text/plain": [
       "<IPython.core.display.HTML object>"
      ]
     },
     "metadata": {},
     "output_type": "display_data"
    },
    {
     "data": {
      "text/html": [
       "<h3>Ingredients:</h3>"
      ],
      "text/plain": [
       "<IPython.core.display.HTML object>"
      ]
     },
     "metadata": {},
     "output_type": "display_data"
    },
    {
     "data": {
      "text/html": [
       "<ul><li>cornstarch: 1/3</li><li>sugar: 1/2</li><li>salt: 1/8</li><li>frozen coconut milk: 24</li></ul>"
      ],
      "text/plain": [
       "<IPython.core.display.HTML object>"
      ]
     },
     "metadata": {},
     "output_type": "display_data"
    },
    {
     "data": {
      "text/html": [
       "<h3>Instructions:</h3>"
      ],
      "text/plain": [
       "<IPython.core.display.HTML object>"
      ]
     },
     "metadata": {},
     "output_type": "display_data"
    },
    {
     "data": {
      "text/html": [
       "<ol><li>Combine cornstarch, sugar and salt.</li><li>Add 1/2 cup coconut milk and blend into a  smooth paste.</li><li>Heat remaining milk and add cornstarch mixture.</li><li>Cook for 20  minutes, stirring frequently until thickened.</li><li>Pour into 8\\</li><li>,</li><li>,</li></ol>"
      ],
      "text/plain": [
       "<IPython.core.display.HTML object>"
      ]
     },
     "metadata": {},
     "output_type": "display_data"
    },
    {
     "data": {
      "text/html": [
       "<h2>Oatmeal Pancakes</h2>"
      ],
      "text/plain": [
       "<IPython.core.display.HTML object>"
      ]
     },
     "metadata": {},
     "output_type": "display_data"
    },
    {
     "data": {
      "text/html": [
       "<img src=\"https://img.sndimg.com/food/image/upload/w_555,h_416,c_fit,fl_progressive,q_95/v1/img/recipes/14/15/picXhs3j1.jpg\" width=\"400\"/>"
      ],
      "text/plain": [
       "<IPython.core.display.Image object>"
      ]
     },
     "metadata": {},
     "output_type": "display_data"
    },
    {
     "data": {
      "text/html": [
       "<h3>Ingredients:</h3>"
      ],
      "text/plain": [
       "<IPython.core.display.HTML object>"
      ]
     },
     "metadata": {},
     "output_type": "display_data"
    },
    {
     "data": {
      "text/html": [
       "<ul><li>oatmeal: 1 1/2</li><li>buttermilk: 2</li><li>eggs: 2</li><li>flour: 1/2</li><li>sugar: 1</li><li>baking soda: 1</li><li>salt: 1</li></ul>"
      ],
      "text/plain": [
       "<IPython.core.display.HTML object>"
      ]
     },
     "metadata": {},
     "output_type": "display_data"
    },
    {
     "data": {
      "text/html": [
       "<h3>Instructions:</h3>"
      ],
      "text/plain": [
       "<IPython.core.display.HTML object>"
      ]
     },
     "metadata": {},
     "output_type": "display_data"
    },
    {
     "data": {
      "text/html": [
       "<ol><li>Mix oats with buttermilk.</li><li>Add eggs and dry ingredients.</li><li>Fry on lightly greased griddle until edges are cooked and center bubbles.</li><li>Turn and brown.</li></ol>"
      ],
      "text/plain": [
       "<IPython.core.display.HTML object>"
      ]
     },
     "metadata": {},
     "output_type": "display_data"
    },
    {
     "data": {
      "text/html": [
       "<h2>Amish Cornbread II</h2>"
      ],
      "text/plain": [
       "<IPython.core.display.HTML object>"
      ]
     },
     "metadata": {},
     "output_type": "display_data"
    },
    {
     "data": {
      "text/html": [
       "<h3>Ingredients:</h3>"
      ],
      "text/plain": [
       "<IPython.core.display.HTML object>"
      ]
     },
     "metadata": {},
     "output_type": "display_data"
    },
    {
     "data": {
      "text/html": [
       "<ul><li>eggs: 1</li><li>milk: 2</li><li>sugar: 1 1/2</li><li>all-purpose flour: 2</li><li>cornmeal: 1/2</li><li>baking soda: 1 1/2</li><li>salt: 1/4</li><li>baking powder: 3/4</li></ul>"
      ],
      "text/plain": [
       "<IPython.core.display.HTML object>"
      ]
     },
     "metadata": {},
     "output_type": "display_data"
    },
    {
     "data": {
      "text/html": [
       "<h3>Instructions:</h3>"
      ],
      "text/plain": [
       "<IPython.core.display.HTML object>"
      ]
     },
     "metadata": {},
     "output_type": "display_data"
    },
    {
     "data": {
      "text/html": [
       "<ol><li>Preheat oven to 425 degrees and grease a 9 inch baking pan.</li><li>In a large mixer bowl combine starter, eggs, milk, sugar, flour and cornmeal.</li><li>Beat at medium speed for 2 minutes.</li><li>Mix in oil, baking soda, salt and baking powder.</li><li>Transfer mixture to prepared baking pan and bake for 25 - 30 minutes.</li><li>Cool 10 minutes in pan, remove and cool completely on wire racks.</li><li>- - - - - - - - - - - - - - - - - - NOTES : *NOTE: You can use 2 cups of any of the following, or mix each until you have 2 cups;       Grated Carrot       Chopped  Apple       Raisins       Walnuts</li></ol>"
      ],
      "text/plain": [
       "<IPython.core.display.HTML object>"
      ]
     },
     "metadata": {},
     "output_type": "display_data"
    },
    {
     "data": {
      "text/html": [
       "<h2>Old Fashioned Butter Cookies</h2>"
      ],
      "text/plain": [
       "<IPython.core.display.HTML object>"
      ]
     },
     "metadata": {},
     "output_type": "display_data"
    },
    {
     "data": {
      "text/html": [
       "<h3>Ingredients:</h3>"
      ],
      "text/plain": [
       "<IPython.core.display.HTML object>"
      ]
     },
     "metadata": {},
     "output_type": "display_data"
    },
    {
     "data": {
      "text/html": [
       "<ul><li>unsalted butter: 1</li><li>powdered sugar: 1</li><li>egg: 1</li><li>vanilla: 1 1/2</li><li>flour: 2 1/2</li><li>salt: 1/2</li></ul>"
      ],
      "text/plain": [
       "<IPython.core.display.HTML object>"
      ]
     },
     "metadata": {},
     "output_type": "display_data"
    },
    {
     "data": {
      "text/html": [
       "<h3>Instructions:</h3>"
      ],
      "text/plain": [
       "<IPython.core.display.HTML object>"
      ]
     },
     "metadata": {},
     "output_type": "display_data"
    },
    {
     "data": {
      "text/html": [
       "<ol><li>Combine butter, sugar, egg and vanilla in a large bowl with mixer on medium speed  until smooth and fluffy, 4 minutes.</li><li>Stir together flour and salt in a small bowl.</li><li>Add to butter mixture and beat on low speed until combined.</li><li>To shape cookies:  For cookie press, spoon dough into press.</li><li>Form desired shapes on ungreased  cookie sheets.</li><li>For slice and bake cookies, refrigerate dough, wrapped, 45 minute.</li><li>Divide dough in half.</li><li>Shape each half on wax paper into 6\\</li><li>Chill in refrigerator 1 hour or in freezer 30 minutes.</li><li>Slice cookies 1/8\\</li><li>,</li><li>,</li><li>,</li></ol>"
      ],
      "text/plain": [
       "<IPython.core.display.HTML object>"
      ]
     },
     "metadata": {},
     "output_type": "display_data"
    },
    {
     "data": {
      "text/html": [
       "<h2>Marzia's Beef or Chicken Curry</h2>"
      ],
      "text/plain": [
       "<IPython.core.display.HTML object>"
      ]
     },
     "metadata": {},
     "output_type": "display_data"
    },
    {
     "data": {
      "text/html": [
       "<h3>Ingredients:</h3>"
      ],
      "text/plain": [
       "<IPython.core.display.HTML object>"
      ]
     },
     "metadata": {},
     "output_type": "display_data"
    },
    {
     "data": {
      "text/html": [
       "<ul><li>turmeric: 1</li><li>cumin: 1</li><li>fennel powder: 1</li><li>beef: 1</li><li>chicken legs: 1</li><li>tomatoes: 1/4</li><li>yoghurt: 3 1/2</li><li>tomato paste: 1</li><li>ginger: 1</li><li>garlic: 1/2</li><li>salt: 1</li><li>lemon juice: 1</li><li>onion: 3</li><li>pepper: 1</li></ul>"
      ],
      "text/plain": [
       "<IPython.core.display.HTML object>"
      ]
     },
     "metadata": {},
     "output_type": "display_data"
    },
    {
     "data": {
      "text/html": [
       "<h3>Instructions:</h3>"
      ],
      "text/plain": [
       "<IPython.core.display.HTML object>"
      ]
     },
     "metadata": {},
     "output_type": "display_data"
    },
    {
     "data": {
      "text/html": [
       "<ol><li>Heat oil in a medium pot. Add onion and brown.</li><li>Add chicken and cook until  slightly browned.</li><li>Add remaining ingredients with 1/2 cup water if appears too  dry.</li><li>Cover and simmer until chicken is tender.</li><li>Serve with rice, chapati or  roti.</li><li>If beef is used, make sure to steam it in a pot with water for 1 hour or  in a pressure cooker for 20 minutes.</li><li>Use stock instead of water.</li></ol>"
      ],
      "text/plain": [
       "<IPython.core.display.HTML object>"
      ]
     },
     "metadata": {},
     "output_type": "display_data"
    },
    {
     "data": {
      "text/html": [
       "<h2>Ultimate Chocolate Chip Bars</h2>"
      ],
      "text/plain": [
       "<IPython.core.display.HTML object>"
      ]
     },
     "metadata": {},
     "output_type": "display_data"
    },
    {
     "data": {
      "text/html": [
       "<img src=\"https://img.sndimg.com/food/image/upload/w_555,h_416,c_fit,fl_progressive,q_95/v1/img/recipes/14/38/pic3n3tRc.jpg\" width=\"400\"/>"
      ],
      "text/plain": [
       "<IPython.core.display.Image object>"
      ]
     },
     "metadata": {},
     "output_type": "display_data"
    },
    {
     "data": {
      "text/html": [
       "<h3>Ingredients:</h3>"
      ],
      "text/plain": [
       "<IPython.core.display.HTML object>"
      ]
     },
     "metadata": {},
     "output_type": "display_data"
    },
    {
     "data": {
      "text/html": [
       "<ul><li>margarine: 1</li><li>granulated sugar: 3/4</li><li>brown sugar: 3/4</li><li>eggs: 2</li><li>vanilla extract: 1</li><li>all-purpose flour: 2</li><li>baking soda: 1</li><li>salt: 1/2</li><li>chocolate chips: 1</li></ul>"
      ],
      "text/plain": [
       "<IPython.core.display.HTML object>"
      ]
     },
     "metadata": {},
     "output_type": "display_data"
    },
    {
     "data": {
      "text/html": [
       "<h3>Instructions:</h3>"
      ],
      "text/plain": [
       "<IPython.core.display.HTML object>"
      ]
     },
     "metadata": {},
     "output_type": "display_data"
    },
    {
     "data": {
      "text/html": [
       "<ol><li>Mix margarine and sugars in a large bowl.</li><li>Add eggs and vanilla, mixing well.</li><li>Mix in flour, baking soda and salt.</li><li>Stir in chocolate chips and nuts.</li><li>Spread in a greased 9 x 13\\</li><li>,</li><li>,</li></ol>"
      ],
      "text/plain": [
       "<IPython.core.display.HTML object>"
      ]
     },
     "metadata": {},
     "output_type": "display_data"
    },
    {
     "data": {
      "text/html": [
       "<h2>Spicy Herb Sauce</h2>"
      ],
      "text/plain": [
       "<IPython.core.display.HTML object>"
      ]
     },
     "metadata": {},
     "output_type": "display_data"
    },
    {
     "data": {
      "text/html": [
       "<h3>Ingredients:</h3>"
      ],
      "text/plain": [
       "<IPython.core.display.HTML object>"
      ]
     },
     "metadata": {},
     "output_type": "display_data"
    },
    {
     "data": {
      "text/html": [
       "<ul><li>olive oil: 2</li><li>garlic: 2</li><li>onion: 1</li><li>fresh parsley: 2</li><li>of fresh mint: 2</li><li>cinnamon: 1/2</li><li>lemon juice: 1</li><li>fresh cilantro: 1</li><li>pine nuts: 1</li></ul>"
      ],
      "text/plain": [
       "<IPython.core.display.HTML object>"
      ]
     },
     "metadata": {},
     "output_type": "display_data"
    },
    {
     "data": {
      "text/html": [
       "<h3>Instructions:</h3>"
      ],
      "text/plain": [
       "<IPython.core.display.HTML object>"
      ]
     },
     "metadata": {},
     "output_type": "display_data"
    },
    {
     "data": {
      "text/html": [
       "<ol><li>Heat the oil in a heavy based pan and fry the garlic and onion for 5  minutes or until golden.</li><li>Add the parsley, mint, cinnamon and lemon  juice and mix together well.</li><li>Season, toss with hot pasta, and sprinkle  with cilantro and pine nuts.</li><li>This sauce can also be served with cold pasta.</li></ol>"
      ],
      "text/plain": [
       "<IPython.core.display.HTML object>"
      ]
     },
     "metadata": {},
     "output_type": "display_data"
    },
    {
     "data": {
      "text/html": [
       "<h2>Sweet and Sour Pork Chops</h2>"
      ],
      "text/plain": [
       "<IPython.core.display.HTML object>"
      ]
     },
     "metadata": {},
     "output_type": "display_data"
    },
    {
     "data": {
      "text/html": [
       "<h3>Ingredients:</h3>"
      ],
      "text/plain": [
       "<IPython.core.display.HTML object>"
      ]
     },
     "metadata": {},
     "output_type": "display_data"
    },
    {
     "data": {
      "text/html": [
       "<ul><li>butter: 6</li><li>brown sugar: 1</li><li>vinegar: 1/2</li><li>allspice: 1/4</li><li>cloves: 1</li><li>salt: 4</li></ul>"
      ],
      "text/plain": [
       "<IPython.core.display.HTML object>"
      ]
     },
     "metadata": {},
     "output_type": "display_data"
    },
    {
     "data": {
      "text/html": [
       "<h3>Instructions:</h3>"
      ],
      "text/plain": [
       "<IPython.core.display.HTML object>"
      ]
     },
     "metadata": {},
     "output_type": "display_data"
    },
    {
     "data": {
      "text/html": [
       "<ol><li>Brown the pork chops in the oil or butter and place in a single layer in a baking dish.</li><li>Combine the remaining ingredients in a bowl,  mixing to combine, and pour over the pork chops.</li><li>Bake in a preheated 350 degree Fahrenheit oven for 45 minutes to 1 hour.</li></ol>"
      ],
      "text/plain": [
       "<IPython.core.display.HTML object>"
      ]
     },
     "metadata": {},
     "output_type": "display_data"
    },
    {
     "data": {
      "text/html": [
       "<h2>Fiesta Yellow Squash</h2>"
      ],
      "text/plain": [
       "<IPython.core.display.HTML object>"
      ]
     },
     "metadata": {},
     "output_type": "display_data"
    },
    {
     "data": {
      "text/html": [
       "<img src=\"https://img.sndimg.com/food/image/upload/w_555,h_416,c_fit,fl_progressive,q_95/v1/img/recipes/14/81/picb7JGYT.jpg\" width=\"400\"/>"
      ],
      "text/plain": [
       "<IPython.core.display.Image object>"
      ]
     },
     "metadata": {},
     "output_type": "display_data"
    },
    {
     "data": {
      "text/html": [
       "<h3>Ingredients:</h3>"
      ],
      "text/plain": [
       "<IPython.core.display.HTML object>"
      ]
     },
     "metadata": {},
     "output_type": "display_data"
    },
    {
     "data": {
      "text/html": [
       "<ul><li>margarine: 2</li><li>fresh onion: 1/4</li><li>green pepper: 1/4</li><li>salt: 4</li><li>pepper: 1/2</li><li>thyme: 1/8</li><li>lemon juice: 1/4</li></ul>"
      ],
      "text/plain": [
       "<IPython.core.display.HTML object>"
      ]
     },
     "metadata": {},
     "output_type": "display_data"
    },
    {
     "data": {
      "text/html": [
       "<h3>Instructions:</h3>"
      ],
      "text/plain": [
       "<IPython.core.display.HTML object>"
      ]
     },
     "metadata": {},
     "output_type": "display_data"
    },
    {
     "data": {
      "text/html": [
       "<ol><li>Melt butter in skillet; add onion and green pepper.</li><li>Cook until tender.</li><li>Add squash and seasonings.</li><li>Mix well.</li><li>Cook, covered, over moderately low heat for 10 to 15 minutes  until crisp-tender.</li></ol>"
      ],
      "text/plain": [
       "<IPython.core.display.HTML object>"
      ]
     },
     "metadata": {},
     "output_type": "display_data"
    },
    {
     "data": {
      "text/html": [
       "<h2>Zucchini or Yellow Squash Patties and Dressing</h2>"
      ],
      "text/plain": [
       "<IPython.core.display.HTML object>"
      ]
     },
     "metadata": {},
     "output_type": "display_data"
    },
    {
     "data": {
      "text/html": [
       "<h3>Ingredients:</h3>"
      ],
      "text/plain": [
       "<IPython.core.display.HTML object>"
      ]
     },
     "metadata": {},
     "output_type": "display_data"
    },
    {
     "data": {
      "text/html": [
       "<ul><li>zucchini: 2</li><li>salt: 1</li><li>sugar: 2</li><li>egg: 1</li><li>flour: 1/2</li><li>onion: 1</li><li>onion: 1/2</li><li>green pepper: 1/2</li><li>celery: 1/2</li><li>butter: 1/2</li><li>milk: 5</li><li>salt: 2</li><li>pepper: 1</li></ul>"
      ],
      "text/plain": [
       "<IPython.core.display.HTML object>"
      ]
     },
     "metadata": {},
     "output_type": "display_data"
    },
    {
     "data": {
      "text/html": [
       "<h3>Instructions:</h3>"
      ],
      "text/plain": [
       "<IPython.core.display.HTML object>"
      ]
     },
     "metadata": {},
     "output_type": "display_data"
    },
    {
     "data": {
      "text/html": [
       "<ol><li>Mix all non-dressing ingredients well and drop by teaspoon into hot oil.</li><li>Fry until golden brown.</li><li>YELLOW SQUASH DRESSING:</li><li>Saute onion, pepper and celery in butter until tender.</li><li>Add to cornbread and stir well.</li><li>Stir in remaining ingredients  mixing well.</li><li>Pour into a greased 13 x 9 x 2-inch baking dish.</li><li>Bake at 400 degrees for 50 minutes or until lightly browned.</li></ol>"
      ],
      "text/plain": [
       "<IPython.core.display.HTML object>"
      ]
     },
     "metadata": {},
     "output_type": "display_data"
    },
    {
     "data": {
      "text/html": [
       "<h2>\"Chicken</h2>"
      ],
      "text/plain": [
       "<IPython.core.display.HTML object>"
      ]
     },
     "metadata": {},
     "output_type": "display_data"
    },
    {
     "data": {
      "text/html": [
       "<img src=\"https://img.sndimg.com/food/image/upload/w_555,h_416,c_fit,fl_progressive,q_95/v1/img/recipes/15/22/picmcIroO.jpg\" width=\"400\"/>"
      ],
      "text/plain": [
       "<IPython.core.display.Image object>"
      ]
     },
     "metadata": {},
     "output_type": "display_data"
    },
    {
     "data": {
      "text/html": [
       "<h3>Ingredients:</h3>"
      ],
      "text/plain": [
       "<IPython.core.display.HTML object>"
      ]
     },
     "metadata": {},
     "output_type": "display_data"
    },
    {
     "data": {
      "text/html": [
       "<ul><li>boneless skinless chicken breast half: 3/4</li><li>bacon: 3</li><li>garlic cloves: 2</li><li>red bell pepper: 1 1/2</li><li>cumin: 1</li><li>salt: 1</li><li>green onion: 1/4</li><li>monterey jack cheese: 1/2</li><li>black beans: 1 1/2</li><li>flour tortillas: 1</li></ul>"
      ],
      "text/plain": [
       "<IPython.core.display.HTML object>"
      ]
     },
     "metadata": {},
     "output_type": "display_data"
    },
    {
     "data": {
      "text/html": [
       "<h3>Instructions:</h3>"
      ],
      "text/plain": [
       "<IPython.core.display.HTML object>"
      ]
     },
     "metadata": {},
     "output_type": "display_data"
    },
    {
     "data": {
      "text/html": [
       "<ol><li>Julienne chicken.</li><li>Saute bacon until crisp, reserving 2 Tbsp drippings.</li><li>Saute  chicken and garlic in drippings until chicken is opaque. Add 1/2 cup picante  sauce, beans, red bell pepper, cumin and salt. Simmer 7-8 minutes, until thick.</li><li>Stir in green onions and crumbled bacon.</li><li>Top each tortilla with 1/4 cup  chicken mixture and 1 Tbsp cheese. Roll up and place in baking dish.</li><li>Top with  remaining 1 cup picante sauce. Bake at 350F for 15 minutes.</li><li>Top with  remaining cheese and bake 3 minutes more.   - - - - - - - - - - - - - - - - - -.</li></ol>"
      ],
      "text/plain": [
       "<IPython.core.display.HTML object>"
      ]
     },
     "metadata": {},
     "output_type": "display_data"
    },
    {
     "data": {
      "text/html": [
       "<h2>Chicken Enchiladas De Jocoque</h2>"
      ],
      "text/plain": [
       "<IPython.core.display.HTML object>"
      ]
     },
     "metadata": {},
     "output_type": "display_data"
    },
    {
     "data": {
      "text/html": [
       "<h3>Ingredients:</h3>"
      ],
      "text/plain": [
       "<IPython.core.display.HTML object>"
      ]
     },
     "metadata": {},
     "output_type": "display_data"
    },
    {
     "data": {
      "text/html": [
       "<ul><li>water: 1</li><li>onion: 1</li><li>celery: 1</li><li>bay leaf: 1</li><li>peppercorns: 1</li><li>salt: 2</li><li>sour cream: 1/2</li><li>butter: 1 1/2</li><li>corn tortillas: 1</li><li>monterey jack cheese: 1/2</li><li>black olives: 4</li></ul>"
      ],
      "text/plain": [
       "<IPython.core.display.HTML object>"
      ]
     },
     "metadata": {},
     "output_type": "display_data"
    },
    {
     "data": {
      "text/html": [
       "<h3>Instructions:</h3>"
      ],
      "text/plain": [
       "<IPython.core.display.HTML object>"
      ]
     },
     "metadata": {},
     "output_type": "display_data"
    },
    {
     "data": {
      "text/html": [
       "<ol><li>Combine chicken and water in pan; bring to boil over high heat; skim off foam.</li><li>Coarsely chop 1/2 the onion and all the celery; add onion, celery, bay leaf,  peppercorns and salt to chicken; simmer, partially covered, 30 minutes.</li><li>Remove  chicken and strain broth.</li><li>Reduce broth to 1/2 cup; season.</li><li>Stir in sour cream  Set aside. Dice cooked chicken.</li><li>In skillet melt butter.</li><li>Add remaining  onions; cook 5 minutes.</li><li>Stir in chilis.</li><li>Remove from heat. Add chicken and 1/2  cup sour cream mix.</li><li>Toss gently.</li><li>Soften tortillas.</li><li>Fill each with 1/4 meat  mixture; place in heavily buttered baking dish.</li><li>Pour sour cream mixture over.</li><li>Top with a strip of cheese and some olives.</li><li>Bake at 375F for 20 minutes   - - - - - - - - - - - - - - - - - -.</li></ol>"
      ],
      "text/plain": [
       "<IPython.core.display.HTML object>"
      ]
     },
     "metadata": {},
     "output_type": "display_data"
    },
    {
     "data": {
      "text/html": [
       "<h2>Pedernales River Chili Con Carne</h2>"
      ],
      "text/plain": [
       "<IPython.core.display.HTML object>"
      ]
     },
     "metadata": {},
     "output_type": "display_data"
    },
    {
     "data": {
      "text/html": [
       "<h3>Ingredients:</h3>"
      ],
      "text/plain": [
       "<IPython.core.display.HTML object>"
      ]
     },
     "metadata": {},
     "output_type": "display_data"
    },
    {
     "data": {
      "text/html": [
       "<ul><li>beef: 3</li><li>onion: 4</li><li>garlic cloves: 1</li><li>salt: 2</li><li>dried oregano: 3</li><li>cumin: 1</li><li>water: 1</li><li>tomatoes: 2</li><li>hot red chili peppers: 32</li><li>red chilies: 4</li></ul>"
      ],
      "text/plain": [
       "<IPython.core.display.HTML object>"
      ]
     },
     "metadata": {},
     "output_type": "display_data"
    },
    {
     "data": {
      "text/html": [
       "<h3>Instructions:</h3>"
      ],
      "text/plain": [
       "<IPython.core.display.HTML object>"
      ]
     },
     "metadata": {},
     "output_type": "display_data"
    },
    {
     "data": {
      "text/html": [
       "<ol><li>Melt the lard or bacon drippings in a large saute pan over medium heat.  Add the meat to the pan.</li><li>Break up any lumps with a fork and cook, stirring  occasionally until the meat is evenly browned.~ 2.</li><li>Add the onions and  garlic and cook until the onions are translucent.~ 3.</li><li>Stir in the salt,  oregano, cumin, water, and tomatoes.~ 4.</li><li>Gradually stir in the ground  chili, testing until you achieve the degree of hotness and flavor the  suits your palate. Bring to a boil, then lower heat and simmer,  uncovered, for 1 hour.</li><li>Stir occasionally.~   - - - - - - - - - - - - - - - - - -.</li></ol>"
      ],
      "text/plain": [
       "<IPython.core.display.HTML object>"
      ]
     },
     "metadata": {},
     "output_type": "display_data"
    },
    {
     "data": {
      "text/html": [
       "<h2>Walter Mcilhenney's Chili Con Carne</h2>"
      ],
      "text/plain": [
       "<IPython.core.display.HTML object>"
      ]
     },
     "metadata": {},
     "output_type": "display_data"
    },
    {
     "data": {
      "text/html": [
       "<h3>Ingredients:</h3>"
      ],
      "text/plain": [
       "<IPython.core.display.HTML object>"
      ]
     },
     "metadata": {},
     "output_type": "display_data"
    },
    {
     "data": {
      "text/html": [
       "<ul><li>lean beef chuck: 1/4</li><li>onion: 3</li><li>garlic cloves: 1</li><li>chili powder: 3</li><li>cumin: 3</li><li>salt: 2</li><li>Tabasco sauce: 2</li><li>water: 2</li><li>green chilies: 3</li><li>rice: 4</li></ul>"
      ],
      "text/plain": [
       "<IPython.core.display.HTML object>"
      ]
     },
     "metadata": {},
     "output_type": "display_data"
    },
    {
     "data": {
      "text/html": [
       "<h3>Instructions:</h3>"
      ],
      "text/plain": [
       "<IPython.core.display.HTML object>"
      ]
     },
     "metadata": {},
     "output_type": "display_data"
    },
    {
     "data": {
      "text/html": [
       "<ol><li>In a 5-quart Dutch oven or heavy saucepan, heat the oil over medium-high  heat. In three batches, brown the beef well, removing each batch with a  slotted spoon.</li><li>Set aside. Add the onion and garlic to the pot and cook for  5 minutes, or until tender, stirring frequently.</li><li>Stir in the chili powder,  cumin, salt, and Tabasco sauce; cook for 1 minute. Add the water and  chilies; bring to a boil.</li><li>Return the beef to the pot. Reduce the heat and  simmer uncovered, 1 1/2 hours, or until the beef is tender.</li><li>Serve the  chili over rice with onion, cheese and sour cream, if desired.</li></ol>"
      ],
      "text/plain": [
       "<IPython.core.display.HTML object>"
      ]
     },
     "metadata": {},
     "output_type": "display_data"
    },
    {
     "data": {
      "text/html": [
       "<h2>Chicken Fried Rice</h2>"
      ],
      "text/plain": [
       "<IPython.core.display.HTML object>"
      ]
     },
     "metadata": {},
     "output_type": "display_data"
    },
    {
     "data": {
      "text/html": [
       "<h3>Ingredients:</h3>"
      ],
      "text/plain": [
       "<IPython.core.display.HTML object>"
      ]
     },
     "metadata": {},
     "output_type": "display_data"
    },
    {
     "data": {
      "text/html": [
       "<ul><li>egg: 1</li><li>chicken: 1</li><li>onion: 2</li><li>water chestnut: 1</li><li>bamboo shoot: 1</li><li>celery: 1/2</li><li>fresh bean sprout: 1/2</li><li>mushroom: 1/2</li><li>rice: 1</li><li>soya sauce: 1/2</li><li>salt: 1/2</li><li>pepper: 4</li></ul>"
      ],
      "text/plain": [
       "<IPython.core.display.HTML object>"
      ]
     },
     "metadata": {},
     "output_type": "display_data"
    },
    {
     "data": {
      "text/html": [
       "<h3>Instructions:</h3>"
      ],
      "text/plain": [
       "<IPython.core.display.HTML object>"
      ]
     },
     "metadata": {},
     "output_type": "display_data"
    },
    {
     "data": {
      "text/html": [
       "<ol><li>Cut up and prepare all ingredients.</li><li>Reserve. Heat wok up with 1 tablespoon oil  and fry egg into a thin sheet. Remove to plate and reserve. Add 2 tablespoons  more oil to wok.</li><li>Heat until smoking.</li><li>Stir fry chicken and onion together until  cooked.</li><li>(If leftover meat is used, just heat through.) Add bean sprouts, peas,  celery.</li><li>Stir and cook 2 minutes with wok covered.</li><li>Uncover wok, add all the rest  of the vegetables.</li><li>Stir fry and cook covered for 2 additional minutes.</li><li>Add  cooked rice, season with salt, pepper, soya sauce. Reduce heat to medium.</li><li>Take  your turner and break up clumps of rice as finely as possible. Make sure rice  takes up soya sauce and does not remain white. Keep stir-frying until all rice  is broken up and heated through.</li><li>Shut heat off.</li><li>Cut up sheet of egg into small  pieces and stir into rice, or remove rice to serving platter and garnish with  egg slivers</li></ol>"
      ],
      "text/plain": [
       "<IPython.core.display.HTML object>"
      ]
     },
     "metadata": {},
     "output_type": "display_data"
    },
    {
     "data": {
      "text/html": [
       "<h2>Vegetable Fried Rice</h2>"
      ],
      "text/plain": [
       "<IPython.core.display.HTML object>"
      ]
     },
     "metadata": {},
     "output_type": "display_data"
    },
    {
     "data": {
      "text/html": [
       "<img src=\"https://img.sndimg.com/food/image/upload/w_555,h_416,c_fit,fl_progressive,q_95/v1/img/recipes/15/40/picPvKvho.jpg\" width=\"400\"/>"
      ],
      "text/plain": [
       "<IPython.core.display.Image object>"
      ]
     },
     "metadata": {},
     "output_type": "display_data"
    },
    {
     "data": {
      "text/html": [
       "<h3>Ingredients:</h3>"
      ],
      "text/plain": [
       "<IPython.core.display.HTML object>"
      ]
     },
     "metadata": {},
     "output_type": "display_data"
    },
    {
     "data": {
      "text/html": [
       "<ul><li>light soy sauce: 1/4</li><li>rice wine: 3</li><li>dry sherry: 1/2</li><li>salt: 6</li><li>garlic: 2</li><li>eggs: 1</li><li>carrot: 1</li><li>red bell pepper: 1/2</li><li>rice: 4</li></ul>"
      ],
      "text/plain": [
       "<IPython.core.display.HTML object>"
      ]
     },
     "metadata": {},
     "output_type": "display_data"
    },
    {
     "data": {
      "text/html": [
       "<h3>Instructions:</h3>"
      ],
      "text/plain": [
       "<IPython.core.display.HTML object>"
      ]
     },
     "metadata": {},
     "output_type": "display_data"
    },
    {
     "data": {
      "text/html": [
       "<ol><li>Combine the ingredients for the sauce in a small bowl.</li><li>Mix to blend well and set  aside. Place a small skillet over medium heat. When it begins to smoke, add 2  tablespoons of peanut oil and the lightly beaten eggs.</li><li>Stir until the eggs are  firm but moist. Transfer the eggs from the skillet to a small bowl and break  them into small curds.</li><li>Set aside. Bring 1 quart of water to a boil in a small  saucepan.</li><li>Add the carrot and boil 1 minute. Drain and rinse in cold water.</li><li>Drain  again and reserve. Place a wok over medium-high heat. When it begins to smoke,  add the remaining 1/4 cup of peanut oil and the garlic. Stir briefly.</li><li>Add the  carrots, celery, red pepper, and peas.</li><li>Stir-fry 1 minute. Stir in the rice and  stir-fry 1 minute. Pour in the sauce and cook until the rice is heated through,  about 5 minutes, stirring frequently.</li><li>Serve hot.</li></ol>"
      ],
      "text/plain": [
       "<IPython.core.display.HTML object>"
      ]
     },
     "metadata": {},
     "output_type": "display_data"
    },
    {
     "data": {
      "text/html": [
       "<h2>Beef with Green Peppers</h2>"
      ],
      "text/plain": [
       "<IPython.core.display.HTML object>"
      ]
     },
     "metadata": {},
     "output_type": "display_data"
    },
    {
     "data": {
      "text/html": [
       "<h3>Ingredients:</h3>"
      ],
      "text/plain": [
       "<IPython.core.display.HTML object>"
      ]
     },
     "metadata": {},
     "output_type": "display_data"
    },
    {
     "data": {
      "text/html": [
       "<ul><li>beef: 12</li><li>cornstarch: 1</li><li>sherry wine: 1</li><li>soy sauce: 1</li><li>fresh ginger: 1</li><li>ground ginger: 5</li><li>shortening: 2</li><li>bell peppers: 1/2</li><li>salt: 1</li><li>soy sauce: 1/2</li></ul>"
      ],
      "text/plain": [
       "<IPython.core.display.HTML object>"
      ]
     },
     "metadata": {},
     "output_type": "display_data"
    },
    {
     "data": {
      "text/html": [
       "<h3>Instructions:</h3>"
      ],
      "text/plain": [
       "<IPython.core.display.HTML object>"
      ]
     },
     "metadata": {},
     "output_type": "display_data"
    },
    {
     "data": {
      "text/html": [
       "<ol><li>Dredge beef with cornstarch, sherry, 1 Tbsp soy sauce and ginger.</li><li>Heat</li><li>oil and saute beef strips.</li><li>When beef changes color, remove to a plate and  in remaining oil saute bell peppers for 1 minute; add salt. Combine  beef, peppers, 1 Tbsp soy sauce & sugar.</li><li>Heat well.</li><li>Serve on rice.  MRS R.W.</li></ol>"
      ],
      "text/plain": [
       "<IPython.core.display.HTML object>"
      ]
     },
     "metadata": {},
     "output_type": "display_data"
    },
    {
     "data": {
      "text/html": [
       "<h2>Ground Beef Stuffed Green Bell Peppers</h2>"
      ],
      "text/plain": [
       "<IPython.core.display.HTML object>"
      ]
     },
     "metadata": {},
     "output_type": "display_data"
    },
    {
     "data": {
      "text/html": [
       "<img src=\"https://img.sndimg.com/food/image/upload/w_555,h_416,c_fit,fl_progressive,q_95/v1/img/recipes/15/51/picaH7Uda.jpg\" width=\"400\"/>"
      ],
      "text/plain": [
       "<IPython.core.display.Image object>"
      ]
     },
     "metadata": {},
     "output_type": "display_data"
    },
    {
     "data": {
      "text/html": [
       "<h3>Ingredients:</h3>"
      ],
      "text/plain": [
       "<IPython.core.display.HTML object>"
      ]
     },
     "metadata": {},
     "output_type": "display_data"
    },
    {
     "data": {
      "text/html": [
       "<ul><li>green bell peppers: 3</li><li>water: 5</li><li>lean beef: 1</li><li>onion: 1/4</li><li>celery: 1/2</li><li>tomato sauce: 1</li><li>salt: 1</li><li>Worcestershire sauce: 1/4</li><li>water: 1</li></ul>"
      ],
      "text/plain": [
       "<IPython.core.display.HTML object>"
      ]
     },
     "metadata": {},
     "output_type": "display_data"
    },
    {
     "data": {
      "text/html": [
       "<h3>Instructions:</h3>"
      ],
      "text/plain": [
       "<IPython.core.display.HTML object>"
      ]
     },
     "metadata": {},
     "output_type": "display_data"
    },
    {
     "data": {
      "text/html": [
       "<ol><li>Heat the oven to 350 degrees F.</li><li>Cut each bell pepper lengthwise in  half.</li><li>Wash the insides and outsides of the peppers after removing the  seeds and membranes.</li><li>Cook the peppers in the boiling salted water  for 5 minutes then drain and set aside. Cook and stir the meat,  onion and celery in a large skillet until the meat is brown.</li><li>Drain  off the excess fat. Stir in half of the tomato sauce and the  remaining ingredients, heat to boiling then reduce the heat and  simmer, covered, for 5 minutes.</li><li>Place the peppers, cut sides up, in  an ungreased baking pan 9 X 9 X 2 or 8 X 8 X 2-inches.</li><li>Spoon the meat  filling into each of the pepper half evenly and then cover the pan  with aluminum foil.</li><li>Bake for 25 minutes then uncover and top with  the remaining tomato sauce and bake an additional 5 minutes.</li></ol>"
      ],
      "text/plain": [
       "<IPython.core.display.HTML object>"
      ]
     },
     "metadata": {},
     "output_type": "display_data"
    },
    {
     "data": {
      "text/html": [
       "<h2>Stuffed Green Bell Peppers II</h2>"
      ],
      "text/plain": [
       "<IPython.core.display.HTML object>"
      ]
     },
     "metadata": {},
     "output_type": "display_data"
    },
    {
     "data": {
      "text/html": [
       "<h3>Ingredients:</h3>"
      ],
      "text/plain": [
       "<IPython.core.display.HTML object>"
      ]
     },
     "metadata": {},
     "output_type": "display_data"
    },
    {
     "data": {
      "text/html": [
       "<ul><li>green peppers: 4</li><li>lean beef: 1</li><li>quick-cooking white rice: 1/2</li><li>salt: 1</li><li>pepper: 1/4</li><li>dried oregano leaves: 1/2</li><li>garlic powder: 1/8</li><li>milk: 1/3</li><li>tomato juice: 1</li><li>egg: 8</li></ul>"
      ],
      "text/plain": [
       "<IPython.core.display.HTML object>"
      ]
     },
     "metadata": {},
     "output_type": "display_data"
    },
    {
     "data": {
      "text/html": [
       "<h3>Instructions:</h3>"
      ],
      "text/plain": [
       "<IPython.core.display.HTML object>"
      ]
     },
     "metadata": {},
     "output_type": "display_data"
    },
    {
     "data": {
      "text/html": [
       "<ol><li>Cut green pepper in half lengthwise; remove core and seeds.</li><li>Place peppers, hollow-side-up, in a shallow, heat-resistant,  non-metallic baking dish.</li><li>In a medium-sized bowl, crumble beef.</li><li>Add rice, salt, pepper, oregano, garlic powder, water, egg and 1/2  cup of tomato sauce. Mix until thoroughly combined.</li><li>Spoon mixture  into pepper halves.</li><li>Spoon remaining tomato sauce over peppers.</li><li>Heat, covered loosely with wax paper, 14 minutes in Micro- wave Oven  or until meat is cooked and peppers are as tender as desired.</li><li>Allow to stand 4 minutes, covered, before serving.</li></ol>"
      ],
      "text/plain": [
       "<IPython.core.display.HTML object>"
      ]
     },
     "metadata": {},
     "output_type": "display_data"
    },
    {
     "data": {
      "text/html": [
       "<h2>Linzer Bar</h2>"
      ],
      "text/plain": [
       "<IPython.core.display.HTML object>"
      ]
     },
     "metadata": {},
     "output_type": "display_data"
    },
    {
     "data": {
      "text/html": [
       "<img src=\"https://img.sndimg.com/food/image/upload/w_555,h_416,c_fit,fl_progressive,q_95/v1/img/recipes/15/64/pict7y6Af.jpg\" width=\"400\"/>"
      ],
      "text/plain": [
       "<IPython.core.display.Image object>"
      ]
     },
     "metadata": {},
     "output_type": "display_data"
    },
    {
     "data": {
      "text/html": [
       "<h3>Ingredients:</h3>"
      ],
      "text/plain": [
       "<IPython.core.display.HTML object>"
      ]
     },
     "metadata": {},
     "output_type": "display_data"
    },
    {
     "data": {
      "text/html": [
       "<ul><li>unsifted flour: 1 3/4</li><li>sugar: 1/4</li><li>brown sugar: 1/4</li><li>baking powder: 1/2</li><li>salt: 1/2</li><li>cinnamon: 1/2</li><li>butter: 1/2</li><li>margarine: 1/4</li><li>dark corn syrup: 1</li><li>egg: 1/2</li><li>flour: 2</li></ul>"
      ],
      "text/plain": [
       "<IPython.core.display.HTML object>"
      ]
     },
     "metadata": {},
     "output_type": "display_data"
    },
    {
     "data": {
      "text/html": [
       "<h3>Instructions:</h3>"
      ],
      "text/plain": [
       "<IPython.core.display.HTML object>"
      ]
     },
     "metadata": {},
     "output_type": "display_data"
    },
    {
     "data": {
      "text/html": [
       "<ol><li>In a large bowl stir together flour, sugar, brown sugar, baking  powder, salt and cinnamon.</li><li>With a pastry blender or two knives use scissor  style, cut in butter or margarine until coarse crumbs form.</li><li>With a fork stir  in corn syrup and egg just until mixed.</li><li>Reserve 1/2 cup batter.</li><li>Press  remaining batter into a 9x9x2-inch baking pan.</li><li>spread with jam.</li><li>Stir 2  tablespoons flour into the reserved batter.</li><li>If preparing a lattice add a couple tablespoons of water - one at a time - to make the dough easy to roll out.  If you are dropping the dough by spoonfulls then just evenly scatter the top \\</li><li>over the jam for a \\</li><li>look and bake.</li><li>On a floured surface roll out to  1/4-inch thickness.</li><li>Cut into 1/4-inch wide strips.</li><li>Lattice strips over jam.</li><li>Bake in 375-degree oven 30 minutes, or until set. Cool.</li><li>Cut into bars. Serving size is really up to you - cut into as many bars as you want.</li></ol>"
      ],
      "text/plain": [
       "<IPython.core.display.HTML object>"
      ]
     },
     "metadata": {},
     "output_type": "display_data"
    },
    {
     "data": {
      "text/html": [
       "<h2>Slavinken</h2>"
      ],
      "text/plain": [
       "<IPython.core.display.HTML object>"
      ]
     },
     "metadata": {},
     "output_type": "display_data"
    },
    {
     "data": {
      "text/html": [
       "<img src=\"https://img.sndimg.com/food/image/upload/w_555,h_416,c_fit,fl_progressive,q_95/v1/img/recipes/15/78/picilmBlT.jpg\" width=\"400\"/>"
      ],
      "text/plain": [
       "<IPython.core.display.Image object>"
      ]
     },
     "metadata": {},
     "output_type": "display_data"
    },
    {
     "data": {
      "text/html": [
       "<h3>Ingredients:</h3>"
      ],
      "text/plain": [
       "<IPython.core.display.HTML object>"
      ]
     },
     "metadata": {},
     "output_type": "display_data"
    },
    {
     "data": {
      "text/html": [
       "<ul><li>salt: 1</li><li>mace: 1</li><li>pepper: 1/2</li><li>nutmeg: 1/4</li><li>bacon: 1/4</li></ul>"
      ],
      "text/plain": [
       "<IPython.core.display.HTML object>"
      ]
     },
     "metadata": {},
     "output_type": "display_data"
    },
    {
     "data": {
      "text/html": [
       "<h3>Instructions:</h3>"
      ],
      "text/plain": [
       "<IPython.core.display.HTML object>"
      ]
     },
     "metadata": {},
     "output_type": "display_data"
    },
    {
     "data": {
      "text/html": [
       "<ol><li>Mix the pork, salt, spices and bread crumbs well.</li><li>Form 4 cylinder-shaped  rolls.</li><li>For each roll, place 2 slices of bacon parallel on the counter.</li><li>Roll the bacon slices around the meat roll, then fold a third slice of  bacon lengthwise around the meat roll to cover the ends.</li><li>Fasten this slice  with 2 toothpicks, 1 at each end.</li><li>Place the bacon rolls on a cookie sheet.   Bake in a preheated oven at 350 degrees F.</li><li>for 1/2 hour.</li><li>Remove  toothpicks and serve.   - - - - - - - - - - - - - - - - - -  NOTES : Slavinken are traditionally served with boiled potatoes and  vegetables such as cauliflower, peas, spinach or endive and, of course, a  Dutch-style salad.</li><li>MasterCook Formatted by Carol H.</li></ol>"
      ],
      "text/plain": [
       "<IPython.core.display.HTML object>"
      ]
     },
     "metadata": {},
     "output_type": "display_data"
    },
    {
     "data": {
      "text/html": [
       "<h2>Dutch Buttercake</h2>"
      ],
      "text/plain": [
       "<IPython.core.display.HTML object>"
      ]
     },
     "metadata": {},
     "output_type": "display_data"
    },
    {
     "data": {
      "text/html": [
       "<img src=\"https://img.sndimg.com/food/image/upload/w_555,h_416,c_fit,fl_progressive,q_95/v1/img/recipes/15/80/1580.jpg\" width=\"400\"/>"
      ],
      "text/plain": [
       "<IPython.core.display.Image object>"
      ]
     },
     "metadata": {},
     "output_type": "display_data"
    },
    {
     "data": {
      "text/html": [
       "<h3>Ingredients:</h3>"
      ],
      "text/plain": [
       "<IPython.core.display.HTML object>"
      ]
     },
     "metadata": {},
     "output_type": "display_data"
    },
    {
     "data": {
      "text/html": [
       "<ul><li>flour: 2</li><li>baking powder: 1</li><li>sugar: 2/3</li><li>unsalted butter: 8</li><li>salt: 1</li></ul>"
      ],
      "text/plain": [
       "<IPython.core.display.HTML object>"
      ]
     },
     "metadata": {},
     "output_type": "display_data"
    },
    {
     "data": {
      "text/html": [
       "<h3>Instructions:</h3>"
      ],
      "text/plain": [
       "<IPython.core.display.HTML object>"
      ]
     },
     "metadata": {},
     "output_type": "display_data"
    },
    {
     "data": {
      "text/html": [
       "<ol><li>Grease a 1 1/2 X 8\\</li><li>,</li><li>,</li><li>,</li><li>,</li><li>,</li><li>,</li><li>,</li><li>Bake 350 F. for 30-35 minutes.</li><li>Allow to cool thoroughly before serving.</li></ol>"
      ],
      "text/plain": [
       "<IPython.core.display.HTML object>"
      ]
     },
     "metadata": {},
     "output_type": "display_data"
    },
    {
     "data": {
      "text/html": [
       "<h2>Gehaktballen: Dutch meatballs</h2>"
      ],
      "text/plain": [
       "<IPython.core.display.HTML object>"
      ]
     },
     "metadata": {},
     "output_type": "display_data"
    },
    {
     "data": {
      "text/html": [
       "<img src=\"https://img.sndimg.com/food/image/upload/w_555,h_416,c_fit,fl_progressive,q_95/v1/img/recipes/15/81/mcsAgnZTguHkvT8GDmJg-CHIF.jpg\" width=\"400\"/>"
      ],
      "text/plain": [
       "<IPython.core.display.Image object>"
      ]
     },
     "metadata": {},
     "output_type": "display_data"
    },
    {
     "data": {
      "text/html": [
       "<h3>Ingredients:</h3>"
      ],
      "text/plain": [
       "<IPython.core.display.HTML object>"
      ]
     },
     "metadata": {},
     "output_type": "display_data"
    },
    {
     "data": {
      "text/html": [
       "<ul><li>lean ground beef: 1</li><li>egg: 1</li><li>onion: 2</li><li>salt: 1</li><li>curry powder: 1 1/2</li><li>mace: 1/2</li><li>pepper: 1/2</li><li>butter: 1/2</li><li>water: 3</li><li>ketjap manis: 1/2</li></ul>"
      ],
      "text/plain": [
       "<IPython.core.display.HTML object>"
      ]
     },
     "metadata": {},
     "output_type": "display_data"
    },
    {
     "data": {
      "text/html": [
       "<h3>Instructions:</h3>"
      ],
      "text/plain": [
       "<IPython.core.display.HTML object>"
      ]
     },
     "metadata": {},
     "output_type": "display_data"
    },
    {
     "data": {
      "text/html": [
       "<ol><li>Mix the meat with the egg, bread, onion, salt and spices and form 4-5 meatballs.</li><li>Chill for about 30 minutes.</li><li>Make into 4-6 meatballs.</li><li>Heat the butter and brown the meatballs for about 15 minutes, turning them a couple of times.</li><li>Reduce the heat to simmer and cook the meatballs for another 15 minutes, turning a few times.</li><li>Remove the meatballs, add the water or beef stock and bring to a high heat.  Add a little ketjap manis or Maggi seasoning to the mixture and you will have a lovely gravy to serve with the meatballs.</li><li>NOTES : Some people coat the meatballs with breadcrumbs before frying.</li><li>We soak the bread in a bit of milk, and then press out the milk from the bread before adding to the ground beef.</li><li>We almost always use just the ground beef, and it is very good.</li><li>This is good served with homefries and lots of mayonnaise.</li></ol>"
      ],
      "text/plain": [
       "<IPython.core.display.HTML object>"
      ]
     },
     "metadata": {},
     "output_type": "display_data"
    },
    {
     "data": {
      "text/html": [
       "<h2>Grilled Lemon Chicken</h2>"
      ],
      "text/plain": [
       "<IPython.core.display.HTML object>"
      ]
     },
     "metadata": {},
     "output_type": "display_data"
    },
    {
     "data": {
      "text/html": [
       "<img src=\"https://img.sndimg.com/food/image/upload/w_555,h_416,c_fit,fl_progressive,q_95/v1/img/recipes/15/91/picM4yih3.jpg\" width=\"400\"/>"
      ],
      "text/plain": [
       "<IPython.core.display.Image object>"
      ]
     },
     "metadata": {},
     "output_type": "display_data"
    },
    {
     "data": {
      "text/html": [
       "<h3>Ingredients:</h3>"
      ],
      "text/plain": [
       "<IPython.core.display.HTML object>"
      ]
     },
     "metadata": {},
     "output_type": "display_data"
    },
    {
     "data": {
      "text/html": [
       "<ul><li>fresh lemon juice: 1/4</li><li>extra virgin olive oil: 1/4</li><li>lemon pepper seasoning mix: 2</li><li>chicken cutlets: 6</li></ul>"
      ],
      "text/plain": [
       "<IPython.core.display.HTML object>"
      ]
     },
     "metadata": {},
     "output_type": "display_data"
    },
    {
     "data": {
      "text/html": [
       "<h3>Instructions:</h3>"
      ],
      "text/plain": [
       "<IPython.core.display.HTML object>"
      ]
     },
     "metadata": {},
     "output_type": "display_data"
    },
    {
     "data": {
      "text/html": [
       "<ol><li>Preheat the broiler or BBQ grill.</li><li>In a low, flat dish stir together the  lemon juice, oil and Lemon Pepper Seasoning Mix.</li><li>Add the chicken breasts,  and marinate in the refrigerator for 30 to 45 minutes.</li><li>Grill over hot  coals or broil for 4 minutes on each side, or until done. Serve hot or at  room temperature.   - - - - - - - - - - - - - - - - - -</li></ol>"
      ],
      "text/plain": [
       "<IPython.core.display.HTML object>"
      ]
     },
     "metadata": {},
     "output_type": "display_data"
    },
    {
     "data": {
      "text/html": [
       "<h2>Lemon-Barbecued Chicken</h2>"
      ],
      "text/plain": [
       "<IPython.core.display.HTML object>"
      ]
     },
     "metadata": {},
     "output_type": "display_data"
    },
    {
     "data": {
      "text/html": [
       "<h3>Ingredients:</h3>"
      ],
      "text/plain": [
       "<IPython.core.display.HTML object>"
      ]
     },
     "metadata": {},
     "output_type": "display_data"
    },
    {
     "data": {
      "text/html": [
       "<ul><li>chicken: 2</li><li>olive oil: 1</li><li>lemon juice: 1/2</li><li>salt: 1</li><li>paprika: 1</li><li>onion powder: 2</li><li>thyme: 1/2</li><li>garlic powder: 1/2</li></ul>"
      ],
      "text/plain": [
       "<IPython.core.display.HTML object>"
      ]
     },
     "metadata": {},
     "output_type": "display_data"
    },
    {
     "data": {
      "text/html": [
       "<h3>Instructions:</h3>"
      ],
      "text/plain": [
       "<IPython.core.display.HTML object>"
      ]
     },
     "metadata": {},
     "output_type": "display_data"
    },
    {
     "data": {
      "text/html": [
       "<ol><li>Cut chicken into serving pieces and place in shallow dish or pan.</li><li>Combine all other ingredients and pour over chicken.</li><li>Cover dish with  foil; refrigerate overnight. Remove to room temperature 1 hour before  cooking.</li><li>Place chicken on hot grill 25 minutes; then turn and cook 25  minutes more. Brush often with marinade.</li><li></li></ol>"
      ],
      "text/plain": [
       "<IPython.core.display.HTML object>"
      ]
     },
     "metadata": {},
     "output_type": "display_data"
    },
    {
     "data": {
      "text/html": [
       "<h2>Lemon-Buttered Salmon</h2>"
      ],
      "text/plain": [
       "<IPython.core.display.HTML object>"
      ]
     },
     "metadata": {},
     "output_type": "display_data"
    },
    {
     "data": {
      "text/html": [
       "<h3>Ingredients:</h3>"
      ],
      "text/plain": [
       "<IPython.core.display.HTML object>"
      ]
     },
     "metadata": {},
     "output_type": "display_data"
    },
    {
     "data": {
      "text/html": [
       "<ul><li>salmon fillet: 1</li><li>butter: 2</li><li>margarine: 2</li><li>lemon juice: 1/2</li><li>pepper: 1/2</li></ul>"
      ],
      "text/plain": [
       "<IPython.core.display.HTML object>"
      ]
     },
     "metadata": {},
     "output_type": "display_data"
    },
    {
     "data": {
      "text/html": [
       "<h3>Instructions:</h3>"
      ],
      "text/plain": [
       "<IPython.core.display.HTML object>"
      ]
     },
     "metadata": {},
     "output_type": "display_data"
    },
    {
     "data": {
      "text/html": [
       "<ol><li>Arrange fillets in shallow 1-1/2-quart oval micro-type casserole or glass  pie plate. Dot with butter.</li><li>Sprinkle with remaining ingredients.</li><li>Cover  with plastic wrap.</li><li>Use HIGH cycle and cook 10-12 minutes or until fish flakes  easily and is opaque. Let stand 2 minutes before serving.</li><li>Cooking time: 10-12 minutes   - - - - - - - - - - - - - - - - - -</li></ol>"
      ],
      "text/plain": [
       "<IPython.core.display.HTML object>"
      ]
     },
     "metadata": {},
     "output_type": "display_data"
    },
    {
     "data": {
      "text/html": [
       "<h2>Lemon-Pineapple Baked Chicken</h2>"
      ],
      "text/plain": [
       "<IPython.core.display.HTML object>"
      ]
     },
     "metadata": {},
     "output_type": "display_data"
    },
    {
     "data": {
      "text/html": [
       "<img src=\"https://img.sndimg.com/food/image/upload/w_555,h_416,c_fit,fl_progressive,q_95/v1/img/recipes/15/95/picLLVm4E.jpg\" width=\"400\"/>"
      ],
      "text/plain": [
       "<IPython.core.display.Image object>"
      ]
     },
     "metadata": {},
     "output_type": "display_data"
    },
    {
     "data": {
      "text/html": [
       "<h3>Ingredients:</h3>"
      ],
      "text/plain": [
       "<IPython.core.display.HTML object>"
      ]
     },
     "metadata": {},
     "output_type": "display_data"
    },
    {
     "data": {
      "text/html": [
       "<ul><li>pineapple chunks in juice: 20</li><li>garlic: 2</li><li>cornstarch: 1</li><li>Worcestershire sauce: 1</li><li>Dijon mustard: 2</li><li>dried rosemary: 1</li><li>salt: 1</li><li>lemon: 1</li><li>chicken breast halves: 6</li></ul>"
      ],
      "text/plain": [
       "<IPython.core.display.HTML object>"
      ]
     },
     "metadata": {},
     "output_type": "display_data"
    },
    {
     "data": {
      "text/html": [
       "<h3>Instructions:</h3>"
      ],
      "text/plain": [
       "<IPython.core.display.HTML object>"
      ]
     },
     "metadata": {},
     "output_type": "display_data"
    },
    {
     "data": {
      "text/html": [
       "<ol><li>Drain pineapple; combine the juice with garlic, cornstarch,  Worcestershire sauce, mustard and rosemary.</li><li>Set aside.  Arrange chicken in shallow pan, skin side up.</li><li>Sprinkle with salt.  Broil until browned.</li><li>Stir the sauce and pour over the chicken.</li><li>Bake at 350 degrees for about 25 minutes, depending on thickness of  chicken.</li><li>Arrange pineapple and thin lemon slices around chicken, baste  with the sauce in pan and continue baking 5 minutes longer.</li><li>- - - - - - - - - - - - - - - - - -  Serving Ideas : Serve over rice.</li></ol>"
      ],
      "text/plain": [
       "<IPython.core.display.HTML object>"
      ]
     },
     "metadata": {},
     "output_type": "display_data"
    },
    {
     "data": {
      "text/html": [
       "<h2>Peanut Butter Bars</h2>"
      ],
      "text/plain": [
       "<IPython.core.display.HTML object>"
      ]
     },
     "metadata": {},
     "output_type": "display_data"
    },
    {
     "data": {
      "text/html": [
       "<img src=\"https://img.sndimg.com/food/image/upload/w_555,h_416,c_fit,fl_progressive,q_95/v1/img/recipes/16/05/picI6DHJo.jpg\" width=\"400\"/>"
      ],
      "text/plain": [
       "<IPython.core.display.Image object>"
      ]
     },
     "metadata": {},
     "output_type": "display_data"
    },
    {
     "data": {
      "text/html": [
       "<h3>Ingredients:</h3>"
      ],
      "text/plain": [
       "<IPython.core.display.HTML object>"
      ]
     },
     "metadata": {},
     "output_type": "display_data"
    },
    {
     "data": {
      "text/html": [
       "<ul><li>butter: 1/2</li><li>regular margarine: 1/2</li><li>brown sugar: 1/2</li><li>sugar: 1</li><li>egg: 1</li><li>vanilla: 1/3</li><li>peanut butter: 1</li><li>unbleached flour: 1/2</li><li>baking soda: 1/4</li><li>salt: 1</li><li>oats: 1</li><li>chocolate chips: 1/4</li><li>confectioners' sugar: 1/4</li><li>peanut butter: 2</li><li>butter: 1/4</li><li>margarine: 1/2</li></ul>"
      ],
      "text/plain": [
       "<IPython.core.display.HTML object>"
      ]
     },
     "metadata": {},
     "output_type": "display_data"
    },
    {
     "data": {
      "text/html": [
       "<h3>Instructions:</h3>"
      ],
      "text/plain": [
       "<IPython.core.display.HTML object>"
      ]
     },
     "metadata": {},
     "output_type": "display_data"
    },
    {
     "data": {
      "text/html": [
       "<ol><li>Cream the butter, brown sugar, and sugar in a mixing bowl until light</li><li>and fluffy, using an electric mixer at medium speed.</li><li>Beat in the egg  and vanilla.</li><li>Blend in the peanut butter.</li><li>Sift the flour, baking soda  and salt together.</li><li>Stir the dry ingredients into the creamed mixture,  blending well.</li><li>Stir in the oats.</li><li>Spread the mixture in a greased 13 X  9 X 2-inch baking pan.</li><li>Sprinkle with the chocolate chips.</li><li>Bake in a  350 degree F.</li><li>oven for 25 minutes or until done. Cool in the pan on a  rack.</li><li>While still warm drizzle with the vanilla glaze. When cooled,  cut into 48 (2 X 1 1/2-inch) bars.</li><li>VANILLA GLAZE:  Combine all of the ingredients in a bowl and beat, with an electric  mixer set to high speed, until smooth.</li></ol>"
      ],
      "text/plain": [
       "<IPython.core.display.HTML object>"
      ]
     },
     "metadata": {},
     "output_type": "display_data"
    },
    {
     "data": {
      "text/html": [
       "<h2>Easy Sweet Potato Pie</h2>"
      ],
      "text/plain": [
       "<IPython.core.display.HTML object>"
      ]
     },
     "metadata": {},
     "output_type": "display_data"
    },
    {
     "data": {
      "text/html": [
       "<h3>Ingredients:</h3>"
      ],
      "text/plain": [
       "<IPython.core.display.HTML object>"
      ]
     },
     "metadata": {},
     "output_type": "display_data"
    },
    {
     "data": {
      "text/html": [
       "<ul><li>sweet potatoes: 2</li><li>egg: 1</li><li>salt: 1</li><li>nutmeg: 1/2</li><li>ginger: 1/2</li><li>cinnamon: 1/2</li></ul>"
      ],
      "text/plain": [
       "<IPython.core.display.HTML object>"
      ]
     },
     "metadata": {},
     "output_type": "display_data"
    },
    {
     "data": {
      "text/html": [
       "<h3>Instructions:</h3>"
      ],
      "text/plain": [
       "<IPython.core.display.HTML object>"
      ]
     },
     "metadata": {},
     "output_type": "display_data"
    },
    {
     "data": {
      "text/html": [
       "<ol><li>Combine sweet potatoes, milk, egg, salt and spices.</li><li>Mix well.</li><li>Pour into pastry shell.</li><li>Bake in 375 degree  oven for 50 to 55 minutes or until knife inserted near  center comes out clean.</li><li>Cool.</li><li>Refrigerate at least  1 hour before cutting.</li></ol>"
      ],
      "text/plain": [
       "<IPython.core.display.HTML object>"
      ]
     },
     "metadata": {},
     "output_type": "display_data"
    },
    {
     "data": {
      "text/html": [
       "<h2>Hamburger Casserole</h2>"
      ],
      "text/plain": [
       "<IPython.core.display.HTML object>"
      ]
     },
     "metadata": {},
     "output_type": "display_data"
    },
    {
     "data": {
      "text/html": [
       "<h3>Ingredients:</h3>"
      ],
      "text/plain": [
       "<IPython.core.display.HTML object>"
      ]
     },
     "metadata": {},
     "output_type": "display_data"
    },
    {
     "data": {
      "text/html": [
       "<ul><li>hamburger: 1</li><li>bacon: 1/4</li><li>rice: 2</li><li>tomatoes: 1</li><li>salt: 1</li><li>peas: 1</li><li>cheese: 1/4</li></ul>"
      ],
      "text/plain": [
       "<IPython.core.display.HTML object>"
      ]
     },
     "metadata": {},
     "output_type": "display_data"
    },
    {
     "data": {
      "text/html": [
       "<h3>Instructions:</h3>"
      ],
      "text/plain": [
       "<IPython.core.display.HTML object>"
      ]
     },
     "metadata": {},
     "output_type": "display_data"
    },
    {
     "data": {
      "text/html": [
       "<ol><li>Cook all meat until browned; drain fat.</li><li>Place remaining ingredients in alternate  layers in a casserole and top with bread crumbs.</li><li>Drizzle with 2 teaspoons melted  butter and bake 1 hour at 350°F.</li></ol>"
      ],
      "text/plain": [
       "<IPython.core.display.HTML object>"
      ]
     },
     "metadata": {},
     "output_type": "display_data"
    },
    {
     "data": {
      "text/html": [
       "<h2>Crab Corn Pudding</h2>"
      ],
      "text/plain": [
       "<IPython.core.display.HTML object>"
      ]
     },
     "metadata": {},
     "output_type": "display_data"
    },
    {
     "data": {
      "text/html": [
       "<h3>Ingredients:</h3>"
      ],
      "text/plain": [
       "<IPython.core.display.HTML object>"
      ]
     },
     "metadata": {},
     "output_type": "display_data"
    },
    {
     "data": {
      "text/html": [
       "<ul><li>milk: 4</li><li>yellow cornmeal: 1</li><li>sugar: 2</li><li>salt: 1/4</li><li>cayenne pepper: 1</li><li>eggs: 4</li><li>unsalted butter: 1/2</li><li>baking powder: 1 1/4</li><li>fresh corn kernels: 1</li></ul>"
      ],
      "text/plain": [
       "<IPython.core.display.HTML object>"
      ]
     },
     "metadata": {},
     "output_type": "display_data"
    },
    {
     "data": {
      "text/html": [
       "<h3>Instructions:</h3>"
      ],
      "text/plain": [
       "<IPython.core.display.HTML object>"
      ]
     },
     "metadata": {},
     "output_type": "display_data"
    },
    {
     "data": {
      "text/html": [
       "<ol><li>In a large deep saucepan bring the milk to a boil over medium-high heat. Stir in the yellow corn meal, sugar, salt, and cayenne pepper.</li><li>Let the mixture return to a boil, then reduce heat to a simmer.</li><li>Stir often and continue to simmer for 5 to 6 minutes.</li><li>Remove from heat and let cool for 10 minutes.</li><li>In a large bowl,  whisk together the eggs, melted butter, and baking powder.</li><li>Stir in the corn  kernels.</li><li>Add the milk-corn meal mixture and stir to combine. Gently fold in crab to avoid breaking up lumps.</li><li>Pour the mixture into a well-buttered 2 1/2 quart  souffle dish, casserole, or any other straight-sided baking dish.</li><li>Bake on the  center rack of a preheated 350-degree oven for 45 minutes to 1 hour, or until  the pudding is lightly puffed, lightly browned, and a knife or straw inserted in the center comes out clean.</li><li>Serve immediately.</li></ol>"
      ],
      "text/plain": [
       "<IPython.core.display.HTML object>"
      ]
     },
     "metadata": {},
     "output_type": "display_data"
    },
    {
     "data": {
      "text/html": [
       "<h2>Gorditas</h2>"
      ],
      "text/plain": [
       "<IPython.core.display.HTML object>"
      ]
     },
     "metadata": {},
     "output_type": "display_data"
    },
    {
     "data": {
      "text/html": [
       "<h3>Ingredients:</h3>"
      ],
      "text/plain": [
       "<IPython.core.display.HTML object>"
      ]
     },
     "metadata": {},
     "output_type": "display_data"
    },
    {
     "data": {
      "text/html": [
       "<ul><li>beef: 1</li><li>onion: 1</li><li>salt: 2</li><li>pepper: 1/4</li><li>chili powder: 1</li><li>masa harina: 1/4</li><li>baking powder: 2</li><li>salt: 1</li><li>water: 2</li><li>bacon: 1</li><li>lettuce: 2</li><li>tomatoes: 2</li></ul>"
      ],
      "text/plain": [
       "<IPython.core.display.HTML object>"
      ]
     },
     "metadata": {},
     "output_type": "display_data"
    },
    {
     "data": {
      "text/html": [
       "<h3>Instructions:</h3>"
      ],
      "text/plain": [
       "<IPython.core.display.HTML object>"
      ]
     },
     "metadata": {},
     "output_type": "display_data"
    },
    {
     "data": {
      "text/html": [
       "<ol><li>Fry beef and onion together.</li><li>Season with salt, pepper, garlic salt and chile powder.</li><li>While meat is cooking, mix with hands all ingredients for shells.</li><li>Pinch off small portion of dough and roll into 2-inch ball.</li><li>With quick patting motion, flatten out to 1/2 inch thickness and about 3 inches in diameter.</li><li>Fry in hot grease until golden brown, turning once. Drain.</li><li>Make a slit through the middle; open slightly like a taco shell and stuff with meat mixture, lettuce, tomatoes and cheese.</li></ol>"
      ],
      "text/plain": [
       "<IPython.core.display.HTML object>"
      ]
     },
     "metadata": {},
     "output_type": "display_data"
    },
    {
     "data": {
      "text/html": [
       "<h2>Japanese Cabbage Salad with Chicken</h2>"
      ],
      "text/plain": [
       "<IPython.core.display.HTML object>"
      ]
     },
     "metadata": {},
     "output_type": "display_data"
    },
    {
     "data": {
      "text/html": [
       "<h3>Ingredients:</h3>"
      ],
      "text/plain": [
       "<IPython.core.display.HTML object>"
      ]
     },
     "metadata": {},
     "output_type": "display_data"
    },
    {
     "data": {
      "text/html": [
       "<ul><li>sesame seeds: 2</li><li>head of cabbage: 2</li><li>green onions with tops: 1/2</li><li>chicken breast: 2</li><li>vinegar: 1</li><li>sugar: 1</li><li>salt: 1/2</li><li>pepper: 3</li></ul>"
      ],
      "text/plain": [
       "<IPython.core.display.HTML object>"
      ]
     },
     "metadata": {},
     "output_type": "display_data"
    },
    {
     "data": {
      "text/html": [
       "<h3>Instructions:</h3>"
      ],
      "text/plain": [
       "<IPython.core.display.HTML object>"
      ]
     },
     "metadata": {},
     "output_type": "display_data"
    },
    {
     "data": {
      "text/html": [
       "<ol><li>Toast sesame seed and almonds in oven until light brown.</li><li>Combine with remaining ingredients.</li><li>Dressing:</li><li>Mix all ingredients together and pour over salad mixture; toss lightly.</li><li>Chill  overnight. This recipe doubles easily, ham or turkey can be substituted for  chicken.</li></ol>"
      ],
      "text/plain": [
       "<IPython.core.display.HTML object>"
      ]
     },
     "metadata": {},
     "output_type": "display_data"
    },
    {
     "data": {
      "text/html": [
       "<h2>Hainanese Chicken Rice</h2>"
      ],
      "text/plain": [
       "<IPython.core.display.HTML object>"
      ]
     },
     "metadata": {},
     "output_type": "display_data"
    },
    {
     "data": {
      "text/html": [
       "<h3>Ingredients:</h3>"
      ],
      "text/plain": [
       "<IPython.core.display.HTML object>"
      ]
     },
     "metadata": {},
     "output_type": "display_data"
    },
    {
     "data": {
      "text/html": [
       "<ul><li>chicken: 1</li><li>water: 1</li><li>ginger: 1</li><li>salt: 4</li><li>garlic cloves: 3</li><li>celery: 1</li><li>salt: 1</li><li>red chilies: 3</li><li>garlic cloves: 2</li><li>ginger: 1</li><li>sugar: 2</li><li>vinegar: 3</li><li>fish sauce: 3</li><li>salt: 1/2</li></ul>"
      ],
      "text/plain": [
       "<IPython.core.display.HTML object>"
      ]
     },
     "metadata": {},
     "output_type": "display_data"
    },
    {
     "data": {
      "text/html": [
       "<h3>Instructions:</h3>"
      ],
      "text/plain": [
       "<IPython.core.display.HTML object>"
      ]
     },
     "metadata": {},
     "output_type": "display_data"
    },
    {
     "data": {
      "text/html": [
       "<ol><li>Pound ginger and rub all over chicken.</li><li>Boil water, add chicken and boil for 15  minutes, cover pot tightly and turn heat off and let it cook slowly for 1 hour.</li><li>Turn on flame again, when it start to boil take out chicken and rinse it under  cold water, then set aside Wash rice and drai n.</li><li>Heat oil and fry garlic and  celery for 2 minutes.</li><li>Add rice and stir until rice is covered with oil.</li><li>Pour in  broth and reduce heat to cook.</li><li>Mix all the sauce ingredients together to make  sauce.</li></ol>"
      ],
      "text/plain": [
       "<IPython.core.display.HTML object>"
      ]
     },
     "metadata": {},
     "output_type": "display_data"
    },
    {
     "data": {
      "text/html": [
       "<h2>Chicken Fritada</h2>"
      ],
      "text/plain": [
       "<IPython.core.display.HTML object>"
      ]
     },
     "metadata": {},
     "output_type": "display_data"
    },
    {
     "data": {
      "text/html": [
       "<h3>Ingredients:</h3>"
      ],
      "text/plain": [
       "<IPython.core.display.HTML object>"
      ]
     },
     "metadata": {},
     "output_type": "display_data"
    },
    {
     "data": {
      "text/html": [
       "<ul><li>chicken: 3</li><li>garlic: 2</li><li>onion: 5</li><li>tomatoes: 1</li><li>salt: 2</li><li>pepper: 1</li><li>water: 1/2</li><li>new potato: 1</li><li>green pepper: 1</li></ul>"
      ],
      "text/plain": [
       "<IPython.core.display.HTML object>"
      ]
     },
     "metadata": {},
     "output_type": "display_data"
    },
    {
     "data": {
      "text/html": [
       "<h3>Instructions:</h3>"
      ],
      "text/plain": [
       "<IPython.core.display.HTML object>"
      ]
     },
     "metadata": {},
     "output_type": "display_data"
    },
    {
     "data": {
      "text/html": [
       "<ol><li>Heat oil and fry garlic and onion.</li><li>Add chicken and fry until brown.</li><li>Add  tomatoes, salt, pepper and water.</li><li>Simmer for 20 minutes.</li><li>Add potatoes and simmer  for 10 minutes, then add red and green peppers and finish cooking.</li></ol>"
      ],
      "text/plain": [
       "<IPython.core.display.HTML object>"
      ]
     },
     "metadata": {},
     "output_type": "display_data"
    },
    {
     "data": {
      "text/html": [
       "<h2>Chicken in Tomato Gravy</h2>"
      ],
      "text/plain": [
       "<IPython.core.display.HTML object>"
      ]
     },
     "metadata": {},
     "output_type": "display_data"
    },
    {
     "data": {
      "text/html": [
       "<h3>Ingredients:</h3>"
      ],
      "text/plain": [
       "<IPython.core.display.HTML object>"
      ]
     },
     "metadata": {},
     "output_type": "display_data"
    },
    {
     "data": {
      "text/html": [
       "<ul><li>chicken: 1</li><li>tomato sauce: 4</li><li>red Italian tomatoes: 3</li><li>green chilies: 4</li><li>salt: 3</li><li>sugar: 1</li><li>lime juice: 1</li><li>onion: 1</li><li>red chilies: 1/2</li><li>pepper: 1</li></ul>"
      ],
      "text/plain": [
       "<IPython.core.display.HTML object>"
      ]
     },
     "metadata": {},
     "output_type": "display_data"
    },
    {
     "data": {
      "text/html": [
       "<h3>Instructions:</h3>"
      ],
      "text/plain": [
       "<IPython.core.display.HTML object>"
      ]
     },
     "metadata": {},
     "output_type": "display_data"
    },
    {
     "data": {
      "text/html": [
       "<ol><li>Blend spices until fine. Heat oil and fry chicken until brown.</li><li>Remove chicken  and fry spices for 2 minutes.</li><li>Add tomato sauce, tomatoes, chilies, salt, sugar  and lime juice and stir for 3 minutes.</li><li>Add chicken, coconut juice and simmer for  20 minutes or until liquid is reduced to a thick gravy.</li></ol>"
      ],
      "text/plain": [
       "<IPython.core.display.HTML object>"
      ]
     },
     "metadata": {},
     "output_type": "display_data"
    },
    {
     "data": {
      "text/html": [
       "<h2>Braised Duck with Onion</h2>"
      ],
      "text/plain": [
       "<IPython.core.display.HTML object>"
      ]
     },
     "metadata": {},
     "output_type": "display_data"
    },
    {
     "data": {
      "text/html": [
       "<h3>Ingredients:</h3>"
      ],
      "text/plain": [
       "<IPython.core.display.HTML object>"
      ]
     },
     "metadata": {},
     "output_type": "display_data"
    },
    {
     "data": {
      "text/html": [
       "<ul><li>duck: 1</li><li>salt: 1</li><li>black soy sauce: 1</li><li>brandy: 1</li><li>garlic: 2</li><li>onions: 4</li><li>water: 2</li><li>cornstarch: 4</li></ul>"
      ],
      "text/plain": [
       "<IPython.core.display.HTML object>"
      ]
     },
     "metadata": {},
     "output_type": "display_data"
    },
    {
     "data": {
      "text/html": [
       "<h3>Instructions:</h3>"
      ],
      "text/plain": [
       "<IPython.core.display.HTML object>"
      ]
     },
     "metadata": {},
     "output_type": "display_data"
    },
    {
     "data": {
      "text/html": [
       "<ol><li>Rub duck with salt, soy sauce, brandy and garlic and marinate for 30 minutes.</li><li>Heat oil and fry sliced onions until soft but not brown, remove. Add duck and  brown all over.</li><li>Put back onion, add water, cover and simmer for 1  hour, add marinade and simmer for 20 minutes more or until duck is tender.</li><li>Dissolve cornstarch with a little water and add to gravy.</li><li>Boil until gravy  thickens and serve duck whole with gravy in sauce boat.</li></ol>"
      ],
      "text/plain": [
       "<IPython.core.display.HTML object>"
      ]
     },
     "metadata": {},
     "output_type": "display_data"
    },
    {
     "data": {
      "text/html": [
       "<h2>Zucchini Quiche</h2>"
      ],
      "text/plain": [
       "<IPython.core.display.HTML object>"
      ]
     },
     "metadata": {},
     "output_type": "display_data"
    },
    {
     "data": {
      "text/html": [
       "<img src=\"https://img.sndimg.com/food/image/upload/w_555,h_416,c_fit,fl_progressive,q_95/v1/img/recipes/18/09/picmL6iSA.jpg\" width=\"400\"/>"
      ],
      "text/plain": [
       "<IPython.core.display.Image object>"
      ]
     },
     "metadata": {},
     "output_type": "display_data"
    },
    {
     "data": {
      "text/html": [
       "<h3>Ingredients:</h3>"
      ],
      "text/plain": [
       "<IPython.core.display.HTML object>"
      ]
     },
     "metadata": {},
     "output_type": "display_data"
    },
    {
     "data": {
      "text/html": [
       "<ul><li>zucchini: 1 1/2</li><li>onion: 1</li><li>sharp cheddar cheese: 1/2</li><li>swiss cheese: 1/4</li><li>eggs: 4</li><li>half-and-half: 1/2</li><li>flour: 1</li><li>salt: 1/4</li></ul>"
      ],
      "text/plain": [
       "<IPython.core.display.HTML object>"
      ]
     },
     "metadata": {},
     "output_type": "display_data"
    },
    {
     "data": {
      "text/html": [
       "<h3>Instructions:</h3>"
      ],
      "text/plain": [
       "<IPython.core.display.HTML object>"
      ]
     },
     "metadata": {},
     "output_type": "display_data"
    },
    {
     "data": {
      "text/html": [
       "<ol><li>Saute onion in butter until golden.</li><li>Mix cheese with zucchini and onion.</li><li>Add the remaining ingredients, Mix well.</li><li>Pour into a 9-inch greased pie plate. (No crust  needed!)</li><li>Bake at 350 degrees for about 30-35 minutes or until center is set.</li><li>Serve with a salad for a light meal.</li></ol>"
      ],
      "text/plain": [
       "<IPython.core.display.HTML object>"
      ]
     },
     "metadata": {},
     "output_type": "display_data"
    },
    {
     "data": {
      "text/html": [
       "<h2>Sugar Kichelach</h2>"
      ],
      "text/plain": [
       "<IPython.core.display.HTML object>"
      ]
     },
     "metadata": {},
     "output_type": "display_data"
    },
    {
     "data": {
      "text/html": [
       "<h3>Ingredients:</h3>"
      ],
      "text/plain": [
       "<IPython.core.display.HTML object>"
      ]
     },
     "metadata": {},
     "output_type": "display_data"
    },
    {
     "data": {
      "text/html": [
       "<ul><li>eggs: 2</li><li>salt: 1/2</li><li>flour: 2</li></ul>"
      ],
      "text/plain": [
       "<IPython.core.display.HTML object>"
      ]
     },
     "metadata": {},
     "output_type": "display_data"
    },
    {
     "data": {
      "text/html": [
       "<h3>Instructions:</h3>"
      ],
      "text/plain": [
       "<IPython.core.display.HTML object>"
      ]
     },
     "metadata": {},
     "output_type": "display_data"
    },
    {
     "data": {
      "text/html": [
       "<ol><li>Beat eggs, stir in salt and oil.</li><li>Add flour gradually, mixing constantly,  until dough is smooth.</li><li>Turn onto a floured board.</li><li>Roll 1/8\\</li><li>,</li><li>squares.</li><li>Dip one side of square in oil, then sugar.</li><li>Bake sugar-side up on  ungreased baking sheet at 400 F for 6 - 8 minutes.</li><li>Some cookies may brown  more quickly than others, so remove as ready.</li></ol>"
      ],
      "text/plain": [
       "<IPython.core.display.HTML object>"
      ]
     },
     "metadata": {},
     "output_type": "display_data"
    },
    {
     "data": {
      "text/html": [
       "<h2>Indian Onion Relish</h2>"
      ],
      "text/plain": [
       "<IPython.core.display.HTML object>"
      ]
     },
     "metadata": {},
     "output_type": "display_data"
    },
    {
     "data": {
      "text/html": [
       "<h3>Ingredients:</h3>"
      ],
      "text/plain": [
       "<IPython.core.display.HTML object>"
      ]
     },
     "metadata": {},
     "output_type": "display_data"
    },
    {
     "data": {
      "text/html": [
       "<ul><li>onion: 1</li><li>salt: 3/4</li><li>lemon juice: 4</li><li>paprika: 1/4</li><li>cayenne pepper: 1/8</li></ul>"
      ],
      "text/plain": [
       "<IPython.core.display.HTML object>"
      ]
     },
     "metadata": {},
     "output_type": "display_data"
    },
    {
     "data": {
      "text/html": [
       "<h3>Instructions:</h3>"
      ],
      "text/plain": [
       "<IPython.core.display.HTML object>"
      ]
     },
     "metadata": {},
     "output_type": "display_data"
    },
    {
     "data": {
      "text/html": [
       "<ol><li>Cut onion crosswise  into paper-thin rings and put rings into a bowl.</li><li>Add all other ingredients, toss and mix.</li><li>Set aside for 30 minutes or more before eating in order to let the flavors blend.</li></ol>"
      ],
      "text/plain": [
       "<IPython.core.display.HTML object>"
      ]
     },
     "metadata": {},
     "output_type": "display_data"
    },
    {
     "data": {
      "text/html": [
       "<h2>Civil War Pound Cake</h2>"
      ],
      "text/plain": [
       "<IPython.core.display.HTML object>"
      ]
     },
     "metadata": {},
     "output_type": "display_data"
    },
    {
     "data": {
      "text/html": [
       "<img src=\"https://img.sndimg.com/food/image/upload/w_555,h_416,c_fit,fl_progressive,q_95/v1/img/recipes/19/13/pic68eCgY.jpg\" width=\"400\"/>"
      ],
      "text/plain": [
       "<IPython.core.display.Image object>"
      ]
     },
     "metadata": {},
     "output_type": "display_data"
    },
    {
     "data": {
      "text/html": [
       "<h3>Ingredients:</h3>"
      ],
      "text/plain": [
       "<IPython.core.display.HTML object>"
      ]
     },
     "metadata": {},
     "output_type": "display_data"
    },
    {
     "data": {
      "text/html": [
       "<ul><li>butter: 2</li><li>sugar: 2</li><li>eggs: 9</li><li>flour: 4</li><li>salt: 1</li><li>lemon, rind of: 1/2</li></ul>"
      ],
      "text/plain": [
       "<IPython.core.display.HTML object>"
      ]
     },
     "metadata": {},
     "output_type": "display_data"
    },
    {
     "data": {
      "text/html": [
       "<h3>Instructions:</h3>"
      ],
      "text/plain": [
       "<IPython.core.display.HTML object>"
      ]
     },
     "metadata": {},
     "output_type": "display_data"
    },
    {
     "data": {
      "text/html": [
       "<ol><li>Mix the butter and sugar together well and beat in the eggs.</li><li>Sift the  flour and salt together; mix in to the butter mixture until thoroughly  blended.</li><li>Add the lemon peel, nutmeg, and brandy, mix well and pour into  two small buttered loaf pans or one large one.</li><li>Bake in a moderate oven (350F) for about 1 hour or until cake tests done.</li></ol>"
      ],
      "text/plain": [
       "<IPython.core.display.HTML object>"
      ]
     },
     "metadata": {},
     "output_type": "display_data"
    },
    {
     "data": {
      "text/html": [
       "<h2>Autumn Moon Cafe's Apple Crisp</h2>"
      ],
      "text/plain": [
       "<IPython.core.display.HTML object>"
      ]
     },
     "metadata": {},
     "output_type": "display_data"
    },
    {
     "data": {
      "text/html": [
       "<h3>Ingredients:</h3>"
      ],
      "text/plain": [
       "<IPython.core.display.HTML object>"
      ]
     },
     "metadata": {},
     "output_type": "display_data"
    },
    {
     "data": {
      "text/html": [
       "<ul><li>flour: 1 3/4</li><li>oats: 1 1/4</li><li>sugar: 2 1/4</li><li>allspice: 1/8</li><li>cinnamon: 1/8</li><li>nutmeg: 1/8</li><li>butter: 1</li></ul>"
      ],
      "text/plain": [
       "<IPython.core.display.HTML object>"
      ]
     },
     "metadata": {},
     "output_type": "display_data"
    },
    {
     "data": {
      "text/html": [
       "<h3>Instructions:</h3>"
      ],
      "text/plain": [
       "<IPython.core.display.HTML object>"
      ]
     },
     "metadata": {},
     "output_type": "display_data"
    },
    {
     "data": {
      "text/html": [
       "<ol><li>Apple Mixture: 5 Granny Smith apples, peeled, cored & sliced 2 tablespoons sugar 2 teaspoons cinnamon 2 teaspoons lemon juice Preheat oven to 350 degrees.</li><li>Grease an 8-inch square baking pan.</li><li>For the  topping: Mix together the flour, oats, sugar and spices in a large bowl.</li><li>Using  the large holes of a grater, grate the butter into the bowl.</li><li>Blend until the  mixture just begins to come together, being careful not to over mix.</li><li>Toss the  apples in a large bowl with the sugar, cinnamon, and lemon juice.  Spoon into  the baking pan and sprinkle the topping mixture over the fruit. Bake for 45 to  60 minutes, or until the apples are tender and the topping is browned and crisp.</li><li>Serve warm with a scoop of rich vanilla ice cream.</li></ol>"
      ],
      "text/plain": [
       "<IPython.core.display.HTML object>"
      ]
     },
     "metadata": {},
     "output_type": "display_data"
    },
    {
     "data": {
      "text/html": [
       "<h2>Shrimp Newburg</h2>"
      ],
      "text/plain": [
       "<IPython.core.display.HTML object>"
      ]
     },
     "metadata": {},
     "output_type": "display_data"
    },
    {
     "data": {
      "text/html": [
       "<h3>Ingredients:</h3>"
      ],
      "text/plain": [
       "<IPython.core.display.HTML object>"
      ]
     },
     "metadata": {},
     "output_type": "display_data"
    },
    {
     "data": {
      "text/html": [
       "<ul><li>shrimp: 12</li><li>butter: 2</li><li>flour: 2</li><li>paprika: 1</li><li>salt: 1/2</li><li>white pepper: 1/2</li><li>milk: 1/2</li><li>sherry wine: 1/2</li></ul>"
      ],
      "text/plain": [
       "<IPython.core.display.HTML object>"
      ]
     },
     "metadata": {},
     "output_type": "display_data"
    },
    {
     "data": {
      "text/html": [
       "<h3>Instructions:</h3>"
      ],
      "text/plain": [
       "<IPython.core.display.HTML object>"
      ]
     },
     "metadata": {},
     "output_type": "display_data"
    },
    {
     "data": {
      "text/html": [
       "<ol><li>Clean shrimp.</li><li>Melt butter; add flour, paprika, salt and pepper, blend together.</li><li>Add milk and cream gradually.</li><li>Add sherry.</li><li>In a separate pan, saute shrimp in butter.</li><li>Add to the sauce.</li></ol>"
      ],
      "text/plain": [
       "<IPython.core.display.HTML object>"
      ]
     },
     "metadata": {},
     "output_type": "display_data"
    },
    {
     "data": {
      "text/html": [
       "<h2>Sylvia's Famous Spareribs</h2>"
      ],
      "text/plain": [
       "<IPython.core.display.HTML object>"
      ]
     },
     "metadata": {},
     "output_type": "display_data"
    },
    {
     "data": {
      "text/html": [
       "<h3>Ingredients:</h3>"
      ],
      "text/plain": [
       "<IPython.core.display.HTML object>"
      ]
     },
     "metadata": {},
     "output_type": "display_data"
    },
    {
     "data": {
      "text/html": [
       "<ul><li>salt: 3 1/2</li><li>black pepper: 1 1/2</li><li>red pepper flakes: 1/2</li><li>white wine vinegar: 1/2</li><li>crushed red pepper flakes: 2 -3</li><li>onion: 16</li><li>celery: 2 1/2</li><li>tomato puree: 1</li><li>water: 1</li><li>sugar: 3</li><li>lemon: 1 1/2</li></ul>"
      ],
      "text/plain": [
       "<IPython.core.display.HTML object>"
      ]
     },
     "metadata": {},
     "output_type": "display_data"
    },
    {
     "data": {
      "text/html": [
       "<h3>Instructions:</h3>"
      ],
      "text/plain": [
       "<IPython.core.display.HTML object>"
      ]
     },
     "metadata": {},
     "output_type": "display_data"
    },
    {
     "data": {
      "text/html": [
       "<ol><li>To make the ribs easier to handle, cut each slab between the middle bones  into  2 equal pieces.</li><li>Rub the salt, black pepper, and red pepper into both sides of   the  ribs.</li><li>Place the ribs in a deep baking dish, cover them, and refrigerate   overnight. Preheat the oven to 450F.</li><li>Pour the vinegar over the ribs and bake 1  1/2  hours.</li><li>Rotate the ribs two or three times during baking and spoon some of  the pan  juices over them.</li><li>Remove the  ribs from the baking dish and place in a  single layer on baking  sheets.</li><li>(Line the baking sheets with aluminum foil for  easy cleanup.) Bake at  450 F for 1 hour.</li><li>The ribs should be tender and well  browned.</li><li>This much can  be done up to a day in advance. Cool the ribs, cover  tightly, and  refrigerate.  Bring to room temperature for about 1 hour before  continuing.</li><li>To finish the ribs, preheat the oven to  400 F.</li><li>Cut the slabs  between the  bones  into individual ribs.</li><li>Place the ribs in a baking dish large  enough to hold  them  comfortably.</li><li>Spoon enough of the barbecue sauce over them  to coat lightly.</li><li>Cover the pan with aluminum foil and bake until heated  through, about 20  minutes. Serve with additional barbecue sauce on the side.</li><li>BARBECUE SAUCE   Ruth developed this recipe because she found most barbecue sauces too  vinegary  or bitter, and it's the secret to our popular ribs.</li><li>Simple to  prepare and   absolutely delicious, once made and strained it keeps for quite a while, at   least  a month.</li><li>Combine all the ingredients in a heavy pot and heat just till hot. Don't  bring  to  a boil or the sauce will turn dark and become thin.</li><li>Cool the sauce to room   temperature, strain it, and store it in a tightly covered jar in the   refrigerator.</li></ol>"
      ],
      "text/plain": [
       "<IPython.core.display.HTML object>"
      ]
     },
     "metadata": {},
     "output_type": "display_data"
    },
    {
     "data": {
      "text/html": [
       "<h2>Bruschetta</h2>"
      ],
      "text/plain": [
       "<IPython.core.display.HTML object>"
      ]
     },
     "metadata": {},
     "output_type": "display_data"
    },
    {
     "data": {
      "text/html": [
       "<h3>Ingredients:</h3>"
      ],
      "text/plain": [
       "<IPython.core.display.HTML object>"
      ]
     },
     "metadata": {},
     "output_type": "display_data"
    },
    {
     "data": {
      "text/html": [
       "<ul></ul>"
      ],
      "text/plain": [
       "<IPython.core.display.HTML object>"
      ]
     },
     "metadata": {},
     "output_type": "display_data"
    },
    {
     "data": {
      "text/html": [
       "<h3>Instructions:</h3>"
      ],
      "text/plain": [
       "<IPython.core.display.HTML object>"
      ]
     },
     "metadata": {},
     "output_type": "display_data"
    },
    {
     "data": {
      "text/html": [
       "<ol><li>Prepare the topping: Cut the tomatoes in little cubes.</li><li>Add the salt, the oregano and the oil.</li><li>Rub the bread with garlic.</li><li>Then grill it (or on the barbecue).</li><li>Quickly spread the seasoned tomatoes and eat immediately.</li><li>(Nice with grilled meat and red wine.)</li></ol>"
      ],
      "text/plain": [
       "<IPython.core.display.HTML object>"
      ]
     },
     "metadata": {},
     "output_type": "display_data"
    },
    {
     "data": {
      "text/html": [
       "<h2>Cabbage Roll Taste Alike</h2>"
      ],
      "text/plain": [
       "<IPython.core.display.HTML object>"
      ]
     },
     "metadata": {},
     "output_type": "display_data"
    },
    {
     "data": {
      "text/html": [
       "<h3>Ingredients:</h3>"
      ],
      "text/plain": [
       "<IPython.core.display.HTML object>"
      ]
     },
     "metadata": {},
     "output_type": "display_data"
    },
    {
     "data": {
      "text/html": [
       "<ul><li>beef: 1</li><li>turkey: 1</li><li>onion: 1/2</li><li>celery: 1/4</li><li>green pepper: 2</li><li>rolled oats: 1</li><li>parsley flakes: 1/4</li><li>salt: 2 -3</li><li>garlic powder: 1/2 - 1</li><li>brown sugar: 1</li><li>head of cabbage: 1/4</li><li>tomato sauce: 1</li></ul>"
      ],
      "text/plain": [
       "<IPython.core.display.HTML object>"
      ]
     },
     "metadata": {},
     "output_type": "display_data"
    },
    {
     "data": {
      "text/html": [
       "<h3>Instructions:</h3>"
      ],
      "text/plain": [
       "<IPython.core.display.HTML object>"
      ]
     },
     "metadata": {},
     "output_type": "display_data"
    },
    {
     "data": {
      "text/html": [
       "<ol><li>Cook beef, onions , celery, and green pepper until done and brown.</li><li>Drain well.</li><li>Sprinkle meat mixture with oats, parsley, salt, and garlic powder.</li><li>Core cabbage  and cut into small wedges.</li><li>Place on meat. Combine tomato sauce, vinegar, pepper and brown sugar.</li><li>Mix well.</li><li>Pour over cabbage and meat. Cover and let simmer  20-30 minutes until the cabbage is done.  Serve immediately.</li><li>Note: I like to  add 1/2 cup Minute Rice, prepared, at the end and heat through.</li></ol>"
      ],
      "text/plain": [
       "<IPython.core.display.HTML object>"
      ]
     },
     "metadata": {},
     "output_type": "display_data"
    },
    {
     "data": {
      "text/html": [
       "<h2>Creamy Turkey Pie</h2>"
      ],
      "text/plain": [
       "<IPython.core.display.HTML object>"
      ]
     },
     "metadata": {},
     "output_type": "display_data"
    },
    {
     "data": {
      "text/html": [
       "<h3>Ingredients:</h3>"
      ],
      "text/plain": [
       "<IPython.core.display.HTML object>"
      ]
     },
     "metadata": {},
     "output_type": "display_data"
    },
    {
     "data": {
      "text/html": [
       "<ul><li>turkey: 1</li><li>sausage: 1/2</li><li>onion: 1/8</li><li>pepper: 1/8</li><li>salt: 1</li><li>cream cheese: 1</li><li>mushrooms: 1</li><li>egg: 1</li><li>cottage cheese: 1</li><li>flour: 1</li><li>tomatoes: 1</li></ul>"
      ],
      "text/plain": [
       "<IPython.core.display.HTML object>"
      ]
     },
     "metadata": {},
     "output_type": "display_data"
    },
    {
     "data": {
      "text/html": [
       "<h3>Instructions:</h3>"
      ],
      "text/plain": [
       "<IPython.core.display.HTML object>"
      ]
     },
     "metadata": {},
     "output_type": "display_data"
    },
    {
     "data": {
      "text/html": [
       "<ol><li>In a large skillet, cook ground turkey or turkey sausage, onion, pepper and salt, until meat is browned, stirring to break up meat. Drain.</li><li>Stir in cream cheese till combined.  Add mushrooms and set aside.</li><li>For the crust: Lightly grease a 9 inch pie plate with non-stick spray.  Unwrap crescent rolls and separate. Arrange them in pie plate, pressing onto the bottom and up the sides of the plate, extending the biscuits at 1/2 inch intervals, if desired.</li><li>Spoon turkey mixture into shell, spreading evenly.</li><li>In blender or food processor, combine egg, cottage cheese, and flour.  Cover and blend or process until smooth.  Spoon over turkey  mixture.</li><li>Bake, uncovered, for 25-30 minutes at 350 degrees Fahrenheit or until edges are  browned and filling is set. Let stand 5-10 minutes.</li><li>Cut into wedges and garnish with chopped tomatoes.</li></ol>"
      ],
      "text/plain": [
       "<IPython.core.display.HTML object>"
      ]
     },
     "metadata": {},
     "output_type": "display_data"
    },
    {
     "data": {
      "text/html": [
       "<h2>Caribbean Chicken</h2>"
      ],
      "text/plain": [
       "<IPython.core.display.HTML object>"
      ]
     },
     "metadata": {},
     "output_type": "display_data"
    },
    {
     "data": {
      "text/html": [
       "<img src=\"https://img.sndimg.com/food/image/upload/w_555,h_416,c_fit,fl_progressive,q_95/v1/img/recipes/20/47/piclOYWWB.jpg\" width=\"400\"/>"
      ],
      "text/plain": [
       "<IPython.core.display.Image object>"
      ]
     },
     "metadata": {},
     "output_type": "display_data"
    },
    {
     "data": {
      "text/html": [
       "<h3>Ingredients:</h3>"
      ],
      "text/plain": [
       "<IPython.core.display.HTML object>"
      ]
     },
     "metadata": {},
     "output_type": "display_data"
    },
    {
     "data": {
      "text/html": [
       "<ul><li>fresh lime juice: 2</li><li>soy sauce: 1</li><li>fresh ginger: 1</li><li>garlic cloves: 1</li><li>dried thyme: 1</li><li>black pepper: 3</li><li>allspice: 1/2</li><li>salt: 1/4</li><li>chicken fillets: 1/4</li></ul>"
      ],
      "text/plain": [
       "<IPython.core.display.HTML object>"
      ]
     },
     "metadata": {},
     "output_type": "display_data"
    },
    {
     "data": {
      "text/html": [
       "<h3>Instructions:</h3>"
      ],
      "text/plain": [
       "<IPython.core.display.HTML object>"
      ]
     },
     "metadata": {},
     "output_type": "display_data"
    },
    {
     "data": {
      "text/html": [
       "<ol><li>Puree in blender lime juice, soy sauce, oil, hot pepper sauce, ginger, garlic,  thyme, pepper, allspice and salt. Combine marinade with chicken in plastic  food-storage bag.</li><li>Seal.</li><li>Marinate in refrigerator overnight. Place oven rack in  top position.</li><li>Heat oven to 500°F:</li><li>Drain chicken; discard marinade. Pat dry.</li><li>Arrange in roasting pan.</li><li>Roast on top rack in 500°F: oven 25 minutes for breasts,  30 minutes for thighs and drumsticks, or until instant-read thermometer  registers 170°F: without touching bone.</li></ol>"
      ],
      "text/plain": [
       "<IPython.core.display.HTML object>"
      ]
     },
     "metadata": {},
     "output_type": "display_data"
    },
    {
     "data": {
      "text/html": [
       "<h2>Southern Spoon Bread</h2>"
      ],
      "text/plain": [
       "<IPython.core.display.HTML object>"
      ]
     },
     "metadata": {},
     "output_type": "display_data"
    },
    {
     "data": {
      "text/html": [
       "<h3>Ingredients:</h3>"
      ],
      "text/plain": [
       "<IPython.core.display.HTML object>"
      ]
     },
     "metadata": {},
     "output_type": "display_data"
    },
    {
     "data": {
      "text/html": [
       "<ul><li>yellow cornmeal: 1</li><li>white cornmeal: 1</li><li>sugar: 1</li><li>baking powder: 1</li><li>salt: 1</li><li>milk: 1/4</li><li>butter: 3</li></ul>"
      ],
      "text/plain": [
       "<IPython.core.display.HTML object>"
      ]
     },
     "metadata": {},
     "output_type": "display_data"
    },
    {
     "data": {
      "text/html": [
       "<h3>Instructions:</h3>"
      ],
      "text/plain": [
       "<IPython.core.display.HTML object>"
      ]
     },
     "metadata": {},
     "output_type": "display_data"
    },
    {
     "data": {
      "text/html": [
       "<ol><li>Heat oven to 350 F and grease or oil a shallow 2 quart pan  (I use my \\</li><li>pyrex lasagna pan). Mix cornmeal, sugar, baking powder and salt in a medium saucepan.</li><li>Stir in the milk and cook over a medium heat until milk is absorbed, which only takes a few minutes.</li><li>Stir gently but constantly to prevent the mixture from catching on the bottom of the saucepan.</li><li>Remove from heat.  Stir in the butter, and slightly beaten egg yolks.</li><li>Beat the egg whites until stiff peaks form.</li><li>Fold into cornmeal mixture, and turn it all out into the prepared 2 quart pan.</li><li>Bake for 35 minutes, or until puffed and golden.</li><li>I hope this is what you are looking for! regards, Spooky</li></ol>"
      ],
      "text/plain": [
       "<IPython.core.display.HTML object>"
      ]
     },
     "metadata": {},
     "output_type": "display_data"
    },
    {
     "data": {
      "text/html": [
       "<h2>Texas Spoon Bread</h2>"
      ],
      "text/plain": [
       "<IPython.core.display.HTML object>"
      ]
     },
     "metadata": {},
     "output_type": "display_data"
    },
    {
     "data": {
      "text/html": [
       "<img src=\"https://img.sndimg.com/food/image/upload/w_555,h_416,c_fit,fl_progressive,q_95/v1/img/recipes/21/05/piccc4g5T.jpg\" width=\"400\"/>"
      ],
      "text/plain": [
       "<IPython.core.display.Image object>"
      ]
     },
     "metadata": {},
     "output_type": "display_data"
    },
    {
     "data": {
      "text/html": [
       "<h3>Ingredients:</h3>"
      ],
      "text/plain": [
       "<IPython.core.display.HTML object>"
      ]
     },
     "metadata": {},
     "output_type": "display_data"
    },
    {
     "data": {
      "text/html": [
       "<ul><li>milk: 3</li><li>yellow cornmeal: 1</li><li>butter: 1</li><li>margarine: 1</li><li>sugar: 1</li><li>salt: 1/4</li><li>baking powder: 3</li></ul>"
      ],
      "text/plain": [
       "<IPython.core.display.HTML object>"
      ]
     },
     "metadata": {},
     "output_type": "display_data"
    },
    {
     "data": {
      "text/html": [
       "<h3>Instructions:</h3>"
      ],
      "text/plain": [
       "<IPython.core.display.HTML object>"
      ]
     },
     "metadata": {},
     "output_type": "display_data"
    },
    {
     "data": {
      "text/html": [
       "<ol><li>In saucepan, scald the milk; stir in cornmeal.</li><li>Reduce heat; simmer 5 minutes, stirring constantly.</li><li>Remove from heat; stir in butter, sugar, salt and baking powder.</li><li>In small bowl, beat egg yolks.</li><li>Gradually stir a small amount of the hot mixture into yolks; return all to pan and mix well.</li><li>In mixing bowl, beat egg whites until soft peaks form.</li><li>Fold egg whites into hot mixture until well blended.</li><li>Pour into greased 8-inch square baking dish.</li><li>Bake at 350° for 40-45 minutes or until well puffed.</li><li>Use a spoon to serve.</li></ol>"
      ],
      "text/plain": [
       "<IPython.core.display.HTML object>"
      ]
     },
     "metadata": {},
     "output_type": "display_data"
    },
    {
     "data": {
      "text/html": [
       "<h2>Harvard Beets (Sweet Sour Red Beets)</h2>"
      ],
      "text/plain": [
       "<IPython.core.display.HTML object>"
      ]
     },
     "metadata": {},
     "output_type": "display_data"
    },
    {
     "data": {
      "text/html": [
       "<img src=\"https://img.sndimg.com/food/image/upload/w_555,h_416,c_fit,fl_progressive,q_95/v1/img/recipes/21/11/picWhAXnW.jpg\" width=\"400\"/>"
      ],
      "text/plain": [
       "<IPython.core.display.Image object>"
      ]
     },
     "metadata": {},
     "output_type": "display_data"
    },
    {
     "data": {
      "text/html": [
       "<h3>Ingredients:</h3>"
      ],
      "text/plain": [
       "<IPython.core.display.HTML object>"
      ]
     },
     "metadata": {},
     "output_type": "display_data"
    },
    {
     "data": {
      "text/html": [
       "<ul><li>sugar: 1/2</li><li>cornstarch: 1</li><li>water: 1/4</li><li>butter: 2</li><li>salt: 1</li><li>vinegar: 1/4</li><li>beets: 3</li></ul>"
      ],
      "text/plain": [
       "<IPython.core.display.HTML object>"
      ]
     },
     "metadata": {},
     "output_type": "display_data"
    },
    {
     "data": {
      "text/html": [
       "<h3>Instructions:</h3>"
      ],
      "text/plain": [
       "<IPython.core.display.HTML object>"
      ]
     },
     "metadata": {},
     "output_type": "display_data"
    },
    {
     "data": {
      "text/html": [
       "<ol><li>Mix together the dry ingredients.</li><li>Add vinegar and water and stir until smooth.</li><li>Cook 5 minutes.</li><li>Add beets and let stand desired minutes. (Can marinate in fridge overnight or just while you prepare other dishes).</li><li>Before serving, heat to boiling point and add butter.</li><li>Serve warm.</li></ol>"
      ],
      "text/plain": [
       "<IPython.core.display.HTML object>"
      ]
     },
     "metadata": {},
     "output_type": "display_data"
    },
    {
     "data": {
      "text/html": [
       "<h2>Colorado Beef Stroganoff</h2>"
      ],
      "text/plain": [
       "<IPython.core.display.HTML object>"
      ]
     },
     "metadata": {},
     "output_type": "display_data"
    },
    {
     "data": {
      "text/html": [
       "<h3>Ingredients:</h3>"
      ],
      "text/plain": [
       "<IPython.core.display.HTML object>"
      ]
     },
     "metadata": {},
     "output_type": "display_data"
    },
    {
     "data": {
      "text/html": [
       "<ul><li>filet of beef: 2</li><li>flank of beef: 4</li><li>butter: 1</li><li>onion: 1</li><li>garlic: 1/2</li><li>fresh mushrooms: 3</li><li>flour: 2</li><li>catsup: 1</li><li>salt: 1/2</li><li>pepper: 1/8</li><li>beef broth: 1</li><li>white wine: 1/4</li><li>fresh dill: 1</li><li>dried dill: 1 1/2</li></ul>"
      ],
      "text/plain": [
       "<IPython.core.display.HTML object>"
      ]
     },
     "metadata": {},
     "output_type": "display_data"
    },
    {
     "data": {
      "text/html": [
       "<h3>Instructions:</h3>"
      ],
      "text/plain": [
       "<IPython.core.display.HTML object>"
      ]
     },
     "metadata": {},
     "output_type": "display_data"
    },
    {
     "data": {
      "text/html": [
       "<ol><li>Trim fat from beef and cut into 1/2-inch slices.</li><li>Over high heat sear the beef  quickly in 1 tablespoon butter.</li><li>In 3 tablespoons butter (same pan) saute onion,  garlic and mushrooms about 5 minutes.</li><li>Remove from heat. Stir in flour, meat  extract paste, catsup, salt and pepper.</li><li>Stir until smooth.</li><li>Gradually add  bouillon, stirring constantly bring to a boil.</li><li>Reduce heat and simmer for 5  minutes.</li><li>Over very low heat, add wine, dill and sour cream.</li><li>Add beef, simmer  only until beef is hot. Serve over wild rice. Serves 6.</li></ol>"
      ],
      "text/plain": [
       "<IPython.core.display.HTML object>"
      ]
     },
     "metadata": {},
     "output_type": "display_data"
    },
    {
     "data": {
      "text/html": [
       "<h2>Nurnberger</h2>"
      ],
      "text/plain": [
       "<IPython.core.display.HTML object>"
      ]
     },
     "metadata": {},
     "output_type": "display_data"
    },
    {
     "data": {
      "text/html": [
       "<img src=\"https://img.sndimg.com/food/image/upload/w_555,h_416,c_fit,fl_progressive,q_95/v1/img/recipes/21/26/picLoXiol.jpg\" width=\"400\"/>"
      ],
      "text/plain": [
       "<IPython.core.display.Image object>"
      ]
     },
     "metadata": {},
     "output_type": "display_data"
    },
    {
     "data": {
      "text/html": [
       "<h3>Ingredients:</h3>"
      ],
      "text/plain": [
       "<IPython.core.display.HTML object>"
      ]
     },
     "metadata": {},
     "output_type": "display_data"
    },
    {
     "data": {
      "text/html": [
       "<ul><li>honey: 1</li><li>egg: 1</li><li>lemon juice: 1</li><li>brown sugar: 3/4</li><li>lemon, rind of: 1</li><li>flour: 2 3/4</li><li>baking soda: 1 1/2</li><li>nutmeg: 1</li><li>clove: 1/4</li><li>cinnamon: 1</li><li>allspice: 1/2</li><li>clove: 1/4</li><li>citron: 1/3</li><li>powdered sugar: 1/3</li><li>rum: 1</li><li>water: 5</li></ul>"
      ],
      "text/plain": [
       "<IPython.core.display.HTML object>"
      ]
     },
     "metadata": {},
     "output_type": "display_data"
    },
    {
     "data": {
      "text/html": [
       "<h3>Instructions:</h3>"
      ],
      "text/plain": [
       "<IPython.core.display.HTML object>"
      ]
     },
     "metadata": {},
     "output_type": "display_data"
    },
    {
     "data": {
      "text/html": [
       "<ol><li>Heat honey to boiling in sauce pan.</li><li>Cool.</li><li>Stir in sugar, egg, lemon juice and rind.</li><li>Stir together flour, soda, and spices.</li><li>Mix into honey mixture. Stir in citron and nuts.</li><li>Chi ll in plastic wrap overnite.  Heat oven to 350 deg.</li><li>Shape into 1 inch balls and flatten.</li><li>Place on greased baking sheet. Press almond halves into cookes and cherry slice into center.</li><li>Bake just until set 10-12 minutes.</li><li>Glaze while warm.</li><li>Glaze:  stir ingredients until smooth.</li><li>Store in air tight container and let mellow.</li></ol>"
      ],
      "text/plain": [
       "<IPython.core.display.HTML object>"
      ]
     },
     "metadata": {},
     "output_type": "display_data"
    },
    {
     "data": {
      "text/html": [
       "<h2>Buttertart Squares</h2>"
      ],
      "text/plain": [
       "<IPython.core.display.HTML object>"
      ]
     },
     "metadata": {},
     "output_type": "display_data"
    },
    {
     "data": {
      "text/html": [
       "<img src=\"https://img.sndimg.com/food/image/upload/w_555,h_416,c_fit,fl_progressive,q_95/v1/img/recipes/21/41/picFoXTBA.jpg\" width=\"400\"/>"
      ],
      "text/plain": [
       "<IPython.core.display.Image object>"
      ]
     },
     "metadata": {},
     "output_type": "display_data"
    },
    {
     "data": {
      "text/html": [
       "<h3>Ingredients:</h3>"
      ],
      "text/plain": [
       "<IPython.core.display.HTML object>"
      ]
     },
     "metadata": {},
     "output_type": "display_data"
    },
    {
     "data": {
      "text/html": [
       "<ul><li>butter: 1/2</li><li>flour: 1</li><li>brown sugar: 2</li><li>eggs: 2</li><li>brown sugar: 1 1/2</li><li>oatmeal: 1/2</li><li>salt: 1/4</li><li>vanilla: 1</li><li>walnuts: 1/2</li><li>raisins: 1/2</li></ul>"
      ],
      "text/plain": [
       "<IPython.core.display.HTML object>"
      ]
     },
     "metadata": {},
     "output_type": "display_data"
    },
    {
     "data": {
      "text/html": [
       "<h3>Instructions:</h3>"
      ],
      "text/plain": [
       "<IPython.core.display.HTML object>"
      ]
     },
     "metadata": {},
     "output_type": "display_data"
    },
    {
     "data": {
      "text/html": [
       "<ol><li>Crust: Cut butter into flour until crumbly.</li><li>Press into 9x9\\</li><li>,</li><li>,</li><li>,</li><li>,</li></ol>"
      ],
      "text/plain": [
       "<IPython.core.display.HTML object>"
      ]
     },
     "metadata": {},
     "output_type": "display_data"
    },
    {
     "data": {
      "text/html": [
       "<h2>Chi Chi's Sweet Corn Cake</h2>"
      ],
      "text/plain": [
       "<IPython.core.display.HTML object>"
      ]
     },
     "metadata": {},
     "output_type": "display_data"
    },
    {
     "data": {
      "text/html": [
       "<h3>Ingredients:</h3>"
      ],
      "text/plain": [
       "<IPython.core.display.HTML object>"
      ]
     },
     "metadata": {},
     "output_type": "display_data"
    },
    {
     "data": {
      "text/html": [
       "<ul><li>butter: 1/2</li><li>margarine: 1/3</li><li>masa harina: 1/4</li><li>water: 1</li><li>frozen corn: 1/3</li><li>sugar: 3</li><li>yellow cornmeal: 2</li><li>baking powder: 1/4</li><li>salt: 1/4</li></ul>"
      ],
      "text/plain": [
       "<IPython.core.display.HTML object>"
      ]
     },
     "metadata": {},
     "output_type": "display_data"
    },
    {
     "data": {
      "text/html": [
       "<h3>Instructions:</h3>"
      ],
      "text/plain": [
       "<IPython.core.display.HTML object>"
      ]
     },
     "metadata": {},
     "output_type": "display_data"
    },
    {
     "data": {
      "text/html": [
       "<ol><li>With an electric mixer, beat butter until fluffy.</li><li>Gradually beat in masa  harina.</li><li>On low speed, beat in water.</li><li>Place corn in bowl of food processor and  pulse until chopped coarsely.</li><li>Stir in masa mixture. In a small bowl, stir  together sugar, cornmeal,cream, baking powder, and salt. Stir into corn  mixture. Spread in a greased 8\\</li><li>,</li><li>,</li><li>,</li><li>,</li><li>Sprinkle with chilies and parsley, if desired.</li></ol>"
      ],
      "text/plain": [
       "<IPython.core.display.HTML object>"
      ]
     },
     "metadata": {},
     "output_type": "display_data"
    },
    {
     "data": {
      "text/html": [
       "<h2>Peanut Butter Squares</h2>"
      ],
      "text/plain": [
       "<IPython.core.display.HTML object>"
      ]
     },
     "metadata": {},
     "output_type": "display_data"
    },
    {
     "data": {
      "text/html": [
       "<h3>Ingredients:</h3>"
      ],
      "text/plain": [
       "<IPython.core.display.HTML object>"
      ]
     },
     "metadata": {},
     "output_type": "display_data"
    },
    {
     "data": {
      "text/html": [
       "<ul><li>margarine: 1/2</li><li>brown sugar: 1/2</li><li>white sugar: 1/2</li><li>egg: 1</li><li>peanut butter: 1/2</li><li>vanilla: 1/2</li><li>baking soda: 1/2</li><li>salt: 1/4</li><li>flour: 1</li><li>quick oats: 1</li></ul>"
      ],
      "text/plain": [
       "<IPython.core.display.HTML object>"
      ]
     },
     "metadata": {},
     "output_type": "display_data"
    },
    {
     "data": {
      "text/html": [
       "<h3>Instructions:</h3>"
      ],
      "text/plain": [
       "<IPython.core.display.HTML object>"
      ]
     },
     "metadata": {},
     "output_type": "display_data"
    },
    {
     "data": {
      "text/html": [
       "<ol><li>Cream margarine with the sugars.</li><li>Blend in egg.</li><li>Add peanut butter and vanilla.</li><li>Mix flour, oats, soda and salt and spread in a greased 13 x 9-inch pan.</li><li>Bake in  a 350 degrees oven for 20 to 25 minutes.</li><li>While still hot, sprinkle with 6 ounces of chocolate chips.</li><li>Spread over top.</li><li>Make icing of 1/4 cup peanut butter, 1/2  cup powdered sugar and 2 tablespoons of milk or cream.</li><li>Swirl on top of melted  chocolate. Cool and cut into squares.</li><li>PEANUT BUTTER SQUARES 1 (18 oz.) crunchy peanut butter 1 cup margarine 2 1/2 cup graham cracker crumbs 1 box powdered sugar 1 tsp.</li><li>vanilla flavor To pping: 1 (16 oz.) bag chocolate chips 1/2 cup margarine Over low heat melt crunchy peanut butter or margarine. Add graham cracker  crumbs, one box powdered sugar and one teaspoon vanilla.</li><li>Mix well.</li><li>Then press  into square pan.</li><li>Topping: Melt over very low heat chocolate chips and 1/2 cup   margarine and stir thoroughly.</li><li>Spread over peanut mixture. Let cool, then cut  into squares.</li></ol>"
      ],
      "text/plain": [
       "<IPython.core.display.HTML object>"
      ]
     },
     "metadata": {},
     "output_type": "display_data"
    },
    {
     "data": {
      "text/html": [
       "<h2>East-West Flank Steak Wraps</h2>"
      ],
      "text/plain": [
       "<IPython.core.display.HTML object>"
      ]
     },
     "metadata": {},
     "output_type": "display_data"
    },
    {
     "data": {
      "text/html": [
       "<h3>Ingredients:</h3>"
      ],
      "text/plain": [
       "<IPython.core.display.HTML object>"
      ]
     },
     "metadata": {},
     "output_type": "display_data"
    },
    {
     "data": {
      "text/html": [
       "<ul><li>beef flank steak: 1  - 1 1/2</li><li>green onion: 2</li><li>salt: 1/2</li><li>pepper: 1/8</li><li>flour tortillas: 1</li><li>rice vinegar: 4</li><li>honey: 1/3</li></ul>"
      ],
      "text/plain": [
       "<IPython.core.display.HTML object>"
      ]
     },
     "metadata": {},
     "output_type": "display_data"
    },
    {
     "data": {
      "text/html": [
       "<h3>Instructions:</h3>"
      ],
      "text/plain": [
       "<IPython.core.display.HTML object>"
      ]
     },
     "metadata": {},
     "output_type": "display_data"
    },
    {
     "data": {
      "text/html": [
       "<ol><li>In large bowl, combine dressi ng ingredients; whisk until blended.</li><li>Place beef  steak in plastic bag; add 3/4 of dressing, turning to coat. Close bag securely  and marinate in refrigerator 10 minutes.</li><li>Meanwhile add coleslaw mix, green onions, salt and pepper to remaining 1/4 of dressing  in bowl; toss.</li><li>Set aside. Wrap tortillas in aluminum foil.</li><li>Remove steak from  dressing; discard dressing.</li><li>Place steak on grid over medium, ash-covered coals.</li><li>Grill, uncovered, 17 to 21 minutes fro medium rare to medium doneness, turning  once. A few minutes before steak is done, place tortilla packet on grid near  edge of grill to heat. Remove steak from grill; let rest 2 to 3 minutes.</li><li>Season  steak with salt and pepper, as desired; carve diagonally into thin slices.</li><li>To  assemble, layer an equal amount of beef, coleslaw mixture and the peanuts down center of each tortilla.</li><li>Fold bottom edge of tortilla up over  filling.</li><li>Fold right and left sides to center, overlapping edges.</li><li>Garnish with  green onion and  peanuts, if desired.</li><li>Tip: To broil, place steak on rack in broiler pan so surface of meat is 2 to 3  inches from heat. Broil 13 to 18 minutes, turning once. Thinly sliced green  cabbage may be substituted for packaged coleslaw mix.</li></ol>"
      ],
      "text/plain": [
       "<IPython.core.display.HTML object>"
      ]
     },
     "metadata": {},
     "output_type": "display_data"
    },
    {
     "data": {
      "text/html": [
       "<h2>Almond Creme Brulee</h2>"
      ],
      "text/plain": [
       "<IPython.core.display.HTML object>"
      ]
     },
     "metadata": {},
     "output_type": "display_data"
    },
    {
     "data": {
      "text/html": [
       "<h3>Ingredients:</h3>"
      ],
      "text/plain": [
       "<IPython.core.display.HTML object>"
      ]
     },
     "metadata": {},
     "output_type": "display_data"
    },
    {
     "data": {
      "text/html": [
       "<ul><li>heavy cream: 3</li><li>granulated sugar: 6</li><li>salt: 6</li><li>light brown sugar: 1/2</li></ul>"
      ],
      "text/plain": [
       "<IPython.core.display.HTML object>"
      ]
     },
     "metadata": {},
     "output_type": "display_data"
    },
    {
     "data": {
      "text/html": [
       "<h3>Instructions:</h3>"
      ],
      "text/plain": [
       "<IPython.core.display.HTML object>"
      ]
     },
     "metadata": {},
     "output_type": "display_data"
    },
    {
     "data": {
      "text/html": [
       "<ol><li>Heat cream in a heavy saucepan.</li><li>Add granulated sugar and stir until  dissolved.</li><li>Beat egg yolks until light and creamy.</li><li>Add t  he hot cream to the  egg yolks gradually, whipping constantly with a wire whisk (not an electric  beater). Stir in remaining ingredients except the brown sugar.</li><li>Pour into  a 6-cup souffle dish, and sprinkle brown sugar on top.</li><li>Bake at 325 degrees  for 45 minutes, or until custard tests done.   - - - - - - - - - - - - - - - - - -  NOTES : This is not for anyone on a low cal, low fat, or low cholesterol  diet.</li></ol>"
      ],
      "text/plain": [
       "<IPython.core.display.HTML object>"
      ]
     },
     "metadata": {},
     "output_type": "display_data"
    },
    {
     "data": {
      "text/html": [
       "<h2>Poppy Seed Cake</h2>"
      ],
      "text/plain": [
       "<IPython.core.display.HTML object>"
      ]
     },
     "metadata": {},
     "output_type": "display_data"
    },
    {
     "data": {
      "text/html": [
       "<h3>Ingredients:</h3>"
      ],
      "text/plain": [
       "<IPython.core.display.HTML object>"
      ]
     },
     "metadata": {},
     "output_type": "display_data"
    },
    {
     "data": {
      "text/html": [
       "<ul><li>poppy seed: 2/3</li><li>buttermilk: 1</li><li>flour: 2 1/2</li><li>baking powder: 2</li><li>baking soda: 1</li><li>salt: 1/2</li><li>butter: 1/2</li><li>sugar: 1 1/2</li><li>sugar: 3</li><li>eggs: 4</li><li>vanilla extract: 1/2</li><li>cinnamon: 1</li></ul>"
      ],
      "text/plain": [
       "<IPython.core.display.HTML object>"
      ]
     },
     "metadata": {},
     "output_type": "display_data"
    },
    {
     "data": {
      "text/html": [
       "<h3>Instructions:</h3>"
      ],
      "text/plain": [
       "<IPython.core.display.HTML object>"
      ]
     },
     "metadata": {},
     "output_type": "display_data"
    },
    {
     "data": {
      "text/html": [
       "<ol><li>Mix poppy seeds and buttermilk together, and let stand in refrigerator for several hours or overnight.  Sift together flour, baking powder, baking soda and salt.  Cream butter and 1 1/2 cups sugar; beat in eggs, one at a time; beat in vanilla and grated orange rind.</li><li>Stir in flour mixture alternately with buttermilk mixture in about 4 additions of each, stirring until just smooth.</li><li>Spoon half of batter into a greased and floured 10-inch Bundt pan.</li><li>Mix remaining sugar and cinnamon together and sprinkle mixture over batter.</li><li>Pour rest of batter into the pan.</li><li>Bake in 350°F oven for about 1 hour, or until a wooden pick comes out clean.</li><li>Cool in pan for 15 minutes, then turn out to finish cooling.</li><li>Cover tightly and let season for a day or two for best flavor.</li></ol>"
      ],
      "text/plain": [
       "<IPython.core.display.HTML object>"
      ]
     },
     "metadata": {},
     "output_type": "display_data"
    },
    {
     "data": {
      "text/html": [
       "<h2>Delicious Pizza Sauce</h2>"
      ],
      "text/plain": [
       "<IPython.core.display.HTML object>"
      ]
     },
     "metadata": {},
     "output_type": "display_data"
    },
    {
     "data": {
      "text/html": [
       "<img src=\"https://img.sndimg.com/food/image/upload/w_555,h_416,c_fit,fl_progressive,q_95/v1/img/recipes/22/16/picLNolhA.jpg\" width=\"400\"/>"
      ],
      "text/plain": [
       "<IPython.core.display.Image object>"
      ]
     },
     "metadata": {},
     "output_type": "display_data"
    },
    {
     "data": {
      "text/html": [
       "<h3>Ingredients:</h3>"
      ],
      "text/plain": [
       "<IPython.core.display.HTML object>"
      ]
     },
     "metadata": {},
     "output_type": "display_data"
    },
    {
     "data": {
      "text/html": [
       "<ul><li>tomato paste: 1</li><li>garlic: 1 -3</li><li>olive oil: 1 -3</li><li>salt: 1 -2</li><li>water: 1 1/4</li></ul>"
      ],
      "text/plain": [
       "<IPython.core.display.HTML object>"
      ]
     },
     "metadata": {},
     "output_type": "display_data"
    },
    {
     "data": {
      "text/html": [
       "<h3>Instructions:</h3>"
      ],
      "text/plain": [
       "<IPython.core.display.HTML object>"
      ]
     },
     "metadata": {},
     "output_type": "display_data"
    },
    {
     "data": {
      "text/html": [
       "<ol><li>Mix the first six ingredients together.</li><li>Spread evenly on prepared dough or Boboli, top with toppings and bake according to dough's directions.</li></ol>"
      ],
      "text/plain": [
       "<IPython.core.display.HTML object>"
      ]
     },
     "metadata": {},
     "output_type": "display_data"
    },
    {
     "data": {
      "text/html": [
       "<h2>Low-Fat Apple Cake</h2>"
      ],
      "text/plain": [
       "<IPython.core.display.HTML object>"
      ]
     },
     "metadata": {},
     "output_type": "display_data"
    },
    {
     "data": {
      "text/html": [
       "<h3>Ingredients:</h3>"
      ],
      "text/plain": [
       "<IPython.core.display.HTML object>"
      ]
     },
     "metadata": {},
     "output_type": "display_data"
    },
    {
     "data": {
      "text/html": [
       "<ul><li>margarine: 1/4</li><li>brown sugar: 2/3</li><li>buttermilk: 1 1/2</li><li>all-purpose flour: 1</li><li>whole wheat flour: 1</li><li>baking soda: 1</li><li>baking powder: 1</li><li>cinnamon: 1</li><li>salt: 1/2</li><li>apples: 2 1/2</li><li>brown sugar: 1/4</li><li>cinnamon: 2</li></ul>"
      ],
      "text/plain": [
       "<IPython.core.display.HTML object>"
      ]
     },
     "metadata": {},
     "output_type": "display_data"
    },
    {
     "data": {
      "text/html": [
       "<h3>Instructions:</h3>"
      ],
      "text/plain": [
       "<IPython.core.display.HTML object>"
      ]
     },
     "metadata": {},
     "output_type": "display_data"
    },
    {
     "data": {
      "text/html": [
       "<ol><li>In large bowl, combine margarine and sugar using electric mixer.</li><li>Beat in  buttermilk .</li><li>Add flours, baking soda, baking powder, cinnamon, salt and apples  and mix to combine. Spread evenly in lightly-greased Bundt pan or 8- or  9-inch-square baking pan.</li><li>Bake at 350 degrees for 40 to 45 minutes or until  toothpick inserted in centre comes out clean.</li></ol>"
      ],
      "text/plain": [
       "<IPython.core.display.HTML object>"
      ]
     },
     "metadata": {},
     "output_type": "display_data"
    },
    {
     "data": {
      "text/html": [
       "<h2>Pork and Chicken Adobo</h2>"
      ],
      "text/plain": [
       "<IPython.core.display.HTML object>"
      ]
     },
     "metadata": {},
     "output_type": "display_data"
    },
    {
     "data": {
      "text/html": [
       "<h3>Ingredients:</h3>"
      ],
      "text/plain": [
       "<IPython.core.display.HTML object>"
      ]
     },
     "metadata": {},
     "output_type": "display_data"
    },
    {
     "data": {
      "text/html": [
       "<ul><li>boneless pork: 1</li><li>chicken thighs: 1 1/4</li><li>white vinegar: 1/2</li><li>soy sauce: 3</li><li>garlic: 4</li><li>salt: 1</li><li>black pepper: 1/4 - 1/2</li><li>water: 3/4</li></ul>"
      ],
      "text/plain": [
       "<IPython.core.display.HTML object>"
      ]
     },
     "metadata": {},
     "output_type": "display_data"
    },
    {
     "data": {
      "text/html": [
       "<h3>Instructions:</h3>"
      ],
      "text/plain": [
       "<IPython.core.display.HTML object>"
      ]
     },
     "metadata": {},
     "output_type": "display_data"
    },
    {
     "data": {
      "text/html": [
       "<ol><li>Cut pork across into 3/4 inch slices.</li><li>then cut into 2 X 1 inch pieces.</li><li>combine with chicken pieces in large bowl.</li><li>Mix vinegar,soy sauce, garlic, salt and pepper in a small bowl; pour over pork and chicken.</li><li>Marinate at room temperature , stirring occasionally, 1 hour.</li><li>Transfer pork-chicken mixture in medium nonaluminum saucepan, stir in water.</li><li>Heat over medium heat to boiling.</li><li>Reduce heat to = low, simmer covered until pork and chicken are tender, about 30 minutes.emove pork and chicken with slotted spoon, draining well.</li><li>Transfer to plate.  Cook vinegar mixture over high heat until reduced to coating consistency , about 15 mi nutes.</li><li>While sauce is reducing, heat oil in medium skillet over medium hear add pork.</li><li>Cook , turning frequently , until brown on all sides, about 3 minutes.</li><li>Remove to plate.  Add chicken to skillet, turning once until brown, about 2 minutes.</li><li>Arrange chicken and pork on serving plate and keep warm.</li><li>Strain sauce through fine sieve, skim and discard fat.  Pour sauce over chicken and pork.</li></ol>"
      ],
      "text/plain": [
       "<IPython.core.display.HTML object>"
      ]
     },
     "metadata": {},
     "output_type": "display_data"
    },
    {
     "data": {
      "text/html": [
       "<h2>Coca Cola Cake</h2>"
      ],
      "text/plain": [
       "<IPython.core.display.HTML object>"
      ]
     },
     "metadata": {},
     "output_type": "display_data"
    },
    {
     "data": {
      "text/html": [
       "<img src=\"https://img.sndimg.com/food/image/upload/w_555,h_416,c_fit,fl_progressive,q_95/v1/img/recipes/22/38/AVqPQcS3RZCgrrFN5NW2-108.JPG\" width=\"400\"/>"
      ],
      "text/plain": [
       "<IPython.core.display.Image object>"
      ]
     },
     "metadata": {},
     "output_type": "display_data"
    },
    {
     "data": {
      "text/html": [
       "<h3>Ingredients:</h3>"
      ],
      "text/plain": [
       "<IPython.core.display.HTML object>"
      ]
     },
     "metadata": {},
     "output_type": "display_data"
    },
    {
     "data": {
      "text/html": [
       "<ul><li>sugar: 2</li><li>flour: 2</li><li>salt: 1/4</li><li>buttermilk: 1/2</li><li>baking soda: 1</li><li>vanilla: 3</li><li>eggs: 1</li><li>margarine: 2</li><li>butter: 1/2</li><li>shortening: 1/2</li><li>miniature marshmallows: 1</li><li>margarine: 2</li><li>butter: 1/2</li><li>vanilla extract: 3</li><li>powdered sugar: 6</li></ul>"
      ],
      "text/plain": [
       "<IPython.core.display.HTML object>"
      ]
     },
     "metadata": {},
     "output_type": "display_data"
    },
    {
     "data": {
      "text/html": [
       "<h3>Instructions:</h3>"
      ],
      "text/plain": [
       "<IPython.core.display.HTML object>"
      ]
     },
     "metadata": {},
     "output_type": "display_data"
    },
    {
     "data": {
      "text/html": [
       "<ol><li>Mix first 8 ingredients, then heat next 3 and add gradually into first mixtures.</li><li>Grease 13X9X2 inch cake pan and cover bottom with 2 cups miniature marshmallows.</li><li>Pour batter over that. Bake at 350 degrees (preheated oven) for 35-45 minutes.</li><li>Pour icing over warm cake.</li><li>ICING FOR COCA COLA CAKE:</li><li>Heat margarine, cocoa, Coke and vanilla.</li><li>Pour over the powdered sugar and mix.</li><li>Add nuts.</li><li>Add frosting to the cake.</li><li>Cool before serving.</li></ol>"
      ],
      "text/plain": [
       "<IPython.core.display.HTML object>"
      ]
     },
     "metadata": {},
     "output_type": "display_data"
    },
    {
     "data": {
      "text/html": [
       "<h2>Jenny's Chicken Stuffed Stromboli</h2>"
      ],
      "text/plain": [
       "<IPython.core.display.HTML object>"
      ]
     },
     "metadata": {},
     "output_type": "display_data"
    },
    {
     "data": {
      "text/html": [
       "<h3>Ingredients:</h3>"
      ],
      "text/plain": [
       "<IPython.core.display.HTML object>"
      ]
     },
     "metadata": {},
     "output_type": "display_data"
    },
    {
     "data": {
      "text/html": [
       "<ul><li>water: 1</li><li>water: 4</li><li>olive oil: 12</li><li>salt: 2</li><li>honey: 1</li><li>flour: 1</li></ul>"
      ],
      "text/plain": [
       "<IPython.core.display.HTML object>"
      ]
     },
     "metadata": {},
     "output_type": "display_data"
    },
    {
     "data": {
      "text/html": [
       "<h3>Instructions:</h3>"
      ],
      "text/plain": [
       "<IPython.core.display.HTML object>"
      ]
     },
     "metadata": {},
     "output_type": "display_data"
    },
    {
     "data": {
      "text/html": [
       "<ol><li>In a cup dissolve 1 pack of yeast in 4 tablespoons of warm (but not hot) water.</li><li>Allow to proof (sit) for 10 minutes.</li><li>In another cup, mix together 12  tablespoons of cold water, 1 tablespoon of olive oil, 1 teaspoon of salt and 1  tablespoon of honey.</li><li>Add the wet ingredients (cold stuff first) to 3 cups of  flour and mix (I sometimes use a food  processor, but you can use your hands.)    Allow the dough to rise.  Personally, I make the dough the night before I need  it, put it in the refrigerator overnight, and let it rise the next day (all  day.)  But as long as you let it rise at least 2 hours, it should be OK.</li><li>Saute onion with a little olive oil until vaguely transparent.  Add chicken and  cook until just not salmonella city - pink inside is ok because it will also  cook inside the stromboli.</li><li>Add green peppers at last minutes and just warm  through to take the edge off (I like mine crunchy, so cook as long as you think  they need to). Roll out pizza dough on a floured board until its about the shape and size of a pizza pan.</li><li>Lay the dough on a nonstick pizza pan or a cookie  sheet. Layer the chicken, tomato, onion, peppers on one half of the dough.</li><li>Sprinkle cheese overtop and flop the rest of the dough and seal- use a fork to  crimp the edges if necessary.</li><li>As for cooking, I set the oven at 500 degrees.</li><li>Stuff the stromboli and place it on a cookie sheet greased with olive oil.</li><li>I  usually coat the stromboli with an egg wash, oregano, and pretzel (or kosher)  salt.  The egg wash will make it brown nicely.</li><li>The other stuff is just for  taste.  There is no set time to cook it.  Just keep checking it after about 1 2  minutes.</li><li>When the bottom is brown, it's done.</li></ol>"
      ],
      "text/plain": [
       "<IPython.core.display.HTML object>"
      ]
     },
     "metadata": {},
     "output_type": "display_data"
    },
    {
     "data": {
      "text/html": [
       "<h2>Chicken Corn Chowder</h2>"
      ],
      "text/plain": [
       "<IPython.core.display.HTML object>"
      ]
     },
     "metadata": {},
     "output_type": "display_data"
    },
    {
     "data": {
      "text/html": [
       "<h3>Ingredients:</h3>"
      ],
      "text/plain": [
       "<IPython.core.display.HTML object>"
      ]
     },
     "metadata": {},
     "output_type": "display_data"
    },
    {
     "data": {
      "text/html": [
       "<ul><li>chicken: 1</li><li>butter: 1/8</li><li>potatoes: 6 -8</li><li>kernel corn: 3 -4</li><li>salt: 3 -6</li></ul>"
      ],
      "text/plain": [
       "<IPython.core.display.HTML object>"
      ]
     },
     "metadata": {},
     "output_type": "display_data"
    },
    {
     "data": {
      "text/html": [
       "<h3>Instructions:</h3>"
      ],
      "text/plain": [
       "<IPython.core.display.HTML object>"
      ]
     },
     "metadata": {},
     "output_type": "display_data"
    },
    {
     "data": {
      "text/html": [
       "<ol><li>Ribbles:  1 cup flour  salt and pepper  1 egg  Stew one chicken; cook until tender.</li><li>Make a lot of broth.</li><li>Pick chicken off  bones.</li><li>Cut up chicken; put chicken, butter, potatoes, corn, salt, pepper and  parsley.</li><li>Add Ribbles.</li><li>Ribbles: Mix; crumble; add to mixture. Cook 1 hour.</li><li>After cooking, chop up  boiled eggs.</li></ol>"
      ],
      "text/plain": [
       "<IPython.core.display.HTML object>"
      ]
     },
     "metadata": {},
     "output_type": "display_data"
    },
    {
     "data": {
      "text/html": [
       "<h2>Apple Strawberry Cobbler</h2>"
      ],
      "text/plain": [
       "<IPython.core.display.HTML object>"
      ]
     },
     "metadata": {},
     "output_type": "display_data"
    },
    {
     "data": {
      "text/html": [
       "<h3>Ingredients:</h3>"
      ],
      "text/plain": [
       "<IPython.core.display.HTML object>"
      ]
     },
     "metadata": {},
     "output_type": "display_data"
    },
    {
     "data": {
      "text/html": [
       "<ul><li>granulated sugar: 1/3</li><li>all-purpose flour: 3</li><li>lemons, rind of: 2</li><li>cinnamon: 1</li><li>apples: 2</li><li>lemon juice: 2</li><li>flour: 1</li><li>sugar: 3</li><li>baking powder: 1</li><li>baking soda: 1/4</li><li>salt: 1/4</li><li>butter: 3</li><li>buttermilk: 2/3</li></ul>"
      ],
      "text/plain": [
       "<IPython.core.display.HTML object>"
      ]
     },
     "metadata": {},
     "output_type": "display_data"
    },
    {
     "data": {
      "text/html": [
       "<h3>Instructions:</h3>"
      ],
      "text/plain": [
       "<IPython.core.display.HTML object>"
      ]
     },
     "metadata": {},
     "output_type": "display_data"
    },
    {
     "data": {
      "text/html": [
       "<ol><li>Combine sugar, flour, lemon rind and cinnamon.</li><li>Stir in apples, strawberries and  lemon juice. Spread mixture in 8-inch square baking dish and bake in 400 degree  oven for 10 minutes.</li><li>TOPPING: In bowl, mix together flour, sugar, baking powder, baking soda and  salt. Cut in butter until crumbly.</li><li>With fork, stir in buttermilk until soft  dough forms.</li><li>Drop by spoonfuls onto fruit. Bake 35 to 40 minutes or until top is golden and biscuits are cooked through.</li></ol>"
      ],
      "text/plain": [
       "<IPython.core.display.HTML object>"
      ]
     },
     "metadata": {},
     "output_type": "display_data"
    },
    {
     "data": {
      "text/html": [
       "<h2>Mr. Walker's Feta Burger</h2>"
      ],
      "text/plain": [
       "<IPython.core.display.HTML object>"
      ]
     },
     "metadata": {},
     "output_type": "display_data"
    },
    {
     "data": {
      "text/html": [
       "<h3>Ingredients:</h3>"
      ],
      "text/plain": [
       "<IPython.core.display.HTML object>"
      ]
     },
     "metadata": {},
     "output_type": "display_data"
    },
    {
     "data": {
      "text/html": [
       "<ul><li>beef burgers: 2</li><li>Tabasco sauce: 1</li><li>Greek feta cheese: 1 -2</li><li>olive oil: 1</li><li>garlic clove: 1</li><li>onions: 1/2</li><li>shallots: 1/2</li><li>dried oregano: 1</li><li>fresh thyme: 2</li></ul>"
      ],
      "text/plain": [
       "<IPython.core.display.HTML object>"
      ]
     },
     "metadata": {},
     "output_type": "display_data"
    },
    {
     "data": {
      "text/html": [
       "<h3>Instructions:</h3>"
      ],
      "text/plain": [
       "<IPython.core.display.HTML object>"
      ]
     },
     "metadata": {},
     "output_type": "display_data"
    },
    {
     "data": {
      "text/html": [
       "<ol><li>Select your favorite pure beef burgers (make them yourself, or buy the best frozen ones you can find) and hamburger buns (white bread).</li><li>While the beef burgers are still frozen, marinate one (or both) sides with Tabasco sauce. The sauce will stay put as it freezes directly on the surface.</li><li>The burgers should then be grilled.</li><li>meanwhile, heat oil in a medium skillet.</li><li>add onions or shallots and garlic, oregano, thyme, salt, pepper, and cook 10-15 minutes until onion is slightly carmelized.push aside.</li><li>When almost done, put 2 thick slices of (preferrably) real Greek feta-cheese (you can select any brand of feta here, depending on taste and availability). Let the cheese fry with the onions for the last couple of minutes. Before putting the feta on the burger, cover it with a few thin slices of onions and garlic.</li></ol>"
      ],
      "text/plain": [
       "<IPython.core.display.HTML object>"
      ]
     },
     "metadata": {},
     "output_type": "display_data"
    },
    {
     "data": {
      "text/html": [
       "<h2>Sour Cream Cupcakes</h2>"
      ],
      "text/plain": [
       "<IPython.core.display.HTML object>"
      ]
     },
     "metadata": {},
     "output_type": "display_data"
    },
    {
     "data": {
      "text/html": [
       "<h3>Ingredients:</h3>"
      ],
      "text/plain": [
       "<IPython.core.display.HTML object>"
      ]
     },
     "metadata": {},
     "output_type": "display_data"
    },
    {
     "data": {
      "text/html": [
       "<ul><li>creamed shortening: 1</li><li>sugar: 1</li><li>eggs: 2</li><li>baking soda: 1/2</li><li>sour cream: 1/2</li><li>all-purpose flour: 1 1/2</li><li>salt: 1 1/2</li><li>cream of tartar: 1/2</li><li>mace: 1/8</li></ul>"
      ],
      "text/plain": [
       "<IPython.core.display.HTML object>"
      ]
     },
     "metadata": {},
     "output_type": "display_data"
    },
    {
     "data": {
      "text/html": [
       "<h3>Instructions:</h3>"
      ],
      "text/plain": [
       "<IPython.core.display.HTML object>"
      ]
     },
     "metadata": {},
     "output_type": "display_data"
    },
    {
     "data": {
      "text/html": [
       "<ol><li>Cream the shortening, sugar, and eggs together until light an fluffy.</li><li>Dissolve the soda into the sour cream.</li><li>Sift the flour, salt,  cream of tartar, and mace together.</li><li>Mix with the first mixture and  beat together.</li><li>Bake in a greased cupcake pan or you can use foil  wraps at 400° for 15 - 20 minutes.</li></ol>"
      ],
      "text/plain": [
       "<IPython.core.display.HTML object>"
      ]
     },
     "metadata": {},
     "output_type": "display_data"
    },
    {
     "data": {
      "text/html": [
       "<h2>Collections (4) Tapioca</h2>"
      ],
      "text/plain": [
       "<IPython.core.display.HTML object>"
      ]
     },
     "metadata": {},
     "output_type": "display_data"
    },
    {
     "data": {
      "text/html": [
       "<h3>Ingredients:</h3>"
      ],
      "text/plain": [
       "<IPython.core.display.HTML object>"
      ]
     },
     "metadata": {},
     "output_type": "display_data"
    },
    {
     "data": {
      "text/html": [
       "<ul><li>evaporated milk: 1</li><li>minute tapioca: 1</li><li>sugar: 1/3</li><li>salt: 2/3</li><li>water: 1/4</li><li>very strong coffee: 1</li><li>real vanilla: 2</li></ul>"
      ],
      "text/plain": [
       "<IPython.core.display.HTML object>"
      ]
     },
     "metadata": {},
     "output_type": "display_data"
    },
    {
     "data": {
      "text/html": [
       "<h3>Instructions:</h3>"
      ],
      "text/plain": [
       "<IPython.core.display.HTML object>"
      ]
     },
     "metadata": {},
     "output_type": "display_data"
    },
    {
     "data": {
      "text/html": [
       "<ol><li>Mix the egg yolk with a little bit of the milk in a saucepan.</li><li>Add the  rest of the milk, tapioca, sugar, salt, water, and coffee. Bring it  to a boil over direct heat until tapioca  is clear.</li><li>Stir constantly to  avoid sticking.</li><li>Remove from heat. Add the stiffly beaten egg whites  and fold into the hot mixture. Add vanilla into mixture and fold  again.</li><li>Cool.</li><li>Pineapple Tapioca 2 1/2 cups of crushed pineapple (keep juice) 1/4 cup of minute tapioca 1/3 cup of sugar 1/8 tsp salt. Mix all ingredients into a double boiler.</li><li>Cook for 20 minutes or  until the tapioca is clear.</li><li>Chill and serve. Indian Tapioca Pudding 1/3 cup of minute tapioca 1/4 cup of all purpose corn meal 1 quart of milk, scalded 1 cup of dark molasses 1/2 tsp salt 2 Tbsp butter 1 1/2 cups of cold milk Combine tapioca, corn meal, and put it into the scalded milk.</li><li>Cook  until tapioca is clear--stirring constantly so it will not stick or  burn.</li><li>Add the molasses, salt, and butter.</li><li>Pour into a well greased  baking dish.</li><li>Add the milk and DO NOT STIR.</li><li>bake in oven at 350* for 1  hour.</li><li>Serve with whipped cream.</li><li>Also great with dried fruit, fresh  fruits, or an assortment of nuts.</li><li>Princess  Pudding 1 cup of minute tapioca 3 1/2 cups of boiling water 1/2 cup of sugar 1/2 pint of tart jelly 1/2 tsp salt Cook the tapioca in the water with sugar and salt until it is clear  and has \\</li><li>.</li><li>Add the jelly and stir until dissolved.</li><li>Chill and  serve cold.</li><li>Can be served with whipped cream or a soft custard.</li></ol>"
      ],
      "text/plain": [
       "<IPython.core.display.HTML object>"
      ]
     },
     "metadata": {},
     "output_type": "display_data"
    },
    {
     "data": {
      "text/html": [
       "<h2>Tapioca Cream</h2>"
      ],
      "text/plain": [
       "<IPython.core.display.HTML object>"
      ]
     },
     "metadata": {},
     "output_type": "display_data"
    },
    {
     "data": {
      "text/html": [
       "<h3>Ingredients:</h3>"
      ],
      "text/plain": [
       "<IPython.core.display.HTML object>"
      ]
     },
     "metadata": {},
     "output_type": "display_data"
    },
    {
     "data": {
      "text/html": [
       "<ul><li>milk: 1</li><li>minute tapioca: 1/4</li><li>sugar: 1/3</li><li>egg: 1</li><li>salt: 1/4</li><li>real vanilla: 1/2</li></ul>"
      ],
      "text/plain": [
       "<IPython.core.display.HTML object>"
      ]
     },
     "metadata": {},
     "output_type": "display_data"
    },
    {
     "data": {
      "text/html": [
       "<h3>Instructions:</h3>"
      ],
      "text/plain": [
       "<IPython.core.display.HTML object>"
      ]
     },
     "metadata": {},
     "output_type": "display_data"
    },
    {
     "data": {
      "text/html": [
       "<ol><li>Beat the egg white until stiff.</li><li>Add the tapioca to the milk in a double boiler.</li><li>Cook until tapioca is transparent, stirring frequently.</li><li>Add half the sugar to the milk and half to the egg yolk, lightly beaten.</li><li>Add salt to the egg mixture.</li><li>Pour hot mixture slowly over the egg mixture.</li><li>Return to the double boiler and cook until thickened, stirring constantly.</li><li>Fold in the stiffly beaten egg white.</li><li>Serve very  cold.</li></ol>"
      ],
      "text/plain": [
       "<IPython.core.display.HTML object>"
      ]
     },
     "metadata": {},
     "output_type": "display_data"
    },
    {
     "data": {
      "text/html": [
       "<h2>Tapioca Custard Pudding</h2>"
      ],
      "text/plain": [
       "<IPython.core.display.HTML object>"
      ]
     },
     "metadata": {},
     "output_type": "display_data"
    },
    {
     "data": {
      "text/html": [
       "<h3>Ingredients:</h3>"
      ],
      "text/plain": [
       "<IPython.core.display.HTML object>"
      ]
     },
     "metadata": {},
     "output_type": "display_data"
    },
    {
     "data": {
      "text/html": [
       "<ul><li>milk: 1</li><li>eggs: 2</li><li>minute tapioca: 1/3</li><li>sugar: 1/2</li><li>salt: 1</li><li>butter: 1</li></ul>"
      ],
      "text/plain": [
       "<IPython.core.display.HTML object>"
      ]
     },
     "metadata": {},
     "output_type": "display_data"
    },
    {
     "data": {
      "text/html": [
       "<h3>Instructions:</h3>"
      ],
      "text/plain": [
       "<IPython.core.display.HTML object>"
      ]
     },
     "metadata": {},
     "output_type": "display_data"
    },
    {
     "data": {
      "text/html": [
       "<ol><li>Add the tapioca to the milk and cook in double boiler for 30 minutes.</li><li>Remove. To the sugar add the salt and eggs.</li><li>Pour this mixture slowly  over the hot mixture. Mix into a buttered pudding dish.</li><li>Add the  butter to this mixture. Put the pan in really hot water and bake in oven at 325° over for 30 minutes.</li><li>Great with crushed or whole fruits  and berries.</li></ol>"
      ],
      "text/plain": [
       "<IPython.core.display.HTML object>"
      ]
     },
     "metadata": {},
     "output_type": "display_data"
    },
    {
     "data": {
      "text/html": [
       "<h2>Mom's Excellent Creamy Cauliflower Soup</h2>"
      ],
      "text/plain": [
       "<IPython.core.display.HTML object>"
      ]
     },
     "metadata": {},
     "output_type": "display_data"
    },
    {
     "data": {
      "text/html": [
       "<h3>Ingredients:</h3>"
      ],
      "text/plain": [
       "<IPython.core.display.HTML object>"
      ]
     },
     "metadata": {},
     "output_type": "display_data"
    },
    {
     "data": {
      "text/html": [
       "<ul><li>olive oil: 1</li><li>onion: 1</li><li>celery: 1/2</li><li>garlic cloves: 3</li><li>carrot: 1</li><li>potatoes: 2</li><li>cauliflower florets: 2</li><li>water: 4</li><li>dill: 1/4</li><li>caraway seed: 1/4</li><li>dry mustard: 1/4</li><li>black pepper: 1/4</li><li>cheddar cheese: 1 1/2</li><li>Velveeta cheese: 1</li></ul>"
      ],
      "text/plain": [
       "<IPython.core.display.HTML object>"
      ]
     },
     "metadata": {},
     "output_type": "display_data"
    },
    {
     "data": {
      "text/html": [
       "<h3>Instructions:</h3>"
      ],
      "text/plain": [
       "<IPython.core.display.HTML object>"
      ]
     },
     "metadata": {},
     "output_type": "display_data"
    },
    {
     "data": {
      "text/html": [
       "<ol><li>salt to taste In a large stock pot, saute onion, garlic, celery, and carrots till tender.</li><li>Add stock or water to pan with potato cubes, cauliflower and banana pepper.</li><li>Bring to a boil and simmer for 20 minutes, or till vegetables are tender.</li><li>At this point, add seasonings, except salt. Taste for heat, and if ok, remove banana pepper now.</li><li>If you like it hotter, leave till desired heat is achieved, remembering that reheating the soup will make it hotter each time. Next, add the milk and heat to a slow simmer.</li><li>Now, add the cheese. I use 1-2 cups of Velveeta, and or sharp cheddar cheese shredded, and  stir in until melted.</li><li>Now salt to taste and serve.</li><li>NOTES : If a banana pepper is unavailable, use crushed red pepper flakes.</li><li>I also add shredded sharp cheddar cheese with the Velveeta.</li><li>I also like the caraway flavor and add more than my Mom does.</li></ol>"
      ],
      "text/plain": [
       "<IPython.core.display.HTML object>"
      ]
     },
     "metadata": {},
     "output_type": "display_data"
    },
    {
     "data": {
      "text/html": [
       "<h2>Old Fashioned Crumb Cake</h2>"
      ],
      "text/plain": [
       "<IPython.core.display.HTML object>"
      ]
     },
     "metadata": {},
     "output_type": "display_data"
    },
    {
     "data": {
      "text/html": [
       "<img src=\"https://img.sndimg.com/food/image/upload/w_555,h_416,c_fit,fl_progressive,q_95/v1/img/recipes/24/17/picxt5qrC.jpg\" width=\"400\"/>"
      ],
      "text/plain": [
       "<IPython.core.display.Image object>"
      ]
     },
     "metadata": {},
     "output_type": "display_data"
    },
    {
     "data": {
      "text/html": [
       "<h3>Ingredients:</h3>"
      ],
      "text/plain": [
       "<IPython.core.display.HTML object>"
      ]
     },
     "metadata": {},
     "output_type": "display_data"
    },
    {
     "data": {
      "text/html": [
       "<ul><li>shortening: 1/2</li><li>brown sugar: 1 1/2</li><li>all-purpose flour: 2 1/2</li><li>baking powder: 2 1/2</li><li>cinnamon: 1</li><li>salt: 1</li><li>egg: 1</li><li>milk: 3/4</li></ul>"
      ],
      "text/plain": [
       "<IPython.core.display.HTML object>"
      ]
     },
     "metadata": {},
     "output_type": "display_data"
    },
    {
     "data": {
      "text/html": [
       "<h3>Instructions:</h3>"
      ],
      "text/plain": [
       "<IPython.core.display.HTML object>"
      ]
     },
     "metadata": {},
     "output_type": "display_data"
    },
    {
     "data": {
      "text/html": [
       "<ol><li>Preheat oven to 375F and grease an 8\\</li><li>,</li><li>,</li><li>,</li><li>,</li><li>,</li><li>,</li><li>,</li><li>,</li></ol>"
      ],
      "text/plain": [
       "<IPython.core.display.HTML object>"
      ]
     },
     "metadata": {},
     "output_type": "display_data"
    },
    {
     "data": {
      "text/html": [
       "<h2>Mallow Topped Sweet Potatoes</h2>"
      ],
      "text/plain": [
       "<IPython.core.display.HTML object>"
      ]
     },
     "metadata": {},
     "output_type": "display_data"
    },
    {
     "data": {
      "text/html": [
       "<h3>Ingredients:</h3>"
      ],
      "text/plain": [
       "<IPython.core.display.HTML object>"
      ]
     },
     "metadata": {},
     "output_type": "display_data"
    },
    {
     "data": {
      "text/html": [
       "<ul><li>sweet potatoes: 3</li><li>butter: 1/4</li><li>margarine: 0.25</li><li>brown sugar: 1/4</li><li>salt: 1/2</li><li>cinnamon: 1</li><li>nutmeg: 1/4</li><li>marshmallows: 25</li></ul>"
      ],
      "text/plain": [
       "<IPython.core.display.HTML object>"
      ]
     },
     "metadata": {},
     "output_type": "display_data"
    },
    {
     "data": {
      "text/html": [
       "<h3>Instructions:</h3>"
      ],
      "text/plain": [
       "<IPython.core.display.HTML object>"
      ]
     },
     "metadata": {},
     "output_type": "display_data"
    },
    {
     "data": {
      "text/html": [
       "<ol><li>Heat oven to 350 degrees.</li><li>Pour sweet potatoes in a 10x6\\</li><li>,</li><li>,</li><li>,</li><li>,</li><li>,</li><li>,</li></ol>"
      ],
      "text/plain": [
       "<IPython.core.display.HTML object>"
      ]
     },
     "metadata": {},
     "output_type": "display_data"
    },
    {
     "data": {
      "text/html": [
       "<h2>Home Fried Potatoes</h2>"
      ],
      "text/plain": [
       "<IPython.core.display.HTML object>"
      ]
     },
     "metadata": {},
     "output_type": "display_data"
    },
    {
     "data": {
      "text/html": [
       "<h3>Ingredients:</h3>"
      ],
      "text/plain": [
       "<IPython.core.display.HTML object>"
      ]
     },
     "metadata": {},
     "output_type": "display_data"
    },
    {
     "data": {
      "text/html": [
       "<ul><li>potatoes: 6</li><li>salt: 1</li><li>pepper: 1/2</li><li>paprika: 1/2</li><li>bacon drippings: 1/3</li></ul>"
      ],
      "text/plain": [
       "<IPython.core.display.HTML object>"
      ]
     },
     "metadata": {},
     "output_type": "display_data"
    },
    {
     "data": {
      "text/html": [
       "<h3>Instructions:</h3>"
      ],
      "text/plain": [
       "<IPython.core.display.HTML object>"
      ]
     },
     "metadata": {},
     "output_type": "display_data"
    },
    {
     "data": {
      "text/html": [
       "<ol><li>Press potatoes between paper towels; sprinkle with seasonings.</li><li>Heat  drippings in heavy skillet; add potatoes.</li><li>Cover and cook over low heat 5  minutes.</li><li>Remove cover and fry over medium heat for about 20 minutes,  turning to brown evenly.</li></ol>"
      ],
      "text/plain": [
       "<IPython.core.display.HTML object>"
      ]
     },
     "metadata": {},
     "output_type": "display_data"
    },
    {
     "data": {
      "text/html": [
       "<h2>Chocolatetown Special Cake (Chocolate Cake)</h2>"
      ],
      "text/plain": [
       "<IPython.core.display.HTML object>"
      ]
     },
     "metadata": {},
     "output_type": "display_data"
    },
    {
     "data": {
      "text/html": [
       "<img src=\"https://img.sndimg.com/food/image/upload/w_555,h_416,c_fit,fl_progressive,q_95/v1/img/recipes/24/95/picYqDHqV.jpg\" width=\"400\"/>"
      ],
      "text/plain": [
       "<IPython.core.display.Image object>"
      ]
     },
     "metadata": {},
     "output_type": "display_data"
    },
    {
     "data": {
      "text/html": [
       "<h3>Ingredients:</h3>"
      ],
      "text/plain": [
       "<IPython.core.display.HTML object>"
      ]
     },
     "metadata": {},
     "output_type": "display_data"
    },
    {
     "data": {
      "text/html": [
       "<ul><li>boiling water: 1/2</li><li>shortening: 1/2</li><li>sugar: 2/3</li><li>vanilla: 1 3/4</li><li>eggs: 1</li><li>flour: 2</li><li>baking soda: 2 1/4</li><li>salt: 1 1/2</li><li>buttermilk: 1/2</li></ul>"
      ],
      "text/plain": [
       "<IPython.core.display.HTML object>"
      ]
     },
     "metadata": {},
     "output_type": "display_data"
    },
    {
     "data": {
      "text/html": [
       "<h3>Instructions:</h3>"
      ],
      "text/plain": [
       "<IPython.core.display.HTML object>"
      ]
     },
     "metadata": {},
     "output_type": "display_data"
    },
    {
     "data": {
      "text/html": [
       "<ol><li>In small bowl combine cocoa and boiling water, set aside. Heat oven to 350 degrees F.</li><li>Grease and flour 2 9-inch round pans. (Don't use 8-inch pans or they will overflow!).</li><li>Cream shortening, sugar, and vanilla until light and fluffy.</li><li>Add eggs, beat well.</li><li>Combine flour, baking soda and salt; add alternately with buttermilk to creamed mixture. Blend in cocoa mixture. Pour into prepared pans.</li><li>Bake for 35-40 minutes or until they test done. Cool and frost with a icing of your choice.</li></ol>"
      ],
      "text/plain": [
       "<IPython.core.display.HTML object>"
      ]
     },
     "metadata": {},
     "output_type": "display_data"
    },
    {
     "data": {
      "text/html": [
       "<h2>Chocolate Pumpkin Spice Cake</h2>"
      ],
      "text/plain": [
       "<IPython.core.display.HTML object>"
      ]
     },
     "metadata": {},
     "output_type": "display_data"
    },
    {
     "data": {
      "text/html": [
       "<h3>Ingredients:</h3>"
      ],
      "text/plain": [
       "<IPython.core.display.HTML object>"
      ]
     },
     "metadata": {},
     "output_type": "display_data"
    },
    {
     "data": {
      "text/html": [
       "<ul><li>unsalted butter: 1/2</li><li>sugar: 2</li><li>pumpkin puree: 1</li><li>vanilla extract: 1</li><li>eggs: 4</li><li>baking powder: 2</li><li>baking soda: 1</li><li>salt: 1/4</li><li>cinnamon: 2</li><li>ginger: 1</li><li>clove: 1/4</li><li>nutmeg: 1/4</li><li>flour: 3/4</li><li>pecans: 2 2/3</li><li>walnut pieces: 1 1/2</li><li>golden raisin: 1</li></ul>"
      ],
      "text/plain": [
       "<IPython.core.display.HTML object>"
      ]
     },
     "metadata": {},
     "output_type": "display_data"
    },
    {
     "data": {
      "text/html": [
       "<h3>Instructions:</h3>"
      ],
      "text/plain": [
       "<IPython.core.display.HTML object>"
      ]
     },
     "metadata": {},
     "output_type": "display_data"
    },
    {
     "data": {
      "text/html": [
       "<ol><li>Preheat the oven to 350 degrees F.</li><li>Grease and flour a 10-inch bundt pan  or tube pan.</li><li>In a large heavy saucepan over medium heat, melt the butter.</li><li>Remove from heat and mix in the sugar, pumpkin puree, vanilla, and eggs.</li><li>Add the baking powder and baking soda in pinches, breaking up any lumps  with your fingers.</li><li>Stir in thoroughly.</li><li>Stir in the salt, cinnamon,  ginger, cloves, nutmeg, and cocoa.</li><li>Stir in the flour, just until blended,  then the nuts and raisins.</li><li>Pour and scrape the batter into the pan.</li><li>Smooth the top.</li><li>Bake for 45 minutes.</li><li>Cool in the pan on a rack for 10  minutes.</li><li>Remove from the pan and cool on the rack for about 15 minutes  more. When cool, dust top with confectioners' sugar, if desired.</li></ol>"
      ],
      "text/plain": [
       "<IPython.core.display.HTML object>"
      ]
     },
     "metadata": {},
     "output_type": "display_data"
    },
    {
     "data": {
      "text/html": [
       "<h2>Carrot Souffle</h2>"
      ],
      "text/plain": [
       "<IPython.core.display.HTML object>"
      ]
     },
     "metadata": {},
     "output_type": "display_data"
    },
    {
     "data": {
      "text/html": [
       "<h3>Ingredients:</h3>"
      ],
      "text/plain": [
       "<IPython.core.display.HTML object>"
      ]
     },
     "metadata": {},
     "output_type": "display_data"
    },
    {
     "data": {
      "text/html": [
       "<ul><li>carrots: 2</li><li>sugar: 1</li><li>eggs: 2</li><li>vanilla: 1</li><li>nutmeg: 1/2</li><li>cinnamon: 1/2</li><li>salt: 1</li></ul>"
      ],
      "text/plain": [
       "<IPython.core.display.HTML object>"
      ]
     },
     "metadata": {},
     "output_type": "display_data"
    },
    {
     "data": {
      "text/html": [
       "<h3>Instructions:</h3>"
      ],
      "text/plain": [
       "<IPython.core.display.HTML object>"
      ]
     },
     "metadata": {},
     "output_type": "display_data"
    },
    {
     "data": {
      "text/html": [
       "<ol><li>Preheat oven to 400°F.</li><li>Cook peeled carrots until soft.</li><li>Place in food processor;  add remaining ingredients and process until smooth.</li><li>Bake for about 30 minutes.</li></ol>"
      ],
      "text/plain": [
       "<IPython.core.display.HTML object>"
      ]
     },
     "metadata": {},
     "output_type": "display_data"
    },
    {
     "data": {
      "text/html": [
       "<h2>Four Grain Muffins</h2>"
      ],
      "text/plain": [
       "<IPython.core.display.HTML object>"
      ]
     },
     "metadata": {},
     "output_type": "display_data"
    },
    {
     "data": {
      "text/html": [
       "<h3>Ingredients:</h3>"
      ],
      "text/plain": [
       "<IPython.core.display.HTML object>"
      ]
     },
     "metadata": {},
     "output_type": "display_data"
    },
    {
     "data": {
      "text/html": [
       "<ul><li>all-purpose flour: 3/4</li><li>cornmeal: 1/2</li><li>brown sugar: 1/2</li><li>baking powder: 1/4</li><li>salt: 3</li><li>1% low-fat milk: 3 1/2</li><li>canola oil: 1/2</li><li>egg: 1</li></ul>"
      ],
      "text/plain": [
       "<IPython.core.display.HTML object>"
      ]
     },
     "metadata": {},
     "output_type": "display_data"
    },
    {
     "data": {
      "text/html": [
       "<h3>Instructions:</h3>"
      ],
      "text/plain": [
       "<IPython.core.display.HTML object>"
      ]
     },
     "metadata": {},
     "output_type": "display_data"
    },
    {
     "data": {
      "text/html": [
       "<ol><li>Preheat oven to 400.</li><li>Lightly coat muffin tins with cooking spray, or insert with liners.</li><li>In a large bowl, stir together the all purpose flour, rye flour,  oat bran, cornmeal, sugar, baking powder, and salt until well combined.</li><li>Make a  well in the center of the flour mixture. In a small bowl, stir together the  milk, oil, and egg, then pour the mixture into the well of the dry ingredients.</li><li>Stir until just combined.</li><li>Spoon the batter into the muffin cups filling them 2/3 full.</li><li>Bake for 20 minutes, or until a toothpick inserted in the center comes  out clean.</li><li>Let the muffins cool  in the pan for 5 minutes, then turn them out  onto a wire rack to cool.</li></ol>"
      ],
      "text/plain": [
       "<IPython.core.display.HTML object>"
      ]
     },
     "metadata": {},
     "output_type": "display_data"
    },
    {
     "data": {
      "text/html": [
       "<h2>Cheese Straws</h2>"
      ],
      "text/plain": [
       "<IPython.core.display.HTML object>"
      ]
     },
     "metadata": {},
     "output_type": "display_data"
    },
    {
     "data": {
      "text/html": [
       "<h3>Ingredients:</h3>"
      ],
      "text/plain": [
       "<IPython.core.display.HTML object>"
      ]
     },
     "metadata": {},
     "output_type": "display_data"
    },
    {
     "data": {
      "text/html": [
       "<ul><li>plain flour: 110</li><li>mustard powder: 1/4</li><li>salt: 1/4</li><li>cayenne pepper: 65</li><li>butter: 50</li><li>cheddar cheese: 1</li><li>water: 2 -3</li></ul>"
      ],
      "text/plain": [
       "<IPython.core.display.HTML object>"
      ]
     },
     "metadata": {},
     "output_type": "display_data"
    },
    {
     "data": {
      "text/html": [
       "<h3>Instructions:</h3>"
      ],
      "text/plain": [
       "<IPython.core.display.HTML object>"
      ]
     },
     "metadata": {},
     "output_type": "display_data"
    },
    {
     "data": {
      "text/html": [
       "<ol><li>Sift the flour, mustard powder, salt and cayenne pepper into a bowl.</li><li>Cut the  butter into the flour and rub in until the mixture resembles fine breadcrumbs.</li><li>Add the cheese and mix the ingredients together.</li><li>Mix to a stiff paste with the  egg yolk and water.</li><li>Turn out onto a floured work surface. Knead quickly until  smooth and crack-free.  Wrap in a polyethylene bag or foil.</li><li>Chill for 30 minutes before using.</li><li>Roll out, cut into strips and place on a baking sheet.  Bake at  200 C / 400 F / Gas 6 for 15 minutes until golden brown.</li></ol>"
      ],
      "text/plain": [
       "<IPython.core.display.HTML object>"
      ]
     },
     "metadata": {},
     "output_type": "display_data"
    },
    {
     "data": {
      "text/html": [
       "<h2>One-Pot Cabbage Soup</h2>"
      ],
      "text/plain": [
       "<IPython.core.display.HTML object>"
      ]
     },
     "metadata": {},
     "output_type": "display_data"
    },
    {
     "data": {
      "text/html": [
       "<h3>Ingredients:</h3>"
      ],
      "text/plain": [
       "<IPython.core.display.HTML object>"
      ]
     },
     "metadata": {},
     "output_type": "display_data"
    },
    {
     "data": {
      "text/html": [
       "<ul><li>rindless smoked streaky bacon: 500</li><li>potatoes: 12</li><li>turnips: 12</li><li>green beans: 6</li><li>green peas: 6</li><li>savoy cabbage: 500</li><li>other green loose-leafed cabbage: 250</li><li>black pepper: 1/2</li></ul>"
      ],
      "text/plain": [
       "<IPython.core.display.HTML object>"
      ]
     },
     "metadata": {},
     "output_type": "display_data"
    },
    {
     "data": {
      "text/html": [
       "<h3>Instructions:</h3>"
      ],
      "text/plain": [
       "<IPython.core.display.HTML object>"
      ]
     },
     "metadata": {},
     "output_type": "display_data"
    },
    {
     "data": {
      "text/html": [
       "<ol><li>Put bacon, potato, carrot, turnip and onion in a heavy saucepan.</li><li>Cover with cold water, bring to a boil and simmer very gently for 45 minutes.</li><li>Raise heat to a  bubbling boil and add beans.</li><li>After 5 minutes add peas.</li><li>After another 5 minutes  add cabbage. Reduce heat and simmer a further 10 minutes.</li><li>Lift out bacon, cut  into small pieces and return to pot. Taste for salt and season with pepper and  nutmeg.</li><li>Serve with good sourdough bread.</li></ol>"
      ],
      "text/plain": [
       "<IPython.core.display.HTML object>"
      ]
     },
     "metadata": {},
     "output_type": "display_data"
    },
    {
     "data": {
      "text/html": [
       "<h2>Applesauce Raisin Bars</h2>"
      ],
      "text/plain": [
       "<IPython.core.display.HTML object>"
      ]
     },
     "metadata": {},
     "output_type": "display_data"
    },
    {
     "data": {
      "text/html": [
       "<h3>Ingredients:</h3>"
      ],
      "text/plain": [
       "<IPython.core.display.HTML object>"
      ]
     },
     "metadata": {},
     "output_type": "display_data"
    },
    {
     "data": {
      "text/html": [
       "<ul><li>flour: 1</li><li>brown sugar: 2/3</li><li>baking soda: 1/2</li><li>salt: 1</li><li>cinnamon: 1</li><li>applesauce: 1/4</li><li>vegetable shortening: 1</li><li>egg: 1/2</li><li>raisins: 3</li><li>butter: 1 1/2</li><li>powdered sugar: 1</li><li>vanilla: 1</li></ul>"
      ],
      "text/plain": [
       "<IPython.core.display.HTML object>"
      ]
     },
     "metadata": {},
     "output_type": "display_data"
    },
    {
     "data": {
      "text/html": [
       "<h3>Instructions:</h3>"
      ],
      "text/plain": [
       "<IPython.core.display.HTML object>"
      ]
     },
     "metadata": {},
     "output_type": "display_data"
    },
    {
     "data": {
      "text/html": [
       "<ol><li>Mix all ingredients (except raisins) in a bowl.</li><li>Stir in raisins.</li><li>Bake in a 7 x ll\\</li><li>,</li><li>,</li><li>,</li><li>,</li></ol>"
      ],
      "text/plain": [
       "<IPython.core.display.HTML object>"
      ]
     },
     "metadata": {},
     "output_type": "display_data"
    },
    {
     "data": {
      "text/html": [
       "<h2>Oriental Style One-Dish Dinner</h2>"
      ],
      "text/plain": [
       "<IPython.core.display.HTML object>"
      ]
     },
     "metadata": {},
     "output_type": "display_data"
    },
    {
     "data": {
      "text/html": [
       "<h3>Ingredients:</h3>"
      ],
      "text/plain": [
       "<IPython.core.display.HTML object>"
      ]
     },
     "metadata": {},
     "output_type": "display_data"
    },
    {
     "data": {
      "text/html": [
       "<ul><li>ground pork: 1</li><li>Chinese cabbage: 2</li><li>cabbage: 2</li><li>carrots: 1</li><li>onion: 8</li><li>mushrooms: 6</li><li>water chestnuts: 1</li><li>soy sauce: 1/3</li><li>short-grain rice: 1 1/2</li><li>zucchini: 2</li><li>asparagus: 1</li><li>salt: 1/2</li><li>pepper: 1</li><li>green onions: 4</li></ul>"
      ],
      "text/plain": [
       "<IPython.core.display.HTML object>"
      ]
     },
     "metadata": {},
     "output_type": "display_data"
    },
    {
     "data": {
      "text/html": [
       "<h3>Instructions:</h3>"
      ],
      "text/plain": [
       "<IPython.core.display.HTML object>"
      ]
     },
     "metadata": {},
     "output_type": "display_data"
    },
    {
     "data": {
      "text/html": [
       "<ol><li>Lightly oil wok or skillet; add pork and stir-fry until meat is no longer pink.</li><li>Stir in cabbage, carrots, onion, mushrooms, water chestnuts and ginger; stir-fry for 2 minutes.</li><li>Mix in soy sauce, then rice; stir gently.</li><li>Pour in stock.</li><li>Cover tightly and simmer about 20 to 25 minutes until liquid is almost absorbed.</li><li>Stir in zucchini and asparagus; continue to cook about 5 minutes longer.</li><li>Season with salt, and pepper to  taste. Serve garnished with green onions.</li></ol>"
      ],
      "text/plain": [
       "<IPython.core.display.HTML object>"
      ]
     },
     "metadata": {},
     "output_type": "display_data"
    },
    {
     "data": {
      "text/html": [
       "<h2>New England Fish Chowder</h2>"
      ],
      "text/plain": [
       "<IPython.core.display.HTML object>"
      ]
     },
     "metadata": {},
     "output_type": "display_data"
    },
    {
     "data": {
      "text/html": [
       "<h3>Ingredients:</h3>"
      ],
      "text/plain": [
       "<IPython.core.display.HTML object>"
      ]
     },
     "metadata": {},
     "output_type": "display_data"
    },
    {
     "data": {
      "text/html": [
       "<ul><li>bacon: 1</li><li>onion: 2</li><li>potato: 1/2</li><li>salt: 1</li><li>pepper: 2</li></ul>"
      ],
      "text/plain": [
       "<IPython.core.display.HTML object>"
      ]
     },
     "metadata": {},
     "output_type": "display_data"
    },
    {
     "data": {
      "text/html": [
       "<h3>Instructions:</h3>"
      ],
      "text/plain": [
       "<IPython.core.display.HTML object>"
      ]
     },
     "metadata": {},
     "output_type": "display_data"
    },
    {
     "data": {
      "text/html": [
       "<ol><li>Cut fillets into 1/2 - 1 inch cubes.</li><li>Fry the bacon until it is crisp.</li><li>Add the onions and brown them slightly.</li><li>Add the potatoes, and water to just cover, and cook for 10 minutes or until the potatoes are slightly tender.</li><li>Add the fish and cook until it flakes easily with a fork.</li><li>Add the milk and seasonings and reheat. Serve immediately with chopped parsley sprinkled over the top.</li></ol>"
      ],
      "text/plain": [
       "<IPython.core.display.HTML object>"
      ]
     },
     "metadata": {},
     "output_type": "display_data"
    },
    {
     "data": {
      "text/html": [
       "<h2>Tuna Noodle Casserole Delight</h2>"
      ],
      "text/plain": [
       "<IPython.core.display.HTML object>"
      ]
     },
     "metadata": {},
     "output_type": "display_data"
    },
    {
     "data": {
      "text/html": [
       "<img src=\"https://img.sndimg.com/food/image/upload/w_555,h_416,c_fit,fl_progressive,q_95/v1/img/recipes/25/43/pic0FaTsR.jpg\" width=\"400\"/>"
      ],
      "text/plain": [
       "<IPython.core.display.Image object>"
      ]
     },
     "metadata": {},
     "output_type": "display_data"
    },
    {
     "data": {
      "text/html": [
       "<h3>Ingredients:</h3>"
      ],
      "text/plain": [
       "<IPython.core.display.HTML object>"
      ]
     },
     "metadata": {},
     "output_type": "display_data"
    },
    {
     "data": {
      "text/html": [
       "<ul><li>water: 4</li><li>salt: 2</li><li>skim milk: 1</li><li>tuna in water: 1/2</li><li>frozen green peas: 10 3/4</li></ul>"
      ],
      "text/plain": [
       "<IPython.core.display.HTML object>"
      ]
     },
     "metadata": {},
     "output_type": "display_data"
    },
    {
     "data": {
      "text/html": [
       "<h3>Instructions:</h3>"
      ],
      "text/plain": [
       "<IPython.core.display.HTML object>"
      ]
     },
     "metadata": {},
     "output_type": "display_data"
    },
    {
     "data": {
      "text/html": [
       "<ol><li>Preheat oven to 350.</li><li>Prepare a 2-quart casserole dish with cooking spray; set aside. Heat water to boiling.</li><li>Add noodles and salt. Boil for 9 minutes and drain.</li><li>Add milk to soup and mix well.</li><li>Arrange half of noodles, half of tuna, half of peas, and half of soup mixture in layers in prepared dish.</li><li>Repeat layers.</li><li>Sprinkle bread crumbs on top.</li><li>Bake for 30 minutes.</li></ol>"
      ],
      "text/plain": [
       "<IPython.core.display.HTML object>"
      ]
     },
     "metadata": {},
     "output_type": "display_data"
    },
    {
     "data": {
      "text/html": [
       "<h2>Stuffed Zucchini</h2>"
      ],
      "text/plain": [
       "<IPython.core.display.HTML object>"
      ]
     },
     "metadata": {},
     "output_type": "display_data"
    },
    {
     "data": {
      "text/html": [
       "<img src=\"https://img.sndimg.com/food/image/upload/w_555,h_416,c_fit,fl_progressive,q_95/v1/img/recipes/25/45/picluTm47.jpg\" width=\"400\"/>"
      ],
      "text/plain": [
       "<IPython.core.display.Image object>"
      ]
     },
     "metadata": {},
     "output_type": "display_data"
    },
    {
     "data": {
      "text/html": [
       "<h3>Ingredients:</h3>"
      ],
      "text/plain": [
       "<IPython.core.display.HTML object>"
      ]
     },
     "metadata": {},
     "output_type": "display_data"
    },
    {
     "data": {
      "text/html": [
       "<ul><li>fresh zucchini: 7</li><li>onion: 1/2</li><li>olive oil: 1/4</li><li>fresh mushrooms: 1/2</li><li>garlic clove: 1</li><li>cream cheese: 1</li><li>egg: 1</li><li>parmesan cheese: 1/2</li><li>fresh parsley: 3/4</li><li>pepper: 1/8</li></ul>"
      ],
      "text/plain": [
       "<IPython.core.display.HTML object>"
      ]
     },
     "metadata": {},
     "output_type": "display_data"
    },
    {
     "data": {
      "text/html": [
       "<h3>Instructions:</h3>"
      ],
      "text/plain": [
       "<IPython.core.display.HTML object>"
      ]
     },
     "metadata": {},
     "output_type": "display_data"
    },
    {
     "data": {
      "text/html": [
       "<ol><li>Slice zucchini in half lengthwise.  Scoop out insides leaving about 1/4-in shell.</li><li>Finely chop zucchini pulp; set aside.  Saute onion in oil in large heavy skillet.  Add mushrooms, garlic and reserved chopped zucchini; cook over medium heat until most of moisture evaporates.</li><li>Add cream cheese, egg, Parmesan, parsley, and pepper.</li><li>Mix well; cook for about 10 minutes.</li><li>Cool filling slightly and fill zucchini shells.</li><li>Sprinkle with additional Parmesan cheese.  Place on jelly roll pans; bake for 30 minutes at 350°F until bubbly and golden brown on top.</li></ol>"
      ],
      "text/plain": [
       "<IPython.core.display.HTML object>"
      ]
     },
     "metadata": {},
     "output_type": "display_data"
    },
    {
     "data": {
      "text/html": [
       "<h2>Cilantro Lime Soup</h2>"
      ],
      "text/plain": [
       "<IPython.core.display.HTML object>"
      ]
     },
     "metadata": {},
     "output_type": "display_data"
    },
    {
     "data": {
      "text/html": [
       "<h3>Ingredients:</h3>"
      ],
      "text/plain": [
       "<IPython.core.display.HTML object>"
      ]
     },
     "metadata": {},
     "output_type": "display_data"
    },
    {
     "data": {
      "text/html": [
       "<ul><li>dried chipotle chiles: 1</li><li>canned chipotle chile puree: 1</li><li>tomatoes: 1/2</li><li>chicken breast: 5</li><li>chicken broth: 1</li><li>chili powder: 1/4</li><li>cilantro: 1/2</li><li>cilantro: 1</li><li>corn: 2</li><li>garlic: 1/4</li><li>lime juice: 1</li></ul>"
      ],
      "text/plain": [
       "<IPython.core.display.HTML object>"
      ]
     },
     "metadata": {},
     "output_type": "display_data"
    },
    {
     "data": {
      "text/html": [
       "<h3>Instructions:</h3>"
      ],
      "text/plain": [
       "<IPython.core.display.HTML object>"
      ]
     },
     "metadata": {},
     "output_type": "display_data"
    },
    {
     "data": {
      "text/html": [
       "<ol><li>Heat broth in medium pot. Add onion, garlic, chili powder, tomatoes, bunch cilantro and chile. Simmer for 15 minutes.</li><li>Add chicken and simmer until cooked (about 10 minutes). Discard bunch cilantro.</li><li>Add corn and cook 2-3 minutes.</li><li>Add chopped cilantro and lime juice. Garnish with sour cream and baked tortilla strips (cut corn tortillas in strips, spray with cooking spray, bake in 350 degree oven until crisp).</li></ol>"
      ],
      "text/plain": [
       "<IPython.core.display.HTML object>"
      ]
     },
     "metadata": {},
     "output_type": "display_data"
    },
    {
     "data": {
      "text/html": [
       "<h2>Rice Pudding with Fresh Fruit</h2>"
      ],
      "text/plain": [
       "<IPython.core.display.HTML object>"
      ]
     },
     "metadata": {},
     "output_type": "display_data"
    },
    {
     "data": {
      "text/html": [
       "<h3>Ingredients:</h3>"
      ],
      "text/plain": [
       "<IPython.core.display.HTML object>"
      ]
     },
     "metadata": {},
     "output_type": "display_data"
    },
    {
     "data": {
      "text/html": [
       "<ul><li>short-grain rice: 1/2</li><li>milk: 3</li><li>sugar: 1/4</li><li>salt: 1/4</li><li>vanilla extract: 1</li><li>Pernod: 1</li><li>pastis: 2</li><li>pears: 1</li></ul>"
      ],
      "text/plain": [
       "<IPython.core.display.HTML object>"
      ]
     },
     "metadata": {},
     "output_type": "display_data"
    },
    {
     "data": {
      "text/html": [
       "<h3>Instructions:</h3>"
      ],
      "text/plain": [
       "<IPython.core.display.HTML object>"
      ]
     },
     "metadata": {},
     "output_type": "display_data"
    },
    {
     "data": {
      "text/html": [
       "<ol><li>In a saucepan, combine rice, milk, sugar, and salt. Cook over medium heat until mixture begins to bubble. Reduce heat and cover.</li><li>Cook 1 hour, stirring occasionally.</li><li>Remove from heat.  Add vanilla and Pernod.</li><li>Cool, then refrigerate at least 3 hours.</li><li>Halve pears lengthwise, slice thinly, and spread out into a fan shape.   Place pear and rice pudding on plates, and garnish with raspberries and anise seeds.</li></ol>"
      ],
      "text/plain": [
       "<IPython.core.display.HTML object>"
      ]
     },
     "metadata": {},
     "output_type": "display_data"
    },
    {
     "data": {
      "text/html": [
       "<h2>Pumpkin Soup III</h2>"
      ],
      "text/plain": [
       "<IPython.core.display.HTML object>"
      ]
     },
     "metadata": {},
     "output_type": "display_data"
    },
    {
     "data": {
      "text/html": [
       "<h3>Ingredients:</h3>"
      ],
      "text/plain": [
       "<IPython.core.display.HTML object>"
      ]
     },
     "metadata": {},
     "output_type": "display_data"
    },
    {
     "data": {
      "text/html": [
       "<ul><li>onions: 2</li><li>butter: 2</li><li>flour: 1</li><li>chicken broth: 2</li><li>half-and-half: 1</li><li>pumpkin puree: 3</li><li>salt: 1/2</li><li>pepper: 3</li></ul>"
      ],
      "text/plain": [
       "<IPython.core.display.HTML object>"
      ]
     },
     "metadata": {},
     "output_type": "display_data"
    },
    {
     "data": {
      "text/html": [
       "<h3>Instructions:</h3>"
      ],
      "text/plain": [
       "<IPython.core.display.HTML object>"
      ]
     },
     "metadata": {},
     "output_type": "display_data"
    },
    {
     "data": {
      "text/html": [
       "<ol><li>First, steam a pumpkin, cut into pieces, for 30 to 45 minutes.</li><li>Puree in electric  mixer or food processor.</li><li>Set aside. Can be prepared a day or two in advan  ce.  When ready to make the soup.</li><li>Saute onions in butter in a large saucepan over low  heat until soft. Sprinkle in flour and stir 2 to 3 minutes.</li><li>Gradually add  chicken broth, half and half, then pumpkin puree. Cook gently for 15 minutes.</li><li>Salt and pepper  to taste. Pour into bowls and top with dollop of whipped cream, a dusting of  nutmeg and pumpkin seeds.</li></ol>"
      ],
      "text/plain": [
       "<IPython.core.display.HTML object>"
      ]
     },
     "metadata": {},
     "output_type": "display_data"
    },
    {
     "data": {
      "text/html": [
       "<h2>Osso Bucco Alla Milanese</h2>"
      ],
      "text/plain": [
       "<IPython.core.display.HTML object>"
      ]
     },
     "metadata": {},
     "output_type": "display_data"
    },
    {
     "data": {
      "text/html": [
       "<h3>Ingredients:</h3>"
      ],
      "text/plain": [
       "<IPython.core.display.HTML object>"
      ]
     },
     "metadata": {},
     "output_type": "display_data"
    },
    {
     "data": {
      "text/html": [
       "<ul><li>flour: 2</li><li>butter: 4</li><li>salt: 1</li><li>pepper: 1/2</li><li>celery: 1/2</li><li>carrot: 1/2</li><li>onion: 1</li><li>garlic: 1</li><li>mushroom: 1/2</li><li>sage: 1/2</li><li>rosemary: 1/2</li><li>tomatoes: 1</li><li>white wine: 2</li><li>lemon, rind of: 1</li><li>parsley: 2</li><li>anchovy: 1</li><li>rice: 6</li></ul>"
      ],
      "text/plain": [
       "<IPython.core.display.HTML object>"
      ]
     },
     "metadata": {},
     "output_type": "display_data"
    },
    {
     "data": {
      "text/html": [
       "<h3>Instructions:</h3>"
      ],
      "text/plain": [
       "<IPython.core.display.HTML object>"
      ]
     },
     "metadata": {},
     "output_type": "display_data"
    },
    {
     "data": {
      "text/html": [
       "<ol><li>Cut two veal shanks into 2-inch pieces.</li><li>Roll shanks in flour and saute in   butter over high heat until brown on all sides.</li><li>Add salt, pepper, celery,   onion, carrots, mushrooms, tomato, sage, and rosemary.</li><li>Reduce heat, cover   and braise for 10 minutes.</li><li>Add white wine. Cover and gently simmer for 2   ho  urs.</li><li>The liquid should barely cover the meat. Just before serving, stir   in the gremolada.</li><li>This consists of the grated lemon rind, parsley,   anchovy, and garlic. Serve with cooked rice.</li></ol>"
      ],
      "text/plain": [
       "<IPython.core.display.HTML object>"
      ]
     },
     "metadata": {},
     "output_type": "display_data"
    },
    {
     "data": {
      "text/html": [
       "<h2>Blackened Chicken Salad</h2>"
      ],
      "text/plain": [
       "<IPython.core.display.HTML object>"
      ]
     },
     "metadata": {},
     "output_type": "display_data"
    },
    {
     "data": {
      "text/html": [
       "<h3>Ingredients:</h3>"
      ],
      "text/plain": [
       "<IPython.core.display.HTML object>"
      ]
     },
     "metadata": {},
     "output_type": "display_data"
    },
    {
     "data": {
      "text/html": [
       "<ul><li>tomatoes: 3</li><li>red bell peppers: 3/4</li><li>yellow bell pepper: 1/4</li><li>red onion: 1</li><li>sugar: 3</li><li>cider vinegar: 1/4</li><li>salt: 1/8</li><li>pepper: 1/4</li><li>lemon juice: 1/4</li><li>Dijon mustard: 3</li><li>water: 1</li><li>honey: 1</li><li>boneless skinless chicken breast: 3</li><li>sugar snap pea: 1</li><li>romaine lettuce: 8</li></ul>"
      ],
      "text/plain": [
       "<IPython.core.display.HTML object>"
      ]
     },
     "metadata": {},
     "output_type": "display_data"
    },
    {
     "data": {
      "text/html": [
       "<h3>Instructions:</h3>"
      ],
      "text/plain": [
       "<IPython.core.display.HTML object>"
      ]
     },
     "metadata": {},
     "output_type": "display_data"
    },
    {
     "data": {
      "text/html": [
       "<ol><li>Combine first 7 ingredients.</li><li>Cover and chill.</li><li>Combine, lemon juice, mustard, water and honey in bowl.</li><li>Cover and chill.</li><li>Rub chicken with spicy seasoning Coat large heavy skillet with cooking spray.</li><li>Heat over medium-high high until hot. Add chicken and cook 7 minutes on each side until done. Cut across grain into thin slices.</li><li>Steam snap peas until al dente. Remove and cool under cold water.</li><li>Place dressing ingredients in a large bowl Toss with snap peas and lettuce. Divide between plates Top with cooked chicken and tomato salad mixture.</li></ol>"
      ],
      "text/plain": [
       "<IPython.core.display.HTML object>"
      ]
     },
     "metadata": {},
     "output_type": "display_data"
    },
    {
     "data": {
      "text/html": [
       "<h2>The Camellia Grill's Pecan Pie</h2>"
      ],
      "text/plain": [
       "<IPython.core.display.HTML object>"
      ]
     },
     "metadata": {},
     "output_type": "display_data"
    },
    {
     "data": {
      "text/html": [
       "<img src=\"https://img.sndimg.com/food/image/upload/w_555,h_416,c_fit,fl_progressive,q_95/v1/img/recipes/25/83/picJBRm2d.jpg\" width=\"400\"/>"
      ],
      "text/plain": [
       "<IPython.core.display.Image object>"
      ]
     },
     "metadata": {},
     "output_type": "display_data"
    },
    {
     "data": {
      "text/html": [
       "<h3>Ingredients:</h3>"
      ],
      "text/plain": [
       "<IPython.core.display.HTML object>"
      ]
     },
     "metadata": {},
     "output_type": "display_data"
    },
    {
     "data": {
      "text/html": [
       "<ul><li>eggs: 4</li><li>salt: 1/4</li><li>butter: 1/4</li><li>light corn syrup: 1 1/4</li><li>brown sugar: 1 1/4</li><li>vanilla extract: 1</li><li>pecans: 1</li></ul>"
      ],
      "text/plain": [
       "<IPython.core.display.HTML object>"
      ]
     },
     "metadata": {},
     "output_type": "display_data"
    },
    {
     "data": {
      "text/html": [
       "<h3>Instructions:</h3>"
      ],
      "text/plain": [
       "<IPython.core.display.HTML object>"
      ]
     },
     "metadata": {},
     "output_type": "display_data"
    },
    {
     "data": {
      "text/html": [
       "<ol><li>Beat eggs with a wire whisk or fork.</li><li>Add salt, butter, syrup, sugar and vanilla; mix well.</li><li>Pour into pastry shell; sprinkle with pecans.</li><li>Bake at 350F for 45-50 minutes.</li></ol>"
      ],
      "text/plain": [
       "<IPython.core.display.HTML object>"
      ]
     },
     "metadata": {},
     "output_type": "display_data"
    },
    {
     "data": {
      "text/html": [
       "<h2>German Apple Cake</h2>"
      ],
      "text/plain": [
       "<IPython.core.display.HTML object>"
      ]
     },
     "metadata": {},
     "output_type": "display_data"
    },
    {
     "data": {
      "text/html": [
       "<h3>Ingredients:</h3>"
      ],
      "text/plain": [
       "<IPython.core.display.HTML object>"
      ]
     },
     "metadata": {},
     "output_type": "display_data"
    },
    {
     "data": {
      "text/html": [
       "<ul><li>baking apples: 4 -5</li><li>cooking apples: 2</li><li>granulated sugar: 5</li><li>granulated sugar: 2</li><li>cinnamon: 3</li><li>all-purpose flour: 1 1/4</li><li>salt: 1 1/2</li><li>baking soda: 1 1/2</li><li>baking powder: 1</li><li>egg substitute: 1</li><li>applesauce: 2</li><li>vanilla extract: 1/3</li><li>powdered sugar: 1 1/2</li><li>solid-type fat-free margarine: 2</li><li>pourable fat-free margarine: 1 -2</li></ul>"
      ],
      "text/plain": [
       "<IPython.core.display.HTML object>"
      ]
     },
     "metadata": {},
     "output_type": "display_data"
    },
    {
     "data": {
      "text/html": [
       "<h3>Instructions:</h3>"
      ],
      "text/plain": [
       "<IPython.core.display.HTML object>"
      ]
     },
     "metadata": {},
     "output_type": "display_data"
    },
    {
     "data": {
      "text/html": [
       "<ol><li>Preheat the oven to 350.</li><li>Spray a Bundt pan with vegetable oil spray.</li><li>Dust with  flour, completely covering surfaces.</li><li>Tap out excess flour; set aside. Peel, core and thinly slice the apples into a bowl.</li><li>Combine 5 Tbsp sugar with the cinnamon; sprinkle over the apples and toss to cover them evenly; set aside. In a large  mixing bowl, combine the flour, remaining 2 cups sugar, salt, soda and baking  powder.</li><li>Whisk to blend evenly.</li><li>Add the egg sub stitute, applesauce, vanilla and  orange juice. With an electric mixer, blend on low speed for 1 minute; increase  speed and blend an additional 3 minutes.</li><li>Fill the prepared pan with alternating  layers of batter, then apples, then batter, then apples, ending with batter.</li><li>Bake for one hour and 30 minutes or until a tester comes out clean.</li><li>Remove to a  wire rack for 10 minutes, then invert to remove from the pan and continue to  cool.</li><li>Meanwhile prepare the glaze by mixing the ingredients until smooth.</li><li>Drizzle on the cooled cake.</li><li>Happy eating Susannah Richland, WA (where my apple trees are producing their wonderful harvest)</li></ol>"
      ],
      "text/plain": [
       "<IPython.core.display.HTML object>"
      ]
     },
     "metadata": {},
     "output_type": "display_data"
    },
    {
     "data": {
      "text/html": [
       "<h2>Bulgarian Meatball Soup</h2>"
      ],
      "text/plain": [
       "<IPython.core.display.HTML object>"
      ]
     },
     "metadata": {},
     "output_type": "display_data"
    },
    {
     "data": {
      "text/html": [
       "<h3>Ingredients:</h3>"
      ],
      "text/plain": [
       "<IPython.core.display.HTML object>"
      ]
     },
     "metadata": {},
     "output_type": "display_data"
    },
    {
     "data": {
      "text/html": [
       "<ul><li>lean ground beef: 3/4</li><li>onion: 1</li><li>dill weed: 1</li><li>eggs: 2</li><li>garlic: 1</li><li>salt: 1</li><li>black pepper: 1/4</li><li>flour: 6</li><li>beef broth: 1/3</li><li>long grain rice: 1/2</li><li>fresh dill: 2</li></ul>"
      ],
      "text/plain": [
       "<IPython.core.display.HTML object>"
      ]
     },
     "metadata": {},
     "output_type": "display_data"
    },
    {
     "data": {
      "text/html": [
       "<h3>Instructions:</h3>"
      ],
      "text/plain": [
       "<IPython.core.display.HTML object>"
      ]
     },
     "metadata": {},
     "output_type": "display_data"
    },
    {
     "data": {
      "text/html": [
       "<ol><li>Combine beef, onion, dillweed, 1 egg, garlic, salt and pepper in a large bowl.</li><li>Mix to combine ingredients thoroughly.</li><li>Shape into small balls and dredge lightly  in the flour.</li><li>Set aside, heat the broth to boiling.</li><li>Drop the meatballs in.</li><li>Add  the rice. Lower the heat and cook about 35 minutes.</li><li>Add lemon juice and  additional dill  You can serve with a dollop of yogurt on top if you like.   >From the Kitchen of ramsgate</li></ol>"
      ],
      "text/plain": [
       "<IPython.core.display.HTML object>"
      ]
     },
     "metadata": {},
     "output_type": "display_data"
    },
    {
     "data": {
      "text/html": [
       "<h2>Cheese and Meatball Soup</h2>"
      ],
      "text/plain": [
       "<IPython.core.display.HTML object>"
      ]
     },
     "metadata": {},
     "output_type": "display_data"
    },
    {
     "data": {
      "text/html": [
       "<img src=\"https://img.sndimg.com/food/image/upload/w_555,h_416,c_fit,fl_progressive,q_95/v1/img/recipes/25/88/5I9leulLQ8Gkg3Nrmnsn_image.jpg\" width=\"400\"/>"
      ],
      "text/plain": [
       "<IPython.core.display.Image object>"
      ]
     },
     "metadata": {},
     "output_type": "display_data"
    },
    {
     "data": {
      "text/html": [
       "<h3>Ingredients:</h3>"
      ],
      "text/plain": [
       "<IPython.core.display.HTML object>"
      ]
     },
     "metadata": {},
     "output_type": "display_data"
    },
    {
     "data": {
      "text/html": [
       "<ul><li>water: 2</li><li>whole kernel corn: 1</li><li>potato: 1</li><li>celery: 1</li><li>carrot: 1/2</li><li>onion: 1/2</li><li>Tabasco sauce: 2</li><li>ground beef: 1/2</li><li>egg: 1</li><li>salt: 1</li><li>Tabasco sauce: 1/4</li></ul>"
      ],
      "text/plain": [
       "<IPython.core.display.HTML object>"
      ]
     },
     "metadata": {},
     "output_type": "display_data"
    },
    {
     "data": {
      "text/html": [
       "<h3>Instructions:</h3>"
      ],
      "text/plain": [
       "<IPython.core.display.HTML object>"
      ]
     },
     "metadata": {},
     "output_type": "display_data"
    },
    {
     "data": {
      "text/html": [
       "<ol><li>Meatballs: mix ingredients together thoroughly.</li><li>Shape into medium size  meatballs.</li><li>Place uncooked meatballs and all other ingredients, except Cheez  Whiz, in electric slow cooker.</li><li>Stir gently.</li><li>Cover and cook on setting # 2 (low)  for 8 to 10 hours.</li><li>Before serving add Cheez Whiz, stirring gently until well  blended.</li></ol>"
      ],
      "text/plain": [
       "<IPython.core.display.HTML object>"
      ]
     },
     "metadata": {},
     "output_type": "display_data"
    },
    {
     "data": {
      "text/html": [
       "<h2>Veggie Soup</h2>"
      ],
      "text/plain": [
       "<IPython.core.display.HTML object>"
      ]
     },
     "metadata": {},
     "output_type": "display_data"
    },
    {
     "data": {
      "text/html": [
       "<h3>Ingredients:</h3>"
      ],
      "text/plain": [
       "<IPython.core.display.HTML object>"
      ]
     },
     "metadata": {},
     "output_type": "display_data"
    },
    {
     "data": {
      "text/html": [
       "<ul><li>water: 1 3/4</li><li>water: 2</li><li>brown rice: 1/2</li><li>green pepper: 1</li><li>onion: 1</li><li>celery: 1</li><li>carrots: 1</li><li>olive oil: 2</li><li>chicken broth: 1</li><li>fresh basil: 2 1/2</li><li>dried basil: 1</li><li>fresh parsley: 1</li><li>dried parsley: 1/2</li></ul>"
      ],
      "text/plain": [
       "<IPython.core.display.HTML object>"
      ]
     },
     "metadata": {},
     "output_type": "display_data"
    },
    {
     "data": {
      "text/html": [
       "<h3>Instructions:</h3>"
      ],
      "text/plain": [
       "<IPython.core.display.HTML object>"
      ]
     },
     "metadata": {},
     "output_type": "display_data"
    },
    {
     "data": {
      "text/html": [
       "<ol><li>Bring 1 3/4 cups of water to a boil in a 2-quart pot. Add brown rice, cover and  cook over low heat for 50 minutes.</li><li>In a large pot, heat oil over medium heat and add chopped vegetables and the remaining water.</li><li>Cook until softened.</li><li>Add chicken broth, basil, parsley and pepper and cook over medium-high heat  until it comes to a boil.</li><li>Reduce heat to low, cover and cook 30 minutes.</li><li>Add  cooked brown rice and heat over low another 5 minutes.</li></ol>"
      ],
      "text/plain": [
       "<IPython.core.display.HTML object>"
      ]
     },
     "metadata": {},
     "output_type": "display_data"
    },
    {
     "data": {
      "text/html": [
       "<h2>General Tso's Chicken</h2>"
      ],
      "text/plain": [
       "<IPython.core.display.HTML object>"
      ]
     },
     "metadata": {},
     "output_type": "display_data"
    },
    {
     "data": {
      "text/html": [
       "<h3>Ingredients:</h3>"
      ],
      "text/plain": [
       "<IPython.core.display.HTML object>"
      ]
     },
     "metadata": {},
     "output_type": "display_data"
    },
    {
     "data": {
      "text/html": [
       "<ul><li>boneless chicken breast: 3/4</li><li>dark soy sauce: 2</li><li>gingerroot: 1</li><li>cornstarch: 1</li><li>roasted sichuan peppercorn: 1</li><li>dark soy sauce: 1/3</li><li>salt: 2</li><li>sugar: 1</li></ul>"
      ],
      "text/plain": [
       "<IPython.core.display.HTML object>"
      ]
     },
     "metadata": {},
     "output_type": "display_data"
    },
    {
     "data": {
      "text/html": [
       "<h3>Instructions:</h3>"
      ],
      "text/plain": [
       "<IPython.core.display.HTML object>"
      ]
     },
     "metadata": {},
     "output_type": "display_data"
    },
    {
     "data": {
      "text/html": [
       "<ol><li>CUT CHICKEN INTO THIN SLICES 2 inches long, cutting against the grain.</li><li>Put it  into a bowl together with the soy sauce, ginger, cornstarch and 1 teaspoon  sesame oil.</li><li>Mix well, and then let the mixture marinate for about 20 minutes.</li><li>Heat the oil in a wok or large skillet until it is very hot. Remove the chicken  from the marinade with a slotted spoon.</li><li>Add it to the pan and stir-fry it for 2 minutes until it br owns.</li><li>Remove it and  leave to drain in a colander or sieve. Pour off most of the oil, leaving about 2 teaspoons.</li><li>Reheat the pan over a high heat and then add the  dried chiles.</li><li>Stir-fry them for 10 seconds, and then return the chicken to the  pan.</li><li>Add the rest of the ingredients and stir-fry for 4 minutes, mixing well.</li><li>Serve the dish at once.</li></ol>"
      ],
      "text/plain": [
       "<IPython.core.display.HTML object>"
      ]
     },
     "metadata": {},
     "output_type": "display_data"
    },
    {
     "data": {
      "text/html": [
       "<h2>Bobota</h2>"
      ],
      "text/plain": [
       "<IPython.core.display.HTML object>"
      ]
     },
     "metadata": {},
     "output_type": "display_data"
    },
    {
     "data": {
      "text/html": [
       "<h3>Ingredients:</h3>"
      ],
      "text/plain": [
       "<IPython.core.display.HTML object>"
      ]
     },
     "metadata": {},
     "output_type": "display_data"
    },
    {
     "data": {
      "text/html": [
       "<ul><li>butter: 1/2</li><li>sugar: 6</li><li>eggs: 6</li><li>milk: 2</li><li>baking powder: 1 1/4</li><li>salt: 2</li><li>water: 1</li><li>sugar: 1/2 - 2</li><li>lemons: 2 1/2</li><li>cinnamon stick: 3</li></ul>"
      ],
      "text/plain": [
       "<IPython.core.display.HTML object>"
      ]
     },
     "metadata": {},
     "output_type": "display_data"
    },
    {
     "data": {
      "text/html": [
       "<h3>Instructions:</h3>"
      ],
      "text/plain": [
       "<IPython.core.display.HTML object>"
      ]
     },
     "metadata": {},
     "output_type": "display_data"
    },
    {
     "data": {
      "text/html": [
       "<ol><li>Cake: Cream butter and then cream in sugar with 6 beaten egg yolks.</li><li>Add the muffin mix, milk, baking powder, salt and extract. Stir well by hand ( not with mixer ). Beat egg whites stiff and fold into mixture. Place mixture in a greased 10 x 14 inch pan.</li><li>Bake on a 350F oven about 40 minutes or tested done. Remove from oven and cool in pan until warm.</li><li>Cut into squares or diamonds.</li><li>Pour on hot syrup.</li><li>Sprinkle with almonds.Garnish with maraschino cherries.</li><li>Note: make syrup while cake is baking.</li><li>Bring all syrup ingredients to a boil and boil until a thickened syrup.( maybe about 20 minutes  or less )</li></ol>"
      ],
      "text/plain": [
       "<IPython.core.display.HTML object>"
      ]
     },
     "metadata": {},
     "output_type": "display_data"
    },
    {
     "data": {
      "text/html": [
       "<h2>Sloppy Joes</h2>"
      ],
      "text/plain": [
       "<IPython.core.display.HTML object>"
      ]
     },
     "metadata": {},
     "output_type": "display_data"
    },
    {
     "data": {
      "text/html": [
       "<h3>Ingredients:</h3>"
      ],
      "text/plain": [
       "<IPython.core.display.HTML object>"
      ]
     },
     "metadata": {},
     "output_type": "display_data"
    },
    {
     "data": {
      "text/html": [
       "<ul><li>extra lean beef: 8</li><li>onion: 1</li><li>green bell pepper: 1</li><li>garlic: 1</li><li>water: 8</li><li>vinegar: 1/4</li><li>brown sugar: 2</li><li>chili powder: 1</li><li>Worcestershire sauce: 2</li><li>salt: 1 1/2</li><li>Tabasco sauce: 1</li></ul>"
      ],
      "text/plain": [
       "<IPython.core.display.HTML object>"
      ]
     },
     "metadata": {},
     "output_type": "display_data"
    },
    {
     "data": {
      "text/html": [
       "<h3>Instructions:</h3>"
      ],
      "text/plain": [
       "<IPython.core.display.HTML object>"
      ]
     },
     "metadata": {},
     "output_type": "display_data"
    },
    {
     "data": {
      "text/html": [
       "<ol><li>Cook and stir ground beef, onion, green pepper, and garlic in a large skillet over medium-high heat until beef is brown.</li><li>Drain fat.</li><li>Stir in undrained tomatoes, water, oat bran, vinegar, brown sugar, chili powder, Worcestershire sauce, salt and Tabasco sauce.</li><li>Bring to boiling; reduce heat.</li><li>Simmer covered, for 5 minutes more or until mixture is desired consistency.</li><li>Spoon mixture onto hamburger buns.</li></ol>"
      ],
      "text/plain": [
       "<IPython.core.display.HTML object>"
      ]
     },
     "metadata": {},
     "output_type": "display_data"
    },
    {
     "data": {
      "text/html": [
       "<h2>Slow-Simmered Chicken</h2>"
      ],
      "text/plain": [
       "<IPython.core.display.HTML object>"
      ]
     },
     "metadata": {},
     "output_type": "display_data"
    },
    {
     "data": {
      "text/html": [
       "<h3>Ingredients:</h3>"
      ],
      "text/plain": [
       "<IPython.core.display.HTML object>"
      ]
     },
     "metadata": {},
     "output_type": "display_data"
    },
    {
     "data": {
      "text/html": [
       "<ul><li>chicken: 1 1/2 - 2</li><li>salt: 2</li><li>ginger: 3 -4</li><li>onions: 1</li><li>Chinese cabbage: 2</li><li>savoy cabbage: 3</li></ul>"
      ],
      "text/plain": [
       "<IPython.core.display.HTML object>"
      ]
     },
     "metadata": {},
     "output_type": "display_data"
    },
    {
     "data": {
      "text/html": [
       "<h3>Instructions:</h3>"
      ],
      "text/plain": [
       "<IPython.core.display.HTML object>"
      ]
     },
     "metadata": {},
     "output_type": "display_data"
    },
    {
     "data": {
      "text/html": [
       "<ol><li>Blanch chicken in boiling water 6 minutes, skimming any scum from the surface.   Drain well.</li><li>Rub it inside and out with the salt and stuff with a mixture of the  ginger, crumbled stock cube, onion and gherkins.</li><li>Put the stuffed chicken in a  flameproof casserole with 5 cups water.</li><li>Bring to the boil; then put the  casserole in the oven, preheated to 180 C.</li><li>Cook for 1 hour 20 minutes, turning  the chicken once.  Take the chicken out and arrange the cabbage wedges in the  liquid place the chicken on top.</li><li>Return the casserole to the oven and cook for  a further 40 minutes, Serve straight from the casserole or from a large warmed  tureen.</li></ol>"
      ],
      "text/plain": [
       "<IPython.core.display.HTML object>"
      ]
     },
     "metadata": {},
     "output_type": "display_data"
    },
    {
     "data": {
      "text/html": [
       "<h2>Sorrel Soup</h2>"
      ],
      "text/plain": [
       "<IPython.core.display.HTML object>"
      ]
     },
     "metadata": {},
     "output_type": "display_data"
    },
    {
     "data": {
      "text/html": [
       "<h3>Ingredients:</h3>"
      ],
      "text/plain": [
       "<IPython.core.display.HTML object>"
      ]
     },
     "metadata": {},
     "output_type": "display_data"
    },
    {
     "data": {
      "text/html": [
       "<ul><li>butter: 1</li><li>extra virgin olive oil: 2</li><li>yellow onion: 1</li><li>fresh sorrel leaves: 4</li><li>salt: 1</li><li>flour: 3</li><li>pepper: 5</li><li>extra virgin olive oil: 2</li></ul>"
      ],
      "text/plain": [
       "<IPython.core.display.HTML object>"
      ]
     },
     "metadata": {},
     "output_type": "display_data"
    },
    {
     "data": {
      "text/html": [
       "<h3>Instructions:</h3>"
      ],
      "text/plain": [
       "<IPython.core.display.HTML object>"
      ]
     },
     "metadata": {},
     "output_type": "display_data"
    },
    {
     "data": {
      "text/html": [
       "<ol><li>In a large, heavy-bottomed saucepan, heat the butter and olive oil over medium</li><li>heat. Add the chopped onion, reduce heat  to low heat and cook slowly until the  onion are translucent.  Meanwhile, roll the sorrel leaves into a tight bunch  and, with a very sharp knife, slice into fine strips (julienne). Set aside half  the leaves.</li><li>Add the other half to the pot with the onions, sprinkle the flour  and salt over them and stir to combine. Increase the heat to medium and cook for a few minutes until the sorrel are wilted.</li><li>Gradually whisk in the hot stock and  let simmer for a further 10 minutes.</li><li>Pour the soup into a blender and puree  until smooth.</li><li>Add half the reserved sorrel leaves to the soup and puree again.</li><li>Taste and season with pepper and more salt if needed.return to the saucepan aver low heat.  In a small bowl, whisk together the egg yolks and cream.</li><li>Stir about a cup of hot soup into the cream mixture and gradually whisk it all back into the  pot. Stir in the mixture over medium heat for a few minutes until the soup  thickens slightly.</li><li>Do not let it come to a boil or the yolks will curdle.  To  serve, divide the remaining sorrel leaves into 4 deep bowls.</li><li>Pour a ladle of  soup over the leaves.</li><li>Drizzle some olive oil on to the soup and serve  immediately.</li><li>-----</li></ol>"
      ],
      "text/plain": [
       "<IPython.core.display.HTML object>"
      ]
     },
     "metadata": {},
     "output_type": "display_data"
    },
    {
     "data": {
      "text/html": [
       "<h2>Herbed Pizza Crust</h2>"
      ],
      "text/plain": [
       "<IPython.core.display.HTML object>"
      ]
     },
     "metadata": {},
     "output_type": "display_data"
    },
    {
     "data": {
      "text/html": [
       "<img src=\"https://img.sndimg.com/food/image/upload/w_555,h_416,c_fit,fl_progressive,q_95/v1/img/recipes/26/11/pic9lfxDd.jpg\" width=\"400\"/>"
      ],
      "text/plain": [
       "<IPython.core.display.Image object>"
      ]
     },
     "metadata": {},
     "output_type": "display_data"
    },
    {
     "data": {
      "text/html": [
       "<h3>Ingredients:</h3>"
      ],
      "text/plain": [
       "<IPython.core.display.HTML object>"
      ]
     },
     "metadata": {},
     "output_type": "display_data"
    },
    {
     "data": {
      "text/html": [
       "<ul><li>water: 2/3</li><li>salt: 1/2</li><li>all-purpose flour: 2 1/4</li><li>bread flour: 1</li><li>sugar: 1</li><li>dried rosemary leaves: 1/2</li><li>dried oregano leaves: 1/4</li><li>black pepper: 1/4</li><li>dried thyme leaves: 2</li><li>active dry yeast: 1</li></ul>"
      ],
      "text/plain": [
       "<IPython.core.display.HTML object>"
      ]
     },
     "metadata": {},
     "output_type": "display_data"
    },
    {
     "data": {
      "text/html": [
       "<h3>Instructions:</h3>"
      ],
      "text/plain": [
       "<IPython.core.display.HTML object>"
      ]
     },
     "metadata": {},
     "output_type": "display_data"
    },
    {
     "data": {
      "text/html": [
       "<ol><li>Measure carefully, placing all ingredients except cornmeal in bread machine pan in order specified by owner manual.</li><li>Program dough cycle setting; Press start.</li><li>When dough is finished, remove dough from bread machine and let it rest 2 - 3 minutes.</li><li>Pat and gently stretch dough from edges until dough seems to not stretch anymore.  Let rest 2-3 minutes more.  Continue patting and stretching until dough is 12 - 14 inches in diameter.</li><li>Spray 12-14 inch pizza pan with cooking spray; Sprinkle with cornmeal, if desired.</li><li>Press dough into pan; Cover with towel and let stand in warm place for about 10 minutes  ***  I have added toppings with the dough from here and baked and it's great! But the recipe continues on -- ***</li><li>Position oven rack in lowest position; Preheat oven at 500°F Prick crust with fork at 2 inch intervals, Bake 4 - 5 minutes or until top is dry but not yet golden.</li><li>Remove from oven.</li><li>Follow topping and baking directions for individual recipes.</li><li>Makes 1 thick 12-inch crust or 1 medium-thick 14 inch crust. *** I've also been known to add garlic to this recipe.*** Enjoy!</li></ol>"
      ],
      "text/plain": [
       "<IPython.core.display.HTML object>"
      ]
     },
     "metadata": {},
     "output_type": "display_data"
    },
    {
     "data": {
      "text/html": [
       "<h2>Sour Cream Raisin Pie II</h2>"
      ],
      "text/plain": [
       "<IPython.core.display.HTML object>"
      ]
     },
     "metadata": {},
     "output_type": "display_data"
    },
    {
     "data": {
      "text/html": [
       "<h3>Ingredients:</h3>"
      ],
      "text/plain": [
       "<IPython.core.display.HTML object>"
      ]
     },
     "metadata": {},
     "output_type": "display_data"
    },
    {
     "data": {
      "text/html": [
       "<ul><li>all-purpose flour: 1 1/2</li><li>salt: 3/4</li><li>canola oil: 1/2</li><li>milk: 3</li><li>dark raisin: 1</li><li>sugar: 3</li><li>all-purpose flour: 1</li><li>salt: 6</li><li>milk: 1/4</li><li>sour cream: 2</li><li>unsalted butter: 3/4</li><li>vanilla extract: 1/4</li><li>granulated sugar: 1</li><li>salt: 3</li><li>cream of tartar: 6</li><li>vanilla extract: 1/4</li></ul>"
      ],
      "text/plain": [
       "<IPython.core.display.HTML object>"
      ]
     },
     "metadata": {},
     "output_type": "display_data"
    },
    {
     "data": {
      "text/html": [
       "<h3>Instructions:</h3>"
      ],
      "text/plain": [
       "<IPython.core.display.HTML object>"
      ]
     },
     "metadata": {},
     "output_type": "display_data"
    },
    {
     "data": {
      "text/html": [
       "<ol><li>Cover raisins with 1 cup of boiling water, let stand 5 minutes.</li><li>Drain.</li><li>Separate egg yolks from whites, set whites aside for meringue.   PASTRY:   In a large mixing bowl, combine flour and salt.  In measuring cup,    measure oil and add milk.</li><li>Do not stir.</li><li>Pour oil and milk all at once    into flour mixture.  Stir with a fork until well-combined and mixture    comes together in a mass.</li><li>Shape mixture into a ball and roll between    sheets of plastic wrap.</li><li>Peel plastic wrap off of top of pastry, and    invert pastry into 9\\</li><li>Crimp edge and flute.  Bake pastry in      425 degree F.</li><li>oven 12-15 minutes or until lightly browned.</li><li>Cool on    wire rack.</li><li>FILLING:   In a saucepan, combine sugar, flour and salt.  Gradually stir in milk.</li><li>Cook and stir until mixture is thick and bubbly.</li><li>Reduce heat.  Cook    and stir 2 minutes more.  Remove from heat.  Beat egg yolks slightly.</li><li>Gradually stir about 1 cup of the hot mixture into yolks.</li><li>Return    mixture to saucepan.</li><li>Return to a gentle boil; cook and stir 2 minutes    more. Remove from heat; add sour cream, butter, vanilla extract and    drained raisins.</li><li>Stir just until mixed; do not overmix.</li><li>Pour hot    filling into pie crust.   MERINGUE:   Combine egg whites, sugar, salt and cream of tartar.</li><li>Stir until sugar    is dissolved.</li><li>Beat at high speed until mixture holds soft peaks.</li><li>Add   vanilla extract.  Beat until mixture holds stiff peaks.</li><li>Spread    meringue over hot filling, sealing to edge.  Bake in 425 degree F. oven    for 4 minutes.</li><li>Cool, cover, and chill to store. -----</li></ol>"
      ],
      "text/plain": [
       "<IPython.core.display.HTML object>"
      ]
     },
     "metadata": {},
     "output_type": "display_data"
    },
    {
     "data": {
      "text/html": [
       "<h2>Spaghetti With Pilchards</h2>"
      ],
      "text/plain": [
       "<IPython.core.display.HTML object>"
      ]
     },
     "metadata": {},
     "output_type": "display_data"
    },
    {
     "data": {
      "text/html": [
       "<h3>Ingredients:</h3>"
      ],
      "text/plain": [
       "<IPython.core.display.HTML object>"
      ]
     },
     "metadata": {},
     "output_type": "display_data"
    },
    {
     "data": {
      "text/html": [
       "<ul><li>spaghetti: 14</li><li>wild fennel: 10</li><li>raisins: 3 1/2</li><li>anchovy fillets: 1</li><li>extra virgin olive oil: 3/4</li></ul>"
      ],
      "text/plain": [
       "<IPython.core.display.HTML object>"
      ]
     },
     "metadata": {},
     "output_type": "display_data"
    },
    {
     "data": {
      "text/html": [
       "<h3>Instructions:</h3>"
      ],
      "text/plain": [
       "<IPython.core.display.HTML object>"
      ]
     },
     "metadata": {},
     "output_type": "display_data"
    },
    {
     "data": {
      "text/html": [
       "<ol><li>Wash well and finely chop the wild fennel.</li><li>Brown the chopped onion in a pan with abundant extra virgin olive oil, adding the fennel, the pine seeds, the raisins (which have been softened in lukewarm water then drained) and the anchovy fillets.</li><li>After a few minutes add the pilchards, which have been cleaned and boned and a little warm water; salt and pepper and bring the cooking to an end.</li><li>Boil the spaghetti in abundant salted water strain once they have reached optimum, firm consistency and flavor with the fish sauce.</li><li>Good appetite, from Franco B.</li></ol>"
      ],
      "text/plain": [
       "<IPython.core.display.HTML object>"
      ]
     },
     "metadata": {},
     "output_type": "display_data"
    },
    {
     "data": {
      "text/html": [
       "<h2>Beef, Pepper & Mushroom Kabobs</h2>"
      ],
      "text/plain": [
       "<IPython.core.display.HTML object>"
      ]
     },
     "metadata": {},
     "output_type": "display_data"
    },
    {
     "data": {
      "text/html": [
       "<img src=\"https://img.sndimg.com/food/image/upload/w_555,h_416,c_fit,fl_progressive,q_95/v1/img/recipes/26/33/piczhdVHy.jpg\" width=\"400\"/>"
      ],
      "text/plain": [
       "<IPython.core.display.Image object>"
      ]
     },
     "metadata": {},
     "output_type": "display_data"
    },
    {
     "data": {
      "text/html": [
       "<h3>Ingredients:</h3>"
      ],
      "text/plain": [
       "<IPython.core.display.HTML object>"
      ]
     },
     "metadata": {},
     "output_type": "display_data"
    },
    {
     "data": {
      "text/html": [
       "<ul><li>boneless beef top sirloin steak: 1</li><li>red bell peppers: 1</li><li>yellow bell pepper: 12</li><li>mushrooms: 1</li><li>salt: 1/4</li><li>fresh lemon juice: 1</li><li>olive oil: 1</li><li>water: 1</li><li>dijon-style mustard: 2</li><li>honey: 1</li><li>dried oregano leaves: 1/2</li><li>pepper: 1/4</li></ul>"
      ],
      "text/plain": [
       "<IPython.core.display.HTML object>"
      ]
     },
     "metadata": {},
     "output_type": "display_data"
    },
    {
     "data": {
      "text/html": [
       "<h3>Instructions:</h3>"
      ],
      "text/plain": [
       "<IPython.core.display.HTML object>"
      ]
     },
     "metadata": {},
     "output_type": "display_data"
    },
    {
     "data": {
      "text/html": [
       "<ol><li>Trim fat from beef steak; cut into 1 1/4-inch pieces.</li><li>In large bowl, whisk together seasoning ingredients; add beef, bell pepper and mushrooms, tossing to coat. Alternately thread pieces of beef, bell pepper and mushrooms on each of four 12-inch metal skewers.</li><li>Prepare rice according to package directions; keep warm.</li><li>Meanwhile, place kabobs on rack in broiler pan so surface of meat is 3 to 4 inches from heat. Broil 9 to 12 minutes for medium rare to medium doneness, turning occasionally.</li><li>Season with salt. Serve kabobs with rice. Makes 4 servings (serving size; 1 kabob and 3/4 cup rice) Total preparation and cooking time: 30 minutes Cook's Tip: To grill, place kabobs on grid over medium, ash-covered cools.</li><li>Grill kabobs, uncovered, 8 to 11 minutes for medium rare to medium doneness, turning occasionally; season with salt.</li></ol>"
      ],
      "text/plain": [
       "<IPython.core.display.HTML object>"
      ]
     },
     "metadata": {},
     "output_type": "display_data"
    },
    {
     "data": {
      "text/html": [
       "<h2>Tame Kimchi</h2>"
      ],
      "text/plain": [
       "<IPython.core.display.HTML object>"
      ]
     },
     "metadata": {},
     "output_type": "display_data"
    },
    {
     "data": {
      "text/html": [
       "<img src=\"https://img.sndimg.com/food/image/upload/w_555,h_416,c_fit,fl_progressive,q_95/v1/img/recipes/26/45/piccCVMsq.jpg\" width=\"400\"/>"
      ],
      "text/plain": [
       "<IPython.core.display.Image object>"
      ]
     },
     "metadata": {},
     "output_type": "display_data"
    },
    {
     "data": {
      "text/html": [
       "<h3>Ingredients:</h3>"
      ],
      "text/plain": [
       "<IPython.core.display.HTML object>"
      ]
     },
     "metadata": {},
     "output_type": "display_data"
    },
    {
     "data": {
      "text/html": [
       "<ul><li>red onion: 1/2</li><li>carrots: 2</li><li>napa cabbage: 1 1/4 - 1 1/2</li><li>kosher salt: 1/4</li><li>sea salt: 5 -6</li><li>garlic: 1</li><li>fresh ginger: 1 -3</li><li>hot chili sauce: 2</li><li>sugar: 3</li><li>rice vinegar: 2</li></ul>"
      ],
      "text/plain": [
       "<IPython.core.display.HTML object>"
      ]
     },
     "metadata": {},
     "output_type": "display_data"
    },
    {
     "data": {
      "text/html": [
       "<h3>Instructions:</h3>"
      ],
      "text/plain": [
       "<IPython.core.display.HTML object>"
      ]
     },
     "metadata": {},
     "output_type": "display_data"
    },
    {
     "data": {
      "text/html": [
       "<ol><li>In large bowl, combine the red onion, carrots, cabbage, and salt. Add just  enough water to cover the vegetables.</li><li>Let them sit at room temperature  overnight.  The next day, drain the vegetables.</li><li>Add the remaining ingredients,  and toss well.</li><li>Chill the salad for at least 1 hour before serving.</li><li>It will keep  in a sealed container in the refrigerator for up to 7 days.</li><li>Variation: This kimchi doesn't undergo a fermenting process, as real kimchi  does.</li><li>If you'd like to ferment this kimchi, omit the oil, and put the mixture  into a large sterilized jar.</li><li>Let the kimchi stand at room temperature for 2-4  days, opening the jar once a day to let out the gases that build up.</li><li>Store the  kimchi in the refrigerator after this period.</li><li>It will keep for several weeks.</li></ol>"
      ],
      "text/plain": [
       "<IPython.core.display.HTML object>"
      ]
     },
     "metadata": {},
     "output_type": "display_data"
    },
    {
     "data": {
      "text/html": [
       "<h2>Tiramisu II</h2>"
      ],
      "text/plain": [
       "<IPython.core.display.HTML object>"
      ]
     },
     "metadata": {},
     "output_type": "display_data"
    },
    {
     "data": {
      "text/html": [
       "<h3>Ingredients:</h3>"
      ],
      "text/plain": [
       "<IPython.core.display.HTML object>"
      ]
     },
     "metadata": {},
     "output_type": "display_data"
    },
    {
     "data": {
      "text/html": [
       "<ul><li>eggs: 3</li><li>water: 6</li><li>mascarpone: 8</li><li>sugar: 1</li><li>salt: 1/2</li><li>ladyfingers: 1/8</li><li>strong rich coffee: 14</li><li>cognac: 1</li></ul>"
      ],
      "text/plain": [
       "<IPython.core.display.HTML object>"
      ]
     },
     "metadata": {},
     "output_type": "display_data"
    },
    {
     "data": {
      "text/html": [
       "<h3>Instructions:</h3>"
      ],
      "text/plain": [
       "<IPython.core.display.HTML object>"
      ]
     },
     "metadata": {},
     "output_type": "display_data"
    },
    {
     "data": {
      "text/html": [
       "<ol><li>Combine egg yolks and water in heavy saucepan.</li><li>Cook over very low heat, whisking constantly, until mixture reaches 160 degrees, about 15 minutes.</li><li>Cool quickly in cold water bath or in freezer.</li><li>Stir mascarpone into yolks.</li><li>Combine 4 egg whites, sugar and salt in top of double boiler.</li><li>Cook over very low heat, beating with hand-held mixer on medium speed or with whisk until whites hold soft peaks and temperature reaches 160 degrees, about 20 minutes.</li><li>Stir 1/4 of whites into egg yolk mixture. Fold in remaining whites.</li><li>To assemble, arrange ladyfingers in single layer on piece of heavy-duty foil; slightly turn up foil edges to make a tray.</li><li>(You also can do this on a large platter.) Combine coffee and Cognac; drizzle evenly over ladyfingers.</li><li>Arrange half of ladyfingers in single layer in glass or souffle dish, about 6 1/2 inches in diameter and 3 to 4 inches deep.</li><li>Fill in any spaces with parts of ladyfingers.</li><li>Cover ladyfinger layer with half of mascarpone mixture. Top with remaining ladyfingers and remaining mascarpone mixture. Cover with plastic wrap.</li><li>Refrigerate overnight or up to 2 days.</li><li>Sprinkle cocoa through fine sieve over surface. Serve chilled.</li></ol>"
      ],
      "text/plain": [
       "<IPython.core.display.HTML object>"
      ]
     },
     "metadata": {},
     "output_type": "display_data"
    },
    {
     "data": {
      "text/html": [
       "<h2>Turkish Spinach and Lentil Soup</h2>"
      ],
      "text/plain": [
       "<IPython.core.display.HTML object>"
      ]
     },
     "metadata": {},
     "output_type": "display_data"
    },
    {
     "data": {
      "text/html": [
       "<img src=\"https://img.sndimg.com/food/image/upload/w_555,h_416,c_fit,fl_progressive,q_95/v1/img/recipes/26/63/Eup3L2MCSjXYS6m3MF4j_Turkish%20Spinach%20and%20Lentil%20Soup.jpg\" width=\"400\"/>"
      ],
      "text/plain": [
       "<IPython.core.display.Image object>"
      ]
     },
     "metadata": {},
     "output_type": "display_data"
    },
    {
     "data": {
      "text/html": [
       "<h3>Ingredients:</h3>"
      ],
      "text/plain": [
       "<IPython.core.display.HTML object>"
      ]
     },
     "metadata": {},
     "output_type": "display_data"
    },
    {
     "data": {
      "text/html": [
       "<ul><li>lentils: 1</li><li>nonfat beef broth: 5</li><li>salt: 1</li><li>olive oil: 1/4</li><li>onions: 2</li><li>cayenne: 1/4</li><li>bay leaves: 2</li><li>bulgur: 1/2</li><li>fresh parsley: 1/4</li><li>tomatoes: 2</li><li>tomato paste: 1/4</li><li>dried rosemary: 1</li><li>spinach: 2</li></ul>"
      ],
      "text/plain": [
       "<IPython.core.display.HTML object>"
      ]
     },
     "metadata": {},
     "output_type": "display_data"
    },
    {
     "data": {
      "text/html": [
       "<h3>Instructions:</h3>"
      ],
      "text/plain": [
       "<IPython.core.display.HTML object>"
      ]
     },
     "metadata": {},
     "output_type": "display_data"
    },
    {
     "data": {
      "text/html": [
       "<ol><li>Rinse the lentils.</li><li>Bring them to a boil in the beef broth.</li><li>Reduce heat and  simmer, covered, for 40 minutes.</li><li>Meanwhile, heat the olive oil in a heavy soup  pot.  Saute the onions until translucent.  Add the garlic, cayeene, bay leaves  and bulgur.</li><li>Stir the mixture on medium heat until the onions and bulgur are  lightly browned.</li><li>Mix in the parsley and tomatoes.</li><li>When the tomatoes begin to  give up their juice, gently stir in the tomato paste.  Pour the lentils and  their liquid into the soup pot with the onions and bulgur.</li><li>Simmer the soup for  15 minutes.</li><li>Add the rosemary, salt and pepper to taste.  If the lentils and  bulgur have absorbed too much liquid, add more broth, water or tomato juice.   Remove the bay leaves.</li><li>Just before serving, stir in the fresh spinach and let  it wilt in the hot soup.</li><li>Garnish with more fresh parsley.</li><li>NOTES : Serve this soup with crusty bread.</li><li>Broil the bread on both sides,  rubbed with a cut garlic clove, and drizzled with olive oil.</li></ol>"
      ],
      "text/plain": [
       "<IPython.core.display.HTML object>"
      ]
     },
     "metadata": {},
     "output_type": "display_data"
    }
   ],
   "source": [
    "\n",
    "## TODO: output recipes with high matching scores, output their photo, name, ingredients, and instructions\n",
    "\n",
    "#display recipes with high matching scores\n",
    "def display_high_matching_recipes(df, score_threshold=5):\n",
    "    high_matching_recipes = df[df['MatchScore'] >= score_threshold]\n",
    "    \n",
    "    for index, row in high_matching_recipes.iterrows():\n",
    "        # Recipe name\n",
    "        display(HTML(f\"<h2>{row['Name']}</h2>\"))\n",
    "        \n",
    "        # Recipe image\n",
    "        if isinstance(row['Images'], list) and len(row['Images']) > 0:\n",
    "            display(IPImage(url=row['Images'][0], width=400))\n",
    "        \n",
    "        # Ingredients\n",
    "        display(HTML(\"<h3>Ingredients:</h3>\"))\n",
    "        ingredients_with_quantities = zip(row['RecipeIngredientParts'], row['RecipeIngredientQuantities'])\n",
    "        ingredient_list_html = \"<ul>\"\n",
    "        for ingredient, quantity in ingredients_with_quantities:\n",
    "            if quantity:\n",
    "                ingredient_list_html += f\"<li>{ingredient}: {quantity}</li>\"\n",
    "            else:\n",
    "                ingredient_list_html += f\"<li>{ingredient}</li>\"\n",
    "        ingredient_list_html += \"</ul>\"\n",
    "        display(HTML(ingredient_list_html))\n",
    "        \n",
    "        # Instructions\n",
    "        display(HTML(\"<h3>Instructions:</h3>\"))\n",
    "        instructions = row['RecipeInstructions']\n",
    "        instruction_list_html = \"<ol>\"\n",
    "        for instruction in instructions:\n",
    "            instruction_list_html += f\"<li>{instruction.strip()}</li>\"\n",
    "        instruction_list_html += \"</ol>\"\n",
    "        display(HTML(instruction_list_html))\n",
    "\n",
    "# Display recipes with high match scores\n",
    "display_high_matching_recipes(clean_recipe_df, score_threshold=9)"
   ]
  }
 ],
 "metadata": {
  "kernelspec": {
   "display_name": "Python 3",
   "language": "python",
   "name": "python3"
  },
  "language_info": {
   "codemirror_mode": {
    "name": "ipython",
    "version": 3
   },
   "file_extension": ".py",
   "mimetype": "text/x-python",
   "name": "python",
   "nbconvert_exporter": "python",
   "pygments_lexer": "ipython3",
   "version": "3.9.13"
  }
 },
 "nbformat": 4,
 "nbformat_minor": 2
}
