{
 "cells": [
  {
   "cell_type": "code",
   "execution_count": null,
   "metadata": {},
   "outputs": [],
   "source": [
    "import pandas as pd\n",
    "import numpy as np\n",
    "import seaborn as sns\n",
    "import matplotlib.pyplot as plt\n",
    "from sklearn.preprocessing import LabelEncoder\n",
    "\n",
    "## see FoodData_Central_csv_2024-04-02 for all csv files, dont know which are valuable yet"
   ]
  }
 ],
 "metadata": {
  "kernelspec": {
   "display_name": "py11_DBMS",
   "language": "python",
   "name": "py11_dbms"
  },
  "language_info": {
   "name": "python",
   "version": "3.11.9"
  }
 },
 "nbformat": 4,
 "nbformat_minor": 2
}
